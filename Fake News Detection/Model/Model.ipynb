{
  "cells": [
    {
      "cell_type": "markdown",
      "metadata": {
        "id": "5UNSIIVo-2NI"
      },
      "source": [
        "![image.png](https://th.thgim.com/opinion/op-ed/x9sol6/article29451786.ece/ALTERNATES/FREE_660/Fake-news)\n",
        "\n",
        "\n",
        "Hi, in this project we will classifying news on wheather it is reliable(0) or unreliable(1) using Fake News Dataset from [kaggle](https://www.kaggle.com/c/fake-news/data?select=train.csv)"
      ]
    },
    {
      "cell_type": "markdown",
      "metadata": {
        "id": "LX--S25a-ZaI"
      },
      "source": [
        "## **Let's start by installing required libraries**"
      ]
    },
    {
      "cell_type": "code",
      "execution_count": 1,
      "metadata": {
        "id": "Q48uzr5A4-eR"
      },
      "outputs": [],
      "source": [
        "!pip install  pandas numpy seaborn matplotlib nltk  --quiet --upgrade"
      ]
    },
    {
      "cell_type": "markdown",
      "metadata": {
        "id": "LrH1ARRkAGNx"
      },
      "source": [
        "## **Loading and preparing the dataset for EDA and Training**"
      ]
    },
    {
      "cell_type": "code",
      "execution_count": 2,
      "metadata": {
        "id": "9JSFZFEHAzZc"
      },
      "outputs": [],
      "source": [
        "import pandas as pd\n",
        "import numpy as np"
      ]
    },
    {
      "cell_type": "code",
      "execution_count": 3,
      "metadata": {
        "id": "wr5aD7FYA8dN"
      },
      "outputs": [],
      "source": [
        "train_df = pd.read_csv('../Dataset/fake-news/train.csv')\n",
        "test_df = pd.read_csv('../Dataset/fake-news/test.csv')\n",
        "submit_df = pd.read_csv('../Dataset/fake-news/submit.csv')"
      ]
    },
    {
      "cell_type": "code",
      "execution_count": 4,
      "metadata": {
        "colab": {
          "base_uri": "https://localhost:8080/"
        },
        "id": "I_0BrT3RBKl9",
        "outputId": "e9ba33c6-5188-40fc-a2b7-be73184b38b3"
      },
      "outputs": [
        {
          "name": "stdout",
          "output_type": "stream",
          "text": [
            "<class 'pandas.core.frame.DataFrame'>\n",
            "RangeIndex: 20800 entries, 0 to 20799\n",
            "Data columns (total 5 columns):\n",
            " #   Column  Non-Null Count  Dtype \n",
            "---  ------  --------------  ----- \n",
            " 0   id      20800 non-null  int64 \n",
            " 1   title   20242 non-null  object\n",
            " 2   author  18843 non-null  object\n",
            " 3   text    20761 non-null  object\n",
            " 4   label   20800 non-null  int64 \n",
            "dtypes: int64(2), object(3)\n",
            "memory usage: 812.6+ KB\n"
          ]
        }
      ],
      "source": [
        "train_df.info()"
      ]
    },
    {
      "cell_type": "code",
      "execution_count": 5,
      "metadata": {
        "colab": {
          "base_uri": "https://localhost:8080/"
        },
        "id": "NyA6Q6DzBasO",
        "outputId": "e4becc97-b9a0-4568-9e0c-c438b40ab90c"
      },
      "outputs": [
        {
          "name": "stdout",
          "output_type": "stream",
          "text": [
            "<class 'pandas.core.frame.DataFrame'>\n",
            "RangeIndex: 5200 entries, 0 to 5199\n",
            "Data columns (total 4 columns):\n",
            " #   Column  Non-Null Count  Dtype \n",
            "---  ------  --------------  ----- \n",
            " 0   id      5200 non-null   int64 \n",
            " 1   title   5078 non-null   object\n",
            " 2   author  4697 non-null   object\n",
            " 3   text    5193 non-null   object\n",
            "dtypes: int64(1), object(3)\n",
            "memory usage: 162.6+ KB\n"
          ]
        }
      ],
      "source": [
        "test_df.info()"
      ]
    },
    {
      "cell_type": "code",
      "execution_count": 6,
      "metadata": {
        "colab": {
          "base_uri": "https://localhost:8080/"
        },
        "id": "245ENbuvB37h",
        "outputId": "70e75c2f-a45c-47fa-f51c-decd4a8ebd30"
      },
      "outputs": [
        {
          "name": "stdout",
          "output_type": "stream",
          "text": [
            "<class 'pandas.core.frame.DataFrame'>\n",
            "RangeIndex: 5200 entries, 0 to 5199\n",
            "Data columns (total 2 columns):\n",
            " #   Column  Non-Null Count  Dtype\n",
            "---  ------  --------------  -----\n",
            " 0   id      5200 non-null   int64\n",
            " 1   label   5200 non-null   int64\n",
            "dtypes: int64(2)\n",
            "memory usage: 81.4 KB\n"
          ]
        }
      ],
      "source": [
        "submit_df.info()"
      ]
    },
    {
      "cell_type": "markdown",
      "metadata": {
        "id": "qB1eGf51CCui"
      },
      "source": [
        "## **Exploratory Data Analysis**"
      ]
    },
    {
      "cell_type": "code",
      "execution_count": 7,
      "metadata": {
        "id": "WG9O3dGIGkV1"
      },
      "outputs": [],
      "source": [
        "import seaborn as sns\n",
        "import matplotlib.pyplot as plt\n",
        "import matplotlib\n",
        "\n",
        "sns.set_style('darkgrid')\n",
        "matplotlib.rcParams['font.size']= 15\n",
        "matplotlib.rcParams['figure.figsize']= (10, 5)\n",
        "matplotlib.rcParams['figure.facecolor']= '#00000000'"
      ]
    },
    {
      "cell_type": "code",
      "execution_count": 8,
      "metadata": {
        "colab": {
          "base_uri": "https://localhost:8080/"
        },
        "id": "HXHY1-hVB8lW",
        "outputId": "65011b37-32c4-4895-c3f3-5cfbadc85f8e"
      },
      "outputs": [
        {
          "name": "stdout",
          "output_type": "stream",
          "text": [
            "<class 'pandas.core.frame.DataFrame'>\n",
            "RangeIndex: 20800 entries, 0 to 20799\n",
            "Data columns (total 5 columns):\n",
            " #   Column  Non-Null Count  Dtype \n",
            "---  ------  --------------  ----- \n",
            " 0   id      20800 non-null  int64 \n",
            " 1   title   20242 non-null  object\n",
            " 2   author  18843 non-null  object\n",
            " 3   text    20761 non-null  object\n",
            " 4   label   20800 non-null  int64 \n",
            "dtypes: int64(2), object(3)\n",
            "memory usage: 812.6+ KB\n"
          ]
        }
      ],
      "source": [
        "train_df.info()"
      ]
    },
    {
      "cell_type": "code",
      "execution_count": 9,
      "metadata": {
        "colab": {
          "base_uri": "https://localhost:8080/",
          "height": 206
        },
        "id": "HzH8-XZdCOVu",
        "outputId": "a7b60252-76bd-4ff8-97df-adc1233cdf60"
      },
      "outputs": [
        {
          "data": {
            "text/html": [
              "<div>\n",
              "<style scoped>\n",
              "    .dataframe tbody tr th:only-of-type {\n",
              "        vertical-align: middle;\n",
              "    }\n",
              "\n",
              "    .dataframe tbody tr th {\n",
              "        vertical-align: top;\n",
              "    }\n",
              "\n",
              "    .dataframe thead th {\n",
              "        text-align: right;\n",
              "    }\n",
              "</style>\n",
              "<table border=\"1\" class=\"dataframe\">\n",
              "  <thead>\n",
              "    <tr style=\"text-align: right;\">\n",
              "      <th></th>\n",
              "      <th>id</th>\n",
              "      <th>title</th>\n",
              "      <th>author</th>\n",
              "      <th>text</th>\n",
              "      <th>label</th>\n",
              "    </tr>\n",
              "  </thead>\n",
              "  <tbody>\n",
              "    <tr>\n",
              "      <th>0</th>\n",
              "      <td>0</td>\n",
              "      <td>House Dem Aide: We Didn’t Even See Comey’s Let...</td>\n",
              "      <td>Darrell Lucus</td>\n",
              "      <td>House Dem Aide: We Didn’t Even See Comey’s Let...</td>\n",
              "      <td>1</td>\n",
              "    </tr>\n",
              "    <tr>\n",
              "      <th>1</th>\n",
              "      <td>1</td>\n",
              "      <td>FLYNN: Hillary Clinton, Big Woman on Campus - ...</td>\n",
              "      <td>Daniel J. Flynn</td>\n",
              "      <td>Ever get the feeling your life circles the rou...</td>\n",
              "      <td>0</td>\n",
              "    </tr>\n",
              "    <tr>\n",
              "      <th>2</th>\n",
              "      <td>2</td>\n",
              "      <td>Why the Truth Might Get You Fired</td>\n",
              "      <td>Consortiumnews.com</td>\n",
              "      <td>Why the Truth Might Get You Fired October 29, ...</td>\n",
              "      <td>1</td>\n",
              "    </tr>\n",
              "    <tr>\n",
              "      <th>3</th>\n",
              "      <td>3</td>\n",
              "      <td>15 Civilians Killed In Single US Airstrike Hav...</td>\n",
              "      <td>Jessica Purkiss</td>\n",
              "      <td>Videos 15 Civilians Killed In Single US Airstr...</td>\n",
              "      <td>1</td>\n",
              "    </tr>\n",
              "    <tr>\n",
              "      <th>4</th>\n",
              "      <td>4</td>\n",
              "      <td>Iranian woman jailed for fictional unpublished...</td>\n",
              "      <td>Howard Portnoy</td>\n",
              "      <td>Print \\nAn Iranian woman has been sentenced to...</td>\n",
              "      <td>1</td>\n",
              "    </tr>\n",
              "  </tbody>\n",
              "</table>\n",
              "</div>"
            ],
            "text/plain": [
              "   id                                              title              author  \\\n",
              "0   0  House Dem Aide: We Didn’t Even See Comey’s Let...       Darrell Lucus   \n",
              "1   1  FLYNN: Hillary Clinton, Big Woman on Campus - ...     Daniel J. Flynn   \n",
              "2   2                  Why the Truth Might Get You Fired  Consortiumnews.com   \n",
              "3   3  15 Civilians Killed In Single US Airstrike Hav...     Jessica Purkiss   \n",
              "4   4  Iranian woman jailed for fictional unpublished...      Howard Portnoy   \n",
              "\n",
              "                                                text  label  \n",
              "0  House Dem Aide: We Didn’t Even See Comey’s Let...      1  \n",
              "1  Ever get the feeling your life circles the rou...      0  \n",
              "2  Why the Truth Might Get You Fired October 29, ...      1  \n",
              "3  Videos 15 Civilians Killed In Single US Airstr...      1  \n",
              "4  Print \\nAn Iranian woman has been sentenced to...      1  "
            ]
          },
          "execution_count": 9,
          "metadata": {},
          "output_type": "execute_result"
        }
      ],
      "source": [
        "train_df.head(5)"
      ]
    },
    {
      "cell_type": "markdown",
      "metadata": {
        "id": "lba3R7-ID5W_"
      },
      "source": [
        "\n",
        " ## **Note:**\n",
        "*In order to give more edge over performance to our model specially when using textual features we remove less meaningful data like stopwords(is,a), punctuations,white space and also do lower casing , assign a unique number to a word (tokeniztion) and soo much more in preprocessing step*\n",
        "\n",
        "*But before that let's explore the less meaningful data*"
      ]
    },
    {
      "cell_type": "markdown",
      "metadata": {
        "id": "JFr-mNdQK4Q_"
      },
      "source": [
        "## **Number of words in each text**"
      ]
    },
    {
      "cell_type": "code",
      "execution_count": 10,
      "metadata": {
        "id": "69y2Z6vTChZ2"
      },
      "outputs": [],
      "source": [
        "train_df['Word Count'] = train_df['text'].apply(lambda x: len(str(x).split(' '))) "
      ]
    },
    {
      "cell_type": "code",
      "execution_count": 11,
      "metadata": {
        "colab": {
          "base_uri": "https://localhost:8080/",
          "height": 206
        },
        "id": "ak81ybPSGvWa",
        "outputId": "3d17bd74-9ca3-4fb6-bf5d-b90c2999b6a3"
      },
      "outputs": [
        {
          "data": {
            "text/html": [
              "<div>\n",
              "<style scoped>\n",
              "    .dataframe tbody tr th:only-of-type {\n",
              "        vertical-align: middle;\n",
              "    }\n",
              "\n",
              "    .dataframe tbody tr th {\n",
              "        vertical-align: top;\n",
              "    }\n",
              "\n",
              "    .dataframe thead th {\n",
              "        text-align: right;\n",
              "    }\n",
              "</style>\n",
              "<table border=\"1\" class=\"dataframe\">\n",
              "  <thead>\n",
              "    <tr style=\"text-align: right;\">\n",
              "      <th></th>\n",
              "      <th>text</th>\n",
              "      <th>Word Count</th>\n",
              "    </tr>\n",
              "  </thead>\n",
              "  <tbody>\n",
              "    <tr>\n",
              "      <th>0</th>\n",
              "      <td>House Dem Aide: We Didn’t Even See Comey’s Let...</td>\n",
              "      <td>820</td>\n",
              "    </tr>\n",
              "    <tr>\n",
              "      <th>1</th>\n",
              "      <td>Ever get the feeling your life circles the rou...</td>\n",
              "      <td>727</td>\n",
              "    </tr>\n",
              "    <tr>\n",
              "      <th>2</th>\n",
              "      <td>Why the Truth Might Get You Fired October 29, ...</td>\n",
              "      <td>1266</td>\n",
              "    </tr>\n",
              "    <tr>\n",
              "      <th>3</th>\n",
              "      <td>Videos 15 Civilians Killed In Single US Airstr...</td>\n",
              "      <td>559</td>\n",
              "    </tr>\n",
              "    <tr>\n",
              "      <th>4</th>\n",
              "      <td>Print \\nAn Iranian woman has been sentenced to...</td>\n",
              "      <td>154</td>\n",
              "    </tr>\n",
              "  </tbody>\n",
              "</table>\n",
              "</div>"
            ],
            "text/plain": [
              "                                                text  Word Count\n",
              "0  House Dem Aide: We Didn’t Even See Comey’s Let...         820\n",
              "1  Ever get the feeling your life circles the rou...         727\n",
              "2  Why the Truth Might Get You Fired October 29, ...        1266\n",
              "3  Videos 15 Civilians Killed In Single US Airstr...         559\n",
              "4  Print \\nAn Iranian woman has been sentenced to...         154"
            ]
          },
          "execution_count": 11,
          "metadata": {},
          "output_type": "execute_result"
        }
      ],
      "source": [
        "train_df[['text','Word Count']].head(5) #word count also includes stop words here"
      ]
    },
    {
      "cell_type": "code",
      "execution_count": 12,
      "metadata": {
        "colab": {
          "base_uri": "https://localhost:8080/",
          "height": 364
        },
        "id": "SJuAjsaHGQIb",
        "outputId": "fb19ffe1-1705-4273-a603-604102934560"
      },
      "outputs": [
        {
          "data": {
            "image/png": "[encoded data removed]",
            "text/plain": [
              "<Figure size 720x360 with 1 Axes>"
            ]
          },
          "metadata": {
            "needs_background": "light"
          },
          "output_type": "display_data"
        }
      ],
      "source": [
        "sns.histplot(x='Word Count',data=train_df,hue='label',binrange=[0,2000],multiple='dodge')\n",
        "plt.ylabel('Number of words per label')\n",
        "plt.title('Distribution Of word count')\n",
        "plt.xlabel('Number of texts');"
      ]
    },
    {
      "cell_type": "markdown",
      "metadata": {
        "id": "i8JnAzETJfCc"
      },
      "source": [
        "\n",
        "\n",
        "*   The distribution of number of words in a text is not normal before preprocessing\n",
        "*   The number of words in unreliable(1) text are more than compared to number of words in reliable(0) text\n",
        "*   Distribution of reliable text looks somewhat even\n",
        "\n"
      ]
    },
    {
      "cell_type": "markdown",
      "metadata": {
        "id": "u9NHdz_hLfZk"
      },
      "source": [
        "## **Number of stop words**"
      ]
    },
    {
      "cell_type": "code",
      "execution_count": 13,
      "metadata": {},
      "outputs": [],
      "source": [
        "import nltk\n"
      ]
    },
    {
      "cell_type": "code",
      "execution_count": 14,
      "metadata": {
        "id": "kEIbTrIDMJJd"
      },
      "outputs": [],
      "source": [
        "from nltk.corpus import stopwords"
      ]
    },
    {
      "cell_type": "code",
      "execution_count": 15,
      "metadata": {
        "colab": {
          "base_uri": "https://localhost:8080/"
        },
        "id": "Q1ctOHggNCrE",
        "outputId": "5095426b-a62e-47ab-e314-14a050fdecbd"
      },
      "outputs": [
        {
          "name": "stderr",
          "output_type": "stream",
          "text": [
            "[nltk_data] Downloading package stopwords to\n",
            "[nltk_data]     C:\\Users\\archa\\AppData\\Roaming\\nltk_data...\n",
            "[nltk_data]   Package stopwords is already up-to-date!\n"
          ]
        },
        {
          "data": {
            "text/plain": [
              "True"
            ]
          },
          "execution_count": 15,
          "metadata": {},
          "output_type": "execute_result"
        }
      ],
      "source": [
        "\n",
        "nltk.download('stopwords')"
      ]
    },
    {
      "cell_type": "code",
      "execution_count": 16,
      "metadata": {
        "id": "GEB8D6cHMzE1"
      },
      "outputs": [],
      "source": [
        "stop = stopwords.words('english')"
      ]
    },
    {
      "cell_type": "code",
      "execution_count": 17,
      "metadata": {
        "id": "izZbTTLFGYdR"
      },
      "outputs": [],
      "source": [
        "train_df['Stop Words Count'] = train_df['text'].apply(lambda x:len([x for x in str(x).split() if x in stop]))"
      ]
    },
    {
      "cell_type": "code",
      "execution_count": 18,
      "metadata": {
        "colab": {
          "base_uri": "https://localhost:8080/",
          "height": 206
        },
        "id": "HSEHlGEiOr6n",
        "outputId": "9bdbd90b-ba85-4a55-bac8-b12d67d36e00"
      },
      "outputs": [
        {
          "data": {
            "text/html": [
              "<div>\n",
              "<style scoped>\n",
              "    .dataframe tbody tr th:only-of-type {\n",
              "        vertical-align: middle;\n",
              "    }\n",
              "\n",
              "    .dataframe tbody tr th {\n",
              "        vertical-align: top;\n",
              "    }\n",
              "\n",
              "    .dataframe thead th {\n",
              "        text-align: right;\n",
              "    }\n",
              "</style>\n",
              "<table border=\"1\" class=\"dataframe\">\n",
              "  <thead>\n",
              "    <tr style=\"text-align: right;\">\n",
              "      <th></th>\n",
              "      <th>id</th>\n",
              "      <th>title</th>\n",
              "      <th>author</th>\n",
              "      <th>text</th>\n",
              "      <th>label</th>\n",
              "      <th>Word Count</th>\n",
              "      <th>Stop Words Count</th>\n",
              "    </tr>\n",
              "  </thead>\n",
              "  <tbody>\n",
              "    <tr>\n",
              "      <th>0</th>\n",
              "      <td>0</td>\n",
              "      <td>House Dem Aide: We Didn’t Even See Comey’s Let...</td>\n",
              "      <td>Darrell Lucus</td>\n",
              "      <td>House Dem Aide: We Didn’t Even See Comey’s Let...</td>\n",
              "      <td>1</td>\n",
              "      <td>820</td>\n",
              "      <td>322</td>\n",
              "    </tr>\n",
              "    <tr>\n",
              "      <th>1</th>\n",
              "      <td>1</td>\n",
              "      <td>FLYNN: Hillary Clinton, Big Woman on Campus - ...</td>\n",
              "      <td>Daniel J. Flynn</td>\n",
              "      <td>Ever get the feeling your life circles the rou...</td>\n",
              "      <td>0</td>\n",
              "      <td>727</td>\n",
              "      <td>286</td>\n",
              "    </tr>\n",
              "    <tr>\n",
              "      <th>2</th>\n",
              "      <td>2</td>\n",
              "      <td>Why the Truth Might Get You Fired</td>\n",
              "      <td>Consortiumnews.com</td>\n",
              "      <td>Why the Truth Might Get You Fired October 29, ...</td>\n",
              "      <td>1</td>\n",
              "      <td>1266</td>\n",
              "      <td>493</td>\n",
              "    </tr>\n",
              "    <tr>\n",
              "      <th>3</th>\n",
              "      <td>3</td>\n",
              "      <td>15 Civilians Killed In Single US Airstrike Hav...</td>\n",
              "      <td>Jessica Purkiss</td>\n",
              "      <td>Videos 15 Civilians Killed In Single US Airstr...</td>\n",
              "      <td>1</td>\n",
              "      <td>559</td>\n",
              "      <td>212</td>\n",
              "    </tr>\n",
              "    <tr>\n",
              "      <th>4</th>\n",
              "      <td>4</td>\n",
              "      <td>Iranian woman jailed for fictional unpublished...</td>\n",
              "      <td>Howard Portnoy</td>\n",
              "      <td>Print \\nAn Iranian woman has been sentenced to...</td>\n",
              "      <td>1</td>\n",
              "      <td>154</td>\n",
              "      <td>58</td>\n",
              "    </tr>\n",
              "  </tbody>\n",
              "</table>\n",
              "</div>"
            ],
            "text/plain": [
              "   id                                              title              author  \\\n",
              "0   0  House Dem Aide: We Didn’t Even See Comey’s Let...       Darrell Lucus   \n",
              "1   1  FLYNN: Hillary Clinton, Big Woman on Campus - ...     Daniel J. Flynn   \n",
              "2   2                  Why the Truth Might Get You Fired  Consortiumnews.com   \n",
              "3   3  15 Civilians Killed In Single US Airstrike Hav...     Jessica Purkiss   \n",
              "4   4  Iranian woman jailed for fictional unpublished...      Howard Portnoy   \n",
              "\n",
              "                                                text  label  Word Count  \\\n",
              "0  House Dem Aide: We Didn’t Even See Comey’s Let...      1         820   \n",
              "1  Ever get the feeling your life circles the rou...      0         727   \n",
              "2  Why the Truth Might Get You Fired October 29, ...      1        1266   \n",
              "3  Videos 15 Civilians Killed In Single US Airstr...      1         559   \n",
              "4  Print \\nAn Iranian woman has been sentenced to...      1         154   \n",
              "\n",
              "   Stop Words Count  \n",
              "0               322  \n",
              "1               286  \n",
              "2               493  \n",
              "3               212  \n",
              "4                58  "
            ]
          },
          "execution_count": 18,
          "metadata": {},
          "output_type": "execute_result"
        }
      ],
      "source": [
        "train_df.head(5)"
      ]
    },
    {
      "cell_type": "code",
      "execution_count": 19,
      "metadata": {
        "colab": {
          "base_uri": "https://localhost:8080/",
          "height": 364
        },
        "id": "Y5Vz53CCVorS",
        "outputId": "1122c19b-cf4e-4260-e47c-ff3e2ec59fd1"
      },
      "outputs": [
        {
          "data": {
            "image/png": "[encoded data removed]",
            "text/plain": [
              "<Figure size 720x360 with 1 Axes>"
            ]
          },
          "metadata": {
            "needs_background": "light"
          },
          "output_type": "display_data"
        }
      ],
      "source": [
        "sns.histplot(x=train_df['Stop Words Count'],data=train_df,hue='label',binrange=[0,800],multiple='dodge')\n",
        "plt.ylabel('Number of stop words per label')\n",
        "plt.title('Distribution Of stop word count')\n",
        "plt.xlabel('Number of texts');"
      ]
    },
    {
      "cell_type": "markdown",
      "metadata": {
        "id": "u1sJvgXuW9RC"
      },
      "source": [
        "\n",
        "\n",
        "*   Same trend as words count can be observed stop words count that is uneven distribution for 400+ unreliable texts and a little even distribution for reliable  600+ texts \n",
        "\n"
      ]
    },
    {
      "cell_type": "markdown",
      "metadata": {
        "id": "Rd9_XT83aGP5"
      },
      "source": [
        "**Average number of words in a single text**"
      ]
    },
    {
      "cell_type": "code",
      "execution_count": 20,
      "metadata": {
        "id": "OP2CJyHsb6VU"
      },
      "outputs": [],
      "source": [
        "def avg_word(text):\n",
        "  total_words = str(text).split(' ')\n",
        "  return (sum( len(word) for word in total_words)/len(total_words)) "
      ]
    },
    {
      "cell_type": "code",
      "execution_count": 21,
      "metadata": {
        "id": "qDKrzTowWFYG"
      },
      "outputs": [],
      "source": [
        "train_df['Avg words count'] = train_df['text'].apply(lambda x:avg_word(x))"
      ]
    },
    {
      "cell_type": "code",
      "execution_count": 22,
      "metadata": {
        "colab": {
          "base_uri": "https://localhost:8080/",
          "height": 364
        },
        "id": "AA33PlaganXs",
        "outputId": "e9d26d8a-97dc-41c4-a425-7519313bb7b6"
      },
      "outputs": [
        {
          "data": {
            "image/png": "[encoded data removed]",
            "text/plain": [
              "<Figure size 720x360 with 1 Axes>"
            ]
          },
          "metadata": {
            "needs_background": "light"
          },
          "output_type": "display_data"
        }
      ],
      "source": [
        "sns.histplot(x=train_df['Avg words count'],data=train_df,hue='label',binrange=[3,7],multiple='dodge')\n",
        "plt.ylabel('Number of avg words per label')\n",
        "plt.title('Distribution Of avg word count')\n",
        "plt.xlabel('Number of texts');"
      ]
    },
    {
      "cell_type": "markdown",
      "metadata": {
        "id": "bSrdS9OMeJBp"
      },
      "source": [
        "\n",
        "*   The average number of words in a single text in both reliable and unreliable text are distibuted normally\n",
        "\n",
        "*   However the number avg words in reliable texts is greater than number of unreliable texts\n",
        "\n"
      ]
    },
    {
      "cell_type": "code",
      "execution_count": 23,
      "metadata": {
        "colab": {
          "base_uri": "https://localhost:8080/"
        },
        "id": "9z94xeQsXwAA",
        "outputId": "2b3f1840-be55-4bbb-c6ca-b2c091a61207"
      },
      "outputs": [
        {
          "name": "stdout",
          "output_type": "stream",
          "text": [
            "Average Number of Stop words per: 283.2744230769231\n",
            "Average Number of words: 773.2021634615385\n",
            "Average Number of words per label: 4.927379842198304\n"
          ]
        }
      ],
      "source": [
        "print('Average Number of Stop words per:',train_df['Stop Words Count'].mean())\n",
        "print('Average Number of words:',train_df['Word Count'].mean())\n",
        "print('Average Number of words per label:',train_df['Avg words count'].mean())\n"
      ]
    },
    {
      "cell_type": "code",
      "execution_count": 24,
      "metadata": {
        "id": "ZOX1TfdUteIt"
      },
      "outputs": [],
      "source": [
        "pre = {\n",
        "        'avg_stop_words': [train_df['Stop Words Count'].mean()],\n",
        "        'avg_words' : [train_df['Word Count'].mean()],\n",
        "        'avg_words ' : [train_df['Avg words count'].mean()],\n",
        "        'Preprocessed' : False\n",
        "    }"
      ]
    },
    {
      "cell_type": "code",
      "execution_count": 25,
      "metadata": {
        "colab": {
          "base_uri": "https://localhost:8080/"
        },
        "id": "cS9V_ZrYtjrd",
        "outputId": "8f21a71b-bc1d-4b3c-ec07-c8e469c152e2"
      },
      "outputs": [
        {
          "data": {
            "text/plain": [
              "{'avg_stop_words': [283.2744230769231],\n",
              " 'avg_words': [773.2021634615385],\n",
              " 'avg_words ': [4.927379842198304],\n",
              " 'Preprocessed': False}"
            ]
          },
          "execution_count": 25,
          "metadata": {},
          "output_type": "execute_result"
        }
      ],
      "source": [
        "pre"
      ]
    },
    {
      "cell_type": "code",
      "execution_count": 26,
      "metadata": {
        "id": "F7us8Mu7slRB"
      },
      "outputs": [],
      "source": [
        "preprocess_df = pd.DataFrame(pre)"
      ]
    },
    {
      "cell_type": "code",
      "execution_count": 27,
      "metadata": {
        "colab": {
          "base_uri": "https://localhost:8080/",
          "height": 81
        },
        "id": "bKK9Inb2txnd",
        "outputId": "eadd8e8e-0826-4e6a-c613-10ecc6fa7bbe"
      },
      "outputs": [
        {
          "data": {
            "text/html": [
              "<div>\n",
              "<style scoped>\n",
              "    .dataframe tbody tr th:only-of-type {\n",
              "        vertical-align: middle;\n",
              "    }\n",
              "\n",
              "    .dataframe tbody tr th {\n",
              "        vertical-align: top;\n",
              "    }\n",
              "\n",
              "    .dataframe thead th {\n",
              "        text-align: right;\n",
              "    }\n",
              "</style>\n",
              "<table border=\"1\" class=\"dataframe\">\n",
              "  <thead>\n",
              "    <tr style=\"text-align: right;\">\n",
              "      <th></th>\n",
              "      <th>avg_stop_words</th>\n",
              "      <th>avg_words</th>\n",
              "      <th>avg_words</th>\n",
              "      <th>Preprocessed</th>\n",
              "    </tr>\n",
              "  </thead>\n",
              "  <tbody>\n",
              "    <tr>\n",
              "      <th>0</th>\n",
              "      <td>283.274423</td>\n",
              "      <td>773.202163</td>\n",
              "      <td>4.92738</td>\n",
              "      <td>False</td>\n",
              "    </tr>\n",
              "  </tbody>\n",
              "</table>\n",
              "</div>"
            ],
            "text/plain": [
              "   avg_stop_words   avg_words  avg_words   Preprocessed\n",
              "0      283.274423  773.202163     4.92738         False"
            ]
          },
          "execution_count": 27,
          "metadata": {},
          "output_type": "execute_result"
        }
      ],
      "source": [
        "preprocess_df"
      ]
    },
    {
      "cell_type": "markdown",
      "metadata": {
        "id": "5jCexVunfoRk"
      },
      "source": [
        "## **Preprocessing Text Data**\n",
        "\n",
        "Before diving into text and feature extraction, our first step should be cleaning the data in order to obtain better features, to compare data before and after preprocessing we will be doing both steps"
      ]
    },
    {
      "cell_type": "markdown",
      "metadata": {
        "id": "Y9MAzZtVlppd"
      },
      "source": [
        "## **Lower Casing**\n"
      ]
    },
    {
      "cell_type": "code",
      "execution_count": 28,
      "metadata": {
        "id": "gK6UT9z2eG_1"
      },
      "outputs": [],
      "source": [
        "train_df['text'] = train_df['text'].apply(lambda x:str(x).lower())"
      ]
    },
    {
      "cell_type": "code",
      "execution_count": 29,
      "metadata": {
        "colab": {
          "base_uri": "https://localhost:8080/"
        },
        "id": "ADubzPTydmo0",
        "outputId": "bf06a6d3-e9b4-44c1-fc44-e97017ee578f"
      },
      "outputs": [
        {
          "data": {
            "text/plain": [
              "0    house dem aide: we didn’t even see comey’s let...\n",
              "1    ever get the feeling your life circles the rou...\n",
              "2    why the truth might get you fired october 29, ...\n",
              "3    videos 15 civilians killed in single us airstr...\n",
              "4    print \\nan iranian woman has been sentenced to...\n",
              "Name: text, dtype: object"
            ]
          },
          "execution_count": 29,
          "metadata": {},
          "output_type": "execute_result"
        }
      ],
      "source": [
        "train_df.text.head(5)"
      ]
    },
    {
      "cell_type": "markdown",
      "metadata": {
        "id": "5JGbMoRynDxk"
      },
      "source": [
        "## **Remove punctuations**"
      ]
    },
    {
      "cell_type": "code",
      "execution_count": 30,
      "metadata": {
        "id": "z_x4gH76mJx1"
      },
      "outputs": [
        {
          "name": "stderr",
          "output_type": "stream",
          "text": [
            "<ipython-input-30-e443c5ad3081>:1: FutureWarning: The default value of regex will change from True to False in a future version.\n",
            "  train_df['text'] = train_df['text'].str.replace('[^\\w\\s]' ,' ')\n"
          ]
        }
      ],
      "source": [
        "train_df['text'] = train_df['text'].str.replace('[^\\w\\s]' ,' ')"
      ]
    },
    {
      "cell_type": "code",
      "execution_count": 31,
      "metadata": {
        "colab": {
          "base_uri": "https://localhost:8080/"
        },
        "id": "HmPA97-qnhOi",
        "outputId": "2403e518-704c-4163-c0ae-d92a0a3e91e5"
      },
      "outputs": [
        {
          "data": {
            "text/plain": [
              "0    house dem aide  we didn t even see comey s let...\n",
              "1    ever get the feeling your life circles the rou...\n",
              "2    why the truth might get you fired october 29  ...\n",
              "3    videos 15 civilians killed in single us airstr...\n",
              "4    print \\nan iranian woman has been sentenced to...\n",
              "Name: text, dtype: object"
            ]
          },
          "execution_count": 31,
          "metadata": {},
          "output_type": "execute_result"
        }
      ],
      "source": [
        "train_df.text.head()"
      ]
    },
    {
      "cell_type": "markdown",
      "metadata": {
        "id": "3r4vXfxNppBt"
      },
      "source": [
        "## **Removing stop words**"
      ]
    },
    {
      "cell_type": "code",
      "execution_count": 32,
      "metadata": {
        "id": "N7m6KxvQnj8a"
      },
      "outputs": [],
      "source": [
        "train_df['text'] = train_df.text.apply(lambda x:' '.join(x for x in str(x).split() if x not in stop))"
      ]
    },
    {
      "cell_type": "code",
      "execution_count": 33,
      "metadata": {
        "colab": {
          "base_uri": "https://localhost:8080/"
        },
        "id": "xGTMsoLfp9b1",
        "outputId": "55b45d52-67ae-4bdf-a750-ef0826dc0240"
      },
      "outputs": [
        {
          "data": {
            "text/plain": [
              "0    house dem aide even see comey letter jason cha...\n",
              "1    ever get feeling life circles roundabout rathe...\n",
              "2    truth might get fired october 29 2016 tension ...\n",
              "3    videos 15 civilians killed single us airstrike...\n",
              "4    print iranian woman sentenced six years prison...\n",
              "Name: text, dtype: object"
            ]
          },
          "execution_count": 33,
          "metadata": {},
          "output_type": "execute_result"
        }
      ],
      "source": [
        "train_df.text.head(5)"
      ]
    },
    {
      "cell_type": "markdown",
      "metadata": {
        "id": "luYDANAfsw2A"
      },
      "source": [
        "## **Removing top 10 Common words**"
      ]
    },
    {
      "cell_type": "code",
      "execution_count": 34,
      "metadata": {
        "id": "z-9JoGfGqBDU"
      },
      "outputs": [],
      "source": [
        "freq  = pd.Series(' '.join(train_df['text']).split()).value_counts()[:10]"
      ]
    },
    {
      "cell_type": "code",
      "execution_count": 35,
      "metadata": {
        "colab": {
          "base_uri": "https://localhost:8080/"
        },
        "id": "WWo_ZXL3sIx6",
        "outputId": "dbc9a3f6-163d-4b07-cdcf-d127daef26de"
      },
      "outputs": [
        {
          "data": {
            "text/plain": [
              "said       80054\n",
              "mr         66287\n",
              "trump      56258\n",
              "one        38651\n",
              "would      37358\n",
              "people     36540\n",
              "new        30056\n",
              "clinton    27399\n",
              "like       26341\n",
              "also       25448\n",
              "dtype: int64"
            ]
          },
          "execution_count": 35,
          "metadata": {},
          "output_type": "execute_result"
        }
      ],
      "source": [
        "freq"
      ]
    },
    {
      "cell_type": "code",
      "execution_count": 36,
      "metadata": {
        "id": "kLFUo1XUsO2D"
      },
      "outputs": [],
      "source": [
        "train_df['text'] = train_df.text.apply(lambda x:' '.join(x for x in str(x).split() if x not in freq))"
      ]
    },
    {
      "cell_type": "code",
      "execution_count": 37,
      "metadata": {
        "colab": {
          "base_uri": "https://localhost:8080/"
        },
        "id": "hkuUroHJs8GS",
        "outputId": "4c61878d-ed46-471c-dbc0-b51a9fcdc344"
      },
      "outputs": [
        {
          "data": {
            "text/plain": [
              "0    house dem aide even see comey letter jason cha...\n",
              "1    ever get feeling life circles roundabout rathe...\n",
              "2    truth might get fired october 29 2016 tension ...\n",
              "3    videos 15 civilians killed single us airstrike...\n",
              "4    print iranian woman sentenced six years prison...\n",
              "Name: text, dtype: object"
            ]
          },
          "execution_count": 37,
          "metadata": {},
          "output_type": "execute_result"
        }
      ],
      "source": [
        "train_df.text.head(5)"
      ]
    },
    {
      "cell_type": "markdown",
      "metadata": {
        "id": "bMLTPRbJ0yu2"
      },
      "source": [
        "## **Removing Rarely occuring words**"
      ]
    },
    {
      "cell_type": "code",
      "execution_count": 38,
      "metadata": {
        "id": "j92A6tA5s_X4"
      },
      "outputs": [],
      "source": [
        "freq  = pd.Series(' '.join(train_df['text']).split()).value_counts()[-20:]"
      ]
    },
    {
      "cell_type": "code",
      "execution_count": 39,
      "metadata": {
        "colab": {
          "base_uri": "https://localhost:8080/"
        },
        "id": "iRYwGz_P0w4n",
        "outputId": "dac7df22-09a6-48c2-fefc-36bf073a8c4f"
      },
      "outputs": [
        {
          "data": {
            "text/plain": [
              "предоставил        1\n",
              "lesean             1\n",
              "jantar             1\n",
              "mantar             1\n",
              "прибывшие          1\n",
              "deth               1\n",
              "stamol             1\n",
              "kopitarna          1\n",
              "popadic            1\n",
              "kozole             1\n",
              "планирование       1\n",
              "kruhek             1\n",
              "srecko             1\n",
              "pomsel             1\n",
              "brunhilde          1\n",
              "412th              1\n",
              "therock            1\n",
              "justice4assange    1\n",
              "ohn                1\n",
              "gennette           1\n",
              "dtype: int64"
            ]
          },
          "execution_count": 39,
          "metadata": {},
          "output_type": "execute_result"
        }
      ],
      "source": [
        "freq"
      ]
    },
    {
      "cell_type": "code",
      "execution_count": 40,
      "metadata": {
        "id": "-VTADcAh1OfG"
      },
      "outputs": [],
      "source": [
        "rare_freq = freq[-30:]"
      ]
    },
    {
      "cell_type": "code",
      "execution_count": 41,
      "metadata": {
        "id": "7X_8ToPX0zpR"
      },
      "outputs": [],
      "source": [
        "train_df['text'] = train_df.text.apply(lambda x:' '.join(x for x in str(x).split() if x not in rare_freq))"
      ]
    },
    {
      "cell_type": "code",
      "execution_count": 42,
      "metadata": {
        "colab": {
          "base_uri": "https://localhost:8080/",
          "height": 206
        },
        "id": "tgfl2Y8l1fxw",
        "outputId": "0f8245ff-7223-4e25-9d34-d9b1df0e923b"
      },
      "outputs": [
        {
          "data": {
            "text/html": [
              "<div>\n",
              "<style scoped>\n",
              "    .dataframe tbody tr th:only-of-type {\n",
              "        vertical-align: middle;\n",
              "    }\n",
              "\n",
              "    .dataframe tbody tr th {\n",
              "        vertical-align: top;\n",
              "    }\n",
              "\n",
              "    .dataframe thead th {\n",
              "        text-align: right;\n",
              "    }\n",
              "</style>\n",
              "<table border=\"1\" class=\"dataframe\">\n",
              "  <thead>\n",
              "    <tr style=\"text-align: right;\">\n",
              "      <th></th>\n",
              "      <th>id</th>\n",
              "      <th>title</th>\n",
              "      <th>author</th>\n",
              "      <th>text</th>\n",
              "      <th>label</th>\n",
              "      <th>Word Count</th>\n",
              "      <th>Stop Words Count</th>\n",
              "      <th>Avg words count</th>\n",
              "    </tr>\n",
              "  </thead>\n",
              "  <tbody>\n",
              "    <tr>\n",
              "      <th>0</th>\n",
              "      <td>0</td>\n",
              "      <td>House Dem Aide: We Didn’t Even See Comey’s Let...</td>\n",
              "      <td>Darrell Lucus</td>\n",
              "      <td>house dem aide even see comey letter jason cha...</td>\n",
              "      <td>1</td>\n",
              "      <td>820</td>\n",
              "      <td>322</td>\n",
              "      <td>5.013415</td>\n",
              "    </tr>\n",
              "    <tr>\n",
              "      <th>1</th>\n",
              "      <td>1</td>\n",
              "      <td>FLYNN: Hillary Clinton, Big Woman on Campus - ...</td>\n",
              "      <td>Daniel J. Flynn</td>\n",
              "      <td>ever get feeling life circles roundabout rathe...</td>\n",
              "      <td>0</td>\n",
              "      <td>727</td>\n",
              "      <td>286</td>\n",
              "      <td>4.723521</td>\n",
              "    </tr>\n",
              "    <tr>\n",
              "      <th>2</th>\n",
              "      <td>2</td>\n",
              "      <td>Why the Truth Might Get You Fired</td>\n",
              "      <td>Consortiumnews.com</td>\n",
              "      <td>truth might get fired october 29 2016 tension ...</td>\n",
              "      <td>1</td>\n",
              "      <td>1266</td>\n",
              "      <td>493</td>\n",
              "      <td>5.076619</td>\n",
              "    </tr>\n",
              "    <tr>\n",
              "      <th>3</th>\n",
              "      <td>3</td>\n",
              "      <td>15 Civilians Killed In Single US Airstrike Hav...</td>\n",
              "      <td>Jessica Purkiss</td>\n",
              "      <td>videos 15 civilians killed single us airstrike...</td>\n",
              "      <td>1</td>\n",
              "      <td>559</td>\n",
              "      <td>212</td>\n",
              "      <td>4.792487</td>\n",
              "    </tr>\n",
              "    <tr>\n",
              "      <th>4</th>\n",
              "      <td>4</td>\n",
              "      <td>Iranian woman jailed for fictional unpublished...</td>\n",
              "      <td>Howard Portnoy</td>\n",
              "      <td>print iranian woman sentenced six years prison...</td>\n",
              "      <td>1</td>\n",
              "      <td>154</td>\n",
              "      <td>58</td>\n",
              "      <td>5.097403</td>\n",
              "    </tr>\n",
              "  </tbody>\n",
              "</table>\n",
              "</div>"
            ],
            "text/plain": [
              "   id                                              title              author  \\\n",
              "0   0  House Dem Aide: We Didn’t Even See Comey’s Let...       Darrell Lucus   \n",
              "1   1  FLYNN: Hillary Clinton, Big Woman on Campus - ...     Daniel J. Flynn   \n",
              "2   2                  Why the Truth Might Get You Fired  Consortiumnews.com   \n",
              "3   3  15 Civilians Killed In Single US Airstrike Hav...     Jessica Purkiss   \n",
              "4   4  Iranian woman jailed for fictional unpublished...      Howard Portnoy   \n",
              "\n",
              "                                                text  label  Word Count  \\\n",
              "0  house dem aide even see comey letter jason cha...      1         820   \n",
              "1  ever get feeling life circles roundabout rathe...      0         727   \n",
              "2  truth might get fired october 29 2016 tension ...      1        1266   \n",
              "3  videos 15 civilians killed single us airstrike...      1         559   \n",
              "4  print iranian woman sentenced six years prison...      1         154   \n",
              "\n",
              "   Stop Words Count  Avg words count  \n",
              "0               322         5.013415  \n",
              "1               286         4.723521  \n",
              "2               493         5.076619  \n",
              "3               212         4.792487  \n",
              "4                58         5.097403  "
            ]
          },
          "execution_count": 42,
          "metadata": {},
          "output_type": "execute_result"
        }
      ],
      "source": [
        "train_df.head(5)"
      ]
    },
    {
      "cell_type": "markdown",
      "metadata": {
        "id": "TNlyXRNEqD_5"
      },
      "source": [
        "## **Let's now compare the data after preprocessing**"
      ]
    },
    {
      "cell_type": "code",
      "execution_count": 43,
      "metadata": {
        "id": "qNvKPBeZqsmE"
      },
      "outputs": [],
      "source": [
        "train_df['Word Count'] = train_df['text'].apply(lambda x: len(str(x).split(' '))) "
      ]
    },
    {
      "cell_type": "code",
      "execution_count": 44,
      "metadata": {
        "colab": {
          "base_uri": "https://localhost:8080/",
          "height": 364
        },
        "id": "eWtTV6G6o6Ez",
        "outputId": "a2152f25-9017-4b85-9e33-951a00e84736"
      },
      "outputs": [
        {
          "data": {
            "image/png": "[encoded data removed]",
            "text/plain": [
              "<Figure size 720x360 with 1 Axes>"
            ]
          },
          "metadata": {
            "needs_background": "light"
          },
          "output_type": "display_data"
        }
      ],
      "source": [
        "sns.histplot(x='Word Count',data=train_df,hue='label',binrange=[0,2000],multiple='dodge')\n",
        "plt.ylabel('Number of words per label')\n",
        "plt.title('Distribution Of word count')\n",
        "plt.xlabel('Number of texts');"
      ]
    },
    {
      "cell_type": "code",
      "execution_count": 45,
      "metadata": {
        "id": "ahNyaBdXqj1U"
      },
      "outputs": [],
      "source": [
        "train_df['Stop Words Count'] = train_df['text'].apply(lambda x:len([x for x in str(x).split() if x in stop]))"
      ]
    },
    {
      "cell_type": "code",
      "execution_count": 46,
      "metadata": {
        "colab": {
          "base_uri": "https://localhost:8080/",
          "height": 364
        },
        "id": "DUU8rgLbrEAE",
        "outputId": "73f7394b-bac1-4128-d2c1-03c74de86cb7"
      },
      "outputs": [
        {
          "data": {
            "image/png": "[encoded data removed]",
            "text/plain": [
              "<Figure size 720x360 with 1 Axes>"
            ]
          },
          "metadata": {
            "needs_background": "light"
          },
          "output_type": "display_data"
        }
      ],
      "source": [
        "sns.histplot(x=train_df['Stop Words Count'],data=train_df,hue='label',binrange=[0,800],multiple='dodge')\n",
        "plt.ylabel('Number of stop words per label')\n",
        "plt.title('Distribution Of stop word count')\n",
        "plt.xlabel('Number of texts');"
      ]
    },
    {
      "cell_type": "code",
      "execution_count": 47,
      "metadata": {
        "id": "hl4yz0nNq1mO"
      },
      "outputs": [],
      "source": [
        "train_df['Avg words count'] = train_df['text'].apply(lambda x:avg_word(x))"
      ]
    },
    {
      "cell_type": "code",
      "execution_count": 48,
      "metadata": {
        "colab": {
          "base_uri": "https://localhost:8080/",
          "height": 364
        },
        "id": "c9H1iJH7qSDk",
        "outputId": "7ed01f51-0cd3-4171-f2f4-6d2649247820"
      },
      "outputs": [
        {
          "data": {
            "image/png": "[encoded data removed]",
            "text/plain": [
              "<Figure size 720x360 with 1 Axes>"
            ]
          },
          "metadata": {
            "needs_background": "light"
          },
          "output_type": "display_data"
        }
      ],
      "source": [
        "sns.histplot(x=train_df['Avg words count'],data=train_df,hue='label',binrange=[5,8],multiple='dodge')\n",
        "plt.ylabel('Number of avg words per label')\n",
        "plt.title('Distribution Of avg word count')\n",
        "plt.xlabel('Number of texts');"
      ]
    },
    {
      "cell_type": "code",
      "execution_count": 49,
      "metadata": {
        "id": "HwoPNuzzwFru"
      },
      "outputs": [],
      "source": [
        "post = {\n",
        "        'avg_stop_words': [train_df['Stop Words Count'].mean()],\n",
        "        'avg_words' : [train_df['Word Count'].mean()],\n",
        "        'avg_words ' : [train_df['Avg words count'].mean()],\n",
        "        'Preprocessed' : True\n",
        "    }"
      ]
    },
    {
      "cell_type": "code",
      "execution_count": 50,
      "metadata": {
        "colab": {
          "base_uri": "https://localhost:8080/",
          "height": 112
        },
        "id": "2ua4VfBMwIRr",
        "outputId": "b2c229b8-85ad-4abb-92c3-40684f4ef5e9"
      },
      "outputs": [
        {
          "data": {
            "text/html": [
              "<div>\n",
              "<style scoped>\n",
              "    .dataframe tbody tr th:only-of-type {\n",
              "        vertical-align: middle;\n",
              "    }\n",
              "\n",
              "    .dataframe tbody tr th {\n",
              "        vertical-align: top;\n",
              "    }\n",
              "\n",
              "    .dataframe thead th {\n",
              "        text-align: right;\n",
              "    }\n",
              "</style>\n",
              "<table border=\"1\" class=\"dataframe\">\n",
              "  <thead>\n",
              "    <tr style=\"text-align: right;\">\n",
              "      <th></th>\n",
              "      <th>avg_stop_words</th>\n",
              "      <th>avg_words</th>\n",
              "      <th>avg_words</th>\n",
              "      <th>Preprocessed</th>\n",
              "    </tr>\n",
              "  </thead>\n",
              "  <tbody>\n",
              "    <tr>\n",
              "      <th>0</th>\n",
              "      <td>283.274423</td>\n",
              "      <td>773.202163</td>\n",
              "      <td>4.927380</td>\n",
              "      <td>False</td>\n",
              "    </tr>\n",
              "    <tr>\n",
              "      <th>1</th>\n",
              "      <td>0.000000</td>\n",
              "      <td>411.828894</td>\n",
              "      <td>6.265363</td>\n",
              "      <td>True</td>\n",
              "    </tr>\n",
              "  </tbody>\n",
              "</table>\n",
              "</div>"
            ],
            "text/plain": [
              "   avg_stop_words   avg_words  avg_words   Preprocessed\n",
              "0      283.274423  773.202163    4.927380         False\n",
              "1        0.000000  411.828894    6.265363          True"
            ]
          },
          "execution_count": 50,
          "metadata": {},
          "output_type": "execute_result"
        }
      ],
      "source": [
        "preprocess_df.append(pd.DataFrame(post),ignore_index=True)"
      ]
    },
    {
      "cell_type": "markdown",
      "metadata": {
        "id": "XPDwN5FpsGrZ"
      },
      "source": [
        "## **After Preprocessing**\n",
        "\n",
        "*   The distribution of words per label remains same but we have decreased the count for unreliable new to 1000\n",
        "*   The unnecessary information or less meaningful data like stop words have been removed which results in 2 separate bar each for unreliable and reliable news\n",
        "*   The distribution of average number of words per text is almost normal and same for all the texts\n",
        "\n"
      ]
    },
    {
      "cell_type": "code",
      "execution_count": 51,
      "metadata": {
        "id": "KslzfTvTjTZ3"
      },
      "outputs": [],
      "source": [
        "!pip install wordcloud --quiet"
      ]
    },
    {
      "cell_type": "code",
      "execution_count": 52,
      "metadata": {
        "colab": {
          "base_uri": "https://localhost:8080/"
        },
        "id": "g7pGzvX5oUda",
        "outputId": "98937f6a-e083-4d07-9520-f31c276e7ba3"
      },
      "outputs": [
        {
          "data": {
            "text/plain": [
              "0      house dem aide even see comey letter jason cha...\n",
              "1      ever get feeling life circles roundabout rathe...\n",
              "2      truth might get fired october 29 2016 tension ...\n",
              "3      videos 15 civilians killed single us airstrike...\n",
              "4      print iranian woman sentenced six years prison...\n",
              "                             ...                        \n",
              "495    contaminated food china entering u organic lab...\n",
              "496    bookshop website grand books editor aaron hick...\n",
              "497    scandal epa could issued emergency order 7 mon...\n",
              "498    wikileak email released monday reveals staffer...\n",
              "499    أوروبا وخيار القوة في مواجهة اللاجئين تاريخ ال...\n",
              "Name: text, Length: 500, dtype: object"
            ]
          },
          "execution_count": 52,
          "metadata": {},
          "output_type": "execute_result"
        }
      ],
      "source": [
        "train_df['text'][:500]"
      ]
    },
    {
      "cell_type": "code",
      "execution_count": 53,
      "metadata": {
        "colab": {
          "base_uri": "https://localhost:8080/",
          "height": 310
        },
        "id": "R4DL5tU0igAY",
        "outputId": "6b87101f-3868-42e7-a37e-620599174bcf"
      },
      "outputs": [
        {
          "data": {
            "image/png": "[encoded data removed]",
            "text/plain": [
              "<Figure size 720x720 with 1 Axes>"
            ]
          },
          "metadata": {
            "needs_background": "light"
          },
          "output_type": "display_data"
        }
      ],
      "source": [
        "stopwords = set(stopwords.words(\"english\"))\n",
        "from wordcloud import WordCloud\n",
        "import matplotlib.pyplot as plt\n",
        "def plot_cloud(wordcloud):\n",
        "    plt.figure(figsize=(10, 10))\n",
        "    plt.imshow(wordcloud)\n",
        "    plt.axis(\"off\");\n",
        "wordcloud = WordCloud(width = 1000, height = 500,stopwords=stopwords, \n",
        "                      max_words=100,background_color='#44C0D2', \n",
        "                      colormap=\"ocean\",  random_state=10).generate(str(train_df['text'][:20000]))\n",
        "plot_cloud(wordcloud)"
      ]
    },
    {
      "cell_type": "markdown",
      "metadata": {
        "id": "ohBNq9zMozDE"
      },
      "source": [
        "*The above plot or image , as many of you may know it, is called a word cloud*\n",
        "A word cloud is a simple yet powerful visual representation object for text processing, which shows the most frequent word with bigger and bolder letters, and with different colors. The smaller the the size of the word the lesser it’s important."
      ]
    },
    {
      "cell_type": "markdown",
      "metadata": {
        "id": "dOg1W8gB15TX"
      },
      "source": [
        "# **Identifying Input and Target Columns**"
      ]
    },
    {
      "cell_type": "markdown",
      "metadata": {
        "id": "sucufCyw3zJJ"
      },
      "source": [
        "**In this project we will just using the text data to train our models**"
      ]
    },
    {
      "cell_type": "code",
      "execution_count": 54,
      "metadata": {
        "colab": {
          "base_uri": "https://localhost:8080/"
        },
        "id": "gnMB3YE12FmL",
        "outputId": "0ac41926-7c3b-485a-88a0-afef8883f9c1"
      },
      "outputs": [
        {
          "name": "stdout",
          "output_type": "stream",
          "text": [
            "<class 'pandas.core.frame.DataFrame'>\n",
            "RangeIndex: 20800 entries, 0 to 20799\n",
            "Data columns (total 8 columns):\n",
            " #   Column            Non-Null Count  Dtype  \n",
            "---  ------            --------------  -----  \n",
            " 0   id                20800 non-null  int64  \n",
            " 1   title             20242 non-null  object \n",
            " 2   author            18843 non-null  object \n",
            " 3   text              20800 non-null  object \n",
            " 4   label             20800 non-null  int64  \n",
            " 5   Word Count        20800 non-null  int64  \n",
            " 6   Stop Words Count  20800 non-null  int64  \n",
            " 7   Avg words count   20800 non-null  float64\n",
            "dtypes: float64(1), int64(4), object(3)\n",
            "memory usage: 1.3+ MB\n"
          ]
        }
      ],
      "source": [
        "train_df.info()"
      ]
    },
    {
      "cell_type": "code",
      "execution_count": 55,
      "metadata": {
        "colab": {
          "base_uri": "https://localhost:8080/"
        },
        "id": "gwy8Zxke7lsG",
        "outputId": "ee59c618-a11b-487f-870f-7e6b9f599c8e"
      },
      "outputs": [
        {
          "data": {
            "text/plain": [
              "(20800, 8)"
            ]
          },
          "execution_count": 55,
          "metadata": {},
          "output_type": "execute_result"
        }
      ],
      "source": [
        "train_df.shape"
      ]
    },
    {
      "cell_type": "code",
      "execution_count": 56,
      "metadata": {
        "id": "U1WStMirrKSr"
      },
      "outputs": [],
      "source": [
        "input_cols = ['text']"
      ]
    },
    {
      "cell_type": "code",
      "execution_count": 57,
      "metadata": {
        "id": "lGXfssZd2Jyc"
      },
      "outputs": [],
      "source": [
        "target_col = 'label'"
      ]
    },
    {
      "cell_type": "code",
      "execution_count": 58,
      "metadata": {
        "id": "IWqeV_UA41CJ"
      },
      "outputs": [],
      "source": [
        "inputs = train_df[input_cols].copy()\n",
        "targets = train_df[target_col].copy()"
      ]
    },
    {
      "cell_type": "code",
      "execution_count": 59,
      "metadata": {
        "colab": {
          "base_uri": "https://localhost:8080/"
        },
        "id": "t5qVcS9b-Nom",
        "outputId": "31ec03cb-d990-4bf8-9c19-6b4420977846"
      },
      "outputs": [
        {
          "name": "stderr",
          "output_type": "stream",
          "text": [
            "[nltk_data] Downloading package wordnet to\n",
            "[nltk_data]     C:\\Users\\archa\\AppData\\Roaming\\nltk_data...\n",
            "[nltk_data]   Package wordnet is already up-to-date!\n"
          ]
        },
        {
          "data": {
            "text/plain": [
              "True"
            ]
          },
          "execution_count": 59,
          "metadata": {},
          "output_type": "execute_result"
        }
      ],
      "source": [
        "nltk.download('wordnet')"
      ]
    },
    {
      "cell_type": "code",
      "execution_count": 60,
      "metadata": {
        "id": "vO8rXoDT6nA_"
      },
      "outputs": [],
      "source": [
        "#Building corpus out of text data takes a lot of time, I have build the corpus and stored in pickle file\n",
        "#so simply read from the same \n",
        "\n",
        "# from nltk.stem import WordNetLemmatizer\n",
        "# from nltk.corpus import stopwords\n",
        "# from nltk.stem import PorterStemmer\n",
        "\n",
        "# stemmer = PorterStemmer()\n",
        "# lemmatizer = WordNetLemmatizer()\n",
        "# import re\n",
        "\n",
        "# corpus = []\n",
        "# for i in range(0, len(train_df)):\n",
        "#     review = re.sub('[^a-zA-Z]', ' ', str(train_df['text'][i]))\n",
        "\n",
        "#     #review = str(train_df['text'][i]).replace('[^\\w\\s]' ,' ')\n",
        "\n",
        "#     review = review.lower()\n",
        "#     review = review.split()\n",
        "\n",
        "#     review = [stemmer.stem(word) for word in review if not word in stopwords.words('english')]\n",
        "#     review = ' '.join(review)\n",
        "#     corpus.append(review)"
      ]
    },
    {
      "cell_type": "code",
      "execution_count": 61,
      "metadata": {
        "id": "VbggaM_VXe7t"
      },
      "outputs": [],
      "source": [
        "import pickle\n",
        "\n",
        "# with open('outfile', 'wb') as fp:\n",
        "#     pickle.dump(corpus, fp)"
      ]
    },
    {
      "cell_type": "code",
      "execution_count": 62,
      "metadata": {
        "id": "d_bkERZPXkzr"
      },
      "outputs": [],
      "source": [
        "with open ('outfile', 'rb') as fp:\n",
        "    corpus = pickle.load(fp)"
      ]
    },
    {
      "cell_type": "code",
      "execution_count": 63,
      "metadata": {
        "colab": {
          "base_uri": "https://localhost:8080/",
          "height": 122
        },
        "id": "LsfZ52XpXnn_",
        "outputId": "56cbdf34-bd00-4510-a40f-f933f2e14b39"
      },
      "outputs": [
        {
          "data": {
            "text/plain": [
              "'hous dem aid even see comey letter jason chaffetz tweet darrel lucu octob subscrib jason chaffetz stump american fork utah imag courtesi michael jolley avail creativ common licens apolog keith olbermann doubt worst person world week fbi director jame comey accord hous democrat aid look like also know second worst person well turn comey sent infam letter announc fbi look email may relat hillari clinton email server rank democrat relev committe hear comey found via tweet one republican committe chairmen know comey notifi republican chairmen democrat rank member hous intellig judiciari oversight committe agenc review email recent discov order see contain classifi inform long letter went oversight committe chairman jason chaffetz set polit world ablaz tweet fbi dir inform fbi learn exist email appear pertin investig case reopen jason chaffetz jasoninthehous octob cours know case comey actual say review email light unrel case know anthoni weiner sext teenag appar littl thing fact matter chaffetz utah republican alreadi vow initi raft investig hillari win least two year worth possibl entir term worth appar chaffetz thought fbi alreadi work result tweet briefli roil nation cooler head realiz dud accord senior hous democrat aid misread letter may least chaffetz sin aid told shareblu boss democrat even know comey letter time found check twitter democrat rank member relev committe receiv comey letter republican chairmen fact democrat rank member receiv chairman oversight govern reform committe jason chaffetz tweet made public let see got right fbi director tell chaffetz gop committe chairmen major develop potenti polit explos investig neither chaffetz colleagu courtesi let democrat counterpart know instead accord aid made find twitter alreadi talk daili ko comey provid advanc notic letter chaffetz republican give time turn spin machin may make good theater noth far even suggest case noth far suggest comey anyth grossli incompet tone deaf suggest howev chaffetz act way make dan burton darrel issa look like model respons bipartisanship even decenc notifi rank member elijah cum someth explos trampl basic standard fair know grant like chaffetz answer sit ridicul republican district anchor provo orem cook partisan vote index r gave mitt romney punish percent vote moreov republican hous leadership given full support chaffetz plan fish expedit mean turn hot light textbook exampl hous becom republican control also second worst person world darrel lucu darrel someth graduat univers north carolina consid journalist old school attempt turn member religi right colleg succeed turn religi right worst nightmar charismat christian unapologet liber desir stand scare silenc increas surviv abus three year marriag may know daili ko christian dem nc follow twitter darrelllucu connect facebook click buy darrel mello yello connect'"
            ]
          },
          "execution_count": 63,
          "metadata": {},
          "output_type": "execute_result"
        }
      ],
      "source": [
        "corpus[0]"
      ]
    },
    {
      "cell_type": "markdown",
      "metadata": {
        "id": "d2S4iRCrqPN4"
      },
      "source": [
        "## **Bag of words**"
      ]
    },
    {
      "cell_type": "code",
      "execution_count": 64,
      "metadata": {
        "id": "Ma96gdjgXq-e"
      },
      "outputs": [],
      "source": [
        "from sklearn.feature_extraction.text import CountVectorizer"
      ]
    },
    {
      "cell_type": "code",
      "execution_count": 65,
      "metadata": {
        "id": "mJyodCnspGGt"
      },
      "outputs": [],
      "source": [
        "bow = CountVectorizer(max_features=6000,analyzer='word',ngram_range=(1,2))"
      ]
    },
    {
      "cell_type": "code",
      "execution_count": 66,
      "metadata": {
        "id": "UAaYBnoNpF8l"
      },
      "outputs": [],
      "source": [
        "X = bow.fit_transform(corpus).toarray()"
      ]
    },
    {
      "cell_type": "code",
      "execution_count": 67,
      "metadata": {
        "id": "4y4yX-hNvHfh"
      },
      "outputs": [],
      "source": [
        "y = train_df[['label']].iloc[:,-1]"
      ]
    },
    {
      "cell_type": "markdown",
      "metadata": {
        "id": "1zyjl5k62QSd"
      },
      "source": [
        "## **Train Test Validation Splits**"
      ]
    },
    {
      "cell_type": "code",
      "execution_count": 68,
      "metadata": {
        "id": "TO4gamDn3fN5"
      },
      "outputs": [],
      "source": [
        "from sklearn.model_selection import train_test_split"
      ]
    },
    {
      "cell_type": "code",
      "execution_count": 69,
      "metadata": {
        "colab": {
          "base_uri": "https://localhost:8080/"
        },
        "id": "lFcujCLT-D2F",
        "outputId": "a4e57afd-29fa-40da-c2a8-eaf62e713fcc"
      },
      "outputs": [
        {
          "data": {
            "text/plain": [
              "6000"
            ]
          },
          "execution_count": 69,
          "metadata": {},
          "output_type": "execute_result"
        }
      ],
      "source": [
        "len(list(bow.get_feature_names_out()))"
      ]
    },
    {
      "cell_type": "code",
      "execution_count": 70,
      "metadata": {
        "id": "0t6KXej1vC4A"
      },
      "outputs": [],
      "source": [
        "X_train, X_test, y_train, y_test = train_test_split(X, y, test_size=0.33, random_state=0)"
      ]
    },
    {
      "cell_type": "code",
      "execution_count": 71,
      "metadata": {
        "id": "-XdP9DKrH7DN"
      },
      "outputs": [],
      "source": [
        "from sklearn.metrics import accuracy_score,classification_report,confusion_matrix"
      ]
    },
    {
      "cell_type": "markdown",
      "metadata": {
        "id": "G8BypRgw5EN4"
      },
      "source": [
        "## **Logistic Regression**\n",
        "\n",
        "*Logistic regression is a classification algorithm used to find the probability of event success and event failure. It is used when the dependent variable is binary(0/1, True/False, Yes/No) in nature. It supports categorizing data into discrete classes by studying the relationship from a given set of labelled data*"
      ]
    },
    {
      "cell_type": "code",
      "execution_count": 72,
      "metadata": {
        "id": "4FiL4ZEJ5Daq"
      },
      "outputs": [],
      "source": [
        "from sklearn.linear_model import LogisticRegression"
      ]
    },
    {
      "cell_type": "code",
      "execution_count": 73,
      "metadata": {
        "id": "ntPFIQZx5tvQ"
      },
      "outputs": [],
      "source": [
        "model = LogisticRegression(random_state=42,solver='newton-cg',n_jobs=-1)"
      ]
    },
    {
      "cell_type": "code",
      "execution_count": 74,
      "metadata": {
        "colab": {
          "base_uri": "https://localhost:8080/"
        },
        "id": "oo2az4AE57H1",
        "outputId": "b982b908-cd5d-430f-83ff-ce9f5d4f7aef"
      },
      "outputs": [
        {
          "data": {
            "text/plain": [
              "LogisticRegression(n_jobs=-1, random_state=42, solver='newton-cg')"
            ]
          },
          "execution_count": 74,
          "metadata": {},
          "output_type": "execute_result"
        }
      ],
      "source": [
        "model.fit(X_train, y_train)"
      ]
    },
    {
      "cell_type": "code",
      "execution_count": 75,
      "metadata": {
        "id": "7nkuqjBl6Asr"
      },
      "outputs": [],
      "source": [
        "test_preds = model.predict(X_test)"
      ]
    },
    {
      "cell_type": "code",
      "execution_count": 76,
      "metadata": {
        "colab": {
          "base_uri": "https://localhost:8080/"
        },
        "id": "w_rAcOI97GCN",
        "outputId": "53daa9d2-5613-49fa-9b45-97ebfd5a5785"
      },
      "outputs": [
        {
          "data": {
            "text/plain": [
              "0.9513403263403264"
            ]
          },
          "execution_count": 76,
          "metadata": {},
          "output_type": "execute_result"
        }
      ],
      "source": [
        "accuracy_score(test_preds, y_test)"
      ]
    },
    {
      "cell_type": "code",
      "execution_count": 77,
      "metadata": {
        "colab": {
          "base_uri": "https://localhost:8080/"
        },
        "id": "iNeaK6Pw7OK1",
        "outputId": "1aea2239-1847-4ec7-f00c-eca6f971b2a4"
      },
      "outputs": [
        {
          "name": "stdout",
          "output_type": "stream",
          "text": [
            "              precision    recall  f1-score   support\n",
            "\n",
            "           0       0.94      0.96      0.95      3332\n",
            "           1       0.96      0.94      0.95      3532\n",
            "\n",
            "    accuracy                           0.95      6864\n",
            "   macro avg       0.95      0.95      0.95      6864\n",
            "weighted avg       0.95      0.95      0.95      6864\n",
            "\n"
          ]
        }
      ],
      "source": [
        "print(classification_report(test_preds, y_test))"
      ]
    },
    {
      "cell_type": "code",
      "execution_count": 78,
      "metadata": {},
      "outputs": [],
      "source": [
        "from sklearn.metrics import recall_score,precision_score,f1_score"
      ]
    },
    {
      "cell_type": "code",
      "execution_count": 79,
      "metadata": {},
      "outputs": [],
      "source": [
        "performance_df = pd.DataFrame({\n",
        "    'model': ['LogisticRegression'],\n",
        "    'accuracy_score': [accuracy_score(test_preds, y_test)],\n",
        "    'recall_score': [recall_score(test_preds, y_test)],\n",
        "    'precision_score': [precision_score(test_preds, y_test)],\n",
        "    'f1_score': [f1_score(test_preds, y_test)],\n",
        "})"
      ]
    },
    {
      "cell_type": "code",
      "execution_count": 80,
      "metadata": {
        "colab": {
          "base_uri": "https://localhost:8080/",
          "height": 364
        },
        "id": "m6jAPR0tIMTI",
        "outputId": "553f9100-5ff8-4775-b394-94d21e161316"
      },
      "outputs": [
        {
          "data": {
            "image/png": "[encoded data removed]",
            "text/plain": [
              "<Figure size 720x360 with 2 Axes>"
            ]
          },
          "metadata": {
            "needs_background": "light"
          },
          "output_type": "display_data"
        }
      ],
      "source": [
        "sns.heatmap(confusion_matrix(test_preds,y_test),annot=True,fmt='d');\n",
        "plt.xlabel('Actual Class')\n",
        "plt.ylabel('Predicted Class')\n",
        "plt.title('Confusion Matrix(LogisticRegression)');"
      ]
    },
    {
      "cell_type": "markdown",
      "metadata": {
        "id": "b5uwErQvylQM"
      },
      "source": [
        "## **Passive-Aggressive classifiers**\n",
        "*Passive-Aggressive algorithms are generally used for large-scale learning. It is one of the few ‘online-learning algorithms‘. In online machine learning algorithms, the input data comes in sequential order and the machine learning model is updated step-by-step, as opposed to batch learning, where the entire training dataset is used at once.*\n",
        "\n",
        "*This is very useful in situations where there is a huge amount of data and it is computationally infeasible to train the entire dataset because of the sheer size of the data. We can simply say that an online-learning algorithm will get a training example, update the classifier, and then throw away the example*\n",
        "\n",
        "https://www.geeksforgeeks.org/passive-aggressive-classifiers/"
      ]
    },
    {
      "cell_type": "code",
      "execution_count": 81,
      "metadata": {
        "id": "-92HTcYbykpW"
      },
      "outputs": [],
      "source": [
        "from sklearn.linear_model import PassiveAggressiveClassifier"
      ]
    },
    {
      "cell_type": "code",
      "execution_count": 82,
      "metadata": {
        "id": "xJcCYNL0zqUo"
      },
      "outputs": [],
      "source": [
        "from sklearn.metrics import classification_report, accuracy_score"
      ]
    },
    {
      "cell_type": "code",
      "execution_count": 83,
      "metadata": {
        "id": "Fx8YkTUYzKus"
      },
      "outputs": [],
      "source": [
        "model = PassiveAggressiveClassifier(random_state=42)"
      ]
    },
    {
      "cell_type": "code",
      "execution_count": 84,
      "metadata": {
        "colab": {
          "base_uri": "https://localhost:8080/"
        },
        "id": "7UhOKiwFzKry",
        "outputId": "e581cf4b-28be-4318-97ab-edcbba8776c0"
      },
      "outputs": [
        {
          "data": {
            "text/plain": [
              "PassiveAggressiveClassifier(random_state=42)"
            ]
          },
          "execution_count": 84,
          "metadata": {},
          "output_type": "execute_result"
        }
      ],
      "source": [
        "model.fit(X_train, y_train)"
      ]
    },
    {
      "cell_type": "code",
      "execution_count": 85,
      "metadata": {
        "id": "RYHs8XLVzKo0"
      },
      "outputs": [],
      "source": [
        "test_preds = model.predict(X_test)"
      ]
    },
    {
      "cell_type": "code",
      "execution_count": 86,
      "metadata": {
        "colab": {
          "base_uri": "https://localhost:8080/"
        },
        "id": "wET1r2wJzKlW",
        "outputId": "e0a57bc9-5a1b-4149-c3a6-9fedbe49f7e7"
      },
      "outputs": [
        {
          "data": {
            "text/plain": [
              "0.9423076923076923"
            ]
          },
          "execution_count": 86,
          "metadata": {},
          "output_type": "execute_result"
        }
      ],
      "source": [
        "accuracy_score(test_preds, y_test)"
      ]
    },
    {
      "cell_type": "code",
      "execution_count": 87,
      "metadata": {
        "colab": {
          "base_uri": "https://localhost:8080/"
        },
        "id": "PuJp7DlZzKiV",
        "outputId": "2db824c8-6092-4687-f084-63bc8d1e921b"
      },
      "outputs": [
        {
          "name": "stdout",
          "output_type": "stream",
          "text": [
            "              precision    recall  f1-score   support\n",
            "\n",
            "           0       0.93      0.95      0.94      3342\n",
            "           1       0.95      0.94      0.94      3522\n",
            "\n",
            "    accuracy                           0.94      6864\n",
            "   macro avg       0.94      0.94      0.94      6864\n",
            "weighted avg       0.94      0.94      0.94      6864\n",
            "\n"
          ]
        }
      ],
      "source": [
        "print(classification_report(test_preds, y_test))"
      ]
    },
    {
      "cell_type": "code",
      "execution_count": 88,
      "metadata": {
        "colab": {
          "base_uri": "https://localhost:8080/",
          "height": 364
        },
        "id": "rm-BL72gIGej",
        "outputId": "2f0ace2f-b80b-4a4c-dd23-5c4c70eeb045"
      },
      "outputs": [
        {
          "data": {
            "image/png": "[encoded data removed]",
            "text/plain": [
              "<Figure size 720x360 with 2 Axes>"
            ]
          },
          "metadata": {
            "needs_background": "light"
          },
          "output_type": "display_data"
        }
      ],
      "source": [
        "sns.heatmap(confusion_matrix(test_preds,y_test),annot=True,fmt='d');\n",
        "plt.xlabel('Actual Class')\n",
        "plt.ylabel('Predicted Class')\n",
        "plt.title('Confusion Matrix(PassiveAggressiveClassifier)');"
      ]
    },
    {
      "cell_type": "code",
      "execution_count": 89,
      "metadata": {},
      "outputs": [],
      "source": [
        "performance = {\n",
        "    'model': ['PassiveAggressiveClassifier'],\n",
        "    'accuracy_score': [accuracy_score(test_preds, y_test)],\n",
        "    'recall_score': [recall_score(test_preds, y_test)],\n",
        "    'precision_score': [precision_score(test_preds, y_test)],\n",
        "    'f1_score': [f1_score(test_preds, y_test)],\n",
        "}"
      ]
    },
    {
      "cell_type": "code",
      "execution_count": 90,
      "metadata": {},
      "outputs": [],
      "source": [
        "performance_df = performance_df.append(pd.DataFrame(performance),ignore_index=False)"
      ]
    },
    {
      "cell_type": "markdown",
      "metadata": {
        "id": "IkIoBZzm7xvn"
      },
      "source": [
        "## **K-nearest neighbors**\n",
        "\n",
        "*K-Nearest Neighbours is one of the most basic yet essential classification algorithms in Machine Learning. It belongs to the supervised learning domain and finds intense application in pattern recognition, data mining and intrusion detection.*"
      ]
    },
    {
      "cell_type": "code",
      "execution_count": 91,
      "metadata": {
        "id": "tgMiMEHY7fSj"
      },
      "outputs": [],
      "source": [
        "from sklearn.neighbors import KNeighborsClassifier"
      ]
    },
    {
      "cell_type": "code",
      "execution_count": 92,
      "metadata": {
        "id": "6ro-0EM9zKe5"
      },
      "outputs": [],
      "source": [
        "model = KNeighborsClassifier(n_neighbors=3)"
      ]
    },
    {
      "cell_type": "code",
      "execution_count": 93,
      "metadata": {
        "colab": {
          "base_uri": "https://localhost:8080/"
        },
        "id": "yFacljsUzKbm",
        "outputId": "aed09d1a-3b97-475d-a4e7-67728e2a6651"
      },
      "outputs": [
        {
          "data": {
            "text/plain": [
              "KNeighborsClassifier(n_neighbors=3)"
            ]
          },
          "execution_count": 93,
          "metadata": {},
          "output_type": "execute_result"
        }
      ],
      "source": [
        "model.fit(X_train, y_train)"
      ]
    },
    {
      "cell_type": "code",
      "execution_count": 94,
      "metadata": {
        "id": "bUyzNvs0pFVU"
      },
      "outputs": [],
      "source": [
        "test_preds = model.predict(X_test)"
      ]
    },
    {
      "cell_type": "code",
      "execution_count": 95,
      "metadata": {
        "colab": {
          "base_uri": "https://localhost:8080/"
        },
        "id": "YgP-7FWR8bHV",
        "outputId": "d7580bc8-bd94-43f0-e437-4687121a6381"
      },
      "outputs": [
        {
          "data": {
            "text/plain": [
              "0.7964743589743589"
            ]
          },
          "execution_count": 95,
          "metadata": {},
          "output_type": "execute_result"
        }
      ],
      "source": [
        "accuracy_score(test_preds, y_test)"
      ]
    },
    {
      "cell_type": "code",
      "execution_count": 96,
      "metadata": {},
      "outputs": [],
      "source": [
        "performance = {\n",
        "    'model': ['KNeighborsClassifier'],\n",
        "    'accuracy_score': [accuracy_score(test_preds, y_test)],\n",
        "    'recall_score': [recall_score(test_preds, y_test)],\n",
        "    'precision_score': [precision_score(test_preds, y_test)],\n",
        "    'f1_score': [f1_score(test_preds, y_test)],\n",
        "}\n"
      ]
    },
    {
      "cell_type": "code",
      "execution_count": 97,
      "metadata": {},
      "outputs": [],
      "source": [
        "performance_df = performance_df.append(pd.DataFrame(performance),ignore_index=True)"
      ]
    },
    {
      "cell_type": "code",
      "execution_count": 98,
      "metadata": {
        "colab": {
          "base_uri": "https://localhost:8080/"
        },
        "id": "YkJxhUu78dzU",
        "outputId": "c4b2df53-ce66-44df-c51d-01a0651b5b53"
      },
      "outputs": [
        {
          "name": "stdout",
          "output_type": "stream",
          "text": [
            "              precision    recall  f1-score   support\n",
            "\n",
            "           0       0.64      0.92      0.76      2363\n",
            "           1       0.95      0.73      0.82      4501\n",
            "\n",
            "    accuracy                           0.80      6864\n",
            "   macro avg       0.79      0.83      0.79      6864\n",
            "weighted avg       0.84      0.80      0.80      6864\n",
            "\n"
          ]
        }
      ],
      "source": [
        "print(classification_report(test_preds, y_test))"
      ]
    },
    {
      "cell_type": "code",
      "execution_count": 99,
      "metadata": {
        "colab": {
          "base_uri": "https://localhost:8080/",
          "height": 364
        },
        "id": "xk3vgpFcH-7N",
        "outputId": "96628657-b2b9-4235-a501-790149e04577"
      },
      "outputs": [
        {
          "data": {
            "image/png": "[encoded data removed]",
            "text/plain": [
              "<Figure size 720x360 with 2 Axes>"
            ]
          },
          "metadata": {
            "needs_background": "light"
          },
          "output_type": "display_data"
        }
      ],
      "source": [
        "sns.heatmap(confusion_matrix(test_preds,y_test),annot=True,fmt='d');\n",
        "plt.xlabel('Actual Class')\n",
        "plt.ylabel('Predicted Class')\n",
        "plt.title('Confusion Matrix(KNeighborsClassifier)');"
      ]
    },
    {
      "cell_type": "markdown",
      "metadata": {
        "id": "miv0ieHn8t7x"
      },
      "source": [
        "## **Random Forest Classifier**\n",
        "\n",
        "*The Random forest or Random Decision Forest is a supervised Machine learning algorithm used for classification, regression, and other tasks using decision trees.*\n",
        "\n",
        "*The Random forest classifier creates a set of decision trees from a randomly selected subset of the training set. It is basically a set of decision trees (DT) from a randomly selected subset of the training set and then It collects the votes from different decision trees to decide the final prediction.*"
      ]
    },
    {
      "cell_type": "code",
      "execution_count": 100,
      "metadata": {
        "id": "PpeT6pv0ACAP"
      },
      "outputs": [],
      "source": [
        "from sklearn.ensemble import RandomForestClassifier"
      ]
    },
    {
      "cell_type": "code",
      "execution_count": 101,
      "metadata": {
        "id": "yb2_q10OAJsh"
      },
      "outputs": [],
      "source": [
        "model = RandomForestClassifier(random_state=42,n_jobs=-1)"
      ]
    },
    {
      "cell_type": "code",
      "execution_count": 102,
      "metadata": {
        "colab": {
          "base_uri": "https://localhost:8080/"
        },
        "id": "mRov_56bA-jq",
        "outputId": "8e6cb785-ea93-4ba2-fee6-604468f634b0"
      },
      "outputs": [
        {
          "data": {
            "text/plain": [
              "RandomForestClassifier(n_jobs=-1, random_state=42)"
            ]
          },
          "execution_count": 102,
          "metadata": {},
          "output_type": "execute_result"
        }
      ],
      "source": [
        "model.fit(X_train,y_train)"
      ]
    },
    {
      "cell_type": "code",
      "execution_count": 103,
      "metadata": {
        "id": "gJBpGg01CsYK"
      },
      "outputs": [],
      "source": [
        "test_preds = model.predict(X_test)"
      ]
    },
    {
      "cell_type": "code",
      "execution_count": 104,
      "metadata": {},
      "outputs": [],
      "source": [
        "performance = {\n",
        "    'model': ['RandomForestClassifier'],\n",
        "    'accuracy_score': [accuracy_score(test_preds, y_test)],\n",
        "    'recall_score': [recall_score(test_preds, y_test)],\n",
        "    'precision_score': [precision_score(test_preds, y_test)],\n",
        "    'f1_score': [f1_score(test_preds, y_test)],\n",
        "}"
      ]
    },
    {
      "cell_type": "code",
      "execution_count": 105,
      "metadata": {},
      "outputs": [],
      "source": [
        "performance_df = performance_df.append(pd.DataFrame(performance),ignore_index=True)"
      ]
    },
    {
      "cell_type": "code",
      "execution_count": 106,
      "metadata": {
        "colab": {
          "base_uri": "https://localhost:8080/"
        },
        "id": "mF0WgcvIC94w",
        "outputId": "81fc2877-107f-4b83-d827-606405a8b023"
      },
      "outputs": [
        {
          "data": {
            "text/plain": [
              "0.9376456876456877"
            ]
          },
          "execution_count": 106,
          "metadata": {},
          "output_type": "execute_result"
        }
      ],
      "source": [
        "accuracy_score(test_preds, y_test)"
      ]
    },
    {
      "cell_type": "code",
      "execution_count": 107,
      "metadata": {
        "colab": {
          "base_uri": "https://localhost:8080/"
        },
        "id": "H19wStsDDEYV",
        "outputId": "a54a261c-5e7b-485d-c71d-d812dd04566e"
      },
      "outputs": [
        {
          "name": "stdout",
          "output_type": "stream",
          "text": [
            "              precision    recall  f1-score   support\n",
            "\n",
            "           0       0.94      0.94      0.94      3402\n",
            "           1       0.94      0.94      0.94      3462\n",
            "\n",
            "    accuracy                           0.94      6864\n",
            "   macro avg       0.94      0.94      0.94      6864\n",
            "weighted avg       0.94      0.94      0.94      6864\n",
            "\n"
          ]
        }
      ],
      "source": [
        "print(classification_report(test_preds,y_test))"
      ]
    },
    {
      "cell_type": "code",
      "execution_count": 108,
      "metadata": {
        "id": "et9o3BHBEcKC"
      },
      "outputs": [],
      "source": [
        "from sklearn.metrics import confusion_matrix"
      ]
    },
    {
      "cell_type": "code",
      "execution_count": 109,
      "metadata": {
        "colab": {
          "base_uri": "https://localhost:8080/"
        },
        "id": "kelZQlQWGwl-",
        "outputId": "39995af1-8691-4fb2-d293-d093e798dd11"
      },
      "outputs": [
        {
          "data": {
            "text/plain": [
              "array([0, 1], dtype=int64)"
            ]
          },
          "execution_count": 109,
          "metadata": {},
          "output_type": "execute_result"
        }
      ],
      "source": [
        "model.classes_"
      ]
    },
    {
      "cell_type": "code",
      "execution_count": 110,
      "metadata": {
        "colab": {
          "base_uri": "https://localhost:8080/",
          "height": 364
        },
        "id": "LYTtoYDzEWSA",
        "outputId": "bd570bb8-790a-460a-ceb9-88ddaffafaac"
      },
      "outputs": [
        {
          "data": {
            "image/png": "[encoded data removed]",
            "text/plain": [
              "<Figure size 720x360 with 2 Axes>"
            ]
          },
          "metadata": {
            "needs_background": "light"
          },
          "output_type": "display_data"
        }
      ],
      "source": [
        "sns.heatmap(confusion_matrix(test_preds,y_test),annot=True,fmt='d');\n",
        "plt.xlabel('Actual Class')\n",
        "plt.ylabel('Predicted Class')\n",
        "plt.title('Confusion Matrix(RandomForestClassifier)');"
      ]
    },
    {
      "cell_type": "code",
      "execution_count": 111,
      "metadata": {
        "id": "GRblPgARHULV"
      },
      "outputs": [],
      "source": [
        "tn, fp, fn, tp = confusion_matrix(test_preds,y_test).ravel()"
      ]
    },
    {
      "cell_type": "code",
      "execution_count": 112,
      "metadata": {
        "colab": {
          "base_uri": "https://localhost:8080/"
        },
        "id": "iTDLP4PcHbBK",
        "outputId": "f78e3f52-9226-43a9-8cf9-09f72beb88e6"
      },
      "outputs": [
        {
          "data": {
            "text/plain": [
              "3182"
            ]
          },
          "execution_count": 112,
          "metadata": {},
          "output_type": "execute_result"
        }
      ],
      "source": [
        "tn"
      ]
    },
    {
      "cell_type": "code",
      "execution_count": 113,
      "metadata": {
        "colab": {
          "base_uri": "https://localhost:8080/"
        },
        "id": "DGMQEzKoHfwN",
        "outputId": "002b7311-cef0-47b6-a8f2-f2e0c6abd845"
      },
      "outputs": [
        {
          "data": {
            "text/plain": [
              "3254"
            ]
          },
          "execution_count": 113,
          "metadata": {},
          "output_type": "execute_result"
        }
      ],
      "source": [
        "tp"
      ]
    },
    {
      "cell_type": "markdown",
      "metadata": {
        "id": "5rMU4VNv-Dzt"
      },
      "source": [
        "## **Final Model**\n",
        " *All the models that we tried above have almost same test accuracy of about 94% except knn, as well as they are able to distinguish between true positives and true negatives, almost same recall and precision scores of about 93%.*\n",
        " \n",
        " \n",
        "*But as we have to process huge amount of text data we will going forward with Passive Aggressive Classifier*"
      ]
    },
    {
      "cell_type": "code",
      "execution_count": 114,
      "metadata": {
        "id": "ehg4ZOXJ-Ba3"
      },
      "outputs": [
        {
          "name": "stdout",
          "output_type": "stream",
          "text": [
            "\u001b[1;31mInit signature:\u001b[0m\n",
            "\u001b[0mPassiveAggressiveClassifier\u001b[0m\u001b[1;33m(\u001b[0m\u001b[1;33m\n",
            "\u001b[0m    \u001b[1;33m*\u001b[0m\u001b[1;33m,\u001b[0m\u001b[1;33m\n",
            "\u001b[0m    \u001b[0mC\u001b[0m\u001b[1;33m=\u001b[0m\u001b[1;36m1.0\u001b[0m\u001b[1;33m,\u001b[0m\u001b[1;33m\n",
            "\u001b[0m    \u001b[0mfit_intercept\u001b[0m\u001b[1;33m=\u001b[0m\u001b[1;32mTrue\u001b[0m\u001b[1;33m,\u001b[0m\u001b[1;33m\n",
            "\u001b[0m    \u001b[0mmax_iter\u001b[0m\u001b[1;33m=\u001b[0m\u001b[1;36m1000\u001b[0m\u001b[1;33m,\u001b[0m\u001b[1;33m\n",
            "\u001b[0m    \u001b[0mtol\u001b[0m\u001b[1;33m=\u001b[0m\u001b[1;36m0.001\u001b[0m\u001b[1;33m,\u001b[0m\u001b[1;33m\n",
            "\u001b[0m    \u001b[0mearly_stopping\u001b[0m\u001b[1;33m=\u001b[0m\u001b[1;32mFalse\u001b[0m\u001b[1;33m,\u001b[0m\u001b[1;33m\n",
            "\u001b[0m    \u001b[0mvalidation_fraction\u001b[0m\u001b[1;33m=\u001b[0m\u001b[1;36m0.1\u001b[0m\u001b[1;33m,\u001b[0m\u001b[1;33m\n",
            "\u001b[0m    \u001b[0mn_iter_no_change\u001b[0m\u001b[1;33m=\u001b[0m\u001b[1;36m5\u001b[0m\u001b[1;33m,\u001b[0m\u001b[1;33m\n",
            "\u001b[0m    \u001b[0mshuffle\u001b[0m\u001b[1;33m=\u001b[0m\u001b[1;32mTrue\u001b[0m\u001b[1;33m,\u001b[0m\u001b[1;33m\n",
            "\u001b[0m    \u001b[0mverbose\u001b[0m\u001b[1;33m=\u001b[0m\u001b[1;36m0\u001b[0m\u001b[1;33m,\u001b[0m\u001b[1;33m\n",
            "\u001b[0m    \u001b[0mloss\u001b[0m\u001b[1;33m=\u001b[0m\u001b[1;34m'hinge'\u001b[0m\u001b[1;33m,\u001b[0m\u001b[1;33m\n",
            "\u001b[0m    \u001b[0mn_jobs\u001b[0m\u001b[1;33m=\u001b[0m\u001b[1;32mNone\u001b[0m\u001b[1;33m,\u001b[0m\u001b[1;33m\n",
            "\u001b[0m    \u001b[0mrandom_state\u001b[0m\u001b[1;33m=\u001b[0m\u001b[1;32mNone\u001b[0m\u001b[1;33m,\u001b[0m\u001b[1;33m\n",
            "\u001b[0m    \u001b[0mwarm_start\u001b[0m\u001b[1;33m=\u001b[0m\u001b[1;32mFalse\u001b[0m\u001b[1;33m,\u001b[0m\u001b[1;33m\n",
            "\u001b[0m    \u001b[0mclass_weight\u001b[0m\u001b[1;33m=\u001b[0m\u001b[1;32mNone\u001b[0m\u001b[1;33m,\u001b[0m\u001b[1;33m\n",
            "\u001b[0m    \u001b[0maverage\u001b[0m\u001b[1;33m=\u001b[0m\u001b[1;32mFalse\u001b[0m\u001b[1;33m,\u001b[0m\u001b[1;33m\n",
            "\u001b[0m\u001b[1;33m)\u001b[0m\u001b[1;33m\u001b[0m\u001b[1;33m\u001b[0m\u001b[0m\n",
            "\u001b[1;31mDocstring:\u001b[0m     \n",
            "Passive Aggressive Classifier.\n",
            "\n",
            "Read more in the :ref:`User Guide <passive_aggressive>`.\n",
            "\n",
            "Parameters\n",
            "----------\n",
            "C : float, default=1.0\n",
            "    Maximum step size (regularization). Defaults to 1.0.\n",
            "\n",
            "fit_intercept : bool, default=True\n",
            "    Whether the intercept should be estimated or not. If False, the\n",
            "    data is assumed to be already centered.\n",
            "\n",
            "max_iter : int, default=1000\n",
            "    The maximum number of passes over the training data (aka epochs).\n",
            "    It only impacts the behavior in the ``fit`` method, and not the\n",
            "    :meth:`partial_fit` method.\n",
            "\n",
            "    .. versionadded:: 0.19\n",
            "\n",
            "tol : float or None, default=1e-3\n",
            "    The stopping criterion. If it is not None, the iterations will stop\n",
            "    when (loss > previous_loss - tol).\n",
            "\n",
            "    .. versionadded:: 0.19\n",
            "\n",
            "early_stopping : bool, default=False\n",
            "    Whether to use early stopping to terminate training when validation.\n",
            "    score is not improving. If set to True, it will automatically set aside\n",
            "    a stratified fraction of training data as validation and terminate\n",
            "    training when validation score is not improving by at least tol for\n",
            "    n_iter_no_change consecutive epochs.\n",
            "\n",
            "    .. versionadded:: 0.20\n",
            "\n",
            "validation_fraction : float, default=0.1\n",
            "    The proportion of training data to set aside as validation set for\n",
            "    early stopping. Must be between 0 and 1.\n",
            "    Only used if early_stopping is True.\n",
            "\n",
            "    .. versionadded:: 0.20\n",
            "\n",
            "n_iter_no_change : int, default=5\n",
            "    Number of iterations with no improvement to wait before early stopping.\n",
            "\n",
            "    .. versionadded:: 0.20\n",
            "\n",
            "shuffle : bool, default=True\n",
            "    Whether or not the training data should be shuffled after each epoch.\n",
            "\n",
            "verbose : int, default=0\n",
            "    The verbosity level.\n",
            "\n",
            "loss : str, default=\"hinge\"\n",
            "    The loss function to be used:\n",
            "    hinge: equivalent to PA-I in the reference paper.\n",
            "    squared_hinge: equivalent to PA-II in the reference paper.\n",
            "\n",
            "n_jobs : int or None, default=None\n",
            "    The number of CPUs to use to do the OVA (One Versus All, for\n",
            "    multi-class problems) computation.\n",
            "    ``None`` means 1 unless in a :obj:`joblib.parallel_backend` context.\n",
            "    ``-1`` means using all processors. See :term:`Glossary <n_jobs>`\n",
            "    for more details.\n",
            "\n",
            "random_state : int, RandomState instance, default=None\n",
            "    Used to shuffle the training data, when ``shuffle`` is set to\n",
            "    ``True``. Pass an int for reproducible output across multiple\n",
            "    function calls.\n",
            "    See :term:`Glossary <random_state>`.\n",
            "\n",
            "warm_start : bool, default=False\n",
            "    When set to True, reuse the solution of the previous call to fit as\n",
            "    initialization, otherwise, just erase the previous solution.\n",
            "    See :term:`the Glossary <warm_start>`.\n",
            "\n",
            "    Repeatedly calling fit or partial_fit when warm_start is True can\n",
            "    result in a different solution than when calling fit a single time\n",
            "    because of the way the data is shuffled.\n",
            "\n",
            "class_weight : dict, {class_label: weight} or \"balanced\" or None,             default=None\n",
            "    Preset for the class_weight fit parameter.\n",
            "\n",
            "    Weights associated with classes. If not given, all classes\n",
            "    are supposed to have weight one.\n",
            "\n",
            "    The \"balanced\" mode uses the values of y to automatically adjust\n",
            "    weights inversely proportional to class frequencies in the input data\n",
            "    as ``n_samples / (n_classes * np.bincount(y))``.\n",
            "\n",
            "    .. versionadded:: 0.17\n",
            "       parameter *class_weight* to automatically weight samples.\n",
            "\n",
            "average : bool or int, default=False\n",
            "    When set to True, computes the averaged SGD weights and stores the\n",
            "    result in the ``coef_`` attribute. If set to an int greater than 1,\n",
            "    averaging will begin once the total number of samples seen reaches\n",
            "    average. So average=10 will begin averaging after seeing 10 samples.\n",
            "\n",
            "    .. versionadded:: 0.19\n",
            "       parameter *average* to use weights averaging in SGD.\n",
            "\n",
            "Attributes\n",
            "----------\n",
            "coef_ : ndarray of shape (1, n_features) if n_classes == 2 else             (n_classes, n_features)\n",
            "    Weights assigned to the features.\n",
            "\n",
            "intercept_ : ndarray of shape (1,) if n_classes == 2 else (n_classes,)\n",
            "    Constants in decision function.\n",
            "\n",
            "n_features_in_ : int\n",
            "    Number of features seen during :term:`fit`.\n",
            "\n",
            "    .. versionadded:: 0.24\n",
            "\n",
            "feature_names_in_ : ndarray of shape (`n_features_in_`,)\n",
            "    Names of features seen during :term:`fit`. Defined only when `X`\n",
            "    has feature names that are all strings.\n",
            "\n",
            "    .. versionadded:: 1.0\n",
            "\n",
            "n_iter_ : int\n",
            "    The actual number of iterations to reach the stopping criterion.\n",
            "    For multiclass fits, it is the maximum over every binary fit.\n",
            "\n",
            "classes_ : ndarray of shape (n_classes,)\n",
            "    The unique classes labels.\n",
            "\n",
            "t_ : int\n",
            "    Number of weight updates performed during training.\n",
            "    Same as ``(n_iter_ * n_samples)``.\n",
            "\n",
            "loss_function_ : callable\n",
            "    Loss function used by the algorithm.\n",
            "\n",
            "See Also\n",
            "--------\n",
            "SGDClassifier : Incrementally trained logistic regression.\n",
            "Perceptron : Linear perceptron classifier.\n",
            "\n",
            "References\n",
            "----------\n",
            "Online Passive-Aggressive Algorithms\n",
            "<http://jmlr.csail.mit.edu/papers/volume7/crammer06a/crammer06a.pdf>\n",
            "K. Crammer, O. Dekel, J. Keshat, S. Shalev-Shwartz, Y. Singer - JMLR (2006)\n",
            "\n",
            "Examples\n",
            "--------\n",
            ">>> from sklearn.linear_model import PassiveAggressiveClassifier\n",
            ">>> from sklearn.datasets import make_classification\n",
            ">>> X, y = make_classification(n_features=4, random_state=0)\n",
            ">>> clf = PassiveAggressiveClassifier(max_iter=1000, random_state=0,\n",
            "... tol=1e-3)\n",
            ">>> clf.fit(X, y)\n",
            "PassiveAggressiveClassifier(random_state=0)\n",
            ">>> print(clf.coef_)\n",
            "[[0.26642044 0.45070924 0.67251877 0.64185414]]\n",
            ">>> print(clf.intercept_)\n",
            "[1.84127814]\n",
            ">>> print(clf.predict([[0, 0, 0, 0]]))\n",
            "[1]\n",
            "\u001b[1;31mFile:\u001b[0m           c:\\users\\archa\\miniconda3\\envs\\zerotopandas\\lib\\site-packages\\sklearn\\linear_model\\_passive_aggressive.py\n",
            "\u001b[1;31mType:\u001b[0m           ABCMeta\n",
            "\u001b[1;31mSubclasses:\u001b[0m     \n"
          ]
        }
      ],
      "source": [
        "?PassiveAggressiveClassifier"
      ]
    },
    {
      "cell_type": "code",
      "execution_count": 115,
      "metadata": {
        "id": "PIfUbZQO-BQH"
      },
      "outputs": [],
      "source": [
        "def C_error(md):\n",
        "    model = PassiveAggressiveClassifier(C=md, random_state=42)\n",
        "    model.fit(X_train, y_train)\n",
        "    train_acc = 1 - model.score(X_train, y_train)\n",
        "    val_acc = 1 - model.score(X_test, y_test)\n",
        "    return {'C': md, 'Training Error': train_acc, 'Validation Error': val_acc}"
      ]
    },
    {
      "cell_type": "code",
      "execution_count": 116,
      "metadata": {
        "colab": {
          "base_uri": "https://localhost:8080/"
        },
        "id": "SGNWFuP_fHNb",
        "outputId": "43b331ab-ca57-4bba-f559-9ba0ea758cd6"
      },
      "outputs": [
        {
          "data": {
            "text/plain": [
              "array([0.        , 0.00035714, 0.00071429, 0.00107143, 0.00142857,\n",
              "       0.00178571, 0.00214286, 0.0025    ])"
            ]
          },
          "execution_count": 116,
          "metadata": {},
          "output_type": "execute_result"
        }
      ],
      "source": [
        "np.linspace(0,0.0025,8)"
      ]
    },
    {
      "cell_type": "code",
      "execution_count": 117,
      "metadata": {
        "id": "HRSRFZoAZjOX"
      },
      "outputs": [],
      "source": [
        "errors_df = pd.DataFrame([C_error(md) for md in [0.0001, 0.0002, 0.001, 0.01, ]])"
      ]
    },
    {
      "cell_type": "code",
      "execution_count": 118,
      "metadata": {
        "colab": {
          "base_uri": "https://localhost:8080/",
          "height": 364
        },
        "id": "4sIpSXs1ZjKy",
        "outputId": "09f8e1d8-af3d-4a22-c9e6-b39927afc1bb"
      },
      "outputs": [
        {
          "data": {
            "image/png": "[encoded data removed]",
            "text/plain": [
              "<Figure size 720x360 with 1 Axes>"
            ]
          },
          "metadata": {
            "needs_background": "light"
          },
          "output_type": "display_data"
        }
      ],
      "source": [
        "plt.figure()\n",
        "plt.plot(errors_df['C'], errors_df['Training Error'])\n",
        "plt.plot(errors_df['C'], errors_df['Validation Error'])\n",
        "plt.title('Training vs. Validation Error')\n",
        "plt.xlabel('C')\n",
        "plt.ylabel('Prediction Error (1 - Accuracy)')\n",
        "plt.legend(['Training', 'Validation']);"
      ]
    },
    {
      "cell_type": "markdown",
      "metadata": {
        "id": "W8kcsbpDkKAi"
      },
      "source": [
        "*We have tuned hyperparameter C which is inverse of regularization strength, lower the value higher the regularization*"
      ]
    },
    {
      "cell_type": "code",
      "execution_count": 119,
      "metadata": {
        "id": "l0KwPE3QZjIF"
      },
      "outputs": [],
      "source": [
        "model = PassiveAggressiveClassifier(random_state=42, C=0.001, n_jobs=-1)"
      ]
    },
    {
      "cell_type": "code",
      "execution_count": 120,
      "metadata": {
        "colab": {
          "base_uri": "https://localhost:8080/"
        },
        "id": "6gUrgsZgZjFM",
        "outputId": "d710c58d-4678-4f8d-be92-cde3a181c008"
      },
      "outputs": [
        {
          "data": {
            "text/plain": [
              "PassiveAggressiveClassifier(C=0.001, n_jobs=-1, random_state=42)"
            ]
          },
          "execution_count": 120,
          "metadata": {},
          "output_type": "execute_result"
        }
      ],
      "source": [
        "model.fit(X_train,y_train)"
      ]
    },
    {
      "cell_type": "code",
      "execution_count": 121,
      "metadata": {
        "id": "UiCH1-JRZjCZ"
      },
      "outputs": [],
      "source": [
        "test_preds = model.predict(X_test)"
      ]
    },
    {
      "cell_type": "code",
      "execution_count": 122,
      "metadata": {
        "colab": {
          "base_uri": "https://localhost:8080/"
        },
        "id": "zMcUdBjojjxB",
        "outputId": "94b915f8-7586-44d1-be49-9f69848fe935"
      },
      "outputs": [
        {
          "data": {
            "text/plain": [
              "0.951048951048951"
            ]
          },
          "execution_count": 122,
          "metadata": {},
          "output_type": "execute_result"
        }
      ],
      "source": [
        "accuracy_score(test_preds,y_test)"
      ]
    },
    {
      "cell_type": "code",
      "execution_count": 123,
      "metadata": {},
      "outputs": [],
      "source": [
        "performance = {\n",
        "    'model': ['PassiveAggressiveClassifier'],\n",
        "    'accuracy_score': [accuracy_score(test_preds, y_test)],\n",
        "    'recall_score': [recall_score(test_preds, y_test)],\n",
        "    'precision_score': [precision_score(test_preds, y_test)],\n",
        "    'f1_score': [f1_score(test_preds, y_test)],\n",
        "}\n"
      ]
    },
    {
      "cell_type": "code",
      "execution_count": 124,
      "metadata": {},
      "outputs": [],
      "source": [
        "performance_df = performance_df.append(pd.DataFrame(performance),ignore_index=True)"
      ]
    },
    {
      "cell_type": "markdown",
      "metadata": {},
      "source": [
        "## **Comparing Performances**"
      ]
    },
    {
      "cell_type": "code",
      "execution_count": 133,
      "metadata": {
        "id": "3FdcPqD7jzVx"
      },
      "outputs": [],
      "source": [
        "performance_df.drop([1],axis=0,inplace=True)"
      ]
    },
    {
      "cell_type": "code",
      "execution_count": 134,
      "metadata": {},
      "outputs": [
        {
          "data": {
            "text/html": [
              "<div>\n",
              "<style scoped>\n",
              "    .dataframe tbody tr th:only-of-type {\n",
              "        vertical-align: middle;\n",
              "    }\n",
              "\n",
              "    .dataframe tbody tr th {\n",
              "        vertical-align: top;\n",
              "    }\n",
              "\n",
              "    .dataframe thead th {\n",
              "        text-align: right;\n",
              "    }\n",
              "</style>\n",
              "<table border=\"1\" class=\"dataframe\">\n",
              "  <thead>\n",
              "    <tr style=\"text-align: right;\">\n",
              "      <th></th>\n",
              "      <th>model</th>\n",
              "      <th>accuracy_score</th>\n",
              "      <th>recall_score</th>\n",
              "      <th>precision_score</th>\n",
              "      <th>f1_score</th>\n",
              "    </tr>\n",
              "  </thead>\n",
              "  <tbody>\n",
              "    <tr>\n",
              "      <th>0</th>\n",
              "      <td>LogisticRegression</td>\n",
              "      <td>0.951340</td>\n",
              "      <td>0.944507</td>\n",
              "      <td>0.960276</td>\n",
              "      <td>0.952327</td>\n",
              "    </tr>\n",
              "    <tr>\n",
              "      <th>2</th>\n",
              "      <td>KNeighborsClassifier</td>\n",
              "      <td>0.796474</td>\n",
              "      <td>0.730727</td>\n",
              "      <td>0.946747</td>\n",
              "      <td>0.824828</td>\n",
              "    </tr>\n",
              "    <tr>\n",
              "      <th>3</th>\n",
              "      <td>RandomForestClassifier</td>\n",
              "      <td>0.937646</td>\n",
              "      <td>0.939919</td>\n",
              "      <td>0.936672</td>\n",
              "      <td>0.938293</td>\n",
              "    </tr>\n",
              "    <tr>\n",
              "      <th>4</th>\n",
              "      <td>PassiveAggressiveClassifier</td>\n",
              "      <td>0.951049</td>\n",
              "      <td>0.944224</td>\n",
              "      <td>0.959988</td>\n",
              "      <td>0.952041</td>\n",
              "    </tr>\n",
              "  </tbody>\n",
              "</table>\n",
              "</div>"
            ],
            "text/plain": [
              "                         model  accuracy_score  recall_score  precision_score  \\\n",
              "0           LogisticRegression        0.951340      0.944507         0.960276   \n",
              "2         KNeighborsClassifier        0.796474      0.730727         0.946747   \n",
              "3       RandomForestClassifier        0.937646      0.939919         0.936672   \n",
              "4  PassiveAggressiveClassifier        0.951049      0.944224         0.959988   \n",
              "\n",
              "   f1_score  \n",
              "0  0.952327  \n",
              "2  0.824828  \n",
              "3  0.938293  \n",
              "4  0.952041  "
            ]
          },
          "execution_count": 134,
          "metadata": {},
          "output_type": "execute_result"
        }
      ],
      "source": [
        "performance_df"
      ]
    },
    {
      "cell_type": "markdown",
      "metadata": {
        "id": "QZZiBkW3MNko"
      },
      "source": [
        "**References**\n",
        "\n",
        "\n",
        "> - https://www.analyticsvidhya.com/blog/2021/05/natural-language-processing-step-by-step-guide/\n",
        "> - https://www.analyticsvidhya.com/blog/2018/02/the-different-methods-deal-text-data-predictive-python/#h2_6\n",
        "> - https://www.analyticsvidhya.com/blog/2021/06/must-know-data-pre-processing-techniques-for-natural-language-processing/#h2_3\n",
        "> - https://kavita-ganesan.com/how-to-use-countvectorizer/#.YbdyR3xBxPZ\n",
        "> - https://becominghuman.ai/nlp-for-beginners-using-nltk-f58ec22005cd\n",
        "> - https://scikit-learn.org/stable/modules/generated/sklearn.feature_extraction.text.CountVectorizer.html\n",
        "> - https://scikit-learn.org/stable/modules/generated/sklearn.feature_extraction.text.TfidfVectorizer.html#examples-using-sklearn-feature-extraction-text-tfidfvectorizer\n",
        "> - https://www.codementor.io/blog/text-classification-6mmol0q8oj\n",
        "\n"
      ]
    }
  ],
  "metadata": {
    "colab": {
      "collapsed_sections": [],
      "name": "Model.ipynb",
      "provenance": []
    },
    "kernelspec": {
      "display_name": "Python 3",
      "name": "python3"
    },
    "language_info": {
      "codemirror_mode": {
        "name": "ipython",
        "version": 3
      },
      "file_extension": ".py",
      "mimetype": "text/x-python",
      "name": "python",
      "nbconvert_exporter": "python",
      "pygments_lexer": "ipython3",
      "version": "3.8.10"
    }
  },
  "nbformat": 4,
  "nbformat_minor": 0
}
