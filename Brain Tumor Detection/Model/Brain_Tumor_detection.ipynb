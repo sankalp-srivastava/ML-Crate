{
  "nbformat": 4,
  "nbformat_minor": 0,
  "metadata": {
    "colab": {
      "name": "Brain_Tumor_detection.ipynb",
      "provenance": []
    },
    "kernelspec": {
      "name": "python3",
      "display_name": "Python 3"
    },
    "language_info": {
      "name": "python"
    }
  },
  "cells": [
    {
      "cell_type": "code",
      "source": [
        "import os\n",
        "import keras \n",
        "from keras.models import Sequential\n",
        "from keras.layers import Conv2D, MaxPooling2D, Flatten, Dense, Dropout, BatchNormalization\n",
        "from PIL import Image\n",
        "import numpy as np\n",
        "import pandas as pd\n",
        "from sklearn.model_selection import train_test_split\n",
        "from sklearn.preprocessing import OneHotEncoder\n",
        "import matplotlib.pyplot as plt\n",
        "import cv2\n",
        "from google.colab.patches import cv2_imshow"
      ],
      "metadata": {
        "id": "7xoyJ3f-62oo"
      },
      "execution_count": 57,
      "outputs": []
    },
    {
      "cell_type": "code",
      "source": [
        "encoder = OneHotEncoder()\n",
        "encoder.fit([[0], [1]]) \n"
      ],
      "metadata": {
        "colab": {
          "base_uri": "https://localhost:8080/"
        },
        "id": "oFOQaZ007s7x",
        "outputId": "fd469078-1ce6-44fa-f01e-8647f5b77b2f"
      },
      "execution_count": 3,
      "outputs": [
        {
          "output_type": "execute_result",
          "data": {
            "text/plain": [
              "OneHotEncoder()"
            ]
          },
          "metadata": {},
          "execution_count": 3
        }
      ]
    },
    {
      "cell_type": "code",
      "source": [
        "data=[]\n",
        "result=[]"
      ],
      "metadata": {
        "id": "l1esay4q8tJa"
      },
      "execution_count": 16,
      "outputs": []
    },
    {
      "cell_type": "code",
      "source": [
        "basepath=\"/content/drive/MyDrive/JWOC/Brain_Tumor_detection/brain_tumor_dataset/yes\"\n",
        "for filename in os.listdir(basepath):\n",
        "   path=os.path.join(basepath,filename)\n",
        "   img = Image.open(path)\n",
        "   img = img.resize((128,128))\n",
        "   img = np.array(img)\n",
        "   if(img.shape == (128,128,3)):\n",
        "      data.append(np.array(img))\n",
        "      result.append(encoder.transform([[0]]).toarray())"
      ],
      "metadata": {
        "id": "h_guzPqm8J6V"
      },
      "execution_count": 17,
      "outputs": []
    },
    {
      "cell_type": "code",
      "source": [
        "data = np.array(data)\n",
        "print(data.shape)"
      ],
      "metadata": {
        "colab": {
          "base_uri": "https://localhost:8080/"
        },
        "id": "95aXQrEr9Wyw",
        "outputId": "0d62ba8d-fcca-4505-c712-8394e631dbf0"
      },
      "execution_count": 12,
      "outputs": [
        {
          "output_type": "stream",
          "name": "stdout",
          "text": [
            "(138, 128, 128, 3)\n"
          ]
        }
      ]
    },
    {
      "cell_type": "code",
      "source": [
        "result = np.array(result)"
      ],
      "metadata": {
        "id": "glbqkZN29aBy"
      },
      "execution_count": 13,
      "outputs": []
    },
    {
      "cell_type": "code",
      "source": [
        "print(result.shape)"
      ],
      "metadata": {
        "colab": {
          "base_uri": "https://localhost:8080/"
        },
        "id": "O3CsHQrU9bsC",
        "outputId": "b2739dc3-603a-47ed-9e94-a60f0cb13af5"
      },
      "execution_count": 14,
      "outputs": [
        {
          "output_type": "stream",
          "name": "stdout",
          "text": [
            "(138, 1, 2)\n"
          ]
        }
      ]
    },
    {
      "cell_type": "code",
      "source": [
        "basepath=\"/content/drive/MyDrive/JWOC/Brain_Tumor_detection/brain_tumor_dataset/no\"\n",
        "for filename in os.listdir(basepath):\n",
        "   path=os.path.join(basepath,filename)\n",
        "   img = Image.open(path)\n",
        "   img = img.resize((128,128))\n",
        "   img = np.array(img)\n",
        "   if(img.shape == (128,128,3)):\n",
        "      data.append(np.array(img))\n",
        "      result.append(encoder.transform([[1]]).toarray())"
      ],
      "metadata": {
        "id": "bfOgD11P8yrE"
      },
      "execution_count": 18,
      "outputs": []
    },
    {
      "cell_type": "code",
      "source": [
        "data = np.array(data)\n",
        "print(data.shape)\n",
        "result = np.array(result)\n",
        "result = result.reshape(217,2)\n",
        "print(result.shape)"
      ],
      "metadata": {
        "colab": {
          "base_uri": "https://localhost:8080/"
        },
        "id": "IDHX4d9789-n",
        "outputId": "b2383da3-5d17-44f5-84cf-b7caf22b944b"
      },
      "execution_count": 20,
      "outputs": [
        {
          "output_type": "stream",
          "name": "stdout",
          "text": [
            "(217, 128, 128, 3)\n",
            "(217, 2)\n"
          ]
        }
      ]
    },
    {
      "cell_type": "code",
      "source": [
        "x_train,x_test,y_train,y_test = train_test_split(data, result, test_size=0.2, shuffle=True, random_state=0)"
      ],
      "metadata": {
        "id": "JZecjsGd9M2j"
      },
      "execution_count": 21,
      "outputs": []
    },
    {
      "cell_type": "markdown",
      "source": [
        "architecture-1"
      ],
      "metadata": {
        "id": "VgOhqOkcWLnK"
      }
    },
    {
      "cell_type": "code",
      "source": [
        "model = Sequential()\n",
        "\n",
        "model.add(Conv2D(32, kernel_size=(2, 2), input_shape=(128, 128, 3), padding = 'Same'))\n",
        "model.add(Conv2D(32, kernel_size=(2, 2),  activation ='relu', padding = 'Same'))\n",
        "\n",
        "\n",
        "model.add(BatchNormalization())\n",
        "model.add(MaxPooling2D(pool_size=(2, 2)))\n",
        "model.add(Dropout(0.25))\n",
        "\n",
        "model.add(Conv2D(64, kernel_size = (2,2), activation ='relu', padding = 'Same'))\n",
        "model.add(Conv2D(64, kernel_size = (2,2), activation ='relu', padding = 'Same'))\n",
        "\n",
        "model.add(BatchNormalization())\n",
        "model.add(MaxPooling2D(pool_size=(2,2), strides=(2,2)))\n",
        "model.add(Dropout(0.25))\n",
        "\n",
        "model.add(Flatten())\n",
        "\n",
        "model.add(Dense(512, activation='relu'))\n",
        "model.add(Dropout(0.5))\n",
        "model.add(Dense(2, activation='softmax'))\n",
        "\n",
        "model.compile(loss = \"categorical_crossentropy\", optimizer='Adam',metrics='accuracy')\n",
        "print(model.summary())"
      ],
      "metadata": {
        "colab": {
          "base_uri": "https://localhost:8080/"
        },
        "id": "EYE5KlBz9ymO",
        "outputId": "ffb0b80e-d057-4311-8378-9da3a4a3e363"
      },
      "execution_count": 23,
      "outputs": [
        {
          "output_type": "stream",
          "name": "stdout",
          "text": [
            "Model: \"sequential_1\"\n",
            "_________________________________________________________________\n",
            " Layer (type)                Output Shape              Param #   \n",
            "=================================================================\n",
            " conv2d_4 (Conv2D)           (None, 128, 128, 32)      416       \n",
            "                                                                 \n",
            " conv2d_5 (Conv2D)           (None, 128, 128, 32)      4128      \n",
            "                                                                 \n",
            " batch_normalization_2 (Batc  (None, 128, 128, 32)     128       \n",
            " hNormalization)                                                 \n",
            "                                                                 \n",
            " max_pooling2d_2 (MaxPooling  (None, 64, 64, 32)       0         \n",
            " 2D)                                                             \n",
            "                                                                 \n",
            " dropout_3 (Dropout)         (None, 64, 64, 32)        0         \n",
            "                                                                 \n",
            " conv2d_6 (Conv2D)           (None, 64, 64, 64)        8256      \n",
            "                                                                 \n",
            " conv2d_7 (Conv2D)           (None, 64, 64, 64)        16448     \n",
            "                                                                 \n",
            " batch_normalization_3 (Batc  (None, 64, 64, 64)       256       \n",
            " hNormalization)                                                 \n",
            "                                                                 \n",
            " max_pooling2d_3 (MaxPooling  (None, 32, 32, 64)       0         \n",
            " 2D)                                                             \n",
            "                                                                 \n",
            " dropout_4 (Dropout)         (None, 32, 32, 64)        0         \n",
            "                                                                 \n",
            " flatten_1 (Flatten)         (None, 65536)             0         \n",
            "                                                                 \n",
            " dense_2 (Dense)             (None, 512)               33554944  \n",
            "                                                                 \n",
            " dropout_5 (Dropout)         (None, 512)               0         \n",
            "                                                                 \n",
            " dense_3 (Dense)             (None, 2)                 1026      \n",
            "                                                                 \n",
            "=================================================================\n",
            "Total params: 33,585,602\n",
            "Trainable params: 33,585,410\n",
            "Non-trainable params: 192\n",
            "_________________________________________________________________\n",
            "None\n"
          ]
        }
      ]
    },
    {
      "cell_type": "code",
      "source": [
        "history = model.fit(x_train, y_train, epochs = 30, batch_size = 40, verbose = 1,validation_data = (x_test, y_test))"
      ],
      "metadata": {
        "colab": {
          "base_uri": "https://localhost:8080/"
        },
        "id": "cDguY7D_95-B",
        "outputId": "71fd42eb-ed18-4a10-b3d2-028b8d6d1740"
      },
      "execution_count": 24,
      "outputs": [
        {
          "output_type": "stream",
          "name": "stdout",
          "text": [
            "Epoch 1/30\n",
            "5/5 [==============================] - 13s 2s/step - loss: 19.0693 - accuracy: 0.7283 - val_loss: 63.3163 - val_accuracy: 0.5909\n",
            "Epoch 2/30\n",
            "5/5 [==============================] - 11s 2s/step - loss: 12.0532 - accuracy: 0.7514 - val_loss: 24.5673 - val_accuracy: 0.6364\n",
            "Epoch 3/30\n",
            "5/5 [==============================] - 12s 2s/step - loss: 8.5184 - accuracy: 0.8208 - val_loss: 28.7696 - val_accuracy: 0.6818\n",
            "Epoch 4/30\n",
            "5/5 [==============================] - 12s 2s/step - loss: 5.9773 - accuracy: 0.8439 - val_loss: 15.0645 - val_accuracy: 0.6364\n",
            "Epoch 5/30\n",
            "5/5 [==============================] - 12s 2s/step - loss: 3.4882 - accuracy: 0.8902 - val_loss: 13.1171 - val_accuracy: 0.6136\n",
            "Epoch 6/30\n",
            "5/5 [==============================] - 12s 2s/step - loss: 1.1762 - accuracy: 0.9306 - val_loss: 11.4729 - val_accuracy: 0.6591\n",
            "Epoch 7/30\n",
            "5/5 [==============================] - 12s 2s/step - loss: 1.7163 - accuracy: 0.9364 - val_loss: 12.9686 - val_accuracy: 0.6591\n",
            "Epoch 8/30\n",
            "5/5 [==============================] - 12s 2s/step - loss: 0.6323 - accuracy: 0.9595 - val_loss: 19.8880 - val_accuracy: 0.6591\n",
            "Epoch 9/30\n",
            "5/5 [==============================] - 12s 2s/step - loss: 0.7833 - accuracy: 0.9595 - val_loss: 13.7979 - val_accuracy: 0.6591\n",
            "Epoch 10/30\n",
            "5/5 [==============================] - 12s 2s/step - loss: 0.2432 - accuracy: 0.9827 - val_loss: 11.8157 - val_accuracy: 0.7045\n",
            "Epoch 11/30\n",
            "5/5 [==============================] - 12s 2s/step - loss: 0.2967 - accuracy: 0.9653 - val_loss: 15.7981 - val_accuracy: 0.7045\n",
            "Epoch 12/30\n",
            "5/5 [==============================] - 12s 2s/step - loss: 0.3316 - accuracy: 0.9827 - val_loss: 17.6174 - val_accuracy: 0.6364\n",
            "Epoch 13/30\n",
            "5/5 [==============================] - 12s 2s/step - loss: 0.0252 - accuracy: 0.9942 - val_loss: 16.8415 - val_accuracy: 0.6591\n",
            "Epoch 14/30\n",
            "5/5 [==============================] - 12s 2s/step - loss: 0.0243 - accuracy: 0.9884 - val_loss: 15.5986 - val_accuracy: 0.6591\n",
            "Epoch 15/30\n",
            "5/5 [==============================] - 12s 2s/step - loss: 2.2005e-04 - accuracy: 1.0000 - val_loss: 14.8814 - val_accuracy: 0.6364\n",
            "Epoch 16/30\n",
            "5/5 [==============================] - 12s 2s/step - loss: 0.3379 - accuracy: 0.9827 - val_loss: 14.0712 - val_accuracy: 0.6591\n",
            "Epoch 17/30\n",
            "5/5 [==============================] - 12s 2s/step - loss: 0.4650 - accuracy: 0.9769 - val_loss: 13.2519 - val_accuracy: 0.6591\n",
            "Epoch 18/30\n",
            "5/5 [==============================] - 12s 2s/step - loss: 0.0419 - accuracy: 0.9942 - val_loss: 12.5583 - val_accuracy: 0.6818\n",
            "Epoch 19/30\n",
            "5/5 [==============================] - 12s 2s/step - loss: 0.0018 - accuracy: 1.0000 - val_loss: 12.3404 - val_accuracy: 0.6591\n",
            "Epoch 20/30\n",
            "5/5 [==============================] - 12s 2s/step - loss: 0.0802 - accuracy: 0.9884 - val_loss: 13.4275 - val_accuracy: 0.7045\n",
            "Epoch 21/30\n",
            "5/5 [==============================] - 12s 2s/step - loss: 0.0384 - accuracy: 0.9942 - val_loss: 13.8283 - val_accuracy: 0.6591\n",
            "Epoch 22/30\n",
            "5/5 [==============================] - 12s 2s/step - loss: 0.1372 - accuracy: 0.9942 - val_loss: 15.4746 - val_accuracy: 0.6818\n",
            "Epoch 23/30\n",
            "5/5 [==============================] - 12s 2s/step - loss: 0.2009 - accuracy: 0.9827 - val_loss: 13.6160 - val_accuracy: 0.7273\n",
            "Epoch 24/30\n",
            "5/5 [==============================] - 12s 2s/step - loss: 4.1047e-06 - accuracy: 1.0000 - val_loss: 12.5961 - val_accuracy: 0.7045\n",
            "Epoch 25/30\n",
            "5/5 [==============================] - 12s 2s/step - loss: 0.0419 - accuracy: 0.9884 - val_loss: 12.2705 - val_accuracy: 0.7273\n",
            "Epoch 26/30\n",
            "5/5 [==============================] - 12s 2s/step - loss: 1.5565e-04 - accuracy: 1.0000 - val_loss: 12.5335 - val_accuracy: 0.7273\n",
            "Epoch 27/30\n",
            "5/5 [==============================] - 12s 2s/step - loss: 0.1984 - accuracy: 0.9884 - val_loss: 12.3819 - val_accuracy: 0.7045\n",
            "Epoch 28/30\n",
            "5/5 [==============================] - 12s 2s/step - loss: 6.1531e-07 - accuracy: 1.0000 - val_loss: 12.4687 - val_accuracy: 0.7273\n",
            "Epoch 29/30\n",
            "5/5 [==============================] - 12s 2s/step - loss: 0.0064 - accuracy: 0.9942 - val_loss: 13.5769 - val_accuracy: 0.7273\n",
            "Epoch 30/30\n",
            "5/5 [==============================] - 12s 2s/step - loss: 0.0771 - accuracy: 0.9827 - val_loss: 12.2145 - val_accuracy: 0.7500\n"
          ]
        }
      ]
    },
    {
      "cell_type": "markdown",
      "source": [
        "architecture-2"
      ],
      "metadata": {
        "id": "1YBTELXNWPKt"
      }
    },
    {
      "cell_type": "code",
      "source": [
        "model = Sequential()\n",
        "model.add(Conv2D(filters=32, kernel_size=3, strides=1, padding='same', activation='relu', input_shape=[128, 128, 3]))\n",
        "model.add(MaxPooling2D(2, ))\n",
        "model.add(Conv2D(filters=64, kernel_size=3, strides=1, padding='same', activation='relu'))\n",
        "model.add(MaxPooling2D(2))\n",
        "\n",
        "# Flatten the feature map\n",
        "model.add(Flatten())\n",
        "\n",
        "# Add the fully connected layers\n",
        "model.add(Dense(128, activation='relu'))\n",
        "model.add(Dropout(0.25))\n",
        "model.add(Dense(128, activation='relu'))\n",
        "model.add(Dense(2, activation='softmax'))\n",
        "\n",
        "# print the model summary\n",
        "model.summary()"
      ],
      "metadata": {
        "colab": {
          "base_uri": "https://localhost:8080/"
        },
        "id": "Yabzu23tAkrB",
        "outputId": "03cc3947-4005-451e-be14-2a9eac42b303"
      },
      "execution_count": 32,
      "outputs": [
        {
          "output_type": "stream",
          "name": "stdout",
          "text": [
            "Model: \"sequential_3\"\n",
            "_________________________________________________________________\n",
            " Layer (type)                Output Shape              Param #   \n",
            "=================================================================\n",
            " conv2d_10 (Conv2D)          (None, 128, 128, 32)      896       \n",
            "                                                                 \n",
            " max_pooling2d_6 (MaxPooling  (None, 64, 64, 32)       0         \n",
            " 2D)                                                             \n",
            "                                                                 \n",
            " conv2d_11 (Conv2D)          (None, 64, 64, 64)        18496     \n",
            "                                                                 \n",
            " max_pooling2d_7 (MaxPooling  (None, 32, 32, 64)       0         \n",
            " 2D)                                                             \n",
            "                                                                 \n",
            " flatten_3 (Flatten)         (None, 65536)             0         \n",
            "                                                                 \n",
            " dense_7 (Dense)             (None, 128)               8388736   \n",
            "                                                                 \n",
            " dropout_7 (Dropout)         (None, 128)               0         \n",
            "                                                                 \n",
            " dense_8 (Dense)             (None, 128)               16512     \n",
            "                                                                 \n",
            " dense_9 (Dense)             (None, 2)                 258       \n",
            "                                                                 \n",
            "=================================================================\n",
            "Total params: 8,424,898\n",
            "Trainable params: 8,424,898\n",
            "Non-trainable params: 0\n",
            "_________________________________________________________________\n"
          ]
        }
      ]
    },
    {
      "cell_type": "code",
      "source": [
        "model.compile(loss = \"categorical_crossentropy\", optimizer='Adam',metrics='accuracy')\n",
        "history = model.fit(x_train, y_train, epochs = 10, batch_size = 40, verbose = 1,validation_data = (x_test, y_test))"
      ],
      "metadata": {
        "colab": {
          "base_uri": "https://localhost:8080/"
        },
        "id": "TVtQ4cXMA2wW",
        "outputId": "33a9b081-b5b7-483b-cdb4-15a2fdc9afb8"
      },
      "execution_count": 34,
      "outputs": [
        {
          "output_type": "stream",
          "name": "stdout",
          "text": [
            "Epoch 1/10\n",
            "5/5 [==============================] - 5s 925ms/step - loss: 0.1670 - accuracy: 0.9595 - val_loss: 1.4972 - val_accuracy: 0.7500\n",
            "Epoch 2/10\n",
            "5/5 [==============================] - 5s 892ms/step - loss: 0.0836 - accuracy: 0.9711 - val_loss: 2.1750 - val_accuracy: 0.7500\n",
            "Epoch 3/10\n",
            "5/5 [==============================] - 4s 866ms/step - loss: 0.0265 - accuracy: 0.9884 - val_loss: 2.0575 - val_accuracy: 0.7955\n",
            "Epoch 4/10\n",
            "5/5 [==============================] - 4s 870ms/step - loss: 0.0146 - accuracy: 0.9884 - val_loss: 2.5970 - val_accuracy: 0.7727\n",
            "Epoch 5/10\n",
            "5/5 [==============================] - 5s 887ms/step - loss: 0.0136 - accuracy: 0.9942 - val_loss: 3.0977 - val_accuracy: 0.7500\n",
            "Epoch 6/10\n",
            "5/5 [==============================] - 4s 880ms/step - loss: 0.0258 - accuracy: 0.9769 - val_loss: 2.8521 - val_accuracy: 0.7727\n",
            "Epoch 7/10\n",
            "5/5 [==============================] - 4s 885ms/step - loss: 0.0024 - accuracy: 1.0000 - val_loss: 4.2297 - val_accuracy: 0.7500\n",
            "Epoch 8/10\n",
            "5/5 [==============================] - 5s 899ms/step - loss: 0.0941 - accuracy: 0.9827 - val_loss: 3.6694 - val_accuracy: 0.7955\n",
            "Epoch 9/10\n",
            "5/5 [==============================] - 5s 896ms/step - loss: 0.0460 - accuracy: 0.9884 - val_loss: 5.2497 - val_accuracy: 0.7500\n",
            "Epoch 10/10\n",
            "5/5 [==============================] - 4s 875ms/step - loss: 0.0157 - accuracy: 0.9942 - val_loss: 5.4253 - val_accuracy: 0.7273\n"
          ]
        }
      ]
    },
    {
      "cell_type": "code",
      "source": [
        "def names(number):\n",
        "    if number==0:\n",
        "        return 'Its a Tumor'\n",
        "    else:\n",
        "        return 'No, Its not a tumor'"
      ],
      "metadata": {
        "id": "S998yclcXnmH"
      },
      "execution_count": 54,
      "outputs": []
    },
    {
      "cell_type": "code",
      "source": [
        "x = x_test[0]\n",
        "x = x.reshape(1,128,128,3)\n",
        "res = model.predict(x)\n",
        "classification = np.where(res == np.amax(res))[1][0]\n",
        "print(str(res[0][classification]*100) + '% Confidence This Is ' + names(classification))\n",
        "cv2_imshow(x_test[0])"
      ],
      "metadata": {
        "colab": {
          "base_uri": "https://localhost:8080/",
          "height": 162
        },
        "id": "hRXb2JpvWaSh",
        "outputId": "74d9234d-b0e2-4847-d8a5-64e28fb532ec"
      },
      "execution_count": 56,
      "outputs": [
        {
          "output_type": "stream",
          "name": "stdout",
          "text": [
            "100.0% Confidence This Is Its a Tumor\n"
          ]
        },
        {
          "output_type": "display_data",
          "data": {
            "image/png": "[encoded data removed]",
            "text/plain": [
              "<PIL.Image.Image image mode=RGB size=128x128 at 0x7FEC1A15A7D0>"
            ]
          },
          "metadata": {}
        }
      ]
    },
    {
      "cell_type": "code",
      "source": [
        ""
      ],
      "metadata": {
        "id": "WiRTS8OBW8mg"
      },
      "execution_count": null,
      "outputs": []
    }
  ]
}