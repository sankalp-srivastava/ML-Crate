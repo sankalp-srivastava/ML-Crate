{
 "cells": [
  {
   "cell_type": "markdown",
   "metadata": {},
   "source": [
    "# ☠️Crime Analysis of India🚩"
   ]
  },
  {
   "cell_type": "markdown",
   "metadata": {},
   "source": [
    "📍 **Project Title** : Crime Analysis of India\n",
    "\n",
    "📍 **Aim of the Project** : Analyze the crime of India in different aspects and different sectors.\n",
    "\n",
    "📍 **Dataset** : https://www.kaggle.com/rajanand/crime-in-india\n",
    "\n",
    "📍 **Libraries Required :** ```Pandas, Numpy, Seaborn, Matplotlib, Plotly``` and lot more...\n",
    "\n",
    "<hr>\n"
   ]
  },
  {
   "cell_type": "markdown",
   "metadata": {},
   "source": [
    "## Importing Libraries"
   ]
  },
  {
   "cell_type": "code",
   "execution_count": 1,
   "metadata": {},
   "outputs": [],
   "source": [
    "import os\n",
    "from zipfile import ZipFile\n",
    "from io import BytesIO\n",
    "\n",
    "import pandas as pd\n",
    "import numpy as np\n",
    "\n",
    "import matplotlib.pyplot as plt\n",
    "%matplotlib inline\n",
    "import seaborn as sns\n",
    "import plotly.express as px\n",
    "from matplotlib.pyplot import figure"
   ]
  },
  {
   "cell_type": "code",
   "execution_count": 2,
   "metadata": {},
   "outputs": [
    {
     "data": {
      "text/html": [
       "<div>\n",
       "<style scoped>\n",
       "    .dataframe tbody tr th:only-of-type {\n",
       "        vertical-align: middle;\n",
       "    }\n",
       "\n",
       "    .dataframe tbody tr th {\n",
       "        vertical-align: top;\n",
       "    }\n",
       "\n",
       "    .dataframe thead th {\n",
       "        text-align: right;\n",
       "    }\n",
       "</style>\n",
       "<table border=\"1\" class=\"dataframe\">\n",
       "  <thead>\n",
       "    <tr style=\"text-align: right;\">\n",
       "      <th></th>\n",
       "      <th>STATE/UT</th>\n",
       "      <th>DISTRICT</th>\n",
       "      <th>YEAR</th>\n",
       "      <th>MURDER</th>\n",
       "      <th>ATTEMPT TO MURDER</th>\n",
       "      <th>CULPABLE HOMICIDE NOT AMOUNTING TO MURDER</th>\n",
       "      <th>RAPE</th>\n",
       "      <th>CUSTODIAL RAPE</th>\n",
       "      <th>OTHER RAPE</th>\n",
       "      <th>KIDNAPPING &amp; ABDUCTION</th>\n",
       "      <th>...</th>\n",
       "      <th>ARSON</th>\n",
       "      <th>HURT/GREVIOUS HURT</th>\n",
       "      <th>DOWRY DEATHS</th>\n",
       "      <th>ASSAULT ON WOMEN WITH INTENT TO OUTRAGE HER MODESTY</th>\n",
       "      <th>INSULT TO MODESTY OF WOMEN</th>\n",
       "      <th>CRUELTY BY HUSBAND OR HIS RELATIVES</th>\n",
       "      <th>IMPORTATION OF GIRLS FROM FOREIGN COUNTRIES</th>\n",
       "      <th>CAUSING DEATH BY NEGLIGENCE</th>\n",
       "      <th>OTHER IPC CRIMES</th>\n",
       "      <th>TOTAL IPC CRIMES</th>\n",
       "    </tr>\n",
       "  </thead>\n",
       "  <tbody>\n",
       "    <tr>\n",
       "      <th>0</th>\n",
       "      <td>ANDHRA PRADESH</td>\n",
       "      <td>ADILABAD</td>\n",
       "      <td>2001</td>\n",
       "      <td>101</td>\n",
       "      <td>60</td>\n",
       "      <td>17</td>\n",
       "      <td>50</td>\n",
       "      <td>0</td>\n",
       "      <td>50</td>\n",
       "      <td>46</td>\n",
       "      <td>...</td>\n",
       "      <td>30</td>\n",
       "      <td>1131</td>\n",
       "      <td>16</td>\n",
       "      <td>149</td>\n",
       "      <td>34</td>\n",
       "      <td>175</td>\n",
       "      <td>0</td>\n",
       "      <td>181</td>\n",
       "      <td>1518</td>\n",
       "      <td>4154</td>\n",
       "    </tr>\n",
       "    <tr>\n",
       "      <th>1</th>\n",
       "      <td>ANDHRA PRADESH</td>\n",
       "      <td>ANANTAPUR</td>\n",
       "      <td>2001</td>\n",
       "      <td>151</td>\n",
       "      <td>125</td>\n",
       "      <td>1</td>\n",
       "      <td>23</td>\n",
       "      <td>0</td>\n",
       "      <td>23</td>\n",
       "      <td>53</td>\n",
       "      <td>...</td>\n",
       "      <td>69</td>\n",
       "      <td>1543</td>\n",
       "      <td>7</td>\n",
       "      <td>118</td>\n",
       "      <td>24</td>\n",
       "      <td>154</td>\n",
       "      <td>0</td>\n",
       "      <td>270</td>\n",
       "      <td>754</td>\n",
       "      <td>4125</td>\n",
       "    </tr>\n",
       "    <tr>\n",
       "      <th>2</th>\n",
       "      <td>ANDHRA PRADESH</td>\n",
       "      <td>CHITTOOR</td>\n",
       "      <td>2001</td>\n",
       "      <td>101</td>\n",
       "      <td>57</td>\n",
       "      <td>2</td>\n",
       "      <td>27</td>\n",
       "      <td>0</td>\n",
       "      <td>27</td>\n",
       "      <td>59</td>\n",
       "      <td>...</td>\n",
       "      <td>38</td>\n",
       "      <td>2088</td>\n",
       "      <td>14</td>\n",
       "      <td>112</td>\n",
       "      <td>83</td>\n",
       "      <td>186</td>\n",
       "      <td>0</td>\n",
       "      <td>404</td>\n",
       "      <td>1262</td>\n",
       "      <td>5818</td>\n",
       "    </tr>\n",
       "    <tr>\n",
       "      <th>3</th>\n",
       "      <td>ANDHRA PRADESH</td>\n",
       "      <td>CUDDAPAH</td>\n",
       "      <td>2001</td>\n",
       "      <td>80</td>\n",
       "      <td>53</td>\n",
       "      <td>1</td>\n",
       "      <td>20</td>\n",
       "      <td>0</td>\n",
       "      <td>20</td>\n",
       "      <td>25</td>\n",
       "      <td>...</td>\n",
       "      <td>23</td>\n",
       "      <td>795</td>\n",
       "      <td>17</td>\n",
       "      <td>126</td>\n",
       "      <td>38</td>\n",
       "      <td>57</td>\n",
       "      <td>0</td>\n",
       "      <td>233</td>\n",
       "      <td>1181</td>\n",
       "      <td>3140</td>\n",
       "    </tr>\n",
       "    <tr>\n",
       "      <th>4</th>\n",
       "      <td>ANDHRA PRADESH</td>\n",
       "      <td>EAST GODAVARI</td>\n",
       "      <td>2001</td>\n",
       "      <td>82</td>\n",
       "      <td>67</td>\n",
       "      <td>1</td>\n",
       "      <td>23</td>\n",
       "      <td>0</td>\n",
       "      <td>23</td>\n",
       "      <td>49</td>\n",
       "      <td>...</td>\n",
       "      <td>41</td>\n",
       "      <td>1244</td>\n",
       "      <td>12</td>\n",
       "      <td>109</td>\n",
       "      <td>58</td>\n",
       "      <td>247</td>\n",
       "      <td>0</td>\n",
       "      <td>431</td>\n",
       "      <td>2313</td>\n",
       "      <td>6507</td>\n",
       "    </tr>\n",
       "    <tr>\n",
       "      <th>...</th>\n",
       "      <td>...</td>\n",
       "      <td>...</td>\n",
       "      <td>...</td>\n",
       "      <td>...</td>\n",
       "      <td>...</td>\n",
       "      <td>...</td>\n",
       "      <td>...</td>\n",
       "      <td>...</td>\n",
       "      <td>...</td>\n",
       "      <td>...</td>\n",
       "      <td>...</td>\n",
       "      <td>...</td>\n",
       "      <td>...</td>\n",
       "      <td>...</td>\n",
       "      <td>...</td>\n",
       "      <td>...</td>\n",
       "      <td>...</td>\n",
       "      <td>...</td>\n",
       "      <td>...</td>\n",
       "      <td>...</td>\n",
       "      <td>...</td>\n",
       "    </tr>\n",
       "    <tr>\n",
       "      <th>9012</th>\n",
       "      <td>LAKSHADWEEP</td>\n",
       "      <td>LAKSHADWEEP</td>\n",
       "      <td>2012</td>\n",
       "      <td>0</td>\n",
       "      <td>0</td>\n",
       "      <td>0</td>\n",
       "      <td>0</td>\n",
       "      <td>0</td>\n",
       "      <td>0</td>\n",
       "      <td>0</td>\n",
       "      <td>...</td>\n",
       "      <td>3</td>\n",
       "      <td>3</td>\n",
       "      <td>0</td>\n",
       "      <td>1</td>\n",
       "      <td>0</td>\n",
       "      <td>1</td>\n",
       "      <td>0</td>\n",
       "      <td>0</td>\n",
       "      <td>32</td>\n",
       "      <td>60</td>\n",
       "    </tr>\n",
       "    <tr>\n",
       "      <th>9013</th>\n",
       "      <td>LAKSHADWEEP</td>\n",
       "      <td>TOTAL</td>\n",
       "      <td>2012</td>\n",
       "      <td>0</td>\n",
       "      <td>0</td>\n",
       "      <td>0</td>\n",
       "      <td>0</td>\n",
       "      <td>0</td>\n",
       "      <td>0</td>\n",
       "      <td>0</td>\n",
       "      <td>...</td>\n",
       "      <td>3</td>\n",
       "      <td>3</td>\n",
       "      <td>0</td>\n",
       "      <td>1</td>\n",
       "      <td>0</td>\n",
       "      <td>1</td>\n",
       "      <td>0</td>\n",
       "      <td>0</td>\n",
       "      <td>32</td>\n",
       "      <td>60</td>\n",
       "    </tr>\n",
       "    <tr>\n",
       "      <th>9014</th>\n",
       "      <td>PUDUCHERRY</td>\n",
       "      <td>KARAIKAL</td>\n",
       "      <td>2012</td>\n",
       "      <td>5</td>\n",
       "      <td>6</td>\n",
       "      <td>2</td>\n",
       "      <td>6</td>\n",
       "      <td>0</td>\n",
       "      <td>6</td>\n",
       "      <td>2</td>\n",
       "      <td>...</td>\n",
       "      <td>1</td>\n",
       "      <td>186</td>\n",
       "      <td>0</td>\n",
       "      <td>2</td>\n",
       "      <td>0</td>\n",
       "      <td>1</td>\n",
       "      <td>0</td>\n",
       "      <td>44</td>\n",
       "      <td>392</td>\n",
       "      <td>787</td>\n",
       "    </tr>\n",
       "    <tr>\n",
       "      <th>9015</th>\n",
       "      <td>PUDUCHERRY</td>\n",
       "      <td>PUDUCHERRY</td>\n",
       "      <td>2012</td>\n",
       "      <td>24</td>\n",
       "      <td>21</td>\n",
       "      <td>10</td>\n",
       "      <td>7</td>\n",
       "      <td>0</td>\n",
       "      <td>7</td>\n",
       "      <td>17</td>\n",
       "      <td>...</td>\n",
       "      <td>20</td>\n",
       "      <td>632</td>\n",
       "      <td>0</td>\n",
       "      <td>7</td>\n",
       "      <td>2</td>\n",
       "      <td>5</td>\n",
       "      <td>0</td>\n",
       "      <td>219</td>\n",
       "      <td>1668</td>\n",
       "      <td>3494</td>\n",
       "    </tr>\n",
       "    <tr>\n",
       "      <th>9016</th>\n",
       "      <td>PUDUCHERRY</td>\n",
       "      <td>TOTAL</td>\n",
       "      <td>2012</td>\n",
       "      <td>29</td>\n",
       "      <td>27</td>\n",
       "      <td>12</td>\n",
       "      <td>13</td>\n",
       "      <td>0</td>\n",
       "      <td>13</td>\n",
       "      <td>19</td>\n",
       "      <td>...</td>\n",
       "      <td>21</td>\n",
       "      <td>818</td>\n",
       "      <td>0</td>\n",
       "      <td>9</td>\n",
       "      <td>2</td>\n",
       "      <td>6</td>\n",
       "      <td>0</td>\n",
       "      <td>263</td>\n",
       "      <td>2060</td>\n",
       "      <td>4281</td>\n",
       "    </tr>\n",
       "  </tbody>\n",
       "</table>\n",
       "<p>9017 rows × 33 columns</p>\n",
       "</div>"
      ],
      "text/plain": [
       "            STATE/UT       DISTRICT  YEAR  MURDER  ATTEMPT TO MURDER  \\\n",
       "0     ANDHRA PRADESH       ADILABAD  2001     101                 60   \n",
       "1     ANDHRA PRADESH      ANANTAPUR  2001     151                125   \n",
       "2     ANDHRA PRADESH       CHITTOOR  2001     101                 57   \n",
       "3     ANDHRA PRADESH       CUDDAPAH  2001      80                 53   \n",
       "4     ANDHRA PRADESH  EAST GODAVARI  2001      82                 67   \n",
       "...              ...            ...   ...     ...                ...   \n",
       "9012     LAKSHADWEEP    LAKSHADWEEP  2012       0                  0   \n",
       "9013     LAKSHADWEEP          TOTAL  2012       0                  0   \n",
       "9014      PUDUCHERRY       KARAIKAL  2012       5                  6   \n",
       "9015      PUDUCHERRY     PUDUCHERRY  2012      24                 21   \n",
       "9016      PUDUCHERRY          TOTAL  2012      29                 27   \n",
       "\n",
       "      CULPABLE HOMICIDE NOT AMOUNTING TO MURDER  RAPE  CUSTODIAL RAPE  \\\n",
       "0                                            17    50               0   \n",
       "1                                             1    23               0   \n",
       "2                                             2    27               0   \n",
       "3                                             1    20               0   \n",
       "4                                             1    23               0   \n",
       "...                                         ...   ...             ...   \n",
       "9012                                          0     0               0   \n",
       "9013                                          0     0               0   \n",
       "9014                                          2     6               0   \n",
       "9015                                         10     7               0   \n",
       "9016                                         12    13               0   \n",
       "\n",
       "      OTHER RAPE  KIDNAPPING & ABDUCTION  ...  ARSON  HURT/GREVIOUS HURT  \\\n",
       "0             50                      46  ...     30                1131   \n",
       "1             23                      53  ...     69                1543   \n",
       "2             27                      59  ...     38                2088   \n",
       "3             20                      25  ...     23                 795   \n",
       "4             23                      49  ...     41                1244   \n",
       "...          ...                     ...  ...    ...                 ...   \n",
       "9012           0                       0  ...      3                   3   \n",
       "9013           0                       0  ...      3                   3   \n",
       "9014           6                       2  ...      1                 186   \n",
       "9015           7                      17  ...     20                 632   \n",
       "9016          13                      19  ...     21                 818   \n",
       "\n",
       "      DOWRY DEATHS  ASSAULT ON WOMEN WITH INTENT TO OUTRAGE HER MODESTY  \\\n",
       "0               16                                                149     \n",
       "1                7                                                118     \n",
       "2               14                                                112     \n",
       "3               17                                                126     \n",
       "4               12                                                109     \n",
       "...            ...                                                ...     \n",
       "9012             0                                                  1     \n",
       "9013             0                                                  1     \n",
       "9014             0                                                  2     \n",
       "9015             0                                                  7     \n",
       "9016             0                                                  9     \n",
       "\n",
       "      INSULT TO MODESTY OF WOMEN  CRUELTY BY HUSBAND OR HIS RELATIVES  \\\n",
       "0                             34                                  175   \n",
       "1                             24                                  154   \n",
       "2                             83                                  186   \n",
       "3                             38                                   57   \n",
       "4                             58                                  247   \n",
       "...                          ...                                  ...   \n",
       "9012                           0                                    1   \n",
       "9013                           0                                    1   \n",
       "9014                           0                                    1   \n",
       "9015                           2                                    5   \n",
       "9016                           2                                    6   \n",
       "\n",
       "      IMPORTATION OF GIRLS FROM FOREIGN COUNTRIES  \\\n",
       "0                                               0   \n",
       "1                                               0   \n",
       "2                                               0   \n",
       "3                                               0   \n",
       "4                                               0   \n",
       "...                                           ...   \n",
       "9012                                            0   \n",
       "9013                                            0   \n",
       "9014                                            0   \n",
       "9015                                            0   \n",
       "9016                                            0   \n",
       "\n",
       "      CAUSING DEATH BY NEGLIGENCE  OTHER IPC CRIMES  TOTAL IPC CRIMES  \n",
       "0                             181              1518              4154  \n",
       "1                             270               754              4125  \n",
       "2                             404              1262              5818  \n",
       "3                             233              1181              3140  \n",
       "4                             431              2313              6507  \n",
       "...                           ...               ...               ...  \n",
       "9012                            0                32                60  \n",
       "9013                            0                32                60  \n",
       "9014                           44               392               787  \n",
       "9015                          219              1668              3494  \n",
       "9016                          263              2060              4281  \n",
       "\n",
       "[9017 rows x 33 columns]"
      ]
     },
     "execution_count": 2,
     "metadata": {},
     "output_type": "execute_result"
    }
   ],
   "source": [
    "zip = ZipFile(\"../Dataset/archive.zip\")\n",
    "data = (zip.open(\n",
    "    \"crime/crime/01_District_wise_crimes_committed_IPC_2001_2012.csv\")).read()\n",
    "data = pd.read_csv(BytesIO(data))\n",
    "data"
   ]
  },
  {
   "cell_type": "code",
   "execution_count": 3,
   "metadata": {},
   "outputs": [
    {
     "data": {
      "text/plain": [
       "(9017, 33)"
      ]
     },
     "execution_count": 3,
     "metadata": {},
     "output_type": "execute_result"
    }
   ],
   "source": [
    "data.shape"
   ]
  },
  {
   "cell_type": "code",
   "execution_count": 4,
   "metadata": {},
   "outputs": [
    {
     "data": {
      "text/html": [
       "<div>\n",
       "<style scoped>\n",
       "    .dataframe tbody tr th:only-of-type {\n",
       "        vertical-align: middle;\n",
       "    }\n",
       "\n",
       "    .dataframe tbody tr th {\n",
       "        vertical-align: top;\n",
       "    }\n",
       "\n",
       "    .dataframe thead th {\n",
       "        text-align: right;\n",
       "    }\n",
       "</style>\n",
       "<table border=\"1\" class=\"dataframe\">\n",
       "  <thead>\n",
       "    <tr style=\"text-align: right;\">\n",
       "      <th></th>\n",
       "      <th>YEAR</th>\n",
       "      <th>MURDER</th>\n",
       "      <th>ATTEMPT TO MURDER</th>\n",
       "      <th>CULPABLE HOMICIDE NOT AMOUNTING TO MURDER</th>\n",
       "      <th>RAPE</th>\n",
       "      <th>CUSTODIAL RAPE</th>\n",
       "      <th>OTHER RAPE</th>\n",
       "      <th>KIDNAPPING &amp; ABDUCTION</th>\n",
       "      <th>KIDNAPPING AND ABDUCTION OF WOMEN AND GIRLS</th>\n",
       "      <th>KIDNAPPING AND ABDUCTION OF OTHERS</th>\n",
       "      <th>...</th>\n",
       "      <th>ARSON</th>\n",
       "      <th>HURT/GREVIOUS HURT</th>\n",
       "      <th>DOWRY DEATHS</th>\n",
       "      <th>ASSAULT ON WOMEN WITH INTENT TO OUTRAGE HER MODESTY</th>\n",
       "      <th>INSULT TO MODESTY OF WOMEN</th>\n",
       "      <th>CRUELTY BY HUSBAND OR HIS RELATIVES</th>\n",
       "      <th>IMPORTATION OF GIRLS FROM FOREIGN COUNTRIES</th>\n",
       "      <th>CAUSING DEATH BY NEGLIGENCE</th>\n",
       "      <th>OTHER IPC CRIMES</th>\n",
       "      <th>TOTAL IPC CRIMES</th>\n",
       "    </tr>\n",
       "  </thead>\n",
       "  <tbody>\n",
       "    <tr>\n",
       "      <th>count</th>\n",
       "      <td>9017.000000</td>\n",
       "      <td>9017.00000</td>\n",
       "      <td>9017.000000</td>\n",
       "      <td>9017.000000</td>\n",
       "      <td>9017.000000</td>\n",
       "      <td>9017.000000</td>\n",
       "      <td>9017.000000</td>\n",
       "      <td>9017.000000</td>\n",
       "      <td>9017.000000</td>\n",
       "      <td>9017.000000</td>\n",
       "      <td>...</td>\n",
       "      <td>9017.000000</td>\n",
       "      <td>9017.000000</td>\n",
       "      <td>9017.000000</td>\n",
       "      <td>9017.000000</td>\n",
       "      <td>9017.000000</td>\n",
       "      <td>9017.000000</td>\n",
       "      <td>9017.000000</td>\n",
       "      <td>9017.000000</td>\n",
       "      <td>9017.000000</td>\n",
       "      <td>9017.000000</td>\n",
       "    </tr>\n",
       "    <tr>\n",
       "      <th>mean</th>\n",
       "      <td>2006.629034</td>\n",
       "      <td>89.28535</td>\n",
       "      <td>78.069646</td>\n",
       "      <td>9.895531</td>\n",
       "      <td>53.041366</td>\n",
       "      <td>0.005767</td>\n",
       "      <td>53.035599</td>\n",
       "      <td>79.152046</td>\n",
       "      <td>58.535433</td>\n",
       "      <td>20.616613</td>\n",
       "      <td>...</td>\n",
       "      <td>25.219918</td>\n",
       "      <td>747.893091</td>\n",
       "      <td>20.228901</td>\n",
       "      <td>100.511257</td>\n",
       "      <td>27.515582</td>\n",
       "      <td>194.122435</td>\n",
       "      <td>0.197849</td>\n",
       "      <td>222.216702</td>\n",
       "      <td>2174.299434</td>\n",
       "      <td>5310.115116</td>\n",
       "    </tr>\n",
       "    <tr>\n",
       "      <th>std</th>\n",
       "      <td>3.463623</td>\n",
       "      <td>327.27503</td>\n",
       "      <td>303.446020</td>\n",
       "      <td>59.521657</td>\n",
       "      <td>190.741450</td>\n",
       "      <td>0.115223</td>\n",
       "      <td>190.725474</td>\n",
       "      <td>317.630964</td>\n",
       "      <td>246.937464</td>\n",
       "      <td>88.586415</td>\n",
       "      <td>...</td>\n",
       "      <td>98.880282</td>\n",
       "      <td>3024.106467</td>\n",
       "      <td>96.970466</td>\n",
       "      <td>394.059436</td>\n",
       "      <td>167.237522</td>\n",
       "      <td>831.986594</td>\n",
       "      <td>2.415039</td>\n",
       "      <td>936.002540</td>\n",
       "      <td>7988.438462</td>\n",
       "      <td>18524.381119</td>\n",
       "    </tr>\n",
       "    <tr>\n",
       "      <th>min</th>\n",
       "      <td>2001.000000</td>\n",
       "      <td>0.00000</td>\n",
       "      <td>0.000000</td>\n",
       "      <td>0.000000</td>\n",
       "      <td>0.000000</td>\n",
       "      <td>0.000000</td>\n",
       "      <td>0.000000</td>\n",
       "      <td>0.000000</td>\n",
       "      <td>0.000000</td>\n",
       "      <td>0.000000</td>\n",
       "      <td>...</td>\n",
       "      <td>0.000000</td>\n",
       "      <td>0.000000</td>\n",
       "      <td>0.000000</td>\n",
       "      <td>0.000000</td>\n",
       "      <td>0.000000</td>\n",
       "      <td>0.000000</td>\n",
       "      <td>0.000000</td>\n",
       "      <td>0.000000</td>\n",
       "      <td>0.000000</td>\n",
       "      <td>0.000000</td>\n",
       "    </tr>\n",
       "    <tr>\n",
       "      <th>25%</th>\n",
       "      <td>2004.000000</td>\n",
       "      <td>18.00000</td>\n",
       "      <td>10.000000</td>\n",
       "      <td>0.000000</td>\n",
       "      <td>8.000000</td>\n",
       "      <td>0.000000</td>\n",
       "      <td>8.000000</td>\n",
       "      <td>10.000000</td>\n",
       "      <td>6.000000</td>\n",
       "      <td>1.000000</td>\n",
       "      <td>...</td>\n",
       "      <td>2.000000</td>\n",
       "      <td>43.000000</td>\n",
       "      <td>1.000000</td>\n",
       "      <td>10.000000</td>\n",
       "      <td>0.000000</td>\n",
       "      <td>11.000000</td>\n",
       "      <td>0.000000</td>\n",
       "      <td>5.000000</td>\n",
       "      <td>265.000000</td>\n",
       "      <td>853.000000</td>\n",
       "    </tr>\n",
       "    <tr>\n",
       "      <th>50%</th>\n",
       "      <td>2007.000000</td>\n",
       "      <td>38.00000</td>\n",
       "      <td>28.000000</td>\n",
       "      <td>2.000000</td>\n",
       "      <td>20.000000</td>\n",
       "      <td>0.000000</td>\n",
       "      <td>20.000000</td>\n",
       "      <td>25.000000</td>\n",
       "      <td>18.000000</td>\n",
       "      <td>5.000000</td>\n",
       "      <td>...</td>\n",
       "      <td>8.000000</td>\n",
       "      <td>199.000000</td>\n",
       "      <td>5.000000</td>\n",
       "      <td>31.000000</td>\n",
       "      <td>2.000000</td>\n",
       "      <td>47.000000</td>\n",
       "      <td>0.000000</td>\n",
       "      <td>68.000000</td>\n",
       "      <td>745.000000</td>\n",
       "      <td>2096.000000</td>\n",
       "    </tr>\n",
       "    <tr>\n",
       "      <th>75%</th>\n",
       "      <td>2010.000000</td>\n",
       "      <td>66.00000</td>\n",
       "      <td>56.000000</td>\n",
       "      <td>6.000000</td>\n",
       "      <td>41.000000</td>\n",
       "      <td>0.000000</td>\n",
       "      <td>41.000000</td>\n",
       "      <td>56.000000</td>\n",
       "      <td>42.000000</td>\n",
       "      <td>13.000000</td>\n",
       "      <td>...</td>\n",
       "      <td>20.000000</td>\n",
       "      <td>529.000000</td>\n",
       "      <td>16.000000</td>\n",
       "      <td>76.000000</td>\n",
       "      <td>13.000000</td>\n",
       "      <td>135.000000</td>\n",
       "      <td>0.000000</td>\n",
       "      <td>177.000000</td>\n",
       "      <td>1608.000000</td>\n",
       "      <td>3972.000000</td>\n",
       "    </tr>\n",
       "    <tr>\n",
       "      <th>max</th>\n",
       "      <td>2012.000000</td>\n",
       "      <td>7601.00000</td>\n",
       "      <td>7964.000000</td>\n",
       "      <td>1616.000000</td>\n",
       "      <td>3425.000000</td>\n",
       "      <td>5.000000</td>\n",
       "      <td>3425.000000</td>\n",
       "      <td>8878.000000</td>\n",
       "      <td>7910.000000</td>\n",
       "      <td>2416.000000</td>\n",
       "      <td>...</td>\n",
       "      <td>2830.000000</td>\n",
       "      <td>56768.000000</td>\n",
       "      <td>2322.000000</td>\n",
       "      <td>7118.000000</td>\n",
       "      <td>4970.000000</td>\n",
       "      <td>19865.000000</td>\n",
       "      <td>83.000000</td>\n",
       "      <td>16076.000000</td>\n",
       "      <td>124176.000000</td>\n",
       "      <td>220335.000000</td>\n",
       "    </tr>\n",
       "  </tbody>\n",
       "</table>\n",
       "<p>8 rows × 31 columns</p>\n",
       "</div>"
      ],
      "text/plain": [
       "              YEAR      MURDER  ATTEMPT TO MURDER  \\\n",
       "count  9017.000000  9017.00000        9017.000000   \n",
       "mean   2006.629034    89.28535          78.069646   \n",
       "std       3.463623   327.27503         303.446020   \n",
       "min    2001.000000     0.00000           0.000000   \n",
       "25%    2004.000000    18.00000          10.000000   \n",
       "50%    2007.000000    38.00000          28.000000   \n",
       "75%    2010.000000    66.00000          56.000000   \n",
       "max    2012.000000  7601.00000        7964.000000   \n",
       "\n",
       "       CULPABLE HOMICIDE NOT AMOUNTING TO MURDER         RAPE  CUSTODIAL RAPE  \\\n",
       "count                                9017.000000  9017.000000     9017.000000   \n",
       "mean                                    9.895531    53.041366        0.005767   \n",
       "std                                    59.521657   190.741450        0.115223   \n",
       "min                                     0.000000     0.000000        0.000000   \n",
       "25%                                     0.000000     8.000000        0.000000   \n",
       "50%                                     2.000000    20.000000        0.000000   \n",
       "75%                                     6.000000    41.000000        0.000000   \n",
       "max                                  1616.000000  3425.000000        5.000000   \n",
       "\n",
       "        OTHER RAPE  KIDNAPPING & ABDUCTION  \\\n",
       "count  9017.000000             9017.000000   \n",
       "mean     53.035599               79.152046   \n",
       "std     190.725474              317.630964   \n",
       "min       0.000000                0.000000   \n",
       "25%       8.000000               10.000000   \n",
       "50%      20.000000               25.000000   \n",
       "75%      41.000000               56.000000   \n",
       "max    3425.000000             8878.000000   \n",
       "\n",
       "       KIDNAPPING AND ABDUCTION OF WOMEN AND GIRLS  \\\n",
       "count                                  9017.000000   \n",
       "mean                                     58.535433   \n",
       "std                                     246.937464   \n",
       "min                                       0.000000   \n",
       "25%                                       6.000000   \n",
       "50%                                      18.000000   \n",
       "75%                                      42.000000   \n",
       "max                                    7910.000000   \n",
       "\n",
       "       KIDNAPPING AND ABDUCTION OF OTHERS  ...        ARSON  \\\n",
       "count                         9017.000000  ...  9017.000000   \n",
       "mean                            20.616613  ...    25.219918   \n",
       "std                             88.586415  ...    98.880282   \n",
       "min                              0.000000  ...     0.000000   \n",
       "25%                              1.000000  ...     2.000000   \n",
       "50%                              5.000000  ...     8.000000   \n",
       "75%                             13.000000  ...    20.000000   \n",
       "max                           2416.000000  ...  2830.000000   \n",
       "\n",
       "       HURT/GREVIOUS HURT  DOWRY DEATHS  \\\n",
       "count         9017.000000   9017.000000   \n",
       "mean           747.893091     20.228901   \n",
       "std           3024.106467     96.970466   \n",
       "min              0.000000      0.000000   \n",
       "25%             43.000000      1.000000   \n",
       "50%            199.000000      5.000000   \n",
       "75%            529.000000     16.000000   \n",
       "max          56768.000000   2322.000000   \n",
       "\n",
       "       ASSAULT ON WOMEN WITH INTENT TO OUTRAGE HER MODESTY  \\\n",
       "count                                        9017.000000     \n",
       "mean                                          100.511257     \n",
       "std                                           394.059436     \n",
       "min                                             0.000000     \n",
       "25%                                            10.000000     \n",
       "50%                                            31.000000     \n",
       "75%                                            76.000000     \n",
       "max                                          7118.000000     \n",
       "\n",
       "       INSULT TO MODESTY OF WOMEN  CRUELTY BY HUSBAND OR HIS RELATIVES  \\\n",
       "count                 9017.000000                          9017.000000   \n",
       "mean                    27.515582                           194.122435   \n",
       "std                    167.237522                           831.986594   \n",
       "min                      0.000000                             0.000000   \n",
       "25%                      0.000000                            11.000000   \n",
       "50%                      2.000000                            47.000000   \n",
       "75%                     13.000000                           135.000000   \n",
       "max                   4970.000000                         19865.000000   \n",
       "\n",
       "       IMPORTATION OF GIRLS FROM FOREIGN COUNTRIES  \\\n",
       "count                                  9017.000000   \n",
       "mean                                      0.197849   \n",
       "std                                       2.415039   \n",
       "min                                       0.000000   \n",
       "25%                                       0.000000   \n",
       "50%                                       0.000000   \n",
       "75%                                       0.000000   \n",
       "max                                      83.000000   \n",
       "\n",
       "       CAUSING DEATH BY NEGLIGENCE  OTHER IPC CRIMES  TOTAL IPC CRIMES  \n",
       "count                  9017.000000       9017.000000       9017.000000  \n",
       "mean                    222.216702       2174.299434       5310.115116  \n",
       "std                     936.002540       7988.438462      18524.381119  \n",
       "min                       0.000000          0.000000          0.000000  \n",
       "25%                       5.000000        265.000000        853.000000  \n",
       "50%                      68.000000        745.000000       2096.000000  \n",
       "75%                     177.000000       1608.000000       3972.000000  \n",
       "max                   16076.000000     124176.000000     220335.000000  \n",
       "\n",
       "[8 rows x 31 columns]"
      ]
     },
     "execution_count": 4,
     "metadata": {},
     "output_type": "execute_result"
    }
   ],
   "source": [
    "data.describe()"
   ]
  },
  {
   "cell_type": "code",
   "execution_count": 5,
   "metadata": {},
   "outputs": [
    {
     "name": "stdout",
     "output_type": "stream",
     "text": [
      "<class 'pandas.core.frame.DataFrame'>\n",
      "RangeIndex: 9017 entries, 0 to 9016\n",
      "Data columns (total 33 columns):\n",
      " #   Column                                               Non-Null Count  Dtype \n",
      "---  ------                                               --------------  ----- \n",
      " 0   STATE/UT                                             9017 non-null   object\n",
      " 1   DISTRICT                                             9017 non-null   object\n",
      " 2   YEAR                                                 9017 non-null   int64 \n",
      " 3   MURDER                                               9017 non-null   int64 \n",
      " 4   ATTEMPT TO MURDER                                    9017 non-null   int64 \n",
      " 5   CULPABLE HOMICIDE NOT AMOUNTING TO MURDER            9017 non-null   int64 \n",
      " 6   RAPE                                                 9017 non-null   int64 \n",
      " 7   CUSTODIAL RAPE                                       9017 non-null   int64 \n",
      " 8   OTHER RAPE                                           9017 non-null   int64 \n",
      " 9   KIDNAPPING & ABDUCTION                               9017 non-null   int64 \n",
      " 10  KIDNAPPING AND ABDUCTION OF WOMEN AND GIRLS          9017 non-null   int64 \n",
      " 11  KIDNAPPING AND ABDUCTION OF OTHERS                   9017 non-null   int64 \n",
      " 12  DACOITY                                              9017 non-null   int64 \n",
      " 13  PREPARATION AND ASSEMBLY FOR DACOITY                 9017 non-null   int64 \n",
      " 14  ROBBERY                                              9017 non-null   int64 \n",
      " 15  BURGLARY                                             9017 non-null   int64 \n",
      " 16  THEFT                                                9017 non-null   int64 \n",
      " 17  AUTO THEFT                                           9017 non-null   int64 \n",
      " 18  OTHER THEFT                                          9017 non-null   int64 \n",
      " 19  RIOTS                                                9017 non-null   int64 \n",
      " 20  CRIMINAL BREACH OF TRUST                             9017 non-null   int64 \n",
      " 21  CHEATING                                             9017 non-null   int64 \n",
      " 22  COUNTERFIETING                                       9017 non-null   int64 \n",
      " 23  ARSON                                                9017 non-null   int64 \n",
      " 24  HURT/GREVIOUS HURT                                   9017 non-null   int64 \n",
      " 25  DOWRY DEATHS                                         9017 non-null   int64 \n",
      " 26  ASSAULT ON WOMEN WITH INTENT TO OUTRAGE HER MODESTY  9017 non-null   int64 \n",
      " 27  INSULT TO MODESTY OF WOMEN                           9017 non-null   int64 \n",
      " 28  CRUELTY BY HUSBAND OR HIS RELATIVES                  9017 non-null   int64 \n",
      " 29  IMPORTATION OF GIRLS FROM FOREIGN COUNTRIES          9017 non-null   int64 \n",
      " 30  CAUSING DEATH BY NEGLIGENCE                          9017 non-null   int64 \n",
      " 31  OTHER IPC CRIMES                                     9017 non-null   int64 \n",
      " 32  TOTAL IPC CRIMES                                     9017 non-null   int64 \n",
      "dtypes: int64(31), object(2)\n",
      "memory usage: 2.3+ MB\n"
     ]
    }
   ],
   "source": [
    "data.info()"
   ]
  },
  {
   "cell_type": "markdown",
   "metadata": {},
   "source": [
    "## Performing EDA\n"
   ]
  },
  {
   "cell_type": "code",
   "execution_count": 6,
   "metadata": {},
   "outputs": [
    {
     "data": {
      "text/html": [
       "<div>\n",
       "<style scoped>\n",
       "    .dataframe tbody tr th:only-of-type {\n",
       "        vertical-align: middle;\n",
       "    }\n",
       "\n",
       "    .dataframe tbody tr th {\n",
       "        vertical-align: top;\n",
       "    }\n",
       "\n",
       "    .dataframe thead th {\n",
       "        text-align: right;\n",
       "    }\n",
       "</style>\n",
       "<table border=\"1\" class=\"dataframe\">\n",
       "  <thead>\n",
       "    <tr style=\"text-align: right;\">\n",
       "      <th></th>\n",
       "      <th>STATE/UT</th>\n",
       "      <th>DISTRICT</th>\n",
       "      <th>YEAR</th>\n",
       "      <th>MURDER</th>\n",
       "      <th>ATTEMPT TO MURDER</th>\n",
       "      <th>CULPABLE HOMICIDE NOT AMOUNTING TO MURDER</th>\n",
       "      <th>RAPE</th>\n",
       "      <th>CUSTODIAL RAPE</th>\n",
       "      <th>OTHER RAPE</th>\n",
       "      <th>KIDNAPPING &amp; ABDUCTION</th>\n",
       "      <th>...</th>\n",
       "      <th>ARSON</th>\n",
       "      <th>HURT/GREVIOUS HURT</th>\n",
       "      <th>DOWRY DEATHS</th>\n",
       "      <th>ASSAULT ON WOMEN WITH INTENT TO OUTRAGE HER MODESTY</th>\n",
       "      <th>INSULT TO MODESTY OF WOMEN</th>\n",
       "      <th>CRUELTY BY HUSBAND OR HIS RELATIVES</th>\n",
       "      <th>IMPORTATION OF GIRLS FROM FOREIGN COUNTRIES</th>\n",
       "      <th>CAUSING DEATH BY NEGLIGENCE</th>\n",
       "      <th>OTHER IPC CRIMES</th>\n",
       "      <th>TOTAL IPC CRIMES</th>\n",
       "    </tr>\n",
       "  </thead>\n",
       "  <tbody>\n",
       "    <tr>\n",
       "      <th>28</th>\n",
       "      <td>ANDHRA PRADESH</td>\n",
       "      <td>TOTAL</td>\n",
       "      <td>2001</td>\n",
       "      <td>2602</td>\n",
       "      <td>1555</td>\n",
       "      <td>136</td>\n",
       "      <td>871</td>\n",
       "      <td>0</td>\n",
       "      <td>871</td>\n",
       "      <td>1182</td>\n",
       "      <td>...</td>\n",
       "      <td>872</td>\n",
       "      <td>34947</td>\n",
       "      <td>420</td>\n",
       "      <td>3544</td>\n",
       "      <td>2271</td>\n",
       "      <td>5791</td>\n",
       "      <td>7</td>\n",
       "      <td>7400</td>\n",
       "      <td>34344</td>\n",
       "      <td>130089</td>\n",
       "    </tr>\n",
       "    <tr>\n",
       "      <th>42</th>\n",
       "      <td>ARUNACHAL PRADESH</td>\n",
       "      <td>TOTAL</td>\n",
       "      <td>2001</td>\n",
       "      <td>83</td>\n",
       "      <td>53</td>\n",
       "      <td>3</td>\n",
       "      <td>33</td>\n",
       "      <td>0</td>\n",
       "      <td>33</td>\n",
       "      <td>83</td>\n",
       "      <td>...</td>\n",
       "      <td>13</td>\n",
       "      <td>466</td>\n",
       "      <td>0</td>\n",
       "      <td>78</td>\n",
       "      <td>3</td>\n",
       "      <td>11</td>\n",
       "      <td>0</td>\n",
       "      <td>0</td>\n",
       "      <td>618</td>\n",
       "      <td>2342</td>\n",
       "    </tr>\n",
       "    <tr>\n",
       "      <th>70</th>\n",
       "      <td>ASSAM</td>\n",
       "      <td>TOTAL</td>\n",
       "      <td>2001</td>\n",
       "      <td>1356</td>\n",
       "      <td>481</td>\n",
       "      <td>40</td>\n",
       "      <td>817</td>\n",
       "      <td>0</td>\n",
       "      <td>817</td>\n",
       "      <td>1480</td>\n",
       "      <td>...</td>\n",
       "      <td>441</td>\n",
       "      <td>5805</td>\n",
       "      <td>59</td>\n",
       "      <td>850</td>\n",
       "      <td>4</td>\n",
       "      <td>1248</td>\n",
       "      <td>0</td>\n",
       "      <td>2010</td>\n",
       "      <td>9315</td>\n",
       "      <td>36877</td>\n",
       "    </tr>\n",
       "    <tr>\n",
       "      <th>115</th>\n",
       "      <td>BIHAR</td>\n",
       "      <td>TOTAL</td>\n",
       "      <td>2001</td>\n",
       "      <td>3643</td>\n",
       "      <td>3419</td>\n",
       "      <td>250</td>\n",
       "      <td>888</td>\n",
       "      <td>0</td>\n",
       "      <td>888</td>\n",
       "      <td>2159</td>\n",
       "      <td>...</td>\n",
       "      <td>502</td>\n",
       "      <td>7544</td>\n",
       "      <td>859</td>\n",
       "      <td>562</td>\n",
       "      <td>21</td>\n",
       "      <td>1558</td>\n",
       "      <td>83</td>\n",
       "      <td>2406</td>\n",
       "      <td>36667</td>\n",
       "      <td>88432</td>\n",
       "    </tr>\n",
       "    <tr>\n",
       "      <th>135</th>\n",
       "      <td>CHHATTISGARH</td>\n",
       "      <td>TOTAL</td>\n",
       "      <td>2001</td>\n",
       "      <td>880</td>\n",
       "      <td>529</td>\n",
       "      <td>45</td>\n",
       "      <td>959</td>\n",
       "      <td>0</td>\n",
       "      <td>959</td>\n",
       "      <td>207</td>\n",
       "      <td>...</td>\n",
       "      <td>215</td>\n",
       "      <td>5477</td>\n",
       "      <td>70</td>\n",
       "      <td>1763</td>\n",
       "      <td>161</td>\n",
       "      <td>840</td>\n",
       "      <td>0</td>\n",
       "      <td>689</td>\n",
       "      <td>15790</td>\n",
       "      <td>38460</td>\n",
       "    </tr>\n",
       "    <tr>\n",
       "      <th>...</th>\n",
       "      <td>...</td>\n",
       "      <td>...</td>\n",
       "      <td>...</td>\n",
       "      <td>...</td>\n",
       "      <td>...</td>\n",
       "      <td>...</td>\n",
       "      <td>...</td>\n",
       "      <td>...</td>\n",
       "      <td>...</td>\n",
       "      <td>...</td>\n",
       "      <td>...</td>\n",
       "      <td>...</td>\n",
       "      <td>...</td>\n",
       "      <td>...</td>\n",
       "      <td>...</td>\n",
       "      <td>...</td>\n",
       "      <td>...</td>\n",
       "      <td>...</td>\n",
       "      <td>...</td>\n",
       "      <td>...</td>\n",
       "      <td>...</td>\n",
       "    </tr>\n",
       "    <tr>\n",
       "      <th>8988</th>\n",
       "      <td>CHANDIGARH</td>\n",
       "      <td>TOTAL</td>\n",
       "      <td>2012</td>\n",
       "      <td>21</td>\n",
       "      <td>44</td>\n",
       "      <td>5</td>\n",
       "      <td>27</td>\n",
       "      <td>0</td>\n",
       "      <td>27</td>\n",
       "      <td>87</td>\n",
       "      <td>...</td>\n",
       "      <td>9</td>\n",
       "      <td>42</td>\n",
       "      <td>5</td>\n",
       "      <td>45</td>\n",
       "      <td>25</td>\n",
       "      <td>73</td>\n",
       "      <td>0</td>\n",
       "      <td>3</td>\n",
       "      <td>1042</td>\n",
       "      <td>3606</td>\n",
       "    </tr>\n",
       "    <tr>\n",
       "      <th>8990</th>\n",
       "      <td>D &amp; N HAVELI</td>\n",
       "      <td>TOTAL</td>\n",
       "      <td>2012</td>\n",
       "      <td>7</td>\n",
       "      <td>2</td>\n",
       "      <td>0</td>\n",
       "      <td>3</td>\n",
       "      <td>0</td>\n",
       "      <td>3</td>\n",
       "      <td>13</td>\n",
       "      <td>...</td>\n",
       "      <td>12</td>\n",
       "      <td>25</td>\n",
       "      <td>0</td>\n",
       "      <td>2</td>\n",
       "      <td>0</td>\n",
       "      <td>0</td>\n",
       "      <td>0</td>\n",
       "      <td>23</td>\n",
       "      <td>112</td>\n",
       "      <td>318</td>\n",
       "    </tr>\n",
       "    <tr>\n",
       "      <th>8993</th>\n",
       "      <td>DAMAN &amp; DIU</td>\n",
       "      <td>TOTAL</td>\n",
       "      <td>2012</td>\n",
       "      <td>3</td>\n",
       "      <td>5</td>\n",
       "      <td>0</td>\n",
       "      <td>5</td>\n",
       "      <td>0</td>\n",
       "      <td>5</td>\n",
       "      <td>3</td>\n",
       "      <td>...</td>\n",
       "      <td>11</td>\n",
       "      <td>17</td>\n",
       "      <td>0</td>\n",
       "      <td>0</td>\n",
       "      <td>0</td>\n",
       "      <td>3</td>\n",
       "      <td>0</td>\n",
       "      <td>38</td>\n",
       "      <td>46</td>\n",
       "      <td>239</td>\n",
       "    </tr>\n",
       "    <tr>\n",
       "      <th>9013</th>\n",
       "      <td>LAKSHADWEEP</td>\n",
       "      <td>TOTAL</td>\n",
       "      <td>2012</td>\n",
       "      <td>0</td>\n",
       "      <td>0</td>\n",
       "      <td>0</td>\n",
       "      <td>0</td>\n",
       "      <td>0</td>\n",
       "      <td>0</td>\n",
       "      <td>0</td>\n",
       "      <td>...</td>\n",
       "      <td>3</td>\n",
       "      <td>3</td>\n",
       "      <td>0</td>\n",
       "      <td>1</td>\n",
       "      <td>0</td>\n",
       "      <td>1</td>\n",
       "      <td>0</td>\n",
       "      <td>0</td>\n",
       "      <td>32</td>\n",
       "      <td>60</td>\n",
       "    </tr>\n",
       "    <tr>\n",
       "      <th>9016</th>\n",
       "      <td>PUDUCHERRY</td>\n",
       "      <td>TOTAL</td>\n",
       "      <td>2012</td>\n",
       "      <td>29</td>\n",
       "      <td>27</td>\n",
       "      <td>12</td>\n",
       "      <td>13</td>\n",
       "      <td>0</td>\n",
       "      <td>13</td>\n",
       "      <td>19</td>\n",
       "      <td>...</td>\n",
       "      <td>21</td>\n",
       "      <td>818</td>\n",
       "      <td>0</td>\n",
       "      <td>9</td>\n",
       "      <td>2</td>\n",
       "      <td>6</td>\n",
       "      <td>0</td>\n",
       "      <td>263</td>\n",
       "      <td>2060</td>\n",
       "      <td>4281</td>\n",
       "    </tr>\n",
       "  </tbody>\n",
       "</table>\n",
       "<p>408 rows × 33 columns</p>\n",
       "</div>"
      ],
      "text/plain": [
       "               STATE/UT DISTRICT  YEAR  MURDER  ATTEMPT TO MURDER  \\\n",
       "28       ANDHRA PRADESH    TOTAL  2001    2602               1555   \n",
       "42    ARUNACHAL PRADESH    TOTAL  2001      83                 53   \n",
       "70                ASSAM    TOTAL  2001    1356                481   \n",
       "115               BIHAR    TOTAL  2001    3643               3419   \n",
       "135        CHHATTISGARH    TOTAL  2001     880                529   \n",
       "...                 ...      ...   ...     ...                ...   \n",
       "8988         CHANDIGARH    TOTAL  2012      21                 44   \n",
       "8990       D & N HAVELI    TOTAL  2012       7                  2   \n",
       "8993        DAMAN & DIU    TOTAL  2012       3                  5   \n",
       "9013        LAKSHADWEEP    TOTAL  2012       0                  0   \n",
       "9016         PUDUCHERRY    TOTAL  2012      29                 27   \n",
       "\n",
       "      CULPABLE HOMICIDE NOT AMOUNTING TO MURDER  RAPE  CUSTODIAL RAPE  \\\n",
       "28                                          136   871               0   \n",
       "42                                            3    33               0   \n",
       "70                                           40   817               0   \n",
       "115                                         250   888               0   \n",
       "135                                          45   959               0   \n",
       "...                                         ...   ...             ...   \n",
       "8988                                          5    27               0   \n",
       "8990                                          0     3               0   \n",
       "8993                                          0     5               0   \n",
       "9013                                          0     0               0   \n",
       "9016                                         12    13               0   \n",
       "\n",
       "      OTHER RAPE  KIDNAPPING & ABDUCTION  ...  ARSON  HURT/GREVIOUS HURT  \\\n",
       "28           871                    1182  ...    872               34947   \n",
       "42            33                      83  ...     13                 466   \n",
       "70           817                    1480  ...    441                5805   \n",
       "115          888                    2159  ...    502                7544   \n",
       "135          959                     207  ...    215                5477   \n",
       "...          ...                     ...  ...    ...                 ...   \n",
       "8988          27                      87  ...      9                  42   \n",
       "8990           3                      13  ...     12                  25   \n",
       "8993           5                       3  ...     11                  17   \n",
       "9013           0                       0  ...      3                   3   \n",
       "9016          13                      19  ...     21                 818   \n",
       "\n",
       "      DOWRY DEATHS  ASSAULT ON WOMEN WITH INTENT TO OUTRAGE HER MODESTY  \\\n",
       "28             420                                               3544     \n",
       "42               0                                                 78     \n",
       "70              59                                                850     \n",
       "115            859                                                562     \n",
       "135             70                                               1763     \n",
       "...            ...                                                ...     \n",
       "8988             5                                                 45     \n",
       "8990             0                                                  2     \n",
       "8993             0                                                  0     \n",
       "9013             0                                                  1     \n",
       "9016             0                                                  9     \n",
       "\n",
       "      INSULT TO MODESTY OF WOMEN  CRUELTY BY HUSBAND OR HIS RELATIVES  \\\n",
       "28                          2271                                 5791   \n",
       "42                             3                                   11   \n",
       "70                             4                                 1248   \n",
       "115                           21                                 1558   \n",
       "135                          161                                  840   \n",
       "...                          ...                                  ...   \n",
       "8988                          25                                   73   \n",
       "8990                           0                                    0   \n",
       "8993                           0                                    3   \n",
       "9013                           0                                    1   \n",
       "9016                           2                                    6   \n",
       "\n",
       "      IMPORTATION OF GIRLS FROM FOREIGN COUNTRIES  \\\n",
       "28                                              7   \n",
       "42                                              0   \n",
       "70                                              0   \n",
       "115                                            83   \n",
       "135                                             0   \n",
       "...                                           ...   \n",
       "8988                                            0   \n",
       "8990                                            0   \n",
       "8993                                            0   \n",
       "9013                                            0   \n",
       "9016                                            0   \n",
       "\n",
       "      CAUSING DEATH BY NEGLIGENCE  OTHER IPC CRIMES  TOTAL IPC CRIMES  \n",
       "28                           7400             34344            130089  \n",
       "42                              0               618              2342  \n",
       "70                           2010              9315             36877  \n",
       "115                          2406             36667             88432  \n",
       "135                           689             15790             38460  \n",
       "...                           ...               ...               ...  \n",
       "8988                            3              1042              3606  \n",
       "8990                           23               112               318  \n",
       "8993                           38                46               239  \n",
       "9013                            0                32                60  \n",
       "9016                          263              2060              4281  \n",
       "\n",
       "[408 rows x 33 columns]"
      ]
     },
     "execution_count": 6,
     "metadata": {},
     "output_type": "execute_result"
    }
   ],
   "source": [
    "total = data[(data[\"DISTRICT\"] == \"TOTAL\")]\n",
    "total"
   ]
  },
  {
   "cell_type": "markdown",
   "metadata": {},
   "source": [
    "### Here - taken TN into consideration\n",
    "\n",
    "**P.S**: Can consider any state\n"
   ]
  },
  {
   "cell_type": "code",
   "execution_count": 7,
   "metadata": {},
   "outputs": [
    {
     "data": {
      "text/html": [
       "<div>\n",
       "<style scoped>\n",
       "    .dataframe tbody tr th:only-of-type {\n",
       "        vertical-align: middle;\n",
       "    }\n",
       "\n",
       "    .dataframe tbody tr th {\n",
       "        vertical-align: top;\n",
       "    }\n",
       "\n",
       "    .dataframe thead th {\n",
       "        text-align: right;\n",
       "    }\n",
       "</style>\n",
       "<table border=\"1\" class=\"dataframe\">\n",
       "  <thead>\n",
       "    <tr style=\"text-align: right;\">\n",
       "      <th></th>\n",
       "      <th>STATE/UT</th>\n",
       "      <th>DISTRICT</th>\n",
       "      <th>YEAR</th>\n",
       "      <th>MURDER</th>\n",
       "      <th>ATTEMPT TO MURDER</th>\n",
       "      <th>CULPABLE HOMICIDE NOT AMOUNTING TO MURDER</th>\n",
       "      <th>RAPE</th>\n",
       "      <th>CUSTODIAL RAPE</th>\n",
       "      <th>OTHER RAPE</th>\n",
       "      <th>KIDNAPPING &amp; ABDUCTION</th>\n",
       "      <th>...</th>\n",
       "      <th>ARSON</th>\n",
       "      <th>HURT/GREVIOUS HURT</th>\n",
       "      <th>DOWRY DEATHS</th>\n",
       "      <th>ASSAULT ON WOMEN WITH INTENT TO OUTRAGE HER MODESTY</th>\n",
       "      <th>INSULT TO MODESTY OF WOMEN</th>\n",
       "      <th>CRUELTY BY HUSBAND OR HIS RELATIVES</th>\n",
       "      <th>IMPORTATION OF GIRLS FROM FOREIGN COUNTRIES</th>\n",
       "      <th>CAUSING DEATH BY NEGLIGENCE</th>\n",
       "      <th>OTHER IPC CRIMES</th>\n",
       "      <th>TOTAL IPC CRIMES</th>\n",
       "    </tr>\n",
       "  </thead>\n",
       "  <tbody>\n",
       "    <tr>\n",
       "      <th>573</th>\n",
       "      <td>TAMIL NADU</td>\n",
       "      <td>TOTAL</td>\n",
       "      <td>2001</td>\n",
       "      <td>1662</td>\n",
       "      <td>2204</td>\n",
       "      <td>19</td>\n",
       "      <td>423</td>\n",
       "      <td>0</td>\n",
       "      <td>423</td>\n",
       "      <td>952</td>\n",
       "      <td>...</td>\n",
       "      <td>980</td>\n",
       "      <td>28429</td>\n",
       "      <td>191</td>\n",
       "      <td>1773</td>\n",
       "      <td>1012</td>\n",
       "      <td>815</td>\n",
       "      <td>14</td>\n",
       "      <td>8550</td>\n",
       "      <td>76468</td>\n",
       "      <td>154801</td>\n",
       "    </tr>\n",
       "    <tr>\n",
       "      <th>1289</th>\n",
       "      <td>TAMIL NADU</td>\n",
       "      <td>TOTAL</td>\n",
       "      <td>2002</td>\n",
       "      <td>1723</td>\n",
       "      <td>2133</td>\n",
       "      <td>36</td>\n",
       "      <td>534</td>\n",
       "      <td>0</td>\n",
       "      <td>534</td>\n",
       "      <td>1001</td>\n",
       "      <td>...</td>\n",
       "      <td>850</td>\n",
       "      <td>25150</td>\n",
       "      <td>243</td>\n",
       "      <td>1877</td>\n",
       "      <td>1718</td>\n",
       "      <td>1052</td>\n",
       "      <td>0</td>\n",
       "      <td>10125</td>\n",
       "      <td>88680</td>\n",
       "      <td>166942</td>\n",
       "    </tr>\n",
       "    <tr>\n",
       "      <th>2018</th>\n",
       "      <td>TAMIL NADU</td>\n",
       "      <td>TOTAL</td>\n",
       "      <td>2003</td>\n",
       "      <td>1591</td>\n",
       "      <td>1843</td>\n",
       "      <td>28</td>\n",
       "      <td>557</td>\n",
       "      <td>1</td>\n",
       "      <td>556</td>\n",
       "      <td>879</td>\n",
       "      <td>...</td>\n",
       "      <td>791</td>\n",
       "      <td>30228</td>\n",
       "      <td>220</td>\n",
       "      <td>2022</td>\n",
       "      <td>881</td>\n",
       "      <td>1555</td>\n",
       "      <td>1</td>\n",
       "      <td>9112</td>\n",
       "      <td>77784</td>\n",
       "      <td>157186</td>\n",
       "    </tr>\n",
       "    <tr>\n",
       "      <th>2747</th>\n",
       "      <td>TAMIL NADU</td>\n",
       "      <td>TOTAL</td>\n",
       "      <td>2004</td>\n",
       "      <td>1479</td>\n",
       "      <td>1772</td>\n",
       "      <td>26</td>\n",
       "      <td>618</td>\n",
       "      <td>0</td>\n",
       "      <td>618</td>\n",
       "      <td>870</td>\n",
       "      <td>...</td>\n",
       "      <td>662</td>\n",
       "      <td>30855</td>\n",
       "      <td>225</td>\n",
       "      <td>1861</td>\n",
       "      <td>1081</td>\n",
       "      <td>1437</td>\n",
       "      <td>0</td>\n",
       "      <td>9152</td>\n",
       "      <td>88439</td>\n",
       "      <td>166606</td>\n",
       "    </tr>\n",
       "    <tr>\n",
       "      <th>3480</th>\n",
       "      <td>TAMIL NADU</td>\n",
       "      <td>TOTAL</td>\n",
       "      <td>2005</td>\n",
       "      <td>1440</td>\n",
       "      <td>1759</td>\n",
       "      <td>28</td>\n",
       "      <td>571</td>\n",
       "      <td>1</td>\n",
       "      <td>570</td>\n",
       "      <td>1029</td>\n",
       "      <td>...</td>\n",
       "      <td>495</td>\n",
       "      <td>31725</td>\n",
       "      <td>215</td>\n",
       "      <td>1764</td>\n",
       "      <td>665</td>\n",
       "      <td>1650</td>\n",
       "      <td>0</td>\n",
       "      <td>8902</td>\n",
       "      <td>86494</td>\n",
       "      <td>162360</td>\n",
       "    </tr>\n",
       "  </tbody>\n",
       "</table>\n",
       "<p>5 rows × 33 columns</p>\n",
       "</div>"
      ],
      "text/plain": [
       "        STATE/UT DISTRICT  YEAR  MURDER  ATTEMPT TO MURDER  \\\n",
       "573   TAMIL NADU    TOTAL  2001    1662               2204   \n",
       "1289  TAMIL NADU    TOTAL  2002    1723               2133   \n",
       "2018  TAMIL NADU    TOTAL  2003    1591               1843   \n",
       "2747  TAMIL NADU    TOTAL  2004    1479               1772   \n",
       "3480  TAMIL NADU    TOTAL  2005    1440               1759   \n",
       "\n",
       "      CULPABLE HOMICIDE NOT AMOUNTING TO MURDER  RAPE  CUSTODIAL RAPE  \\\n",
       "573                                          19   423               0   \n",
       "1289                                         36   534               0   \n",
       "2018                                         28   557               1   \n",
       "2747                                         26   618               0   \n",
       "3480                                         28   571               1   \n",
       "\n",
       "      OTHER RAPE  KIDNAPPING & ABDUCTION  ...  ARSON  HURT/GREVIOUS HURT  \\\n",
       "573          423                     952  ...    980               28429   \n",
       "1289         534                    1001  ...    850               25150   \n",
       "2018         556                     879  ...    791               30228   \n",
       "2747         618                     870  ...    662               30855   \n",
       "3480         570                    1029  ...    495               31725   \n",
       "\n",
       "      DOWRY DEATHS  ASSAULT ON WOMEN WITH INTENT TO OUTRAGE HER MODESTY  \\\n",
       "573            191                                               1773     \n",
       "1289           243                                               1877     \n",
       "2018           220                                               2022     \n",
       "2747           225                                               1861     \n",
       "3480           215                                               1764     \n",
       "\n",
       "      INSULT TO MODESTY OF WOMEN  CRUELTY BY HUSBAND OR HIS RELATIVES  \\\n",
       "573                         1012                                  815   \n",
       "1289                        1718                                 1052   \n",
       "2018                         881                                 1555   \n",
       "2747                        1081                                 1437   \n",
       "3480                         665                                 1650   \n",
       "\n",
       "      IMPORTATION OF GIRLS FROM FOREIGN COUNTRIES  \\\n",
       "573                                            14   \n",
       "1289                                            0   \n",
       "2018                                            1   \n",
       "2747                                            0   \n",
       "3480                                            0   \n",
       "\n",
       "      CAUSING DEATH BY NEGLIGENCE  OTHER IPC CRIMES  TOTAL IPC CRIMES  \n",
       "573                          8550             76468            154801  \n",
       "1289                        10125             88680            166942  \n",
       "2018                         9112             77784            157186  \n",
       "2747                         9152             88439            166606  \n",
       "3480                         8902             86494            162360  \n",
       "\n",
       "[5 rows x 33 columns]"
      ]
     },
     "execution_count": 7,
     "metadata": {},
     "output_type": "execute_result"
    }
   ],
   "source": [
    "tn = total[(total[\"STATE/UT\"] == \"TAMIL NADU\")]\n",
    "tn.head()"
   ]
  },
  {
   "cell_type": "markdown",
   "metadata": {},
   "source": [
    "#### Murder VS Attempt to Murder\n"
   ]
  },
  {
   "cell_type": "code",
   "execution_count": 8,
   "metadata": {},
   "outputs": [
    {
     "data": {
      "image/png": "[encoded data removed]",
      "text/plain": [
       "<Figure size 1080x360 with 2 Axes>"
      ]
     },
     "metadata": {
      "needs_background": "light"
     },
     "output_type": "display_data"
    }
   ],
   "source": [
    "fig, axes = plt.subplots(1, 2, figsize=(15, 5), sharey=True)\n",
    "fig.suptitle(\"ATTEMPT TO MURDER VS MURDER\")\n",
    "\n",
    "# Attempt to Murder\n",
    "sns.pointplot(data=tn, x=\"YEAR\", y=\"ATTEMPT TO MURDER\", ax=axes[0])\n",
    "axes[0].set_title(\"ATTEMPT TO MURDER\")\n",
    "\n",
    "# Murder\n",
    "sns.pointplot(data=tn, x=\"YEAR\", y=\"MURDER\", ax=axes[1], color=\"red\")\n",
    "axes[1].set_title(\"MURDER\")\n",
    "\n",
    "# plt.savefig(\"../images/plot-1.png\")\n",
    "plt.show()"
   ]
  },
  {
   "cell_type": "code",
   "execution_count": 9,
   "metadata": {},
   "outputs": [
    {
     "data": {
      "image/png": "[encoded data removed]",
      "text/plain": [
       "<Figure size 1296x720 with 3 Axes>"
      ]
     },
     "metadata": {
      "needs_background": "light"
     },
     "output_type": "display_data"
    }
   ],
   "source": [
    "fig, axes = plt.subplots(1, 3, figsize=(18, 10), sharey=True)\n",
    "fig.suptitle(\"KIDNAPPING\")\n",
    "\n",
    "# Kidnapping\n",
    "sns.histplot(data=tn, x=\"YEAR\", y=\"KIDNAPPING & ABDUCTION\", ax=axes[0])\n",
    "axes[0].set_title(\"KIDNAPPING & ABDUCTION\")\n",
    "\n",
    "# Kidnapping and Abduction of Women and Girls\n",
    "sns.histplot(data=tn,\n",
    "             x=\"YEAR\",\n",
    "             y=\"KIDNAPPING AND ABDUCTION OF WOMEN AND GIRLS\",\n",
    "             ax=axes[1],\n",
    "             color=\"red\")\n",
    "axes[1].set_title(\"KIDNAPPING AND ABDUCTION OF WOMEN AND GIRLS\")\n",
    "\n",
    "# Kidnapping and Abduction of Others\n",
    "sns.histplot(data=tn,\n",
    "             x=\"YEAR\",\n",
    "             y=\"KIDNAPPING AND ABDUCTION OF OTHERS\",\n",
    "             ax=axes[2],\n",
    "             color=\"green\")\n",
    "axes[2].set_title(\"KIDNAPPING AND ABDUCTION OF OTHERS\")\n",
    "\n",
    "# plt.savefig(\"../images/plot-2.png\")\n",
    "plt.show()"
   ]
  },
  {
   "cell_type": "markdown",
   "metadata": {},
   "source": [
    "#### Total Rape Cases in Tamilnadu"
   ]
  },
  {
   "cell_type": "code",
   "execution_count": 10,
   "metadata": {},
   "outputs": [
    {
     "data": {
      "application/vnd.plotly.v1+json": {
       "config": {
        "plotlyServerURL": "https://plot.ly"
       },
       "data": [
        {
         "alignmentgroup": "True",
         "hovertemplate": "YEAR=%{x}<br>RAPE=%{y}<extra></extra>",
         "legendgroup": "",
         "marker": {
          "color": "blue",
          "pattern": {
           "shape": ""
          }
         },
         "name": "",
         "offsetgroup": "",
         "orientation": "v",
         "showlegend": false,
         "textposition": "auto",
         "type": "bar",
         "x": [
          2001,
          2002,
          2003,
          2004,
          2005,
          2006,
          2007,
          2008,
          2009,
          2010,
          2011,
          2012
         ],
         "xaxis": "x",
         "y": [
          423,
          534,
          557,
          618,
          571,
          457,
          523,
          573,
          596,
          686,
          677,
          737
         ],
         "yaxis": "y"
        }
       ],
       "layout": {
        "barmode": "relative",
        "legend": {
         "tracegroupgap": 0
        },
        "template": {
         "data": {
          "bar": [
           {
            "error_x": {
             "color": "#f2f5fa"
            },
            "error_y": {
             "color": "#f2f5fa"
            },
            "marker": {
             "line": {
              "color": "rgb(17,17,17)",
              "width": 0.5
             },
             "pattern": {
              "fillmode": "overlay",
              "size": 10,
              "solidity": 0.2
             }
            },
            "type": "bar"
           }
          ],
          "barpolar": [
           {
            "marker": {
             "line": {
              "color": "rgb(17,17,17)",
              "width": 0.5
             },
             "pattern": {
              "fillmode": "overlay",
              "size": 10,
              "solidity": 0.2
             }
            },
            "type": "barpolar"
           }
          ],
          "carpet": [
           {
            "aaxis": {
             "endlinecolor": "#A2B1C6",
             "gridcolor": "#506784",
             "linecolor": "#506784",
             "minorgridcolor": "#506784",
             "startlinecolor": "#A2B1C6"
            },
            "baxis": {
             "endlinecolor": "#A2B1C6",
             "gridcolor": "#506784",
             "linecolor": "#506784",
             "minorgridcolor": "#506784",
             "startlinecolor": "#A2B1C6"
            },
            "type": "carpet"
           }
          ],
          "choropleth": [
           {
            "colorbar": {
             "outlinewidth": 0,
             "ticks": ""
            },
            "type": "choropleth"
           }
          ],
          "contour": [
           {
            "colorbar": {
             "outlinewidth": 0,
             "ticks": ""
            },
            "colorscale": [
             [
              0,
              "#0d0887"
             ],
             [
              0.1111111111111111,
              "#46039f"
             ],
             [
              0.2222222222222222,
              "#7201a8"
             ],
             [
              0.3333333333333333,
              "#9c179e"
             ],
             [
              0.4444444444444444,
              "#bd3786"
             ],
             [
              0.5555555555555556,
              "#d8576b"
             ],
             [
              0.6666666666666666,
              "#ed7953"
             ],
             [
              0.7777777777777778,
              "#fb9f3a"
             ],
             [
              0.8888888888888888,
              "#fdca26"
             ],
             [
              1,
              "#f0f921"
             ]
            ],
            "type": "contour"
           }
          ],
          "contourcarpet": [
           {
            "colorbar": {
             "outlinewidth": 0,
             "ticks": ""
            },
            "type": "contourcarpet"
           }
          ],
          "heatmap": [
           {
            "colorbar": {
             "outlinewidth": 0,
             "ticks": ""
            },
            "colorscale": [
             [
              0,
              "#0d0887"
             ],
             [
              0.1111111111111111,
              "#46039f"
             ],
             [
              0.2222222222222222,
              "#7201a8"
             ],
             [
              0.3333333333333333,
              "#9c179e"
             ],
             [
              0.4444444444444444,
              "#bd3786"
             ],
             [
              0.5555555555555556,
              "#d8576b"
             ],
             [
              0.6666666666666666,
              "#ed7953"
             ],
             [
              0.7777777777777778,
              "#fb9f3a"
             ],
             [
              0.8888888888888888,
              "#fdca26"
             ],
             [
              1,
              "#f0f921"
             ]
            ],
            "type": "heatmap"
           }
          ],
          "heatmapgl": [
           {
            "colorbar": {
             "outlinewidth": 0,
             "ticks": ""
            },
            "colorscale": [
             [
              0,
              "#0d0887"
             ],
             [
              0.1111111111111111,
              "#46039f"
             ],
             [
              0.2222222222222222,
              "#7201a8"
             ],
             [
              0.3333333333333333,
              "#9c179e"
             ],
             [
              0.4444444444444444,
              "#bd3786"
             ],
             [
              0.5555555555555556,
              "#d8576b"
             ],
             [
              0.6666666666666666,
              "#ed7953"
             ],
             [
              0.7777777777777778,
              "#fb9f3a"
             ],
             [
              0.8888888888888888,
              "#fdca26"
             ],
             [
              1,
              "#f0f921"
             ]
            ],
            "type": "heatmapgl"
           }
          ],
          "histogram": [
           {
            "marker": {
             "pattern": {
              "fillmode": "overlay",
              "size": 10,
              "solidity": 0.2
             }
            },
            "type": "histogram"
           }
          ],
          "histogram2d": [
           {
            "colorbar": {
             "outlinewidth": 0,
             "ticks": ""
            },
            "colorscale": [
             [
              0,
              "#0d0887"
             ],
             [
              0.1111111111111111,
              "#46039f"
             ],
             [
              0.2222222222222222,
              "#7201a8"
             ],
             [
              0.3333333333333333,
              "#9c179e"
             ],
             [
              0.4444444444444444,
              "#bd3786"
             ],
             [
              0.5555555555555556,
              "#d8576b"
             ],
             [
              0.6666666666666666,
              "#ed7953"
             ],
             [
              0.7777777777777778,
              "#fb9f3a"
             ],
             [
              0.8888888888888888,
              "#fdca26"
             ],
             [
              1,
              "#f0f921"
             ]
            ],
            "type": "histogram2d"
           }
          ],
          "histogram2dcontour": [
           {
            "colorbar": {
             "outlinewidth": 0,
             "ticks": ""
            },
            "colorscale": [
             [
              0,
              "#0d0887"
             ],
             [
              0.1111111111111111,
              "#46039f"
             ],
             [
              0.2222222222222222,
              "#7201a8"
             ],
             [
              0.3333333333333333,
              "#9c179e"
             ],
             [
              0.4444444444444444,
              "#bd3786"
             ],
             [
              0.5555555555555556,
              "#d8576b"
             ],
             [
              0.6666666666666666,
              "#ed7953"
             ],
             [
              0.7777777777777778,
              "#fb9f3a"
             ],
             [
              0.8888888888888888,
              "#fdca26"
             ],
             [
              1,
              "#f0f921"
             ]
            ],
            "type": "histogram2dcontour"
           }
          ],
          "mesh3d": [
           {
            "colorbar": {
             "outlinewidth": 0,
             "ticks": ""
            },
            "type": "mesh3d"
           }
          ],
          "parcoords": [
           {
            "line": {
             "colorbar": {
              "outlinewidth": 0,
              "ticks": ""
             }
            },
            "type": "parcoords"
           }
          ],
          "pie": [
           {
            "automargin": true,
            "type": "pie"
           }
          ],
          "scatter": [
           {
            "marker": {
             "line": {
              "color": "#283442"
             }
            },
            "type": "scatter"
           }
          ],
          "scatter3d": [
           {
            "line": {
             "colorbar": {
              "outlinewidth": 0,
              "ticks": ""
             }
            },
            "marker": {
             "colorbar": {
              "outlinewidth": 0,
              "ticks": ""
             }
            },
            "type": "scatter3d"
           }
          ],
          "scattercarpet": [
           {
            "marker": {
             "colorbar": {
              "outlinewidth": 0,
              "ticks": ""
             }
            },
            "type": "scattercarpet"
           }
          ],
          "scattergeo": [
           {
            "marker": {
             "colorbar": {
              "outlinewidth": 0,
              "ticks": ""
             }
            },
            "type": "scattergeo"
           }
          ],
          "scattergl": [
           {
            "marker": {
             "line": {
              "color": "#283442"
             }
            },
            "type": "scattergl"
           }
          ],
          "scattermapbox": [
           {
            "marker": {
             "colorbar": {
              "outlinewidth": 0,
              "ticks": ""
             }
            },
            "type": "scattermapbox"
           }
          ],
          "scatterpolar": [
           {
            "marker": {
             "colorbar": {
              "outlinewidth": 0,
              "ticks": ""
             }
            },
            "type": "scatterpolar"
           }
          ],
          "scatterpolargl": [
           {
            "marker": {
             "colorbar": {
              "outlinewidth": 0,
              "ticks": ""
             }
            },
            "type": "scatterpolargl"
           }
          ],
          "scatterternary": [
           {
            "marker": {
             "colorbar": {
              "outlinewidth": 0,
              "ticks": ""
             }
            },
            "type": "scatterternary"
           }
          ],
          "surface": [
           {
            "colorbar": {
             "outlinewidth": 0,
             "ticks": ""
            },
            "colorscale": [
             [
              0,
              "#0d0887"
             ],
             [
              0.1111111111111111,
              "#46039f"
             ],
             [
              0.2222222222222222,
              "#7201a8"
             ],
             [
              0.3333333333333333,
              "#9c179e"
             ],
             [
              0.4444444444444444,
              "#bd3786"
             ],
             [
              0.5555555555555556,
              "#d8576b"
             ],
             [
              0.6666666666666666,
              "#ed7953"
             ],
             [
              0.7777777777777778,
              "#fb9f3a"
             ],
             [
              0.8888888888888888,
              "#fdca26"
             ],
             [
              1,
              "#f0f921"
             ]
            ],
            "type": "surface"
           }
          ],
          "table": [
           {
            "cells": {
             "fill": {
              "color": "#506784"
             },
             "line": {
              "color": "rgb(17,17,17)"
             }
            },
            "header": {
             "fill": {
              "color": "#2a3f5f"
             },
             "line": {
              "color": "rgb(17,17,17)"
             }
            },
            "type": "table"
           }
          ]
         },
         "layout": {
          "annotationdefaults": {
           "arrowcolor": "#f2f5fa",
           "arrowhead": 0,
           "arrowwidth": 1
          },
          "autotypenumbers": "strict",
          "coloraxis": {
           "colorbar": {
            "outlinewidth": 0,
            "ticks": ""
           }
          },
          "colorscale": {
           "diverging": [
            [
             0,
             "#8e0152"
            ],
            [
             0.1,
             "#c51b7d"
            ],
            [
             0.2,
             "#de77ae"
            ],
            [
             0.3,
             "#f1b6da"
            ],
            [
             0.4,
             "#fde0ef"
            ],
            [
             0.5,
             "#f7f7f7"
            ],
            [
             0.6,
             "#e6f5d0"
            ],
            [
             0.7,
             "#b8e186"
            ],
            [
             0.8,
             "#7fbc41"
            ],
            [
             0.9,
             "#4d9221"
            ],
            [
             1,
             "#276419"
            ]
           ],
           "sequential": [
            [
             0,
             "#0d0887"
            ],
            [
             0.1111111111111111,
             "#46039f"
            ],
            [
             0.2222222222222222,
             "#7201a8"
            ],
            [
             0.3333333333333333,
             "#9c179e"
            ],
            [
             0.4444444444444444,
             "#bd3786"
            ],
            [
             0.5555555555555556,
             "#d8576b"
            ],
            [
             0.6666666666666666,
             "#ed7953"
            ],
            [
             0.7777777777777778,
             "#fb9f3a"
            ],
            [
             0.8888888888888888,
             "#fdca26"
            ],
            [
             1,
             "#f0f921"
            ]
           ],
           "sequentialminus": [
            [
             0,
             "#0d0887"
            ],
            [
             0.1111111111111111,
             "#46039f"
            ],
            [
             0.2222222222222222,
             "#7201a8"
            ],
            [
             0.3333333333333333,
             "#9c179e"
            ],
            [
             0.4444444444444444,
             "#bd3786"
            ],
            [
             0.5555555555555556,
             "#d8576b"
            ],
            [
             0.6666666666666666,
             "#ed7953"
            ],
            [
             0.7777777777777778,
             "#fb9f3a"
            ],
            [
             0.8888888888888888,
             "#fdca26"
            ],
            [
             1,
             "#f0f921"
            ]
           ]
          },
          "colorway": [
           "#636efa",
           "#EF553B",
           "#00cc96",
           "#ab63fa",
           "#FFA15A",
           "#19d3f3",
           "#FF6692",
           "#B6E880",
           "#FF97FF",
           "#FECB52"
          ],
          "font": {
           "color": "#f2f5fa"
          },
          "geo": {
           "bgcolor": "rgb(17,17,17)",
           "lakecolor": "rgb(17,17,17)",
           "landcolor": "rgb(17,17,17)",
           "showlakes": true,
           "showland": true,
           "subunitcolor": "#506784"
          },
          "hoverlabel": {
           "align": "left"
          },
          "hovermode": "closest",
          "mapbox": {
           "style": "dark"
          },
          "paper_bgcolor": "rgb(17,17,17)",
          "plot_bgcolor": "rgb(17,17,17)",
          "polar": {
           "angularaxis": {
            "gridcolor": "#506784",
            "linecolor": "#506784",
            "ticks": ""
           },
           "bgcolor": "rgb(17,17,17)",
           "radialaxis": {
            "gridcolor": "#506784",
            "linecolor": "#506784",
            "ticks": ""
           }
          },
          "scene": {
           "xaxis": {
            "backgroundcolor": "rgb(17,17,17)",
            "gridcolor": "#506784",
            "gridwidth": 2,
            "linecolor": "#506784",
            "showbackground": true,
            "ticks": "",
            "zerolinecolor": "#C8D4E3"
           },
           "yaxis": {
            "backgroundcolor": "rgb(17,17,17)",
            "gridcolor": "#506784",
            "gridwidth": 2,
            "linecolor": "#506784",
            "showbackground": true,
            "ticks": "",
            "zerolinecolor": "#C8D4E3"
           },
           "zaxis": {
            "backgroundcolor": "rgb(17,17,17)",
            "gridcolor": "#506784",
            "gridwidth": 2,
            "linecolor": "#506784",
            "showbackground": true,
            "ticks": "",
            "zerolinecolor": "#C8D4E3"
           }
          },
          "shapedefaults": {
           "line": {
            "color": "#f2f5fa"
           }
          },
          "sliderdefaults": {
           "bgcolor": "#C8D4E3",
           "bordercolor": "rgb(17,17,17)",
           "borderwidth": 1,
           "tickwidth": 0
          },
          "ternary": {
           "aaxis": {
            "gridcolor": "#506784",
            "linecolor": "#506784",
            "ticks": ""
           },
           "baxis": {
            "gridcolor": "#506784",
            "linecolor": "#506784",
            "ticks": ""
           },
           "bgcolor": "rgb(17,17,17)",
           "caxis": {
            "gridcolor": "#506784",
            "linecolor": "#506784",
            "ticks": ""
           }
          },
          "title": {
           "x": 0.05
          },
          "updatemenudefaults": {
           "bgcolor": "#506784",
           "borderwidth": 0
          },
          "xaxis": {
           "automargin": true,
           "gridcolor": "#283442",
           "linecolor": "#506784",
           "ticks": "",
           "title": {
            "standoff": 15
           },
           "zerolinecolor": "#283442",
           "zerolinewidth": 2
          },
          "yaxis": {
           "automargin": true,
           "gridcolor": "#283442",
           "linecolor": "#506784",
           "ticks": "",
           "title": {
            "standoff": 15
           },
           "zerolinecolor": "#283442",
           "zerolinewidth": 2
          }
         }
        },
        "title": {
         "text": "Rape crime in Tamil nadu"
        },
        "xaxis": {
         "anchor": "y",
         "domain": [
          0,
          1
         ],
         "title": {
          "text": "YEAR"
         }
        },
        "yaxis": {
         "anchor": "x",
         "domain": [
          0,
          1
         ],
         "title": {
          "text": "RAPE"
         }
        }
       }
      }
     },
     "metadata": {},
     "output_type": "display_data"
    }
   ],
   "source": [
    "fig = px.bar(tn,\n",
    "             x=\"YEAR\",\n",
    "             y=\"RAPE\",\n",
    "             color_discrete_sequence=[\"blue\"],\n",
    "             title=\"Rape crime in Tamil nadu\")\n",
    "\n",
    "fig.layout.template= \"plotly_dark\"\n",
    "fig.show()"
   ]
  },
  {
   "cell_type": "markdown",
   "metadata": {},
   "source": [
    "### IPC Crimes [2001 - 2012]"
   ]
  },
  {
   "cell_type": "code",
   "execution_count": 11,
   "metadata": {},
   "outputs": [],
   "source": [
    "total_crime = pd.DataFrame(\n",
    "    total.groupby([\"STATE/UT\"])[\"TOTAL IPC CRIMES\"].sum().reset_index())\n",
    "total_crime_sorted = total_crime.sort_values(\"TOTAL IPC CRIMES\",\n",
    "                                             ascending=False)[:10]\n"
   ]
  },
  {
   "cell_type": "code",
   "execution_count": 12,
   "metadata": {},
   "outputs": [
    {
     "data": {
      "application/vnd.plotly.v1+json": {
       "config": {
        "plotlyServerURL": "https://plot.ly"
       },
       "data": [
        {
         "alignmentgroup": "True",
         "hovertemplate": "TOTAL IPC CRIMES=%{x}<br>STATE/UT=%{y}<extra></extra>",
         "legendgroup": "",
         "marker": {
          "color": "red",
          "pattern": {
           "shape": ""
          }
         },
         "name": "",
         "offsetgroup": "",
         "orientation": "h",
         "showlegend": false,
         "textposition": "auto",
         "type": "bar",
         "x": [
          2413770,
          2273436,
          2060176,
          2018981,
          1858074,
          1855916,
          1481063,
          1437459,
          1385775,
          1346293
         ],
         "xaxis": "x",
         "y": [
          "MADHYA PRADESH",
          "MAHARASHTRA",
          "TAMIL NADU",
          "ANDHRA PRADESH",
          "UTTAR PRADESH",
          "RAJASTHAN",
          "KARNATAKA",
          "KERALA",
          "GUJARAT",
          "BIHAR"
         ],
         "yaxis": "y"
        }
       ],
       "layout": {
        "barmode": "relative",
        "legend": {
         "tracegroupgap": 0
        },
        "margin": {
         "t": 60
        },
        "template": {
         "data": {
          "bar": [
           {
            "error_x": {
             "color": "#f2f5fa"
            },
            "error_y": {
             "color": "#f2f5fa"
            },
            "marker": {
             "line": {
              "color": "rgb(17,17,17)",
              "width": 0.5
             },
             "pattern": {
              "fillmode": "overlay",
              "size": 10,
              "solidity": 0.2
             }
            },
            "type": "bar"
           }
          ],
          "barpolar": [
           {
            "marker": {
             "line": {
              "color": "rgb(17,17,17)",
              "width": 0.5
             },
             "pattern": {
              "fillmode": "overlay",
              "size": 10,
              "solidity": 0.2
             }
            },
            "type": "barpolar"
           }
          ],
          "carpet": [
           {
            "aaxis": {
             "endlinecolor": "#A2B1C6",
             "gridcolor": "#506784",
             "linecolor": "#506784",
             "minorgridcolor": "#506784",
             "startlinecolor": "#A2B1C6"
            },
            "baxis": {
             "endlinecolor": "#A2B1C6",
             "gridcolor": "#506784",
             "linecolor": "#506784",
             "minorgridcolor": "#506784",
             "startlinecolor": "#A2B1C6"
            },
            "type": "carpet"
           }
          ],
          "choropleth": [
           {
            "colorbar": {
             "outlinewidth": 0,
             "ticks": ""
            },
            "type": "choropleth"
           }
          ],
          "contour": [
           {
            "colorbar": {
             "outlinewidth": 0,
             "ticks": ""
            },
            "colorscale": [
             [
              0,
              "#0d0887"
             ],
             [
              0.1111111111111111,
              "#46039f"
             ],
             [
              0.2222222222222222,
              "#7201a8"
             ],
             [
              0.3333333333333333,
              "#9c179e"
             ],
             [
              0.4444444444444444,
              "#bd3786"
             ],
             [
              0.5555555555555556,
              "#d8576b"
             ],
             [
              0.6666666666666666,
              "#ed7953"
             ],
             [
              0.7777777777777778,
              "#fb9f3a"
             ],
             [
              0.8888888888888888,
              "#fdca26"
             ],
             [
              1,
              "#f0f921"
             ]
            ],
            "type": "contour"
           }
          ],
          "contourcarpet": [
           {
            "colorbar": {
             "outlinewidth": 0,
             "ticks": ""
            },
            "type": "contourcarpet"
           }
          ],
          "heatmap": [
           {
            "colorbar": {
             "outlinewidth": 0,
             "ticks": ""
            },
            "colorscale": [
             [
              0,
              "#0d0887"
             ],
             [
              0.1111111111111111,
              "#46039f"
             ],
             [
              0.2222222222222222,
              "#7201a8"
             ],
             [
              0.3333333333333333,
              "#9c179e"
             ],
             [
              0.4444444444444444,
              "#bd3786"
             ],
             [
              0.5555555555555556,
              "#d8576b"
             ],
             [
              0.6666666666666666,
              "#ed7953"
             ],
             [
              0.7777777777777778,
              "#fb9f3a"
             ],
             [
              0.8888888888888888,
              "#fdca26"
             ],
             [
              1,
              "#f0f921"
             ]
            ],
            "type": "heatmap"
           }
          ],
          "heatmapgl": [
           {
            "colorbar": {
             "outlinewidth": 0,
             "ticks": ""
            },
            "colorscale": [
             [
              0,
              "#0d0887"
             ],
             [
              0.1111111111111111,
              "#46039f"
             ],
             [
              0.2222222222222222,
              "#7201a8"
             ],
             [
              0.3333333333333333,
              "#9c179e"
             ],
             [
              0.4444444444444444,
              "#bd3786"
             ],
             [
              0.5555555555555556,
              "#d8576b"
             ],
             [
              0.6666666666666666,
              "#ed7953"
             ],
             [
              0.7777777777777778,
              "#fb9f3a"
             ],
             [
              0.8888888888888888,
              "#fdca26"
             ],
             [
              1,
              "#f0f921"
             ]
            ],
            "type": "heatmapgl"
           }
          ],
          "histogram": [
           {
            "marker": {
             "pattern": {
              "fillmode": "overlay",
              "size": 10,
              "solidity": 0.2
             }
            },
            "type": "histogram"
           }
          ],
          "histogram2d": [
           {
            "colorbar": {
             "outlinewidth": 0,
             "ticks": ""
            },
            "colorscale": [
             [
              0,
              "#0d0887"
             ],
             [
              0.1111111111111111,
              "#46039f"
             ],
             [
              0.2222222222222222,
              "#7201a8"
             ],
             [
              0.3333333333333333,
              "#9c179e"
             ],
             [
              0.4444444444444444,
              "#bd3786"
             ],
             [
              0.5555555555555556,
              "#d8576b"
             ],
             [
              0.6666666666666666,
              "#ed7953"
             ],
             [
              0.7777777777777778,
              "#fb9f3a"
             ],
             [
              0.8888888888888888,
              "#fdca26"
             ],
             [
              1,
              "#f0f921"
             ]
            ],
            "type": "histogram2d"
           }
          ],
          "histogram2dcontour": [
           {
            "colorbar": {
             "outlinewidth": 0,
             "ticks": ""
            },
            "colorscale": [
             [
              0,
              "#0d0887"
             ],
             [
              0.1111111111111111,
              "#46039f"
             ],
             [
              0.2222222222222222,
              "#7201a8"
             ],
             [
              0.3333333333333333,
              "#9c179e"
             ],
             [
              0.4444444444444444,
              "#bd3786"
             ],
             [
              0.5555555555555556,
              "#d8576b"
             ],
             [
              0.6666666666666666,
              "#ed7953"
             ],
             [
              0.7777777777777778,
              "#fb9f3a"
             ],
             [
              0.8888888888888888,
              "#fdca26"
             ],
             [
              1,
              "#f0f921"
             ]
            ],
            "type": "histogram2dcontour"
           }
          ],
          "mesh3d": [
           {
            "colorbar": {
             "outlinewidth": 0,
             "ticks": ""
            },
            "type": "mesh3d"
           }
          ],
          "parcoords": [
           {
            "line": {
             "colorbar": {
              "outlinewidth": 0,
              "ticks": ""
             }
            },
            "type": "parcoords"
           }
          ],
          "pie": [
           {
            "automargin": true,
            "type": "pie"
           }
          ],
          "scatter": [
           {
            "marker": {
             "line": {
              "color": "#283442"
             }
            },
            "type": "scatter"
           }
          ],
          "scatter3d": [
           {
            "line": {
             "colorbar": {
              "outlinewidth": 0,
              "ticks": ""
             }
            },
            "marker": {
             "colorbar": {
              "outlinewidth": 0,
              "ticks": ""
             }
            },
            "type": "scatter3d"
           }
          ],
          "scattercarpet": [
           {
            "marker": {
             "colorbar": {
              "outlinewidth": 0,
              "ticks": ""
             }
            },
            "type": "scattercarpet"
           }
          ],
          "scattergeo": [
           {
            "marker": {
             "colorbar": {
              "outlinewidth": 0,
              "ticks": ""
             }
            },
            "type": "scattergeo"
           }
          ],
          "scattergl": [
           {
            "marker": {
             "line": {
              "color": "#283442"
             }
            },
            "type": "scattergl"
           }
          ],
          "scattermapbox": [
           {
            "marker": {
             "colorbar": {
              "outlinewidth": 0,
              "ticks": ""
             }
            },
            "type": "scattermapbox"
           }
          ],
          "scatterpolar": [
           {
            "marker": {
             "colorbar": {
              "outlinewidth": 0,
              "ticks": ""
             }
            },
            "type": "scatterpolar"
           }
          ],
          "scatterpolargl": [
           {
            "marker": {
             "colorbar": {
              "outlinewidth": 0,
              "ticks": ""
             }
            },
            "type": "scatterpolargl"
           }
          ],
          "scatterternary": [
           {
            "marker": {
             "colorbar": {
              "outlinewidth": 0,
              "ticks": ""
             }
            },
            "type": "scatterternary"
           }
          ],
          "surface": [
           {
            "colorbar": {
             "outlinewidth": 0,
             "ticks": ""
            },
            "colorscale": [
             [
              0,
              "#0d0887"
             ],
             [
              0.1111111111111111,
              "#46039f"
             ],
             [
              0.2222222222222222,
              "#7201a8"
             ],
             [
              0.3333333333333333,
              "#9c179e"
             ],
             [
              0.4444444444444444,
              "#bd3786"
             ],
             [
              0.5555555555555556,
              "#d8576b"
             ],
             [
              0.6666666666666666,
              "#ed7953"
             ],
             [
              0.7777777777777778,
              "#fb9f3a"
             ],
             [
              0.8888888888888888,
              "#fdca26"
             ],
             [
              1,
              "#f0f921"
             ]
            ],
            "type": "surface"
           }
          ],
          "table": [
           {
            "cells": {
             "fill": {
              "color": "#506784"
             },
             "line": {
              "color": "rgb(17,17,17)"
             }
            },
            "header": {
             "fill": {
              "color": "#2a3f5f"
             },
             "line": {
              "color": "rgb(17,17,17)"
             }
            },
            "type": "table"
           }
          ]
         },
         "layout": {
          "annotationdefaults": {
           "arrowcolor": "#f2f5fa",
           "arrowhead": 0,
           "arrowwidth": 1
          },
          "autotypenumbers": "strict",
          "coloraxis": {
           "colorbar": {
            "outlinewidth": 0,
            "ticks": ""
           }
          },
          "colorscale": {
           "diverging": [
            [
             0,
             "#8e0152"
            ],
            [
             0.1,
             "#c51b7d"
            ],
            [
             0.2,
             "#de77ae"
            ],
            [
             0.3,
             "#f1b6da"
            ],
            [
             0.4,
             "#fde0ef"
            ],
            [
             0.5,
             "#f7f7f7"
            ],
            [
             0.6,
             "#e6f5d0"
            ],
            [
             0.7,
             "#b8e186"
            ],
            [
             0.8,
             "#7fbc41"
            ],
            [
             0.9,
             "#4d9221"
            ],
            [
             1,
             "#276419"
            ]
           ],
           "sequential": [
            [
             0,
             "#0d0887"
            ],
            [
             0.1111111111111111,
             "#46039f"
            ],
            [
             0.2222222222222222,
             "#7201a8"
            ],
            [
             0.3333333333333333,
             "#9c179e"
            ],
            [
             0.4444444444444444,
             "#bd3786"
            ],
            [
             0.5555555555555556,
             "#d8576b"
            ],
            [
             0.6666666666666666,
             "#ed7953"
            ],
            [
             0.7777777777777778,
             "#fb9f3a"
            ],
            [
             0.8888888888888888,
             "#fdca26"
            ],
            [
             1,
             "#f0f921"
            ]
           ],
           "sequentialminus": [
            [
             0,
             "#0d0887"
            ],
            [
             0.1111111111111111,
             "#46039f"
            ],
            [
             0.2222222222222222,
             "#7201a8"
            ],
            [
             0.3333333333333333,
             "#9c179e"
            ],
            [
             0.4444444444444444,
             "#bd3786"
            ],
            [
             0.5555555555555556,
             "#d8576b"
            ],
            [
             0.6666666666666666,
             "#ed7953"
            ],
            [
             0.7777777777777778,
             "#fb9f3a"
            ],
            [
             0.8888888888888888,
             "#fdca26"
            ],
            [
             1,
             "#f0f921"
            ]
           ]
          },
          "colorway": [
           "#636efa",
           "#EF553B",
           "#00cc96",
           "#ab63fa",
           "#FFA15A",
           "#19d3f3",
           "#FF6692",
           "#B6E880",
           "#FF97FF",
           "#FECB52"
          ],
          "font": {
           "color": "#f2f5fa"
          },
          "geo": {
           "bgcolor": "rgb(17,17,17)",
           "lakecolor": "rgb(17,17,17)",
           "landcolor": "rgb(17,17,17)",
           "showlakes": true,
           "showland": true,
           "subunitcolor": "#506784"
          },
          "hoverlabel": {
           "align": "left"
          },
          "hovermode": "closest",
          "mapbox": {
           "style": "dark"
          },
          "paper_bgcolor": "rgb(17,17,17)",
          "plot_bgcolor": "rgb(17,17,17)",
          "polar": {
           "angularaxis": {
            "gridcolor": "#506784",
            "linecolor": "#506784",
            "ticks": ""
           },
           "bgcolor": "rgb(17,17,17)",
           "radialaxis": {
            "gridcolor": "#506784",
            "linecolor": "#506784",
            "ticks": ""
           }
          },
          "scene": {
           "xaxis": {
            "backgroundcolor": "rgb(17,17,17)",
            "gridcolor": "#506784",
            "gridwidth": 2,
            "linecolor": "#506784",
            "showbackground": true,
            "ticks": "",
            "zerolinecolor": "#C8D4E3"
           },
           "yaxis": {
            "backgroundcolor": "rgb(17,17,17)",
            "gridcolor": "#506784",
            "gridwidth": 2,
            "linecolor": "#506784",
            "showbackground": true,
            "ticks": "",
            "zerolinecolor": "#C8D4E3"
           },
           "zaxis": {
            "backgroundcolor": "rgb(17,17,17)",
            "gridcolor": "#506784",
            "gridwidth": 2,
            "linecolor": "#506784",
            "showbackground": true,
            "ticks": "",
            "zerolinecolor": "#C8D4E3"
           }
          },
          "shapedefaults": {
           "line": {
            "color": "#f2f5fa"
           }
          },
          "sliderdefaults": {
           "bgcolor": "#C8D4E3",
           "bordercolor": "rgb(17,17,17)",
           "borderwidth": 1,
           "tickwidth": 0
          },
          "ternary": {
           "aaxis": {
            "gridcolor": "#506784",
            "linecolor": "#506784",
            "ticks": ""
           },
           "baxis": {
            "gridcolor": "#506784",
            "linecolor": "#506784",
            "ticks": ""
           },
           "bgcolor": "rgb(17,17,17)",
           "caxis": {
            "gridcolor": "#506784",
            "linecolor": "#506784",
            "ticks": ""
           }
          },
          "title": {
           "x": 0.05
          },
          "updatemenudefaults": {
           "bgcolor": "#506784",
           "borderwidth": 0
          },
          "xaxis": {
           "automargin": true,
           "gridcolor": "#283442",
           "linecolor": "#506784",
           "ticks": "",
           "title": {
            "standoff": 15
           },
           "zerolinecolor": "#283442",
           "zerolinewidth": 2
          },
          "yaxis": {
           "automargin": true,
           "gridcolor": "#283442",
           "linecolor": "#506784",
           "ticks": "",
           "title": {
            "standoff": 15
           },
           "zerolinecolor": "#283442",
           "zerolinewidth": 2
          }
         }
        },
        "title": {
         "text": "Top 10 States with highest number of IPC Crimes"
        },
        "xaxis": {
         "anchor": "y",
         "domain": [
          0,
          1
         ],
         "title": {
          "text": "TOTAL IPC CRIMES"
         }
        },
        "yaxis": {
         "anchor": "x",
         "autorange": "reversed",
         "domain": [
          0,
          1
         ],
         "title": {
          "text": "STATE/UT"
         }
        }
       }
      }
     },
     "metadata": {},
     "output_type": "display_data"
    }
   ],
   "source": [
    "fig = px.bar(data_frame=total_crime_sorted,\n",
    "             x=\"TOTAL IPC CRIMES\",\n",
    "             y=\"STATE/UT\",\n",
    "             orientation='h',\n",
    "             color_discrete_sequence=[\"red\"])\n",
    "fig.update_layout(yaxis=dict(autorange=\"reversed\"))\n",
    "fig.update_layout(\n",
    "    title=\"Top 10 States with highest number of IPC Crimes\")\n",
    "fig.layout.template = \"plotly_dark\"\n",
    "fig.show()"
   ]
  },
  {
   "cell_type": "markdown",
   "metadata": {},
   "source": [
    "### Overall Report"
   ]
  },
  {
   "cell_type": "code",
   "execution_count": 13,
   "metadata": {},
   "outputs": [],
   "source": [
    "zip = ZipFile(\"../Dataset/archive.zip\")\n",
    "ipc14 = (zip.open(\n",
    "    \"crime/crime/01_District_wise_crimes_committed_IPC_2014.csv\")).read()\n",
    "ipc14 = pd.read_csv(BytesIO(ipc14))"
   ]
  },
  {
   "cell_type": "code",
   "execution_count": 14,
   "metadata": {},
   "outputs": [
    {
     "data": {
      "text/html": [
       "<div>\n",
       "<style scoped>\n",
       "    .dataframe tbody tr th:only-of-type {\n",
       "        vertical-align: middle;\n",
       "    }\n",
       "\n",
       "    .dataframe tbody tr th {\n",
       "        vertical-align: top;\n",
       "    }\n",
       "\n",
       "    .dataframe thead th {\n",
       "        text-align: right;\n",
       "    }\n",
       "</style>\n",
       "<table border=\"1\" class=\"dataframe\">\n",
       "  <thead>\n",
       "    <tr style=\"text-align: right;\">\n",
       "      <th></th>\n",
       "      <th>Year</th>\n",
       "      <th>Murder</th>\n",
       "      <th>Attempt to commit Murder</th>\n",
       "      <th>Culpable Homicide not amounting to Murder</th>\n",
       "      <th>Attempt to commit Culpable Homicide</th>\n",
       "      <th>Rape</th>\n",
       "      <th>Custodial Rape</th>\n",
       "      <th>Custodial_Gang Rape</th>\n",
       "      <th>Custodial_Other Rape</th>\n",
       "      <th>Rape other than Custodial</th>\n",
       "      <th>...</th>\n",
       "      <th>Offences promoting enmity between different groups</th>\n",
       "      <th>Promoting enmity between different groups</th>\n",
       "      <th>Imputation, assertions prejudicial to national integration</th>\n",
       "      <th>Extortion</th>\n",
       "      <th>Disclosure of Identity of Victims</th>\n",
       "      <th>Incidence of Rash Driving</th>\n",
       "      <th>HumanTrafficking</th>\n",
       "      <th>Unnatural Offence</th>\n",
       "      <th>Other IPC crimes</th>\n",
       "      <th>Total Cognizable IPC crimes</th>\n",
       "    </tr>\n",
       "    <tr>\n",
       "      <th>States/UTs</th>\n",
       "      <th></th>\n",
       "      <th></th>\n",
       "      <th></th>\n",
       "      <th></th>\n",
       "      <th></th>\n",
       "      <th></th>\n",
       "      <th></th>\n",
       "      <th></th>\n",
       "      <th></th>\n",
       "      <th></th>\n",
       "      <th></th>\n",
       "      <th></th>\n",
       "      <th></th>\n",
       "      <th></th>\n",
       "      <th></th>\n",
       "      <th></th>\n",
       "      <th></th>\n",
       "      <th></th>\n",
       "      <th></th>\n",
       "      <th></th>\n",
       "      <th></th>\n",
       "    </tr>\n",
       "  </thead>\n",
       "  <tbody>\n",
       "    <tr>\n",
       "      <th>A&amp;N Islands</th>\n",
       "      <td>8056</td>\n",
       "      <td>16</td>\n",
       "      <td>22</td>\n",
       "      <td>8</td>\n",
       "      <td>4</td>\n",
       "      <td>64</td>\n",
       "      <td>0</td>\n",
       "      <td>0</td>\n",
       "      <td>0</td>\n",
       "      <td>64</td>\n",
       "      <td>...</td>\n",
       "      <td>2</td>\n",
       "      <td>2</td>\n",
       "      <td>0</td>\n",
       "      <td>0</td>\n",
       "      <td>0</td>\n",
       "      <td>396</td>\n",
       "      <td>0</td>\n",
       "      <td>4</td>\n",
       "      <td>282</td>\n",
       "      <td>1492</td>\n",
       "    </tr>\n",
       "    <tr>\n",
       "      <th>Andhra Pradesh</th>\n",
       "      <td>42294</td>\n",
       "      <td>2350</td>\n",
       "      <td>3080</td>\n",
       "      <td>104</td>\n",
       "      <td>2</td>\n",
       "      <td>1922</td>\n",
       "      <td>0</td>\n",
       "      <td>0</td>\n",
       "      <td>0</td>\n",
       "      <td>1922</td>\n",
       "      <td>...</td>\n",
       "      <td>42</td>\n",
       "      <td>42</td>\n",
       "      <td>0</td>\n",
       "      <td>552</td>\n",
       "      <td>0</td>\n",
       "      <td>29306</td>\n",
       "      <td>4</td>\n",
       "      <td>2</td>\n",
       "      <td>88374</td>\n",
       "      <td>229208</td>\n",
       "    </tr>\n",
       "    <tr>\n",
       "      <th>Arunachal Pradesh</th>\n",
       "      <td>40280</td>\n",
       "      <td>172</td>\n",
       "      <td>96</td>\n",
       "      <td>8</td>\n",
       "      <td>0</td>\n",
       "      <td>166</td>\n",
       "      <td>8</td>\n",
       "      <td>0</td>\n",
       "      <td>8</td>\n",
       "      <td>158</td>\n",
       "      <td>...</td>\n",
       "      <td>0</td>\n",
       "      <td>0</td>\n",
       "      <td>0</td>\n",
       "      <td>242</td>\n",
       "      <td>0</td>\n",
       "      <td>204</td>\n",
       "      <td>0</td>\n",
       "      <td>0</td>\n",
       "      <td>1440</td>\n",
       "      <td>5686</td>\n",
       "    </tr>\n",
       "    <tr>\n",
       "      <th>Assam</th>\n",
       "      <td>58406</td>\n",
       "      <td>2902</td>\n",
       "      <td>2284</td>\n",
       "      <td>114</td>\n",
       "      <td>28</td>\n",
       "      <td>3960</td>\n",
       "      <td>0</td>\n",
       "      <td>0</td>\n",
       "      <td>0</td>\n",
       "      <td>3960</td>\n",
       "      <td>...</td>\n",
       "      <td>0</td>\n",
       "      <td>0</td>\n",
       "      <td>0</td>\n",
       "      <td>2452</td>\n",
       "      <td>0</td>\n",
       "      <td>6404</td>\n",
       "      <td>136</td>\n",
       "      <td>0</td>\n",
       "      <td>58424</td>\n",
       "      <td>188674</td>\n",
       "    </tr>\n",
       "    <tr>\n",
       "      <th>Bihar</th>\n",
       "      <td>94658</td>\n",
       "      <td>6806</td>\n",
       "      <td>8758</td>\n",
       "      <td>402</td>\n",
       "      <td>926</td>\n",
       "      <td>2254</td>\n",
       "      <td>0</td>\n",
       "      <td>0</td>\n",
       "      <td>0</td>\n",
       "      <td>2254</td>\n",
       "      <td>...</td>\n",
       "      <td>0</td>\n",
       "      <td>0</td>\n",
       "      <td>0</td>\n",
       "      <td>1944</td>\n",
       "      <td>0</td>\n",
       "      <td>6970</td>\n",
       "      <td>88</td>\n",
       "      <td>10</td>\n",
       "      <td>151598</td>\n",
       "      <td>355190</td>\n",
       "    </tr>\n",
       "    <tr>\n",
       "      <th>Chandigarh</th>\n",
       "      <td>4028</td>\n",
       "      <td>48</td>\n",
       "      <td>66</td>\n",
       "      <td>12</td>\n",
       "      <td>8</td>\n",
       "      <td>118</td>\n",
       "      <td>0</td>\n",
       "      <td>0</td>\n",
       "      <td>0</td>\n",
       "      <td>118</td>\n",
       "      <td>...</td>\n",
       "      <td>0</td>\n",
       "      <td>0</td>\n",
       "      <td>0</td>\n",
       "      <td>12</td>\n",
       "      <td>0</td>\n",
       "      <td>554</td>\n",
       "      <td>0</td>\n",
       "      <td>8</td>\n",
       "      <td>960</td>\n",
       "      <td>6442</td>\n",
       "    </tr>\n",
       "    <tr>\n",
       "      <th>Chhattisgarh</th>\n",
       "      <td>58406</td>\n",
       "      <td>1996</td>\n",
       "      <td>1432</td>\n",
       "      <td>58</td>\n",
       "      <td>0</td>\n",
       "      <td>2872</td>\n",
       "      <td>0</td>\n",
       "      <td>0</td>\n",
       "      <td>0</td>\n",
       "      <td>2872</td>\n",
       "      <td>...</td>\n",
       "      <td>6</td>\n",
       "      <td>6</td>\n",
       "      <td>0</td>\n",
       "      <td>148</td>\n",
       "      <td>0</td>\n",
       "      <td>15518</td>\n",
       "      <td>86</td>\n",
       "      <td>44</td>\n",
       "      <td>43794</td>\n",
       "      <td>116400</td>\n",
       "    </tr>\n",
       "    <tr>\n",
       "      <th>D&amp;N Haveli</th>\n",
       "      <td>4028</td>\n",
       "      <td>8</td>\n",
       "      <td>2</td>\n",
       "      <td>4</td>\n",
       "      <td>0</td>\n",
       "      <td>10</td>\n",
       "      <td>0</td>\n",
       "      <td>0</td>\n",
       "      <td>0</td>\n",
       "      <td>10</td>\n",
       "      <td>...</td>\n",
       "      <td>0</td>\n",
       "      <td>0</td>\n",
       "      <td>0</td>\n",
       "      <td>20</td>\n",
       "      <td>0</td>\n",
       "      <td>68</td>\n",
       "      <td>0</td>\n",
       "      <td>0</td>\n",
       "      <td>60</td>\n",
       "      <td>554</td>\n",
       "    </tr>\n",
       "    <tr>\n",
       "      <th>Daman &amp; Diu</th>\n",
       "      <td>6042</td>\n",
       "      <td>14</td>\n",
       "      <td>12</td>\n",
       "      <td>0</td>\n",
       "      <td>6</td>\n",
       "      <td>4</td>\n",
       "      <td>0</td>\n",
       "      <td>0</td>\n",
       "      <td>0</td>\n",
       "      <td>4</td>\n",
       "      <td>...</td>\n",
       "      <td>0</td>\n",
       "      <td>0</td>\n",
       "      <td>0</td>\n",
       "      <td>6</td>\n",
       "      <td>0</td>\n",
       "      <td>50</td>\n",
       "      <td>0</td>\n",
       "      <td>0</td>\n",
       "      <td>74</td>\n",
       "      <td>466</td>\n",
       "    </tr>\n",
       "    <tr>\n",
       "      <th>Delhi UT</th>\n",
       "      <td>40280</td>\n",
       "      <td>1172</td>\n",
       "      <td>1540</td>\n",
       "      <td>116</td>\n",
       "      <td>1976</td>\n",
       "      <td>4192</td>\n",
       "      <td>0</td>\n",
       "      <td>0</td>\n",
       "      <td>0</td>\n",
       "      <td>4192</td>\n",
       "      <td>...</td>\n",
       "      <td>26</td>\n",
       "      <td>26</td>\n",
       "      <td>0</td>\n",
       "      <td>470</td>\n",
       "      <td>2</td>\n",
       "      <td>17520</td>\n",
       "      <td>26</td>\n",
       "      <td>388</td>\n",
       "      <td>42792</td>\n",
       "      <td>311308</td>\n",
       "    </tr>\n",
       "    <tr>\n",
       "      <th>Goa</th>\n",
       "      <td>8056</td>\n",
       "      <td>68</td>\n",
       "      <td>84</td>\n",
       "      <td>12</td>\n",
       "      <td>0</td>\n",
       "      <td>190</td>\n",
       "      <td>0</td>\n",
       "      <td>0</td>\n",
       "      <td>0</td>\n",
       "      <td>190</td>\n",
       "      <td>...</td>\n",
       "      <td>2</td>\n",
       "      <td>2</td>\n",
       "      <td>0</td>\n",
       "      <td>36</td>\n",
       "      <td>0</td>\n",
       "      <td>1214</td>\n",
       "      <td>28</td>\n",
       "      <td>0</td>\n",
       "      <td>1442</td>\n",
       "      <td>8932</td>\n",
       "    </tr>\n",
       "    <tr>\n",
       "      <th>Gujarat</th>\n",
       "      <td>84588</td>\n",
       "      <td>2248</td>\n",
       "      <td>1512</td>\n",
       "      <td>114</td>\n",
       "      <td>6</td>\n",
       "      <td>1682</td>\n",
       "      <td>0</td>\n",
       "      <td>0</td>\n",
       "      <td>0</td>\n",
       "      <td>1682</td>\n",
       "      <td>...</td>\n",
       "      <td>22</td>\n",
       "      <td>20</td>\n",
       "      <td>2</td>\n",
       "      <td>370</td>\n",
       "      <td>0</td>\n",
       "      <td>59354</td>\n",
       "      <td>6</td>\n",
       "      <td>44</td>\n",
       "      <td>105620</td>\n",
       "      <td>262770</td>\n",
       "    </tr>\n",
       "    <tr>\n",
       "      <th>Haryana</th>\n",
       "      <td>50350</td>\n",
       "      <td>2212</td>\n",
       "      <td>1566</td>\n",
       "      <td>130</td>\n",
       "      <td>18</td>\n",
       "      <td>2348</td>\n",
       "      <td>0</td>\n",
       "      <td>0</td>\n",
       "      <td>0</td>\n",
       "      <td>2348</td>\n",
       "      <td>...</td>\n",
       "      <td>6</td>\n",
       "      <td>6</td>\n",
       "      <td>0</td>\n",
       "      <td>414</td>\n",
       "      <td>2</td>\n",
       "      <td>12404</td>\n",
       "      <td>18</td>\n",
       "      <td>286</td>\n",
       "      <td>43846</td>\n",
       "      <td>159894</td>\n",
       "    </tr>\n",
       "    <tr>\n",
       "      <th>Himachal Pradesh</th>\n",
       "      <td>32224</td>\n",
       "      <td>260</td>\n",
       "      <td>126</td>\n",
       "      <td>18</td>\n",
       "      <td>0</td>\n",
       "      <td>566</td>\n",
       "      <td>0</td>\n",
       "      <td>0</td>\n",
       "      <td>0</td>\n",
       "      <td>566</td>\n",
       "      <td>...</td>\n",
       "      <td>0</td>\n",
       "      <td>0</td>\n",
       "      <td>0</td>\n",
       "      <td>10</td>\n",
       "      <td>0</td>\n",
       "      <td>4672</td>\n",
       "      <td>2</td>\n",
       "      <td>24</td>\n",
       "      <td>11994</td>\n",
       "      <td>28320</td>\n",
       "    </tr>\n",
       "    <tr>\n",
       "      <th>Jammu &amp; Kashmir</th>\n",
       "      <td>62434</td>\n",
       "      <td>312</td>\n",
       "      <td>968</td>\n",
       "      <td>36</td>\n",
       "      <td>4</td>\n",
       "      <td>662</td>\n",
       "      <td>0</td>\n",
       "      <td>0</td>\n",
       "      <td>0</td>\n",
       "      <td>662</td>\n",
       "      <td>...</td>\n",
       "      <td>0</td>\n",
       "      <td>0</td>\n",
       "      <td>0</td>\n",
       "      <td>0</td>\n",
       "      <td>0</td>\n",
       "      <td>10006</td>\n",
       "      <td>0</td>\n",
       "      <td>60</td>\n",
       "      <td>16270</td>\n",
       "      <td>47696</td>\n",
       "    </tr>\n",
       "    <tr>\n",
       "      <th>Jharkhand</th>\n",
       "      <td>54378</td>\n",
       "      <td>3316</td>\n",
       "      <td>1814</td>\n",
       "      <td>118</td>\n",
       "      <td>10</td>\n",
       "      <td>2100</td>\n",
       "      <td>0</td>\n",
       "      <td>0</td>\n",
       "      <td>0</td>\n",
       "      <td>2100</td>\n",
       "      <td>...</td>\n",
       "      <td>0</td>\n",
       "      <td>0</td>\n",
       "      <td>0</td>\n",
       "      <td>1000</td>\n",
       "      <td>0</td>\n",
       "      <td>5122</td>\n",
       "      <td>300</td>\n",
       "      <td>22</td>\n",
       "      <td>34150</td>\n",
       "      <td>90670</td>\n",
       "    </tr>\n",
       "    <tr>\n",
       "      <th>Karnataka</th>\n",
       "      <td>74518</td>\n",
       "      <td>3272</td>\n",
       "      <td>4450</td>\n",
       "      <td>198</td>\n",
       "      <td>170</td>\n",
       "      <td>2648</td>\n",
       "      <td>0</td>\n",
       "      <td>0</td>\n",
       "      <td>0</td>\n",
       "      <td>2648</td>\n",
       "      <td>...</td>\n",
       "      <td>92</td>\n",
       "      <td>92</td>\n",
       "      <td>0</td>\n",
       "      <td>412</td>\n",
       "      <td>0</td>\n",
       "      <td>63814</td>\n",
       "      <td>36</td>\n",
       "      <td>28</td>\n",
       "      <td>65174</td>\n",
       "      <td>274676</td>\n",
       "    </tr>\n",
       "    <tr>\n",
       "      <th>Kerala</th>\n",
       "      <td>44308</td>\n",
       "      <td>734</td>\n",
       "      <td>1352</td>\n",
       "      <td>168</td>\n",
       "      <td>2866</td>\n",
       "      <td>2694</td>\n",
       "      <td>0</td>\n",
       "      <td>0</td>\n",
       "      <td>0</td>\n",
       "      <td>2694</td>\n",
       "      <td>...</td>\n",
       "      <td>130</td>\n",
       "      <td>118</td>\n",
       "      <td>12</td>\n",
       "      <td>74</td>\n",
       "      <td>0</td>\n",
       "      <td>217924</td>\n",
       "      <td>22</td>\n",
       "      <td>244</td>\n",
       "      <td>111910</td>\n",
       "      <td>413578</td>\n",
       "    </tr>\n",
       "    <tr>\n",
       "      <th>Lakshadweep</th>\n",
       "      <td>4028</td>\n",
       "      <td>0</td>\n",
       "      <td>0</td>\n",
       "      <td>0</td>\n",
       "      <td>0</td>\n",
       "      <td>2</td>\n",
       "      <td>0</td>\n",
       "      <td>0</td>\n",
       "      <td>0</td>\n",
       "      <td>2</td>\n",
       "      <td>...</td>\n",
       "      <td>0</td>\n",
       "      <td>0</td>\n",
       "      <td>0</td>\n",
       "      <td>0</td>\n",
       "      <td>0</td>\n",
       "      <td>2</td>\n",
       "      <td>0</td>\n",
       "      <td>0</td>\n",
       "      <td>60</td>\n",
       "      <td>162</td>\n",
       "    </tr>\n",
       "    <tr>\n",
       "      <th>Madhya Pradesh</th>\n",
       "      <td>112784</td>\n",
       "      <td>4548</td>\n",
       "      <td>4878</td>\n",
       "      <td>282</td>\n",
       "      <td>144</td>\n",
       "      <td>10152</td>\n",
       "      <td>0</td>\n",
       "      <td>0</td>\n",
       "      <td>0</td>\n",
       "      <td>10152</td>\n",
       "      <td>...</td>\n",
       "      <td>10</td>\n",
       "      <td>6</td>\n",
       "      <td>4</td>\n",
       "      <td>204</td>\n",
       "      <td>0</td>\n",
       "      <td>78518</td>\n",
       "      <td>100</td>\n",
       "      <td>256</td>\n",
       "      <td>255738</td>\n",
       "      <td>544846</td>\n",
       "    </tr>\n",
       "    <tr>\n",
       "      <th>Maharashtra</th>\n",
       "      <td>94658</td>\n",
       "      <td>5340</td>\n",
       "      <td>5226</td>\n",
       "      <td>342</td>\n",
       "      <td>22</td>\n",
       "      <td>6876</td>\n",
       "      <td>0</td>\n",
       "      <td>0</td>\n",
       "      <td>0</td>\n",
       "      <td>6876</td>\n",
       "      <td>...</td>\n",
       "      <td>66</td>\n",
       "      <td>62</td>\n",
       "      <td>4</td>\n",
       "      <td>1560</td>\n",
       "      <td>0</td>\n",
       "      <td>52120</td>\n",
       "      <td>216</td>\n",
       "      <td>204</td>\n",
       "      <td>124572</td>\n",
       "      <td>499668</td>\n",
       "    </tr>\n",
       "    <tr>\n",
       "      <th>Manipur</th>\n",
       "      <td>22154</td>\n",
       "      <td>192</td>\n",
       "      <td>454</td>\n",
       "      <td>10</td>\n",
       "      <td>0</td>\n",
       "      <td>150</td>\n",
       "      <td>0</td>\n",
       "      <td>0</td>\n",
       "      <td>0</td>\n",
       "      <td>150</td>\n",
       "      <td>...</td>\n",
       "      <td>2</td>\n",
       "      <td>2</td>\n",
       "      <td>0</td>\n",
       "      <td>156</td>\n",
       "      <td>0</td>\n",
       "      <td>1270</td>\n",
       "      <td>6</td>\n",
       "      <td>0</td>\n",
       "      <td>808</td>\n",
       "      <td>7282</td>\n",
       "    </tr>\n",
       "    <tr>\n",
       "      <th>Meghalaya</th>\n",
       "      <td>24168</td>\n",
       "      <td>318</td>\n",
       "      <td>230</td>\n",
       "      <td>24</td>\n",
       "      <td>0</td>\n",
       "      <td>236</td>\n",
       "      <td>0</td>\n",
       "      <td>0</td>\n",
       "      <td>0</td>\n",
       "      <td>236</td>\n",
       "      <td>...</td>\n",
       "      <td>0</td>\n",
       "      <td>0</td>\n",
       "      <td>0</td>\n",
       "      <td>270</td>\n",
       "      <td>0</td>\n",
       "      <td>184</td>\n",
       "      <td>0</td>\n",
       "      <td>0</td>\n",
       "      <td>1646</td>\n",
       "      <td>7358</td>\n",
       "    </tr>\n",
       "    <tr>\n",
       "      <th>Mizoram</th>\n",
       "      <td>20140</td>\n",
       "      <td>84</td>\n",
       "      <td>44</td>\n",
       "      <td>12</td>\n",
       "      <td>2</td>\n",
       "      <td>240</td>\n",
       "      <td>0</td>\n",
       "      <td>0</td>\n",
       "      <td>0</td>\n",
       "      <td>240</td>\n",
       "      <td>...</td>\n",
       "      <td>2</td>\n",
       "      <td>2</td>\n",
       "      <td>0</td>\n",
       "      <td>42</td>\n",
       "      <td>0</td>\n",
       "      <td>40</td>\n",
       "      <td>0</td>\n",
       "      <td>8</td>\n",
       "      <td>292</td>\n",
       "      <td>4280</td>\n",
       "    </tr>\n",
       "    <tr>\n",
       "      <th>Nagaland</th>\n",
       "      <td>24168</td>\n",
       "      <td>116</td>\n",
       "      <td>112</td>\n",
       "      <td>6</td>\n",
       "      <td>0</td>\n",
       "      <td>60</td>\n",
       "      <td>0</td>\n",
       "      <td>0</td>\n",
       "      <td>0</td>\n",
       "      <td>60</td>\n",
       "      <td>...</td>\n",
       "      <td>0</td>\n",
       "      <td>0</td>\n",
       "      <td>0</td>\n",
       "      <td>258</td>\n",
       "      <td>0</td>\n",
       "      <td>22</td>\n",
       "      <td>6</td>\n",
       "      <td>0</td>\n",
       "      <td>284</td>\n",
       "      <td>2314</td>\n",
       "    </tr>\n",
       "    <tr>\n",
       "      <th>Odisha</th>\n",
       "      <td>74518</td>\n",
       "      <td>2900</td>\n",
       "      <td>4690</td>\n",
       "      <td>64</td>\n",
       "      <td>2</td>\n",
       "      <td>3956</td>\n",
       "      <td>0</td>\n",
       "      <td>0</td>\n",
       "      <td>0</td>\n",
       "      <td>3956</td>\n",
       "      <td>...</td>\n",
       "      <td>10</td>\n",
       "      <td>10</td>\n",
       "      <td>0</td>\n",
       "      <td>788</td>\n",
       "      <td>0</td>\n",
       "      <td>8332</td>\n",
       "      <td>84</td>\n",
       "      <td>46</td>\n",
       "      <td>41168</td>\n",
       "      <td>149138</td>\n",
       "    </tr>\n",
       "    <tr>\n",
       "      <th>Puducherry</th>\n",
       "      <td>6042</td>\n",
       "      <td>50</td>\n",
       "      <td>30</td>\n",
       "      <td>6</td>\n",
       "      <td>0</td>\n",
       "      <td>20</td>\n",
       "      <td>2</td>\n",
       "      <td>0</td>\n",
       "      <td>2</td>\n",
       "      <td>18</td>\n",
       "      <td>...</td>\n",
       "      <td>8</td>\n",
       "      <td>8</td>\n",
       "      <td>0</td>\n",
       "      <td>18</td>\n",
       "      <td>2</td>\n",
       "      <td>2346</td>\n",
       "      <td>0</td>\n",
       "      <td>0</td>\n",
       "      <td>2672</td>\n",
       "      <td>7168</td>\n",
       "    </tr>\n",
       "    <tr>\n",
       "      <th>Punjab</th>\n",
       "      <td>58406</td>\n",
       "      <td>1534</td>\n",
       "      <td>1728</td>\n",
       "      <td>196</td>\n",
       "      <td>92</td>\n",
       "      <td>1962</td>\n",
       "      <td>0</td>\n",
       "      <td>0</td>\n",
       "      <td>0</td>\n",
       "      <td>1962</td>\n",
       "      <td>...</td>\n",
       "      <td>0</td>\n",
       "      <td>0</td>\n",
       "      <td>0</td>\n",
       "      <td>58</td>\n",
       "      <td>0</td>\n",
       "      <td>3384</td>\n",
       "      <td>2</td>\n",
       "      <td>152</td>\n",
       "      <td>18756</td>\n",
       "      <td>74324</td>\n",
       "    </tr>\n",
       "    <tr>\n",
       "      <th>Rajasthan</th>\n",
       "      <td>86602</td>\n",
       "      <td>3274</td>\n",
       "      <td>3588</td>\n",
       "      <td>162</td>\n",
       "      <td>364</td>\n",
       "      <td>7518</td>\n",
       "      <td>6</td>\n",
       "      <td>4</td>\n",
       "      <td>2</td>\n",
       "      <td>7512</td>\n",
       "      <td>...</td>\n",
       "      <td>78</td>\n",
       "      <td>78</td>\n",
       "      <td>0</td>\n",
       "      <td>856</td>\n",
       "      <td>0</td>\n",
       "      <td>28254</td>\n",
       "      <td>28</td>\n",
       "      <td>82</td>\n",
       "      <td>160594</td>\n",
       "      <td>420836</td>\n",
       "    </tr>\n",
       "    <tr>\n",
       "      <th>Sikkim</th>\n",
       "      <td>12084</td>\n",
       "      <td>24</td>\n",
       "      <td>28</td>\n",
       "      <td>4</td>\n",
       "      <td>0</td>\n",
       "      <td>94</td>\n",
       "      <td>2</td>\n",
       "      <td>0</td>\n",
       "      <td>2</td>\n",
       "      <td>92</td>\n",
       "      <td>...</td>\n",
       "      <td>0</td>\n",
       "      <td>0</td>\n",
       "      <td>0</td>\n",
       "      <td>8</td>\n",
       "      <td>0</td>\n",
       "      <td>324</td>\n",
       "      <td>0</td>\n",
       "      <td>2</td>\n",
       "      <td>432</td>\n",
       "      <td>2130</td>\n",
       "    </tr>\n",
       "    <tr>\n",
       "      <th>Tamil Nadu</th>\n",
       "      <td>86602</td>\n",
       "      <td>3610</td>\n",
       "      <td>5844</td>\n",
       "      <td>100</td>\n",
       "      <td>0</td>\n",
       "      <td>910</td>\n",
       "      <td>0</td>\n",
       "      <td>0</td>\n",
       "      <td>0</td>\n",
       "      <td>910</td>\n",
       "      <td>...</td>\n",
       "      <td>32</td>\n",
       "      <td>32</td>\n",
       "      <td>0</td>\n",
       "      <td>1324</td>\n",
       "      <td>2</td>\n",
       "      <td>105688</td>\n",
       "      <td>0</td>\n",
       "      <td>14</td>\n",
       "      <td>169330</td>\n",
       "      <td>386400</td>\n",
       "    </tr>\n",
       "    <tr>\n",
       "      <th>Telangana</th>\n",
       "      <td>28196</td>\n",
       "      <td>2616</td>\n",
       "      <td>2124</td>\n",
       "      <td>246</td>\n",
       "      <td>2</td>\n",
       "      <td>1958</td>\n",
       "      <td>0</td>\n",
       "      <td>0</td>\n",
       "      <td>0</td>\n",
       "      <td>1958</td>\n",
       "      <td>...</td>\n",
       "      <td>36</td>\n",
       "      <td>36</td>\n",
       "      <td>0</td>\n",
       "      <td>342</td>\n",
       "      <td>0</td>\n",
       "      <td>29906</td>\n",
       "      <td>120</td>\n",
       "      <td>20</td>\n",
       "      <td>74026</td>\n",
       "      <td>213660</td>\n",
       "    </tr>\n",
       "    <tr>\n",
       "      <th>Tripura</th>\n",
       "      <td>20140</td>\n",
       "      <td>280</td>\n",
       "      <td>158</td>\n",
       "      <td>6</td>\n",
       "      <td>0</td>\n",
       "      <td>478</td>\n",
       "      <td>0</td>\n",
       "      <td>0</td>\n",
       "      <td>0</td>\n",
       "      <td>478</td>\n",
       "      <td>...</td>\n",
       "      <td>0</td>\n",
       "      <td>0</td>\n",
       "      <td>0</td>\n",
       "      <td>24</td>\n",
       "      <td>0</td>\n",
       "      <td>1096</td>\n",
       "      <td>0</td>\n",
       "      <td>6</td>\n",
       "      <td>1336</td>\n",
       "      <td>10998</td>\n",
       "    </tr>\n",
       "    <tr>\n",
       "      <th>Uttar Pradesh</th>\n",
       "      <td>155078</td>\n",
       "      <td>10300</td>\n",
       "      <td>10446</td>\n",
       "      <td>2824</td>\n",
       "      <td>1012</td>\n",
       "      <td>6934</td>\n",
       "      <td>378</td>\n",
       "      <td>10</td>\n",
       "      <td>368</td>\n",
       "      <td>6556</td>\n",
       "      <td>...</td>\n",
       "      <td>52</td>\n",
       "      <td>50</td>\n",
       "      <td>2</td>\n",
       "      <td>1218</td>\n",
       "      <td>0</td>\n",
       "      <td>32398</td>\n",
       "      <td>8</td>\n",
       "      <td>274</td>\n",
       "      <td>132554</td>\n",
       "      <td>480950</td>\n",
       "    </tr>\n",
       "    <tr>\n",
       "      <th>Uttarakhand</th>\n",
       "      <td>28196</td>\n",
       "      <td>436</td>\n",
       "      <td>342</td>\n",
       "      <td>76</td>\n",
       "      <td>28</td>\n",
       "      <td>540</td>\n",
       "      <td>0</td>\n",
       "      <td>0</td>\n",
       "      <td>0</td>\n",
       "      <td>540</td>\n",
       "      <td>...</td>\n",
       "      <td>8</td>\n",
       "      <td>6</td>\n",
       "      <td>2</td>\n",
       "      <td>22</td>\n",
       "      <td>0</td>\n",
       "      <td>970</td>\n",
       "      <td>8</td>\n",
       "      <td>12</td>\n",
       "      <td>4460</td>\n",
       "      <td>18312</td>\n",
       "    </tr>\n",
       "    <tr>\n",
       "      <th>West Bengal</th>\n",
       "      <td>62434</td>\n",
       "      <td>4740</td>\n",
       "      <td>14710</td>\n",
       "      <td>718</td>\n",
       "      <td>1050</td>\n",
       "      <td>6818</td>\n",
       "      <td>2</td>\n",
       "      <td>0</td>\n",
       "      <td>2</td>\n",
       "      <td>6816</td>\n",
       "      <td>...</td>\n",
       "      <td>42</td>\n",
       "      <td>42</td>\n",
       "      <td>0</td>\n",
       "      <td>1110</td>\n",
       "      <td>262</td>\n",
       "      <td>23360</td>\n",
       "      <td>122</td>\n",
       "      <td>56</td>\n",
       "      <td>121278</td>\n",
       "      <td>386096</td>\n",
       "    </tr>\n",
       "  </tbody>\n",
       "</table>\n",
       "<p>36 rows × 89 columns</p>\n",
       "</div>"
      ],
      "text/plain": [
       "                     Year  Murder  Attempt to commit Murder  \\\n",
       "States/UTs                                                    \n",
       "A&N Islands          8056      16                        22   \n",
       "Andhra Pradesh      42294    2350                      3080   \n",
       "Arunachal Pradesh   40280     172                        96   \n",
       "Assam               58406    2902                      2284   \n",
       "Bihar               94658    6806                      8758   \n",
       "Chandigarh           4028      48                        66   \n",
       "Chhattisgarh        58406    1996                      1432   \n",
       "D&N Haveli           4028       8                         2   \n",
       "Daman & Diu          6042      14                        12   \n",
       "Delhi UT            40280    1172                      1540   \n",
       "Goa                  8056      68                        84   \n",
       "Gujarat             84588    2248                      1512   \n",
       "Haryana             50350    2212                      1566   \n",
       "Himachal Pradesh    32224     260                       126   \n",
       "Jammu & Kashmir     62434     312                       968   \n",
       "Jharkhand           54378    3316                      1814   \n",
       "Karnataka           74518    3272                      4450   \n",
       "Kerala              44308     734                      1352   \n",
       "Lakshadweep          4028       0                         0   \n",
       "Madhya Pradesh     112784    4548                      4878   \n",
       "Maharashtra         94658    5340                      5226   \n",
       "Manipur             22154     192                       454   \n",
       "Meghalaya           24168     318                       230   \n",
       "Mizoram             20140      84                        44   \n",
       "Nagaland            24168     116                       112   \n",
       "Odisha              74518    2900                      4690   \n",
       "Puducherry           6042      50                        30   \n",
       "Punjab              58406    1534                      1728   \n",
       "Rajasthan           86602    3274                      3588   \n",
       "Sikkim              12084      24                        28   \n",
       "Tamil Nadu          86602    3610                      5844   \n",
       "Telangana           28196    2616                      2124   \n",
       "Tripura             20140     280                       158   \n",
       "Uttar Pradesh      155078   10300                     10446   \n",
       "Uttarakhand         28196     436                       342   \n",
       "West Bengal         62434    4740                     14710   \n",
       "\n",
       "                   Culpable Homicide not amounting to Murder  \\\n",
       "States/UTs                                                     \n",
       "A&N Islands                                                8   \n",
       "Andhra Pradesh                                           104   \n",
       "Arunachal Pradesh                                          8   \n",
       "Assam                                                    114   \n",
       "Bihar                                                    402   \n",
       "Chandigarh                                                12   \n",
       "Chhattisgarh                                              58   \n",
       "D&N Haveli                                                 4   \n",
       "Daman & Diu                                                0   \n",
       "Delhi UT                                                 116   \n",
       "Goa                                                       12   \n",
       "Gujarat                                                  114   \n",
       "Haryana                                                  130   \n",
       "Himachal Pradesh                                          18   \n",
       "Jammu & Kashmir                                           36   \n",
       "Jharkhand                                                118   \n",
       "Karnataka                                                198   \n",
       "Kerala                                                   168   \n",
       "Lakshadweep                                                0   \n",
       "Madhya Pradesh                                           282   \n",
       "Maharashtra                                              342   \n",
       "Manipur                                                   10   \n",
       "Meghalaya                                                 24   \n",
       "Mizoram                                                   12   \n",
       "Nagaland                                                   6   \n",
       "Odisha                                                    64   \n",
       "Puducherry                                                 6   \n",
       "Punjab                                                   196   \n",
       "Rajasthan                                                162   \n",
       "Sikkim                                                     4   \n",
       "Tamil Nadu                                               100   \n",
       "Telangana                                                246   \n",
       "Tripura                                                    6   \n",
       "Uttar Pradesh                                           2824   \n",
       "Uttarakhand                                               76   \n",
       "West Bengal                                              718   \n",
       "\n",
       "                   Attempt to commit Culpable Homicide   Rape  Custodial Rape  \\\n",
       "States/UTs                                                                      \n",
       "A&N Islands                                          4     64               0   \n",
       "Andhra Pradesh                                       2   1922               0   \n",
       "Arunachal Pradesh                                    0    166               8   \n",
       "Assam                                               28   3960               0   \n",
       "Bihar                                              926   2254               0   \n",
       "Chandigarh                                           8    118               0   \n",
       "Chhattisgarh                                         0   2872               0   \n",
       "D&N Haveli                                           0     10               0   \n",
       "Daman & Diu                                          6      4               0   \n",
       "Delhi UT                                          1976   4192               0   \n",
       "Goa                                                  0    190               0   \n",
       "Gujarat                                              6   1682               0   \n",
       "Haryana                                             18   2348               0   \n",
       "Himachal Pradesh                                     0    566               0   \n",
       "Jammu & Kashmir                                      4    662               0   \n",
       "Jharkhand                                           10   2100               0   \n",
       "Karnataka                                          170   2648               0   \n",
       "Kerala                                            2866   2694               0   \n",
       "Lakshadweep                                          0      2               0   \n",
       "Madhya Pradesh                                     144  10152               0   \n",
       "Maharashtra                                         22   6876               0   \n",
       "Manipur                                              0    150               0   \n",
       "Meghalaya                                            0    236               0   \n",
       "Mizoram                                              2    240               0   \n",
       "Nagaland                                             0     60               0   \n",
       "Odisha                                               2   3956               0   \n",
       "Puducherry                                           0     20               2   \n",
       "Punjab                                              92   1962               0   \n",
       "Rajasthan                                          364   7518               6   \n",
       "Sikkim                                               0     94               2   \n",
       "Tamil Nadu                                           0    910               0   \n",
       "Telangana                                            2   1958               0   \n",
       "Tripura                                              0    478               0   \n",
       "Uttar Pradesh                                     1012   6934             378   \n",
       "Uttarakhand                                         28    540               0   \n",
       "West Bengal                                       1050   6818               2   \n",
       "\n",
       "                   Custodial_Gang Rape  Custodial_Other Rape  \\\n",
       "States/UTs                                                     \n",
       "A&N Islands                          0                     0   \n",
       "Andhra Pradesh                       0                     0   \n",
       "Arunachal Pradesh                    0                     8   \n",
       "Assam                                0                     0   \n",
       "Bihar                                0                     0   \n",
       "Chandigarh                           0                     0   \n",
       "Chhattisgarh                         0                     0   \n",
       "D&N Haveli                           0                     0   \n",
       "Daman & Diu                          0                     0   \n",
       "Delhi UT                             0                     0   \n",
       "Goa                                  0                     0   \n",
       "Gujarat                              0                     0   \n",
       "Haryana                              0                     0   \n",
       "Himachal Pradesh                     0                     0   \n",
       "Jammu & Kashmir                      0                     0   \n",
       "Jharkhand                            0                     0   \n",
       "Karnataka                            0                     0   \n",
       "Kerala                               0                     0   \n",
       "Lakshadweep                          0                     0   \n",
       "Madhya Pradesh                       0                     0   \n",
       "Maharashtra                          0                     0   \n",
       "Manipur                              0                     0   \n",
       "Meghalaya                            0                     0   \n",
       "Mizoram                              0                     0   \n",
       "Nagaland                             0                     0   \n",
       "Odisha                               0                     0   \n",
       "Puducherry                           0                     2   \n",
       "Punjab                               0                     0   \n",
       "Rajasthan                            4                     2   \n",
       "Sikkim                               0                     2   \n",
       "Tamil Nadu                           0                     0   \n",
       "Telangana                            0                     0   \n",
       "Tripura                              0                     0   \n",
       "Uttar Pradesh                       10                   368   \n",
       "Uttarakhand                          0                     0   \n",
       "West Bengal                          0                     2   \n",
       "\n",
       "                   Rape other than Custodial  ...  \\\n",
       "States/UTs                                    ...   \n",
       "A&N Islands                               64  ...   \n",
       "Andhra Pradesh                          1922  ...   \n",
       "Arunachal Pradesh                        158  ...   \n",
       "Assam                                   3960  ...   \n",
       "Bihar                                   2254  ...   \n",
       "Chandigarh                               118  ...   \n",
       "Chhattisgarh                            2872  ...   \n",
       "D&N Haveli                                10  ...   \n",
       "Daman & Diu                                4  ...   \n",
       "Delhi UT                                4192  ...   \n",
       "Goa                                      190  ...   \n",
       "Gujarat                                 1682  ...   \n",
       "Haryana                                 2348  ...   \n",
       "Himachal Pradesh                         566  ...   \n",
       "Jammu & Kashmir                          662  ...   \n",
       "Jharkhand                               2100  ...   \n",
       "Karnataka                               2648  ...   \n",
       "Kerala                                  2694  ...   \n",
       "Lakshadweep                                2  ...   \n",
       "Madhya Pradesh                         10152  ...   \n",
       "Maharashtra                             6876  ...   \n",
       "Manipur                                  150  ...   \n",
       "Meghalaya                                236  ...   \n",
       "Mizoram                                  240  ...   \n",
       "Nagaland                                  60  ...   \n",
       "Odisha                                  3956  ...   \n",
       "Puducherry                                18  ...   \n",
       "Punjab                                  1962  ...   \n",
       "Rajasthan                               7512  ...   \n",
       "Sikkim                                    92  ...   \n",
       "Tamil Nadu                               910  ...   \n",
       "Telangana                               1958  ...   \n",
       "Tripura                                  478  ...   \n",
       "Uttar Pradesh                           6556  ...   \n",
       "Uttarakhand                              540  ...   \n",
       "West Bengal                             6816  ...   \n",
       "\n",
       "                   Offences promoting enmity between different groups  \\\n",
       "States/UTs                                                              \n",
       "A&N Islands                                                        2    \n",
       "Andhra Pradesh                                                    42    \n",
       "Arunachal Pradesh                                                  0    \n",
       "Assam                                                              0    \n",
       "Bihar                                                              0    \n",
       "Chandigarh                                                         0    \n",
       "Chhattisgarh                                                       6    \n",
       "D&N Haveli                                                         0    \n",
       "Daman & Diu                                                        0    \n",
       "Delhi UT                                                          26    \n",
       "Goa                                                                2    \n",
       "Gujarat                                                           22    \n",
       "Haryana                                                            6    \n",
       "Himachal Pradesh                                                   0    \n",
       "Jammu & Kashmir                                                    0    \n",
       "Jharkhand                                                          0    \n",
       "Karnataka                                                         92    \n",
       "Kerala                                                           130    \n",
       "Lakshadweep                                                        0    \n",
       "Madhya Pradesh                                                    10    \n",
       "Maharashtra                                                       66    \n",
       "Manipur                                                            2    \n",
       "Meghalaya                                                          0    \n",
       "Mizoram                                                            2    \n",
       "Nagaland                                                           0    \n",
       "Odisha                                                            10    \n",
       "Puducherry                                                         8    \n",
       "Punjab                                                             0    \n",
       "Rajasthan                                                         78    \n",
       "Sikkim                                                             0    \n",
       "Tamil Nadu                                                        32    \n",
       "Telangana                                                         36    \n",
       "Tripura                                                            0    \n",
       "Uttar Pradesh                                                     52    \n",
       "Uttarakhand                                                        8    \n",
       "West Bengal                                                       42    \n",
       "\n",
       "                   Promoting enmity between different groups  \\\n",
       "States/UTs                                                     \n",
       "A&N Islands                                                2   \n",
       "Andhra Pradesh                                            42   \n",
       "Arunachal Pradesh                                          0   \n",
       "Assam                                                      0   \n",
       "Bihar                                                      0   \n",
       "Chandigarh                                                 0   \n",
       "Chhattisgarh                                               6   \n",
       "D&N Haveli                                                 0   \n",
       "Daman & Diu                                                0   \n",
       "Delhi UT                                                  26   \n",
       "Goa                                                        2   \n",
       "Gujarat                                                   20   \n",
       "Haryana                                                    6   \n",
       "Himachal Pradesh                                           0   \n",
       "Jammu & Kashmir                                            0   \n",
       "Jharkhand                                                  0   \n",
       "Karnataka                                                 92   \n",
       "Kerala                                                   118   \n",
       "Lakshadweep                                                0   \n",
       "Madhya Pradesh                                             6   \n",
       "Maharashtra                                               62   \n",
       "Manipur                                                    2   \n",
       "Meghalaya                                                  0   \n",
       "Mizoram                                                    2   \n",
       "Nagaland                                                   0   \n",
       "Odisha                                                    10   \n",
       "Puducherry                                                 8   \n",
       "Punjab                                                     0   \n",
       "Rajasthan                                                 78   \n",
       "Sikkim                                                     0   \n",
       "Tamil Nadu                                                32   \n",
       "Telangana                                                 36   \n",
       "Tripura                                                    0   \n",
       "Uttar Pradesh                                             50   \n",
       "Uttarakhand                                                6   \n",
       "West Bengal                                               42   \n",
       "\n",
       "                   Imputation, assertions prejudicial to national integration  \\\n",
       "States/UTs                                                                      \n",
       "A&N Islands                                                        0            \n",
       "Andhra Pradesh                                                     0            \n",
       "Arunachal Pradesh                                                  0            \n",
       "Assam                                                              0            \n",
       "Bihar                                                              0            \n",
       "Chandigarh                                                         0            \n",
       "Chhattisgarh                                                       0            \n",
       "D&N Haveli                                                         0            \n",
       "Daman & Diu                                                        0            \n",
       "Delhi UT                                                           0            \n",
       "Goa                                                                0            \n",
       "Gujarat                                                            2            \n",
       "Haryana                                                            0            \n",
       "Himachal Pradesh                                                   0            \n",
       "Jammu & Kashmir                                                    0            \n",
       "Jharkhand                                                          0            \n",
       "Karnataka                                                          0            \n",
       "Kerala                                                            12            \n",
       "Lakshadweep                                                        0            \n",
       "Madhya Pradesh                                                     4            \n",
       "Maharashtra                                                        4            \n",
       "Manipur                                                            0            \n",
       "Meghalaya                                                          0            \n",
       "Mizoram                                                            0            \n",
       "Nagaland                                                           0            \n",
       "Odisha                                                             0            \n",
       "Puducherry                                                         0            \n",
       "Punjab                                                             0            \n",
       "Rajasthan                                                          0            \n",
       "Sikkim                                                             0            \n",
       "Tamil Nadu                                                         0            \n",
       "Telangana                                                          0            \n",
       "Tripura                                                            0            \n",
       "Uttar Pradesh                                                      2            \n",
       "Uttarakhand                                                        2            \n",
       "West Bengal                                                        0            \n",
       "\n",
       "                   Extortion  Disclosure of Identity of Victims  \\\n",
       "States/UTs                                                        \n",
       "A&N Islands                0                                  0   \n",
       "Andhra Pradesh           552                                  0   \n",
       "Arunachal Pradesh        242                                  0   \n",
       "Assam                   2452                                  0   \n",
       "Bihar                   1944                                  0   \n",
       "Chandigarh                12                                  0   \n",
       "Chhattisgarh             148                                  0   \n",
       "D&N Haveli                20                                  0   \n",
       "Daman & Diu                6                                  0   \n",
       "Delhi UT                 470                                  2   \n",
       "Goa                       36                                  0   \n",
       "Gujarat                  370                                  0   \n",
       "Haryana                  414                                  2   \n",
       "Himachal Pradesh          10                                  0   \n",
       "Jammu & Kashmir            0                                  0   \n",
       "Jharkhand               1000                                  0   \n",
       "Karnataka                412                                  0   \n",
       "Kerala                    74                                  0   \n",
       "Lakshadweep                0                                  0   \n",
       "Madhya Pradesh           204                                  0   \n",
       "Maharashtra             1560                                  0   \n",
       "Manipur                  156                                  0   \n",
       "Meghalaya                270                                  0   \n",
       "Mizoram                   42                                  0   \n",
       "Nagaland                 258                                  0   \n",
       "Odisha                   788                                  0   \n",
       "Puducherry                18                                  2   \n",
       "Punjab                    58                                  0   \n",
       "Rajasthan                856                                  0   \n",
       "Sikkim                     8                                  0   \n",
       "Tamil Nadu              1324                                  2   \n",
       "Telangana                342                                  0   \n",
       "Tripura                   24                                  0   \n",
       "Uttar Pradesh           1218                                  0   \n",
       "Uttarakhand               22                                  0   \n",
       "West Bengal             1110                                262   \n",
       "\n",
       "                   Incidence of Rash Driving  HumanTrafficking  \\\n",
       "States/UTs                                                       \n",
       "A&N Islands                              396                 0   \n",
       "Andhra Pradesh                         29306                 4   \n",
       "Arunachal Pradesh                        204                 0   \n",
       "Assam                                   6404               136   \n",
       "Bihar                                   6970                88   \n",
       "Chandigarh                               554                 0   \n",
       "Chhattisgarh                           15518                86   \n",
       "D&N Haveli                                68                 0   \n",
       "Daman & Diu                               50                 0   \n",
       "Delhi UT                               17520                26   \n",
       "Goa                                     1214                28   \n",
       "Gujarat                                59354                 6   \n",
       "Haryana                                12404                18   \n",
       "Himachal Pradesh                        4672                 2   \n",
       "Jammu & Kashmir                        10006                 0   \n",
       "Jharkhand                               5122               300   \n",
       "Karnataka                              63814                36   \n",
       "Kerala                                217924                22   \n",
       "Lakshadweep                                2                 0   \n",
       "Madhya Pradesh                         78518               100   \n",
       "Maharashtra                            52120               216   \n",
       "Manipur                                 1270                 6   \n",
       "Meghalaya                                184                 0   \n",
       "Mizoram                                   40                 0   \n",
       "Nagaland                                  22                 6   \n",
       "Odisha                                  8332                84   \n",
       "Puducherry                              2346                 0   \n",
       "Punjab                                  3384                 2   \n",
       "Rajasthan                              28254                28   \n",
       "Sikkim                                   324                 0   \n",
       "Tamil Nadu                            105688                 0   \n",
       "Telangana                              29906               120   \n",
       "Tripura                                 1096                 0   \n",
       "Uttar Pradesh                          32398                 8   \n",
       "Uttarakhand                              970                 8   \n",
       "West Bengal                            23360               122   \n",
       "\n",
       "                   Unnatural Offence  Other IPC crimes  \\\n",
       "States/UTs                                               \n",
       "A&N Islands                        4               282   \n",
       "Andhra Pradesh                     2             88374   \n",
       "Arunachal Pradesh                  0              1440   \n",
       "Assam                              0             58424   \n",
       "Bihar                             10            151598   \n",
       "Chandigarh                         8               960   \n",
       "Chhattisgarh                      44             43794   \n",
       "D&N Haveli                         0                60   \n",
       "Daman & Diu                        0                74   \n",
       "Delhi UT                         388             42792   \n",
       "Goa                                0              1442   \n",
       "Gujarat                           44            105620   \n",
       "Haryana                          286             43846   \n",
       "Himachal Pradesh                  24             11994   \n",
       "Jammu & Kashmir                   60             16270   \n",
       "Jharkhand                         22             34150   \n",
       "Karnataka                         28             65174   \n",
       "Kerala                           244            111910   \n",
       "Lakshadweep                        0                60   \n",
       "Madhya Pradesh                   256            255738   \n",
       "Maharashtra                      204            124572   \n",
       "Manipur                            0               808   \n",
       "Meghalaya                          0              1646   \n",
       "Mizoram                            8               292   \n",
       "Nagaland                           0               284   \n",
       "Odisha                            46             41168   \n",
       "Puducherry                         0              2672   \n",
       "Punjab                           152             18756   \n",
       "Rajasthan                         82            160594   \n",
       "Sikkim                             2               432   \n",
       "Tamil Nadu                        14            169330   \n",
       "Telangana                         20             74026   \n",
       "Tripura                            6              1336   \n",
       "Uttar Pradesh                    274            132554   \n",
       "Uttarakhand                       12              4460   \n",
       "West Bengal                       56            121278   \n",
       "\n",
       "                   Total Cognizable IPC crimes  \n",
       "States/UTs                                      \n",
       "A&N Islands                               1492  \n",
       "Andhra Pradesh                          229208  \n",
       "Arunachal Pradesh                         5686  \n",
       "Assam                                   188674  \n",
       "Bihar                                   355190  \n",
       "Chandigarh                                6442  \n",
       "Chhattisgarh                            116400  \n",
       "D&N Haveli                                 554  \n",
       "Daman & Diu                                466  \n",
       "Delhi UT                                311308  \n",
       "Goa                                       8932  \n",
       "Gujarat                                 262770  \n",
       "Haryana                                 159894  \n",
       "Himachal Pradesh                         28320  \n",
       "Jammu & Kashmir                          47696  \n",
       "Jharkhand                                90670  \n",
       "Karnataka                               274676  \n",
       "Kerala                                  413578  \n",
       "Lakshadweep                                162  \n",
       "Madhya Pradesh                          544846  \n",
       "Maharashtra                             499668  \n",
       "Manipur                                   7282  \n",
       "Meghalaya                                 7358  \n",
       "Mizoram                                   4280  \n",
       "Nagaland                                  2314  \n",
       "Odisha                                  149138  \n",
       "Puducherry                                7168  \n",
       "Punjab                                   74324  \n",
       "Rajasthan                               420836  \n",
       "Sikkim                                    2130  \n",
       "Tamil Nadu                              386400  \n",
       "Telangana                               213660  \n",
       "Tripura                                  10998  \n",
       "Uttar Pradesh                           480950  \n",
       "Uttarakhand                              18312  \n",
       "West Bengal                             386096  \n",
       "\n",
       "[36 rows x 89 columns]"
      ]
     },
     "execution_count": 14,
     "metadata": {},
     "output_type": "execute_result"
    }
   ],
   "source": [
    "grouping_state_crimes=ipc14.groupby('States/UTs').sum()\n",
    "grouping_state_crimes"
   ]
  },
  {
   "cell_type": "code",
   "execution_count": 15,
   "metadata": {},
   "outputs": [
    {
     "data": {
      "image/png": "[encoded data removed]",
      "text/plain": [
       "<Figure size 1080x432 with 1 Axes>"
      ]
     },
     "metadata": {},
     "output_type": "display_data"
    }
   ],
   "source": [
    "all_india_murder_cases = grouping_state_crimes['Murder']\n",
    "all_india_rape_cases = grouping_state_crimes['Rape']\n",
    "labels = [\n",
    "    \"MURDER CASES\", \"EXTORTION\", \"RAPE CASES\", \"RIOTS\", \"DOWRY ISSUES\",\n",
    "    \"KIDNAPPING\"\n",
    "]\n",
    "y = [68268,16420,77356,132412,16916,156824]\n",
    "fig1, ax1 = plt.subplots(figsize=(15, 6))\n",
    "ax1.pie(y, labels=labels, autopct='%1.1f%%', startangle=90, shadow=True)\n",
    "ax1.set_title(\"Overall Crimes in India\")\n",
    "my_circle = plt.Circle((0, 0), 0.7, color=\"white\")\n",
    "p = plt.gcf()\n",
    "p.gca().add_artist(my_circle)\n",
    "plt.show()\n",
    "# plt.savefig(\"../images/plot-4.png\")"
   ]
  },
  {
   "cell_type": "code",
   "execution_count": null,
   "metadata": {},
   "outputs": [],
   "source": []
  }
 ],
 "metadata": {
  "interpreter": {
   "hash": "130553f4f0d3e23349af9165d910d4262409c6846676bdcb430be96ef900c543"
  },
  "kernelspec": {
   "display_name": "Python 3.8.12 ('base')",
   "language": "python",
   "name": "python3"
  },
  "language_info": {
   "codemirror_mode": {
    "name": "ipython",
    "version": 3
   },
   "file_extension": ".py",
   "mimetype": "text/x-python",
   "name": "python",
   "nbconvert_exporter": "python",
   "pygments_lexer": "ipython3",
   "version": "3.9.5"
  },
  "orig_nbformat": 4
 },
 "nbformat": 4,
 "nbformat_minor": 2
}
