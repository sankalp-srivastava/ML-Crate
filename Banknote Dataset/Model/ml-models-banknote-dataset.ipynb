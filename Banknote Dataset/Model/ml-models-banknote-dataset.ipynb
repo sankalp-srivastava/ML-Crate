{
 "cells": [
  {
   "cell_type": "code",
   "execution_count": 1,
   "id": "ed570c41",
   "metadata": {
    "_cell_guid": "b1076dfc-b9ad-4769-8c92-a6c4dae69d19",
    "_uuid": "8f2839f25d086af736a60e9eeb907d3b93b6e0e5",
    "execution": {
     "iopub.execute_input": "2021-12-31T15:37:52.835316Z",
     "iopub.status.busy": "2021-12-31T15:37:52.832880Z",
     "iopub.status.idle": "2021-12-31T15:37:52.838574Z",
     "shell.execute_reply": "2021-12-31T15:37:52.839080Z",
     "shell.execute_reply.started": "2021-12-31T15:35:29.533631Z"
    },
    "papermill": {
     "duration": 0.040022,
     "end_time": "2021-12-31T15:37:52.839393",
     "exception": false,
     "start_time": "2021-12-31T15:37:52.799371",
     "status": "completed"
    },
    "tags": []
   },
   "outputs": [],
   "source": [
    "import numpy as np\n",
    "import pandas as pd\n",
    "import matplotlib.pyplot as plt"
   ]
  },
  {
   "cell_type": "code",
   "execution_count": 2,
   "id": "7622cc2b",
   "metadata": {
    "execution": {
     "iopub.execute_input": "2021-12-31T15:37:52.888073Z",
     "iopub.status.busy": "2021-12-31T15:37:52.887367Z",
     "iopub.status.idle": "2021-12-31T15:37:52.908488Z",
     "shell.execute_reply": "2021-12-31T15:37:52.909097Z",
     "shell.execute_reply.started": "2021-12-31T15:35:29.563640Z"
    },
    "papermill": {
     "duration": 0.046806,
     "end_time": "2021-12-31T15:37:52.909292",
     "exception": false,
     "start_time": "2021-12-31T15:37:52.862486",
     "status": "completed"
    },
    "tags": []
   },
   "outputs": [],
   "source": [
    "train = pd.read_csv(\"../input/bank-note-authentication-uci-data/BankNote_Authentication.csv\")"
   ]
  },
  {
   "cell_type": "code",
   "execution_count": 3,
   "id": "9d61423c",
   "metadata": {
    "execution": {
     "iopub.execute_input": "2021-12-31T15:37:52.957708Z",
     "iopub.status.busy": "2021-12-31T15:37:52.957101Z",
     "iopub.status.idle": "2021-12-31T15:37:52.982058Z",
     "shell.execute_reply": "2021-12-31T15:37:52.982642Z",
     "shell.execute_reply.started": "2021-12-31T15:35:29.600333Z"
    },
    "papermill": {
     "duration": 0.050431,
     "end_time": "2021-12-31T15:37:52.982825",
     "exception": false,
     "start_time": "2021-12-31T15:37:52.932394",
     "status": "completed"
    },
    "tags": []
   },
   "outputs": [
    {
     "data": {
      "text/html": [
       "<div>\n",
       "<style scoped>\n",
       "    .dataframe tbody tr th:only-of-type {\n",
       "        vertical-align: middle;\n",
       "    }\n",
       "\n",
       "    .dataframe tbody tr th {\n",
       "        vertical-align: top;\n",
       "    }\n",
       "\n",
       "    .dataframe thead th {\n",
       "        text-align: right;\n",
       "    }\n",
       "</style>\n",
       "<table border=\"1\" class=\"dataframe\">\n",
       "  <thead>\n",
       "    <tr style=\"text-align: right;\">\n",
       "      <th></th>\n",
       "      <th>variance</th>\n",
       "      <th>skewness</th>\n",
       "      <th>curtosis</th>\n",
       "      <th>entropy</th>\n",
       "      <th>class</th>\n",
       "    </tr>\n",
       "  </thead>\n",
       "  <tbody>\n",
       "    <tr>\n",
       "      <th>0</th>\n",
       "      <td>3.62160</td>\n",
       "      <td>8.66610</td>\n",
       "      <td>-2.8073</td>\n",
       "      <td>-0.44699</td>\n",
       "      <td>0</td>\n",
       "    </tr>\n",
       "    <tr>\n",
       "      <th>1</th>\n",
       "      <td>4.54590</td>\n",
       "      <td>8.16740</td>\n",
       "      <td>-2.4586</td>\n",
       "      <td>-1.46210</td>\n",
       "      <td>0</td>\n",
       "    </tr>\n",
       "    <tr>\n",
       "      <th>2</th>\n",
       "      <td>3.86600</td>\n",
       "      <td>-2.63830</td>\n",
       "      <td>1.9242</td>\n",
       "      <td>0.10645</td>\n",
       "      <td>0</td>\n",
       "    </tr>\n",
       "    <tr>\n",
       "      <th>3</th>\n",
       "      <td>3.45660</td>\n",
       "      <td>9.52280</td>\n",
       "      <td>-4.0112</td>\n",
       "      <td>-3.59440</td>\n",
       "      <td>0</td>\n",
       "    </tr>\n",
       "    <tr>\n",
       "      <th>4</th>\n",
       "      <td>0.32924</td>\n",
       "      <td>-4.45520</td>\n",
       "      <td>4.5718</td>\n",
       "      <td>-0.98880</td>\n",
       "      <td>0</td>\n",
       "    </tr>\n",
       "    <tr>\n",
       "      <th>...</th>\n",
       "      <td>...</td>\n",
       "      <td>...</td>\n",
       "      <td>...</td>\n",
       "      <td>...</td>\n",
       "      <td>...</td>\n",
       "    </tr>\n",
       "    <tr>\n",
       "      <th>1367</th>\n",
       "      <td>0.40614</td>\n",
       "      <td>1.34920</td>\n",
       "      <td>-1.4501</td>\n",
       "      <td>-0.55949</td>\n",
       "      <td>1</td>\n",
       "    </tr>\n",
       "    <tr>\n",
       "      <th>1368</th>\n",
       "      <td>-1.38870</td>\n",
       "      <td>-4.87730</td>\n",
       "      <td>6.4774</td>\n",
       "      <td>0.34179</td>\n",
       "      <td>1</td>\n",
       "    </tr>\n",
       "    <tr>\n",
       "      <th>1369</th>\n",
       "      <td>-3.75030</td>\n",
       "      <td>-13.45860</td>\n",
       "      <td>17.5932</td>\n",
       "      <td>-2.77710</td>\n",
       "      <td>1</td>\n",
       "    </tr>\n",
       "    <tr>\n",
       "      <th>1370</th>\n",
       "      <td>-3.56370</td>\n",
       "      <td>-8.38270</td>\n",
       "      <td>12.3930</td>\n",
       "      <td>-1.28230</td>\n",
       "      <td>1</td>\n",
       "    </tr>\n",
       "    <tr>\n",
       "      <th>1371</th>\n",
       "      <td>-2.54190</td>\n",
       "      <td>-0.65804</td>\n",
       "      <td>2.6842</td>\n",
       "      <td>1.19520</td>\n",
       "      <td>1</td>\n",
       "    </tr>\n",
       "  </tbody>\n",
       "</table>\n",
       "<p>1372 rows × 5 columns</p>\n",
       "</div>"
      ],
      "text/plain": [
       "      variance  skewness  curtosis  entropy  class\n",
       "0      3.62160   8.66610   -2.8073 -0.44699      0\n",
       "1      4.54590   8.16740   -2.4586 -1.46210      0\n",
       "2      3.86600  -2.63830    1.9242  0.10645      0\n",
       "3      3.45660   9.52280   -4.0112 -3.59440      0\n",
       "4      0.32924  -4.45520    4.5718 -0.98880      0\n",
       "...        ...       ...       ...      ...    ...\n",
       "1367   0.40614   1.34920   -1.4501 -0.55949      1\n",
       "1368  -1.38870  -4.87730    6.4774  0.34179      1\n",
       "1369  -3.75030 -13.45860   17.5932 -2.77710      1\n",
       "1370  -3.56370  -8.38270   12.3930 -1.28230      1\n",
       "1371  -2.54190  -0.65804    2.6842  1.19520      1\n",
       "\n",
       "[1372 rows x 5 columns]"
      ]
     },
     "execution_count": 3,
     "metadata": {},
     "output_type": "execute_result"
    }
   ],
   "source": [
    "train"
   ]
  },
  {
   "cell_type": "code",
   "execution_count": 4,
   "id": "3e4623ee",
   "metadata": {
    "execution": {
     "iopub.execute_input": "2021-12-31T15:37:53.034473Z",
     "iopub.status.busy": "2021-12-31T15:37:53.033785Z",
     "iopub.status.idle": "2021-12-31T15:37:53.046200Z",
     "shell.execute_reply": "2021-12-31T15:37:53.045233Z",
     "shell.execute_reply.started": "2021-12-31T15:35:50.398181Z"
    },
    "papermill": {
     "duration": 0.040107,
     "end_time": "2021-12-31T15:37:53.046368",
     "exception": false,
     "start_time": "2021-12-31T15:37:53.006261",
     "status": "completed"
    },
    "tags": []
   },
   "outputs": [],
   "source": [
    "x = train.drop([\"class\"],axis=1)\n",
    "y = train['class']"
   ]
  },
  {
   "cell_type": "code",
   "execution_count": 5,
   "id": "42dbd6d3",
   "metadata": {
    "execution": {
     "iopub.execute_input": "2021-12-31T15:37:53.101205Z",
     "iopub.status.busy": "2021-12-31T15:37:53.100426Z",
     "iopub.status.idle": "2021-12-31T15:37:53.104198Z",
     "shell.execute_reply": "2021-12-31T15:37:53.104794Z",
     "shell.execute_reply.started": "2021-12-31T15:35:53.259454Z"
    },
    "papermill": {
     "duration": 0.03554,
     "end_time": "2021-12-31T15:37:53.104987",
     "exception": false,
     "start_time": "2021-12-31T15:37:53.069447",
     "status": "completed"
    },
    "tags": []
   },
   "outputs": [
    {
     "data": {
      "text/plain": [
       "0    762\n",
       "1    610\n",
       "Name: class, dtype: int64"
      ]
     },
     "execution_count": 5,
     "metadata": {},
     "output_type": "execute_result"
    }
   ],
   "source": [
    "y.value_counts()"
   ]
  },
  {
   "cell_type": "code",
   "execution_count": 6,
   "id": "3cb62ccc",
   "metadata": {
    "execution": {
     "iopub.execute_input": "2021-12-31T15:37:53.157207Z",
     "iopub.status.busy": "2021-12-31T15:37:53.156538Z",
     "iopub.status.idle": "2021-12-31T15:37:54.237585Z",
     "shell.execute_reply": "2021-12-31T15:37:54.238145Z",
     "shell.execute_reply.started": "2021-12-31T15:35:57.094820Z"
    },
    "papermill": {
     "duration": 1.109534,
     "end_time": "2021-12-31T15:37:54.238350",
     "exception": false,
     "start_time": "2021-12-31T15:37:53.128816",
     "status": "completed"
    },
    "tags": []
   },
   "outputs": [],
   "source": [
    "from sklearn.preprocessing import StandardScaler\n",
    "scaler = StandardScaler()\n",
    "x = scaler.fit_transform(x)"
   ]
  },
  {
   "cell_type": "code",
   "execution_count": 7,
   "id": "2d7f0d06",
   "metadata": {
    "execution": {
     "iopub.execute_input": "2021-12-31T15:37:54.291475Z",
     "iopub.status.busy": "2021-12-31T15:37:54.290676Z",
     "iopub.status.idle": "2021-12-31T15:37:54.359569Z",
     "shell.execute_reply": "2021-12-31T15:37:54.358936Z",
     "shell.execute_reply.started": "2021-12-31T15:36:12.750662Z"
    },
    "papermill": {
     "duration": 0.096796,
     "end_time": "2021-12-31T15:37:54.359714",
     "exception": false,
     "start_time": "2021-12-31T15:37:54.262918",
     "status": "completed"
    },
    "tags": []
   },
   "outputs": [],
   "source": [
    "# splitting the dataset into train and test dataset with 4:1 ratio (80%-20%)\n",
    "from sklearn.model_selection import train_test_split\n",
    "x_train, x_test, y_train, y_test = train_test_split(x, y, test_size = .2, random_state = 26,stratify=y)"
   ]
  },
  {
   "cell_type": "markdown",
   "id": "bed51763",
   "metadata": {
    "papermill": {
     "duration": 0.023122,
     "end_time": "2021-12-31T15:37:54.406411",
     "exception": false,
     "start_time": "2021-12-31T15:37:54.383289",
     "status": "completed"
    },
    "tags": []
   },
   "source": [
    "## Training on different algorithms"
   ]
  },
  {
   "cell_type": "markdown",
   "id": "c97cdcea",
   "metadata": {
    "papermill": {
     "duration": 0.023239,
     "end_time": "2021-12-31T15:37:54.453316",
     "exception": false,
     "start_time": "2021-12-31T15:37:54.430077",
     "status": "completed"
    },
    "tags": []
   },
   "source": [
    "### Logistic Regression"
   ]
  },
  {
   "cell_type": "code",
   "execution_count": 8,
   "id": "e26c548a",
   "metadata": {
    "execution": {
     "iopub.execute_input": "2021-12-31T15:37:54.507809Z",
     "iopub.status.busy": "2021-12-31T15:37:54.507092Z",
     "iopub.status.idle": "2021-12-31T15:37:54.606952Z",
     "shell.execute_reply": "2021-12-31T15:37:54.606413Z",
     "shell.execute_reply.started": "2021-12-31T15:36:16.119256Z"
    },
    "papermill": {
     "duration": 0.129858,
     "end_time": "2021-12-31T15:37:54.607143",
     "exception": false,
     "start_time": "2021-12-31T15:37:54.477285",
     "status": "completed"
    },
    "tags": []
   },
   "outputs": [
    {
     "data": {
      "text/plain": [
       "LogisticRegression()"
      ]
     },
     "execution_count": 8,
     "metadata": {},
     "output_type": "execute_result"
    }
   ],
   "source": [
    "from sklearn.linear_model import LogisticRegression\n",
    "\n",
    "# Create instance of model\n",
    "lreg = LogisticRegression()\n",
    "# Pass training data into model\n",
    "lreg.fit(x_train, y_train)"
   ]
  },
  {
   "cell_type": "code",
   "execution_count": 9,
   "id": "cd651027",
   "metadata": {
    "execution": {
     "iopub.execute_input": "2021-12-31T15:37:54.658224Z",
     "iopub.status.busy": "2021-12-31T15:37:54.657551Z",
     "iopub.status.idle": "2021-12-31T15:37:54.661629Z",
     "shell.execute_reply": "2021-12-31T15:37:54.662160Z",
     "shell.execute_reply.started": "2021-12-31T15:36:16.471227Z"
    },
    "papermill": {
     "duration": 0.031269,
     "end_time": "2021-12-31T15:37:54.662343",
     "exception": false,
     "start_time": "2021-12-31T15:37:54.631074",
     "status": "completed"
    },
    "tags": []
   },
   "outputs": [],
   "source": [
    "# Getting prediciton on x_test\n",
    "y_pred_lreg = lreg.predict(x_test)"
   ]
  },
  {
   "cell_type": "code",
   "execution_count": 10,
   "id": "2ac466b6",
   "metadata": {
    "execution": {
     "iopub.execute_input": "2021-12-31T15:37:54.715334Z",
     "iopub.status.busy": "2021-12-31T15:37:54.714585Z",
     "iopub.status.idle": "2021-12-31T15:37:54.733660Z",
     "shell.execute_reply": "2021-12-31T15:37:54.734668Z",
     "shell.execute_reply.started": "2021-12-31T15:36:17.271597Z"
    },
    "papermill": {
     "duration": 0.048422,
     "end_time": "2021-12-31T15:37:54.735046",
     "exception": false,
     "start_time": "2021-12-31T15:37:54.686624",
     "status": "completed"
    },
    "tags": []
   },
   "outputs": [
    {
     "name": "stdout",
     "output_type": "stream",
     "text": [
      "Logistic Regression\n",
      "\n",
      "\n",
      "Confusion Matrix\n",
      "[[149   4]\n",
      " [  2 120]]\n",
      "----------------------------------------------------------------------------------------------------\n",
      "Classification Report\n",
      "              precision    recall  f1-score   support\n",
      "\n",
      "           0       0.99      0.97      0.98       153\n",
      "           1       0.97      0.98      0.98       122\n",
      "\n",
      "    accuracy                           0.98       275\n",
      "   macro avg       0.98      0.98      0.98       275\n",
      "weighted avg       0.98      0.98      0.98       275\n",
      "\n",
      "----------------------------------------------------------------------------------------------------\n",
      "Accuracy =  97.81818182 %\n"
     ]
    }
   ],
   "source": [
    "# Scoring our model\n",
    "from sklearn.metrics import classification_report, confusion_matrix, accuracy_score,f1_score, precision_score, recall_score\n",
    "\n",
    "# Confusion Matrix\n",
    "print('Logistic Regression')\n",
    "print('\\n')\n",
    "print('Confusion Matrix')\n",
    "print(confusion_matrix(y_test, y_pred_lreg))\n",
    "print('--'*50)\n",
    "\n",
    "# Classification Report\n",
    "print('Classification Report')\n",
    "print(classification_report(y_test,y_pred_lreg))\n",
    "\n",
    "\n",
    "# Accuracy of our model\n",
    "print('--'*50)\n",
    "logreg_accuracy = round(accuracy_score(y_test, y_pred_lreg) * 100,8)\n",
    "print('Accuracy = ', logreg_accuracy,'%')\n"
   ]
  },
  {
   "cell_type": "markdown",
   "id": "e0347cc0",
   "metadata": {
    "papermill": {
     "duration": 0.023598,
     "end_time": "2021-12-31T15:37:54.784284",
     "exception": false,
     "start_time": "2021-12-31T15:37:54.760686",
     "status": "completed"
    },
    "tags": []
   },
   "source": [
    "**We have a accuracy of 99.90%**"
   ]
  },
  {
   "cell_type": "markdown",
   "id": "57b814d0",
   "metadata": {
    "papermill": {
     "duration": 0.02353,
     "end_time": "2021-12-31T15:37:54.831758",
     "exception": false,
     "start_time": "2021-12-31T15:37:54.808228",
     "status": "completed"
    },
    "tags": []
   },
   "source": [
    "### LINEAR SUPPORT VECTOR CLASSIFIER"
   ]
  },
  {
   "cell_type": "code",
   "execution_count": 11,
   "id": "2de37713",
   "metadata": {
    "execution": {
     "iopub.execute_input": "2021-12-31T15:37:54.884925Z",
     "iopub.status.busy": "2021-12-31T15:37:54.883906Z",
     "iopub.status.idle": "2021-12-31T15:37:54.899887Z",
     "shell.execute_reply": "2021-12-31T15:37:54.900435Z",
     "shell.execute_reply.started": "2021-12-31T15:36:18.644965Z"
    },
    "papermill": {
     "duration": 0.043914,
     "end_time": "2021-12-31T15:37:54.900609",
     "exception": false,
     "start_time": "2021-12-31T15:37:54.856695",
     "status": "completed"
    },
    "tags": []
   },
   "outputs": [
    {
     "name": "stdout",
     "output_type": "stream",
     "text": [
      "CPU times: user 5.12 ms, sys: 1.02 ms, total: 6.14 ms\n",
      "Wall time: 6.17 ms\n"
     ]
    },
    {
     "data": {
      "text/plain": [
       "SVC()"
      ]
     },
     "execution_count": 11,
     "metadata": {},
     "output_type": "execute_result"
    }
   ],
   "source": [
    "%%time\n",
    "from sklearn.svm import SVC\n",
    "# Instantiate the model\n",
    "svc = SVC()\n",
    "# Fit the model on training data\n",
    "svc.fit(x_train, y_train)"
   ]
  },
  {
   "cell_type": "code",
   "execution_count": 12,
   "id": "c72a3ed0",
   "metadata": {
    "execution": {
     "iopub.execute_input": "2021-12-31T15:37:54.956758Z",
     "iopub.status.busy": "2021-12-31T15:37:54.955775Z",
     "iopub.status.idle": "2021-12-31T15:37:54.960359Z",
     "shell.execute_reply": "2021-12-31T15:37:54.960860Z",
     "shell.execute_reply.started": "2021-12-31T15:36:18.926349Z"
    },
    "papermill": {
     "duration": 0.035178,
     "end_time": "2021-12-31T15:37:54.961060",
     "exception": false,
     "start_time": "2021-12-31T15:37:54.925882",
     "status": "completed"
    },
    "tags": []
   },
   "outputs": [],
   "source": [
    "# Getting the predictions for x_test\n",
    "y_pred_svc = svc.predict(x_test)"
   ]
  },
  {
   "cell_type": "code",
   "execution_count": 13,
   "id": "c4da4d66",
   "metadata": {
    "execution": {
     "iopub.execute_input": "2021-12-31T15:37:55.015624Z",
     "iopub.status.busy": "2021-12-31T15:37:55.014642Z",
     "iopub.status.idle": "2021-12-31T15:37:55.030091Z",
     "shell.execute_reply": "2021-12-31T15:37:55.030842Z",
     "shell.execute_reply.started": "2021-12-31T15:36:19.206108Z"
    },
    "papermill": {
     "duration": 0.044587,
     "end_time": "2021-12-31T15:37:55.031082",
     "exception": false,
     "start_time": "2021-12-31T15:37:54.986495",
     "status": "completed"
    },
    "tags": []
   },
   "outputs": [
    {
     "name": "stdout",
     "output_type": "stream",
     "text": [
      "Support Vector Classifier\n",
      "\n",
      "\n",
      "Confusion Matrix\n",
      "[[153   0]\n",
      " [  0 122]]\n",
      "----------------------------------------------------------------------------------------------------\n",
      "Classification Report\n",
      "              precision    recall  f1-score   support\n",
      "\n",
      "           0       1.00      1.00      1.00       153\n",
      "           1       1.00      1.00      1.00       122\n",
      "\n",
      "    accuracy                           1.00       275\n",
      "   macro avg       1.00      1.00      1.00       275\n",
      "weighted avg       1.00      1.00      1.00       275\n",
      "\n",
      "----------------------------------------------------------------------------------------------------\n",
      "Accuracy =  100.0 %\n"
     ]
    }
   ],
   "source": [
    "print('Support Vector Classifier')\n",
    "print('\\n')\n",
    "# Confusion matrix\n",
    "print('Confusion Matrix')\n",
    "print(confusion_matrix(y_test, y_pred_svc))\n",
    "print('--'*50)\n",
    "\n",
    "# Classification report\n",
    "print('Classification Report')\n",
    "print(classification_report(y_test, y_pred_svc))\n",
    "\n",
    "# Accuracy\n",
    "print('--'*50)\n",
    "svc_accuracy = round(accuracy_score(y_test, y_pred_svc)*100,8)\n",
    "print('Accuracy = ', svc_accuracy,'%')"
   ]
  },
  {
   "cell_type": "markdown",
   "id": "ee0d4f54",
   "metadata": {
    "papermill": {
     "duration": 0.024566,
     "end_time": "2021-12-31T15:37:55.081159",
     "exception": false,
     "start_time": "2021-12-31T15:37:55.056593",
     "status": "completed"
    },
    "tags": []
   },
   "source": [
    "### K-NEAREST NEIGHBORS"
   ]
  },
  {
   "cell_type": "code",
   "execution_count": 14,
   "id": "bead393e",
   "metadata": {
    "execution": {
     "iopub.execute_input": "2021-12-31T15:37:55.139813Z",
     "iopub.status.busy": "2021-12-31T15:37:55.135210Z",
     "iopub.status.idle": "2021-12-31T15:37:55.611623Z",
     "shell.execute_reply": "2021-12-31T15:37:55.612154Z",
     "shell.execute_reply.started": "2021-12-31T15:36:19.749112Z"
    },
    "papermill": {
     "duration": 0.505144,
     "end_time": "2021-12-31T15:37:55.612329",
     "exception": false,
     "start_time": "2021-12-31T15:37:55.107185",
     "status": "completed"
    },
    "tags": []
   },
   "outputs": [
    {
     "data": {
      "image/png": "[encoded data removed]",
      "text/plain": [
       "<Figure size 720x432 with 1 Axes>"
      ]
     },
     "metadata": {
      "needs_background": "light"
     },
     "output_type": "display_data"
    },
    {
     "name": "stdout",
     "output_type": "stream",
     "text": [
      "CPU times: user 503 ms, sys: 149 ms, total: 652 ms\n",
      "Wall time: 468 ms\n"
     ]
    }
   ],
   "source": [
    "%%time\n",
    "from sklearn.neighbors import KNeighborsClassifier\n",
    "\n",
    "# in knn we need to select a value of nearest neighbour, for now lets use a for loop. If accuarcy\n",
    "# is better than other models then we would search for optimal parameter\n",
    "\n",
    "error_rate = []\n",
    "\n",
    "for i in range (2,15):\n",
    "    knn = KNeighborsClassifier(n_neighbors = i)\n",
    "    knn.fit(x_train, y_train)\n",
    "    pred_i = knn.predict(x_test)\n",
    "    error_rate.append(np.mean(pred_i != y_test))\n",
    "\n",
    "# Plot error rate\n",
    "plt.figure(figsize = (10,6))\n",
    "plt.plot(range(2,15), error_rate, color = 'blue', linestyle = '--', marker = 'o', \n",
    "        markerfacecolor = 'green', markersize = 10)\n",
    "\n",
    "plt.title('Error Rate vs K Value')\n",
    "plt.xlabel('K')\n",
    "plt.ylabel('Error Rate')\n",
    "plt.show()"
   ]
  },
  {
   "cell_type": "code",
   "execution_count": 15,
   "id": "e9d8fb27",
   "metadata": {
    "execution": {
     "iopub.execute_input": "2021-12-31T15:37:55.669783Z",
     "iopub.status.busy": "2021-12-31T15:37:55.668726Z",
     "iopub.status.idle": "2021-12-31T15:37:55.678240Z",
     "shell.execute_reply": "2021-12-31T15:37:55.678714Z",
     "shell.execute_reply.started": "2021-12-31T15:36:20.222020Z"
    },
    "papermill": {
     "duration": 0.039292,
     "end_time": "2021-12-31T15:37:55.678895",
     "exception": false,
     "start_time": "2021-12-31T15:37:55.639603",
     "status": "completed"
    },
    "tags": []
   },
   "outputs": [
    {
     "data": {
      "text/plain": [
       "KNeighborsClassifier(n_neighbors=2)"
      ]
     },
     "execution_count": 15,
     "metadata": {},
     "output_type": "execute_result"
    }
   ],
   "source": [
    "# now using above data to train with n_neighbors having least error rate\n",
    "\n",
    "n_value = 0\n",
    "min_error = float('inf')\n",
    "for idx,error in enumerate(error_rate):\n",
    "    if min_error>error:\n",
    "        min_error=error\n",
    "        n_value=idx+2\n",
    "\n",
    "knn = KNeighborsClassifier(n_neighbors = n_value)\n",
    "# Fit new KNN on training data\n",
    "knn.fit(x_train, y_train)"
   ]
  },
  {
   "cell_type": "code",
   "execution_count": 16,
   "id": "49744247",
   "metadata": {
    "execution": {
     "iopub.execute_input": "2021-12-31T15:37:55.735805Z",
     "iopub.status.busy": "2021-12-31T15:37:55.734808Z",
     "iopub.status.idle": "2021-12-31T15:37:55.749609Z",
     "shell.execute_reply": "2021-12-31T15:37:55.750105Z",
     "shell.execute_reply.started": "2021-12-31T15:36:20.258636Z"
    },
    "papermill": {
     "duration": 0.045069,
     "end_time": "2021-12-31T15:37:55.750293",
     "exception": false,
     "start_time": "2021-12-31T15:37:55.705224",
     "status": "completed"
    },
    "tags": []
   },
   "outputs": [],
   "source": [
    "# Predict KNN\n",
    "y_pred_knn_op = knn.predict(x_test)"
   ]
  },
  {
   "cell_type": "code",
   "execution_count": 17,
   "id": "a18069c0",
   "metadata": {
    "execution": {
     "iopub.execute_input": "2021-12-31T15:37:55.808071Z",
     "iopub.status.busy": "2021-12-31T15:37:55.807075Z",
     "iopub.status.idle": "2021-12-31T15:37:55.821760Z",
     "shell.execute_reply": "2021-12-31T15:37:55.822316Z",
     "shell.execute_reply.started": "2021-12-31T15:36:20.503196Z"
    },
    "papermill": {
     "duration": 0.045767,
     "end_time": "2021-12-31T15:37:55.822507",
     "exception": false,
     "start_time": "2021-12-31T15:37:55.776740",
     "status": "completed"
    },
    "tags": []
   },
   "outputs": [
    {
     "name": "stdout",
     "output_type": "stream",
     "text": [
      "K-Nearest Neighbors(KNN)\n",
      "k = 2\n",
      "\n",
      "\n",
      "[[153   0]\n",
      " [  0 122]]\n",
      "----------------------------------------------------------------------------------------------------\n",
      "Classfication Report               precision    recall  f1-score   support\n",
      "\n",
      "           0       1.00      1.00      1.00       153\n",
      "           1       1.00      1.00      1.00       122\n",
      "\n",
      "    accuracy                           1.00       275\n",
      "   macro avg       1.00      1.00      1.00       275\n",
      "weighted avg       1.00      1.00      1.00       275\n",
      "\n",
      "----------------------------------------------------------------------------------------------------\n",
      "Accuracy =  100.0 %\n"
     ]
    }
   ],
   "source": [
    "print('K-Nearest Neighbors(KNN)')\n",
    "print('k =',n_value)\n",
    "\n",
    "# Confusion Matrix\n",
    "print('\\n')\n",
    "print(confusion_matrix(y_test, y_pred_knn_op))\n",
    "\n",
    "# Classification Report\n",
    "print('--'*50)\n",
    "print('Classfication Report',classification_report(y_test, y_pred_knn_op))\n",
    "\n",
    "# Accuracy\n",
    "print('--'*50)\n",
    "knn_op_accuracy =round(accuracy_score(y_test, y_pred_knn_op)*100,8)\n",
    "print('Accuracy = ',knn_op_accuracy,'%')"
   ]
  },
  {
   "cell_type": "markdown",
   "id": "f1fa6412",
   "metadata": {
    "papermill": {
     "duration": 0.02698,
     "end_time": "2021-12-31T15:37:55.876754",
     "exception": false,
     "start_time": "2021-12-31T15:37:55.849774",
     "status": "completed"
    },
    "tags": []
   },
   "source": [
    "### RANDOM FOREST"
   ]
  },
  {
   "cell_type": "code",
   "execution_count": 18,
   "id": "c7b19b9b",
   "metadata": {
    "execution": {
     "iopub.execute_input": "2021-12-31T15:37:55.937457Z",
     "iopub.status.busy": "2021-12-31T15:37:55.934770Z",
     "iopub.status.idle": "2021-12-31T15:37:56.945652Z",
     "shell.execute_reply": "2021-12-31T15:37:56.945092Z",
     "shell.execute_reply.started": "2021-12-31T15:36:21.001640Z"
    },
    "papermill": {
     "duration": 1.041027,
     "end_time": "2021-12-31T15:37:56.945806",
     "exception": false,
     "start_time": "2021-12-31T15:37:55.904779",
     "status": "completed"
    },
    "tags": []
   },
   "outputs": [],
   "source": [
    "from sklearn.ensemble import RandomForestClassifier\n",
    "\n",
    "# Create model object\n",
    "rfc = RandomForestClassifier(n_estimators = 250,n_jobs=-1)\n",
    "# Fit model to training data\n",
    "rfc.fit(x_train,y_train)\n",
    "y_pred_rfc = rfc.predict(x_test)"
   ]
  },
  {
   "cell_type": "code",
   "execution_count": 19,
   "id": "7bcec5dc",
   "metadata": {
    "execution": {
     "iopub.execute_input": "2021-12-31T15:37:57.009028Z",
     "iopub.status.busy": "2021-12-31T15:37:57.007567Z",
     "iopub.status.idle": "2021-12-31T15:37:57.018930Z",
     "shell.execute_reply": "2021-12-31T15:37:57.019500Z",
     "shell.execute_reply.started": "2021-12-31T15:36:21.911661Z"
    },
    "papermill": {
     "duration": 0.047081,
     "end_time": "2021-12-31T15:37:57.019675",
     "exception": false,
     "start_time": "2021-12-31T15:37:56.972594",
     "status": "completed"
    },
    "tags": []
   },
   "outputs": [
    {
     "name": "stdout",
     "output_type": "stream",
     "text": [
      "Random Forest\n",
      "\n",
      "\n",
      "Confusion Matrix\n",
      "[[151   2]\n",
      " [  0 122]]\n",
      "----------------------------------------------------------------------------------------------------\n",
      "Classification Report\n",
      "              precision    recall  f1-score   support\n",
      "\n",
      "           0       1.00      0.99      0.99       153\n",
      "           1       0.98      1.00      0.99       122\n",
      "\n",
      "    accuracy                           0.99       275\n",
      "   macro avg       0.99      0.99      0.99       275\n",
      "weighted avg       0.99      0.99      0.99       275\n",
      "\n",
      "----------------------------------------------------------------------------------------------------\n",
      "Accuracy =  99.27272727 %\n"
     ]
    }
   ],
   "source": [
    "print('Random Forest')\n",
    "# Confusion matrix\n",
    "print('\\n')\n",
    "print('Confusion Matrix')\n",
    "print(confusion_matrix(y_test, y_pred_rfc))\n",
    "\n",
    "# Classification report\n",
    "print('--'*50)\n",
    "print('Classification Report')\n",
    "print(classification_report(y_test, y_pred_rfc))\n",
    "\n",
    "# Accuracy\n",
    "print('--'*50)\n",
    "rf_accuracy = round(accuracy_score(y_test, y_pred_rfc)*100,8)\n",
    "print('Accuracy = ', rf_accuracy,'%')"
   ]
  },
  {
   "cell_type": "markdown",
   "id": "3afcbfd9",
   "metadata": {
    "papermill": {
     "duration": 0.026943,
     "end_time": "2021-12-31T15:37:57.076389",
     "exception": false,
     "start_time": "2021-12-31T15:37:57.049446",
     "status": "completed"
    },
    "tags": []
   },
   "source": [
    "### XGBoost Classifier"
   ]
  },
  {
   "cell_type": "code",
   "execution_count": 20,
   "id": "5f740386",
   "metadata": {
    "execution": {
     "iopub.execute_input": "2021-12-31T15:37:57.137602Z",
     "iopub.status.busy": "2021-12-31T15:37:57.136836Z",
     "iopub.status.idle": "2021-12-31T15:37:57.640101Z",
     "shell.execute_reply": "2021-12-31T15:37:57.640837Z",
     "shell.execute_reply.started": "2021-12-31T15:36:21.932106Z"
    },
    "papermill": {
     "duration": 0.536905,
     "end_time": "2021-12-31T15:37:57.641049",
     "exception": false,
     "start_time": "2021-12-31T15:37:57.104144",
     "status": "completed"
    },
    "tags": []
   },
   "outputs": [
    {
     "name": "stderr",
     "output_type": "stream",
     "text": [
      "/opt/conda/lib/python3.7/site-packages/xgboost/sklearn.py:1224: UserWarning: The use of label encoder in XGBClassifier is deprecated and will be removed in a future release. To remove this warning, do the following: 1) Pass option use_label_encoder=False when constructing XGBClassifier object; and 2) Encode your labels (y) as integers starting with 0, i.e. 0, 1, 2, ..., [num_class - 1].\n",
      "  warnings.warn(label_encoder_deprecation_msg, UserWarning)\n"
     ]
    },
    {
     "name": "stdout",
     "output_type": "stream",
     "text": [
      "[15:37:57] WARNING: ../src/learner.cc:1115: Starting in XGBoost 1.3.0, the default evaluation metric used with the objective 'binary:logistic' was changed from 'error' to 'logloss'. Explicitly set eval_metric if you'd like to restore the old behavior.\n"
     ]
    }
   ],
   "source": [
    "from xgboost import XGBClassifier\n",
    "\n",
    "# Create model object\n",
    "xgb = XGBClassifier(n_jobs=-1)\n",
    "\n",
    "# Fit model to training data\n",
    "xgb.fit(x_train, y_train)\n",
    "y_pred_xgb = xgb.predict(x_test)"
   ]
  },
  {
   "cell_type": "code",
   "execution_count": 21,
   "id": "f045b6e0",
   "metadata": {
    "execution": {
     "iopub.execute_input": "2021-12-31T15:37:57.706832Z",
     "iopub.status.busy": "2021-12-31T15:37:57.706088Z",
     "iopub.status.idle": "2021-12-31T15:37:57.717637Z",
     "shell.execute_reply": "2021-12-31T15:37:57.718756Z",
     "shell.execute_reply.started": "2021-12-31T15:36:22.448392Z"
    },
    "papermill": {
     "duration": 0.047903,
     "end_time": "2021-12-31T15:37:57.719134",
     "exception": false,
     "start_time": "2021-12-31T15:37:57.671231",
     "status": "completed"
    },
    "tags": []
   },
   "outputs": [
    {
     "name": "stdout",
     "output_type": "stream",
     "text": [
      "XGBoost Classifer\n",
      "\n",
      "\n",
      "Confusion Matrix\n",
      "[[152   1]\n",
      " [  0 122]]\n",
      "----------------------------------------------------------------------------------------------------\n",
      "Classification Report\n",
      "              precision    recall  f1-score   support\n",
      "\n",
      "           0       1.00      0.99      1.00       153\n",
      "           1       0.99      1.00      1.00       122\n",
      "\n",
      "    accuracy                           1.00       275\n",
      "   macro avg       1.00      1.00      1.00       275\n",
      "weighted avg       1.00      1.00      1.00       275\n",
      "\n",
      "----------------------------------------------------------------------------------------------------\n",
      "Accuracy =  99.63636364 %\n"
     ]
    }
   ],
   "source": [
    "print('XGBoost Classifer')\n",
    "# Confusion matrix\n",
    "print('\\n')\n",
    "print('Confusion Matrix')\n",
    "print(confusion_matrix(y_test, y_pred_xgb))\n",
    "\n",
    "# Classification report\n",
    "print('--'*50)\n",
    "print('Classification Report')\n",
    "print(classification_report(y_test, y_pred_xgb))\n",
    "\n",
    "# Accuracy\n",
    "print('--'*50)\n",
    "xgb_accuracy = round(accuracy_score(y_test, y_pred_xgb)*100,8)\n",
    "print('Accuracy = ', xgb_accuracy,'%')"
   ]
  },
  {
   "cell_type": "code",
   "execution_count": 22,
   "id": "7ba167bb",
   "metadata": {
    "execution": {
     "iopub.execute_input": "2021-12-31T15:37:57.780196Z",
     "iopub.status.busy": "2021-12-31T15:37:57.779496Z",
     "iopub.status.idle": "2021-12-31T15:37:57.791846Z",
     "shell.execute_reply": "2021-12-31T15:37:57.792400Z",
     "shell.execute_reply.started": "2021-12-31T15:36:22.468430Z"
    },
    "papermill": {
     "duration": 0.0439,
     "end_time": "2021-12-31T15:37:57.792575",
     "exception": false,
     "start_time": "2021-12-31T15:37:57.748675",
     "status": "completed"
    },
    "tags": []
   },
   "outputs": [
    {
     "data": {
      "text/html": [
       "<div>\n",
       "<style scoped>\n",
       "    .dataframe tbody tr th:only-of-type {\n",
       "        vertical-align: middle;\n",
       "    }\n",
       "\n",
       "    .dataframe tbody tr th {\n",
       "        vertical-align: top;\n",
       "    }\n",
       "\n",
       "    .dataframe thead th {\n",
       "        text-align: right;\n",
       "    }\n",
       "</style>\n",
       "<table border=\"1\" class=\"dataframe\">\n",
       "  <thead>\n",
       "    <tr style=\"text-align: right;\">\n",
       "      <th></th>\n",
       "      <th>Model</th>\n",
       "      <th>Score</th>\n",
       "    </tr>\n",
       "  </thead>\n",
       "  <tbody>\n",
       "    <tr>\n",
       "      <th>1</th>\n",
       "      <td>Linear SVC</td>\n",
       "      <td>100.000000</td>\n",
       "    </tr>\n",
       "    <tr>\n",
       "      <th>2</th>\n",
       "      <td>K-Nearest Neighbors</td>\n",
       "      <td>100.000000</td>\n",
       "    </tr>\n",
       "    <tr>\n",
       "      <th>4</th>\n",
       "      <td>XGBoost Classifier</td>\n",
       "      <td>99.636364</td>\n",
       "    </tr>\n",
       "    <tr>\n",
       "      <th>3</th>\n",
       "      <td>Random Forest</td>\n",
       "      <td>99.272727</td>\n",
       "    </tr>\n",
       "    <tr>\n",
       "      <th>0</th>\n",
       "      <td>Logistic Regression</td>\n",
       "      <td>97.818182</td>\n",
       "    </tr>\n",
       "  </tbody>\n",
       "</table>\n",
       "</div>"
      ],
      "text/plain": [
       "                 Model       Score\n",
       "1           Linear SVC  100.000000\n",
       "2  K-Nearest Neighbors  100.000000\n",
       "4   XGBoost Classifier   99.636364\n",
       "3        Random Forest   99.272727\n",
       "0  Logistic Regression   97.818182"
      ]
     },
     "execution_count": 22,
     "metadata": {},
     "output_type": "execute_result"
    }
   ],
   "source": [
    "models = pd.DataFrame({\n",
    "     'Model': ['Logistic Regression', 'Linear SVC', \n",
    "               'K-Nearest Neighbors', 'Random Forest','XGBoost Classifier'],\n",
    "    'Score': [logreg_accuracy, svc_accuracy, \n",
    "               knn_op_accuracy, rf_accuracy,xgb_accuracy]})\n",
    "models.sort_values(by='Score', ascending=False)"
   ]
  },
  {
   "cell_type": "code",
   "execution_count": null,
   "id": "7ce863d6",
   "metadata": {
    "papermill": {
     "duration": 0.030544,
     "end_time": "2021-12-31T15:37:57.851693",
     "exception": false,
     "start_time": "2021-12-31T15:37:57.821149",
     "status": "completed"
    },
    "tags": []
   },
   "outputs": [],
   "source": []
  }
 ],
 "metadata": {
  "kernelspec": {
   "display_name": "Python 3",
   "language": "python",
   "name": "python3"
  },
  "language_info": {
   "codemirror_mode": {
    "name": "ipython",
    "version": 3
   },
   "file_extension": ".py",
   "mimetype": "text/x-python",
   "name": "python",
   "nbconvert_exporter": "python",
   "pygments_lexer": "ipython3",
   "version": "3.7.12"
  },
  "papermill": {
   "default_parameters": {},
   "duration": 16.901551,
   "end_time": "2021-12-31T15:37:58.593037",
   "environment_variables": {},
   "exception": null,
   "input_path": "__notebook__.ipynb",
   "output_path": "__notebook__.ipynb",
   "parameters": {},
   "start_time": "2021-12-31T15:37:41.691486",
   "version": "2.3.3"
  }
 },
 "nbformat": 4,
 "nbformat_minor": 5
}
