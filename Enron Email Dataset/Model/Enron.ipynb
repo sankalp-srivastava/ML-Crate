{
 "cells": [
  {
   "cell_type": "markdown",
   "id": "e9c23f53",
   "metadata": {},
   "source": [
    "# Enron Email Dataset"
   ]
  },
  {
   "cell_type": "markdown",
   "id": "759fb524",
   "metadata": {},
   "source": [
    "In this dataset the procedure followed is:\n",
    "1. Having a glance at the dataset.\n",
    "2. Reducing the size of the dataset.\n",
    "3. Analysing the sender.\n",
    "4. Counting the frequency.\n",
    "5. Create df with 2 highest emails. \n",
    "6. Preprocessing and get ready for machine learning\n",
    "7. Remove rare words\n",
    "8. Define X and y\n",
    "9. Split for training and validating\n",
    "10. Vectorise\n",
    "11. Define and train model\n",
    "12. Predict on validation set\n",
    "13. Evaluate"
   ]
  },
  {
   "cell_type": "code",
   "execution_count": 1,
   "id": "fe88cb4a",
   "metadata": {},
   "outputs": [],
   "source": [
    "import numpy as np # linear algebra\n",
    "import pandas as pd # data processing, CSV file I/O (e.g. pd.read_csv)"
   ]
  },
  {
   "cell_type": "code",
   "execution_count": 2,
   "id": "91645eca",
   "metadata": {},
   "outputs": [],
   "source": [
    "import os\n",
    "for dirname, _, filenames in os.walk('/kaggle/input'):\n",
    "    for filename in filenames:\n",
    "        print(os.path.join(dirname, filename))"
   ]
  },
  {
   "cell_type": "code",
   "execution_count": 4,
   "id": "33eacbe4",
   "metadata": {},
   "outputs": [],
   "source": [
    "df = pd.read_csv(\"emails.csv\")\n",
    "df = df.sample(frac = 1)\n"
   ]
  },
  {
   "cell_type": "code",
   "execution_count": 5,
   "id": "3a9706b3",
   "metadata": {},
   "outputs": [
    {
     "data": {
      "text/html": [
       "<div>\n",
       "<style scoped>\n",
       "    .dataframe tbody tr th:only-of-type {\n",
       "        vertical-align: middle;\n",
       "    }\n",
       "\n",
       "    .dataframe tbody tr th {\n",
       "        vertical-align: top;\n",
       "    }\n",
       "\n",
       "    .dataframe thead th {\n",
       "        text-align: right;\n",
       "    }\n",
       "</style>\n",
       "<table border=\"1\" class=\"dataframe\">\n",
       "  <thead>\n",
       "    <tr style=\"text-align: right;\">\n",
       "      <th></th>\n",
       "      <th>file</th>\n",
       "      <th>message</th>\n",
       "    </tr>\n",
       "  </thead>\n",
       "  <tbody>\n",
       "    <tr>\n",
       "      <th>445593</th>\n",
       "      <td>skilling-j/inbox/405.</td>\n",
       "      <td>Message-ID: &lt;26117676.1075840162504.JavaMail.e...</td>\n",
       "    </tr>\n",
       "    <tr>\n",
       "      <th>216143</th>\n",
       "      <td>kaminski-v/discussion_threads/3550.</td>\n",
       "      <td>Message-ID: &lt;22871989.1075856414327.JavaMail.e...</td>\n",
       "    </tr>\n",
       "    <tr>\n",
       "      <th>118831</th>\n",
       "      <td>fossum-d/sent/1290.</td>\n",
       "      <td>Message-ID: &lt;18381998.1075863618080.JavaMail.e...</td>\n",
       "    </tr>\n",
       "    <tr>\n",
       "      <th>185931</th>\n",
       "      <td>jones-t/all_documents/5201.</td>\n",
       "      <td>Message-ID: &lt;3303985.1075847041986.JavaMail.ev...</td>\n",
       "    </tr>\n",
       "    <tr>\n",
       "      <th>215361</th>\n",
       "      <td>kaminski-v/discussion_threads/2802.</td>\n",
       "      <td>Message-ID: &lt;1881304.1075856394864.JavaMail.ev...</td>\n",
       "    </tr>\n",
       "    <tr>\n",
       "      <th>...</th>\n",
       "      <td>...</td>\n",
       "      <td>...</td>\n",
       "    </tr>\n",
       "    <tr>\n",
       "      <th>393897</th>\n",
       "      <td>sanders-r/all_documents/3458.</td>\n",
       "      <td>Message-ID: &lt;17272239.1075860506127.JavaMail.e...</td>\n",
       "    </tr>\n",
       "    <tr>\n",
       "      <th>173925</th>\n",
       "      <td>horton-s/sent/85.</td>\n",
       "      <td>Message-ID: &lt;17153895.1075844957344.JavaMail.e...</td>\n",
       "    </tr>\n",
       "    <tr>\n",
       "      <th>367491</th>\n",
       "      <td>quigley-d/deleted_items/81.</td>\n",
       "      <td>Message-ID: &lt;1942306.1075841444391.JavaMail.ev...</td>\n",
       "    </tr>\n",
       "    <tr>\n",
       "      <th>386926</th>\n",
       "      <td>sager-e/inbox/760.</td>\n",
       "      <td>Message-ID: &lt;7444031.1075861315508.JavaMail.ev...</td>\n",
       "    </tr>\n",
       "    <tr>\n",
       "      <th>372058</th>\n",
       "      <td>rodrique-r/_sent_mail/342.</td>\n",
       "      <td>Message-ID: &lt;25686515.1075858375352.JavaMail.e...</td>\n",
       "    </tr>\n",
       "  </tbody>\n",
       "</table>\n",
       "<p>517401 rows × 2 columns</p>\n",
       "</div>"
      ],
      "text/plain": [
       "                                       file  \\\n",
       "445593                skilling-j/inbox/405.   \n",
       "216143  kaminski-v/discussion_threads/3550.   \n",
       "118831                  fossum-d/sent/1290.   \n",
       "185931          jones-t/all_documents/5201.   \n",
       "215361  kaminski-v/discussion_threads/2802.   \n",
       "...                                     ...   \n",
       "393897        sanders-r/all_documents/3458.   \n",
       "173925                    horton-s/sent/85.   \n",
       "367491          quigley-d/deleted_items/81.   \n",
       "386926                   sager-e/inbox/760.   \n",
       "372058           rodrique-r/_sent_mail/342.   \n",
       "\n",
       "                                                  message  \n",
       "445593  Message-ID: <26117676.1075840162504.JavaMail.e...  \n",
       "216143  Message-ID: <22871989.1075856414327.JavaMail.e...  \n",
       "118831  Message-ID: <18381998.1075863618080.JavaMail.e...  \n",
       "185931  Message-ID: <3303985.1075847041986.JavaMail.ev...  \n",
       "215361  Message-ID: <1881304.1075856394864.JavaMail.ev...  \n",
       "...                                                   ...  \n",
       "393897  Message-ID: <17272239.1075860506127.JavaMail.e...  \n",
       "173925  Message-ID: <17153895.1075844957344.JavaMail.e...  \n",
       "367491  Message-ID: <1942306.1075841444391.JavaMail.ev...  \n",
       "386926  Message-ID: <7444031.1075861315508.JavaMail.ev...  \n",
       "372058  Message-ID: <25686515.1075858375352.JavaMail.e...  \n",
       "\n",
       "[517401 rows x 2 columns]"
      ]
     },
     "execution_count": 5,
     "metadata": {},
     "output_type": "execute_result"
    }
   ],
   "source": [
    "df"
   ]
  },
  {
   "cell_type": "code",
   "execution_count": 8,
   "id": "49eda4a3",
   "metadata": {},
   "outputs": [],
   "source": [
    "# Reduce dataset"
   ]
  },
  {
   "cell_type": "code",
   "execution_count": 6,
   "id": "84d7649b",
   "metadata": {},
   "outputs": [],
   "source": [
    "df = df[: 5200]"
   ]
  },
  {
   "cell_type": "raw",
   "id": "caa8b757",
   "metadata": {},
   "source": [
    "# Sender"
   ]
  },
  {
   "cell_type": "code",
   "execution_count": 9,
   "id": "a52fbec2",
   "metadata": {},
   "outputs": [
    {
     "name": "stderr",
     "output_type": "stream",
     "text": [
      "<ipython-input-9-0321e62d14d8>:1: SettingWithCopyWarning: \n",
      "A value is trying to be set on a copy of a slice from a DataFrame.\n",
      "Try using .loc[row_indexer,col_indexer] = value instead\n",
      "\n",
      "See the caveats in the documentation: https://pandas.pydata.org/pandas-docs/stable/user_guide/indexing.html#returning-a-view-versus-a-copy\n",
      "  df['sender'] = df['file'].str.split('/').str[0]\n"
     ]
    },
    {
     "data": {
      "text/plain": [
       "445593      skilling-j\n",
       "216143      kaminski-v\n",
       "118831        fossum-d\n",
       "185931         jones-t\n",
       "215361      kaminski-v\n",
       "              ...     \n",
       "396021       sanders-r\n",
       "425928    shackleton-s\n",
       "419970    shackleton-s\n",
       "116983        fossum-d\n",
       "406386         scott-s\n",
       "Name: sender, Length: 5200, dtype: object"
      ]
     },
     "execution_count": 9,
     "metadata": {},
     "output_type": "execute_result"
    }
   ],
   "source": [
    "df['sender'] = df['file'].str.split('/').str[0]\n",
    "df['sender']"
   ]
  },
  {
   "cell_type": "code",
   "execution_count": 11,
   "id": "31c87d83",
   "metadata": {},
   "outputs": [],
   "source": [
    "# Analyse sender"
   ]
  },
  {
   "cell_type": "code",
   "execution_count": 12,
   "id": "38c3c903",
   "metadata": {},
   "outputs": [
    {
     "data": {
      "text/plain": [
       "sender\n",
       "allen-p        34\n",
       "arnold-j       50\n",
       "arora-h         3\n",
       "badeer-r       12\n",
       "bailey-s        5\n",
       "               ..\n",
       "williams-w3    33\n",
       "wolfe-j        11\n",
       "ybarbo-p       20\n",
       "zipper-a       14\n",
       "zufferli-j      4\n",
       "Name: sender, Length: 149, dtype: int64"
      ]
     },
     "execution_count": 12,
     "metadata": {},
     "output_type": "execute_result"
    }
   ],
   "source": [
    "sender = df.groupby('sender').sender.count()\n",
    "sender"
   ]
  },
  {
   "cell_type": "code",
   "execution_count": 13,
   "id": "854b8992",
   "metadata": {},
   "outputs": [
    {
     "data": {
      "text/plain": [
       "sender\n",
       "allen-p        0.653846\n",
       "arnold-j       0.961538\n",
       "arora-h        0.057692\n",
       "badeer-r       0.230769\n",
       "bailey-s       0.096154\n",
       "                 ...   \n",
       "williams-w3    0.634615\n",
       "wolfe-j        0.211538\n",
       "ybarbo-p       0.384615\n",
       "zipper-a       0.269231\n",
       "zufferli-j     0.076923\n",
       "Name: sender, Length: 149, dtype: float64"
      ]
     },
     "execution_count": 13,
     "metadata": {},
     "output_type": "execute_result"
    }
   ],
   "source": [
    "percent_sender = (sender / len(df)) * 100\n",
    "percent_sender"
   ]
  },
  {
   "cell_type": "code",
   "execution_count": 14,
   "id": "13fa9177",
   "metadata": {},
   "outputs": [
    {
     "data": {
      "image/png": "[encoded data removed]",
      "text/plain": [
       "<Figure size 432x288 with 1 Axes>"
      ]
     },
     "metadata": {
      "needs_background": "light"
     },
     "output_type": "display_data"
    }
   ],
   "source": [
    "import matplotlib.pyplot as plt\n",
    "\n",
    "df.groupby('sender').sender.count().plot.bar(ylim=0)\n",
    "plt.show()"
   ]
  },
  {
   "cell_type": "code",
   "execution_count": 15,
   "id": "34918769",
   "metadata": {},
   "outputs": [],
   "source": [
    "# Senders"
   ]
  },
  {
   "cell_type": "code",
   "execution_count": 16,
   "id": "1f317437",
   "metadata": {},
   "outputs": [
    {
     "name": "stdout",
     "output_type": "stream",
     "text": [
      "149\n"
     ]
    }
   ],
   "source": [
    "sender = df['sender'].to_list()\n",
    "\n",
    "# using naive method to remove duplicated from list  \n",
    "list_sender = [] \n",
    "for i in sender: \n",
    "    if i not in list_sender: \n",
    "        list_sender.append(i)\n",
    "    \n",
    "print(len(list_sender))"
   ]
  },
  {
   "cell_type": "code",
   "execution_count": 17,
   "id": "4a38da8b",
   "metadata": {},
   "outputs": [],
   "source": [
    "# Count how mant times a sender appears in each column"
   ]
  },
  {
   "cell_type": "code",
   "execution_count": 18,
   "id": "153166f2",
   "metadata": {},
   "outputs": [
    {
     "name": "stdout",
     "output_type": "stream",
     "text": [
      "{'skilling-j': 43, 'kaminski-v': 276, 'fossum-d': 58, 'jones-t': 205, 'shankman-j': 45, 'whalley-g': 19, 'derrick-j': 20, 'platter-p': 5, 'kean-s': 246, 'hain-m': 42, 'allen-p': 34, 'mann-k': 225, 'lewis-a': 21, 'love-p': 58, 'stclair-c': 35, 'lay-k': 57, 'beck-s': 124, 'ybarbo-p': 20, 'taylor-m': 139, 'dean-c': 30, 'fischer-m': 17, 'quigley-d': 19, 'grigsby-m': 30, 'tholt-j': 22, 'donohoe-t': 9, 'smith-m': 15, 'hyvl-d': 38, 'kitchen-l': 57, 'keiser-k': 18, 'bass-e': 82, 'neal-s': 38, 'guzman-m': 72, 'mcconnell-m': 36, 'sager-e': 51, 'sanders-r': 68, 'arnold-j': 50, 'dorland-c': 11, 'rogers-b': 80, 'symes-k': 134, 'parks-j': 27, 'germany-c': 119, 'shackleton-s': 184, 'storey-g': 9, 'lokay-m': 68, 'campbell-l': 66, 'giron-d': 36, 'panus-s': 4, 'linder-e': 29, 'keavey-p': 27, 'mckay-b': 10, 'scott-s': 81, 'farmer-d': 122, 'carson-m': 16, 'dasovich-j': 269, 'white-s': 46, 'nemec-g': 82, 'baughman-d': 34, 'donoho-l': 12, 'solberg-g': 18, 'sanchez-m': 6, 'blair-l': 44, 'zipper-a': 14, 'lenhart-m': 80, 'perlingiere-d': 46, 'hodge-j': 14, 'merriss-s': 17, 'martin-t': 13, 'shapiro-r': 65, 'hernandez-j': 22, 'stokley-c': 11, 'delainey-d': 39, 'forney-j': 8, 'haedicke-m': 66, 'lavorato-j': 31, 'whitt-m': 6, 'saibi-e': 10, 'griffith-j': 27, 'brawner-s': 8, 'rapp-b': 9, 'schoolcraft-d': 21, 'wolfe-j': 11, 'may-l': 20, 'maggi-m': 19, 'lucci-p': 10, 'ring-r': 18, 'ruscitti-k': 12, 'ward-k': 20, 'watson-k': 28, 'hayslett-r': 25, 'mclaughlin-e': 30, 'steffes-j': 31, 'gilbertsmith-d': 9, 'schwieger-j': 4, 'cash-m': 27, 'mims-thurston-p': 18, 'buy-r': 24, 'tycholiz-b': 10, 'reitmeyer-j': 7, 'presto-k': 18, 'salisbury-h': 15, 'holst-k': 4, 'whalley-l': 31, 'meyers-a': 14, 'rodrique-r': 32, 'stepenovitch-j': 13, 'arora-h': 3, 'badeer-r': 12, 'williams-w3': 33, 'davis-d': 20, 'lokey-t': 11, 'hendrickson-s': 7, 'shively-h': 21, 'ermis-f': 14, 'geaccone-t': 10, 'heard-m': 18, 'weldon-c': 14, 'thomas-p': 9, 'williams-j': 9, 'staab-t': 7, 'gang-l': 6, 'causholli-m': 8, 'scholtes-d': 7, 'benson-r': 4, 'horton-s': 17, 'gay-r': 7, 'south-s': 2, 'cuilla-m': 9, 'bailey-s': 5, 'harris-s': 6, 'hyatt-k': 17, 'ring-a': 9, 'quenet-j': 2, 'mccarty-d': 4, 'corman-s': 19, 'mckay-j': 8, 'richey-c': 13, 'kuykendall-t': 10, 'sturm-f': 7, 'zufferli-j': 4, 'crandell-s': 3, 'pereira-s': 3, 'king-j': 3, 'townsend-j': 4, 'dickson-s': 4, 'swerzbin-m': 5, 'phanis-s': 1, 'motley-m': 6, 'pimenov-v': 2, 'semperger-c': 2}\n"
     ]
    }
   ],
   "source": [
    "from collections import Counter\n",
    "\n",
    "s = df.sender\n",
    "counts = Counter(s)\n",
    "print(dict(counts))"
   ]
  },
  {
   "cell_type": "code",
   "execution_count": 19,
   "id": "10ed5a8d",
   "metadata": {},
   "outputs": [
    {
     "data": {
      "text/html": [
       "<div>\n",
       "<style scoped>\n",
       "    .dataframe tbody tr th:only-of-type {\n",
       "        vertical-align: middle;\n",
       "    }\n",
       "\n",
       "    .dataframe tbody tr th {\n",
       "        vertical-align: top;\n",
       "    }\n",
       "\n",
       "    .dataframe thead th {\n",
       "        text-align: right;\n",
       "    }\n",
       "</style>\n",
       "<table border=\"1\" class=\"dataframe\">\n",
       "  <thead>\n",
       "    <tr style=\"text-align: right;\">\n",
       "      <th></th>\n",
       "      <th>sender</th>\n",
       "      <th>count</th>\n",
       "    </tr>\n",
       "  </thead>\n",
       "  <tbody>\n",
       "    <tr>\n",
       "      <th>1</th>\n",
       "      <td>kaminski-v</td>\n",
       "      <td>276</td>\n",
       "    </tr>\n",
       "    <tr>\n",
       "      <th>53</th>\n",
       "      <td>dasovich-j</td>\n",
       "      <td>269</td>\n",
       "    </tr>\n",
       "    <tr>\n",
       "      <th>8</th>\n",
       "      <td>kean-s</td>\n",
       "      <td>246</td>\n",
       "    </tr>\n",
       "    <tr>\n",
       "      <th>11</th>\n",
       "      <td>mann-k</td>\n",
       "      <td>225</td>\n",
       "    </tr>\n",
       "    <tr>\n",
       "      <th>3</th>\n",
       "      <td>jones-t</td>\n",
       "      <td>205</td>\n",
       "    </tr>\n",
       "    <tr>\n",
       "      <th>...</th>\n",
       "      <td>...</td>\n",
       "      <td>...</td>\n",
       "    </tr>\n",
       "    <tr>\n",
       "      <th>125</th>\n",
       "      <td>south-s</td>\n",
       "      <td>2</td>\n",
       "    </tr>\n",
       "    <tr>\n",
       "      <th>131</th>\n",
       "      <td>quenet-j</td>\n",
       "      <td>2</td>\n",
       "    </tr>\n",
       "    <tr>\n",
       "      <th>147</th>\n",
       "      <td>pimenov-v</td>\n",
       "      <td>2</td>\n",
       "    </tr>\n",
       "    <tr>\n",
       "      <th>148</th>\n",
       "      <td>semperger-c</td>\n",
       "      <td>2</td>\n",
       "    </tr>\n",
       "    <tr>\n",
       "      <th>145</th>\n",
       "      <td>phanis-s</td>\n",
       "      <td>1</td>\n",
       "    </tr>\n",
       "  </tbody>\n",
       "</table>\n",
       "<p>149 rows × 2 columns</p>\n",
       "</div>"
      ],
      "text/plain": [
       "          sender  count\n",
       "1     kaminski-v    276\n",
       "53    dasovich-j    269\n",
       "8         kean-s    246\n",
       "11        mann-k    225\n",
       "3        jones-t    205\n",
       "..           ...    ...\n",
       "125      south-s      2\n",
       "131     quenet-j      2\n",
       "147    pimenov-v      2\n",
       "148  semperger-c      2\n",
       "145     phanis-s      1\n",
       "\n",
       "[149 rows x 2 columns]"
      ]
     },
     "execution_count": 19,
     "metadata": {},
     "output_type": "execute_result"
    }
   ],
   "source": [
    "send_df = pd.DataFrame.from_dict(counts, orient='index').reset_index().sort_values(0, ascending=False)\n",
    "send_df = send_df.rename(columns={'index':'sender', 0:'count'})\n",
    "send_df"
   ]
  },
  {
   "cell_type": "code",
   "execution_count": 20,
   "id": "413a7865",
   "metadata": {},
   "outputs": [],
   "source": [
    "# Create df with two highest emails"
   ]
  },
  {
   "cell_type": "code",
   "execution_count": 21,
   "id": "5e3dd3ee",
   "metadata": {},
   "outputs": [
    {
     "name": "stdout",
     "output_type": "stream",
     "text": [
      "sender    kaminski-v\n",
      "count            276\n",
      "Name: 1, dtype: object\n",
      "\n",
      "sender    dasovich-j\n",
      "count            269\n",
      "Name: 53, dtype: object\n"
     ]
    }
   ],
   "source": [
    "name1 = send_df.iloc[0]\n",
    "name2 = send_df.iloc[1]\n",
    "\n",
    "print(name1)\n",
    "print(\"\")\n",
    "print(name2)"
   ]
  },
  {
   "cell_type": "code",
   "execution_count": 22,
   "id": "59cf89f4",
   "metadata": {},
   "outputs": [
    {
     "name": "stdout",
     "output_type": "stream",
     "text": [
      "kaminski-v\n",
      "\n",
      "dasovich-j\n"
     ]
    }
   ],
   "source": [
    "name_a = name1[0]\n",
    "name_b = name2[0]\n",
    "\n",
    "print(name_a)\n",
    "print(\"\")\n",
    "print(name_b)"
   ]
  },
  {
   "cell_type": "code",
   "execution_count": 23,
   "id": "6c7a4c1d",
   "metadata": {},
   "outputs": [
    {
     "data": {
      "text/html": [
       "<div>\n",
       "<style scoped>\n",
       "    .dataframe tbody tr th:only-of-type {\n",
       "        vertical-align: middle;\n",
       "    }\n",
       "\n",
       "    .dataframe tbody tr th {\n",
       "        vertical-align: top;\n",
       "    }\n",
       "\n",
       "    .dataframe thead th {\n",
       "        text-align: right;\n",
       "    }\n",
       "</style>\n",
       "<table border=\"1\" class=\"dataframe\">\n",
       "  <thead>\n",
       "    <tr style=\"text-align: right;\">\n",
       "      <th></th>\n",
       "      <th>file</th>\n",
       "      <th>message</th>\n",
       "      <th>sender</th>\n",
       "    </tr>\n",
       "  </thead>\n",
       "  <tbody>\n",
       "    <tr>\n",
       "      <th>216143</th>\n",
       "      <td>kaminski-v/discussion_threads/3550.</td>\n",
       "      <td>Message-ID: &lt;22871989.1075856414327.JavaMail.e...</td>\n",
       "      <td>kaminski-v</td>\n",
       "    </tr>\n",
       "    <tr>\n",
       "      <th>215361</th>\n",
       "      <td>kaminski-v/discussion_threads/2802.</td>\n",
       "      <td>Message-ID: &lt;1881304.1075856394864.JavaMail.ev...</td>\n",
       "      <td>kaminski-v</td>\n",
       "    </tr>\n",
       "    <tr>\n",
       "      <th>212809</th>\n",
       "      <td>kaminski-v/deleted_items/2473.</td>\n",
       "      <td>Message-ID: &lt;5079441.1075863412096.JavaMail.ev...</td>\n",
       "      <td>kaminski-v</td>\n",
       "    </tr>\n",
       "    <tr>\n",
       "      <th>201267</th>\n",
       "      <td>kaminski-v/_sent_mail/4351.</td>\n",
       "      <td>Message-ID: &lt;317575.1075856996808.JavaMail.eva...</td>\n",
       "      <td>kaminski-v</td>\n",
       "    </tr>\n",
       "    <tr>\n",
       "      <th>207167</th>\n",
       "      <td>kaminski-v/all_documents/4827.</td>\n",
       "      <td>Message-ID: &lt;4950726.1075856301312.JavaMail.ev...</td>\n",
       "      <td>kaminski-v</td>\n",
       "    </tr>\n",
       "    <tr>\n",
       "      <th>...</th>\n",
       "      <td>...</td>\n",
       "      <td>...</td>\n",
       "      <td>...</td>\n",
       "    </tr>\n",
       "    <tr>\n",
       "      <th>78053</th>\n",
       "      <td>dasovich-j/notes_inbox/945.</td>\n",
       "      <td>Message-ID: &lt;1672549.1075843122841.JavaMail.ev...</td>\n",
       "      <td>dasovich-j</td>\n",
       "    </tr>\n",
       "    <tr>\n",
       "      <th>58400</th>\n",
       "      <td>dasovich-j/all_documents/12753.</td>\n",
       "      <td>Message-ID: &lt;8820773.1075843507749.JavaMail.ev...</td>\n",
       "      <td>dasovich-j</td>\n",
       "    </tr>\n",
       "    <tr>\n",
       "      <th>80105</th>\n",
       "      <td>dasovich-j/sent/1197.</td>\n",
       "      <td>Message-ID: &lt;22048154.1075843212965.JavaMail.e...</td>\n",
       "      <td>dasovich-j</td>\n",
       "    </tr>\n",
       "    <tr>\n",
       "      <th>70137</th>\n",
       "      <td>dasovich-j/inbox/585.</td>\n",
       "      <td>Message-ID: &lt;2007772.1075851656981.JavaMail.ev...</td>\n",
       "      <td>dasovich-j</td>\n",
       "    </tr>\n",
       "    <tr>\n",
       "      <th>69754</th>\n",
       "      <td>dasovich-j/inbox/24.</td>\n",
       "      <td>Message-ID: &lt;2044604.1075851636629.JavaMail.ev...</td>\n",
       "      <td>dasovich-j</td>\n",
       "    </tr>\n",
       "  </tbody>\n",
       "</table>\n",
       "<p>545 rows × 3 columns</p>\n",
       "</div>"
      ],
      "text/plain": [
       "                                       file  \\\n",
       "216143  kaminski-v/discussion_threads/3550.   \n",
       "215361  kaminski-v/discussion_threads/2802.   \n",
       "212809       kaminski-v/deleted_items/2473.   \n",
       "201267          kaminski-v/_sent_mail/4351.   \n",
       "207167       kaminski-v/all_documents/4827.   \n",
       "...                                     ...   \n",
       "78053           dasovich-j/notes_inbox/945.   \n",
       "58400       dasovich-j/all_documents/12753.   \n",
       "80105                 dasovich-j/sent/1197.   \n",
       "70137                 dasovich-j/inbox/585.   \n",
       "69754                  dasovich-j/inbox/24.   \n",
       "\n",
       "                                                  message      sender  \n",
       "216143  Message-ID: <22871989.1075856414327.JavaMail.e...  kaminski-v  \n",
       "215361  Message-ID: <1881304.1075856394864.JavaMail.ev...  kaminski-v  \n",
       "212809  Message-ID: <5079441.1075863412096.JavaMail.ev...  kaminski-v  \n",
       "201267  Message-ID: <317575.1075856996808.JavaMail.eva...  kaminski-v  \n",
       "207167  Message-ID: <4950726.1075856301312.JavaMail.ev...  kaminski-v  \n",
       "...                                                   ...         ...  \n",
       "78053   Message-ID: <1672549.1075843122841.JavaMail.ev...  dasovich-j  \n",
       "58400   Message-ID: <8820773.1075843507749.JavaMail.ev...  dasovich-j  \n",
       "80105   Message-ID: <22048154.1075843212965.JavaMail.e...  dasovich-j  \n",
       "70137   Message-ID: <2007772.1075851656981.JavaMail.ev...  dasovich-j  \n",
       "69754   Message-ID: <2044604.1075851636629.JavaMail.ev...  dasovich-j  \n",
       "\n",
       "[545 rows x 3 columns]"
      ]
     },
     "execution_count": 23,
     "metadata": {},
     "output_type": "execute_result"
    }
   ],
   "source": [
    "include_email_1 = df[df['sender'].values == name_a] \n",
    "include_email_2 = df[df['sender'].values == name_b]\n",
    "include_email = include_email_1.append(include_email_2)\n",
    "include_email"
   ]
  },
  {
   "cell_type": "code",
   "execution_count": 24,
   "id": "827ba4ae",
   "metadata": {},
   "outputs": [],
   "source": [
    "# Label encoder"
   ]
  },
  {
   "cell_type": "code",
   "execution_count": 25,
   "id": "506c7514",
   "metadata": {},
   "outputs": [
    {
     "data": {
      "text/html": [
       "<div>\n",
       "<style scoped>\n",
       "    .dataframe tbody tr th:only-of-type {\n",
       "        vertical-align: middle;\n",
       "    }\n",
       "\n",
       "    .dataframe tbody tr th {\n",
       "        vertical-align: top;\n",
       "    }\n",
       "\n",
       "    .dataframe thead th {\n",
       "        text-align: right;\n",
       "    }\n",
       "</style>\n",
       "<table border=\"1\" class=\"dataframe\">\n",
       "  <thead>\n",
       "    <tr style=\"text-align: right;\">\n",
       "      <th></th>\n",
       "      <th>file</th>\n",
       "      <th>message</th>\n",
       "      <th>sender</th>\n",
       "    </tr>\n",
       "  </thead>\n",
       "  <tbody>\n",
       "    <tr>\n",
       "      <th>216143</th>\n",
       "      <td>kaminski-v/discussion_threads/3550.</td>\n",
       "      <td>Message-ID: &lt;22871989.1075856414327.JavaMail.e...</td>\n",
       "      <td>1</td>\n",
       "    </tr>\n",
       "    <tr>\n",
       "      <th>215361</th>\n",
       "      <td>kaminski-v/discussion_threads/2802.</td>\n",
       "      <td>Message-ID: &lt;1881304.1075856394864.JavaMail.ev...</td>\n",
       "      <td>1</td>\n",
       "    </tr>\n",
       "    <tr>\n",
       "      <th>212809</th>\n",
       "      <td>kaminski-v/deleted_items/2473.</td>\n",
       "      <td>Message-ID: &lt;5079441.1075863412096.JavaMail.ev...</td>\n",
       "      <td>1</td>\n",
       "    </tr>\n",
       "    <tr>\n",
       "      <th>201267</th>\n",
       "      <td>kaminski-v/_sent_mail/4351.</td>\n",
       "      <td>Message-ID: &lt;317575.1075856996808.JavaMail.eva...</td>\n",
       "      <td>1</td>\n",
       "    </tr>\n",
       "    <tr>\n",
       "      <th>207167</th>\n",
       "      <td>kaminski-v/all_documents/4827.</td>\n",
       "      <td>Message-ID: &lt;4950726.1075856301312.JavaMail.ev...</td>\n",
       "      <td>1</td>\n",
       "    </tr>\n",
       "    <tr>\n",
       "      <th>...</th>\n",
       "      <td>...</td>\n",
       "      <td>...</td>\n",
       "      <td>...</td>\n",
       "    </tr>\n",
       "    <tr>\n",
       "      <th>78053</th>\n",
       "      <td>dasovich-j/notes_inbox/945.</td>\n",
       "      <td>Message-ID: &lt;1672549.1075843122841.JavaMail.ev...</td>\n",
       "      <td>0</td>\n",
       "    </tr>\n",
       "    <tr>\n",
       "      <th>58400</th>\n",
       "      <td>dasovich-j/all_documents/12753.</td>\n",
       "      <td>Message-ID: &lt;8820773.1075843507749.JavaMail.ev...</td>\n",
       "      <td>0</td>\n",
       "    </tr>\n",
       "    <tr>\n",
       "      <th>80105</th>\n",
       "      <td>dasovich-j/sent/1197.</td>\n",
       "      <td>Message-ID: &lt;22048154.1075843212965.JavaMail.e...</td>\n",
       "      <td>0</td>\n",
       "    </tr>\n",
       "    <tr>\n",
       "      <th>70137</th>\n",
       "      <td>dasovich-j/inbox/585.</td>\n",
       "      <td>Message-ID: &lt;2007772.1075851656981.JavaMail.ev...</td>\n",
       "      <td>0</td>\n",
       "    </tr>\n",
       "    <tr>\n",
       "      <th>69754</th>\n",
       "      <td>dasovich-j/inbox/24.</td>\n",
       "      <td>Message-ID: &lt;2044604.1075851636629.JavaMail.ev...</td>\n",
       "      <td>0</td>\n",
       "    </tr>\n",
       "  </tbody>\n",
       "</table>\n",
       "<p>545 rows × 3 columns</p>\n",
       "</div>"
      ],
      "text/plain": [
       "                                       file  \\\n",
       "216143  kaminski-v/discussion_threads/3550.   \n",
       "215361  kaminski-v/discussion_threads/2802.   \n",
       "212809       kaminski-v/deleted_items/2473.   \n",
       "201267          kaminski-v/_sent_mail/4351.   \n",
       "207167       kaminski-v/all_documents/4827.   \n",
       "...                                     ...   \n",
       "78053           dasovich-j/notes_inbox/945.   \n",
       "58400       dasovich-j/all_documents/12753.   \n",
       "80105                 dasovich-j/sent/1197.   \n",
       "70137                 dasovich-j/inbox/585.   \n",
       "69754                  dasovich-j/inbox/24.   \n",
       "\n",
       "                                                  message  sender  \n",
       "216143  Message-ID: <22871989.1075856414327.JavaMail.e...       1  \n",
       "215361  Message-ID: <1881304.1075856394864.JavaMail.ev...       1  \n",
       "212809  Message-ID: <5079441.1075863412096.JavaMail.ev...       1  \n",
       "201267  Message-ID: <317575.1075856996808.JavaMail.eva...       1  \n",
       "207167  Message-ID: <4950726.1075856301312.JavaMail.ev...       1  \n",
       "...                                                   ...     ...  \n",
       "78053   Message-ID: <1672549.1075843122841.JavaMail.ev...       0  \n",
       "58400   Message-ID: <8820773.1075843507749.JavaMail.ev...       0  \n",
       "80105   Message-ID: <22048154.1075843212965.JavaMail.e...       0  \n",
       "70137   Message-ID: <2007772.1075851656981.JavaMail.ev...       0  \n",
       "69754   Message-ID: <2044604.1075851636629.JavaMail.ev...       0  \n",
       "\n",
       "[545 rows x 3 columns]"
      ]
     },
     "execution_count": 25,
     "metadata": {},
     "output_type": "execute_result"
    }
   ],
   "source": [
    "from sklearn import preprocessing\n",
    "\n",
    "le = preprocessing.LabelEncoder()\n",
    "\n",
    "include_email.sender = le.fit_transform(include_email.sender)\n",
    "include_email"
   ]
  },
  {
   "cell_type": "code",
   "execution_count": 26,
   "id": "c2025e4b",
   "metadata": {},
   "outputs": [],
   "source": [
    "# Analyse"
   ]
  },
  {
   "cell_type": "code",
   "execution_count": 27,
   "id": "b92be6e9",
   "metadata": {},
   "outputs": [
    {
     "data": {
      "text/plain": [
       "1    276\n",
       "0    269\n",
       "Name: sender, dtype: int64"
      ]
     },
     "execution_count": 27,
     "metadata": {},
     "output_type": "execute_result"
    }
   ],
   "source": [
    "include_email['sender'].value_counts()"
   ]
  },
  {
   "cell_type": "code",
   "execution_count": 28,
   "id": "124742fd",
   "metadata": {},
   "outputs": [
    {
     "data": {
      "text/plain": [
       "1    50.642202\n",
       "0    49.357798\n",
       "Name: sender, dtype: float64"
      ]
     },
     "execution_count": 28,
     "metadata": {},
     "output_type": "execute_result"
    }
   ],
   "source": [
    "percentage_email=(include_email.sender.value_counts() / len(include_email.sender)) * 100\n",
    "percentage_email"
   ]
  },
  {
   "cell_type": "code",
   "execution_count": 29,
   "id": "d52f7cf0",
   "metadata": {},
   "outputs": [
    {
     "data": {
      "image/png": "[encoded data removed]",
      "text/plain": [
       "<Figure size 432x288 with 1 Axes>"
      ]
     },
     "metadata": {
      "needs_background": "light"
     },
     "output_type": "display_data"
    }
   ],
   "source": [
    "include_email.groupby('sender').sender.count().plot.bar(ylim=0)\n",
    "plt.show()"
   ]
  },
  {
   "cell_type": "code",
   "execution_count": 30,
   "id": "64f64964",
   "metadata": {},
   "outputs": [],
   "source": [
    "# Preprocessing and get ready for machine learning"
   ]
  },
  {
   "cell_type": "code",
   "execution_count": 31,
   "id": "e5884abe",
   "metadata": {},
   "outputs": [
    {
     "name": "stderr",
     "output_type": "stream",
     "text": [
      "[nltk_data] Downloading package stopwords to\n",
      "[nltk_data]     C:\\Users\\ashis\\AppData\\Roaming\\nltk_data...\n",
      "[nltk_data]   Unzipping corpora\\stopwords.zip.\n"
     ]
    }
   ],
   "source": [
    "import re\n",
    "import nltk\n",
    "nltk.download('stopwords')\n",
    "from nltk.corpus import stopwords\n",
    "from nltk.stem import PorterStemmer\n",
    "\n",
    "stemmer = PorterStemmer()\n",
    "words = stopwords.words(\"english\")\n",
    "\n",
    "include_email['processed_text'] = include_email['message'].apply(lambda x: \" \".join([stemmer.stem(i) \n",
    "for i in re.sub(\"[^a-zA-Z]\", \" \", x).split() if i not in words]).lower())"
   ]
  },
  {
   "cell_type": "code",
   "execution_count": 32,
   "id": "1687e2f7",
   "metadata": {},
   "outputs": [],
   "source": [
    "import string\n",
    "\n",
    "#make all words lower case\n",
    "include_email['processed_text'] = include_email['processed_text'].str.lower()\n",
    "\n",
    "#Remove punctuation\n",
    "#table = str.maketrans('', '', string.punctuation)\n",
    "#include_email['processed_text'] = [include_email['processed_text'][row].translate(table) for row in range(len(include_email['processed_text']))]\n",
    "\n",
    "# remove hash tags\n",
    "include_email['processed_text'] = include_email['processed_text'].str.replace(\"#\", \" \")\n",
    "\n",
    "#remove words less than 1 character\n",
    "include_email['processed_text'] = include_email['processed_text'].apply(lambda x: ' '.join([w for w in x.split() if len(w)>2]))"
   ]
  },
  {
   "cell_type": "code",
   "execution_count": 33,
   "id": "9f60878a",
   "metadata": {},
   "outputs": [],
   "source": [
    "# Remove rare words"
   ]
  },
  {
   "cell_type": "code",
   "execution_count": 34,
   "id": "2aa41b8e",
   "metadata": {},
   "outputs": [],
   "source": [
    "from collections import Counter\n",
    "from itertools import chain\n",
    "\n",
    "# split words into lists\n",
    "v = include_email['processed_text'].str.split().tolist() \n",
    "# compute global word frequency\n",
    "c = Counter(chain.from_iterable(v))\n",
    "# filter, join, and re-assign\n",
    "include_email['processed_text'] = [' '.join([j for j in i if c[j] > 1]) for i in v]"
   ]
  },
  {
   "cell_type": "code",
   "execution_count": 35,
   "id": "15619110",
   "metadata": {},
   "outputs": [],
   "source": [
    "# Define X and y"
   ]
  },
  {
   "cell_type": "code",
   "execution_count": 36,
   "id": "bdb1015d",
   "metadata": {},
   "outputs": [],
   "source": [
    "#define x, y and t_test\n",
    "y = include_email.sender\n",
    "X = include_email['processed_text']"
   ]
  },
  {
   "cell_type": "code",
   "execution_count": 37,
   "id": "c3e4a707",
   "metadata": {},
   "outputs": [],
   "source": [
    "# Split for training and validating"
   ]
  },
  {
   "cell_type": "code",
   "execution_count": 38,
   "id": "4070c6ac",
   "metadata": {},
   "outputs": [
    {
     "data": {
      "text/plain": [
       "((490,), (490,), (55,), (55,))"
      ]
     },
     "execution_count": 38,
     "metadata": {},
     "output_type": "execute_result"
    }
   ],
   "source": [
    "from sklearn.model_selection import train_test_split\n",
    "\n",
    "X_train, X_val, y_train, y_val = train_test_split(X, y, stratify=y, test_size=0.10, random_state=42, shuffle=True)\n",
    "X_train.shape, y_train.shape, X_val.shape, y_val.shape"
   ]
  },
  {
   "cell_type": "code",
   "execution_count": 39,
   "id": "599e9d23",
   "metadata": {},
   "outputs": [],
   "source": [
    "# Vectorise"
   ]
  },
  {
   "cell_type": "code",
   "execution_count": 40,
   "id": "d7ac38e4",
   "metadata": {},
   "outputs": [
    {
     "name": "stdout",
     "output_type": "stream",
     "text": [
      "['aagraw', 'aaldou', 'aamirali', 'aandi', 'aaron']\n"
     ]
    }
   ],
   "source": [
    "from sklearn.feature_extraction.text import TfidfVectorizer\n",
    "\n",
    "vectorizer_tfidf = TfidfVectorizer(stop_words='english', max_df=0.7)\n",
    "train_tfIdf = vectorizer_tfidf.fit_transform(X_train.values.astype('U'))\n",
    "val_tfIdf = vectorizer_tfidf.transform(X_val.values.astype('U'))\n",
    "print(vectorizer_tfidf.get_feature_names()[:5])"
   ]
  },
  {
   "cell_type": "code",
   "execution_count": 41,
   "id": "d062fe25",
   "metadata": {},
   "outputs": [
    {
     "data": {
      "text/plain": [
       "((490, 8341), (55, 8341))"
      ]
     },
     "execution_count": 41,
     "metadata": {},
     "output_type": "execute_result"
    }
   ],
   "source": [
    "train_tfIdf.shape,  val_tfIdf.shape"
   ]
  },
  {
   "cell_type": "code",
   "execution_count": 42,
   "id": "4ea9baa0",
   "metadata": {},
   "outputs": [],
   "source": [
    "# Define and train model"
   ]
  },
  {
   "cell_type": "code",
   "execution_count": 43,
   "id": "62b437f2",
   "metadata": {},
   "outputs": [
    {
     "name": "stdout",
     "output_type": "stream",
     "text": [
      "0.9979591836734694\n"
     ]
    }
   ],
   "source": [
    "from sklearn.naive_bayes import ComplementNB\n",
    "\n",
    "model=ComplementNB().fit(train_tfIdf, y_train)\n",
    "\n",
    "print(model.score(train_tfIdf, y_train))"
   ]
  },
  {
   "cell_type": "code",
   "execution_count": 44,
   "id": "4b578965",
   "metadata": {},
   "outputs": [],
   "source": [
    "# Predict on validation set"
   ]
  },
  {
   "cell_type": "code",
   "execution_count": 45,
   "id": "42bae896",
   "metadata": {},
   "outputs": [
    {
     "name": "stdout",
     "output_type": "stream",
     "text": [
      "0.9636363636363636\n"
     ]
    }
   ],
   "source": [
    "y_pred = model.predict(val_tfIdf)\n",
    "print(model.score(val_tfIdf, y_val))"
   ]
  },
  {
   "cell_type": "code",
   "execution_count": 46,
   "id": "e1f721f0",
   "metadata": {},
   "outputs": [
    {
     "data": {
      "text/html": [
       "<div>\n",
       "<style scoped>\n",
       "    .dataframe tbody tr th:only-of-type {\n",
       "        vertical-align: middle;\n",
       "    }\n",
       "\n",
       "    .dataframe tbody tr th {\n",
       "        vertical-align: top;\n",
       "    }\n",
       "\n",
       "    .dataframe thead th {\n",
       "        text-align: right;\n",
       "    }\n",
       "</style>\n",
       "<table border=\"1\" class=\"dataframe\">\n",
       "  <thead>\n",
       "    <tr style=\"text-align: right;\">\n",
       "      <th></th>\n",
       "      <th>Actual</th>\n",
       "      <th>Predicted</th>\n",
       "    </tr>\n",
       "  </thead>\n",
       "  <tbody>\n",
       "    <tr>\n",
       "      <th>220801</th>\n",
       "      <td>1</td>\n",
       "      <td>1</td>\n",
       "    </tr>\n",
       "    <tr>\n",
       "      <th>64439</th>\n",
       "      <td>0</td>\n",
       "      <td>0</td>\n",
       "    </tr>\n",
       "    <tr>\n",
       "      <th>213023</th>\n",
       "      <td>1</td>\n",
       "      <td>1</td>\n",
       "    </tr>\n",
       "    <tr>\n",
       "      <th>80097</th>\n",
       "      <td>0</td>\n",
       "      <td>0</td>\n",
       "    </tr>\n",
       "    <tr>\n",
       "      <th>209869</th>\n",
       "      <td>1</td>\n",
       "      <td>1</td>\n",
       "    </tr>\n",
       "    <tr>\n",
       "      <th>201835</th>\n",
       "      <td>1</td>\n",
       "      <td>1</td>\n",
       "    </tr>\n",
       "    <tr>\n",
       "      <th>76609</th>\n",
       "      <td>0</td>\n",
       "      <td>1</td>\n",
       "    </tr>\n",
       "    <tr>\n",
       "      <th>56289</th>\n",
       "      <td>0</td>\n",
       "      <td>0</td>\n",
       "    </tr>\n",
       "    <tr>\n",
       "      <th>205886</th>\n",
       "      <td>1</td>\n",
       "      <td>1</td>\n",
       "    </tr>\n",
       "    <tr>\n",
       "      <th>221776</th>\n",
       "      <td>1</td>\n",
       "      <td>1</td>\n",
       "    </tr>\n",
       "    <tr>\n",
       "      <th>58042</th>\n",
       "      <td>0</td>\n",
       "      <td>0</td>\n",
       "    </tr>\n",
       "    <tr>\n",
       "      <th>65705</th>\n",
       "      <td>0</td>\n",
       "      <td>0</td>\n",
       "    </tr>\n",
       "    <tr>\n",
       "      <th>57962</th>\n",
       "      <td>0</td>\n",
       "      <td>0</td>\n",
       "    </tr>\n",
       "    <tr>\n",
       "      <th>199696</th>\n",
       "      <td>1</td>\n",
       "      <td>1</td>\n",
       "    </tr>\n",
       "    <tr>\n",
       "      <th>200741</th>\n",
       "      <td>1</td>\n",
       "      <td>1</td>\n",
       "    </tr>\n",
       "    <tr>\n",
       "      <th>78744</th>\n",
       "      <td>0</td>\n",
       "      <td>0</td>\n",
       "    </tr>\n",
       "    <tr>\n",
       "      <th>74551</th>\n",
       "      <td>0</td>\n",
       "      <td>0</td>\n",
       "    </tr>\n",
       "    <tr>\n",
       "      <th>206276</th>\n",
       "      <td>1</td>\n",
       "      <td>1</td>\n",
       "    </tr>\n",
       "    <tr>\n",
       "      <th>221125</th>\n",
       "      <td>1</td>\n",
       "      <td>1</td>\n",
       "    </tr>\n",
       "    <tr>\n",
       "      <th>211957</th>\n",
       "      <td>1</td>\n",
       "      <td>1</td>\n",
       "    </tr>\n",
       "    <tr>\n",
       "      <th>59306</th>\n",
       "      <td>0</td>\n",
       "      <td>0</td>\n",
       "    </tr>\n",
       "    <tr>\n",
       "      <th>64334</th>\n",
       "      <td>0</td>\n",
       "      <td>0</td>\n",
       "    </tr>\n",
       "    <tr>\n",
       "      <th>203776</th>\n",
       "      <td>1</td>\n",
       "      <td>1</td>\n",
       "    </tr>\n",
       "    <tr>\n",
       "      <th>83206</th>\n",
       "      <td>0</td>\n",
       "      <td>0</td>\n",
       "    </tr>\n",
       "    <tr>\n",
       "      <th>216255</th>\n",
       "      <td>1</td>\n",
       "      <td>1</td>\n",
       "    </tr>\n",
       "    <tr>\n",
       "      <th>201227</th>\n",
       "      <td>1</td>\n",
       "      <td>0</td>\n",
       "    </tr>\n",
       "    <tr>\n",
       "      <th>63186</th>\n",
       "      <td>0</td>\n",
       "      <td>0</td>\n",
       "    </tr>\n",
       "    <tr>\n",
       "      <th>60566</th>\n",
       "      <td>0</td>\n",
       "      <td>0</td>\n",
       "    </tr>\n",
       "    <tr>\n",
       "      <th>81966</th>\n",
       "      <td>0</td>\n",
       "      <td>0</td>\n",
       "    </tr>\n",
       "    <tr>\n",
       "      <th>56221</th>\n",
       "      <td>0</td>\n",
       "      <td>0</td>\n",
       "    </tr>\n",
       "    <tr>\n",
       "      <th>220316</th>\n",
       "      <td>1</td>\n",
       "      <td>1</td>\n",
       "    </tr>\n",
       "    <tr>\n",
       "      <th>200724</th>\n",
       "      <td>1</td>\n",
       "      <td>1</td>\n",
       "    </tr>\n",
       "    <tr>\n",
       "      <th>199151</th>\n",
       "      <td>1</td>\n",
       "      <td>1</td>\n",
       "    </tr>\n",
       "    <tr>\n",
       "      <th>211799</th>\n",
       "      <td>1</td>\n",
       "      <td>1</td>\n",
       "    </tr>\n",
       "    <tr>\n",
       "      <th>209332</th>\n",
       "      <td>1</td>\n",
       "      <td>1</td>\n",
       "    </tr>\n",
       "    <tr>\n",
       "      <th>68682</th>\n",
       "      <td>0</td>\n",
       "      <td>0</td>\n",
       "    </tr>\n",
       "    <tr>\n",
       "      <th>203611</th>\n",
       "      <td>1</td>\n",
       "      <td>1</td>\n",
       "    </tr>\n",
       "    <tr>\n",
       "      <th>68306</th>\n",
       "      <td>0</td>\n",
       "      <td>0</td>\n",
       "    </tr>\n",
       "    <tr>\n",
       "      <th>70898</th>\n",
       "      <td>0</td>\n",
       "      <td>0</td>\n",
       "    </tr>\n",
       "    <tr>\n",
       "      <th>57070</th>\n",
       "      <td>0</td>\n",
       "      <td>0</td>\n",
       "    </tr>\n",
       "    <tr>\n",
       "      <th>220468</th>\n",
       "      <td>1</td>\n",
       "      <td>1</td>\n",
       "    </tr>\n",
       "    <tr>\n",
       "      <th>80665</th>\n",
       "      <td>0</td>\n",
       "      <td>0</td>\n",
       "    </tr>\n",
       "    <tr>\n",
       "      <th>78053</th>\n",
       "      <td>0</td>\n",
       "      <td>0</td>\n",
       "    </tr>\n",
       "    <tr>\n",
       "      <th>207923</th>\n",
       "      <td>1</td>\n",
       "      <td>1</td>\n",
       "    </tr>\n",
       "    <tr>\n",
       "      <th>63958</th>\n",
       "      <td>0</td>\n",
       "      <td>0</td>\n",
       "    </tr>\n",
       "    <tr>\n",
       "      <th>216131</th>\n",
       "      <td>1</td>\n",
       "      <td>1</td>\n",
       "    </tr>\n",
       "    <tr>\n",
       "      <th>206034</th>\n",
       "      <td>1</td>\n",
       "      <td>1</td>\n",
       "    </tr>\n",
       "    <tr>\n",
       "      <th>81764</th>\n",
       "      <td>0</td>\n",
       "      <td>0</td>\n",
       "    </tr>\n",
       "    <tr>\n",
       "      <th>199449</th>\n",
       "      <td>1</td>\n",
       "      <td>1</td>\n",
       "    </tr>\n",
       "    <tr>\n",
       "      <th>201775</th>\n",
       "      <td>1</td>\n",
       "      <td>1</td>\n",
       "    </tr>\n",
       "    <tr>\n",
       "      <th>73192</th>\n",
       "      <td>0</td>\n",
       "      <td>0</td>\n",
       "    </tr>\n",
       "    <tr>\n",
       "      <th>58552</th>\n",
       "      <td>0</td>\n",
       "      <td>0</td>\n",
       "    </tr>\n",
       "    <tr>\n",
       "      <th>219981</th>\n",
       "      <td>1</td>\n",
       "      <td>1</td>\n",
       "    </tr>\n",
       "    <tr>\n",
       "      <th>69754</th>\n",
       "      <td>0</td>\n",
       "      <td>0</td>\n",
       "    </tr>\n",
       "    <tr>\n",
       "      <th>222233</th>\n",
       "      <td>1</td>\n",
       "      <td>1</td>\n",
       "    </tr>\n",
       "  </tbody>\n",
       "</table>\n",
       "</div>"
      ],
      "text/plain": [
       "        Actual  Predicted\n",
       "220801       1          1\n",
       "64439        0          0\n",
       "213023       1          1\n",
       "80097        0          0\n",
       "209869       1          1\n",
       "201835       1          1\n",
       "76609        0          1\n",
       "56289        0          0\n",
       "205886       1          1\n",
       "221776       1          1\n",
       "58042        0          0\n",
       "65705        0          0\n",
       "57962        0          0\n",
       "199696       1          1\n",
       "200741       1          1\n",
       "78744        0          0\n",
       "74551        0          0\n",
       "206276       1          1\n",
       "221125       1          1\n",
       "211957       1          1\n",
       "59306        0          0\n",
       "64334        0          0\n",
       "203776       1          1\n",
       "83206        0          0\n",
       "216255       1          1\n",
       "201227       1          0\n",
       "63186        0          0\n",
       "60566        0          0\n",
       "81966        0          0\n",
       "56221        0          0\n",
       "220316       1          1\n",
       "200724       1          1\n",
       "199151       1          1\n",
       "211799       1          1\n",
       "209332       1          1\n",
       "68682        0          0\n",
       "203611       1          1\n",
       "68306        0          0\n",
       "70898        0          0\n",
       "57070        0          0\n",
       "220468       1          1\n",
       "80665        0          0\n",
       "78053        0          0\n",
       "207923       1          1\n",
       "63958        0          0\n",
       "216131       1          1\n",
       "206034       1          1\n",
       "81764        0          0\n",
       "199449       1          1\n",
       "201775       1          1\n",
       "73192        0          0\n",
       "58552        0          0\n",
       "219981       1          1\n",
       "69754        0          0\n",
       "222233       1          1"
      ]
     },
     "execution_count": 46,
     "metadata": {},
     "output_type": "execute_result"
    }
   ],
   "source": [
    "df = pd.DataFrame({'Actual': y_val, 'Predicted':y_pred})\n",
    "df"
   ]
  },
  {
   "cell_type": "code",
   "execution_count": 47,
   "id": "20d0220e",
   "metadata": {},
   "outputs": [],
   "source": [
    "# Evaluate"
   ]
  },
  {
   "cell_type": "code",
   "execution_count": 48,
   "id": "cecaf657",
   "metadata": {},
   "outputs": [
    {
     "data": {
      "text/plain": [
       "array([[26,  1],\n",
       "       [ 1, 27]], dtype=int64)"
      ]
     },
     "execution_count": 48,
     "metadata": {},
     "output_type": "execute_result"
    }
   ],
   "source": [
    "from sklearn.metrics import confusion_matrix\n",
    "\n",
    "confusion_matrix(y_val, y_pred)"
   ]
  },
  {
   "cell_type": "code",
   "execution_count": 49,
   "id": "93cfc792",
   "metadata": {},
   "outputs": [
    {
     "name": "stdout",
     "output_type": "stream",
     "text": [
      "              precision    recall  f1-score   support\n",
      "\n",
      "           0       0.96      0.96      0.96        27\n",
      "           1       0.96      0.96      0.96        28\n",
      "\n",
      "    accuracy                           0.96        55\n",
      "   macro avg       0.96      0.96      0.96        55\n",
      "weighted avg       0.96      0.96      0.96        55\n",
      "\n"
     ]
    }
   ],
   "source": [
    "from sklearn.metrics import classification_report\n",
    "\n",
    "print(classification_report(y_val, y_pred))"
   ]
  },
  {
   "cell_type": "code",
   "execution_count": null,
   "id": "28c28e33",
   "metadata": {},
   "outputs": [],
   "source": [
    "# hence we can see that the accuracy we scored is overall good and above 95% and has no problem with precision and our model is ready. "
   ]
  }
 ],
 "metadata": {
  "kernelspec": {
   "display_name": "Python 3",
   "language": "python",
   "name": "python3"
  },
  "language_info": {
   "codemirror_mode": {
    "name": "ipython",
    "version": 3
   },
   "file_extension": ".py",
   "mimetype": "text/x-python",
   "name": "python",
   "nbconvert_exporter": "python",
   "pygments_lexer": "ipython3",
   "version": "3.8.8"
  }
 },
 "nbformat": 4,
 "nbformat_minor": 5
}
