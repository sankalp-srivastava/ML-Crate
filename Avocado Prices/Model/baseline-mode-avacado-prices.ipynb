{
 "cells": [
  {
   "cell_type": "code",
   "execution_count": 1,
   "id": "42742c60",
   "metadata": {
    "_cell_guid": "b1076dfc-b9ad-4769-8c92-a6c4dae69d19",
    "_uuid": "8f2839f25d086af736a60e9eeb907d3b93b6e0e5",
    "execution": {
     "iopub.execute_input": "2022-01-06T09:27:26.197792Z",
     "iopub.status.busy": "2022-01-06T09:27:26.196464Z",
     "iopub.status.idle": "2022-01-06T09:27:27.257128Z",
     "shell.execute_reply": "2022-01-06T09:27:27.256412Z",
     "shell.execute_reply.started": "2022-01-06T09:10:11.374536Z"
    },
    "papermill": {
     "duration": 1.088029,
     "end_time": "2022-01-06T09:27:27.257322",
     "exception": false,
     "start_time": "2022-01-06T09:27:26.169293",
     "status": "completed"
    },
    "tags": []
   },
   "outputs": [],
   "source": [
    "import numpy as np\n",
    "import pandas as pd\n",
    "from sklearn import preprocessing\n",
    "from sklearn.metrics import mean_squared_error as mse\n",
    "import matplotlib.pyplot as plt"
   ]
  },
  {
   "cell_type": "markdown",
   "id": "a097e286",
   "metadata": {
    "papermill": {
     "duration": 0.0214,
     "end_time": "2022-01-06T09:27:27.302399",
     "exception": false,
     "start_time": "2022-01-06T09:27:27.280999",
     "status": "completed"
    },
    "tags": []
   },
   "source": [
    "## Importing Dataset"
   ]
  },
  {
   "cell_type": "code",
   "execution_count": 2,
   "id": "42fa4108",
   "metadata": {
    "execution": {
     "iopub.execute_input": "2022-01-06T09:27:27.352037Z",
     "iopub.status.busy": "2022-01-06T09:27:27.351194Z",
     "iopub.status.idle": "2022-01-06T09:27:27.419550Z",
     "shell.execute_reply": "2022-01-06T09:27:27.420027Z",
     "shell.execute_reply.started": "2022-01-06T09:03:11.929595Z"
    },
    "papermill": {
     "duration": 0.096013,
     "end_time": "2022-01-06T09:27:27.420214",
     "exception": false,
     "start_time": "2022-01-06T09:27:27.324201",
     "status": "completed"
    },
    "tags": []
   },
   "outputs": [],
   "source": [
    "train = pd.read_csv(\"../input/eda-avocado-prices/Filtered_dataset.csv\")"
   ]
  },
  {
   "cell_type": "code",
   "execution_count": 3,
   "id": "9210d481",
   "metadata": {
    "execution": {
     "iopub.execute_input": "2022-01-06T09:27:27.467287Z",
     "iopub.status.busy": "2022-01-06T09:27:27.466691Z",
     "iopub.status.idle": "2022-01-06T09:27:27.515858Z",
     "shell.execute_reply": "2022-01-06T09:27:27.516351Z",
     "shell.execute_reply.started": "2022-01-06T09:03:41.267680Z"
    },
    "papermill": {
     "duration": 0.074525,
     "end_time": "2022-01-06T09:27:27.516540",
     "exception": false,
     "start_time": "2022-01-06T09:27:27.442015",
     "status": "completed"
    },
    "tags": []
   },
   "outputs": [
    {
     "data": {
      "text/html": [
       "<div>\n",
       "<style scoped>\n",
       "    .dataframe tbody tr th:only-of-type {\n",
       "        vertical-align: middle;\n",
       "    }\n",
       "\n",
       "    .dataframe tbody tr th {\n",
       "        vertical-align: top;\n",
       "    }\n",
       "\n",
       "    .dataframe thead th {\n",
       "        text-align: right;\n",
       "    }\n",
       "</style>\n",
       "<table border=\"1\" class=\"dataframe\">\n",
       "  <thead>\n",
       "    <tr style=\"text-align: right;\">\n",
       "      <th></th>\n",
       "      <th>Date</th>\n",
       "      <th>AveragePrice</th>\n",
       "      <th>Total Volume</th>\n",
       "      <th>4046</th>\n",
       "      <th>4225</th>\n",
       "      <th>4770</th>\n",
       "      <th>Total Bags</th>\n",
       "      <th>Small Bags</th>\n",
       "      <th>Large Bags</th>\n",
       "      <th>XLarge Bags</th>\n",
       "      <th>type</th>\n",
       "      <th>year</th>\n",
       "      <th>region</th>\n",
       "      <th>month</th>\n",
       "      <th>week</th>\n",
       "      <th>price_types</th>\n",
       "    </tr>\n",
       "  </thead>\n",
       "  <tbody>\n",
       "    <tr>\n",
       "      <th>0</th>\n",
       "      <td>2015-12-27</td>\n",
       "      <td>1.33</td>\n",
       "      <td>64236.62</td>\n",
       "      <td>1036.74</td>\n",
       "      <td>54454.85</td>\n",
       "      <td>48.16</td>\n",
       "      <td>8696.87</td>\n",
       "      <td>8603.62</td>\n",
       "      <td>93.25</td>\n",
       "      <td>0.0</td>\n",
       "      <td>conventional</td>\n",
       "      <td>2015</td>\n",
       "      <td>Albany</td>\n",
       "      <td>2015-12-01</td>\n",
       "      <td>2015-12-24</td>\n",
       "      <td>low</td>\n",
       "    </tr>\n",
       "    <tr>\n",
       "      <th>1</th>\n",
       "      <td>2015-12-20</td>\n",
       "      <td>1.35</td>\n",
       "      <td>54876.98</td>\n",
       "      <td>674.28</td>\n",
       "      <td>44638.81</td>\n",
       "      <td>58.33</td>\n",
       "      <td>9505.56</td>\n",
       "      <td>9408.07</td>\n",
       "      <td>97.49</td>\n",
       "      <td>0.0</td>\n",
       "      <td>conventional</td>\n",
       "      <td>2015</td>\n",
       "      <td>Albany</td>\n",
       "      <td>2015-12-01</td>\n",
       "      <td>2015-12-17</td>\n",
       "      <td>low</td>\n",
       "    </tr>\n",
       "    <tr>\n",
       "      <th>2</th>\n",
       "      <td>2015-12-13</td>\n",
       "      <td>0.93</td>\n",
       "      <td>118220.22</td>\n",
       "      <td>794.70</td>\n",
       "      <td>109149.67</td>\n",
       "      <td>130.50</td>\n",
       "      <td>8145.35</td>\n",
       "      <td>8042.21</td>\n",
       "      <td>103.14</td>\n",
       "      <td>0.0</td>\n",
       "      <td>conventional</td>\n",
       "      <td>2015</td>\n",
       "      <td>Albany</td>\n",
       "      <td>2015-12-01</td>\n",
       "      <td>2015-12-10</td>\n",
       "      <td>low</td>\n",
       "    </tr>\n",
       "    <tr>\n",
       "      <th>3</th>\n",
       "      <td>2015-12-06</td>\n",
       "      <td>1.08</td>\n",
       "      <td>78992.15</td>\n",
       "      <td>1132.00</td>\n",
       "      <td>71976.41</td>\n",
       "      <td>72.58</td>\n",
       "      <td>5811.16</td>\n",
       "      <td>5677.40</td>\n",
       "      <td>133.76</td>\n",
       "      <td>0.0</td>\n",
       "      <td>conventional</td>\n",
       "      <td>2015</td>\n",
       "      <td>Albany</td>\n",
       "      <td>2015-12-01</td>\n",
       "      <td>2015-12-03</td>\n",
       "      <td>low</td>\n",
       "    </tr>\n",
       "    <tr>\n",
       "      <th>4</th>\n",
       "      <td>2015-11-29</td>\n",
       "      <td>1.28</td>\n",
       "      <td>51039.60</td>\n",
       "      <td>941.48</td>\n",
       "      <td>43838.39</td>\n",
       "      <td>75.78</td>\n",
       "      <td>6183.95</td>\n",
       "      <td>5986.26</td>\n",
       "      <td>197.69</td>\n",
       "      <td>0.0</td>\n",
       "      <td>conventional</td>\n",
       "      <td>2015</td>\n",
       "      <td>Albany</td>\n",
       "      <td>2015-11-01</td>\n",
       "      <td>2015-11-26</td>\n",
       "      <td>low</td>\n",
       "    </tr>\n",
       "    <tr>\n",
       "      <th>...</th>\n",
       "      <td>...</td>\n",
       "      <td>...</td>\n",
       "      <td>...</td>\n",
       "      <td>...</td>\n",
       "      <td>...</td>\n",
       "      <td>...</td>\n",
       "      <td>...</td>\n",
       "      <td>...</td>\n",
       "      <td>...</td>\n",
       "      <td>...</td>\n",
       "      <td>...</td>\n",
       "      <td>...</td>\n",
       "      <td>...</td>\n",
       "      <td>...</td>\n",
       "      <td>...</td>\n",
       "      <td>...</td>\n",
       "    </tr>\n",
       "    <tr>\n",
       "      <th>11533</th>\n",
       "      <td>2018-02-04</td>\n",
       "      <td>1.63</td>\n",
       "      <td>17074.83</td>\n",
       "      <td>2046.96</td>\n",
       "      <td>1529.20</td>\n",
       "      <td>0.00</td>\n",
       "      <td>13498.67</td>\n",
       "      <td>13066.82</td>\n",
       "      <td>431.85</td>\n",
       "      <td>0.0</td>\n",
       "      <td>organic</td>\n",
       "      <td>2018</td>\n",
       "      <td>WestTexNewMexico</td>\n",
       "      <td>2018-02-01</td>\n",
       "      <td>2018-02-01</td>\n",
       "      <td>mean</td>\n",
       "    </tr>\n",
       "    <tr>\n",
       "      <th>11534</th>\n",
       "      <td>2018-01-28</td>\n",
       "      <td>1.71</td>\n",
       "      <td>13888.04</td>\n",
       "      <td>1191.70</td>\n",
       "      <td>3431.50</td>\n",
       "      <td>0.00</td>\n",
       "      <td>9264.84</td>\n",
       "      <td>8940.04</td>\n",
       "      <td>324.80</td>\n",
       "      <td>0.0</td>\n",
       "      <td>organic</td>\n",
       "      <td>2018</td>\n",
       "      <td>WestTexNewMexico</td>\n",
       "      <td>2018-01-01</td>\n",
       "      <td>2018-01-25</td>\n",
       "      <td>mean</td>\n",
       "    </tr>\n",
       "    <tr>\n",
       "      <th>11535</th>\n",
       "      <td>2018-01-21</td>\n",
       "      <td>1.87</td>\n",
       "      <td>13766.76</td>\n",
       "      <td>1191.92</td>\n",
       "      <td>2452.79</td>\n",
       "      <td>727.94</td>\n",
       "      <td>9394.11</td>\n",
       "      <td>9351.80</td>\n",
       "      <td>42.31</td>\n",
       "      <td>0.0</td>\n",
       "      <td>organic</td>\n",
       "      <td>2018</td>\n",
       "      <td>WestTexNewMexico</td>\n",
       "      <td>2018-01-01</td>\n",
       "      <td>2018-01-18</td>\n",
       "      <td>high</td>\n",
       "    </tr>\n",
       "    <tr>\n",
       "      <th>11536</th>\n",
       "      <td>2018-01-14</td>\n",
       "      <td>1.93</td>\n",
       "      <td>16205.22</td>\n",
       "      <td>1527.63</td>\n",
       "      <td>2981.04</td>\n",
       "      <td>727.01</td>\n",
       "      <td>10969.54</td>\n",
       "      <td>10919.54</td>\n",
       "      <td>50.00</td>\n",
       "      <td>0.0</td>\n",
       "      <td>organic</td>\n",
       "      <td>2018</td>\n",
       "      <td>WestTexNewMexico</td>\n",
       "      <td>2018-01-01</td>\n",
       "      <td>2018-01-11</td>\n",
       "      <td>expensive</td>\n",
       "    </tr>\n",
       "    <tr>\n",
       "      <th>11537</th>\n",
       "      <td>2018-01-07</td>\n",
       "      <td>1.62</td>\n",
       "      <td>17489.58</td>\n",
       "      <td>2894.77</td>\n",
       "      <td>2356.13</td>\n",
       "      <td>224.53</td>\n",
       "      <td>12014.15</td>\n",
       "      <td>11988.14</td>\n",
       "      <td>26.01</td>\n",
       "      <td>0.0</td>\n",
       "      <td>organic</td>\n",
       "      <td>2018</td>\n",
       "      <td>WestTexNewMexico</td>\n",
       "      <td>2018-01-01</td>\n",
       "      <td>2018-01-04</td>\n",
       "      <td>mean</td>\n",
       "    </tr>\n",
       "  </tbody>\n",
       "</table>\n",
       "<p>11538 rows × 16 columns</p>\n",
       "</div>"
      ],
      "text/plain": [
       "             Date  AveragePrice  Total Volume     4046       4225    4770  \\\n",
       "0      2015-12-27          1.33      64236.62  1036.74   54454.85   48.16   \n",
       "1      2015-12-20          1.35      54876.98   674.28   44638.81   58.33   \n",
       "2      2015-12-13          0.93     118220.22   794.70  109149.67  130.50   \n",
       "3      2015-12-06          1.08      78992.15  1132.00   71976.41   72.58   \n",
       "4      2015-11-29          1.28      51039.60   941.48   43838.39   75.78   \n",
       "...           ...           ...           ...      ...        ...     ...   \n",
       "11533  2018-02-04          1.63      17074.83  2046.96    1529.20    0.00   \n",
       "11534  2018-01-28          1.71      13888.04  1191.70    3431.50    0.00   \n",
       "11535  2018-01-21          1.87      13766.76  1191.92    2452.79  727.94   \n",
       "11536  2018-01-14          1.93      16205.22  1527.63    2981.04  727.01   \n",
       "11537  2018-01-07          1.62      17489.58  2894.77    2356.13  224.53   \n",
       "\n",
       "       Total Bags  Small Bags  Large Bags  XLarge Bags          type  year  \\\n",
       "0         8696.87     8603.62       93.25          0.0  conventional  2015   \n",
       "1         9505.56     9408.07       97.49          0.0  conventional  2015   \n",
       "2         8145.35     8042.21      103.14          0.0  conventional  2015   \n",
       "3         5811.16     5677.40      133.76          0.0  conventional  2015   \n",
       "4         6183.95     5986.26      197.69          0.0  conventional  2015   \n",
       "...           ...         ...         ...          ...           ...   ...   \n",
       "11533    13498.67    13066.82      431.85          0.0       organic  2018   \n",
       "11534     9264.84     8940.04      324.80          0.0       organic  2018   \n",
       "11535     9394.11     9351.80       42.31          0.0       organic  2018   \n",
       "11536    10969.54    10919.54       50.00          0.0       organic  2018   \n",
       "11537    12014.15    11988.14       26.01          0.0       organic  2018   \n",
       "\n",
       "                 region       month        week price_types  \n",
       "0                Albany  2015-12-01  2015-12-24         low  \n",
       "1                Albany  2015-12-01  2015-12-17         low  \n",
       "2                Albany  2015-12-01  2015-12-10         low  \n",
       "3                Albany  2015-12-01  2015-12-03         low  \n",
       "4                Albany  2015-11-01  2015-11-26         low  \n",
       "...                 ...         ...         ...         ...  \n",
       "11533  WestTexNewMexico  2018-02-01  2018-02-01        mean  \n",
       "11534  WestTexNewMexico  2018-01-01  2018-01-25        mean  \n",
       "11535  WestTexNewMexico  2018-01-01  2018-01-18        high  \n",
       "11536  WestTexNewMexico  2018-01-01  2018-01-11   expensive  \n",
       "11537  WestTexNewMexico  2018-01-01  2018-01-04        mean  \n",
       "\n",
       "[11538 rows x 16 columns]"
      ]
     },
     "execution_count": 3,
     "metadata": {},
     "output_type": "execute_result"
    }
   ],
   "source": [
    "train.drop(['Unnamed: 0'],axis=1,inplace=True)\n",
    "train"
   ]
  },
  {
   "cell_type": "code",
   "execution_count": 4,
   "id": "45b7bb3a",
   "metadata": {
    "execution": {
     "iopub.execute_input": "2022-01-06T09:27:27.566313Z",
     "iopub.status.busy": "2022-01-06T09:27:27.565696Z",
     "iopub.status.idle": "2022-01-06T09:27:27.574705Z",
     "shell.execute_reply": "2022-01-06T09:27:27.574090Z",
     "shell.execute_reply.started": "2022-01-06T09:04:26.497228Z"
    },
    "papermill": {
     "duration": 0.03496,
     "end_time": "2022-01-06T09:27:27.574844",
     "exception": false,
     "start_time": "2022-01-06T09:27:27.539884",
     "status": "completed"
    },
    "tags": []
   },
   "outputs": [],
   "source": [
    "x = train.drop(['Date','AveragePrice'],axis=1)\n",
    "y = train['AveragePrice']"
   ]
  },
  {
   "cell_type": "code",
   "execution_count": 5,
   "id": "917a7550",
   "metadata": {
    "execution": {
     "iopub.execute_input": "2022-01-06T09:27:27.627101Z",
     "iopub.status.busy": "2022-01-06T09:27:27.626393Z",
     "iopub.status.idle": "2022-01-06T09:27:27.673451Z",
     "shell.execute_reply": "2022-01-06T09:27:27.672924Z",
     "shell.execute_reply.started": "2022-01-06T09:05:30.355659Z"
    },
    "papermill": {
     "duration": 0.076129,
     "end_time": "2022-01-06T09:27:27.673606",
     "exception": false,
     "start_time": "2022-01-06T09:27:27.597477",
     "status": "completed"
    },
    "tags": []
   },
   "outputs": [
    {
     "data": {
      "text/html": [
       "<div>\n",
       "<style scoped>\n",
       "    .dataframe tbody tr th:only-of-type {\n",
       "        vertical-align: middle;\n",
       "    }\n",
       "\n",
       "    .dataframe tbody tr th {\n",
       "        vertical-align: top;\n",
       "    }\n",
       "\n",
       "    .dataframe thead th {\n",
       "        text-align: right;\n",
       "    }\n",
       "</style>\n",
       "<table border=\"1\" class=\"dataframe\">\n",
       "  <thead>\n",
       "    <tr style=\"text-align: right;\">\n",
       "      <th></th>\n",
       "      <th>Total Volume</th>\n",
       "      <th>4046</th>\n",
       "      <th>4225</th>\n",
       "      <th>4770</th>\n",
       "      <th>Total Bags</th>\n",
       "      <th>Small Bags</th>\n",
       "      <th>Large Bags</th>\n",
       "      <th>XLarge Bags</th>\n",
       "      <th>type</th>\n",
       "      <th>year</th>\n",
       "      <th>region</th>\n",
       "      <th>month</th>\n",
       "      <th>week</th>\n",
       "      <th>price_types</th>\n",
       "    </tr>\n",
       "  </thead>\n",
       "  <tbody>\n",
       "    <tr>\n",
       "      <th>0</th>\n",
       "      <td>64236.62</td>\n",
       "      <td>1036.74</td>\n",
       "      <td>54454.85</td>\n",
       "      <td>48.16</td>\n",
       "      <td>8696.87</td>\n",
       "      <td>8603.62</td>\n",
       "      <td>93.25</td>\n",
       "      <td>0.0</td>\n",
       "      <td>0</td>\n",
       "      <td>2015</td>\n",
       "      <td>0</td>\n",
       "      <td>11</td>\n",
       "      <td>51</td>\n",
       "      <td>2</td>\n",
       "    </tr>\n",
       "    <tr>\n",
       "      <th>1</th>\n",
       "      <td>54876.98</td>\n",
       "      <td>674.28</td>\n",
       "      <td>44638.81</td>\n",
       "      <td>58.33</td>\n",
       "      <td>9505.56</td>\n",
       "      <td>9408.07</td>\n",
       "      <td>97.49</td>\n",
       "      <td>0.0</td>\n",
       "      <td>0</td>\n",
       "      <td>2015</td>\n",
       "      <td>0</td>\n",
       "      <td>11</td>\n",
       "      <td>50</td>\n",
       "      <td>2</td>\n",
       "    </tr>\n",
       "    <tr>\n",
       "      <th>2</th>\n",
       "      <td>118220.22</td>\n",
       "      <td>794.70</td>\n",
       "      <td>109149.67</td>\n",
       "      <td>130.50</td>\n",
       "      <td>8145.35</td>\n",
       "      <td>8042.21</td>\n",
       "      <td>103.14</td>\n",
       "      <td>0.0</td>\n",
       "      <td>0</td>\n",
       "      <td>2015</td>\n",
       "      <td>0</td>\n",
       "      <td>11</td>\n",
       "      <td>49</td>\n",
       "      <td>2</td>\n",
       "    </tr>\n",
       "    <tr>\n",
       "      <th>3</th>\n",
       "      <td>78992.15</td>\n",
       "      <td>1132.00</td>\n",
       "      <td>71976.41</td>\n",
       "      <td>72.58</td>\n",
       "      <td>5811.16</td>\n",
       "      <td>5677.40</td>\n",
       "      <td>133.76</td>\n",
       "      <td>0.0</td>\n",
       "      <td>0</td>\n",
       "      <td>2015</td>\n",
       "      <td>0</td>\n",
       "      <td>11</td>\n",
       "      <td>48</td>\n",
       "      <td>2</td>\n",
       "    </tr>\n",
       "    <tr>\n",
       "      <th>4</th>\n",
       "      <td>51039.60</td>\n",
       "      <td>941.48</td>\n",
       "      <td>43838.39</td>\n",
       "      <td>75.78</td>\n",
       "      <td>6183.95</td>\n",
       "      <td>5986.26</td>\n",
       "      <td>197.69</td>\n",
       "      <td>0.0</td>\n",
       "      <td>0</td>\n",
       "      <td>2015</td>\n",
       "      <td>0</td>\n",
       "      <td>10</td>\n",
       "      <td>47</td>\n",
       "      <td>2</td>\n",
       "    </tr>\n",
       "    <tr>\n",
       "      <th>...</th>\n",
       "      <td>...</td>\n",
       "      <td>...</td>\n",
       "      <td>...</td>\n",
       "      <td>...</td>\n",
       "      <td>...</td>\n",
       "      <td>...</td>\n",
       "      <td>...</td>\n",
       "      <td>...</td>\n",
       "      <td>...</td>\n",
       "      <td>...</td>\n",
       "      <td>...</td>\n",
       "      <td>...</td>\n",
       "      <td>...</td>\n",
       "      <td>...</td>\n",
       "    </tr>\n",
       "    <tr>\n",
       "      <th>11533</th>\n",
       "      <td>17074.83</td>\n",
       "      <td>2046.96</td>\n",
       "      <td>1529.20</td>\n",
       "      <td>0.00</td>\n",
       "      <td>13498.67</td>\n",
       "      <td>13066.82</td>\n",
       "      <td>431.85</td>\n",
       "      <td>0.0</td>\n",
       "      <td>1</td>\n",
       "      <td>2018</td>\n",
       "      <td>53</td>\n",
       "      <td>37</td>\n",
       "      <td>161</td>\n",
       "      <td>3</td>\n",
       "    </tr>\n",
       "    <tr>\n",
       "      <th>11534</th>\n",
       "      <td>13888.04</td>\n",
       "      <td>1191.70</td>\n",
       "      <td>3431.50</td>\n",
       "      <td>0.00</td>\n",
       "      <td>9264.84</td>\n",
       "      <td>8940.04</td>\n",
       "      <td>324.80</td>\n",
       "      <td>0.0</td>\n",
       "      <td>1</td>\n",
       "      <td>2018</td>\n",
       "      <td>53</td>\n",
       "      <td>36</td>\n",
       "      <td>160</td>\n",
       "      <td>3</td>\n",
       "    </tr>\n",
       "    <tr>\n",
       "      <th>11535</th>\n",
       "      <td>13766.76</td>\n",
       "      <td>1191.92</td>\n",
       "      <td>2452.79</td>\n",
       "      <td>727.94</td>\n",
       "      <td>9394.11</td>\n",
       "      <td>9351.80</td>\n",
       "      <td>42.31</td>\n",
       "      <td>0.0</td>\n",
       "      <td>1</td>\n",
       "      <td>2018</td>\n",
       "      <td>53</td>\n",
       "      <td>36</td>\n",
       "      <td>159</td>\n",
       "      <td>1</td>\n",
       "    </tr>\n",
       "    <tr>\n",
       "      <th>11536</th>\n",
       "      <td>16205.22</td>\n",
       "      <td>1527.63</td>\n",
       "      <td>2981.04</td>\n",
       "      <td>727.01</td>\n",
       "      <td>10969.54</td>\n",
       "      <td>10919.54</td>\n",
       "      <td>50.00</td>\n",
       "      <td>0.0</td>\n",
       "      <td>1</td>\n",
       "      <td>2018</td>\n",
       "      <td>53</td>\n",
       "      <td>36</td>\n",
       "      <td>158</td>\n",
       "      <td>0</td>\n",
       "    </tr>\n",
       "    <tr>\n",
       "      <th>11537</th>\n",
       "      <td>17489.58</td>\n",
       "      <td>2894.77</td>\n",
       "      <td>2356.13</td>\n",
       "      <td>224.53</td>\n",
       "      <td>12014.15</td>\n",
       "      <td>11988.14</td>\n",
       "      <td>26.01</td>\n",
       "      <td>0.0</td>\n",
       "      <td>1</td>\n",
       "      <td>2018</td>\n",
       "      <td>53</td>\n",
       "      <td>36</td>\n",
       "      <td>157</td>\n",
       "      <td>3</td>\n",
       "    </tr>\n",
       "  </tbody>\n",
       "</table>\n",
       "<p>11538 rows × 14 columns</p>\n",
       "</div>"
      ],
      "text/plain": [
       "       Total Volume     4046       4225    4770  Total Bags  Small Bags  \\\n",
       "0          64236.62  1036.74   54454.85   48.16     8696.87     8603.62   \n",
       "1          54876.98   674.28   44638.81   58.33     9505.56     9408.07   \n",
       "2         118220.22   794.70  109149.67  130.50     8145.35     8042.21   \n",
       "3          78992.15  1132.00   71976.41   72.58     5811.16     5677.40   \n",
       "4          51039.60   941.48   43838.39   75.78     6183.95     5986.26   \n",
       "...             ...      ...        ...     ...         ...         ...   \n",
       "11533      17074.83  2046.96    1529.20    0.00    13498.67    13066.82   \n",
       "11534      13888.04  1191.70    3431.50    0.00     9264.84     8940.04   \n",
       "11535      13766.76  1191.92    2452.79  727.94     9394.11     9351.80   \n",
       "11536      16205.22  1527.63    2981.04  727.01    10969.54    10919.54   \n",
       "11537      17489.58  2894.77    2356.13  224.53    12014.15    11988.14   \n",
       "\n",
       "       Large Bags  XLarge Bags  type  year  region  month  week  price_types  \n",
       "0           93.25          0.0     0  2015       0     11    51            2  \n",
       "1           97.49          0.0     0  2015       0     11    50            2  \n",
       "2          103.14          0.0     0  2015       0     11    49            2  \n",
       "3          133.76          0.0     0  2015       0     11    48            2  \n",
       "4          197.69          0.0     0  2015       0     10    47            2  \n",
       "...           ...          ...   ...   ...     ...    ...   ...          ...  \n",
       "11533      431.85          0.0     1  2018      53     37   161            3  \n",
       "11534      324.80          0.0     1  2018      53     36   160            3  \n",
       "11535       42.31          0.0     1  2018      53     36   159            1  \n",
       "11536       50.00          0.0     1  2018      53     36   158            0  \n",
       "11537       26.01          0.0     1  2018      53     36   157            3  \n",
       "\n",
       "[11538 rows x 14 columns]"
      ]
     },
     "execution_count": 5,
     "metadata": {},
     "output_type": "execute_result"
    }
   ],
   "source": [
    "le = preprocessing.LabelEncoder()\n",
    "for i in x.columns:\n",
    "    if x[i].dtype == 'object':\n",
    "        x[i] = le.fit_transform(x[i].astype(str))\n",
    "x"
   ]
  },
  {
   "cell_type": "code",
   "execution_count": 6,
   "id": "39b8e98b",
   "metadata": {
    "execution": {
     "iopub.execute_input": "2022-01-06T09:27:27.728021Z",
     "iopub.status.busy": "2022-01-06T09:27:27.727316Z",
     "iopub.status.idle": "2022-01-06T09:27:27.738448Z",
     "shell.execute_reply": "2022-01-06T09:27:27.737902Z",
     "shell.execute_reply.started": "2022-01-06T09:05:37.660098Z"
    },
    "papermill": {
     "duration": 0.041626,
     "end_time": "2022-01-06T09:27:27.738617",
     "exception": false,
     "start_time": "2022-01-06T09:27:27.696991",
     "status": "completed"
    },
    "tags": []
   },
   "outputs": [],
   "source": [
    "from sklearn.preprocessing import StandardScaler\n",
    "scaler = StandardScaler()\n",
    "x = scaler.fit_transform(x)"
   ]
  },
  {
   "cell_type": "code",
   "execution_count": 7,
   "id": "ae17eba5",
   "metadata": {
    "execution": {
     "iopub.execute_input": "2022-01-06T09:27:27.791874Z",
     "iopub.status.busy": "2022-01-06T09:27:27.791156Z",
     "iopub.status.idle": "2022-01-06T09:27:27.813930Z",
     "shell.execute_reply": "2022-01-06T09:27:27.813295Z",
     "shell.execute_reply.started": "2022-01-06T09:05:56.102451Z"
    },
    "papermill": {
     "duration": 0.051632,
     "end_time": "2022-01-06T09:27:27.814099",
     "exception": false,
     "start_time": "2022-01-06T09:27:27.762467",
     "status": "completed"
    },
    "tags": []
   },
   "outputs": [],
   "source": [
    "# splitting the dataset into train and test dataset with 4:1 ratio (80%-20%)\n",
    "from sklearn.model_selection import train_test_split\n",
    "x_train, x_test, y_train, y_test = train_test_split(x, y, test_size = .2, random_state = 26)"
   ]
  },
  {
   "cell_type": "markdown",
   "id": "265a79fa",
   "metadata": {
    "papermill": {
     "duration": 0.02352,
     "end_time": "2022-01-06T09:27:27.861343",
     "exception": false,
     "start_time": "2022-01-06T09:27:27.837823",
     "status": "completed"
    },
    "tags": []
   },
   "source": [
    "## Training on different algorithms"
   ]
  },
  {
   "cell_type": "markdown",
   "id": "720cd93f",
   "metadata": {
    "papermill": {
     "duration": 0.023648,
     "end_time": "2022-01-06T09:27:27.908691",
     "exception": false,
     "start_time": "2022-01-06T09:27:27.885043",
     "status": "completed"
    },
    "tags": []
   },
   "source": [
    "### Linear Regression"
   ]
  },
  {
   "cell_type": "code",
   "execution_count": 8,
   "id": "8c84b0b1",
   "metadata": {
    "execution": {
     "iopub.execute_input": "2022-01-06T09:27:27.959278Z",
     "iopub.status.busy": "2022-01-06T09:27:27.958622Z",
     "iopub.status.idle": "2022-01-06T09:27:28.066576Z",
     "shell.execute_reply": "2022-01-06T09:27:28.067560Z",
     "shell.execute_reply.started": "2022-01-06T09:10:19.026011Z"
    },
    "papermill": {
     "duration": 0.13553,
     "end_time": "2022-01-06T09:27:28.067899",
     "exception": false,
     "start_time": "2022-01-06T09:27:27.932369",
     "status": "completed"
    },
    "tags": []
   },
   "outputs": [
    {
     "data": {
      "text/plain": [
       "LinearRegression()"
      ]
     },
     "execution_count": 8,
     "metadata": {},
     "output_type": "execute_result"
    }
   ],
   "source": [
    "from sklearn.linear_model import LinearRegression\n",
    "\n",
    "# Create instance of model\n",
    "lreg = LinearRegression()\n",
    "# Pass training data into model\n",
    "lreg.fit(x_train, y_train)"
   ]
  },
  {
   "cell_type": "code",
   "execution_count": 9,
   "id": "3b94eda7",
   "metadata": {
    "execution": {
     "iopub.execute_input": "2022-01-06T09:27:28.167860Z",
     "iopub.status.busy": "2022-01-06T09:27:28.166611Z",
     "iopub.status.idle": "2022-01-06T09:27:28.173380Z",
     "shell.execute_reply": "2022-01-06T09:27:28.174281Z",
     "shell.execute_reply.started": "2022-01-06T09:10:19.317216Z"
    },
    "papermill": {
     "duration": 0.060714,
     "end_time": "2022-01-06T09:27:28.174693",
     "exception": false,
     "start_time": "2022-01-06T09:27:28.113979",
     "status": "completed"
    },
    "tags": []
   },
   "outputs": [],
   "source": [
    "# Getting prediciton on x_test\n",
    "y_pred_lreg = lreg.predict(x_test)"
   ]
  },
  {
   "cell_type": "code",
   "execution_count": 10,
   "id": "c0c0b5b6",
   "metadata": {
    "execution": {
     "iopub.execute_input": "2022-01-06T09:27:28.279174Z",
     "iopub.status.busy": "2022-01-06T09:27:28.277245Z",
     "iopub.status.idle": "2022-01-06T09:27:28.280154Z",
     "shell.execute_reply": "2022-01-06T09:27:28.278192Z",
     "shell.execute_reply.started": "2022-01-06T09:10:21.518213Z"
    },
    "papermill": {
     "duration": 0.057987,
     "end_time": "2022-01-06T09:27:28.280372",
     "exception": false,
     "start_time": "2022-01-06T09:27:28.222385",
     "status": "completed"
    },
    "tags": []
   },
   "outputs": [],
   "source": [
    "def rmse(y,y_pred):\n",
    "    return (np.sqrt(mse(y,y_pred)))"
   ]
  },
  {
   "cell_type": "code",
   "execution_count": 11,
   "id": "c92359ee",
   "metadata": {
    "execution": {
     "iopub.execute_input": "2022-01-06T09:27:28.335717Z",
     "iopub.status.busy": "2022-01-06T09:27:28.335024Z",
     "iopub.status.idle": "2022-01-06T09:27:28.340317Z",
     "shell.execute_reply": "2022-01-06T09:27:28.341018Z",
     "shell.execute_reply.started": "2022-01-06T09:12:45.027383Z"
    },
    "papermill": {
     "duration": 0.034342,
     "end_time": "2022-01-06T09:27:28.341227",
     "exception": false,
     "start_time": "2022-01-06T09:27:28.306885",
     "status": "completed"
    },
    "tags": []
   },
   "outputs": [
    {
     "name": "stdout",
     "output_type": "stream",
     "text": [
      "Linear Regression\n",
      "----------------------------------------------------------------------------------------------------\n",
      "RMSE =  0.2544310852015447\n"
     ]
    }
   ],
   "source": [
    "# Scoring our model\n",
    "print('Linear Regression')\n",
    "# Root mean square error of our model\n",
    "print('--'*50)\n",
    "linreg_error = rmse(y_test, y_pred_lreg)\n",
    "print('RMSE = ', linreg_error)\n"
   ]
  },
  {
   "cell_type": "markdown",
   "id": "848e74fe",
   "metadata": {
    "papermill": {
     "duration": 0.02465,
     "end_time": "2022-01-06T09:27:28.390448",
     "exception": false,
     "start_time": "2022-01-06T09:27:28.365798",
     "status": "completed"
    },
    "tags": []
   },
   "source": [
    "### RBF SUPPORT VECTOR REGRESSOR"
   ]
  },
  {
   "cell_type": "code",
   "execution_count": 12,
   "id": "225ca481",
   "metadata": {
    "execution": {
     "iopub.execute_input": "2022-01-06T09:27:28.444106Z",
     "iopub.status.busy": "2022-01-06T09:27:28.443419Z",
     "iopub.status.idle": "2022-01-06T09:27:31.365828Z",
     "shell.execute_reply": "2022-01-06T09:27:31.365286Z",
     "shell.execute_reply.started": "2022-01-06T09:14:57.741424Z"
    },
    "papermill": {
     "duration": 2.951181,
     "end_time": "2022-01-06T09:27:31.365973",
     "exception": false,
     "start_time": "2022-01-06T09:27:28.414792",
     "status": "completed"
    },
    "tags": []
   },
   "outputs": [
    {
     "name": "stdout",
     "output_type": "stream",
     "text": [
      "CPU times: user 2.77 s, sys: 138 ms, total: 2.91 s\n",
      "Wall time: 2.91 s\n"
     ]
    },
    {
     "data": {
      "text/plain": [
       "SVR()"
      ]
     },
     "execution_count": 12,
     "metadata": {},
     "output_type": "execute_result"
    }
   ],
   "source": [
    "%%time\n",
    "from sklearn.svm import SVR\n",
    "\n",
    "svr = SVR(kernel = 'rbf')\n",
    "\n",
    "# Fit the model on training data\n",
    "svr.fit(x_train, y_train)"
   ]
  },
  {
   "cell_type": "code",
   "execution_count": 13,
   "id": "efe9360c",
   "metadata": {
    "execution": {
     "iopub.execute_input": "2022-01-06T09:27:31.420949Z",
     "iopub.status.busy": "2022-01-06T09:27:31.420269Z",
     "iopub.status.idle": "2022-01-06T09:27:31.626677Z",
     "shell.execute_reply": "2022-01-06T09:27:31.626144Z",
     "shell.execute_reply.started": "2022-01-06T09:15:05.887276Z"
    },
    "papermill": {
     "duration": 0.235673,
     "end_time": "2022-01-06T09:27:31.626825",
     "exception": false,
     "start_time": "2022-01-06T09:27:31.391152",
     "status": "completed"
    },
    "tags": []
   },
   "outputs": [],
   "source": [
    "# Getting the predictions for x_test\n",
    "y_pred_svr = svr.predict(x_test)"
   ]
  },
  {
   "cell_type": "code",
   "execution_count": 14,
   "id": "ae036bcb",
   "metadata": {
    "execution": {
     "iopub.execute_input": "2022-01-06T09:27:31.683286Z",
     "iopub.status.busy": "2022-01-06T09:27:31.682665Z",
     "iopub.status.idle": "2022-01-06T09:27:31.687873Z",
     "shell.execute_reply": "2022-01-06T09:27:31.688317Z",
     "shell.execute_reply.started": "2022-01-06T09:15:41.383028Z"
    },
    "papermill": {
     "duration": 0.0364,
     "end_time": "2022-01-06T09:27:31.688480",
     "exception": false,
     "start_time": "2022-01-06T09:27:31.652080",
     "status": "completed"
    },
    "tags": []
   },
   "outputs": [
    {
     "name": "stdout",
     "output_type": "stream",
     "text": [
      "Support Vector Classifier\n",
      "----------------------------------------------------------------------------------------------------\n",
      "RMSE =  0.12147807507384512\n"
     ]
    }
   ],
   "source": [
    "print('Support Vector Classifier')\n",
    "# Root mean square error of our model\n",
    "print('--'*50)\n",
    "svr_error = rmse(y_test, y_pred_svr)\n",
    "print('RMSE = ', svr_error)"
   ]
  },
  {
   "cell_type": "markdown",
   "id": "06499ebb",
   "metadata": {
    "papermill": {
     "duration": 0.024744,
     "end_time": "2022-01-06T09:27:31.738144",
     "exception": false,
     "start_time": "2022-01-06T09:27:31.713400",
     "status": "completed"
    },
    "tags": []
   },
   "source": [
    "### Decision Tree - Regression"
   ]
  },
  {
   "cell_type": "code",
   "execution_count": 15,
   "id": "dfcf34df",
   "metadata": {
    "execution": {
     "iopub.execute_input": "2022-01-06T09:27:31.794724Z",
     "iopub.status.busy": "2022-01-06T09:27:31.793972Z",
     "iopub.status.idle": "2022-01-06T09:27:32.008780Z",
     "shell.execute_reply": "2022-01-06T09:27:32.009224Z",
     "shell.execute_reply.started": "2022-01-06T09:18:54.487442Z"
    },
    "papermill": {
     "duration": 0.246011,
     "end_time": "2022-01-06T09:27:32.009392",
     "exception": false,
     "start_time": "2022-01-06T09:27:31.763381",
     "status": "completed"
    },
    "tags": []
   },
   "outputs": [
    {
     "name": "stdout",
     "output_type": "stream",
     "text": [
      "CPU times: user 144 ms, sys: 8.8 ms, total: 153 ms\n",
      "Wall time: 209 ms\n"
     ]
    },
    {
     "data": {
      "text/plain": [
       "DecisionTreeRegressor()"
      ]
     },
     "execution_count": 15,
     "metadata": {},
     "output_type": "execute_result"
    }
   ],
   "source": [
    "%%time\n",
    "from sklearn.tree import DecisionTreeRegressor\n",
    "\n",
    "dtr = DecisionTreeRegressor()\n",
    "# Fit new DT on training data\n",
    "dtr.fit(x_train, y_train)"
   ]
  },
  {
   "cell_type": "code",
   "execution_count": 16,
   "id": "1cba1271",
   "metadata": {
    "execution": {
     "iopub.execute_input": "2022-01-06T09:27:32.065967Z",
     "iopub.status.busy": "2022-01-06T09:27:32.065272Z",
     "iopub.status.idle": "2022-01-06T09:27:32.069634Z",
     "shell.execute_reply": "2022-01-06T09:27:32.068994Z",
     "shell.execute_reply.started": "2022-01-06T09:19:09.116181Z"
    },
    "papermill": {
     "duration": 0.034712,
     "end_time": "2022-01-06T09:27:32.069768",
     "exception": false,
     "start_time": "2022-01-06T09:27:32.035056",
     "status": "completed"
    },
    "tags": []
   },
   "outputs": [],
   "source": [
    "# Predict DTR\n",
    "y_pred_dtr = dtr.predict(x_test)"
   ]
  },
  {
   "cell_type": "code",
   "execution_count": 17,
   "id": "b4802680",
   "metadata": {
    "execution": {
     "iopub.execute_input": "2022-01-06T09:27:32.127050Z",
     "iopub.status.busy": "2022-01-06T09:27:32.126369Z",
     "iopub.status.idle": "2022-01-06T09:27:32.132269Z",
     "shell.execute_reply": "2022-01-06T09:27:32.131180Z",
     "shell.execute_reply.started": "2022-01-06T09:20:07.202020Z"
    },
    "papermill": {
     "duration": 0.036909,
     "end_time": "2022-01-06T09:27:32.132538",
     "exception": false,
     "start_time": "2022-01-06T09:27:32.095629",
     "status": "completed"
    },
    "tags": []
   },
   "outputs": [
    {
     "name": "stdout",
     "output_type": "stream",
     "text": [
      "Decision Tree\n",
      "----------------------------------------------------------------------------------------------------\n",
      "RMSE =  0.12550815256582049\n"
     ]
    }
   ],
   "source": [
    "print('Decision Tree')\n",
    "# Root mean square error of our model\n",
    "print('--'*50)\n",
    "dtr_error = rmse(y_test, y_pred_dtr)\n",
    "print('RMSE = ', dtr_error)"
   ]
  },
  {
   "cell_type": "markdown",
   "id": "a8239da7",
   "metadata": {
    "papermill": {
     "duration": 0.025856,
     "end_time": "2022-01-06T09:27:32.186938",
     "exception": false,
     "start_time": "2022-01-06T09:27:32.161082",
     "status": "completed"
    },
    "tags": []
   },
   "source": [
    "### RANDOM FOREST"
   ]
  },
  {
   "cell_type": "code",
   "execution_count": 18,
   "id": "a8dd7225",
   "metadata": {
    "execution": {
     "iopub.execute_input": "2022-01-06T09:27:32.244750Z",
     "iopub.status.busy": "2022-01-06T09:27:32.244102Z",
     "iopub.status.idle": "2022-01-06T09:27:39.830793Z",
     "shell.execute_reply": "2022-01-06T09:27:39.830004Z",
     "shell.execute_reply.started": "2022-01-06T09:20:53.754252Z"
    },
    "papermill": {
     "duration": 7.617861,
     "end_time": "2022-01-06T09:27:39.830972",
     "exception": false,
     "start_time": "2022-01-06T09:27:32.213111",
     "status": "completed"
    },
    "tags": []
   },
   "outputs": [],
   "source": [
    "from sklearn.ensemble import RandomForestRegressor\n",
    "\n",
    "# Create model object\n",
    "rfr = RandomForestRegressor(n_estimators = 250,n_jobs=-1)\n",
    "# Fit model to training data\n",
    "rfr.fit(x_train,y_train)\n",
    "y_pred_rfr = rfr.predict(x_test)"
   ]
  },
  {
   "cell_type": "code",
   "execution_count": 19,
   "id": "c47f292e",
   "metadata": {
    "execution": {
     "iopub.execute_input": "2022-01-06T09:27:39.893958Z",
     "iopub.status.busy": "2022-01-06T09:27:39.893024Z",
     "iopub.status.idle": "2022-01-06T09:27:39.898717Z",
     "shell.execute_reply": "2022-01-06T09:27:39.897860Z",
     "shell.execute_reply.started": "2022-01-06T09:25:28.590612Z"
    },
    "papermill": {
     "duration": 0.038948,
     "end_time": "2022-01-06T09:27:39.898931",
     "exception": false,
     "start_time": "2022-01-06T09:27:39.859983",
     "status": "completed"
    },
    "tags": []
   },
   "outputs": [
    {
     "name": "stdout",
     "output_type": "stream",
     "text": [
      "Random Forest\n",
      "----------------------------------------------------------------------------------------------------\n",
      "RMSE =  0.08701408958999135\n"
     ]
    }
   ],
   "source": [
    "print('Random Forest')\n",
    "# Root mean square error of our model\n",
    "print('--'*50)\n",
    "rfr_error = rmse(y_test, y_pred_rfr)\n",
    "print('RMSE = ', rfr_error)"
   ]
  },
  {
   "cell_type": "markdown",
   "id": "8606219e",
   "metadata": {
    "papermill": {
     "duration": 0.028945,
     "end_time": "2022-01-06T09:27:39.957132",
     "exception": false,
     "start_time": "2022-01-06T09:27:39.928187",
     "status": "completed"
    },
    "tags": []
   },
   "source": [
    "### XGBoost Regressor"
   ]
  },
  {
   "cell_type": "code",
   "execution_count": 20,
   "id": "2b3f1a6e",
   "metadata": {
    "execution": {
     "iopub.execute_input": "2022-01-06T09:27:40.021488Z",
     "iopub.status.busy": "2022-01-06T09:27:40.020447Z",
     "iopub.status.idle": "2022-01-06T09:27:41.765362Z",
     "shell.execute_reply": "2022-01-06T09:27:41.765978Z",
     "shell.execute_reply.started": "2022-01-06T09:22:54.180981Z"
    },
    "papermill": {
     "duration": 1.779486,
     "end_time": "2022-01-06T09:27:41.766233",
     "exception": false,
     "start_time": "2022-01-06T09:27:39.986747",
     "status": "completed"
    },
    "tags": []
   },
   "outputs": [],
   "source": [
    "from xgboost import XGBRegressor\n",
    "\n",
    "# Create model object\n",
    "xgb = XGBRegressor(n_jobs=-1)\n",
    "\n",
    "# Fit model to training data\n",
    "xgb.fit(x_train, y_train)\n",
    "y_pred_xgb = xgb.predict(x_test)"
   ]
  },
  {
   "cell_type": "code",
   "execution_count": 21,
   "id": "2dc17564",
   "metadata": {
    "execution": {
     "iopub.execute_input": "2022-01-06T09:27:41.827484Z",
     "iopub.status.busy": "2022-01-06T09:27:41.826852Z",
     "iopub.status.idle": "2022-01-06T09:27:41.830817Z",
     "shell.execute_reply": "2022-01-06T09:27:41.831594Z",
     "shell.execute_reply.started": "2022-01-06T09:25:32.706705Z"
    },
    "papermill": {
     "duration": 0.037047,
     "end_time": "2022-01-06T09:27:41.831831",
     "exception": false,
     "start_time": "2022-01-06T09:27:41.794784",
     "status": "completed"
    },
    "tags": []
   },
   "outputs": [
    {
     "name": "stdout",
     "output_type": "stream",
     "text": [
      "XGBoost Classifer\n",
      "----------------------------------------------------------------------------------------------------\n",
      "RMSE =  0.08990305033932103\n"
     ]
    }
   ],
   "source": [
    "print('XGBoost Classifer')\n",
    "print('--'*50)\n",
    "xgb_error = rmse(y_test, y_pred_xgb)\n",
    "print('RMSE = ', xgb_error)"
   ]
  },
  {
   "cell_type": "code",
   "execution_count": 22,
   "id": "a0ba693b",
   "metadata": {
    "execution": {
     "iopub.execute_input": "2022-01-06T09:27:41.900534Z",
     "iopub.status.busy": "2022-01-06T09:27:41.890660Z",
     "iopub.status.idle": "2022-01-06T09:27:41.903824Z",
     "shell.execute_reply": "2022-01-06T09:27:41.904308Z",
     "shell.execute_reply.started": "2022-01-06T09:25:36.303933Z"
    },
    "papermill": {
     "duration": 0.044825,
     "end_time": "2022-01-06T09:27:41.904486",
     "exception": false,
     "start_time": "2022-01-06T09:27:41.859661",
     "status": "completed"
    },
    "tags": []
   },
   "outputs": [
    {
     "data": {
      "text/html": [
       "<div>\n",
       "<style scoped>\n",
       "    .dataframe tbody tr th:only-of-type {\n",
       "        vertical-align: middle;\n",
       "    }\n",
       "\n",
       "    .dataframe tbody tr th {\n",
       "        vertical-align: top;\n",
       "    }\n",
       "\n",
       "    .dataframe thead th {\n",
       "        text-align: right;\n",
       "    }\n",
       "</style>\n",
       "<table border=\"1\" class=\"dataframe\">\n",
       "  <thead>\n",
       "    <tr style=\"text-align: right;\">\n",
       "      <th></th>\n",
       "      <th>Model</th>\n",
       "      <th>Score</th>\n",
       "    </tr>\n",
       "  </thead>\n",
       "  <tbody>\n",
       "    <tr>\n",
       "      <th>3</th>\n",
       "      <td>Random Forest</td>\n",
       "      <td>0.087014</td>\n",
       "    </tr>\n",
       "    <tr>\n",
       "      <th>4</th>\n",
       "      <td>XGBoost Regressor</td>\n",
       "      <td>0.089903</td>\n",
       "    </tr>\n",
       "    <tr>\n",
       "      <th>1</th>\n",
       "      <td>RBF SVC</td>\n",
       "      <td>0.121478</td>\n",
       "    </tr>\n",
       "    <tr>\n",
       "      <th>2</th>\n",
       "      <td>Decision Tree</td>\n",
       "      <td>0.125508</td>\n",
       "    </tr>\n",
       "    <tr>\n",
       "      <th>0</th>\n",
       "      <td>Linear Regression</td>\n",
       "      <td>0.254431</td>\n",
       "    </tr>\n",
       "  </tbody>\n",
       "</table>\n",
       "</div>"
      ],
      "text/plain": [
       "               Model     Score\n",
       "3      Random Forest  0.087014\n",
       "4  XGBoost Regressor  0.089903\n",
       "1            RBF SVC  0.121478\n",
       "2      Decision Tree  0.125508\n",
       "0  Linear Regression  0.254431"
      ]
     },
     "execution_count": 22,
     "metadata": {},
     "output_type": "execute_result"
    }
   ],
   "source": [
    "models = pd.DataFrame({\n",
    "     'Model': ['Linear Regression', 'RBF SVC', \n",
    "               'Decision Tree', 'Random Forest','XGBoost Regressor'],\n",
    "    'Score': [linreg_error, svr_error, \n",
    "               dtr_error, rfr_error,xgb_error]})\n",
    "models.sort_values(by='Score', ascending=True)"
   ]
  },
  {
   "cell_type": "code",
   "execution_count": null,
   "id": "b66416fd",
   "metadata": {
    "papermill": {
     "duration": 0.027239,
     "end_time": "2022-01-06T09:27:41.959262",
     "exception": false,
     "start_time": "2022-01-06T09:27:41.932023",
     "status": "completed"
    },
    "tags": []
   },
   "outputs": [],
   "source": []
  }
 ],
 "metadata": {
  "kernelspec": {
   "display_name": "Python 3",
   "language": "python",
   "name": "python3"
  },
  "language_info": {
   "codemirror_mode": {
    "name": "ipython",
    "version": 3
   },
   "file_extension": ".py",
   "mimetype": "text/x-python",
   "name": "python",
   "nbconvert_exporter": "python",
   "pygments_lexer": "ipython3",
   "version": "3.7.12"
  },
  "papermill": {
   "default_parameters": {},
   "duration": 27.042979,
   "end_time": "2022-01-06T09:27:43.000595",
   "environment_variables": {},
   "exception": null,
   "input_path": "__notebook__.ipynb",
   "output_path": "__notebook__.ipynb",
   "parameters": {},
   "start_time": "2022-01-06T09:27:15.957616",
   "version": "2.3.3"
  }
 },
 "nbformat": 4,
 "nbformat_minor": 5
}
