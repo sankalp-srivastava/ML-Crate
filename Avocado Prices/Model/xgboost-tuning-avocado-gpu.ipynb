{
 "cells": [
  {
   "cell_type": "markdown",
   "id": "d2b96d2e",
   "metadata": {
    "papermill": {
     "duration": 0.013689,
     "end_time": "2022-01-05T10:21:32.237766",
     "exception": false,
     "start_time": "2022-01-05T10:21:32.224077",
     "status": "completed"
    },
    "tags": []
   },
   "source": [
    "## Importing libraries"
   ]
  },
  {
   "cell_type": "code",
   "execution_count": 1,
   "id": "a6d974c5",
   "metadata": {
    "execution": {
     "iopub.execute_input": "2022-01-05T10:21:32.270363Z",
     "iopub.status.busy": "2022-01-05T10:21:32.268861Z",
     "iopub.status.idle": "2022-01-05T10:21:33.217314Z",
     "shell.execute_reply": "2022-01-05T10:21:33.216686Z",
     "shell.execute_reply.started": "2022-01-05T10:06:29.778698Z"
    },
    "papermill": {
     "duration": 0.965041,
     "end_time": "2022-01-05T10:21:33.217476",
     "exception": false,
     "start_time": "2022-01-05T10:21:32.252435",
     "status": "completed"
    },
    "tags": []
   },
   "outputs": [],
   "source": [
    "import numpy as np \n",
    "import pandas as pd \n",
    "from xgboost import XGBRegressor\n",
    "from sklearn.model_selection import train_test_split\n",
    "from sklearn.metrics import mean_squared_error\n",
    "from warnings import filterwarnings\n",
    "import xgboost as xgb\n",
    "from xgboost import XGBRFRegressor\n",
    "from sklearn.model_selection import GridSearchCV\n",
    "from sklearn.metrics import mean_squared_error\n",
    "from sklearn.metrics import mean_absolute_error\n",
    "from sklearn import preprocessing\n",
    "\n",
    "filterwarnings(\"ignore\", category=DeprecationWarning) \n",
    "filterwarnings(\"ignore\", category=FutureWarning) \n",
    "filterwarnings(\"ignore\", category=UserWarning)"
   ]
  },
  {
   "cell_type": "markdown",
   "id": "b7ba50bd",
   "metadata": {
    "papermill": {
     "duration": 0.012525,
     "end_time": "2022-01-05T10:21:33.242819",
     "exception": false,
     "start_time": "2022-01-05T10:21:33.230294",
     "status": "completed"
    },
    "tags": []
   },
   "source": [
    "## Loading the dataset"
   ]
  },
  {
   "cell_type": "code",
   "execution_count": 2,
   "id": "2431e6a2",
   "metadata": {
    "execution": {
     "iopub.execute_input": "2022-01-05T10:21:33.271577Z",
     "iopub.status.busy": "2022-01-05T10:21:33.270717Z",
     "iopub.status.idle": "2022-01-05T10:21:33.365582Z",
     "shell.execute_reply": "2022-01-05T10:21:33.366022Z",
     "shell.execute_reply.started": "2022-01-05T10:06:28.777588Z"
    },
    "papermill": {
     "duration": 0.110461,
     "end_time": "2022-01-05T10:21:33.366164",
     "exception": false,
     "start_time": "2022-01-05T10:21:33.255703",
     "status": "completed"
    },
    "tags": []
   },
   "outputs": [
    {
     "data": {
      "text/html": [
       "<div>\n",
       "<style scoped>\n",
       "    .dataframe tbody tr th:only-of-type {\n",
       "        vertical-align: middle;\n",
       "    }\n",
       "\n",
       "    .dataframe tbody tr th {\n",
       "        vertical-align: top;\n",
       "    }\n",
       "\n",
       "    .dataframe thead th {\n",
       "        text-align: right;\n",
       "    }\n",
       "</style>\n",
       "<table border=\"1\" class=\"dataframe\">\n",
       "  <thead>\n",
       "    <tr style=\"text-align: right;\">\n",
       "      <th></th>\n",
       "      <th>Date</th>\n",
       "      <th>AveragePrice</th>\n",
       "      <th>Total Volume</th>\n",
       "      <th>4046</th>\n",
       "      <th>4225</th>\n",
       "      <th>4770</th>\n",
       "      <th>Total Bags</th>\n",
       "      <th>Small Bags</th>\n",
       "      <th>Large Bags</th>\n",
       "      <th>XLarge Bags</th>\n",
       "      <th>type</th>\n",
       "      <th>year</th>\n",
       "      <th>region</th>\n",
       "      <th>month</th>\n",
       "      <th>week</th>\n",
       "      <th>price_types</th>\n",
       "    </tr>\n",
       "  </thead>\n",
       "  <tbody>\n",
       "    <tr>\n",
       "      <th>0</th>\n",
       "      <td>2015-12-27</td>\n",
       "      <td>1.33</td>\n",
       "      <td>64236.62</td>\n",
       "      <td>1036.74</td>\n",
       "      <td>54454.85</td>\n",
       "      <td>48.16</td>\n",
       "      <td>8696.87</td>\n",
       "      <td>8603.62</td>\n",
       "      <td>93.25</td>\n",
       "      <td>0.0</td>\n",
       "      <td>conventional</td>\n",
       "      <td>2015</td>\n",
       "      <td>Albany</td>\n",
       "      <td>2015-12-01</td>\n",
       "      <td>2015-12-24</td>\n",
       "      <td>low</td>\n",
       "    </tr>\n",
       "    <tr>\n",
       "      <th>1</th>\n",
       "      <td>2015-12-20</td>\n",
       "      <td>1.35</td>\n",
       "      <td>54876.98</td>\n",
       "      <td>674.28</td>\n",
       "      <td>44638.81</td>\n",
       "      <td>58.33</td>\n",
       "      <td>9505.56</td>\n",
       "      <td>9408.07</td>\n",
       "      <td>97.49</td>\n",
       "      <td>0.0</td>\n",
       "      <td>conventional</td>\n",
       "      <td>2015</td>\n",
       "      <td>Albany</td>\n",
       "      <td>2015-12-01</td>\n",
       "      <td>2015-12-17</td>\n",
       "      <td>low</td>\n",
       "    </tr>\n",
       "    <tr>\n",
       "      <th>2</th>\n",
       "      <td>2015-12-13</td>\n",
       "      <td>0.93</td>\n",
       "      <td>118220.22</td>\n",
       "      <td>794.70</td>\n",
       "      <td>109149.67</td>\n",
       "      <td>130.50</td>\n",
       "      <td>8145.35</td>\n",
       "      <td>8042.21</td>\n",
       "      <td>103.14</td>\n",
       "      <td>0.0</td>\n",
       "      <td>conventional</td>\n",
       "      <td>2015</td>\n",
       "      <td>Albany</td>\n",
       "      <td>2015-12-01</td>\n",
       "      <td>2015-12-10</td>\n",
       "      <td>low</td>\n",
       "    </tr>\n",
       "    <tr>\n",
       "      <th>3</th>\n",
       "      <td>2015-12-06</td>\n",
       "      <td>1.08</td>\n",
       "      <td>78992.15</td>\n",
       "      <td>1132.00</td>\n",
       "      <td>71976.41</td>\n",
       "      <td>72.58</td>\n",
       "      <td>5811.16</td>\n",
       "      <td>5677.40</td>\n",
       "      <td>133.76</td>\n",
       "      <td>0.0</td>\n",
       "      <td>conventional</td>\n",
       "      <td>2015</td>\n",
       "      <td>Albany</td>\n",
       "      <td>2015-12-01</td>\n",
       "      <td>2015-12-03</td>\n",
       "      <td>low</td>\n",
       "    </tr>\n",
       "    <tr>\n",
       "      <th>4</th>\n",
       "      <td>2015-11-29</td>\n",
       "      <td>1.28</td>\n",
       "      <td>51039.60</td>\n",
       "      <td>941.48</td>\n",
       "      <td>43838.39</td>\n",
       "      <td>75.78</td>\n",
       "      <td>6183.95</td>\n",
       "      <td>5986.26</td>\n",
       "      <td>197.69</td>\n",
       "      <td>0.0</td>\n",
       "      <td>conventional</td>\n",
       "      <td>2015</td>\n",
       "      <td>Albany</td>\n",
       "      <td>2015-11-01</td>\n",
       "      <td>2015-11-26</td>\n",
       "      <td>low</td>\n",
       "    </tr>\n",
       "    <tr>\n",
       "      <th>...</th>\n",
       "      <td>...</td>\n",
       "      <td>...</td>\n",
       "      <td>...</td>\n",
       "      <td>...</td>\n",
       "      <td>...</td>\n",
       "      <td>...</td>\n",
       "      <td>...</td>\n",
       "      <td>...</td>\n",
       "      <td>...</td>\n",
       "      <td>...</td>\n",
       "      <td>...</td>\n",
       "      <td>...</td>\n",
       "      <td>...</td>\n",
       "      <td>...</td>\n",
       "      <td>...</td>\n",
       "      <td>...</td>\n",
       "    </tr>\n",
       "    <tr>\n",
       "      <th>11533</th>\n",
       "      <td>2018-02-04</td>\n",
       "      <td>1.63</td>\n",
       "      <td>17074.83</td>\n",
       "      <td>2046.96</td>\n",
       "      <td>1529.20</td>\n",
       "      <td>0.00</td>\n",
       "      <td>13498.67</td>\n",
       "      <td>13066.82</td>\n",
       "      <td>431.85</td>\n",
       "      <td>0.0</td>\n",
       "      <td>organic</td>\n",
       "      <td>2018</td>\n",
       "      <td>WestTexNewMexico</td>\n",
       "      <td>2018-02-01</td>\n",
       "      <td>2018-02-01</td>\n",
       "      <td>mean</td>\n",
       "    </tr>\n",
       "    <tr>\n",
       "      <th>11534</th>\n",
       "      <td>2018-01-28</td>\n",
       "      <td>1.71</td>\n",
       "      <td>13888.04</td>\n",
       "      <td>1191.70</td>\n",
       "      <td>3431.50</td>\n",
       "      <td>0.00</td>\n",
       "      <td>9264.84</td>\n",
       "      <td>8940.04</td>\n",
       "      <td>324.80</td>\n",
       "      <td>0.0</td>\n",
       "      <td>organic</td>\n",
       "      <td>2018</td>\n",
       "      <td>WestTexNewMexico</td>\n",
       "      <td>2018-01-01</td>\n",
       "      <td>2018-01-25</td>\n",
       "      <td>mean</td>\n",
       "    </tr>\n",
       "    <tr>\n",
       "      <th>11535</th>\n",
       "      <td>2018-01-21</td>\n",
       "      <td>1.87</td>\n",
       "      <td>13766.76</td>\n",
       "      <td>1191.92</td>\n",
       "      <td>2452.79</td>\n",
       "      <td>727.94</td>\n",
       "      <td>9394.11</td>\n",
       "      <td>9351.80</td>\n",
       "      <td>42.31</td>\n",
       "      <td>0.0</td>\n",
       "      <td>organic</td>\n",
       "      <td>2018</td>\n",
       "      <td>WestTexNewMexico</td>\n",
       "      <td>2018-01-01</td>\n",
       "      <td>2018-01-18</td>\n",
       "      <td>high</td>\n",
       "    </tr>\n",
       "    <tr>\n",
       "      <th>11536</th>\n",
       "      <td>2018-01-14</td>\n",
       "      <td>1.93</td>\n",
       "      <td>16205.22</td>\n",
       "      <td>1527.63</td>\n",
       "      <td>2981.04</td>\n",
       "      <td>727.01</td>\n",
       "      <td>10969.54</td>\n",
       "      <td>10919.54</td>\n",
       "      <td>50.00</td>\n",
       "      <td>0.0</td>\n",
       "      <td>organic</td>\n",
       "      <td>2018</td>\n",
       "      <td>WestTexNewMexico</td>\n",
       "      <td>2018-01-01</td>\n",
       "      <td>2018-01-11</td>\n",
       "      <td>expensive</td>\n",
       "    </tr>\n",
       "    <tr>\n",
       "      <th>11537</th>\n",
       "      <td>2018-01-07</td>\n",
       "      <td>1.62</td>\n",
       "      <td>17489.58</td>\n",
       "      <td>2894.77</td>\n",
       "      <td>2356.13</td>\n",
       "      <td>224.53</td>\n",
       "      <td>12014.15</td>\n",
       "      <td>11988.14</td>\n",
       "      <td>26.01</td>\n",
       "      <td>0.0</td>\n",
       "      <td>organic</td>\n",
       "      <td>2018</td>\n",
       "      <td>WestTexNewMexico</td>\n",
       "      <td>2018-01-01</td>\n",
       "      <td>2018-01-04</td>\n",
       "      <td>mean</td>\n",
       "    </tr>\n",
       "  </tbody>\n",
       "</table>\n",
       "<p>11538 rows × 16 columns</p>\n",
       "</div>"
      ],
      "text/plain": [
       "             Date  AveragePrice  Total Volume     4046       4225    4770  \\\n",
       "0      2015-12-27          1.33      64236.62  1036.74   54454.85   48.16   \n",
       "1      2015-12-20          1.35      54876.98   674.28   44638.81   58.33   \n",
       "2      2015-12-13          0.93     118220.22   794.70  109149.67  130.50   \n",
       "3      2015-12-06          1.08      78992.15  1132.00   71976.41   72.58   \n",
       "4      2015-11-29          1.28      51039.60   941.48   43838.39   75.78   \n",
       "...           ...           ...           ...      ...        ...     ...   \n",
       "11533  2018-02-04          1.63      17074.83  2046.96    1529.20    0.00   \n",
       "11534  2018-01-28          1.71      13888.04  1191.70    3431.50    0.00   \n",
       "11535  2018-01-21          1.87      13766.76  1191.92    2452.79  727.94   \n",
       "11536  2018-01-14          1.93      16205.22  1527.63    2981.04  727.01   \n",
       "11537  2018-01-07          1.62      17489.58  2894.77    2356.13  224.53   \n",
       "\n",
       "       Total Bags  Small Bags  Large Bags  XLarge Bags          type  year  \\\n",
       "0         8696.87     8603.62       93.25          0.0  conventional  2015   \n",
       "1         9505.56     9408.07       97.49          0.0  conventional  2015   \n",
       "2         8145.35     8042.21      103.14          0.0  conventional  2015   \n",
       "3         5811.16     5677.40      133.76          0.0  conventional  2015   \n",
       "4         6183.95     5986.26      197.69          0.0  conventional  2015   \n",
       "...           ...         ...         ...          ...           ...   ...   \n",
       "11533    13498.67    13066.82      431.85          0.0       organic  2018   \n",
       "11534     9264.84     8940.04      324.80          0.0       organic  2018   \n",
       "11535     9394.11     9351.80       42.31          0.0       organic  2018   \n",
       "11536    10969.54    10919.54       50.00          0.0       organic  2018   \n",
       "11537    12014.15    11988.14       26.01          0.0       organic  2018   \n",
       "\n",
       "                 region       month        week price_types  \n",
       "0                Albany  2015-12-01  2015-12-24         low  \n",
       "1                Albany  2015-12-01  2015-12-17         low  \n",
       "2                Albany  2015-12-01  2015-12-10         low  \n",
       "3                Albany  2015-12-01  2015-12-03         low  \n",
       "4                Albany  2015-11-01  2015-11-26         low  \n",
       "...                 ...         ...         ...         ...  \n",
       "11533  WestTexNewMexico  2018-02-01  2018-02-01        mean  \n",
       "11534  WestTexNewMexico  2018-01-01  2018-01-25        mean  \n",
       "11535  WestTexNewMexico  2018-01-01  2018-01-18        high  \n",
       "11536  WestTexNewMexico  2018-01-01  2018-01-11   expensive  \n",
       "11537  WestTexNewMexico  2018-01-01  2018-01-04        mean  \n",
       "\n",
       "[11538 rows x 16 columns]"
      ]
     },
     "execution_count": 2,
     "metadata": {},
     "output_type": "execute_result"
    }
   ],
   "source": [
    "train = pd.read_csv(\"../input/eda-avocado-prices/Filtered_dataset.csv\")\n",
    "train.drop([\"Unnamed: 0\"],axis=1,inplace=True)\n",
    "train"
   ]
  },
  {
   "cell_type": "code",
   "execution_count": 3,
   "id": "c4b020dc",
   "metadata": {
    "execution": {
     "iopub.execute_input": "2022-01-05T10:21:33.403674Z",
     "iopub.status.busy": "2022-01-05T10:21:33.402886Z",
     "iopub.status.idle": "2022-01-05T10:21:33.417608Z",
     "shell.execute_reply": "2022-01-05T10:21:33.418604Z",
     "shell.execute_reply.started": "2022-01-05T10:06:29.418202Z"
    },
    "papermill": {
     "duration": 0.038896,
     "end_time": "2022-01-05T10:21:33.418767",
     "exception": false,
     "start_time": "2022-01-05T10:21:33.379871",
     "status": "completed"
    },
    "tags": []
   },
   "outputs": [
    {
     "name": "stdout",
     "output_type": "stream",
     "text": [
      "<class 'pandas.core.frame.DataFrame'>\n",
      "RangeIndex: 11538 entries, 0 to 11537\n",
      "Data columns (total 16 columns):\n",
      " #   Column        Non-Null Count  Dtype  \n",
      "---  ------        --------------  -----  \n",
      " 0   Date          11538 non-null  object \n",
      " 1   AveragePrice  11538 non-null  float64\n",
      " 2   Total Volume  11538 non-null  float64\n",
      " 3   4046          11538 non-null  float64\n",
      " 4   4225          11538 non-null  float64\n",
      " 5   4770          11538 non-null  float64\n",
      " 6   Total Bags    11538 non-null  float64\n",
      " 7   Small Bags    11538 non-null  float64\n",
      " 8   Large Bags    11538 non-null  float64\n",
      " 9   XLarge Bags   11538 non-null  float64\n",
      " 10  type          11538 non-null  object \n",
      " 11  year          11538 non-null  int64  \n",
      " 12  region        11538 non-null  object \n",
      " 13  month         11538 non-null  object \n",
      " 14  week          11538 non-null  object \n",
      " 15  price_types   11537 non-null  object \n",
      "dtypes: float64(9), int64(1), object(6)\n",
      "memory usage: 1.4+ MB\n"
     ]
    }
   ],
   "source": [
    "train.info()"
   ]
  },
  {
   "cell_type": "code",
   "execution_count": 4,
   "id": "59dad273",
   "metadata": {
    "execution": {
     "iopub.execute_input": "2022-01-05T10:21:33.451302Z",
     "iopub.status.busy": "2022-01-05T10:21:33.450266Z",
     "iopub.status.idle": "2022-01-05T10:21:33.453562Z",
     "shell.execute_reply": "2022-01-05T10:21:33.453168Z",
     "shell.execute_reply.started": "2022-01-05T10:06:29.454860Z"
    },
    "papermill": {
     "duration": 0.020784,
     "end_time": "2022-01-05T10:21:33.453665",
     "exception": false,
     "start_time": "2022-01-05T10:21:33.432881",
     "status": "completed"
    },
    "tags": []
   },
   "outputs": [],
   "source": [
    "x_train = train.drop(['Date','AveragePrice'],axis=1)\n",
    "y_train = train['AveragePrice']"
   ]
  },
  {
   "cell_type": "code",
   "execution_count": 5,
   "id": "a02d432f",
   "metadata": {
    "execution": {
     "iopub.execute_input": "2022-01-05T10:21:33.484807Z",
     "iopub.status.busy": "2022-01-05T10:21:33.484076Z",
     "iopub.status.idle": "2022-01-05T10:21:33.486497Z",
     "shell.execute_reply": "2022-01-05T10:21:33.486081Z",
     "shell.execute_reply.started": "2022-01-05T10:06:30.834381Z"
    },
    "papermill": {
     "duration": 0.019503,
     "end_time": "2022-01-05T10:21:33.486593",
     "exception": false,
     "start_time": "2022-01-05T10:21:33.467090",
     "status": "completed"
    },
    "tags": []
   },
   "outputs": [],
   "source": [
    "def check_rmse(model,x_val,y_val):\n",
    "    pred = model.predict(x_val)\n",
    "    return np.sqrt(mean_squared_error(y_val,pred))"
   ]
  },
  {
   "cell_type": "code",
   "execution_count": 6,
   "id": "4fa990bf",
   "metadata": {
    "execution": {
     "iopub.execute_input": "2022-01-05T10:21:33.545703Z",
     "iopub.status.busy": "2022-01-05T10:21:33.544835Z",
     "iopub.status.idle": "2022-01-05T10:21:33.600639Z",
     "shell.execute_reply": "2022-01-05T10:21:33.601041Z",
     "shell.execute_reply.started": "2022-01-05T10:06:30.843734Z"
    },
    "papermill": {
     "duration": 0.09241,
     "end_time": "2022-01-05T10:21:33.601180",
     "exception": false,
     "start_time": "2022-01-05T10:21:33.508770",
     "status": "completed"
    },
    "tags": []
   },
   "outputs": [
    {
     "data": {
      "text/html": [
       "<div>\n",
       "<style scoped>\n",
       "    .dataframe tbody tr th:only-of-type {\n",
       "        vertical-align: middle;\n",
       "    }\n",
       "\n",
       "    .dataframe tbody tr th {\n",
       "        vertical-align: top;\n",
       "    }\n",
       "\n",
       "    .dataframe thead th {\n",
       "        text-align: right;\n",
       "    }\n",
       "</style>\n",
       "<table border=\"1\" class=\"dataframe\">\n",
       "  <thead>\n",
       "    <tr style=\"text-align: right;\">\n",
       "      <th></th>\n",
       "      <th>Total Volume</th>\n",
       "      <th>4046</th>\n",
       "      <th>4225</th>\n",
       "      <th>4770</th>\n",
       "      <th>Total Bags</th>\n",
       "      <th>Small Bags</th>\n",
       "      <th>Large Bags</th>\n",
       "      <th>XLarge Bags</th>\n",
       "      <th>type</th>\n",
       "      <th>year</th>\n",
       "      <th>region</th>\n",
       "      <th>month</th>\n",
       "      <th>week</th>\n",
       "      <th>price_types</th>\n",
       "    </tr>\n",
       "  </thead>\n",
       "  <tbody>\n",
       "    <tr>\n",
       "      <th>0</th>\n",
       "      <td>64236.62</td>\n",
       "      <td>1036.74</td>\n",
       "      <td>54454.85</td>\n",
       "      <td>48.16</td>\n",
       "      <td>8696.87</td>\n",
       "      <td>8603.62</td>\n",
       "      <td>93.25</td>\n",
       "      <td>0.0</td>\n",
       "      <td>0</td>\n",
       "      <td>2015</td>\n",
       "      <td>0</td>\n",
       "      <td>11</td>\n",
       "      <td>51</td>\n",
       "      <td>2</td>\n",
       "    </tr>\n",
       "    <tr>\n",
       "      <th>1</th>\n",
       "      <td>54876.98</td>\n",
       "      <td>674.28</td>\n",
       "      <td>44638.81</td>\n",
       "      <td>58.33</td>\n",
       "      <td>9505.56</td>\n",
       "      <td>9408.07</td>\n",
       "      <td>97.49</td>\n",
       "      <td>0.0</td>\n",
       "      <td>0</td>\n",
       "      <td>2015</td>\n",
       "      <td>0</td>\n",
       "      <td>11</td>\n",
       "      <td>50</td>\n",
       "      <td>2</td>\n",
       "    </tr>\n",
       "    <tr>\n",
       "      <th>2</th>\n",
       "      <td>118220.22</td>\n",
       "      <td>794.70</td>\n",
       "      <td>109149.67</td>\n",
       "      <td>130.50</td>\n",
       "      <td>8145.35</td>\n",
       "      <td>8042.21</td>\n",
       "      <td>103.14</td>\n",
       "      <td>0.0</td>\n",
       "      <td>0</td>\n",
       "      <td>2015</td>\n",
       "      <td>0</td>\n",
       "      <td>11</td>\n",
       "      <td>49</td>\n",
       "      <td>2</td>\n",
       "    </tr>\n",
       "    <tr>\n",
       "      <th>3</th>\n",
       "      <td>78992.15</td>\n",
       "      <td>1132.00</td>\n",
       "      <td>71976.41</td>\n",
       "      <td>72.58</td>\n",
       "      <td>5811.16</td>\n",
       "      <td>5677.40</td>\n",
       "      <td>133.76</td>\n",
       "      <td>0.0</td>\n",
       "      <td>0</td>\n",
       "      <td>2015</td>\n",
       "      <td>0</td>\n",
       "      <td>11</td>\n",
       "      <td>48</td>\n",
       "      <td>2</td>\n",
       "    </tr>\n",
       "    <tr>\n",
       "      <th>4</th>\n",
       "      <td>51039.60</td>\n",
       "      <td>941.48</td>\n",
       "      <td>43838.39</td>\n",
       "      <td>75.78</td>\n",
       "      <td>6183.95</td>\n",
       "      <td>5986.26</td>\n",
       "      <td>197.69</td>\n",
       "      <td>0.0</td>\n",
       "      <td>0</td>\n",
       "      <td>2015</td>\n",
       "      <td>0</td>\n",
       "      <td>10</td>\n",
       "      <td>47</td>\n",
       "      <td>2</td>\n",
       "    </tr>\n",
       "    <tr>\n",
       "      <th>...</th>\n",
       "      <td>...</td>\n",
       "      <td>...</td>\n",
       "      <td>...</td>\n",
       "      <td>...</td>\n",
       "      <td>...</td>\n",
       "      <td>...</td>\n",
       "      <td>...</td>\n",
       "      <td>...</td>\n",
       "      <td>...</td>\n",
       "      <td>...</td>\n",
       "      <td>...</td>\n",
       "      <td>...</td>\n",
       "      <td>...</td>\n",
       "      <td>...</td>\n",
       "    </tr>\n",
       "    <tr>\n",
       "      <th>11533</th>\n",
       "      <td>17074.83</td>\n",
       "      <td>2046.96</td>\n",
       "      <td>1529.20</td>\n",
       "      <td>0.00</td>\n",
       "      <td>13498.67</td>\n",
       "      <td>13066.82</td>\n",
       "      <td>431.85</td>\n",
       "      <td>0.0</td>\n",
       "      <td>1</td>\n",
       "      <td>2018</td>\n",
       "      <td>53</td>\n",
       "      <td>37</td>\n",
       "      <td>161</td>\n",
       "      <td>3</td>\n",
       "    </tr>\n",
       "    <tr>\n",
       "      <th>11534</th>\n",
       "      <td>13888.04</td>\n",
       "      <td>1191.70</td>\n",
       "      <td>3431.50</td>\n",
       "      <td>0.00</td>\n",
       "      <td>9264.84</td>\n",
       "      <td>8940.04</td>\n",
       "      <td>324.80</td>\n",
       "      <td>0.0</td>\n",
       "      <td>1</td>\n",
       "      <td>2018</td>\n",
       "      <td>53</td>\n",
       "      <td>36</td>\n",
       "      <td>160</td>\n",
       "      <td>3</td>\n",
       "    </tr>\n",
       "    <tr>\n",
       "      <th>11535</th>\n",
       "      <td>13766.76</td>\n",
       "      <td>1191.92</td>\n",
       "      <td>2452.79</td>\n",
       "      <td>727.94</td>\n",
       "      <td>9394.11</td>\n",
       "      <td>9351.80</td>\n",
       "      <td>42.31</td>\n",
       "      <td>0.0</td>\n",
       "      <td>1</td>\n",
       "      <td>2018</td>\n",
       "      <td>53</td>\n",
       "      <td>36</td>\n",
       "      <td>159</td>\n",
       "      <td>1</td>\n",
       "    </tr>\n",
       "    <tr>\n",
       "      <th>11536</th>\n",
       "      <td>16205.22</td>\n",
       "      <td>1527.63</td>\n",
       "      <td>2981.04</td>\n",
       "      <td>727.01</td>\n",
       "      <td>10969.54</td>\n",
       "      <td>10919.54</td>\n",
       "      <td>50.00</td>\n",
       "      <td>0.0</td>\n",
       "      <td>1</td>\n",
       "      <td>2018</td>\n",
       "      <td>53</td>\n",
       "      <td>36</td>\n",
       "      <td>158</td>\n",
       "      <td>0</td>\n",
       "    </tr>\n",
       "    <tr>\n",
       "      <th>11537</th>\n",
       "      <td>17489.58</td>\n",
       "      <td>2894.77</td>\n",
       "      <td>2356.13</td>\n",
       "      <td>224.53</td>\n",
       "      <td>12014.15</td>\n",
       "      <td>11988.14</td>\n",
       "      <td>26.01</td>\n",
       "      <td>0.0</td>\n",
       "      <td>1</td>\n",
       "      <td>2018</td>\n",
       "      <td>53</td>\n",
       "      <td>36</td>\n",
       "      <td>157</td>\n",
       "      <td>3</td>\n",
       "    </tr>\n",
       "  </tbody>\n",
       "</table>\n",
       "<p>11538 rows × 14 columns</p>\n",
       "</div>"
      ],
      "text/plain": [
       "       Total Volume     4046       4225    4770  Total Bags  Small Bags  \\\n",
       "0          64236.62  1036.74   54454.85   48.16     8696.87     8603.62   \n",
       "1          54876.98   674.28   44638.81   58.33     9505.56     9408.07   \n",
       "2         118220.22   794.70  109149.67  130.50     8145.35     8042.21   \n",
       "3          78992.15  1132.00   71976.41   72.58     5811.16     5677.40   \n",
       "4          51039.60   941.48   43838.39   75.78     6183.95     5986.26   \n",
       "...             ...      ...        ...     ...         ...         ...   \n",
       "11533      17074.83  2046.96    1529.20    0.00    13498.67    13066.82   \n",
       "11534      13888.04  1191.70    3431.50    0.00     9264.84     8940.04   \n",
       "11535      13766.76  1191.92    2452.79  727.94     9394.11     9351.80   \n",
       "11536      16205.22  1527.63    2981.04  727.01    10969.54    10919.54   \n",
       "11537      17489.58  2894.77    2356.13  224.53    12014.15    11988.14   \n",
       "\n",
       "       Large Bags  XLarge Bags  type  year  region  month  week  price_types  \n",
       "0           93.25          0.0     0  2015       0     11    51            2  \n",
       "1           97.49          0.0     0  2015       0     11    50            2  \n",
       "2          103.14          0.0     0  2015       0     11    49            2  \n",
       "3          133.76          0.0     0  2015       0     11    48            2  \n",
       "4          197.69          0.0     0  2015       0     10    47            2  \n",
       "...           ...          ...   ...   ...     ...    ...   ...          ...  \n",
       "11533      431.85          0.0     1  2018      53     37   161            3  \n",
       "11534      324.80          0.0     1  2018      53     36   160            3  \n",
       "11535       42.31          0.0     1  2018      53     36   159            1  \n",
       "11536       50.00          0.0     1  2018      53     36   158            0  \n",
       "11537       26.01          0.0     1  2018      53     36   157            3  \n",
       "\n",
       "[11538 rows x 14 columns]"
      ]
     },
     "execution_count": 6,
     "metadata": {},
     "output_type": "execute_result"
    }
   ],
   "source": [
    "le = preprocessing.LabelEncoder()\n",
    "for i in x_train.columns:\n",
    "    if x_train[i].dtype == 'object':\n",
    "        x_train[i] = le.fit_transform(x_train[i].astype(str))\n",
    "x_train"
   ]
  },
  {
   "cell_type": "code",
   "execution_count": 7,
   "id": "7a041095",
   "metadata": {
    "execution": {
     "iopub.execute_input": "2022-01-05T10:21:33.638054Z",
     "iopub.status.busy": "2022-01-05T10:21:33.637252Z",
     "iopub.status.idle": "2022-01-05T10:21:33.647073Z",
     "shell.execute_reply": "2022-01-05T10:21:33.646493Z",
     "shell.execute_reply.started": "2022-01-05T10:06:30.901260Z"
    },
    "papermill": {
     "duration": 0.029372,
     "end_time": "2022-01-05T10:21:33.647218",
     "exception": false,
     "start_time": "2022-01-05T10:21:33.617846",
     "status": "completed"
    },
    "tags": []
   },
   "outputs": [
    {
     "name": "stdout",
     "output_type": "stream",
     "text": [
      "<class 'pandas.core.frame.DataFrame'>\n",
      "RangeIndex: 11538 entries, 0 to 11537\n",
      "Data columns (total 14 columns):\n",
      " #   Column        Non-Null Count  Dtype  \n",
      "---  ------        --------------  -----  \n",
      " 0   Total Volume  11538 non-null  float64\n",
      " 1   4046          11538 non-null  float64\n",
      " 2   4225          11538 non-null  float64\n",
      " 3   4770          11538 non-null  float64\n",
      " 4   Total Bags    11538 non-null  float64\n",
      " 5   Small Bags    11538 non-null  float64\n",
      " 6   Large Bags    11538 non-null  float64\n",
      " 7   XLarge Bags   11538 non-null  float64\n",
      " 8   type          11538 non-null  int64  \n",
      " 9   year          11538 non-null  int64  \n",
      " 10  region        11538 non-null  int64  \n",
      " 11  month         11538 non-null  int64  \n",
      " 12  week          11538 non-null  int64  \n",
      " 13  price_types   11538 non-null  int64  \n",
      "dtypes: float64(8), int64(6)\n",
      "memory usage: 1.2 MB\n"
     ]
    }
   ],
   "source": [
    "x_train.info()"
   ]
  },
  {
   "cell_type": "code",
   "execution_count": 8,
   "id": "4e604029",
   "metadata": {
    "execution": {
     "iopub.execute_input": "2022-01-05T10:21:33.683419Z",
     "iopub.status.busy": "2022-01-05T10:21:33.682634Z",
     "iopub.status.idle": "2022-01-05T10:21:33.687368Z",
     "shell.execute_reply": "2022-01-05T10:21:33.686922Z",
     "shell.execute_reply.started": "2022-01-05T10:06:31.427247Z"
    },
    "papermill": {
     "duration": 0.025074,
     "end_time": "2022-01-05T10:21:33.687474",
     "exception": false,
     "start_time": "2022-01-05T10:21:33.662400",
     "status": "completed"
    },
    "tags": []
   },
   "outputs": [],
   "source": [
    "X_train,X_val,Y_train,Y_val = train_test_split(x_train,y_train,random_state=26)"
   ]
  },
  {
   "cell_type": "markdown",
   "id": "c429ed41",
   "metadata": {
    "papermill": {
     "duration": 0.014429,
     "end_time": "2022-01-05T10:21:33.716464",
     "exception": false,
     "start_time": "2022-01-05T10:21:33.702035",
     "status": "completed"
    },
    "tags": []
   },
   "source": [
    "## Parameter tuning"
   ]
  },
  {
   "cell_type": "code",
   "execution_count": 9,
   "id": "3d0f4941",
   "metadata": {
    "execution": {
     "iopub.execute_input": "2022-01-05T10:21:33.751799Z",
     "iopub.status.busy": "2022-01-05T10:21:33.751040Z",
     "iopub.status.idle": "2022-01-05T10:21:33.752870Z",
     "shell.execute_reply": "2022-01-05T10:21:33.753320Z",
     "shell.execute_reply.started": "2022-01-05T10:06:31.456758Z"
    },
    "papermill": {
     "duration": 0.022583,
     "end_time": "2022-01-05T10:21:33.753437",
     "exception": false,
     "start_time": "2022-01-05T10:21:33.730854",
     "status": "completed"
    },
    "tags": []
   },
   "outputs": [],
   "source": [
    "def hyperParameterTuning(X_train, Y_train):\n",
    "    param_tuning = {\n",
    "        'objective': ['reg:squarederror'],\n",
    "        'colsample_bytree': [0.1, 0.5],\n",
    "        'subsample': [0.5, 0.99],\n",
    "        'learning_rate': [0.05, 0.1, 0.5],\n",
    "        'max_depth': [2, 5,10],\n",
    "        'min_child_weight': [0, 1, 10],\n",
    "        'n_estimators' : [700, 1000, 5000]\n",
    "    }\n",
    "\n",
    "    xgb_model = XGBRegressor()\n",
    "\n",
    "    gsearch = GridSearchCV(estimator = xgb_model,\n",
    "                           param_grid = param_tuning,                        \n",
    "                           scoring = 'neg_mean_absolute_error', #MAE\n",
    "                           #scoring = 'neg_mean_squared_error',  #MSE\n",
    "                           cv = 3,\n",
    "                           n_jobs = -1,\n",
    "                           verbose = 10)\n",
    "\n",
    "    gsearch.fit(X_train,Y_train)\n",
    "\n",
    "    return gsearch.best_params_"
   ]
  },
  {
   "cell_type": "code",
   "execution_count": 10,
   "id": "f9429f49",
   "metadata": {
    "execution": {
     "iopub.execute_input": "2022-01-05T10:21:33.789075Z",
     "iopub.status.busy": "2022-01-05T10:21:33.788225Z",
     "iopub.status.idle": "2022-01-05T10:21:33.790121Z",
     "shell.execute_reply": "2022-01-05T10:21:33.790518Z",
     "shell.execute_reply.started": "2022-01-05T10:06:31.921539Z"
    },
    "papermill": {
     "duration": 0.022495,
     "end_time": "2022-01-05T10:21:33.790631",
     "exception": false,
     "start_time": "2022-01-05T10:21:33.768136",
     "status": "completed"
    },
    "tags": []
   },
   "outputs": [],
   "source": [
    "model1 =  XGBRegressor(objective = 'reg:squarederror', \n",
    "                        colsample_bytree = 0.7, \n",
    "                        learning_rate = 0.01, \n",
    "                        max_depth = 10, \n",
    "                        min_child_weight = 5, \n",
    "                        n_estimators = 500, \n",
    "                        subsample = 0.5,\n",
    "                        seed=27,\n",
    "                        tree_method='gpu_hist')\n",
    "\n",
    "model2 =  XGBRegressor(learning_rate=0.01,\n",
    "                           n_estimators=3000,\n",
    "                           max_depth=5, \n",
    "                           min_child_weight=0,\n",
    "                           gamma=0, \n",
    "                           subsample=0.7,                                \n",
    "                           colsample_bytree=0.7,                                     \n",
    "                           objective='reg:squarederror',                                \n",
    "                           scale_pos_weight=1, \n",
    "                           seed=27,                                     \n",
    "                           reg_alpha=0.00006,\n",
    "                           tree_method='gpu_hist')"
   ]
  },
  {
   "cell_type": "code",
   "execution_count": 11,
   "id": "e8387a7d",
   "metadata": {
    "execution": {
     "iopub.execute_input": "2022-01-05T10:21:33.824232Z",
     "iopub.status.busy": "2022-01-05T10:21:33.823573Z",
     "iopub.status.idle": "2022-01-05T10:21:43.128239Z",
     "shell.execute_reply": "2022-01-05T10:21:43.127733Z",
     "shell.execute_reply.started": "2022-01-05T10:06:32.638246Z"
    },
    "papermill": {
     "duration": 9.323471,
     "end_time": "2022-01-05T10:21:43.128389",
     "exception": false,
     "start_time": "2022-01-05T10:21:33.804918",
     "status": "completed"
    },
    "tags": []
   },
   "outputs": [
    {
     "name": "stdout",
     "output_type": "stream",
     "text": [
      "CPU times: user 7.24 s, sys: 518 ms, total: 7.76 s\n",
      "Wall time: 9.29 s\n"
     ]
    },
    {
     "data": {
      "text/plain": [
       "XGBRegressor(base_score=0.5, booster='gbtree', colsample_bylevel=1,\n",
       "             colsample_bynode=1, colsample_bytree=0.7, enable_categorical=False,\n",
       "             gamma=0, gpu_id=0, importance_type=None,\n",
       "             interaction_constraints='', learning_rate=0.01, max_delta_step=0,\n",
       "             max_depth=10, min_child_weight=5, missing=nan,\n",
       "             monotone_constraints='()', n_estimators=500, n_jobs=2,\n",
       "             num_parallel_tree=1, predictor='auto', random_state=27,\n",
       "             reg_alpha=0, reg_lambda=1, scale_pos_weight=1, seed=27,\n",
       "             subsample=0.5, tree_method='gpu_hist', validate_parameters=1,\n",
       "             verbosity=None)"
      ]
     },
     "execution_count": 11,
     "metadata": {},
     "output_type": "execute_result"
    }
   ],
   "source": [
    "%time model1.fit(X_train, Y_train, early_stopping_rounds=50, eval_set=[(X_val, Y_val)], verbose=False)"
   ]
  },
  {
   "cell_type": "code",
   "execution_count": 12,
   "id": "e5b24c0a",
   "metadata": {
    "execution": {
     "iopub.execute_input": "2022-01-05T10:21:43.178315Z",
     "iopub.status.busy": "2022-01-05T10:21:43.177657Z",
     "iopub.status.idle": "2022-01-05T10:21:50.747375Z",
     "shell.execute_reply": "2022-01-05T10:21:50.747768Z"
    },
    "papermill": {
     "duration": 7.602217,
     "end_time": "2022-01-05T10:21:50.747932",
     "exception": false,
     "start_time": "2022-01-05T10:21:43.145715",
     "status": "completed"
    },
    "tags": []
   },
   "outputs": [
    {
     "name": "stdout",
     "output_type": "stream",
     "text": [
      "CPU times: user 7.54 s, sys: 52.1 ms, total: 7.59 s\n",
      "Wall time: 7.57 s\n"
     ]
    },
    {
     "data": {
      "text/plain": [
       "XGBRegressor(base_score=0.5, booster='gbtree', colsample_bylevel=1,\n",
       "             colsample_bynode=1, colsample_bytree=0.7, enable_categorical=False,\n",
       "             gamma=0, gpu_id=0, importance_type=None,\n",
       "             interaction_constraints='', learning_rate=0.01, max_delta_step=0,\n",
       "             max_depth=5, min_child_weight=0, missing=nan,\n",
       "             monotone_constraints='()', n_estimators=3000, n_jobs=2,\n",
       "             num_parallel_tree=1, predictor='auto', random_state=27,\n",
       "             reg_alpha=6e-05, reg_lambda=1, scale_pos_weight=1, seed=27,\n",
       "             subsample=0.7, tree_method='gpu_hist', validate_parameters=1,\n",
       "             verbosity=None)"
      ]
     },
     "execution_count": 12,
     "metadata": {},
     "output_type": "execute_result"
    }
   ],
   "source": [
    "%time model2.fit(X_train, Y_train, early_stopping_rounds=50, eval_set=[(X_val, Y_val)], verbose=False)"
   ]
  },
  {
   "cell_type": "code",
   "execution_count": 13,
   "id": "f716ee18",
   "metadata": {
    "execution": {
     "iopub.execute_input": "2022-01-05T10:21:50.783730Z",
     "iopub.status.busy": "2022-01-05T10:21:50.783020Z",
     "iopub.status.idle": "2022-01-05T10:21:50.949327Z",
     "shell.execute_reply": "2022-01-05T10:21:50.950092Z",
     "shell.execute_reply.started": "2022-01-05T10:06:56.376244Z"
    },
    "papermill": {
     "duration": 0.186744,
     "end_time": "2022-01-05T10:21:50.950297",
     "exception": false,
     "start_time": "2022-01-05T10:21:50.763553",
     "status": "completed"
    },
    "tags": []
   },
   "outputs": [
    {
     "name": "stdout",
     "output_type": "stream",
     "text": [
      "0.08531942373550266\n",
      "0.08594037184458035\n"
     ]
    }
   ],
   "source": [
    "print(check_rmse(model1,X_val,Y_val))\n",
    "print(check_rmse(model2,X_val,Y_val))"
   ]
  },
  {
   "cell_type": "markdown",
   "id": "c15edece",
   "metadata": {
    "papermill": {
     "duration": 0.019123,
     "end_time": "2022-01-05T10:21:50.993929",
     "exception": false,
     "start_time": "2022-01-05T10:21:50.974806",
     "status": "completed"
    },
    "tags": []
   },
   "source": [
    "## Plotting scatter plot between few real and predicted values"
   ]
  },
  {
   "cell_type": "code",
   "execution_count": 14,
   "id": "a3089bb2",
   "metadata": {
    "execution": {
     "iopub.execute_input": "2022-01-05T10:21:51.039357Z",
     "iopub.status.busy": "2022-01-05T10:21:51.038421Z",
     "iopub.status.idle": "2022-01-05T10:21:51.040498Z",
     "shell.execute_reply": "2022-01-05T10:21:51.040980Z",
     "shell.execute_reply.started": "2022-01-05T10:14:31.730202Z"
    },
    "papermill": {
     "duration": 0.028246,
     "end_time": "2022-01-05T10:21:51.041122",
     "exception": false,
     "start_time": "2022-01-05T10:21:51.012876",
     "status": "completed"
    },
    "tags": []
   },
   "outputs": [],
   "source": [
    "import matplotlib.pyplot as plt\n",
    "%matplotlib inline"
   ]
  },
  {
   "cell_type": "code",
   "execution_count": 15,
   "id": "21bcc2dc",
   "metadata": {
    "execution": {
     "iopub.execute_input": "2022-01-05T10:21:51.086147Z",
     "iopub.status.busy": "2022-01-05T10:21:51.085243Z",
     "iopub.status.idle": "2022-01-05T10:21:51.457557Z",
     "shell.execute_reply": "2022-01-05T10:21:51.457980Z",
     "shell.execute_reply.started": "2022-01-05T10:15:56.812815Z"
    },
    "papermill": {
     "duration": 0.398113,
     "end_time": "2022-01-05T10:21:51.458126",
     "exception": false,
     "start_time": "2022-01-05T10:21:51.060013",
     "status": "completed"
    },
    "tags": []
   },
   "outputs": [
    {
     "data": {
      "image/png": "[encoded data removed]",
      "text/plain": [
       "<Figure size 1080x1080 with 1 Axes>"
      ]
     },
     "metadata": {
      "needs_background": "light"
     },
     "output_type": "display_data"
    }
   ],
   "source": [
    "fig = plt.gcf()\n",
    "fig.set_size_inches(15, 15)\n",
    "plt.scatter(np.arange(0,len(Y_val[:200])),Y_val[:200] ,label=\"Real Value\")\n",
    "plt.scatter(np.arange(0,len(Y_val[:200])),model1.predict(X_val[:200]),label =\"Predicted Value with model 1\")\n",
    "plt.scatter(np.arange(0,len(Y_val[:200])),model2.predict(X_val[:200]),label =\"Predicted Value with model 2\")\n",
    "plt.legend()\n",
    "plt.show()"
   ]
  },
  {
   "cell_type": "code",
   "execution_count": null,
   "id": "3919e9eb",
   "metadata": {
    "papermill": {
     "duration": 0.017586,
     "end_time": "2022-01-05T10:21:51.493673",
     "exception": false,
     "start_time": "2022-01-05T10:21:51.476087",
     "status": "completed"
    },
    "tags": []
   },
   "outputs": [],
   "source": []
  }
 ],
 "metadata": {
  "kernelspec": {
   "display_name": "Python 3",
   "language": "python",
   "name": "python3"
  },
  "language_info": {
   "codemirror_mode": {
    "name": "ipython",
    "version": 3
   },
   "file_extension": ".py",
   "mimetype": "text/x-python",
   "name": "python",
   "nbconvert_exporter": "python",
   "pygments_lexer": "ipython3",
   "version": "3.7.12"
  },
  "papermill": {
   "default_parameters": {},
   "duration": 28.879321,
   "end_time": "2022-01-05T10:21:52.621597",
   "environment_variables": {},
   "exception": null,
   "input_path": "__notebook__.ipynb",
   "output_path": "__notebook__.ipynb",
   "parameters": {},
   "start_time": "2022-01-05T10:21:23.742276",
   "version": "2.3.3"
  }
 },
 "nbformat": 4,
 "nbformat_minor": 5
}
