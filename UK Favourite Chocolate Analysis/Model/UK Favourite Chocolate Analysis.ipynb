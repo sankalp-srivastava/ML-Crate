{
 "cells": [
  {
   "cell_type": "code",
   "execution_count": 1,
   "id": "02536dd8",
   "metadata": {},
   "outputs": [],
   "source": [
    "import pandas as pd\n",
    "import seaborn as sns\n",
    "import matplotlib.pyplot as plt"
   ]
  },
  {
   "cell_type": "code",
   "execution_count": 2,
   "id": "72d5bcb2",
   "metadata": {},
   "outputs": [
    {
     "data": {
      "text/html": [
       "<div>\n",
       "<style scoped>\n",
       "    .dataframe tbody tr th:only-of-type {\n",
       "        vertical-align: middle;\n",
       "    }\n",
       "\n",
       "    .dataframe tbody tr th {\n",
       "        vertical-align: top;\n",
       "    }\n",
       "\n",
       "    .dataframe thead th {\n",
       "        text-align: right;\n",
       "    }\n",
       "</style>\n",
       "<table border=\"1\" class=\"dataframe\">\n",
       "  <thead>\n",
       "    <tr style=\"text-align: right;\">\n",
       "      <th></th>\n",
       "      <th>Brand</th>\n",
       "      <th>Age Group</th>\n",
       "      <th>Rank</th>\n",
       "    </tr>\n",
       "  </thead>\n",
       "  <tbody>\n",
       "    <tr>\n",
       "      <th>0</th>\n",
       "      <td>Mars</td>\n",
       "      <td>18-24</td>\n",
       "      <td>1.0</td>\n",
       "    </tr>\n",
       "    <tr>\n",
       "      <th>1</th>\n",
       "      <td>Galaxy</td>\n",
       "      <td>18-24</td>\n",
       "      <td>2.0</td>\n",
       "    </tr>\n",
       "    <tr>\n",
       "      <th>2</th>\n",
       "      <td>Dairy Milk</td>\n",
       "      <td>18-24</td>\n",
       "      <td>3.0</td>\n",
       "    </tr>\n",
       "    <tr>\n",
       "      <th>3</th>\n",
       "      <td>Snickers</td>\n",
       "      <td>18-24</td>\n",
       "      <td>4.0</td>\n",
       "    </tr>\n",
       "    <tr>\n",
       "      <th>4</th>\n",
       "      <td>Twix</td>\n",
       "      <td>18-24</td>\n",
       "      <td>5.0</td>\n",
       "    </tr>\n",
       "  </tbody>\n",
       "</table>\n",
       "</div>"
      ],
      "text/plain": [
       "        Brand Age Group  Rank\n",
       "0        Mars     18-24   1.0\n",
       "1      Galaxy     18-24   2.0\n",
       "2  Dairy Milk     18-24   3.0\n",
       "3    Snickers     18-24   4.0\n",
       "4        Twix     18-24   5.0"
      ]
     },
     "execution_count": 2,
     "metadata": {},
     "output_type": "execute_result"
    }
   ],
   "source": [
    "df=pd.read_csv('C:/Users/VISHNU BHAARATH/Documents/open_source/ML-crate/UK Favourite Chocolate Analysis/Dataset/Top 10 Chocolate Bars.csv')\n",
    "df.head()"
   ]
  },
  {
   "cell_type": "code",
   "execution_count": 3,
   "id": "7d77b11f",
   "metadata": {},
   "outputs": [
    {
     "data": {
      "text/plain": [
       "array(['18-24', '35-44', '65+'], dtype=object)"
      ]
     },
     "execution_count": 3,
     "metadata": {},
     "output_type": "execute_result"
    }
   ],
   "source": [
    "df['Age Group'].unique()  #getting the unique age group values"
   ]
  },
  {
   "cell_type": "markdown",
   "id": "9648fa9b",
   "metadata": {},
   "source": [
    "Analysis of Age group 18 to 24"
   ]
  },
  {
   "cell_type": "code",
   "execution_count": 4,
   "id": "d8c4488e",
   "metadata": {},
   "outputs": [
    {
     "data": {
      "text/plain": [
       "(13, 3)"
      ]
     },
     "execution_count": 4,
     "metadata": {},
     "output_type": "execute_result"
    }
   ],
   "source": [
    "df_age_grp_18_24=df[df['Age Group']=='18-24']\n",
    "df_age_grp_18_24.shape"
   ]
  },
  {
   "cell_type": "code",
   "execution_count": 5,
   "id": "01a2227e",
   "metadata": {},
   "outputs": [
    {
     "data": {
      "text/html": [
       "<div>\n",
       "<style scoped>\n",
       "    .dataframe tbody tr th:only-of-type {\n",
       "        vertical-align: middle;\n",
       "    }\n",
       "\n",
       "    .dataframe tbody tr th {\n",
       "        vertical-align: top;\n",
       "    }\n",
       "\n",
       "    .dataframe thead th {\n",
       "        text-align: right;\n",
       "    }\n",
       "</style>\n",
       "<table border=\"1\" class=\"dataframe\">\n",
       "  <thead>\n",
       "    <tr style=\"text-align: right;\">\n",
       "      <th></th>\n",
       "      <th>Brand</th>\n",
       "      <th>Age Group</th>\n",
       "      <th>Rank</th>\n",
       "    </tr>\n",
       "  </thead>\n",
       "  <tbody>\n",
       "    <tr>\n",
       "      <th>0</th>\n",
       "      <td>Mars</td>\n",
       "      <td>18-24</td>\n",
       "      <td>1.0</td>\n",
       "    </tr>\n",
       "    <tr>\n",
       "      <th>1</th>\n",
       "      <td>Galaxy</td>\n",
       "      <td>18-24</td>\n",
       "      <td>2.0</td>\n",
       "    </tr>\n",
       "    <tr>\n",
       "      <th>2</th>\n",
       "      <td>Dairy Milk</td>\n",
       "      <td>18-24</td>\n",
       "      <td>3.0</td>\n",
       "    </tr>\n",
       "    <tr>\n",
       "      <th>3</th>\n",
       "      <td>Snickers</td>\n",
       "      <td>18-24</td>\n",
       "      <td>4.0</td>\n",
       "    </tr>\n",
       "    <tr>\n",
       "      <th>4</th>\n",
       "      <td>Twix</td>\n",
       "      <td>18-24</td>\n",
       "      <td>5.0</td>\n",
       "    </tr>\n",
       "    <tr>\n",
       "      <th>5</th>\n",
       "      <td>Wispa</td>\n",
       "      <td>18-24</td>\n",
       "      <td>6.0</td>\n",
       "    </tr>\n",
       "    <tr>\n",
       "      <th>6</th>\n",
       "      <td>KitKat</td>\n",
       "      <td>18-24</td>\n",
       "      <td>7.0</td>\n",
       "    </tr>\n",
       "    <tr>\n",
       "      <th>7</th>\n",
       "      <td>Double Decker</td>\n",
       "      <td>18-24</td>\n",
       "      <td>8.0</td>\n",
       "    </tr>\n",
       "    <tr>\n",
       "      <th>8</th>\n",
       "      <td>Twirl</td>\n",
       "      <td>18-24</td>\n",
       "      <td>9.0</td>\n",
       "    </tr>\n",
       "    <tr>\n",
       "      <th>9</th>\n",
       "      <td>Crunchie</td>\n",
       "      <td>18-24</td>\n",
       "      <td>10.0</td>\n",
       "    </tr>\n",
       "    <tr>\n",
       "      <th>10</th>\n",
       "      <td>Boost</td>\n",
       "      <td>18-24</td>\n",
       "      <td>NaN</td>\n",
       "    </tr>\n",
       "    <tr>\n",
       "      <th>11</th>\n",
       "      <td>Bounty</td>\n",
       "      <td>18-24</td>\n",
       "      <td>NaN</td>\n",
       "    </tr>\n",
       "    <tr>\n",
       "      <th>12</th>\n",
       "      <td>Picnic</td>\n",
       "      <td>18-24</td>\n",
       "      <td>NaN</td>\n",
       "    </tr>\n",
       "  </tbody>\n",
       "</table>\n",
       "</div>"
      ],
      "text/plain": [
       "            Brand Age Group  Rank\n",
       "0            Mars     18-24   1.0\n",
       "1          Galaxy     18-24   2.0\n",
       "2      Dairy Milk     18-24   3.0\n",
       "3        Snickers     18-24   4.0\n",
       "4            Twix     18-24   5.0\n",
       "5           Wispa     18-24   6.0\n",
       "6          KitKat     18-24   7.0\n",
       "7   Double Decker     18-24   8.0\n",
       "8           Twirl     18-24   9.0\n",
       "9        Crunchie     18-24  10.0\n",
       "10          Boost     18-24   NaN\n",
       "11         Bounty     18-24   NaN\n",
       "12         Picnic     18-24   NaN"
      ]
     },
     "execution_count": 5,
     "metadata": {},
     "output_type": "execute_result"
    }
   ],
   "source": [
    "df_age_grp_18_24.head(13)"
   ]
  },
  {
   "cell_type": "code",
   "execution_count": 6,
   "id": "d5e81e99",
   "metadata": {},
   "outputs": [
    {
     "data": {
      "text/plain": [
       "array(['Mars', 'Galaxy', 'Dairy Milk', 'Snickers', 'Twix', 'Wispa',\n",
       "       'KitKat', 'Double Decker', 'Twirl', 'Crunchie', 'Boost', 'Bounty',\n",
       "       'Picnic'], dtype=object)"
      ]
     },
     "execution_count": 6,
     "metadata": {},
     "output_type": "execute_result"
    }
   ],
   "source": [
    "df_age_grp_18_24['Brand'].unique()"
   ]
  },
  {
   "cell_type": "code",
   "execution_count": 7,
   "id": "6786ea06",
   "metadata": {},
   "outputs": [
    {
     "data": {
      "image/png": "[encoded data removed]",
      "text/plain": [
       "<Figure size 576x432 with 1 Axes>"
      ]
     },
     "metadata": {
      "needs_background": "light"
     },
     "output_type": "display_data"
    }
   ],
   "source": [
    "df_Brand = df_age_grp_18_24.pivot_table(index=['Brand'],\n",
    "                                  values='Rank',\n",
    "                                  )\n",
    "df_Brand.plot(kind='bar', figsize=(8,6))\n",
    "plt.ylabel('Rank')\n",
    "plt.title('Brand');"
   ]
  },
  {
   "cell_type": "markdown",
   "id": "d3aa878b",
   "metadata": {},
   "source": [
    "Analysis of Age group 35 to 44"
   ]
  },
  {
   "cell_type": "code",
   "execution_count": 8,
   "id": "d705ff1e",
   "metadata": {},
   "outputs": [
    {
     "data": {
      "text/plain": [
       "(13, 3)"
      ]
     },
     "execution_count": 8,
     "metadata": {},
     "output_type": "execute_result"
    }
   ],
   "source": [
    "df_age_grp_35_44=df[df['Age Group']=='35-44']\n",
    "df_age_grp_35_44.shape"
   ]
  },
  {
   "cell_type": "code",
   "execution_count": 9,
   "id": "75cd9538",
   "metadata": {},
   "outputs": [
    {
     "data": {
      "text/html": [
       "<div>\n",
       "<style scoped>\n",
       "    .dataframe tbody tr th:only-of-type {\n",
       "        vertical-align: middle;\n",
       "    }\n",
       "\n",
       "    .dataframe tbody tr th {\n",
       "        vertical-align: top;\n",
       "    }\n",
       "\n",
       "    .dataframe thead th {\n",
       "        text-align: right;\n",
       "    }\n",
       "</style>\n",
       "<table border=\"1\" class=\"dataframe\">\n",
       "  <thead>\n",
       "    <tr style=\"text-align: right;\">\n",
       "      <th></th>\n",
       "      <th>Brand</th>\n",
       "      <th>Age Group</th>\n",
       "      <th>Rank</th>\n",
       "    </tr>\n",
       "  </thead>\n",
       "  <tbody>\n",
       "    <tr>\n",
       "      <th>13</th>\n",
       "      <td>Mars</td>\n",
       "      <td>35-44</td>\n",
       "      <td>1.0</td>\n",
       "    </tr>\n",
       "    <tr>\n",
       "      <th>14</th>\n",
       "      <td>Galaxy</td>\n",
       "      <td>35-44</td>\n",
       "      <td>2.0</td>\n",
       "    </tr>\n",
       "    <tr>\n",
       "      <th>15</th>\n",
       "      <td>Snickers</td>\n",
       "      <td>35-44</td>\n",
       "      <td>3.0</td>\n",
       "    </tr>\n",
       "    <tr>\n",
       "      <th>16</th>\n",
       "      <td>Dairy Milk</td>\n",
       "      <td>35-44</td>\n",
       "      <td>4.0</td>\n",
       "    </tr>\n",
       "    <tr>\n",
       "      <th>17</th>\n",
       "      <td>Twix</td>\n",
       "      <td>35-44</td>\n",
       "      <td>5.0</td>\n",
       "    </tr>\n",
       "    <tr>\n",
       "      <th>18</th>\n",
       "      <td>Wispa</td>\n",
       "      <td>35-44</td>\n",
       "      <td>6.0</td>\n",
       "    </tr>\n",
       "    <tr>\n",
       "      <th>19</th>\n",
       "      <td>Double Decker</td>\n",
       "      <td>35-44</td>\n",
       "      <td>7.0</td>\n",
       "    </tr>\n",
       "    <tr>\n",
       "      <th>20</th>\n",
       "      <td>Boost</td>\n",
       "      <td>35-44</td>\n",
       "      <td>8.0</td>\n",
       "    </tr>\n",
       "    <tr>\n",
       "      <th>21</th>\n",
       "      <td>Twirl</td>\n",
       "      <td>35-44</td>\n",
       "      <td>9.0</td>\n",
       "    </tr>\n",
       "    <tr>\n",
       "      <th>22</th>\n",
       "      <td>KitKat</td>\n",
       "      <td>35-44</td>\n",
       "      <td>10.0</td>\n",
       "    </tr>\n",
       "    <tr>\n",
       "      <th>23</th>\n",
       "      <td>Bounty</td>\n",
       "      <td>35-44</td>\n",
       "      <td>NaN</td>\n",
       "    </tr>\n",
       "    <tr>\n",
       "      <th>24</th>\n",
       "      <td>Crunchie</td>\n",
       "      <td>35-44</td>\n",
       "      <td>NaN</td>\n",
       "    </tr>\n",
       "    <tr>\n",
       "      <th>25</th>\n",
       "      <td>Picnic</td>\n",
       "      <td>35-44</td>\n",
       "      <td>NaN</td>\n",
       "    </tr>\n",
       "  </tbody>\n",
       "</table>\n",
       "</div>"
      ],
      "text/plain": [
       "            Brand Age Group  Rank\n",
       "13           Mars     35-44   1.0\n",
       "14         Galaxy     35-44   2.0\n",
       "15       Snickers     35-44   3.0\n",
       "16     Dairy Milk     35-44   4.0\n",
       "17           Twix     35-44   5.0\n",
       "18          Wispa     35-44   6.0\n",
       "19  Double Decker     35-44   7.0\n",
       "20          Boost     35-44   8.0\n",
       "21          Twirl     35-44   9.0\n",
       "22         KitKat     35-44  10.0\n",
       "23         Bounty     35-44   NaN\n",
       "24       Crunchie     35-44   NaN\n",
       "25         Picnic     35-44   NaN"
      ]
     },
     "execution_count": 9,
     "metadata": {},
     "output_type": "execute_result"
    }
   ],
   "source": [
    "df_age_grp_35_44.head(13)"
   ]
  },
  {
   "cell_type": "code",
   "execution_count": 10,
   "id": "a425d047",
   "metadata": {},
   "outputs": [
    {
     "data": {
      "text/plain": [
       "array(['Mars', 'Galaxy', 'Snickers', 'Dairy Milk', 'Twix', 'Wispa',\n",
       "       'Double Decker', 'Boost', 'Twirl', 'KitKat', 'Bounty', 'Crunchie',\n",
       "       'Picnic'], dtype=object)"
      ]
     },
     "execution_count": 10,
     "metadata": {},
     "output_type": "execute_result"
    }
   ],
   "source": [
    "df_age_grp_35_44['Brand'].unique()"
   ]
  },
  {
   "cell_type": "code",
   "execution_count": 11,
   "id": "509fde78",
   "metadata": {},
   "outputs": [
    {
     "data": {
      "image/png": "[encoded data removed]",
      "text/plain": [
       "<Figure size 576x432 with 1 Axes>"
      ]
     },
     "metadata": {
      "needs_background": "light"
     },
     "output_type": "display_data"
    }
   ],
   "source": [
    "df_Brand = df_age_grp_35_44.pivot_table(index=['Brand'],\n",
    "                                  values='Rank',\n",
    "                                  )\n",
    "df_Brand.plot(kind='bar', figsize=(8,6))\n",
    "plt.ylabel('Rank')\n",
    "plt.title('Brand');"
   ]
  },
  {
   "cell_type": "markdown",
   "id": "771c5b12",
   "metadata": {},
   "source": [
    "Analysis of Age group 65+"
   ]
  },
  {
   "cell_type": "code",
   "execution_count": 12,
   "id": "e303b145",
   "metadata": {},
   "outputs": [
    {
     "data": {
      "text/plain": [
       "(13, 3)"
      ]
     },
     "execution_count": 12,
     "metadata": {},
     "output_type": "execute_result"
    }
   ],
   "source": [
    "df_age_grp_65=df[df['Age Group']=='65+']\n",
    "df_age_grp_65.shape"
   ]
  },
  {
   "cell_type": "code",
   "execution_count": 13,
   "id": "25e2e142",
   "metadata": {},
   "outputs": [
    {
     "data": {
      "text/html": [
       "<div>\n",
       "<style scoped>\n",
       "    .dataframe tbody tr th:only-of-type {\n",
       "        vertical-align: middle;\n",
       "    }\n",
       "\n",
       "    .dataframe tbody tr th {\n",
       "        vertical-align: top;\n",
       "    }\n",
       "\n",
       "    .dataframe thead th {\n",
       "        text-align: right;\n",
       "    }\n",
       "</style>\n",
       "<table border=\"1\" class=\"dataframe\">\n",
       "  <thead>\n",
       "    <tr style=\"text-align: right;\">\n",
       "      <th></th>\n",
       "      <th>Brand</th>\n",
       "      <th>Age Group</th>\n",
       "      <th>Rank</th>\n",
       "    </tr>\n",
       "  </thead>\n",
       "  <tbody>\n",
       "    <tr>\n",
       "      <th>26</th>\n",
       "      <td>Mars</td>\n",
       "      <td>65+</td>\n",
       "      <td>1.0</td>\n",
       "    </tr>\n",
       "    <tr>\n",
       "      <th>27</th>\n",
       "      <td>Galaxy</td>\n",
       "      <td>65+</td>\n",
       "      <td>2.0</td>\n",
       "    </tr>\n",
       "    <tr>\n",
       "      <th>28</th>\n",
       "      <td>Snickers</td>\n",
       "      <td>65+</td>\n",
       "      <td>3.0</td>\n",
       "    </tr>\n",
       "    <tr>\n",
       "      <th>29</th>\n",
       "      <td>Twix</td>\n",
       "      <td>65+</td>\n",
       "      <td>4.0</td>\n",
       "    </tr>\n",
       "    <tr>\n",
       "      <th>30</th>\n",
       "      <td>KitKat</td>\n",
       "      <td>65+</td>\n",
       "      <td>5.0</td>\n",
       "    </tr>\n",
       "    <tr>\n",
       "      <th>31</th>\n",
       "      <td>Crunchie</td>\n",
       "      <td>65+</td>\n",
       "      <td>6.0</td>\n",
       "    </tr>\n",
       "    <tr>\n",
       "      <th>32</th>\n",
       "      <td>Bounty</td>\n",
       "      <td>65+</td>\n",
       "      <td>7.0</td>\n",
       "    </tr>\n",
       "    <tr>\n",
       "      <th>33</th>\n",
       "      <td>Picnic</td>\n",
       "      <td>65+</td>\n",
       "      <td>8.0</td>\n",
       "    </tr>\n",
       "    <tr>\n",
       "      <th>34</th>\n",
       "      <td>Twirl</td>\n",
       "      <td>65+</td>\n",
       "      <td>9.0</td>\n",
       "    </tr>\n",
       "    <tr>\n",
       "      <th>35</th>\n",
       "      <td>Dairy Milk</td>\n",
       "      <td>65+</td>\n",
       "      <td>10.0</td>\n",
       "    </tr>\n",
       "    <tr>\n",
       "      <th>36</th>\n",
       "      <td>Boost</td>\n",
       "      <td>65+</td>\n",
       "      <td>NaN</td>\n",
       "    </tr>\n",
       "    <tr>\n",
       "      <th>37</th>\n",
       "      <td>Double Decker</td>\n",
       "      <td>65+</td>\n",
       "      <td>NaN</td>\n",
       "    </tr>\n",
       "    <tr>\n",
       "      <th>38</th>\n",
       "      <td>Wispa</td>\n",
       "      <td>65+</td>\n",
       "      <td>NaN</td>\n",
       "    </tr>\n",
       "  </tbody>\n",
       "</table>\n",
       "</div>"
      ],
      "text/plain": [
       "            Brand Age Group  Rank\n",
       "26           Mars       65+   1.0\n",
       "27         Galaxy       65+   2.0\n",
       "28       Snickers       65+   3.0\n",
       "29           Twix       65+   4.0\n",
       "30         KitKat       65+   5.0\n",
       "31       Crunchie       65+   6.0\n",
       "32         Bounty       65+   7.0\n",
       "33         Picnic       65+   8.0\n",
       "34          Twirl       65+   9.0\n",
       "35     Dairy Milk       65+  10.0\n",
       "36          Boost       65+   NaN\n",
       "37  Double Decker       65+   NaN\n",
       "38          Wispa       65+   NaN"
      ]
     },
     "execution_count": 13,
     "metadata": {},
     "output_type": "execute_result"
    }
   ],
   "source": [
    "df_age_grp_65.head(13)"
   ]
  },
  {
   "cell_type": "code",
   "execution_count": 14,
   "id": "bcd464bf",
   "metadata": {},
   "outputs": [
    {
     "data": {
      "text/plain": [
       "array(['Mars', 'Galaxy', 'Snickers', 'Twix', 'KitKat', 'Crunchie',\n",
       "       'Bounty', 'Picnic', 'Twirl', 'Dairy Milk', 'Boost',\n",
       "       'Double Decker', 'Wispa'], dtype=object)"
      ]
     },
     "execution_count": 14,
     "metadata": {},
     "output_type": "execute_result"
    }
   ],
   "source": [
    "df_age_grp_65['Brand'].unique()"
   ]
  },
  {
   "cell_type": "code",
   "execution_count": 15,
   "id": "bd116c4f",
   "metadata": {},
   "outputs": [
    {
     "data": {
      "image/png": "[encoded data removed]",
      "text/plain": [
       "<Figure size 576x432 with 1 Axes>"
      ]
     },
     "metadata": {
      "needs_background": "light"
     },
     "output_type": "display_data"
    }
   ],
   "source": [
    "df_Brand = df_age_grp_35_44.pivot_table(index=['Brand'],\n",
    "                                  values='Rank',\n",
    "                                  )\n",
    "df_Brand.plot(kind='bar', figsize=(8,6))\n",
    "plt.ylabel('Rank')\n",
    "plt.title('Brand');"
   ]
  },
  {
   "cell_type": "code",
   "execution_count": null,
   "id": "4358d31a",
   "metadata": {},
   "outputs": [],
   "source": []
  }
 ],
 "metadata": {
  "kernelspec": {
   "display_name": "Python 3 (ipykernel)",
   "language": "python",
   "name": "python3"
  },
  "language_info": {
   "codemirror_mode": {
    "name": "ipython",
    "version": 3
   },
   "file_extension": ".py",
   "mimetype": "text/x-python",
   "name": "python",
   "nbconvert_exporter": "python",
   "pygments_lexer": "ipython3",
   "version": "3.8.3"
  }
 },
 "nbformat": 4,
 "nbformat_minor": 5
}
