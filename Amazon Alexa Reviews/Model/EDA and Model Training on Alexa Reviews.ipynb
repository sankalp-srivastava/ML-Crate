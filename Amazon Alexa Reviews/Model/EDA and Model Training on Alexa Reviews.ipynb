{
 "cells": [
  {
   "cell_type": "markdown",
   "id": "193df679",
   "metadata": {
    "papermill": {
     "duration": 0.050789,
     "end_time": "2022-02-15T13:50:38.263745",
     "exception": false,
     "start_time": "2022-02-15T13:50:38.212956",
     "status": "completed"
    },
    "tags": []
   },
   "source": [
    "## Importing Libraries"
   ]
  },
  {
   "cell_type": "code",
   "execution_count": 1,
   "id": "7d0eb029",
   "metadata": {
    "execution": {
     "iopub.execute_input": "2022-02-15T13:50:38.360812Z",
     "iopub.status.busy": "2022-02-15T13:50:38.359783Z",
     "iopub.status.idle": "2022-02-15T13:50:44.103872Z",
     "shell.execute_reply": "2022-02-15T13:50:44.102808Z",
     "shell.execute_reply.started": "2022-02-15T12:53:06.473014Z"
    },
    "papermill": {
     "duration": 5.793507,
     "end_time": "2022-02-15T13:50:44.104038",
     "exception": false,
     "start_time": "2022-02-15T13:50:38.310531",
     "status": "completed"
    },
    "tags": []
   },
   "outputs": [],
   "source": [
    "import tensorflow as tf\n",
    "import pandas as pd\n",
    "import numpy as np\n",
    "import seaborn as sns\n",
    "import matplotlib.pyplot as plt\n",
    "from wordcloud import WordCloud\n",
    "import plotly.graph_objs as go\n",
    "from plotly.offline import init_notebook_mode,iplot\n",
    "from sklearn.feature_extraction.text import CountVectorizer\n",
    "from sklearn.model_selection import train_test_split\n",
    "from sklearn.metrics import classification_report, confusion_matrix"
   ]
  },
  {
   "cell_type": "markdown",
   "id": "19feb0aa",
   "metadata": {
    "papermill": {
     "duration": 0.047168,
     "end_time": "2022-02-15T13:50:44.198023",
     "exception": false,
     "start_time": "2022-02-15T13:50:44.150855",
     "status": "completed"
    },
    "tags": []
   },
   "source": [
    "## Exploring Dataset"
   ]
  },
  {
   "cell_type": "code",
   "execution_count": 2,
   "id": "b069f35a",
   "metadata": {
    "execution": {
     "iopub.execute_input": "2022-02-15T13:50:44.295576Z",
     "iopub.status.busy": "2022-02-15T13:50:44.294974Z",
     "iopub.status.idle": "2022-02-15T13:50:44.335613Z",
     "shell.execute_reply": "2022-02-15T13:50:44.335035Z",
     "shell.execute_reply.started": "2022-02-15T13:05:42.959047Z"
    },
    "papermill": {
     "duration": 0.090017,
     "end_time": "2022-02-15T13:50:44.335760",
     "exception": false,
     "start_time": "2022-02-15T13:50:44.245743",
     "status": "completed"
    },
    "tags": []
   },
   "outputs": [],
   "source": [
    "df_alexa = pd.read_csv('../input/amazon-alexa-reviews/amazon_alexa.tsv', sep = '\\t')"
   ]
  },
  {
   "cell_type": "code",
   "execution_count": 3,
   "id": "86d4e56a",
   "metadata": {
    "execution": {
     "iopub.execute_input": "2022-02-15T13:50:44.433259Z",
     "iopub.status.busy": "2022-02-15T13:50:44.432667Z",
     "iopub.status.idle": "2022-02-15T13:50:44.450331Z",
     "shell.execute_reply": "2022-02-15T13:50:44.450773Z",
     "shell.execute_reply.started": "2022-02-15T13:05:43.228183Z"
    },
    "papermill": {
     "duration": 0.067405,
     "end_time": "2022-02-15T13:50:44.450932",
     "exception": false,
     "start_time": "2022-02-15T13:50:44.383527",
     "status": "completed"
    },
    "tags": []
   },
   "outputs": [
    {
     "data": {
      "text/html": [
       "<div>\n",
       "<style scoped>\n",
       "    .dataframe tbody tr th:only-of-type {\n",
       "        vertical-align: middle;\n",
       "    }\n",
       "\n",
       "    .dataframe tbody tr th {\n",
       "        vertical-align: top;\n",
       "    }\n",
       "\n",
       "    .dataframe thead th {\n",
       "        text-align: right;\n",
       "    }\n",
       "</style>\n",
       "<table border=\"1\" class=\"dataframe\">\n",
       "  <thead>\n",
       "    <tr style=\"text-align: right;\">\n",
       "      <th></th>\n",
       "      <th>rating</th>\n",
       "      <th>date</th>\n",
       "      <th>variation</th>\n",
       "      <th>verified_reviews</th>\n",
       "      <th>feedback</th>\n",
       "    </tr>\n",
       "  </thead>\n",
       "  <tbody>\n",
       "    <tr>\n",
       "      <th>0</th>\n",
       "      <td>5</td>\n",
       "      <td>31-Jul-18</td>\n",
       "      <td>Charcoal Fabric</td>\n",
       "      <td>Love my Echo!</td>\n",
       "      <td>1</td>\n",
       "    </tr>\n",
       "    <tr>\n",
       "      <th>1</th>\n",
       "      <td>5</td>\n",
       "      <td>31-Jul-18</td>\n",
       "      <td>Charcoal Fabric</td>\n",
       "      <td>Loved it!</td>\n",
       "      <td>1</td>\n",
       "    </tr>\n",
       "    <tr>\n",
       "      <th>2</th>\n",
       "      <td>4</td>\n",
       "      <td>31-Jul-18</td>\n",
       "      <td>Walnut Finish</td>\n",
       "      <td>Sometimes while playing a game, you can answer...</td>\n",
       "      <td>1</td>\n",
       "    </tr>\n",
       "    <tr>\n",
       "      <th>3</th>\n",
       "      <td>5</td>\n",
       "      <td>31-Jul-18</td>\n",
       "      <td>Charcoal Fabric</td>\n",
       "      <td>I have had a lot of fun with this thing. My 4 ...</td>\n",
       "      <td>1</td>\n",
       "    </tr>\n",
       "    <tr>\n",
       "      <th>4</th>\n",
       "      <td>5</td>\n",
       "      <td>31-Jul-18</td>\n",
       "      <td>Charcoal Fabric</td>\n",
       "      <td>Music</td>\n",
       "      <td>1</td>\n",
       "    </tr>\n",
       "  </tbody>\n",
       "</table>\n",
       "</div>"
      ],
      "text/plain": [
       "   rating       date         variation  \\\n",
       "0       5  31-Jul-18  Charcoal Fabric    \n",
       "1       5  31-Jul-18  Charcoal Fabric    \n",
       "2       4  31-Jul-18    Walnut Finish    \n",
       "3       5  31-Jul-18  Charcoal Fabric    \n",
       "4       5  31-Jul-18  Charcoal Fabric    \n",
       "\n",
       "                                    verified_reviews  feedback  \n",
       "0                                      Love my Echo!         1  \n",
       "1                                          Loved it!         1  \n",
       "2  Sometimes while playing a game, you can answer...         1  \n",
       "3  I have had a lot of fun with this thing. My 4 ...         1  \n",
       "4                                              Music         1  "
      ]
     },
     "execution_count": 3,
     "metadata": {},
     "output_type": "execute_result"
    }
   ],
   "source": [
    "df_alexa.head()"
   ]
  },
  {
   "cell_type": "code",
   "execution_count": 4,
   "id": "f732c354",
   "metadata": {
    "execution": {
     "iopub.execute_input": "2022-02-15T13:50:44.569819Z",
     "iopub.status.busy": "2022-02-15T13:50:44.548669Z",
     "iopub.status.idle": "2022-02-15T13:50:44.571738Z",
     "shell.execute_reply": "2022-02-15T13:50:44.572554Z",
     "shell.execute_reply.started": "2022-02-15T13:05:44.136929Z"
    },
    "papermill": {
     "duration": 0.074123,
     "end_time": "2022-02-15T13:50:44.572775",
     "exception": false,
     "start_time": "2022-02-15T13:50:44.498652",
     "status": "completed"
    },
    "tags": []
   },
   "outputs": [
    {
     "name": "stdout",
     "output_type": "stream",
     "text": [
      "<class 'pandas.core.frame.DataFrame'>\n",
      "RangeIndex: 3150 entries, 0 to 3149\n",
      "Data columns (total 5 columns):\n",
      " #   Column            Non-Null Count  Dtype \n",
      "---  ------            --------------  ----- \n",
      " 0   rating            3150 non-null   int64 \n",
      " 1   date              3150 non-null   object\n",
      " 2   variation         3150 non-null   object\n",
      " 3   verified_reviews  3150 non-null   object\n",
      " 4   feedback          3150 non-null   int64 \n",
      "dtypes: int64(2), object(3)\n",
      "memory usage: 123.2+ KB\n"
     ]
    }
   ],
   "source": [
    "df_alexa.info()"
   ]
  },
  {
   "cell_type": "markdown",
   "id": "9f642dad",
   "metadata": {
    "papermill": {
     "duration": 0.047426,
     "end_time": "2022-02-15T13:50:44.669343",
     "exception": false,
     "start_time": "2022-02-15T13:50:44.621917",
     "status": "completed"
    },
    "tags": []
   },
   "source": [
    "### Lets look into positive and negative reviews"
   ]
  },
  {
   "cell_type": "code",
   "execution_count": 5,
   "id": "32be3b31",
   "metadata": {
    "execution": {
     "iopub.execute_input": "2022-02-15T13:50:44.769359Z",
     "iopub.status.busy": "2022-02-15T13:50:44.767179Z",
     "iopub.status.idle": "2022-02-15T13:50:44.782180Z",
     "shell.execute_reply": "2022-02-15T13:50:44.782691Z",
     "shell.execute_reply.started": "2022-02-15T12:54:42.271076Z"
    },
    "papermill": {
     "duration": 0.065749,
     "end_time": "2022-02-15T13:50:44.782851",
     "exception": false,
     "start_time": "2022-02-15T13:50:44.717102",
     "status": "completed"
    },
    "tags": []
   },
   "outputs": [
    {
     "data": {
      "text/html": [
       "<div>\n",
       "<style scoped>\n",
       "    .dataframe tbody tr th:only-of-type {\n",
       "        vertical-align: middle;\n",
       "    }\n",
       "\n",
       "    .dataframe tbody tr th {\n",
       "        vertical-align: top;\n",
       "    }\n",
       "\n",
       "    .dataframe thead th {\n",
       "        text-align: right;\n",
       "    }\n",
       "</style>\n",
       "<table border=\"1\" class=\"dataframe\">\n",
       "  <thead>\n",
       "    <tr style=\"text-align: right;\">\n",
       "      <th></th>\n",
       "      <th>rating</th>\n",
       "      <th>date</th>\n",
       "      <th>variation</th>\n",
       "      <th>verified_reviews</th>\n",
       "      <th>feedback</th>\n",
       "    </tr>\n",
       "  </thead>\n",
       "  <tbody>\n",
       "    <tr>\n",
       "      <th>0</th>\n",
       "      <td>5</td>\n",
       "      <td>31-Jul-18</td>\n",
       "      <td>Charcoal Fabric</td>\n",
       "      <td>Love my Echo!</td>\n",
       "      <td>1</td>\n",
       "    </tr>\n",
       "    <tr>\n",
       "      <th>1</th>\n",
       "      <td>5</td>\n",
       "      <td>31-Jul-18</td>\n",
       "      <td>Charcoal Fabric</td>\n",
       "      <td>Loved it!</td>\n",
       "      <td>1</td>\n",
       "    </tr>\n",
       "    <tr>\n",
       "      <th>2</th>\n",
       "      <td>4</td>\n",
       "      <td>31-Jul-18</td>\n",
       "      <td>Walnut Finish</td>\n",
       "      <td>Sometimes while playing a game, you can answer...</td>\n",
       "      <td>1</td>\n",
       "    </tr>\n",
       "    <tr>\n",
       "      <th>3</th>\n",
       "      <td>5</td>\n",
       "      <td>31-Jul-18</td>\n",
       "      <td>Charcoal Fabric</td>\n",
       "      <td>I have had a lot of fun with this thing. My 4 ...</td>\n",
       "      <td>1</td>\n",
       "    </tr>\n",
       "    <tr>\n",
       "      <th>4</th>\n",
       "      <td>5</td>\n",
       "      <td>31-Jul-18</td>\n",
       "      <td>Charcoal Fabric</td>\n",
       "      <td>Music</td>\n",
       "      <td>1</td>\n",
       "    </tr>\n",
       "    <tr>\n",
       "      <th>...</th>\n",
       "      <td>...</td>\n",
       "      <td>...</td>\n",
       "      <td>...</td>\n",
       "      <td>...</td>\n",
       "      <td>...</td>\n",
       "    </tr>\n",
       "    <tr>\n",
       "      <th>3145</th>\n",
       "      <td>5</td>\n",
       "      <td>30-Jul-18</td>\n",
       "      <td>Black  Dot</td>\n",
       "      <td>Perfect for kids, adults and everyone in betwe...</td>\n",
       "      <td>1</td>\n",
       "    </tr>\n",
       "    <tr>\n",
       "      <th>3146</th>\n",
       "      <td>5</td>\n",
       "      <td>30-Jul-18</td>\n",
       "      <td>Black  Dot</td>\n",
       "      <td>Listening to music, searching locations, check...</td>\n",
       "      <td>1</td>\n",
       "    </tr>\n",
       "    <tr>\n",
       "      <th>3147</th>\n",
       "      <td>5</td>\n",
       "      <td>30-Jul-18</td>\n",
       "      <td>Black  Dot</td>\n",
       "      <td>I do love these things, i have them running my...</td>\n",
       "      <td>1</td>\n",
       "    </tr>\n",
       "    <tr>\n",
       "      <th>3148</th>\n",
       "      <td>5</td>\n",
       "      <td>30-Jul-18</td>\n",
       "      <td>White  Dot</td>\n",
       "      <td>Only complaint I have is that the sound qualit...</td>\n",
       "      <td>1</td>\n",
       "    </tr>\n",
       "    <tr>\n",
       "      <th>3149</th>\n",
       "      <td>4</td>\n",
       "      <td>29-Jul-18</td>\n",
       "      <td>Black  Dot</td>\n",
       "      <td>Good</td>\n",
       "      <td>1</td>\n",
       "    </tr>\n",
       "  </tbody>\n",
       "</table>\n",
       "<p>2893 rows × 5 columns</p>\n",
       "</div>"
      ],
      "text/plain": [
       "      rating       date         variation  \\\n",
       "0          5  31-Jul-18  Charcoal Fabric    \n",
       "1          5  31-Jul-18  Charcoal Fabric    \n",
       "2          4  31-Jul-18    Walnut Finish    \n",
       "3          5  31-Jul-18  Charcoal Fabric    \n",
       "4          5  31-Jul-18  Charcoal Fabric    \n",
       "...      ...        ...               ...   \n",
       "3145       5  30-Jul-18        Black  Dot   \n",
       "3146       5  30-Jul-18        Black  Dot   \n",
       "3147       5  30-Jul-18        Black  Dot   \n",
       "3148       5  30-Jul-18        White  Dot   \n",
       "3149       4  29-Jul-18        Black  Dot   \n",
       "\n",
       "                                       verified_reviews  feedback  \n",
       "0                                         Love my Echo!         1  \n",
       "1                                             Loved it!         1  \n",
       "2     Sometimes while playing a game, you can answer...         1  \n",
       "3     I have had a lot of fun with this thing. My 4 ...         1  \n",
       "4                                                 Music         1  \n",
       "...                                                 ...       ...  \n",
       "3145  Perfect for kids, adults and everyone in betwe...         1  \n",
       "3146  Listening to music, searching locations, check...         1  \n",
       "3147  I do love these things, i have them running my...         1  \n",
       "3148  Only complaint I have is that the sound qualit...         1  \n",
       "3149                                               Good         1  \n",
       "\n",
       "[2893 rows x 5 columns]"
      ]
     },
     "execution_count": 5,
     "metadata": {},
     "output_type": "execute_result"
    }
   ],
   "source": [
    "positive = df_alexa[df_alexa['feedback'] == 1] \n",
    "positive"
   ]
  },
  {
   "cell_type": "code",
   "execution_count": 6,
   "id": "32e936f1",
   "metadata": {
    "execution": {
     "iopub.execute_input": "2022-02-15T13:50:44.893801Z",
     "iopub.status.busy": "2022-02-15T13:50:44.893169Z",
     "iopub.status.idle": "2022-02-15T13:50:44.895696Z",
     "shell.execute_reply": "2022-02-15T13:50:44.896127Z",
     "shell.execute_reply.started": "2022-02-15T12:54:50.196301Z"
    },
    "papermill": {
     "duration": 0.064887,
     "end_time": "2022-02-15T13:50:44.896333",
     "exception": false,
     "start_time": "2022-02-15T13:50:44.831446",
     "status": "completed"
    },
    "tags": []
   },
   "outputs": [
    {
     "data": {
      "text/html": [
       "<div>\n",
       "<style scoped>\n",
       "    .dataframe tbody tr th:only-of-type {\n",
       "        vertical-align: middle;\n",
       "    }\n",
       "\n",
       "    .dataframe tbody tr th {\n",
       "        vertical-align: top;\n",
       "    }\n",
       "\n",
       "    .dataframe thead th {\n",
       "        text-align: right;\n",
       "    }\n",
       "</style>\n",
       "<table border=\"1\" class=\"dataframe\">\n",
       "  <thead>\n",
       "    <tr style=\"text-align: right;\">\n",
       "      <th></th>\n",
       "      <th>rating</th>\n",
       "      <th>date</th>\n",
       "      <th>variation</th>\n",
       "      <th>verified_reviews</th>\n",
       "      <th>feedback</th>\n",
       "    </tr>\n",
       "  </thead>\n",
       "  <tbody>\n",
       "    <tr>\n",
       "      <th>46</th>\n",
       "      <td>2</td>\n",
       "      <td>30-Jul-18</td>\n",
       "      <td>Charcoal Fabric</td>\n",
       "      <td>It's like Siri, in fact, Siri answers more acc...</td>\n",
       "      <td>0</td>\n",
       "    </tr>\n",
       "    <tr>\n",
       "      <th>111</th>\n",
       "      <td>2</td>\n",
       "      <td>30-Jul-18</td>\n",
       "      <td>Charcoal Fabric</td>\n",
       "      <td>Sound is terrible if u want good music too get...</td>\n",
       "      <td>0</td>\n",
       "    </tr>\n",
       "    <tr>\n",
       "      <th>141</th>\n",
       "      <td>1</td>\n",
       "      <td>30-Jul-18</td>\n",
       "      <td>Charcoal Fabric</td>\n",
       "      <td>Not much features.</td>\n",
       "      <td>0</td>\n",
       "    </tr>\n",
       "    <tr>\n",
       "      <th>162</th>\n",
       "      <td>1</td>\n",
       "      <td>30-Jul-18</td>\n",
       "      <td>Sandstone Fabric</td>\n",
       "      <td>Stopped working after 2 weeks ,didn't follow c...</td>\n",
       "      <td>0</td>\n",
       "    </tr>\n",
       "    <tr>\n",
       "      <th>176</th>\n",
       "      <td>2</td>\n",
       "      <td>30-Jul-18</td>\n",
       "      <td>Heather Gray Fabric</td>\n",
       "      <td>Sad joke. Worthless.</td>\n",
       "      <td>0</td>\n",
       "    </tr>\n",
       "    <tr>\n",
       "      <th>...</th>\n",
       "      <td>...</td>\n",
       "      <td>...</td>\n",
       "      <td>...</td>\n",
       "      <td>...</td>\n",
       "      <td>...</td>\n",
       "    </tr>\n",
       "    <tr>\n",
       "      <th>3047</th>\n",
       "      <td>1</td>\n",
       "      <td>30-Jul-18</td>\n",
       "      <td>Black  Dot</td>\n",
       "      <td>Echo Dot responds to us when we aren't even ta...</td>\n",
       "      <td>0</td>\n",
       "    </tr>\n",
       "    <tr>\n",
       "      <th>3048</th>\n",
       "      <td>1</td>\n",
       "      <td>30-Jul-18</td>\n",
       "      <td>White  Dot</td>\n",
       "      <td>NOT CONNECTED TO MY PHONE PLAYLIST :(</td>\n",
       "      <td>0</td>\n",
       "    </tr>\n",
       "    <tr>\n",
       "      <th>3067</th>\n",
       "      <td>2</td>\n",
       "      <td>30-Jul-18</td>\n",
       "      <td>Black  Dot</td>\n",
       "      <td>The only negative we have on this product is t...</td>\n",
       "      <td>0</td>\n",
       "    </tr>\n",
       "    <tr>\n",
       "      <th>3091</th>\n",
       "      <td>1</td>\n",
       "      <td>30-Jul-18</td>\n",
       "      <td>Black  Dot</td>\n",
       "      <td>I didn’t order it</td>\n",
       "      <td>0</td>\n",
       "    </tr>\n",
       "    <tr>\n",
       "      <th>3096</th>\n",
       "      <td>1</td>\n",
       "      <td>30-Jul-18</td>\n",
       "      <td>White  Dot</td>\n",
       "      <td>The product sounded the same as the emoji spea...</td>\n",
       "      <td>0</td>\n",
       "    </tr>\n",
       "  </tbody>\n",
       "</table>\n",
       "<p>257 rows × 5 columns</p>\n",
       "</div>"
      ],
      "text/plain": [
       "      rating       date             variation  \\\n",
       "46         2  30-Jul-18      Charcoal Fabric    \n",
       "111        2  30-Jul-18      Charcoal Fabric    \n",
       "141        1  30-Jul-18      Charcoal Fabric    \n",
       "162        1  30-Jul-18     Sandstone Fabric    \n",
       "176        2  30-Jul-18  Heather Gray Fabric    \n",
       "...      ...        ...                   ...   \n",
       "3047       1  30-Jul-18            Black  Dot   \n",
       "3048       1  30-Jul-18            White  Dot   \n",
       "3067       2  30-Jul-18            Black  Dot   \n",
       "3091       1  30-Jul-18            Black  Dot   \n",
       "3096       1  30-Jul-18            White  Dot   \n",
       "\n",
       "                                       verified_reviews  feedback  \n",
       "46    It's like Siri, in fact, Siri answers more acc...         0  \n",
       "111   Sound is terrible if u want good music too get...         0  \n",
       "141                                  Not much features.         0  \n",
       "162   Stopped working after 2 weeks ,didn't follow c...         0  \n",
       "176                                Sad joke. Worthless.         0  \n",
       "...                                                 ...       ...  \n",
       "3047  Echo Dot responds to us when we aren't even ta...         0  \n",
       "3048              NOT CONNECTED TO MY PHONE PLAYLIST :(         0  \n",
       "3067  The only negative we have on this product is t...         0  \n",
       "3091                                  I didn’t order it         0  \n",
       "3096  The product sounded the same as the emoji spea...         0  \n",
       "\n",
       "[257 rows x 5 columns]"
      ]
     },
     "execution_count": 6,
     "metadata": {},
     "output_type": "execute_result"
    }
   ],
   "source": [
    "negative = df_alexa[df_alexa['feedback'] == 0]\n",
    "negative"
   ]
  },
  {
   "cell_type": "code",
   "execution_count": 7,
   "id": "9adbdf9c",
   "metadata": {
    "execution": {
     "iopub.execute_input": "2022-02-15T13:50:44.998432Z",
     "iopub.status.busy": "2022-02-15T13:50:44.997874Z",
     "iopub.status.idle": "2022-02-15T13:50:45.191331Z",
     "shell.execute_reply": "2022-02-15T13:50:45.190711Z",
     "shell.execute_reply.started": "2022-02-15T12:56:19.712603Z"
    },
    "papermill": {
     "duration": 0.245918,
     "end_time": "2022-02-15T13:50:45.191473",
     "exception": false,
     "start_time": "2022-02-15T13:50:44.945555",
     "status": "completed"
    },
    "tags": []
   },
   "outputs": [
    {
     "data": {
      "text/plain": [
       "<AxesSubplot:xlabel='feedback', ylabel='count'>"
      ]
     },
     "execution_count": 7,
     "metadata": {},
     "output_type": "execute_result"
    },
    {
     "data": {
      "image/png": "[encoded data removed]",
      "text/plain": [
       "<Figure size 432x288 with 1 Axes>"
      ]
     },
     "metadata": {
      "needs_background": "light"
     },
     "output_type": "display_data"
    }
   ],
   "source": [
    "# count of negative and postive reviews\n",
    "sns.countplot(x = 'feedback' ,data = df_alexa, label = 'Count')"
   ]
  },
  {
   "cell_type": "code",
   "execution_count": 8,
   "id": "baeef110",
   "metadata": {
    "execution": {
     "iopub.execute_input": "2022-02-15T13:50:45.299814Z",
     "iopub.status.busy": "2022-02-15T13:50:45.299214Z",
     "iopub.status.idle": "2022-02-15T13:50:45.502970Z",
     "shell.execute_reply": "2022-02-15T13:50:45.502469Z",
     "shell.execute_reply.started": "2022-02-15T12:58:05.152593Z"
    },
    "papermill": {
     "duration": 0.260553,
     "end_time": "2022-02-15T13:50:45.503107",
     "exception": false,
     "start_time": "2022-02-15T13:50:45.242554",
     "status": "completed"
    },
    "tags": []
   },
   "outputs": [
    {
     "data": {
      "text/plain": [
       "(0.0, 2514.6000000000004)"
      ]
     },
     "execution_count": 8,
     "metadata": {},
     "output_type": "execute_result"
    },
    {
     "data": {
      "image/png": "[encoded data removed]",
      "text/plain": [
       "<Figure size 864x360 with 1 Axes>"
      ]
     },
     "metadata": {
      "needs_background": "light"
     },
     "output_type": "display_data"
    }
   ],
   "source": [
    "# Now lets look at tha ratings\n",
    "\n",
    "total = len(df_alexa)\n",
    "ax1 = plt.figure(figsize=(12,5))\n",
    "\n",
    "g = sns.countplot(x='rating', data=df_alexa)\n",
    "g.set_title(\"Evaluation\", fontsize=20)\n",
    "g.set_xlabel(\"Evaluation\", fontsize=17)\n",
    "g.set_ylabel(\"Values\", fontsize=17)\n",
    "sizes = []\n",
    "for p in g.patches:\n",
    "    height = p.get_height()\n",
    "    sizes.append(height)\n",
    "    g.text(p.get_x()+p.get_width()/2.,\n",
    "            height + 3,\n",
    "            '{:1.2f}%'.format(height/total*100),\n",
    "            ha=\"center\", fontsize=10) \n",
    "g.set_ylim(0, max(sizes) * 1.1)"
   ]
  },
  {
   "cell_type": "code",
   "execution_count": 9,
   "id": "a7d89ab1",
   "metadata": {
    "execution": {
     "iopub.execute_input": "2022-02-15T13:50:45.617838Z",
     "iopub.status.busy": "2022-02-15T13:50:45.617095Z",
     "iopub.status.idle": "2022-02-15T13:50:46.133793Z",
     "shell.execute_reply": "2022-02-15T13:50:46.134273Z",
     "shell.execute_reply.started": "2022-02-15T12:59:24.190958Z"
    },
    "papermill": {
     "duration": 0.578678,
     "end_time": "2022-02-15T13:50:46.134459",
     "exception": false,
     "start_time": "2022-02-15T13:50:45.555781",
     "status": "completed"
    },
    "tags": []
   },
   "outputs": [
    {
     "data": {
      "text/plain": [
       "(0.0, 567.6)"
      ]
     },
     "execution_count": 9,
     "metadata": {},
     "output_type": "execute_result"
    },
    {
     "data": {
      "image/png": "[encoded data removed]",
      "text/plain": [
       "<Figure size 2880x1080 with 1 Axes>"
      ]
     },
     "metadata": {
      "needs_background": "light"
     },
     "output_type": "display_data"
    }
   ],
   "source": [
    "# Now lets look at which variation has more reviews\n",
    "\n",
    "total = len(df_alexa)\n",
    "ax1 = plt.figure(figsize=(40,15))\n",
    "\n",
    "g = sns.countplot(x='variation', data=df_alexa)\n",
    "g.set_title(\"Analizing\", fontsize=30)\n",
    "g.set_xlabel(\"Words\", fontsize=30)\n",
    "g.set_ylabel(\"Values\", fontsize=30)\n",
    "plt.xticks(fontsize=20)\n",
    "plt.yticks(fontsize=20)\n",
    "plt.xticks(rotation=35)\n",
    "sizes = []\n",
    "for p in g.patches:\n",
    "    height = p.get_height()\n",
    "    sizes.append(height)\n",
    "    g.text(p.get_x()+p.get_width()/2.,\n",
    "            height + 3,\n",
    "            '{:1.2f}%'.format(height/total*100),\n",
    "            ha=\"center\", fontsize=20) \n",
    "g.set_ylim(0, max(sizes) * 1.1)"
   ]
  },
  {
   "cell_type": "markdown",
   "id": "3832ed52",
   "metadata": {
    "papermill": {
     "duration": 0.055709,
     "end_time": "2022-02-15T13:50:46.245766",
     "exception": false,
     "start_time": "2022-02-15T13:50:46.190057",
     "status": "completed"
    },
    "tags": []
   },
   "source": [
    "> We see that Black dot has the most reviews followed by Charcoal Fabric"
   ]
  },
  {
   "cell_type": "code",
   "execution_count": 10,
   "id": "255bafac",
   "metadata": {
    "execution": {
     "iopub.execute_input": "2022-02-15T13:50:46.365522Z",
     "iopub.status.busy": "2022-02-15T13:50:46.364517Z",
     "iopub.status.idle": "2022-02-15T13:50:48.964666Z",
     "shell.execute_reply": "2022-02-15T13:50:48.965125Z",
     "shell.execute_reply.started": "2022-02-15T13:00:37.526195Z"
    },
    "papermill": {
     "duration": 2.664237,
     "end_time": "2022-02-15T13:50:48.965320",
     "exception": false,
     "start_time": "2022-02-15T13:50:46.301083",
     "status": "completed"
    },
    "tags": []
   },
   "outputs": [
    {
     "data": {
      "image/png": "[encoded data removed]",
      "text/plain": [
       "<Figure size 720x720 with 1 Axes>"
      ]
     },
     "metadata": {
      "needs_background": "light"
     },
     "output_type": "display_data"
    }
   ],
   "source": [
    "# For the most used words, lets make a word cloud\n",
    "plt.rcParams['figure.figsize'] = (10, 10)\n",
    "plt.style.use('fast')\n",
    "\n",
    "wc = WordCloud(background_color = 'orange', width = 1500, height = 1500).generate(str(positive['verified_reviews']))\n",
    "plt.title('Description Positive', fontsize = 15)\n",
    "\n",
    "plt.imshow(wc)\n",
    "plt.axis('off')\n",
    "plt.show()"
   ]
  },
  {
   "cell_type": "code",
   "execution_count": 11,
   "id": "3203027f",
   "metadata": {
    "execution": {
     "iopub.execute_input": "2022-02-15T13:50:49.091034Z",
     "iopub.status.busy": "2022-02-15T13:50:49.090464Z",
     "iopub.status.idle": "2022-02-15T13:50:51.750943Z",
     "shell.execute_reply": "2022-02-15T13:50:51.751437Z",
     "shell.execute_reply.started": "2022-02-15T13:00:46.582040Z"
    },
    "papermill": {
     "duration": 2.724977,
     "end_time": "2022-02-15T13:50:51.751622",
     "exception": false,
     "start_time": "2022-02-15T13:50:49.026645",
     "status": "completed"
    },
    "tags": []
   },
   "outputs": [
    {
     "data": {
      "image/png": "[encoded data removed]",
      "text/plain": [
       "<Figure size 720x720 with 1 Axes>"
      ]
     },
     "metadata": {
      "needs_background": "light"
     },
     "output_type": "display_data"
    }
   ],
   "source": [
    "plt.rcParams['figure.figsize'] = (10, 10)\n",
    "plt.style.use('fast')\n",
    "\n",
    "wc = WordCloud(background_color = 'orange', width = 1500, height = 1500).generate(str(negative['verified_reviews']))\n",
    "plt.title('Description Negative', fontsize = 15)\n",
    "\n",
    "plt.imshow(wc)\n",
    "plt.axis('off')\n",
    "plt.show()"
   ]
  },
  {
   "cell_type": "markdown",
   "id": "287d6c2e",
   "metadata": {
    "papermill": {
     "duration": 0.065947,
     "end_time": "2022-02-15T13:50:51.883761",
     "exception": false,
     "start_time": "2022-02-15T13:50:51.817814",
     "status": "completed"
    },
    "tags": []
   },
   "source": [
    "## Data Preprocessing\n"
   ]
  },
  {
   "cell_type": "markdown",
   "id": "75bbdd3a",
   "metadata": {
    "papermill": {
     "duration": 0.065231,
     "end_time": "2022-02-15T13:50:52.014363",
     "exception": false,
     "start_time": "2022-02-15T13:50:51.949132",
     "status": "completed"
    },
    "tags": []
   },
   "source": [
    "> Now we dive into data cleaning"
   ]
  },
  {
   "cell_type": "code",
   "execution_count": 12,
   "id": "6dda93cb",
   "metadata": {
    "execution": {
     "iopub.execute_input": "2022-02-15T13:50:52.150110Z",
     "iopub.status.busy": "2022-02-15T13:50:52.149212Z",
     "iopub.status.idle": "2022-02-15T13:50:52.153927Z",
     "shell.execute_reply": "2022-02-15T13:50:52.154470Z",
     "shell.execute_reply.started": "2022-02-15T13:08:42.406585Z"
    },
    "papermill": {
     "duration": 0.074011,
     "end_time": "2022-02-15T13:50:52.154648",
     "exception": false,
     "start_time": "2022-02-15T13:50:52.080637",
     "status": "completed"
    },
    "tags": []
   },
   "outputs": [],
   "source": [
    "# Lets make a model for prediciton of feedback which is positive or negative\n",
    "df_alexa = df_alexa.drop(['date', 'rating'], axis = 1)"
   ]
  },
  {
   "cell_type": "code",
   "execution_count": 13,
   "id": "50429be5",
   "metadata": {
    "execution": {
     "iopub.execute_input": "2022-02-15T13:50:52.290511Z",
     "iopub.status.busy": "2022-02-15T13:50:52.289614Z",
     "iopub.status.idle": "2022-02-15T13:50:52.298403Z",
     "shell.execute_reply": "2022-02-15T13:50:52.298858Z",
     "shell.execute_reply.started": "2022-02-15T13:08:42.606631Z"
    },
    "papermill": {
     "duration": 0.078756,
     "end_time": "2022-02-15T13:50:52.299018",
     "exception": false,
     "start_time": "2022-02-15T13:50:52.220262",
     "status": "completed"
    },
    "tags": []
   },
   "outputs": [
    {
     "data": {
      "text/html": [
       "<div>\n",
       "<style scoped>\n",
       "    .dataframe tbody tr th:only-of-type {\n",
       "        vertical-align: middle;\n",
       "    }\n",
       "\n",
       "    .dataframe tbody tr th {\n",
       "        vertical-align: top;\n",
       "    }\n",
       "\n",
       "    .dataframe thead th {\n",
       "        text-align: right;\n",
       "    }\n",
       "</style>\n",
       "<table border=\"1\" class=\"dataframe\">\n",
       "  <thead>\n",
       "    <tr style=\"text-align: right;\">\n",
       "      <th></th>\n",
       "      <th>variation</th>\n",
       "      <th>verified_reviews</th>\n",
       "      <th>feedback</th>\n",
       "    </tr>\n",
       "  </thead>\n",
       "  <tbody>\n",
       "    <tr>\n",
       "      <th>0</th>\n",
       "      <td>Charcoal Fabric</td>\n",
       "      <td>Love my Echo!</td>\n",
       "      <td>1</td>\n",
       "    </tr>\n",
       "    <tr>\n",
       "      <th>1</th>\n",
       "      <td>Charcoal Fabric</td>\n",
       "      <td>Loved it!</td>\n",
       "      <td>1</td>\n",
       "    </tr>\n",
       "    <tr>\n",
       "      <th>2</th>\n",
       "      <td>Walnut Finish</td>\n",
       "      <td>Sometimes while playing a game, you can answer...</td>\n",
       "      <td>1</td>\n",
       "    </tr>\n",
       "    <tr>\n",
       "      <th>3</th>\n",
       "      <td>Charcoal Fabric</td>\n",
       "      <td>I have had a lot of fun with this thing. My 4 ...</td>\n",
       "      <td>1</td>\n",
       "    </tr>\n",
       "    <tr>\n",
       "      <th>4</th>\n",
       "      <td>Charcoal Fabric</td>\n",
       "      <td>Music</td>\n",
       "      <td>1</td>\n",
       "    </tr>\n",
       "  </tbody>\n",
       "</table>\n",
       "</div>"
      ],
      "text/plain": [
       "          variation                                   verified_reviews  \\\n",
       "0  Charcoal Fabric                                       Love my Echo!   \n",
       "1  Charcoal Fabric                                           Loved it!   \n",
       "2    Walnut Finish   Sometimes while playing a game, you can answer...   \n",
       "3  Charcoal Fabric   I have had a lot of fun with this thing. My 4 ...   \n",
       "4  Charcoal Fabric                                               Music   \n",
       "\n",
       "   feedback  \n",
       "0         1  \n",
       "1         1  \n",
       "2         1  \n",
       "3         1  \n",
       "4         1  "
      ]
     },
     "execution_count": 13,
     "metadata": {},
     "output_type": "execute_result"
    }
   ],
   "source": [
    "df_alexa.head()"
   ]
  },
  {
   "cell_type": "code",
   "execution_count": 14,
   "id": "eed8bf27",
   "metadata": {
    "execution": {
     "iopub.execute_input": "2022-02-15T13:50:52.435121Z",
     "iopub.status.busy": "2022-02-15T13:50:52.434206Z",
     "iopub.status.idle": "2022-02-15T13:50:52.452496Z",
     "shell.execute_reply": "2022-02-15T13:50:52.452890Z",
     "shell.execute_reply.started": "2022-02-15T13:08:43.718540Z"
    },
    "papermill": {
     "duration": 0.088097,
     "end_time": "2022-02-15T13:50:52.453064",
     "exception": false,
     "start_time": "2022-02-15T13:50:52.364967",
     "status": "completed"
    },
    "tags": []
   },
   "outputs": [
    {
     "data": {
      "text/html": [
       "<div>\n",
       "<style scoped>\n",
       "    .dataframe tbody tr th:only-of-type {\n",
       "        vertical-align: middle;\n",
       "    }\n",
       "\n",
       "    .dataframe tbody tr th {\n",
       "        vertical-align: top;\n",
       "    }\n",
       "\n",
       "    .dataframe thead th {\n",
       "        text-align: right;\n",
       "    }\n",
       "</style>\n",
       "<table border=\"1\" class=\"dataframe\">\n",
       "  <thead>\n",
       "    <tr style=\"text-align: right;\">\n",
       "      <th></th>\n",
       "      <th>Black  Dot</th>\n",
       "      <th>Black  Plus</th>\n",
       "      <th>Black  Show</th>\n",
       "      <th>Black  Spot</th>\n",
       "      <th>Charcoal Fabric</th>\n",
       "      <th>Configuration: Fire TV Stick</th>\n",
       "      <th>Heather Gray Fabric</th>\n",
       "      <th>Oak Finish</th>\n",
       "      <th>Sandstone Fabric</th>\n",
       "      <th>Walnut Finish</th>\n",
       "      <th>White</th>\n",
       "      <th>White  Dot</th>\n",
       "      <th>White  Plus</th>\n",
       "      <th>White  Show</th>\n",
       "      <th>White  Spot</th>\n",
       "    </tr>\n",
       "  </thead>\n",
       "  <tbody>\n",
       "    <tr>\n",
       "      <th>0</th>\n",
       "      <td>0</td>\n",
       "      <td>0</td>\n",
       "      <td>0</td>\n",
       "      <td>0</td>\n",
       "      <td>1</td>\n",
       "      <td>0</td>\n",
       "      <td>0</td>\n",
       "      <td>0</td>\n",
       "      <td>0</td>\n",
       "      <td>0</td>\n",
       "      <td>0</td>\n",
       "      <td>0</td>\n",
       "      <td>0</td>\n",
       "      <td>0</td>\n",
       "      <td>0</td>\n",
       "    </tr>\n",
       "    <tr>\n",
       "      <th>1</th>\n",
       "      <td>0</td>\n",
       "      <td>0</td>\n",
       "      <td>0</td>\n",
       "      <td>0</td>\n",
       "      <td>1</td>\n",
       "      <td>0</td>\n",
       "      <td>0</td>\n",
       "      <td>0</td>\n",
       "      <td>0</td>\n",
       "      <td>0</td>\n",
       "      <td>0</td>\n",
       "      <td>0</td>\n",
       "      <td>0</td>\n",
       "      <td>0</td>\n",
       "      <td>0</td>\n",
       "    </tr>\n",
       "    <tr>\n",
       "      <th>2</th>\n",
       "      <td>0</td>\n",
       "      <td>0</td>\n",
       "      <td>0</td>\n",
       "      <td>0</td>\n",
       "      <td>0</td>\n",
       "      <td>0</td>\n",
       "      <td>0</td>\n",
       "      <td>0</td>\n",
       "      <td>0</td>\n",
       "      <td>1</td>\n",
       "      <td>0</td>\n",
       "      <td>0</td>\n",
       "      <td>0</td>\n",
       "      <td>0</td>\n",
       "      <td>0</td>\n",
       "    </tr>\n",
       "    <tr>\n",
       "      <th>3</th>\n",
       "      <td>0</td>\n",
       "      <td>0</td>\n",
       "      <td>0</td>\n",
       "      <td>0</td>\n",
       "      <td>1</td>\n",
       "      <td>0</td>\n",
       "      <td>0</td>\n",
       "      <td>0</td>\n",
       "      <td>0</td>\n",
       "      <td>0</td>\n",
       "      <td>0</td>\n",
       "      <td>0</td>\n",
       "      <td>0</td>\n",
       "      <td>0</td>\n",
       "      <td>0</td>\n",
       "    </tr>\n",
       "    <tr>\n",
       "      <th>4</th>\n",
       "      <td>0</td>\n",
       "      <td>0</td>\n",
       "      <td>0</td>\n",
       "      <td>0</td>\n",
       "      <td>1</td>\n",
       "      <td>0</td>\n",
       "      <td>0</td>\n",
       "      <td>0</td>\n",
       "      <td>0</td>\n",
       "      <td>0</td>\n",
       "      <td>0</td>\n",
       "      <td>0</td>\n",
       "      <td>0</td>\n",
       "      <td>0</td>\n",
       "      <td>0</td>\n",
       "    </tr>\n",
       "    <tr>\n",
       "      <th>...</th>\n",
       "      <td>...</td>\n",
       "      <td>...</td>\n",
       "      <td>...</td>\n",
       "      <td>...</td>\n",
       "      <td>...</td>\n",
       "      <td>...</td>\n",
       "      <td>...</td>\n",
       "      <td>...</td>\n",
       "      <td>...</td>\n",
       "      <td>...</td>\n",
       "      <td>...</td>\n",
       "      <td>...</td>\n",
       "      <td>...</td>\n",
       "      <td>...</td>\n",
       "      <td>...</td>\n",
       "    </tr>\n",
       "    <tr>\n",
       "      <th>3145</th>\n",
       "      <td>1</td>\n",
       "      <td>0</td>\n",
       "      <td>0</td>\n",
       "      <td>0</td>\n",
       "      <td>0</td>\n",
       "      <td>0</td>\n",
       "      <td>0</td>\n",
       "      <td>0</td>\n",
       "      <td>0</td>\n",
       "      <td>0</td>\n",
       "      <td>0</td>\n",
       "      <td>0</td>\n",
       "      <td>0</td>\n",
       "      <td>0</td>\n",
       "      <td>0</td>\n",
       "    </tr>\n",
       "    <tr>\n",
       "      <th>3146</th>\n",
       "      <td>1</td>\n",
       "      <td>0</td>\n",
       "      <td>0</td>\n",
       "      <td>0</td>\n",
       "      <td>0</td>\n",
       "      <td>0</td>\n",
       "      <td>0</td>\n",
       "      <td>0</td>\n",
       "      <td>0</td>\n",
       "      <td>0</td>\n",
       "      <td>0</td>\n",
       "      <td>0</td>\n",
       "      <td>0</td>\n",
       "      <td>0</td>\n",
       "      <td>0</td>\n",
       "    </tr>\n",
       "    <tr>\n",
       "      <th>3147</th>\n",
       "      <td>1</td>\n",
       "      <td>0</td>\n",
       "      <td>0</td>\n",
       "      <td>0</td>\n",
       "      <td>0</td>\n",
       "      <td>0</td>\n",
       "      <td>0</td>\n",
       "      <td>0</td>\n",
       "      <td>0</td>\n",
       "      <td>0</td>\n",
       "      <td>0</td>\n",
       "      <td>0</td>\n",
       "      <td>0</td>\n",
       "      <td>0</td>\n",
       "      <td>0</td>\n",
       "    </tr>\n",
       "    <tr>\n",
       "      <th>3148</th>\n",
       "      <td>0</td>\n",
       "      <td>0</td>\n",
       "      <td>0</td>\n",
       "      <td>0</td>\n",
       "      <td>0</td>\n",
       "      <td>0</td>\n",
       "      <td>0</td>\n",
       "      <td>0</td>\n",
       "      <td>0</td>\n",
       "      <td>0</td>\n",
       "      <td>0</td>\n",
       "      <td>1</td>\n",
       "      <td>0</td>\n",
       "      <td>0</td>\n",
       "      <td>0</td>\n",
       "    </tr>\n",
       "    <tr>\n",
       "      <th>3149</th>\n",
       "      <td>1</td>\n",
       "      <td>0</td>\n",
       "      <td>0</td>\n",
       "      <td>0</td>\n",
       "      <td>0</td>\n",
       "      <td>0</td>\n",
       "      <td>0</td>\n",
       "      <td>0</td>\n",
       "      <td>0</td>\n",
       "      <td>0</td>\n",
       "      <td>0</td>\n",
       "      <td>0</td>\n",
       "      <td>0</td>\n",
       "      <td>0</td>\n",
       "      <td>0</td>\n",
       "    </tr>\n",
       "  </tbody>\n",
       "</table>\n",
       "<p>3150 rows × 15 columns</p>\n",
       "</div>"
      ],
      "text/plain": [
       "      Black  Dot  Black  Plus  Black  Show  Black  Spot  Charcoal Fabric   \\\n",
       "0              0            0            0            0                 1   \n",
       "1              0            0            0            0                 1   \n",
       "2              0            0            0            0                 0   \n",
       "3              0            0            0            0                 1   \n",
       "4              0            0            0            0                 1   \n",
       "...          ...          ...          ...          ...               ...   \n",
       "3145           1            0            0            0                 0   \n",
       "3146           1            0            0            0                 0   \n",
       "3147           1            0            0            0                 0   \n",
       "3148           0            0            0            0                 0   \n",
       "3149           1            0            0            0                 0   \n",
       "\n",
       "      Configuration: Fire TV Stick  Heather Gray Fabric   Oak Finish   \\\n",
       "0                                0                     0            0   \n",
       "1                                0                     0            0   \n",
       "2                                0                     0            0   \n",
       "3                                0                     0            0   \n",
       "4                                0                     0            0   \n",
       "...                            ...                   ...          ...   \n",
       "3145                             0                     0            0   \n",
       "3146                             0                     0            0   \n",
       "3147                             0                     0            0   \n",
       "3148                             0                     0            0   \n",
       "3149                             0                     0            0   \n",
       "\n",
       "      Sandstone Fabric   Walnut Finish   White  White  Dot  White  Plus  \\\n",
       "0                     0               0      0           0            0   \n",
       "1                     0               0      0           0            0   \n",
       "2                     0               1      0           0            0   \n",
       "3                     0               0      0           0            0   \n",
       "4                     0               0      0           0            0   \n",
       "...                 ...             ...    ...         ...          ...   \n",
       "3145                  0               0      0           0            0   \n",
       "3146                  0               0      0           0            0   \n",
       "3147                  0               0      0           0            0   \n",
       "3148                  0               0      0           1            0   \n",
       "3149                  0               0      0           0            0   \n",
       "\n",
       "      White  Show  White  Spot  \n",
       "0               0            0  \n",
       "1               0            0  \n",
       "2               0            0  \n",
       "3               0            0  \n",
       "4               0            0  \n",
       "...           ...          ...  \n",
       "3145            0            0  \n",
       "3146            0            0  \n",
       "3147            0            0  \n",
       "3148            0            0  \n",
       "3149            0            0  \n",
       "\n",
       "[3150 rows x 15 columns]"
      ]
     },
     "execution_count": 14,
     "metadata": {},
     "output_type": "execute_result"
    }
   ],
   "source": [
    "# Now we one hot encode our variation columns and remove first to avoid dummy trap\n",
    "variation_dummies = pd.get_dummies(df_alexa['variation'],drop_first=True)\n",
    "variation_dummies"
   ]
  },
  {
   "cell_type": "code",
   "execution_count": 15,
   "id": "1948bc13",
   "metadata": {
    "execution": {
     "iopub.execute_input": "2022-02-15T13:50:52.590933Z",
     "iopub.status.busy": "2022-02-15T13:50:52.590369Z",
     "iopub.status.idle": "2022-02-15T13:50:52.594614Z",
     "shell.execute_reply": "2022-02-15T13:50:52.595126Z",
     "shell.execute_reply.started": "2022-02-15T13:08:55.920219Z"
    },
    "papermill": {
     "duration": 0.074907,
     "end_time": "2022-02-15T13:50:52.595308",
     "exception": false,
     "start_time": "2022-02-15T13:50:52.520401",
     "status": "completed"
    },
    "tags": []
   },
   "outputs": [],
   "source": [
    "df_alexa.drop(['variation'], axis = 1, inplace=True)"
   ]
  },
  {
   "cell_type": "code",
   "execution_count": 16,
   "id": "fdad8e33",
   "metadata": {
    "execution": {
     "iopub.execute_input": "2022-02-15T13:50:52.747037Z",
     "iopub.status.busy": "2022-02-15T13:50:52.735125Z",
     "iopub.status.idle": "2022-02-15T13:50:52.749674Z",
     "shell.execute_reply": "2022-02-15T13:50:52.750063Z",
     "shell.execute_reply.started": "2022-02-15T13:09:06.740632Z"
    },
    "papermill": {
     "duration": 0.087367,
     "end_time": "2022-02-15T13:50:52.750249",
     "exception": false,
     "start_time": "2022-02-15T13:50:52.662882",
     "status": "completed"
    },
    "tags": []
   },
   "outputs": [
    {
     "data": {
      "text/html": [
       "<div>\n",
       "<style scoped>\n",
       "    .dataframe tbody tr th:only-of-type {\n",
       "        vertical-align: middle;\n",
       "    }\n",
       "\n",
       "    .dataframe tbody tr th {\n",
       "        vertical-align: top;\n",
       "    }\n",
       "\n",
       "    .dataframe thead th {\n",
       "        text-align: right;\n",
       "    }\n",
       "</style>\n",
       "<table border=\"1\" class=\"dataframe\">\n",
       "  <thead>\n",
       "    <tr style=\"text-align: right;\">\n",
       "      <th></th>\n",
       "      <th>verified_reviews</th>\n",
       "      <th>feedback</th>\n",
       "      <th>Black  Dot</th>\n",
       "      <th>Black  Plus</th>\n",
       "      <th>Black  Show</th>\n",
       "      <th>Black  Spot</th>\n",
       "      <th>Charcoal Fabric</th>\n",
       "      <th>Configuration: Fire TV Stick</th>\n",
       "      <th>Heather Gray Fabric</th>\n",
       "      <th>Oak Finish</th>\n",
       "      <th>Sandstone Fabric</th>\n",
       "      <th>Walnut Finish</th>\n",
       "      <th>White</th>\n",
       "      <th>White  Dot</th>\n",
       "      <th>White  Plus</th>\n",
       "      <th>White  Show</th>\n",
       "      <th>White  Spot</th>\n",
       "    </tr>\n",
       "  </thead>\n",
       "  <tbody>\n",
       "    <tr>\n",
       "      <th>0</th>\n",
       "      <td>Love my Echo!</td>\n",
       "      <td>1</td>\n",
       "      <td>0</td>\n",
       "      <td>0</td>\n",
       "      <td>0</td>\n",
       "      <td>0</td>\n",
       "      <td>1</td>\n",
       "      <td>0</td>\n",
       "      <td>0</td>\n",
       "      <td>0</td>\n",
       "      <td>0</td>\n",
       "      <td>0</td>\n",
       "      <td>0</td>\n",
       "      <td>0</td>\n",
       "      <td>0</td>\n",
       "      <td>0</td>\n",
       "      <td>0</td>\n",
       "    </tr>\n",
       "    <tr>\n",
       "      <th>1</th>\n",
       "      <td>Loved it!</td>\n",
       "      <td>1</td>\n",
       "      <td>0</td>\n",
       "      <td>0</td>\n",
       "      <td>0</td>\n",
       "      <td>0</td>\n",
       "      <td>1</td>\n",
       "      <td>0</td>\n",
       "      <td>0</td>\n",
       "      <td>0</td>\n",
       "      <td>0</td>\n",
       "      <td>0</td>\n",
       "      <td>0</td>\n",
       "      <td>0</td>\n",
       "      <td>0</td>\n",
       "      <td>0</td>\n",
       "      <td>0</td>\n",
       "    </tr>\n",
       "    <tr>\n",
       "      <th>2</th>\n",
       "      <td>Sometimes while playing a game, you can answer...</td>\n",
       "      <td>1</td>\n",
       "      <td>0</td>\n",
       "      <td>0</td>\n",
       "      <td>0</td>\n",
       "      <td>0</td>\n",
       "      <td>0</td>\n",
       "      <td>0</td>\n",
       "      <td>0</td>\n",
       "      <td>0</td>\n",
       "      <td>0</td>\n",
       "      <td>1</td>\n",
       "      <td>0</td>\n",
       "      <td>0</td>\n",
       "      <td>0</td>\n",
       "      <td>0</td>\n",
       "      <td>0</td>\n",
       "    </tr>\n",
       "    <tr>\n",
       "      <th>3</th>\n",
       "      <td>I have had a lot of fun with this thing. My 4 ...</td>\n",
       "      <td>1</td>\n",
       "      <td>0</td>\n",
       "      <td>0</td>\n",
       "      <td>0</td>\n",
       "      <td>0</td>\n",
       "      <td>1</td>\n",
       "      <td>0</td>\n",
       "      <td>0</td>\n",
       "      <td>0</td>\n",
       "      <td>0</td>\n",
       "      <td>0</td>\n",
       "      <td>0</td>\n",
       "      <td>0</td>\n",
       "      <td>0</td>\n",
       "      <td>0</td>\n",
       "      <td>0</td>\n",
       "    </tr>\n",
       "    <tr>\n",
       "      <th>4</th>\n",
       "      <td>Music</td>\n",
       "      <td>1</td>\n",
       "      <td>0</td>\n",
       "      <td>0</td>\n",
       "      <td>0</td>\n",
       "      <td>0</td>\n",
       "      <td>1</td>\n",
       "      <td>0</td>\n",
       "      <td>0</td>\n",
       "      <td>0</td>\n",
       "      <td>0</td>\n",
       "      <td>0</td>\n",
       "      <td>0</td>\n",
       "      <td>0</td>\n",
       "      <td>0</td>\n",
       "      <td>0</td>\n",
       "      <td>0</td>\n",
       "    </tr>\n",
       "    <tr>\n",
       "      <th>...</th>\n",
       "      <td>...</td>\n",
       "      <td>...</td>\n",
       "      <td>...</td>\n",
       "      <td>...</td>\n",
       "      <td>...</td>\n",
       "      <td>...</td>\n",
       "      <td>...</td>\n",
       "      <td>...</td>\n",
       "      <td>...</td>\n",
       "      <td>...</td>\n",
       "      <td>...</td>\n",
       "      <td>...</td>\n",
       "      <td>...</td>\n",
       "      <td>...</td>\n",
       "      <td>...</td>\n",
       "      <td>...</td>\n",
       "      <td>...</td>\n",
       "    </tr>\n",
       "    <tr>\n",
       "      <th>3145</th>\n",
       "      <td>Perfect for kids, adults and everyone in betwe...</td>\n",
       "      <td>1</td>\n",
       "      <td>1</td>\n",
       "      <td>0</td>\n",
       "      <td>0</td>\n",
       "      <td>0</td>\n",
       "      <td>0</td>\n",
       "      <td>0</td>\n",
       "      <td>0</td>\n",
       "      <td>0</td>\n",
       "      <td>0</td>\n",
       "      <td>0</td>\n",
       "      <td>0</td>\n",
       "      <td>0</td>\n",
       "      <td>0</td>\n",
       "      <td>0</td>\n",
       "      <td>0</td>\n",
       "    </tr>\n",
       "    <tr>\n",
       "      <th>3146</th>\n",
       "      <td>Listening to music, searching locations, check...</td>\n",
       "      <td>1</td>\n",
       "      <td>1</td>\n",
       "      <td>0</td>\n",
       "      <td>0</td>\n",
       "      <td>0</td>\n",
       "      <td>0</td>\n",
       "      <td>0</td>\n",
       "      <td>0</td>\n",
       "      <td>0</td>\n",
       "      <td>0</td>\n",
       "      <td>0</td>\n",
       "      <td>0</td>\n",
       "      <td>0</td>\n",
       "      <td>0</td>\n",
       "      <td>0</td>\n",
       "      <td>0</td>\n",
       "    </tr>\n",
       "    <tr>\n",
       "      <th>3147</th>\n",
       "      <td>I do love these things, i have them running my...</td>\n",
       "      <td>1</td>\n",
       "      <td>1</td>\n",
       "      <td>0</td>\n",
       "      <td>0</td>\n",
       "      <td>0</td>\n",
       "      <td>0</td>\n",
       "      <td>0</td>\n",
       "      <td>0</td>\n",
       "      <td>0</td>\n",
       "      <td>0</td>\n",
       "      <td>0</td>\n",
       "      <td>0</td>\n",
       "      <td>0</td>\n",
       "      <td>0</td>\n",
       "      <td>0</td>\n",
       "      <td>0</td>\n",
       "    </tr>\n",
       "    <tr>\n",
       "      <th>3148</th>\n",
       "      <td>Only complaint I have is that the sound qualit...</td>\n",
       "      <td>1</td>\n",
       "      <td>0</td>\n",
       "      <td>0</td>\n",
       "      <td>0</td>\n",
       "      <td>0</td>\n",
       "      <td>0</td>\n",
       "      <td>0</td>\n",
       "      <td>0</td>\n",
       "      <td>0</td>\n",
       "      <td>0</td>\n",
       "      <td>0</td>\n",
       "      <td>0</td>\n",
       "      <td>1</td>\n",
       "      <td>0</td>\n",
       "      <td>0</td>\n",
       "      <td>0</td>\n",
       "    </tr>\n",
       "    <tr>\n",
       "      <th>3149</th>\n",
       "      <td>Good</td>\n",
       "      <td>1</td>\n",
       "      <td>1</td>\n",
       "      <td>0</td>\n",
       "      <td>0</td>\n",
       "      <td>0</td>\n",
       "      <td>0</td>\n",
       "      <td>0</td>\n",
       "      <td>0</td>\n",
       "      <td>0</td>\n",
       "      <td>0</td>\n",
       "      <td>0</td>\n",
       "      <td>0</td>\n",
       "      <td>0</td>\n",
       "      <td>0</td>\n",
       "      <td>0</td>\n",
       "      <td>0</td>\n",
       "    </tr>\n",
       "  </tbody>\n",
       "</table>\n",
       "<p>3150 rows × 17 columns</p>\n",
       "</div>"
      ],
      "text/plain": [
       "                                       verified_reviews  feedback  Black  Dot  \\\n",
       "0                                         Love my Echo!         1           0   \n",
       "1                                             Loved it!         1           0   \n",
       "2     Sometimes while playing a game, you can answer...         1           0   \n",
       "3     I have had a lot of fun with this thing. My 4 ...         1           0   \n",
       "4                                                 Music         1           0   \n",
       "...                                                 ...       ...         ...   \n",
       "3145  Perfect for kids, adults and everyone in betwe...         1           1   \n",
       "3146  Listening to music, searching locations, check...         1           1   \n",
       "3147  I do love these things, i have them running my...         1           1   \n",
       "3148  Only complaint I have is that the sound qualit...         1           0   \n",
       "3149                                               Good         1           1   \n",
       "\n",
       "      Black  Plus  Black  Show  Black  Spot  Charcoal Fabric   \\\n",
       "0               0            0            0                 1   \n",
       "1               0            0            0                 1   \n",
       "2               0            0            0                 0   \n",
       "3               0            0            0                 1   \n",
       "4               0            0            0                 1   \n",
       "...           ...          ...          ...               ...   \n",
       "3145            0            0            0                 0   \n",
       "3146            0            0            0                 0   \n",
       "3147            0            0            0                 0   \n",
       "3148            0            0            0                 0   \n",
       "3149            0            0            0                 0   \n",
       "\n",
       "      Configuration: Fire TV Stick  Heather Gray Fabric   Oak Finish   \\\n",
       "0                                0                     0            0   \n",
       "1                                0                     0            0   \n",
       "2                                0                     0            0   \n",
       "3                                0                     0            0   \n",
       "4                                0                     0            0   \n",
       "...                            ...                   ...          ...   \n",
       "3145                             0                     0            0   \n",
       "3146                             0                     0            0   \n",
       "3147                             0                     0            0   \n",
       "3148                             0                     0            0   \n",
       "3149                             0                     0            0   \n",
       "\n",
       "      Sandstone Fabric   Walnut Finish   White  White  Dot  White  Plus  \\\n",
       "0                     0               0      0           0            0   \n",
       "1                     0               0      0           0            0   \n",
       "2                     0               1      0           0            0   \n",
       "3                     0               0      0           0            0   \n",
       "4                     0               0      0           0            0   \n",
       "...                 ...             ...    ...         ...          ...   \n",
       "3145                  0               0      0           0            0   \n",
       "3146                  0               0      0           0            0   \n",
       "3147                  0               0      0           0            0   \n",
       "3148                  0               0      0           1            0   \n",
       "3149                  0               0      0           0            0   \n",
       "\n",
       "      White  Show  White  Spot  \n",
       "0               0            0  \n",
       "1               0            0  \n",
       "2               0            0  \n",
       "3               0            0  \n",
       "4               0            0  \n",
       "...           ...          ...  \n",
       "3145            0            0  \n",
       "3146            0            0  \n",
       "3147            0            0  \n",
       "3148            0            0  \n",
       "3149            0            0  \n",
       "\n",
       "[3150 rows x 17 columns]"
      ]
     },
     "execution_count": 16,
     "metadata": {},
     "output_type": "execute_result"
    }
   ],
   "source": [
    "df_alexa = pd.concat([df_alexa, variation_dummies], axis = 1)\n",
    "df_alexa"
   ]
  },
  {
   "cell_type": "markdown",
   "id": "c5acb1d0",
   "metadata": {
    "papermill": {
     "duration": 0.067406,
     "end_time": "2022-02-15T13:50:52.885584",
     "exception": false,
     "start_time": "2022-02-15T13:50:52.818178",
     "status": "completed"
    },
    "tags": []
   },
   "source": [
    "## Generating Tokens"
   ]
  },
  {
   "cell_type": "code",
   "execution_count": 17,
   "id": "5f81e208",
   "metadata": {
    "execution": {
     "iopub.execute_input": "2022-02-15T13:50:53.025038Z",
     "iopub.status.busy": "2022-02-15T13:50:53.024460Z",
     "iopub.status.idle": "2022-02-15T13:50:53.099510Z",
     "shell.execute_reply": "2022-02-15T13:50:53.099952Z",
     "shell.execute_reply.started": "2022-02-15T13:09:52.515694Z"
    },
    "papermill": {
     "duration": 0.146894,
     "end_time": "2022-02-15T13:50:53.100129",
     "exception": false,
     "start_time": "2022-02-15T13:50:52.953235",
     "status": "completed"
    },
    "tags": []
   },
   "outputs": [],
   "source": [
    "vectorizer = CountVectorizer()\n",
    "alexa_countvectorizer = vectorizer.fit_transform(df_alexa['verified_reviews'])"
   ]
  },
  {
   "cell_type": "code",
   "execution_count": 18,
   "id": "34b95dd1",
   "metadata": {
    "execution": {
     "iopub.execute_input": "2022-02-15T13:50:53.238100Z",
     "iopub.status.busy": "2022-02-15T13:50:53.237542Z",
     "iopub.status.idle": "2022-02-15T13:50:53.241651Z",
     "shell.execute_reply": "2022-02-15T13:50:53.242113Z",
     "shell.execute_reply.started": "2022-02-15T13:10:00.127667Z"
    },
    "papermill": {
     "duration": 0.074651,
     "end_time": "2022-02-15T13:50:53.242308",
     "exception": false,
     "start_time": "2022-02-15T13:50:53.167657",
     "status": "completed"
    },
    "tags": []
   },
   "outputs": [
    {
     "data": {
      "text/plain": [
       "(3150, 4044)"
      ]
     },
     "execution_count": 18,
     "metadata": {},
     "output_type": "execute_result"
    }
   ],
   "source": [
    "alexa_countvectorizer.shape"
   ]
  },
  {
   "cell_type": "code",
   "execution_count": 19,
   "id": "d8f9b0cc",
   "metadata": {
    "execution": {
     "iopub.execute_input": "2022-02-15T13:50:53.381906Z",
     "iopub.status.busy": "2022-02-15T13:50:53.381276Z",
     "iopub.status.idle": "2022-02-15T13:50:53.387334Z",
     "shell.execute_reply": "2022-02-15T13:50:53.387877Z",
     "shell.execute_reply.started": "2022-02-15T13:11:41.437860Z"
    },
    "papermill": {
     "duration": 0.077164,
     "end_time": "2022-02-15T13:50:53.388047",
     "exception": false,
     "start_time": "2022-02-15T13:50:53.310883",
     "status": "completed"
    },
    "tags": []
   },
   "outputs": [
    {
     "name": "stdout",
     "output_type": "stream",
     "text": [
      "['00', 'abode', 'advertising', 'americans', 'asking', 'basic', 'blows', 'buts', 'challenged', 'collectors', 'connection', 'crap', 'defence', 'direct', 'downloading', 'embarrassed', 'exactly', 'fans', 'floored', 'geeks', 'group', 'hell', 'human', 'initial', 'iphone', 'knows', 'liking', 'lucky', 'messed', 'my', 'noticeable', 'orders', 'pattern', 'playing', 'prior', 'quiet', 'recording', 'requesting', 'said', 'senior', 'simplified', 'solution', 'sports', 'stuff', 'talk', 'third', 'track', 'unhelpful', 'versions', 'week', 'worth']\n"
     ]
    }
   ],
   "source": [
    "# lets look at 50 the features we have got\n",
    "print(vectorizer.get_feature_names()[::80])"
   ]
  },
  {
   "cell_type": "code",
   "execution_count": 20,
   "id": "891f4154",
   "metadata": {
    "execution": {
     "iopub.execute_input": "2022-02-15T13:50:53.529907Z",
     "iopub.status.busy": "2022-02-15T13:50:53.529304Z",
     "iopub.status.idle": "2022-02-15T13:50:53.542962Z",
     "shell.execute_reply": "2022-02-15T13:50:53.543515Z",
     "shell.execute_reply.started": "2022-02-15T13:12:11.374489Z"
    },
    "papermill": {
     "duration": 0.087384,
     "end_time": "2022-02-15T13:50:53.543678",
     "exception": false,
     "start_time": "2022-02-15T13:50:53.456294",
     "status": "completed"
    },
    "tags": []
   },
   "outputs": [
    {
     "data": {
      "text/html": [
       "<div>\n",
       "<style scoped>\n",
       "    .dataframe tbody tr th:only-of-type {\n",
       "        vertical-align: middle;\n",
       "    }\n",
       "\n",
       "    .dataframe tbody tr th {\n",
       "        vertical-align: top;\n",
       "    }\n",
       "\n",
       "    .dataframe thead th {\n",
       "        text-align: right;\n",
       "    }\n",
       "</style>\n",
       "<table border=\"1\" class=\"dataframe\">\n",
       "  <thead>\n",
       "    <tr style=\"text-align: right;\">\n",
       "      <th></th>\n",
       "      <th>feedback</th>\n",
       "      <th>Black  Dot</th>\n",
       "      <th>Black  Plus</th>\n",
       "      <th>Black  Show</th>\n",
       "      <th>Black  Spot</th>\n",
       "      <th>Charcoal Fabric</th>\n",
       "      <th>Configuration: Fire TV Stick</th>\n",
       "      <th>Heather Gray Fabric</th>\n",
       "      <th>Oak Finish</th>\n",
       "      <th>Sandstone Fabric</th>\n",
       "      <th>Walnut Finish</th>\n",
       "      <th>White</th>\n",
       "      <th>White  Dot</th>\n",
       "      <th>White  Plus</th>\n",
       "      <th>White  Show</th>\n",
       "      <th>White  Spot</th>\n",
       "    </tr>\n",
       "  </thead>\n",
       "  <tbody>\n",
       "    <tr>\n",
       "      <th>0</th>\n",
       "      <td>1</td>\n",
       "      <td>0</td>\n",
       "      <td>0</td>\n",
       "      <td>0</td>\n",
       "      <td>0</td>\n",
       "      <td>1</td>\n",
       "      <td>0</td>\n",
       "      <td>0</td>\n",
       "      <td>0</td>\n",
       "      <td>0</td>\n",
       "      <td>0</td>\n",
       "      <td>0</td>\n",
       "      <td>0</td>\n",
       "      <td>0</td>\n",
       "      <td>0</td>\n",
       "      <td>0</td>\n",
       "    </tr>\n",
       "    <tr>\n",
       "      <th>1</th>\n",
       "      <td>1</td>\n",
       "      <td>0</td>\n",
       "      <td>0</td>\n",
       "      <td>0</td>\n",
       "      <td>0</td>\n",
       "      <td>1</td>\n",
       "      <td>0</td>\n",
       "      <td>0</td>\n",
       "      <td>0</td>\n",
       "      <td>0</td>\n",
       "      <td>0</td>\n",
       "      <td>0</td>\n",
       "      <td>0</td>\n",
       "      <td>0</td>\n",
       "      <td>0</td>\n",
       "      <td>0</td>\n",
       "    </tr>\n",
       "    <tr>\n",
       "      <th>2</th>\n",
       "      <td>1</td>\n",
       "      <td>0</td>\n",
       "      <td>0</td>\n",
       "      <td>0</td>\n",
       "      <td>0</td>\n",
       "      <td>0</td>\n",
       "      <td>0</td>\n",
       "      <td>0</td>\n",
       "      <td>0</td>\n",
       "      <td>0</td>\n",
       "      <td>1</td>\n",
       "      <td>0</td>\n",
       "      <td>0</td>\n",
       "      <td>0</td>\n",
       "      <td>0</td>\n",
       "      <td>0</td>\n",
       "    </tr>\n",
       "    <tr>\n",
       "      <th>3</th>\n",
       "      <td>1</td>\n",
       "      <td>0</td>\n",
       "      <td>0</td>\n",
       "      <td>0</td>\n",
       "      <td>0</td>\n",
       "      <td>1</td>\n",
       "      <td>0</td>\n",
       "      <td>0</td>\n",
       "      <td>0</td>\n",
       "      <td>0</td>\n",
       "      <td>0</td>\n",
       "      <td>0</td>\n",
       "      <td>0</td>\n",
       "      <td>0</td>\n",
       "      <td>0</td>\n",
       "      <td>0</td>\n",
       "    </tr>\n",
       "    <tr>\n",
       "      <th>4</th>\n",
       "      <td>1</td>\n",
       "      <td>0</td>\n",
       "      <td>0</td>\n",
       "      <td>0</td>\n",
       "      <td>0</td>\n",
       "      <td>1</td>\n",
       "      <td>0</td>\n",
       "      <td>0</td>\n",
       "      <td>0</td>\n",
       "      <td>0</td>\n",
       "      <td>0</td>\n",
       "      <td>0</td>\n",
       "      <td>0</td>\n",
       "      <td>0</td>\n",
       "      <td>0</td>\n",
       "      <td>0</td>\n",
       "    </tr>\n",
       "    <tr>\n",
       "      <th>...</th>\n",
       "      <td>...</td>\n",
       "      <td>...</td>\n",
       "      <td>...</td>\n",
       "      <td>...</td>\n",
       "      <td>...</td>\n",
       "      <td>...</td>\n",
       "      <td>...</td>\n",
       "      <td>...</td>\n",
       "      <td>...</td>\n",
       "      <td>...</td>\n",
       "      <td>...</td>\n",
       "      <td>...</td>\n",
       "      <td>...</td>\n",
       "      <td>...</td>\n",
       "      <td>...</td>\n",
       "      <td>...</td>\n",
       "    </tr>\n",
       "    <tr>\n",
       "      <th>3145</th>\n",
       "      <td>1</td>\n",
       "      <td>1</td>\n",
       "      <td>0</td>\n",
       "      <td>0</td>\n",
       "      <td>0</td>\n",
       "      <td>0</td>\n",
       "      <td>0</td>\n",
       "      <td>0</td>\n",
       "      <td>0</td>\n",
       "      <td>0</td>\n",
       "      <td>0</td>\n",
       "      <td>0</td>\n",
       "      <td>0</td>\n",
       "      <td>0</td>\n",
       "      <td>0</td>\n",
       "      <td>0</td>\n",
       "    </tr>\n",
       "    <tr>\n",
       "      <th>3146</th>\n",
       "      <td>1</td>\n",
       "      <td>1</td>\n",
       "      <td>0</td>\n",
       "      <td>0</td>\n",
       "      <td>0</td>\n",
       "      <td>0</td>\n",
       "      <td>0</td>\n",
       "      <td>0</td>\n",
       "      <td>0</td>\n",
       "      <td>0</td>\n",
       "      <td>0</td>\n",
       "      <td>0</td>\n",
       "      <td>0</td>\n",
       "      <td>0</td>\n",
       "      <td>0</td>\n",
       "      <td>0</td>\n",
       "    </tr>\n",
       "    <tr>\n",
       "      <th>3147</th>\n",
       "      <td>1</td>\n",
       "      <td>1</td>\n",
       "      <td>0</td>\n",
       "      <td>0</td>\n",
       "      <td>0</td>\n",
       "      <td>0</td>\n",
       "      <td>0</td>\n",
       "      <td>0</td>\n",
       "      <td>0</td>\n",
       "      <td>0</td>\n",
       "      <td>0</td>\n",
       "      <td>0</td>\n",
       "      <td>0</td>\n",
       "      <td>0</td>\n",
       "      <td>0</td>\n",
       "      <td>0</td>\n",
       "    </tr>\n",
       "    <tr>\n",
       "      <th>3148</th>\n",
       "      <td>1</td>\n",
       "      <td>0</td>\n",
       "      <td>0</td>\n",
       "      <td>0</td>\n",
       "      <td>0</td>\n",
       "      <td>0</td>\n",
       "      <td>0</td>\n",
       "      <td>0</td>\n",
       "      <td>0</td>\n",
       "      <td>0</td>\n",
       "      <td>0</td>\n",
       "      <td>0</td>\n",
       "      <td>1</td>\n",
       "      <td>0</td>\n",
       "      <td>0</td>\n",
       "      <td>0</td>\n",
       "    </tr>\n",
       "    <tr>\n",
       "      <th>3149</th>\n",
       "      <td>1</td>\n",
       "      <td>1</td>\n",
       "      <td>0</td>\n",
       "      <td>0</td>\n",
       "      <td>0</td>\n",
       "      <td>0</td>\n",
       "      <td>0</td>\n",
       "      <td>0</td>\n",
       "      <td>0</td>\n",
       "      <td>0</td>\n",
       "      <td>0</td>\n",
       "      <td>0</td>\n",
       "      <td>0</td>\n",
       "      <td>0</td>\n",
       "      <td>0</td>\n",
       "      <td>0</td>\n",
       "    </tr>\n",
       "  </tbody>\n",
       "</table>\n",
       "<p>3150 rows × 16 columns</p>\n",
       "</div>"
      ],
      "text/plain": [
       "      feedback  Black  Dot  Black  Plus  Black  Show  Black  Spot  \\\n",
       "0            1           0            0            0            0   \n",
       "1            1           0            0            0            0   \n",
       "2            1           0            0            0            0   \n",
       "3            1           0            0            0            0   \n",
       "4            1           0            0            0            0   \n",
       "...        ...         ...          ...          ...          ...   \n",
       "3145         1           1            0            0            0   \n",
       "3146         1           1            0            0            0   \n",
       "3147         1           1            0            0            0   \n",
       "3148         1           0            0            0            0   \n",
       "3149         1           1            0            0            0   \n",
       "\n",
       "      Charcoal Fabric   Configuration: Fire TV Stick  Heather Gray Fabric   \\\n",
       "0                    1                             0                     0   \n",
       "1                    1                             0                     0   \n",
       "2                    0                             0                     0   \n",
       "3                    1                             0                     0   \n",
       "4                    1                             0                     0   \n",
       "...                ...                           ...                   ...   \n",
       "3145                 0                             0                     0   \n",
       "3146                 0                             0                     0   \n",
       "3147                 0                             0                     0   \n",
       "3148                 0                             0                     0   \n",
       "3149                 0                             0                     0   \n",
       "\n",
       "      Oak Finish   Sandstone Fabric   Walnut Finish   White  White  Dot  \\\n",
       "0               0                  0               0      0           0   \n",
       "1               0                  0               0      0           0   \n",
       "2               0                  0               1      0           0   \n",
       "3               0                  0               0      0           0   \n",
       "4               0                  0               0      0           0   \n",
       "...           ...                ...             ...    ...         ...   \n",
       "3145            0                  0               0      0           0   \n",
       "3146            0                  0               0      0           0   \n",
       "3147            0                  0               0      0           0   \n",
       "3148            0                  0               0      0           1   \n",
       "3149            0                  0               0      0           0   \n",
       "\n",
       "      White  Plus  White  Show  White  Spot  \n",
       "0               0            0            0  \n",
       "1               0            0            0  \n",
       "2               0            0            0  \n",
       "3               0            0            0  \n",
       "4               0            0            0  \n",
       "...           ...          ...          ...  \n",
       "3145            0            0            0  \n",
       "3146            0            0            0  \n",
       "3147            0            0            0  \n",
       "3148            0            0            0  \n",
       "3149            0            0            0  \n",
       "\n",
       "[3150 rows x 16 columns]"
      ]
     },
     "execution_count": 20,
     "metadata": {},
     "output_type": "execute_result"
    }
   ],
   "source": [
    "df_alexa.drop(['verified_reviews'], axis = 1, inplace=True) \n",
    "df_alexa"
   ]
  },
  {
   "cell_type": "code",
   "execution_count": 21,
   "id": "0034271a",
   "metadata": {
    "execution": {
     "iopub.execute_input": "2022-02-15T13:50:53.684362Z",
     "iopub.status.busy": "2022-02-15T13:50:53.683808Z",
     "iopub.status.idle": "2022-02-15T13:50:53.731690Z",
     "shell.execute_reply": "2022-02-15T13:50:53.732176Z",
     "shell.execute_reply.started": "2022-02-15T13:12:24.344666Z"
    },
    "papermill": {
     "duration": 0.119659,
     "end_time": "2022-02-15T13:50:53.732359",
     "exception": false,
     "start_time": "2022-02-15T13:50:53.612700",
     "status": "completed"
    },
    "tags": []
   },
   "outputs": [],
   "source": [
    "reviews = pd.DataFrame(alexa_countvectorizer.toarray())"
   ]
  },
  {
   "cell_type": "code",
   "execution_count": 22,
   "id": "1aaff690",
   "metadata": {
    "execution": {
     "iopub.execute_input": "2022-02-15T13:50:53.872781Z",
     "iopub.status.busy": "2022-02-15T13:50:53.872133Z",
     "iopub.status.idle": "2022-02-15T13:50:53.886356Z",
     "shell.execute_reply": "2022-02-15T13:50:53.886879Z",
     "shell.execute_reply.started": "2022-02-15T13:12:30.019556Z"
    },
    "papermill": {
     "duration": 0.086038,
     "end_time": "2022-02-15T13:50:53.887037",
     "exception": false,
     "start_time": "2022-02-15T13:50:53.800999",
     "status": "completed"
    },
    "tags": []
   },
   "outputs": [
    {
     "data": {
      "text/html": [
       "<div>\n",
       "<style scoped>\n",
       "    .dataframe tbody tr th:only-of-type {\n",
       "        vertical-align: middle;\n",
       "    }\n",
       "\n",
       "    .dataframe tbody tr th {\n",
       "        vertical-align: top;\n",
       "    }\n",
       "\n",
       "    .dataframe thead th {\n",
       "        text-align: right;\n",
       "    }\n",
       "</style>\n",
       "<table border=\"1\" class=\"dataframe\">\n",
       "  <thead>\n",
       "    <tr style=\"text-align: right;\">\n",
       "      <th></th>\n",
       "      <th>0</th>\n",
       "      <th>1</th>\n",
       "      <th>2</th>\n",
       "      <th>3</th>\n",
       "      <th>4</th>\n",
       "      <th>5</th>\n",
       "      <th>6</th>\n",
       "      <th>7</th>\n",
       "      <th>8</th>\n",
       "      <th>9</th>\n",
       "      <th>...</th>\n",
       "      <th>4034</th>\n",
       "      <th>4035</th>\n",
       "      <th>4036</th>\n",
       "      <th>4037</th>\n",
       "      <th>4038</th>\n",
       "      <th>4039</th>\n",
       "      <th>4040</th>\n",
       "      <th>4041</th>\n",
       "      <th>4042</th>\n",
       "      <th>4043</th>\n",
       "    </tr>\n",
       "  </thead>\n",
       "  <tbody>\n",
       "    <tr>\n",
       "      <th>0</th>\n",
       "      <td>0</td>\n",
       "      <td>0</td>\n",
       "      <td>0</td>\n",
       "      <td>0</td>\n",
       "      <td>0</td>\n",
       "      <td>0</td>\n",
       "      <td>0</td>\n",
       "      <td>0</td>\n",
       "      <td>0</td>\n",
       "      <td>0</td>\n",
       "      <td>...</td>\n",
       "      <td>0</td>\n",
       "      <td>0</td>\n",
       "      <td>0</td>\n",
       "      <td>0</td>\n",
       "      <td>0</td>\n",
       "      <td>0</td>\n",
       "      <td>0</td>\n",
       "      <td>0</td>\n",
       "      <td>0</td>\n",
       "      <td>0</td>\n",
       "    </tr>\n",
       "    <tr>\n",
       "      <th>1</th>\n",
       "      <td>0</td>\n",
       "      <td>0</td>\n",
       "      <td>0</td>\n",
       "      <td>0</td>\n",
       "      <td>0</td>\n",
       "      <td>0</td>\n",
       "      <td>0</td>\n",
       "      <td>0</td>\n",
       "      <td>0</td>\n",
       "      <td>0</td>\n",
       "      <td>...</td>\n",
       "      <td>0</td>\n",
       "      <td>0</td>\n",
       "      <td>0</td>\n",
       "      <td>0</td>\n",
       "      <td>0</td>\n",
       "      <td>0</td>\n",
       "      <td>0</td>\n",
       "      <td>0</td>\n",
       "      <td>0</td>\n",
       "      <td>0</td>\n",
       "    </tr>\n",
       "    <tr>\n",
       "      <th>2</th>\n",
       "      <td>0</td>\n",
       "      <td>0</td>\n",
       "      <td>0</td>\n",
       "      <td>0</td>\n",
       "      <td>0</td>\n",
       "      <td>0</td>\n",
       "      <td>0</td>\n",
       "      <td>0</td>\n",
       "      <td>0</td>\n",
       "      <td>0</td>\n",
       "      <td>...</td>\n",
       "      <td>0</td>\n",
       "      <td>0</td>\n",
       "      <td>0</td>\n",
       "      <td>0</td>\n",
       "      <td>0</td>\n",
       "      <td>0</td>\n",
       "      <td>0</td>\n",
       "      <td>0</td>\n",
       "      <td>0</td>\n",
       "      <td>0</td>\n",
       "    </tr>\n",
       "    <tr>\n",
       "      <th>3</th>\n",
       "      <td>0</td>\n",
       "      <td>0</td>\n",
       "      <td>0</td>\n",
       "      <td>0</td>\n",
       "      <td>0</td>\n",
       "      <td>0</td>\n",
       "      <td>0</td>\n",
       "      <td>0</td>\n",
       "      <td>0</td>\n",
       "      <td>0</td>\n",
       "      <td>...</td>\n",
       "      <td>0</td>\n",
       "      <td>1</td>\n",
       "      <td>0</td>\n",
       "      <td>0</td>\n",
       "      <td>0</td>\n",
       "      <td>0</td>\n",
       "      <td>0</td>\n",
       "      <td>0</td>\n",
       "      <td>0</td>\n",
       "      <td>0</td>\n",
       "    </tr>\n",
       "    <tr>\n",
       "      <th>4</th>\n",
       "      <td>0</td>\n",
       "      <td>0</td>\n",
       "      <td>0</td>\n",
       "      <td>0</td>\n",
       "      <td>0</td>\n",
       "      <td>0</td>\n",
       "      <td>0</td>\n",
       "      <td>0</td>\n",
       "      <td>0</td>\n",
       "      <td>0</td>\n",
       "      <td>...</td>\n",
       "      <td>0</td>\n",
       "      <td>0</td>\n",
       "      <td>0</td>\n",
       "      <td>0</td>\n",
       "      <td>0</td>\n",
       "      <td>0</td>\n",
       "      <td>0</td>\n",
       "      <td>0</td>\n",
       "      <td>0</td>\n",
       "      <td>0</td>\n",
       "    </tr>\n",
       "  </tbody>\n",
       "</table>\n",
       "<p>5 rows × 4044 columns</p>\n",
       "</div>"
      ],
      "text/plain": [
       "   0     1     2     3     4     5     6     7     8     9     ...  4034  \\\n",
       "0     0     0     0     0     0     0     0     0     0     0  ...     0   \n",
       "1     0     0     0     0     0     0     0     0     0     0  ...     0   \n",
       "2     0     0     0     0     0     0     0     0     0     0  ...     0   \n",
       "3     0     0     0     0     0     0     0     0     0     0  ...     0   \n",
       "4     0     0     0     0     0     0     0     0     0     0  ...     0   \n",
       "\n",
       "   4035  4036  4037  4038  4039  4040  4041  4042  4043  \n",
       "0     0     0     0     0     0     0     0     0     0  \n",
       "1     0     0     0     0     0     0     0     0     0  \n",
       "2     0     0     0     0     0     0     0     0     0  \n",
       "3     1     0     0     0     0     0     0     0     0  \n",
       "4     0     0     0     0     0     0     0     0     0  \n",
       "\n",
       "[5 rows x 4044 columns]"
      ]
     },
     "execution_count": 22,
     "metadata": {},
     "output_type": "execute_result"
    }
   ],
   "source": [
    "reviews.head()"
   ]
  },
  {
   "cell_type": "code",
   "execution_count": 23,
   "id": "0a40e18b",
   "metadata": {
    "execution": {
     "iopub.execute_input": "2022-02-15T13:50:54.033727Z",
     "iopub.status.busy": "2022-02-15T13:50:54.032427Z",
     "iopub.status.idle": "2022-02-15T13:50:54.233926Z",
     "shell.execute_reply": "2022-02-15T13:50:54.233339Z",
     "shell.execute_reply.started": "2022-02-15T13:12:49.341693Z"
    },
    "papermill": {
     "duration": 0.277394,
     "end_time": "2022-02-15T13:50:54.234062",
     "exception": false,
     "start_time": "2022-02-15T13:50:53.956668",
     "status": "completed"
    },
    "tags": []
   },
   "outputs": [
    {
     "data": {
      "text/html": [
       "<div>\n",
       "<style scoped>\n",
       "    .dataframe tbody tr th:only-of-type {\n",
       "        vertical-align: middle;\n",
       "    }\n",
       "\n",
       "    .dataframe tbody tr th {\n",
       "        vertical-align: top;\n",
       "    }\n",
       "\n",
       "    .dataframe thead th {\n",
       "        text-align: right;\n",
       "    }\n",
       "</style>\n",
       "<table border=\"1\" class=\"dataframe\">\n",
       "  <thead>\n",
       "    <tr style=\"text-align: right;\">\n",
       "      <th></th>\n",
       "      <th>feedback</th>\n",
       "      <th>Black  Dot</th>\n",
       "      <th>Black  Plus</th>\n",
       "      <th>Black  Show</th>\n",
       "      <th>Black  Spot</th>\n",
       "      <th>Charcoal Fabric</th>\n",
       "      <th>Configuration: Fire TV Stick</th>\n",
       "      <th>Heather Gray Fabric</th>\n",
       "      <th>Oak Finish</th>\n",
       "      <th>Sandstone Fabric</th>\n",
       "      <th>...</th>\n",
       "      <th>4034</th>\n",
       "      <th>4035</th>\n",
       "      <th>4036</th>\n",
       "      <th>4037</th>\n",
       "      <th>4038</th>\n",
       "      <th>4039</th>\n",
       "      <th>4040</th>\n",
       "      <th>4041</th>\n",
       "      <th>4042</th>\n",
       "      <th>4043</th>\n",
       "    </tr>\n",
       "  </thead>\n",
       "  <tbody>\n",
       "    <tr>\n",
       "      <th>0</th>\n",
       "      <td>1</td>\n",
       "      <td>0</td>\n",
       "      <td>0</td>\n",
       "      <td>0</td>\n",
       "      <td>0</td>\n",
       "      <td>1</td>\n",
       "      <td>0</td>\n",
       "      <td>0</td>\n",
       "      <td>0</td>\n",
       "      <td>0</td>\n",
       "      <td>...</td>\n",
       "      <td>0</td>\n",
       "      <td>0</td>\n",
       "      <td>0</td>\n",
       "      <td>0</td>\n",
       "      <td>0</td>\n",
       "      <td>0</td>\n",
       "      <td>0</td>\n",
       "      <td>0</td>\n",
       "      <td>0</td>\n",
       "      <td>0</td>\n",
       "    </tr>\n",
       "    <tr>\n",
       "      <th>1</th>\n",
       "      <td>1</td>\n",
       "      <td>0</td>\n",
       "      <td>0</td>\n",
       "      <td>0</td>\n",
       "      <td>0</td>\n",
       "      <td>1</td>\n",
       "      <td>0</td>\n",
       "      <td>0</td>\n",
       "      <td>0</td>\n",
       "      <td>0</td>\n",
       "      <td>...</td>\n",
       "      <td>0</td>\n",
       "      <td>0</td>\n",
       "      <td>0</td>\n",
       "      <td>0</td>\n",
       "      <td>0</td>\n",
       "      <td>0</td>\n",
       "      <td>0</td>\n",
       "      <td>0</td>\n",
       "      <td>0</td>\n",
       "      <td>0</td>\n",
       "    </tr>\n",
       "    <tr>\n",
       "      <th>2</th>\n",
       "      <td>1</td>\n",
       "      <td>0</td>\n",
       "      <td>0</td>\n",
       "      <td>0</td>\n",
       "      <td>0</td>\n",
       "      <td>0</td>\n",
       "      <td>0</td>\n",
       "      <td>0</td>\n",
       "      <td>0</td>\n",
       "      <td>0</td>\n",
       "      <td>...</td>\n",
       "      <td>0</td>\n",
       "      <td>0</td>\n",
       "      <td>0</td>\n",
       "      <td>0</td>\n",
       "      <td>0</td>\n",
       "      <td>0</td>\n",
       "      <td>0</td>\n",
       "      <td>0</td>\n",
       "      <td>0</td>\n",
       "      <td>0</td>\n",
       "    </tr>\n",
       "    <tr>\n",
       "      <th>3</th>\n",
       "      <td>1</td>\n",
       "      <td>0</td>\n",
       "      <td>0</td>\n",
       "      <td>0</td>\n",
       "      <td>0</td>\n",
       "      <td>1</td>\n",
       "      <td>0</td>\n",
       "      <td>0</td>\n",
       "      <td>0</td>\n",
       "      <td>0</td>\n",
       "      <td>...</td>\n",
       "      <td>0</td>\n",
       "      <td>1</td>\n",
       "      <td>0</td>\n",
       "      <td>0</td>\n",
       "      <td>0</td>\n",
       "      <td>0</td>\n",
       "      <td>0</td>\n",
       "      <td>0</td>\n",
       "      <td>0</td>\n",
       "      <td>0</td>\n",
       "    </tr>\n",
       "    <tr>\n",
       "      <th>4</th>\n",
       "      <td>1</td>\n",
       "      <td>0</td>\n",
       "      <td>0</td>\n",
       "      <td>0</td>\n",
       "      <td>0</td>\n",
       "      <td>1</td>\n",
       "      <td>0</td>\n",
       "      <td>0</td>\n",
       "      <td>0</td>\n",
       "      <td>0</td>\n",
       "      <td>...</td>\n",
       "      <td>0</td>\n",
       "      <td>0</td>\n",
       "      <td>0</td>\n",
       "      <td>0</td>\n",
       "      <td>0</td>\n",
       "      <td>0</td>\n",
       "      <td>0</td>\n",
       "      <td>0</td>\n",
       "      <td>0</td>\n",
       "      <td>0</td>\n",
       "    </tr>\n",
       "    <tr>\n",
       "      <th>...</th>\n",
       "      <td>...</td>\n",
       "      <td>...</td>\n",
       "      <td>...</td>\n",
       "      <td>...</td>\n",
       "      <td>...</td>\n",
       "      <td>...</td>\n",
       "      <td>...</td>\n",
       "      <td>...</td>\n",
       "      <td>...</td>\n",
       "      <td>...</td>\n",
       "      <td>...</td>\n",
       "      <td>...</td>\n",
       "      <td>...</td>\n",
       "      <td>...</td>\n",
       "      <td>...</td>\n",
       "      <td>...</td>\n",
       "      <td>...</td>\n",
       "      <td>...</td>\n",
       "      <td>...</td>\n",
       "      <td>...</td>\n",
       "      <td>...</td>\n",
       "    </tr>\n",
       "    <tr>\n",
       "      <th>3145</th>\n",
       "      <td>1</td>\n",
       "      <td>1</td>\n",
       "      <td>0</td>\n",
       "      <td>0</td>\n",
       "      <td>0</td>\n",
       "      <td>0</td>\n",
       "      <td>0</td>\n",
       "      <td>0</td>\n",
       "      <td>0</td>\n",
       "      <td>0</td>\n",
       "      <td>...</td>\n",
       "      <td>0</td>\n",
       "      <td>0</td>\n",
       "      <td>0</td>\n",
       "      <td>0</td>\n",
       "      <td>0</td>\n",
       "      <td>0</td>\n",
       "      <td>0</td>\n",
       "      <td>0</td>\n",
       "      <td>0</td>\n",
       "      <td>0</td>\n",
       "    </tr>\n",
       "    <tr>\n",
       "      <th>3146</th>\n",
       "      <td>1</td>\n",
       "      <td>1</td>\n",
       "      <td>0</td>\n",
       "      <td>0</td>\n",
       "      <td>0</td>\n",
       "      <td>0</td>\n",
       "      <td>0</td>\n",
       "      <td>0</td>\n",
       "      <td>0</td>\n",
       "      <td>0</td>\n",
       "      <td>...</td>\n",
       "      <td>0</td>\n",
       "      <td>0</td>\n",
       "      <td>0</td>\n",
       "      <td>0</td>\n",
       "      <td>0</td>\n",
       "      <td>0</td>\n",
       "      <td>0</td>\n",
       "      <td>0</td>\n",
       "      <td>0</td>\n",
       "      <td>0</td>\n",
       "    </tr>\n",
       "    <tr>\n",
       "      <th>3147</th>\n",
       "      <td>1</td>\n",
       "      <td>1</td>\n",
       "      <td>0</td>\n",
       "      <td>0</td>\n",
       "      <td>0</td>\n",
       "      <td>0</td>\n",
       "      <td>0</td>\n",
       "      <td>0</td>\n",
       "      <td>0</td>\n",
       "      <td>0</td>\n",
       "      <td>...</td>\n",
       "      <td>0</td>\n",
       "      <td>0</td>\n",
       "      <td>0</td>\n",
       "      <td>0</td>\n",
       "      <td>0</td>\n",
       "      <td>0</td>\n",
       "      <td>0</td>\n",
       "      <td>0</td>\n",
       "      <td>0</td>\n",
       "      <td>0</td>\n",
       "    </tr>\n",
       "    <tr>\n",
       "      <th>3148</th>\n",
       "      <td>1</td>\n",
       "      <td>0</td>\n",
       "      <td>0</td>\n",
       "      <td>0</td>\n",
       "      <td>0</td>\n",
       "      <td>0</td>\n",
       "      <td>0</td>\n",
       "      <td>0</td>\n",
       "      <td>0</td>\n",
       "      <td>0</td>\n",
       "      <td>...</td>\n",
       "      <td>0</td>\n",
       "      <td>0</td>\n",
       "      <td>0</td>\n",
       "      <td>0</td>\n",
       "      <td>0</td>\n",
       "      <td>0</td>\n",
       "      <td>0</td>\n",
       "      <td>0</td>\n",
       "      <td>0</td>\n",
       "      <td>0</td>\n",
       "    </tr>\n",
       "    <tr>\n",
       "      <th>3149</th>\n",
       "      <td>1</td>\n",
       "      <td>1</td>\n",
       "      <td>0</td>\n",
       "      <td>0</td>\n",
       "      <td>0</td>\n",
       "      <td>0</td>\n",
       "      <td>0</td>\n",
       "      <td>0</td>\n",
       "      <td>0</td>\n",
       "      <td>0</td>\n",
       "      <td>...</td>\n",
       "      <td>0</td>\n",
       "      <td>0</td>\n",
       "      <td>0</td>\n",
       "      <td>0</td>\n",
       "      <td>0</td>\n",
       "      <td>0</td>\n",
       "      <td>0</td>\n",
       "      <td>0</td>\n",
       "      <td>0</td>\n",
       "      <td>0</td>\n",
       "    </tr>\n",
       "  </tbody>\n",
       "</table>\n",
       "<p>3150 rows × 4060 columns</p>\n",
       "</div>"
      ],
      "text/plain": [
       "      feedback  Black  Dot  Black  Plus  Black  Show  Black  Spot  \\\n",
       "0            1           0            0            0            0   \n",
       "1            1           0            0            0            0   \n",
       "2            1           0            0            0            0   \n",
       "3            1           0            0            0            0   \n",
       "4            1           0            0            0            0   \n",
       "...        ...         ...          ...          ...          ...   \n",
       "3145         1           1            0            0            0   \n",
       "3146         1           1            0            0            0   \n",
       "3147         1           1            0            0            0   \n",
       "3148         1           0            0            0            0   \n",
       "3149         1           1            0            0            0   \n",
       "\n",
       "      Charcoal Fabric   Configuration: Fire TV Stick  Heather Gray Fabric   \\\n",
       "0                    1                             0                     0   \n",
       "1                    1                             0                     0   \n",
       "2                    0                             0                     0   \n",
       "3                    1                             0                     0   \n",
       "4                    1                             0                     0   \n",
       "...                ...                           ...                   ...   \n",
       "3145                 0                             0                     0   \n",
       "3146                 0                             0                     0   \n",
       "3147                 0                             0                     0   \n",
       "3148                 0                             0                     0   \n",
       "3149                 0                             0                     0   \n",
       "\n",
       "      Oak Finish   Sandstone Fabric   ...  4034  4035  4036  4037  4038  4039  \\\n",
       "0               0                  0  ...     0     0     0     0     0     0   \n",
       "1               0                  0  ...     0     0     0     0     0     0   \n",
       "2               0                  0  ...     0     0     0     0     0     0   \n",
       "3               0                  0  ...     0     1     0     0     0     0   \n",
       "4               0                  0  ...     0     0     0     0     0     0   \n",
       "...           ...                ...  ...   ...   ...   ...   ...   ...   ...   \n",
       "3145            0                  0  ...     0     0     0     0     0     0   \n",
       "3146            0                  0  ...     0     0     0     0     0     0   \n",
       "3147            0                  0  ...     0     0     0     0     0     0   \n",
       "3148            0                  0  ...     0     0     0     0     0     0   \n",
       "3149            0                  0  ...     0     0     0     0     0     0   \n",
       "\n",
       "      4040  4041  4042  4043  \n",
       "0        0     0     0     0  \n",
       "1        0     0     0     0  \n",
       "2        0     0     0     0  \n",
       "3        0     0     0     0  \n",
       "4        0     0     0     0  \n",
       "...    ...   ...   ...   ...  \n",
       "3145     0     0     0     0  \n",
       "3146     0     0     0     0  \n",
       "3147     0     0     0     0  \n",
       "3148     0     0     0     0  \n",
       "3149     0     0     0     0  \n",
       "\n",
       "[3150 rows x 4060 columns]"
      ]
     },
     "execution_count": 23,
     "metadata": {},
     "output_type": "execute_result"
    }
   ],
   "source": [
    "df_alexa = pd.concat([df_alexa, reviews], axis = 1)\n",
    "df_alexa"
   ]
  },
  {
   "cell_type": "markdown",
   "id": "7dc82515",
   "metadata": {
    "papermill": {
     "duration": 0.069706,
     "end_time": "2022-02-15T13:50:54.377532",
     "exception": false,
     "start_time": "2022-02-15T13:50:54.307826",
     "status": "completed"
    },
    "tags": []
   },
   "source": [
    "> Now we have our data in a way in which a machine learning model will understand i.e numbers"
   ]
  },
  {
   "cell_type": "markdown",
   "id": "f85e7cae",
   "metadata": {
    "papermill": {
     "duration": 0.070022,
     "end_time": "2022-02-15T13:50:54.517842",
     "exception": false,
     "start_time": "2022-02-15T13:50:54.447820",
     "status": "completed"
    },
    "tags": []
   },
   "source": [
    "## Train Test Split"
   ]
  },
  {
   "cell_type": "code",
   "execution_count": 24,
   "id": "305dc3c0",
   "metadata": {
    "execution": {
     "iopub.execute_input": "2022-02-15T13:50:54.662580Z",
     "iopub.status.busy": "2022-02-15T13:50:54.661641Z",
     "iopub.status.idle": "2022-02-15T13:50:54.788343Z",
     "shell.execute_reply": "2022-02-15T13:50:54.787730Z",
     "shell.execute_reply.started": "2022-02-15T13:13:52.595893Z"
    },
    "papermill": {
     "duration": 0.200214,
     "end_time": "2022-02-15T13:50:54.788490",
     "exception": false,
     "start_time": "2022-02-15T13:50:54.588276",
     "status": "completed"
    },
    "tags": []
   },
   "outputs": [],
   "source": [
    "X = df_alexa.drop(['feedback'], axis = 1)\n",
    "y = df_alexa['feedback']"
   ]
  },
  {
   "cell_type": "code",
   "execution_count": 25,
   "id": "ef791d32",
   "metadata": {
    "execution": {
     "iopub.execute_input": "2022-02-15T13:50:54.936311Z",
     "iopub.status.busy": "2022-02-15T13:50:54.935701Z",
     "iopub.status.idle": "2022-02-15T13:50:55.006299Z",
     "shell.execute_reply": "2022-02-15T13:50:55.006732Z",
     "shell.execute_reply.started": "2022-02-15T13:17:53.861574Z"
    },
    "papermill": {
     "duration": 0.147382,
     "end_time": "2022-02-15T13:50:55.006906",
     "exception": false,
     "start_time": "2022-02-15T13:50:54.859524",
     "status": "completed"
    },
    "tags": []
   },
   "outputs": [],
   "source": [
    "x_train, x_test, y_train, y_test = train_test_split(X, y, test_size = 0.2, random_state = 26)"
   ]
  },
  {
   "cell_type": "code",
   "execution_count": 26,
   "id": "44ac72ad",
   "metadata": {
    "execution": {
     "iopub.execute_input": "2022-02-15T13:50:55.153689Z",
     "iopub.status.busy": "2022-02-15T13:50:55.152947Z",
     "iopub.status.idle": "2022-02-15T13:50:55.156432Z",
     "shell.execute_reply": "2022-02-15T13:50:55.155952Z",
     "shell.execute_reply.started": "2022-02-15T13:17:54.677700Z"
    },
    "papermill": {
     "duration": 0.079274,
     "end_time": "2022-02-15T13:50:55.156581",
     "exception": false,
     "start_time": "2022-02-15T13:50:55.077307",
     "status": "completed"
    },
    "tags": []
   },
   "outputs": [
    {
     "data": {
      "text/plain": [
       "((2520, 4059), (630, 4059))"
      ]
     },
     "execution_count": 26,
     "metadata": {},
     "output_type": "execute_result"
    }
   ],
   "source": [
    "x_train.shape,x_test.shape"
   ]
  },
  {
   "cell_type": "markdown",
   "id": "4fe7569b",
   "metadata": {
    "papermill": {
     "duration": 0.070495,
     "end_time": "2022-02-15T13:50:55.297896",
     "exception": false,
     "start_time": "2022-02-15T13:50:55.227401",
     "status": "completed"
    },
    "tags": []
   },
   "source": [
    "> We have 2520 training data and 630 test/validation data"
   ]
  },
  {
   "cell_type": "markdown",
   "id": "76cbbebf",
   "metadata": {
    "papermill": {
     "duration": 0.070213,
     "end_time": "2022-02-15T13:50:55.438718",
     "exception": false,
     "start_time": "2022-02-15T13:50:55.368505",
     "status": "completed"
    },
    "tags": []
   },
   "source": [
    "## Machine Learning Training"
   ]
  },
  {
   "cell_type": "markdown",
   "id": "c9b816ca",
   "metadata": {
    "papermill": {
     "duration": 0.070297,
     "end_time": "2022-02-15T13:50:55.579593",
     "exception": false,
     "start_time": "2022-02-15T13:50:55.509296",
     "status": "completed"
    },
    "tags": []
   },
   "source": [
    "### Logistic Regression"
   ]
  },
  {
   "cell_type": "code",
   "execution_count": 27,
   "id": "bedb9a19",
   "metadata": {
    "execution": {
     "iopub.execute_input": "2022-02-15T13:50:55.725552Z",
     "iopub.status.busy": "2022-02-15T13:50:55.724923Z",
     "iopub.status.idle": "2022-02-15T13:50:56.653652Z",
     "shell.execute_reply": "2022-02-15T13:50:56.654669Z",
     "shell.execute_reply.started": "2022-02-15T13:17:56.976385Z"
    },
    "papermill": {
     "duration": 1.004629,
     "end_time": "2022-02-15T13:50:56.654935",
     "exception": false,
     "start_time": "2022-02-15T13:50:55.650306",
     "status": "completed"
    },
    "tags": []
   },
   "outputs": [
    {
     "data": {
      "text/plain": [
       "LogisticRegression()"
      ]
     },
     "execution_count": 27,
     "metadata": {},
     "output_type": "execute_result"
    }
   ],
   "source": [
    "from sklearn.linear_model import LogisticRegression\n",
    "\n",
    "# Create instance of model\n",
    "lreg = LogisticRegression()\n",
    "# Pass training data into model\n",
    "lreg.fit(x_train, y_train)"
   ]
  },
  {
   "cell_type": "code",
   "execution_count": 28,
   "id": "1e1d779b",
   "metadata": {
    "execution": {
     "iopub.execute_input": "2022-02-15T13:50:56.858353Z",
     "iopub.status.busy": "2022-02-15T13:50:56.857749Z",
     "iopub.status.idle": "2022-02-15T13:50:56.915931Z",
     "shell.execute_reply": "2022-02-15T13:50:56.916720Z",
     "shell.execute_reply.started": "2022-02-15T13:18:44.642201Z"
    },
    "papermill": {
     "duration": 0.134733,
     "end_time": "2022-02-15T13:50:56.917005",
     "exception": false,
     "start_time": "2022-02-15T13:50:56.782272",
     "status": "completed"
    },
    "tags": []
   },
   "outputs": [],
   "source": [
    "# Getting prediciton on x_test\n",
    "y_pred_lreg = lreg.predict(x_test)"
   ]
  },
  {
   "cell_type": "code",
   "execution_count": 29,
   "id": "1f5935a8",
   "metadata": {
    "execution": {
     "iopub.execute_input": "2022-02-15T13:50:57.122787Z",
     "iopub.status.busy": "2022-02-15T13:50:57.121819Z",
     "iopub.status.idle": "2022-02-15T13:50:57.134263Z",
     "shell.execute_reply": "2022-02-15T13:50:57.133284Z",
     "shell.execute_reply.started": "2022-02-15T13:18:45.258388Z"
    },
    "papermill": {
     "duration": 0.090097,
     "end_time": "2022-02-15T13:50:57.134428",
     "exception": false,
     "start_time": "2022-02-15T13:50:57.044331",
     "status": "completed"
    },
    "tags": []
   },
   "outputs": [
    {
     "name": "stdout",
     "output_type": "stream",
     "text": [
      "Logistic Regression\n",
      "\n",
      "\n",
      "Confusion Matrix\n",
      "[[ 22  37]\n",
      " [  5 566]]\n",
      "----------------------------------------------------------------------------------------------------\n",
      "Classification Report\n",
      "              precision    recall  f1-score   support\n",
      "\n",
      "           0       0.81      0.37      0.51        59\n",
      "           1       0.94      0.99      0.96       571\n",
      "\n",
      "    accuracy                           0.93       630\n",
      "   macro avg       0.88      0.68      0.74       630\n",
      "weighted avg       0.93      0.93      0.92       630\n",
      "\n",
      "----------------------------------------------------------------------------------------------------\n",
      "Accuracy =  93.33333333 %\n"
     ]
    }
   ],
   "source": [
    "# Scoring our model\n",
    "from sklearn.metrics import classification_report, confusion_matrix, accuracy_score,f1_score, precision_score, recall_score\n",
    "\n",
    "# Confusion Matrix\n",
    "print('Logistic Regression')\n",
    "print('\\n')\n",
    "print('Confusion Matrix')\n",
    "print(confusion_matrix(y_test, y_pred_lreg))\n",
    "print('--'*50)\n",
    "\n",
    "# Classification Report\n",
    "print('Classification Report')\n",
    "print(classification_report(y_test,y_pred_lreg))\n",
    "\n",
    "\n",
    "# Accuracy of our model\n",
    "print('--'*50)\n",
    "logreg_accuracy = round(accuracy_score(y_test, y_pred_lreg) * 100,8)\n",
    "print('Accuracy = ', logreg_accuracy,'%')"
   ]
  },
  {
   "cell_type": "markdown",
   "id": "f81e567e",
   "metadata": {
    "papermill": {
     "duration": 0.071668,
     "end_time": "2022-02-15T13:50:57.280316",
     "exception": false,
     "start_time": "2022-02-15T13:50:57.208648",
     "status": "completed"
    },
    "tags": []
   },
   "source": [
    "### LINEAR SUPPORT VECTOR CLASSIFIER"
   ]
  },
  {
   "cell_type": "code",
   "execution_count": 30,
   "id": "65410f88",
   "metadata": {
    "execution": {
     "iopub.execute_input": "2022-02-15T13:50:57.450673Z",
     "iopub.status.busy": "2022-02-15T13:50:57.427260Z",
     "iopub.status.idle": "2022-02-15T13:51:12.847136Z",
     "shell.execute_reply": "2022-02-15T13:51:12.847982Z",
     "shell.execute_reply.started": "2022-02-15T13:19:30.451087Z"
    },
    "papermill": {
     "duration": 15.494803,
     "end_time": "2022-02-15T13:51:12.848237",
     "exception": false,
     "start_time": "2022-02-15T13:50:57.353434",
     "status": "completed"
    },
    "tags": []
   },
   "outputs": [
    {
     "name": "stdout",
     "output_type": "stream",
     "text": [
      "CPU times: user 15.3 s, sys: 76.8 ms, total: 15.4 s\n",
      "Wall time: 15.4 s\n"
     ]
    },
    {
     "data": {
      "text/plain": [
       "SVC()"
      ]
     },
     "execution_count": 30,
     "metadata": {},
     "output_type": "execute_result"
    }
   ],
   "source": [
    "%%time\n",
    "from sklearn.svm import SVC\n",
    "# Instantiate the model\n",
    "svc = SVC()\n",
    "# Fit the model on training data\n",
    "svc.fit(x_train, y_train)"
   ]
  },
  {
   "cell_type": "code",
   "execution_count": 31,
   "id": "8b2a5b94",
   "metadata": {
    "execution": {
     "iopub.execute_input": "2022-02-15T13:51:13.029327Z",
     "iopub.status.busy": "2022-02-15T13:51:13.023547Z",
     "iopub.status.idle": "2022-02-15T13:51:16.704457Z",
     "shell.execute_reply": "2022-02-15T13:51:16.703920Z",
     "shell.execute_reply.started": "2022-02-15T13:19:46.260447Z"
    },
    "papermill": {
     "duration": 3.777711,
     "end_time": "2022-02-15T13:51:16.704606",
     "exception": false,
     "start_time": "2022-02-15T13:51:12.926895",
     "status": "completed"
    },
    "tags": []
   },
   "outputs": [],
   "source": [
    "# Getting the predictions for x_test\n",
    "y_pred_svc = svc.predict(x_test)"
   ]
  },
  {
   "cell_type": "code",
   "execution_count": 32,
   "id": "ad6c1110",
   "metadata": {
    "execution": {
     "iopub.execute_input": "2022-02-15T13:51:16.850852Z",
     "iopub.status.busy": "2022-02-15T13:51:16.849940Z",
     "iopub.status.idle": "2022-02-15T13:51:16.864069Z",
     "shell.execute_reply": "2022-02-15T13:51:16.863546Z",
     "shell.execute_reply.started": "2022-02-15T13:19:50.043264Z"
    },
    "papermill": {
     "duration": 0.088134,
     "end_time": "2022-02-15T13:51:16.864220",
     "exception": false,
     "start_time": "2022-02-15T13:51:16.776086",
     "status": "completed"
    },
    "tags": []
   },
   "outputs": [
    {
     "name": "stdout",
     "output_type": "stream",
     "text": [
      "Support Vector Classifier\n",
      "\n",
      "\n",
      "Confusion Matrix\n",
      "[[  2  57]\n",
      " [  0 571]]\n",
      "----------------------------------------------------------------------------------------------------\n",
      "Classification Report\n",
      "              precision    recall  f1-score   support\n",
      "\n",
      "           0       1.00      0.03      0.07        59\n",
      "           1       0.91      1.00      0.95       571\n",
      "\n",
      "    accuracy                           0.91       630\n",
      "   macro avg       0.95      0.52      0.51       630\n",
      "weighted avg       0.92      0.91      0.87       630\n",
      "\n",
      "----------------------------------------------------------------------------------------------------\n",
      "Accuracy =  90.95238095 %\n"
     ]
    }
   ],
   "source": [
    "print('Support Vector Classifier')\n",
    "print('\\n')\n",
    "# Confusion matrix\n",
    "print('Confusion Matrix')\n",
    "print(confusion_matrix(y_test, y_pred_svc))\n",
    "print('--'*50)\n",
    "\n",
    "# Classification report\n",
    "print('Classification Report')\n",
    "print(classification_report(y_test, y_pred_svc))\n",
    "\n",
    "# Accuracy\n",
    "print('--'*50)\n",
    "svc_accuracy = round(accuracy_score(y_test, y_pred_svc)*100,8)\n",
    "print('Accuracy = ', svc_accuracy,'%')"
   ]
  },
  {
   "cell_type": "markdown",
   "id": "bf2b5306",
   "metadata": {
    "papermill": {
     "duration": 0.072249,
     "end_time": "2022-02-15T13:51:17.008730",
     "exception": false,
     "start_time": "2022-02-15T13:51:16.936481",
     "status": "completed"
    },
    "tags": []
   },
   "source": [
    "### K-NEAREST NEIGHBORS"
   ]
  },
  {
   "cell_type": "code",
   "execution_count": 33,
   "id": "06e842db",
   "metadata": {
    "execution": {
     "iopub.execute_input": "2022-02-15T13:51:17.159978Z",
     "iopub.status.busy": "2022-02-15T13:51:17.159356Z",
     "iopub.status.idle": "2022-02-15T13:54:22.209795Z",
     "shell.execute_reply": "2022-02-15T13:54:22.209295Z",
     "shell.execute_reply.started": "2022-02-15T13:20:16.783521Z"
    },
    "papermill": {
     "duration": 185.128141,
     "end_time": "2022-02-15T13:54:22.209944",
     "exception": false,
     "start_time": "2022-02-15T13:51:17.081803",
     "status": "completed"
    },
    "tags": []
   },
   "outputs": [
    {
     "data": {
      "image/png": "[encoded data removed]",
      "text/plain": [
       "<Figure size 720x432 with 1 Axes>"
      ]
     },
     "metadata": {
      "needs_background": "light"
     },
     "output_type": "display_data"
    },
    {
     "name": "stdout",
     "output_type": "stream",
     "text": [
      "CPU times: user 3min 4s, sys: 678 ms, total: 3min 5s\n",
      "Wall time: 3min 4s\n"
     ]
    }
   ],
   "source": [
    "%%time\n",
    "from sklearn.neighbors import KNeighborsClassifier\n",
    "\n",
    "# in knn we need to select a value of nearest neighbour, for now lets use a for loop. If accuarcy\n",
    "# is better than other models then we would search for optimal parameter\n",
    "\n",
    "error_rate = []\n",
    "\n",
    "for i in range (2,15):\n",
    "    knn = KNeighborsClassifier(n_neighbors = i)\n",
    "    knn.fit(x_train, y_train)\n",
    "    pred_i = knn.predict(x_test)\n",
    "    error_rate.append(np.mean(pred_i != y_test))\n",
    "\n",
    "# Plot error rate\n",
    "plt.figure(figsize = (10,6))\n",
    "plt.plot(range(2,15), error_rate, color = 'blue', linestyle = '--', marker = 'o', \n",
    "        markerfacecolor = 'green', markersize = 10)\n",
    "\n",
    "plt.title('Error Rate vs K Value')\n",
    "plt.xlabel('K')\n",
    "plt.ylabel('Error Rate')\n",
    "plt.show()"
   ]
  },
  {
   "cell_type": "code",
   "execution_count": 34,
   "id": "e7a811d4",
   "metadata": {
    "execution": {
     "iopub.execute_input": "2022-02-15T13:54:22.362733Z",
     "iopub.status.busy": "2022-02-15T13:54:22.361714Z",
     "iopub.status.idle": "2022-02-15T13:54:23.686442Z",
     "shell.execute_reply": "2022-02-15T13:54:23.685916Z",
     "shell.execute_reply.started": "2022-02-15T13:23:24.490360Z"
    },
    "papermill": {
     "duration": 1.402166,
     "end_time": "2022-02-15T13:54:23.686580",
     "exception": false,
     "start_time": "2022-02-15T13:54:22.284414",
     "status": "completed"
    },
    "tags": []
   },
   "outputs": [
    {
     "data": {
      "text/plain": [
       "KNeighborsClassifier(n_neighbors=9)"
      ]
     },
     "execution_count": 34,
     "metadata": {},
     "output_type": "execute_result"
    }
   ],
   "source": [
    "# now using above data to train with n_neighbors having least error rate\n",
    "\n",
    "n_value = 0\n",
    "min_error = float('inf')\n",
    "for idx,error in enumerate(error_rate):\n",
    "    if min_error>error:\n",
    "        min_error=error\n",
    "        n_value=idx+2\n",
    "\n",
    "knn = KNeighborsClassifier(n_neighbors = n_value)\n",
    "# Fit new KNN on training data\n",
    "knn.fit(x_train, y_train)"
   ]
  },
  {
   "cell_type": "code",
   "execution_count": 35,
   "id": "39f0f940",
   "metadata": {
    "execution": {
     "iopub.execute_input": "2022-02-15T13:54:23.838225Z",
     "iopub.status.busy": "2022-02-15T13:54:23.837660Z",
     "iopub.status.idle": "2022-02-15T13:54:36.871595Z",
     "shell.execute_reply": "2022-02-15T13:54:36.872254Z",
     "shell.execute_reply.started": "2022-02-15T13:23:25.898283Z"
    },
    "papermill": {
     "duration": 13.111822,
     "end_time": "2022-02-15T13:54:36.872444",
     "exception": false,
     "start_time": "2022-02-15T13:54:23.760622",
     "status": "completed"
    },
    "tags": []
   },
   "outputs": [],
   "source": [
    "# Prediction of KNN\n",
    "y_pred_knn_op = knn.predict(x_test)"
   ]
  },
  {
   "cell_type": "code",
   "execution_count": 36,
   "id": "e4d33da7",
   "metadata": {
    "execution": {
     "iopub.execute_input": "2022-02-15T13:54:37.026638Z",
     "iopub.status.busy": "2022-02-15T13:54:37.023260Z",
     "iopub.status.idle": "2022-02-15T13:54:37.038084Z",
     "shell.execute_reply": "2022-02-15T13:54:37.037265Z",
     "shell.execute_reply.started": "2022-02-15T13:23:39.101299Z"
    },
    "papermill": {
     "duration": 0.090968,
     "end_time": "2022-02-15T13:54:37.038320",
     "exception": false,
     "start_time": "2022-02-15T13:54:36.947352",
     "status": "completed"
    },
    "tags": []
   },
   "outputs": [
    {
     "name": "stdout",
     "output_type": "stream",
     "text": [
      "K-Nearest Neighbors(KNN)\n",
      "k = 9\n",
      "\n",
      "\n",
      "[[  1  58]\n",
      " [  1 570]]\n",
      "----------------------------------------------------------------------------------------------------\n",
      "Classfication Report               precision    recall  f1-score   support\n",
      "\n",
      "           0       0.50      0.02      0.03        59\n",
      "           1       0.91      1.00      0.95       571\n",
      "\n",
      "    accuracy                           0.91       630\n",
      "   macro avg       0.70      0.51      0.49       630\n",
      "weighted avg       0.87      0.91      0.86       630\n",
      "\n",
      "----------------------------------------------------------------------------------------------------\n",
      "Accuracy =  90.63492063 %\n"
     ]
    }
   ],
   "source": [
    "print('K-Nearest Neighbors(KNN)')\n",
    "print('k =',n_value)\n",
    "\n",
    "# Confusion Matrix\n",
    "print('\\n')\n",
    "print(confusion_matrix(y_test, y_pred_knn_op))\n",
    "\n",
    "# Classification Report\n",
    "print('--'*50)\n",
    "print('Classfication Report',classification_report(y_test, y_pred_knn_op))\n",
    "\n",
    "# Accuracy\n",
    "print('--'*50)\n",
    "knn_op_accuracy =round(accuracy_score(y_test, y_pred_knn_op)*100,8)\n",
    "print('Accuracy = ',knn_op_accuracy,'%')"
   ]
  },
  {
   "cell_type": "markdown",
   "id": "1b81a089",
   "metadata": {
    "papermill": {
     "duration": 0.07469,
     "end_time": "2022-02-15T13:54:37.190408",
     "exception": false,
     "start_time": "2022-02-15T13:54:37.115718",
     "status": "completed"
    },
    "tags": []
   },
   "source": [
    "### RANDOM FOREST"
   ]
  },
  {
   "cell_type": "code",
   "execution_count": 37,
   "id": "bc0cbc70",
   "metadata": {
    "execution": {
     "iopub.execute_input": "2022-02-15T13:54:37.344387Z",
     "iopub.status.busy": "2022-02-15T13:54:37.343697Z",
     "iopub.status.idle": "2022-02-15T13:54:40.435825Z",
     "shell.execute_reply": "2022-02-15T13:54:40.435319Z",
     "shell.execute_reply.started": "2022-02-15T13:23:39.118970Z"
    },
    "papermill": {
     "duration": 3.170996,
     "end_time": "2022-02-15T13:54:40.435978",
     "exception": false,
     "start_time": "2022-02-15T13:54:37.264982",
     "status": "completed"
    },
    "tags": []
   },
   "outputs": [],
   "source": [
    "from sklearn.ensemble import RandomForestClassifier\n",
    "\n",
    "# Create model object\n",
    "rfc = RandomForestClassifier(n_estimators = 250,n_jobs=-1)\n",
    "# Fit model to training data\n",
    "rfc.fit(x_train,y_train)\n",
    "y_pred_rfc = rfc.predict(x_test)"
   ]
  },
  {
   "cell_type": "code",
   "execution_count": 38,
   "id": "13b02311",
   "metadata": {
    "execution": {
     "iopub.execute_input": "2022-02-15T13:54:40.590780Z",
     "iopub.status.busy": "2022-02-15T13:54:40.589915Z",
     "iopub.status.idle": "2022-02-15T13:54:40.601026Z",
     "shell.execute_reply": "2022-02-15T13:54:40.600564Z",
     "shell.execute_reply.started": "2022-02-15T13:23:42.314849Z"
    },
    "papermill": {
     "duration": 0.091308,
     "end_time": "2022-02-15T13:54:40.601153",
     "exception": false,
     "start_time": "2022-02-15T13:54:40.509845",
     "status": "completed"
    },
    "tags": []
   },
   "outputs": [
    {
     "name": "stdout",
     "output_type": "stream",
     "text": [
      "Random Forest\n",
      "\n",
      "\n",
      "Confusion Matrix\n",
      "[[  9  50]\n",
      " [  1 570]]\n",
      "----------------------------------------------------------------------------------------------------\n",
      "Classification Report\n",
      "              precision    recall  f1-score   support\n",
      "\n",
      "           0       0.90      0.15      0.26        59\n",
      "           1       0.92      1.00      0.96       571\n",
      "\n",
      "    accuracy                           0.92       630\n",
      "   macro avg       0.91      0.58      0.61       630\n",
      "weighted avg       0.92      0.92      0.89       630\n",
      "\n",
      "----------------------------------------------------------------------------------------------------\n",
      "Accuracy =  91.9047619 %\n"
     ]
    }
   ],
   "source": [
    "print('Random Forest')\n",
    "# Confusion matrix\n",
    "print('\\n')\n",
    "print('Confusion Matrix')\n",
    "print(confusion_matrix(y_test, y_pred_rfc))\n",
    "\n",
    "# Classification report\n",
    "print('--'*50)\n",
    "print('Classification Report')\n",
    "print(classification_report(y_test, y_pred_rfc))\n",
    "\n",
    "# Accuracy\n",
    "print('--'*50)\n",
    "rf_accuracy = round(accuracy_score(y_test, y_pred_rfc)*100,8)\n",
    "print('Accuracy = ', rf_accuracy,'%')"
   ]
  },
  {
   "cell_type": "markdown",
   "id": "7630dad0",
   "metadata": {
    "papermill": {
     "duration": 0.07584,
     "end_time": "2022-02-15T13:54:40.751822",
     "exception": false,
     "start_time": "2022-02-15T13:54:40.675982",
     "status": "completed"
    },
    "tags": []
   },
   "source": [
    "### XGBoost Classifier"
   ]
  },
  {
   "cell_type": "code",
   "execution_count": 39,
   "id": "c2f97ce3",
   "metadata": {
    "execution": {
     "iopub.execute_input": "2022-02-15T13:54:40.906060Z",
     "iopub.status.busy": "2022-02-15T13:54:40.905453Z",
     "iopub.status.idle": "2022-02-15T13:55:01.016735Z",
     "shell.execute_reply": "2022-02-15T13:55:01.017347Z",
     "shell.execute_reply.started": "2022-02-15T13:23:42.332173Z"
    },
    "papermill": {
     "duration": 20.190675,
     "end_time": "2022-02-15T13:55:01.017545",
     "exception": false,
     "start_time": "2022-02-15T13:54:40.826870",
     "status": "completed"
    },
    "tags": []
   },
   "outputs": [
    {
     "name": "stderr",
     "output_type": "stream",
     "text": [
      "/opt/conda/lib/python3.7/site-packages/xgboost/sklearn.py:1224: UserWarning:\n",
      "\n",
      "The use of label encoder in XGBClassifier is deprecated and will be removed in a future release. To remove this warning, do the following: 1) Pass option use_label_encoder=False when constructing XGBClassifier object; and 2) Encode your labels (y) as integers starting with 0, i.e. 0, 1, 2, ..., [num_class - 1].\n",
      "\n"
     ]
    },
    {
     "name": "stdout",
     "output_type": "stream",
     "text": [
      "[13:54:41] WARNING: ../src/learner.cc:1115: Starting in XGBoost 1.3.0, the default evaluation metric used with the objective 'binary:logistic' was changed from 'error' to 'logloss'. Explicitly set eval_metric if you'd like to restore the old behavior.\n"
     ]
    }
   ],
   "source": [
    "from xgboost import XGBClassifier\n",
    "\n",
    "# Create model object\n",
    "xgb = XGBClassifier(n_jobs=-1)\n",
    "\n",
    "# Fit model to training data\n",
    "xgb.fit(x_train, y_train)\n",
    "y_pred_xgb = xgb.predict(x_test)"
   ]
  },
  {
   "cell_type": "code",
   "execution_count": 40,
   "id": "7b333de8",
   "metadata": {
    "execution": {
     "iopub.execute_input": "2022-02-15T13:55:01.172101Z",
     "iopub.status.busy": "2022-02-15T13:55:01.171522Z",
     "iopub.status.idle": "2022-02-15T13:55:01.184489Z",
     "shell.execute_reply": "2022-02-15T13:55:01.184894Z",
     "shell.execute_reply.started": "2022-02-15T13:24:03.453442Z"
    },
    "papermill": {
     "duration": 0.091566,
     "end_time": "2022-02-15T13:55:01.185058",
     "exception": false,
     "start_time": "2022-02-15T13:55:01.093492",
     "status": "completed"
    },
    "tags": []
   },
   "outputs": [
    {
     "name": "stdout",
     "output_type": "stream",
     "text": [
      "XGBoost Classifer\n",
      "\n",
      "\n",
      "Confusion Matrix\n",
      "[[ 19  40]\n",
      " [  6 565]]\n",
      "----------------------------------------------------------------------------------------------------\n",
      "Classification Report\n",
      "              precision    recall  f1-score   support\n",
      "\n",
      "           0       0.76      0.32      0.45        59\n",
      "           1       0.93      0.99      0.96       571\n",
      "\n",
      "    accuracy                           0.93       630\n",
      "   macro avg       0.85      0.66      0.71       630\n",
      "weighted avg       0.92      0.93      0.91       630\n",
      "\n",
      "----------------------------------------------------------------------------------------------------\n",
      "Accuracy =  92.6984127 %\n"
     ]
    }
   ],
   "source": [
    "print('XGBoost Classifer')\n",
    "# Confusion matrix\n",
    "print('\\n')\n",
    "print('Confusion Matrix')\n",
    "print(confusion_matrix(y_test, y_pred_xgb))\n",
    "\n",
    "# Classification report\n",
    "print('--'*50)\n",
    "print('Classification Report')\n",
    "print(classification_report(y_test, y_pred_xgb))\n",
    "\n",
    "# Accuracy\n",
    "print('--'*50)\n",
    "xgb_accuracy = round(accuracy_score(y_test, y_pred_xgb)*100,8)\n",
    "print('Accuracy = ', xgb_accuracy,'%')"
   ]
  },
  {
   "cell_type": "markdown",
   "id": "21301922",
   "metadata": {
    "papermill": {
     "duration": 0.074868,
     "end_time": "2022-02-15T13:55:01.335314",
     "exception": false,
     "start_time": "2022-02-15T13:55:01.260446",
     "status": "completed"
    },
    "tags": []
   },
   "source": [
    "### Gradient Boosting Classifier"
   ]
  },
  {
   "cell_type": "code",
   "execution_count": 41,
   "id": "c85867f8",
   "metadata": {
    "execution": {
     "iopub.execute_input": "2022-02-15T13:55:01.497219Z",
     "iopub.status.busy": "2022-02-15T13:55:01.496278Z",
     "iopub.status.idle": "2022-02-15T13:55:13.441681Z",
     "shell.execute_reply": "2022-02-15T13:55:13.442167Z",
     "shell.execute_reply.started": "2022-02-15T13:24:56.459521Z"
    },
    "papermill": {
     "duration": 12.03203,
     "end_time": "2022-02-15T13:55:13.442381",
     "exception": false,
     "start_time": "2022-02-15T13:55:01.410351",
     "status": "completed"
    },
    "tags": []
   },
   "outputs": [],
   "source": [
    "from sklearn.ensemble import GradientBoostingClassifier\n",
    "\n",
    "# Create model object\n",
    "gbc = GradientBoostingClassifier()\n",
    "\n",
    "# Fit model to training data\n",
    "gbc.fit(x_train, y_train)\n",
    "y_pred_gbc = xgb.predict(x_test)"
   ]
  },
  {
   "cell_type": "code",
   "execution_count": 42,
   "id": "04cfcc40",
   "metadata": {
    "execution": {
     "iopub.execute_input": "2022-02-15T13:55:13.602636Z",
     "iopub.status.busy": "2022-02-15T13:55:13.601986Z",
     "iopub.status.idle": "2022-02-15T13:55:13.612851Z",
     "shell.execute_reply": "2022-02-15T13:55:13.613333Z",
     "shell.execute_reply.started": "2022-02-15T13:25:44.255075Z"
    },
    "papermill": {
     "duration": 0.09444,
     "end_time": "2022-02-15T13:55:13.613508",
     "exception": false,
     "start_time": "2022-02-15T13:55:13.519068",
     "status": "completed"
    },
    "tags": []
   },
   "outputs": [
    {
     "name": "stdout",
     "output_type": "stream",
     "text": [
      "Gradient Boosting Classifier\n",
      "\n",
      "\n",
      "Confusion Matrix\n",
      "[[ 19  40]\n",
      " [  6 565]]\n",
      "----------------------------------------------------------------------------------------------------\n",
      "Classification Report\n",
      "              precision    recall  f1-score   support\n",
      "\n",
      "           0       0.76      0.32      0.45        59\n",
      "           1       0.93      0.99      0.96       571\n",
      "\n",
      "    accuracy                           0.93       630\n",
      "   macro avg       0.85      0.66      0.71       630\n",
      "weighted avg       0.92      0.93      0.91       630\n",
      "\n",
      "----------------------------------------------------------------------------------------------------\n",
      "Accuracy =  92.6984127 %\n"
     ]
    }
   ],
   "source": [
    "print('Gradient Boosting Classifier')\n",
    "# Confusion matrix\n",
    "print('\\n')\n",
    "print('Confusion Matrix')\n",
    "print(confusion_matrix(y_test, y_pred_gbc))\n",
    "\n",
    "# Classification report\n",
    "print('--'*50)\n",
    "print('Classification Report')\n",
    "print(classification_report(y_test, y_pred_gbc))\n",
    "\n",
    "# Accuracy\n",
    "print('--'*50)\n",
    "gbc_accuracy = round(accuracy_score(y_test, y_pred_gbc)*100,8)\n",
    "print('Accuracy = ', gbc_accuracy,'%')"
   ]
  },
  {
   "cell_type": "markdown",
   "id": "6edd4c13",
   "metadata": {
    "papermill": {
     "duration": 0.076777,
     "end_time": "2022-02-15T13:55:13.766475",
     "exception": false,
     "start_time": "2022-02-15T13:55:13.689698",
     "status": "completed"
    },
    "tags": []
   },
   "source": [
    "### Tensorflow Sequential CNN Model"
   ]
  },
  {
   "cell_type": "code",
   "execution_count": 43,
   "id": "9137d9ef",
   "metadata": {
    "execution": {
     "iopub.execute_input": "2022-02-15T13:55:13.925591Z",
     "iopub.status.busy": "2022-02-15T13:55:13.924814Z",
     "iopub.status.idle": "2022-02-15T13:55:14.959771Z",
     "shell.execute_reply": "2022-02-15T13:55:14.959212Z",
     "shell.execute_reply.started": "2022-02-15T13:28:29.875536Z"
    },
    "papermill": {
     "duration": 1.117071,
     "end_time": "2022-02-15T13:55:14.959900",
     "exception": false,
     "start_time": "2022-02-15T13:55:13.842829",
     "status": "completed"
    },
    "tags": []
   },
   "outputs": [],
   "source": [
    "from tensorflow.keras import Sequential\n",
    "from tensorflow.keras.layers import Flatten, Dense, Dropout, BatchNormalization\n",
    "from tensorflow.keras.layers import Conv1D\n",
    "from tensorflow.keras.optimizers import Adam\n",
    "from tensorflow.keras.callbacks import EarlyStopping , ModelCheckpoint"
   ]
  },
  {
   "cell_type": "code",
   "execution_count": 44,
   "id": "d7032afb",
   "metadata": {
    "execution": {
     "iopub.execute_input": "2022-02-15T13:55:15.119323Z",
     "iopub.status.busy": "2022-02-15T13:55:15.118677Z",
     "iopub.status.idle": "2022-02-15T13:55:15.157009Z",
     "shell.execute_reply": "2022-02-15T13:55:15.157559Z",
     "shell.execute_reply.started": "2022-02-15T13:30:47.708350Z"
    },
    "papermill": {
     "duration": 0.12144,
     "end_time": "2022-02-15T13:55:15.157737",
     "exception": false,
     "start_time": "2022-02-15T13:55:15.036297",
     "status": "completed"
    },
    "tags": []
   },
   "outputs": [],
   "source": [
    "x_train = x_train.to_numpy().reshape(x_train.shape[0],x_train.shape[1],1)\n",
    "x_test = x_test.to_numpy().reshape(x_test.shape[0], x_test.shape[1], 1)"
   ]
  },
  {
   "cell_type": "code",
   "execution_count": 45,
   "id": "70c15084",
   "metadata": {
    "execution": {
     "iopub.execute_input": "2022-02-15T13:55:15.317163Z",
     "iopub.status.busy": "2022-02-15T13:55:15.316572Z",
     "iopub.status.idle": "2022-02-15T13:55:15.802389Z",
     "shell.execute_reply": "2022-02-15T13:55:15.801733Z",
     "shell.execute_reply.started": "2022-02-15T13:30:51.854621Z"
    },
    "papermill": {
     "duration": 0.569172,
     "end_time": "2022-02-15T13:55:15.802535",
     "exception": false,
     "start_time": "2022-02-15T13:55:15.233363",
     "status": "completed"
    },
    "tags": []
   },
   "outputs": [
    {
     "name": "stderr",
     "output_type": "stream",
     "text": [
      "2022-02-15 13:55:15.352110: I tensorflow/core/common_runtime/process_util.cc:146] Creating new thread pool with default inter op setting: 2. Tune using inter_op_parallelism_threads for best performance.\n"
     ]
    }
   ],
   "source": [
    "# model creation\n",
    "model = Sequential()\n",
    "model.add(Conv1D(filters=32, kernel_size=2, activation='relu', input_shape = (4059,1)))\n",
    "model.add(BatchNormalization())\n",
    "model.add(Dropout(0.2))\n",
    "\n",
    "model.add(Conv1D(filters=64, kernel_size=2, activation='relu'))\n",
    "model.add(BatchNormalization())\n",
    "model.add(Dropout(0.5))\n",
    "\n",
    "model.add(Flatten())\n",
    "model.add(Dense(64, activation='relu'))\n",
    "model.add(Dropout(0.5))\n",
    "\n",
    "model.add(Dense(1, activation='sigmoid', kernel_regularizer=tf.keras.regularizers.l1(0.01)))\n",
    "model.compile(optimizer=Adam(learning_rate=0.001), loss = 'binary_crossentropy', metrics=['accuracy'])"
   ]
  },
  {
   "cell_type": "code",
   "execution_count": 46,
   "id": "77f50bfa",
   "metadata": {
    "execution": {
     "iopub.execute_input": "2022-02-15T13:55:15.963987Z",
     "iopub.status.busy": "2022-02-15T13:55:15.962130Z",
     "iopub.status.idle": "2022-02-15T13:55:15.969107Z",
     "shell.execute_reply": "2022-02-15T13:55:15.968668Z",
     "shell.execute_reply.started": "2022-02-15T13:30:54.977690Z"
    },
    "papermill": {
     "duration": 0.089208,
     "end_time": "2022-02-15T13:55:15.969260",
     "exception": false,
     "start_time": "2022-02-15T13:55:15.880052",
     "status": "completed"
    },
    "tags": []
   },
   "outputs": [
    {
     "name": "stdout",
     "output_type": "stream",
     "text": [
      "Model: \"sequential\"\n",
      "_________________________________________________________________\n",
      "Layer (type)                 Output Shape              Param #   \n",
      "=================================================================\n",
      "conv1d (Conv1D)              (None, 4058, 32)          96        \n",
      "_________________________________________________________________\n",
      "batch_normalization (BatchNo (None, 4058, 32)          128       \n",
      "_________________________________________________________________\n",
      "dropout (Dropout)            (None, 4058, 32)          0         \n",
      "_________________________________________________________________\n",
      "conv1d_1 (Conv1D)            (None, 4057, 64)          4160      \n",
      "_________________________________________________________________\n",
      "batch_normalization_1 (Batch (None, 4057, 64)          256       \n",
      "_________________________________________________________________\n",
      "dropout_1 (Dropout)          (None, 4057, 64)          0         \n",
      "_________________________________________________________________\n",
      "flatten (Flatten)            (None, 259648)            0         \n",
      "_________________________________________________________________\n",
      "dense (Dense)                (None, 64)                16617536  \n",
      "_________________________________________________________________\n",
      "dropout_2 (Dropout)          (None, 64)                0         \n",
      "_________________________________________________________________\n",
      "dense_1 (Dense)              (None, 1)                 65        \n",
      "=================================================================\n",
      "Total params: 16,622,241\n",
      "Trainable params: 16,622,049\n",
      "Non-trainable params: 192\n",
      "_________________________________________________________________\n"
     ]
    }
   ],
   "source": [
    "model.summary()"
   ]
  },
  {
   "cell_type": "code",
   "execution_count": 47,
   "id": "7c2825e3",
   "metadata": {
    "execution": {
     "iopub.execute_input": "2022-02-15T13:55:16.128769Z",
     "iopub.status.busy": "2022-02-15T13:55:16.128124Z",
     "iopub.status.idle": "2022-02-15T13:55:16.130509Z",
     "shell.execute_reply": "2022-02-15T13:55:16.129958Z",
     "shell.execute_reply.started": "2022-02-15T13:31:00.529507Z"
    },
    "papermill": {
     "duration": 0.08505,
     "end_time": "2022-02-15T13:55:16.130650",
     "exception": false,
     "start_time": "2022-02-15T13:55:16.045600",
     "status": "completed"
    },
    "tags": []
   },
   "outputs": [],
   "source": [
    "#adding a checkpointer to save the model weights if the accuracy improves over validation dataset\n",
    "checkpointer = [EarlyStopping(monitor = 'val_accuracy', verbose = 1, restore_best_weights=True,mode=\"max\",patience = 9),\n",
    "                ModelCheckpoint(\n",
    "                    filepath='model.weights.best.hdf5',\n",
    "                    monitor=\"val_accuracy\",\n",
    "                    verbose=1,\n",
    "                    save_best_only=True,\n",
    "                    mode=\"max\")]"
   ]
  },
  {
   "cell_type": "code",
   "execution_count": 48,
   "id": "f13c9bb0",
   "metadata": {
    "execution": {
     "iopub.execute_input": "2022-02-15T13:55:16.289790Z",
     "iopub.status.busy": "2022-02-15T13:55:16.289076Z",
     "iopub.status.idle": "2022-02-15T14:04:42.104008Z",
     "shell.execute_reply": "2022-02-15T14:04:42.104642Z",
     "shell.execute_reply.started": "2022-02-15T13:31:39.477597Z"
    },
    "papermill": {
     "duration": 565.897527,
     "end_time": "2022-02-15T14:04:42.104882",
     "exception": false,
     "start_time": "2022-02-15T13:55:16.207355",
     "status": "completed"
    },
    "tags": []
   },
   "outputs": [
    {
     "name": "stderr",
     "output_type": "stream",
     "text": [
      "2022-02-15 13:55:16.489489: I tensorflow/compiler/mlir/mlir_graph_optimization_pass.cc:185] None of the MLIR Optimization Passes are enabled (registered 2)\n"
     ]
    },
    {
     "name": "stdout",
     "output_type": "stream",
     "text": [
      "Epoch 1/40\n",
      "79/79 [==============================] - 24s 290ms/step - loss: 2.6022 - accuracy: 0.8988 - val_loss: 0.5334 - val_accuracy: 0.9063\n",
      "\n",
      "Epoch 00001: val_accuracy improved from -inf to 0.90635, saving model to model.weights.best.hdf5\n",
      "Epoch 2/40\n",
      "79/79 [==============================] - 22s 283ms/step - loss: 0.4016 - accuracy: 0.9230 - val_loss: 0.4071 - val_accuracy: 0.9063\n",
      "\n",
      "Epoch 00002: val_accuracy did not improve from 0.90635\n",
      "Epoch 3/40\n",
      "79/79 [==============================] - 23s 288ms/step - loss: 0.3279 - accuracy: 0.9242 - val_loss: 0.3837 - val_accuracy: 0.9063\n",
      "\n",
      "Epoch 00003: val_accuracy did not improve from 0.90635\n",
      "Epoch 4/40\n",
      "79/79 [==============================] - 23s 286ms/step - loss: 0.3039 - accuracy: 0.9234 - val_loss: 0.4091 - val_accuracy: 0.9063\n",
      "\n",
      "Epoch 00004: val_accuracy did not improve from 0.90635\n",
      "Epoch 5/40\n",
      "79/79 [==============================] - 22s 280ms/step - loss: 0.2761 - accuracy: 0.9246 - val_loss: 0.5168 - val_accuracy: 0.9063\n",
      "\n",
      "Epoch 00005: val_accuracy did not improve from 0.90635\n",
      "Epoch 6/40\n",
      "79/79 [==============================] - 23s 287ms/step - loss: 0.2731 - accuracy: 0.9254 - val_loss: 0.4412 - val_accuracy: 0.9063\n",
      "\n",
      "Epoch 00006: val_accuracy did not improve from 0.90635\n",
      "Epoch 7/40\n",
      "79/79 [==============================] - 23s 287ms/step - loss: 0.2534 - accuracy: 0.9286 - val_loss: 0.3642 - val_accuracy: 0.9063\n",
      "\n",
      "Epoch 00007: val_accuracy did not improve from 0.90635\n",
      "Epoch 8/40\n",
      "79/79 [==============================] - 22s 278ms/step - loss: 0.2533 - accuracy: 0.9298 - val_loss: 0.3152 - val_accuracy: 0.9063\n",
      "\n",
      "Epoch 00008: val_accuracy did not improve from 0.90635\n",
      "Epoch 9/40\n",
      "79/79 [==============================] - 22s 285ms/step - loss: 0.2394 - accuracy: 0.9274 - val_loss: 0.3219 - val_accuracy: 0.9095\n",
      "\n",
      "Epoch 00009: val_accuracy improved from 0.90635 to 0.90952, saving model to model.weights.best.hdf5\n",
      "Epoch 10/40\n",
      "79/79 [==============================] - 23s 287ms/step - loss: 0.2241 - accuracy: 0.9337 - val_loss: 0.3659 - val_accuracy: 0.9095\n",
      "\n",
      "Epoch 00010: val_accuracy did not improve from 0.90952\n",
      "Epoch 11/40\n",
      "79/79 [==============================] - 22s 280ms/step - loss: 0.2150 - accuracy: 0.9377 - val_loss: 0.2810 - val_accuracy: 0.9206\n",
      "\n",
      "Epoch 00011: val_accuracy improved from 0.90952 to 0.92063, saving model to model.weights.best.hdf5\n",
      "Epoch 12/40\n",
      "79/79 [==============================] - 22s 283ms/step - loss: 0.2027 - accuracy: 0.9409 - val_loss: 0.2859 - val_accuracy: 0.9111\n",
      "\n",
      "Epoch 00012: val_accuracy did not improve from 0.92063\n",
      "Epoch 13/40\n",
      "79/79 [==============================] - 23s 287ms/step - loss: 0.1973 - accuracy: 0.9496 - val_loss: 0.3533 - val_accuracy: 0.9111\n",
      "\n",
      "Epoch 00013: val_accuracy did not improve from 0.92063\n",
      "Epoch 14/40\n",
      "79/79 [==============================] - 22s 283ms/step - loss: 0.1831 - accuracy: 0.9440 - val_loss: 0.2712 - val_accuracy: 0.9127\n",
      "\n",
      "Epoch 00014: val_accuracy did not improve from 0.92063\n",
      "Epoch 15/40\n",
      "79/79 [==============================] - 23s 288ms/step - loss: 0.1929 - accuracy: 0.9444 - val_loss: 0.2503 - val_accuracy: 0.9143\n",
      "\n",
      "Epoch 00015: val_accuracy did not improve from 0.92063\n",
      "Epoch 16/40\n",
      "79/79 [==============================] - 22s 285ms/step - loss: 0.1845 - accuracy: 0.9421 - val_loss: 0.2554 - val_accuracy: 0.9254\n",
      "\n",
      "Epoch 00016: val_accuracy improved from 0.92063 to 0.92540, saving model to model.weights.best.hdf5\n",
      "Epoch 17/40\n",
      "79/79 [==============================] - 23s 287ms/step - loss: 0.1744 - accuracy: 0.9476 - val_loss: 0.2348 - val_accuracy: 0.9206\n",
      "\n",
      "Epoch 00017: val_accuracy did not improve from 0.92540\n",
      "Epoch 18/40\n",
      "79/79 [==============================] - 22s 283ms/step - loss: 0.1781 - accuracy: 0.9452 - val_loss: 7.8267 - val_accuracy: 0.5460\n",
      "\n",
      "Epoch 00018: val_accuracy did not improve from 0.92540\n",
      "Epoch 19/40\n",
      "79/79 [==============================] - 23s 286ms/step - loss: 0.1556 - accuracy: 0.9496 - val_loss: 0.3532 - val_accuracy: 0.9159\n",
      "\n",
      "Epoch 00019: val_accuracy did not improve from 0.92540\n",
      "Epoch 20/40\n",
      "79/79 [==============================] - 22s 284ms/step - loss: 0.1609 - accuracy: 0.9500 - val_loss: 0.2476 - val_accuracy: 0.9063\n",
      "\n",
      "Epoch 00020: val_accuracy did not improve from 0.92540\n",
      "Epoch 21/40\n",
      "79/79 [==============================] - 22s 282ms/step - loss: 0.1577 - accuracy: 0.9488 - val_loss: 0.2608 - val_accuracy: 0.9063\n",
      "\n",
      "Epoch 00021: val_accuracy did not improve from 0.92540\n",
      "Epoch 22/40\n",
      "79/79 [==============================] - 23s 286ms/step - loss: 0.1424 - accuracy: 0.9532 - val_loss: 0.2518 - val_accuracy: 0.9063\n",
      "\n",
      "Epoch 00022: val_accuracy did not improve from 0.92540\n",
      "Epoch 23/40\n",
      "79/79 [==============================] - 22s 283ms/step - loss: 0.1361 - accuracy: 0.9508 - val_loss: 0.2575 - val_accuracy: 0.9159\n",
      "\n",
      "Epoch 00023: val_accuracy did not improve from 0.92540\n",
      "Epoch 24/40\n",
      "79/79 [==============================] - 22s 282ms/step - loss: 0.1330 - accuracy: 0.9536 - val_loss: 0.3509 - val_accuracy: 0.9063\n",
      "\n",
      "Epoch 00024: val_accuracy did not improve from 0.92540\n",
      "Epoch 25/40\n",
      "79/79 [==============================] - 23s 288ms/step - loss: 0.1326 - accuracy: 0.9544 - val_loss: 68.0907 - val_accuracy: 0.1587\n",
      "Restoring model weights from the end of the best epoch.\n",
      "\n",
      "Epoch 00025: val_accuracy did not improve from 0.92540\n",
      "Epoch 00025: early stopping\n",
      "CPU times: user 33min 46s, sys: 14.9 s, total: 34min 1s\n",
      "Wall time: 9min 25s\n"
     ]
    }
   ],
   "source": [
    "%%time\n",
    "#training the model\n",
    "history = model.fit(x_train, y_train, epochs=40, validation_data=(x_test, y_test), verbose=1, callbacks=checkpointer)"
   ]
  },
  {
   "cell_type": "code",
   "execution_count": 49,
   "id": "36ce257e",
   "metadata": {
    "execution": {
     "iopub.execute_input": "2022-02-15T14:04:43.357062Z",
     "iopub.status.busy": "2022-02-15T14:04:43.356127Z",
     "iopub.status.idle": "2022-02-15T14:05:40.524539Z",
     "shell.execute_reply": "2022-02-15T14:05:40.525021Z",
     "shell.execute_reply.started": "2022-02-15T13:44:48.730203Z"
    },
    "papermill": {
     "duration": 57.796836,
     "end_time": "2022-02-15T14:05:40.525180",
     "exception": false,
     "start_time": "2022-02-15T14:04:42.728344",
     "status": "completed"
    },
    "tags": []
   },
   "outputs": [
    {
     "data": {
      "image/png": "[encoded data removed]",
      "text/plain": [
       "<Figure size 720x720 with 1 Axes>"
      ]
     },
     "metadata": {
      "needs_background": "light"
     },
     "output_type": "display_data"
    }
   ],
   "source": [
    "# plotting curve of model accuracy over the training time\n",
    "epochs = len(history.history['accuracy'])\n",
    "epoch_range = range(1, epochs+1)\n",
    "plt.plot(epoch_range, history.history['accuracy'])\n",
    "plt.plot(epoch_range, history.history['val_accuracy'])\n",
    "plt.title('Model accuracy')\n",
    "plt.ylabel('Accuracy')\n",
    "plt.xlabel('Epoch')\n",
    "plt.ylim(bottom = 0,top=1)\n",
    "plt.legend(['Train', 'Val'], loc='upper left')\n",
    "plt.show()"
   ]
  },
  {
   "cell_type": "code",
   "execution_count": 50,
   "id": "1da715bd",
   "metadata": {
    "execution": {
     "iopub.execute_input": "2022-02-15T14:05:41.796321Z",
     "iopub.status.busy": "2022-02-15T14:05:41.795555Z",
     "iopub.status.idle": "2022-02-15T14:05:42.002391Z",
     "shell.execute_reply": "2022-02-15T14:05:42.002817Z",
     "shell.execute_reply.started": "2022-02-15T13:45:02.144706Z"
    },
    "papermill": {
     "duration": 0.852142,
     "end_time": "2022-02-15T14:05:42.002988",
     "exception": false,
     "start_time": "2022-02-15T14:05:41.150846",
     "status": "completed"
    },
    "tags": []
   },
   "outputs": [
    {
     "data": {
      "image/png": "[encoded data removed]",
      "text/plain": [
       "<Figure size 720x720 with 1 Axes>"
      ]
     },
     "metadata": {
      "needs_background": "light"
     },
     "output_type": "display_data"
    }
   ],
   "source": [
    "# plotting curve of model loss over the training time\n",
    "plt.plot(epoch_range, history.history['loss'])\n",
    "plt.plot(epoch_range, history.history['val_loss'])\n",
    "plt.title('Model loss')\n",
    "plt.ylabel('Loss')\n",
    "plt.xlabel('Epoch')\n",
    "plt.ylim(bottom = 0,top=1)\n",
    "plt.legend(['Train', 'Val'], loc='upper left')\n",
    "plt.show()"
   ]
  },
  {
   "cell_type": "code",
   "execution_count": 51,
   "id": "94064f9e",
   "metadata": {
    "execution": {
     "iopub.execute_input": "2022-02-15T14:05:43.261479Z",
     "iopub.status.busy": "2022-02-15T14:05:43.260531Z",
     "iopub.status.idle": "2022-02-15T14:05:44.107012Z",
     "shell.execute_reply": "2022-02-15T14:05:44.105697Z",
     "shell.execute_reply.started": "2022-02-15T13:40:12.964316Z"
    },
    "papermill": {
     "duration": 1.47462,
     "end_time": "2022-02-15T14:05:44.107161",
     "exception": false,
     "start_time": "2022-02-15T14:05:42.632541",
     "status": "completed"
    },
    "tags": []
   },
   "outputs": [],
   "source": [
    "y_pred_tf = model.predict(x_test)"
   ]
  },
  {
   "cell_type": "code",
   "execution_count": 52,
   "id": "98e5259d",
   "metadata": {
    "execution": {
     "iopub.execute_input": "2022-02-15T14:05:45.366034Z",
     "iopub.status.busy": "2022-02-15T14:05:45.365135Z",
     "iopub.status.idle": "2022-02-15T14:05:45.367376Z",
     "shell.execute_reply": "2022-02-15T14:05:45.367785Z",
     "shell.execute_reply.started": "2022-02-15T13:43:09.378789Z"
    },
    "papermill": {
     "duration": 0.634548,
     "end_time": "2022-02-15T14:05:45.367946",
     "exception": false,
     "start_time": "2022-02-15T14:05:44.733398",
     "status": "completed"
    },
    "tags": []
   },
   "outputs": [],
   "source": [
    "y_pred_tf = [int(i>=0.5) for i in y_pred_tf]"
   ]
  },
  {
   "cell_type": "code",
   "execution_count": 53,
   "id": "cf65355d",
   "metadata": {
    "execution": {
     "iopub.execute_input": "2022-02-15T14:05:46.625565Z",
     "iopub.status.busy": "2022-02-15T14:05:46.624979Z",
     "iopub.status.idle": "2022-02-15T14:05:46.636830Z",
     "shell.execute_reply": "2022-02-15T14:05:46.637252Z",
     "shell.execute_reply.started": "2022-02-15T13:43:26.459385Z"
    },
    "papermill": {
     "duration": 0.640594,
     "end_time": "2022-02-15T14:05:46.637438",
     "exception": false,
     "start_time": "2022-02-15T14:05:45.996844",
     "status": "completed"
    },
    "tags": []
   },
   "outputs": [
    {
     "name": "stdout",
     "output_type": "stream",
     "text": [
      "Tensorflow Sequential Model\n",
      "\n",
      "\n",
      "Confusion Matrix\n",
      "[[ 32  27]\n",
      " [ 20 551]]\n",
      "----------------------------------------------------------------------------------------------------\n",
      "Classification Report\n",
      "              precision    recall  f1-score   support\n",
      "\n",
      "           0       0.62      0.54      0.58        59\n",
      "           1       0.95      0.96      0.96       571\n",
      "\n",
      "    accuracy                           0.93       630\n",
      "   macro avg       0.78      0.75      0.77       630\n",
      "weighted avg       0.92      0.93      0.92       630\n",
      "\n",
      "----------------------------------------------------------------------------------------------------\n",
      "Accuracy =  92.53968254 %\n"
     ]
    }
   ],
   "source": [
    "print('Tensorflow Sequential Model')\n",
    "# Confusion matrix\n",
    "print('\\n')\n",
    "print('Confusion Matrix')\n",
    "print(confusion_matrix(y_test, y_pred_tf))\n",
    "\n",
    "# Classification report\n",
    "print('--'*50)\n",
    "print('Classification Report')\n",
    "print(classification_report(y_test, y_pred_tf))\n",
    "\n",
    "# Accuracy\n",
    "print('--'*50)\n",
    "tf_accuracy = round(accuracy_score(y_test, y_pred_tf)*100,8)\n",
    "print('Accuracy = ', tf_accuracy,'%')"
   ]
  },
  {
   "cell_type": "markdown",
   "id": "bf038134",
   "metadata": {
    "papermill": {
     "duration": 0.675263,
     "end_time": "2022-02-15T14:05:47.939811",
     "exception": false,
     "start_time": "2022-02-15T14:05:47.264548",
     "status": "completed"
    },
    "tags": []
   },
   "source": [
    "## Models Report"
   ]
  },
  {
   "cell_type": "code",
   "execution_count": 54,
   "id": "de7928e3",
   "metadata": {
    "execution": {
     "iopub.execute_input": "2022-02-15T14:05:49.195903Z",
     "iopub.status.busy": "2022-02-15T14:05:49.195063Z",
     "iopub.status.idle": "2022-02-15T14:05:49.198010Z",
     "shell.execute_reply": "2022-02-15T14:05:49.198496Z",
     "shell.execute_reply.started": "2022-02-15T13:43:31.146285Z"
    },
    "papermill": {
     "duration": 0.636367,
     "end_time": "2022-02-15T14:05:49.198662",
     "exception": false,
     "start_time": "2022-02-15T14:05:48.562295",
     "status": "completed"
    },
    "tags": []
   },
   "outputs": [
    {
     "data": {
      "text/html": [
       "<div>\n",
       "<style scoped>\n",
       "    .dataframe tbody tr th:only-of-type {\n",
       "        vertical-align: middle;\n",
       "    }\n",
       "\n",
       "    .dataframe tbody tr th {\n",
       "        vertical-align: top;\n",
       "    }\n",
       "\n",
       "    .dataframe thead th {\n",
       "        text-align: right;\n",
       "    }\n",
       "</style>\n",
       "<table border=\"1\" class=\"dataframe\">\n",
       "  <thead>\n",
       "    <tr style=\"text-align: right;\">\n",
       "      <th></th>\n",
       "      <th>Model</th>\n",
       "      <th>Score</th>\n",
       "    </tr>\n",
       "  </thead>\n",
       "  <tbody>\n",
       "    <tr>\n",
       "      <th>0</th>\n",
       "      <td>Logistic Regression</td>\n",
       "      <td>93.333333</td>\n",
       "    </tr>\n",
       "    <tr>\n",
       "      <th>4</th>\n",
       "      <td>XGBoost Classifier</td>\n",
       "      <td>92.698413</td>\n",
       "    </tr>\n",
       "    <tr>\n",
       "      <th>5</th>\n",
       "      <td>Gradient Boosting Classifier</td>\n",
       "      <td>92.698413</td>\n",
       "    </tr>\n",
       "    <tr>\n",
       "      <th>6</th>\n",
       "      <td>Tensorflow CNN Model</td>\n",
       "      <td>92.539683</td>\n",
       "    </tr>\n",
       "    <tr>\n",
       "      <th>3</th>\n",
       "      <td>Random Forest</td>\n",
       "      <td>91.904762</td>\n",
       "    </tr>\n",
       "    <tr>\n",
       "      <th>1</th>\n",
       "      <td>Linear SVC</td>\n",
       "      <td>90.952381</td>\n",
       "    </tr>\n",
       "    <tr>\n",
       "      <th>2</th>\n",
       "      <td>K-Nearest Neighbors</td>\n",
       "      <td>90.634921</td>\n",
       "    </tr>\n",
       "  </tbody>\n",
       "</table>\n",
       "</div>"
      ],
      "text/plain": [
       "                          Model      Score\n",
       "0           Logistic Regression  93.333333\n",
       "4            XGBoost Classifier  92.698413\n",
       "5  Gradient Boosting Classifier  92.698413\n",
       "6          Tensorflow CNN Model  92.539683\n",
       "3                 Random Forest  91.904762\n",
       "1                    Linear SVC  90.952381\n",
       "2           K-Nearest Neighbors  90.634921"
      ]
     },
     "execution_count": 54,
     "metadata": {},
     "output_type": "execute_result"
    }
   ],
   "source": [
    "models = pd.DataFrame({\n",
    "     'Model': ['Logistic Regression', 'Linear SVC', \n",
    "               'K-Nearest Neighbors', 'Random Forest','XGBoost Classifier','Gradient Boosting Classifier','Tensorflow CNN Model'],\n",
    "    'Score': [logreg_accuracy, svc_accuracy, \n",
    "               knn_op_accuracy, rf_accuracy,xgb_accuracy,gbc_accuracy,tf_accuracy]})\n",
    "models.sort_values(by='Score', ascending=False)"
   ]
  },
  {
   "cell_type": "code",
   "execution_count": 55,
   "id": "82a7045b",
   "metadata": {
    "execution": {
     "iopub.execute_input": "2022-02-15T14:05:50.445823Z",
     "iopub.status.busy": "2022-02-15T14:05:50.444933Z",
     "iopub.status.idle": "2022-02-15T14:05:50.735510Z",
     "shell.execute_reply": "2022-02-15T14:05:50.734993Z",
     "shell.execute_reply.started": "2022-02-15T13:49:34.144622Z"
    },
    "papermill": {
     "duration": 0.915309,
     "end_time": "2022-02-15T14:05:50.735677",
     "exception": false,
     "start_time": "2022-02-15T14:05:49.820368",
     "status": "completed"
    },
    "tags": []
   },
   "outputs": [
    {
     "data": {
      "image/png": "[encoded data removed]",
      "text/plain": [
       "<Figure size 1440x1080 with 1 Axes>"
      ]
     },
     "metadata": {},
     "output_type": "display_data"
    }
   ],
   "source": [
    "sns.set(rc={'figure.figsize':(20,15)})\n",
    "ax = sns.barplot(x=\"Model\", y=\"Score\", data=models)\n",
    "patches = ax.patches\n",
    "for i in range(len(patches)):\n",
    "    x = patches[i].get_x() + patches[i].get_width()/2\n",
    "    y = patches[i].get_height()+.05\n",
    "    ax.annotate('{:.1f}%'.format(models['Score'][i]), (x, y), ha='center')\n",
    "plt.show()"
   ]
  },
  {
   "cell_type": "code",
   "execution_count": null,
   "id": "e2114b68",
   "metadata": {
    "papermill": {
     "duration": 0.622051,
     "end_time": "2022-02-15T14:05:51.990361",
     "exception": false,
     "start_time": "2022-02-15T14:05:51.368310",
     "status": "completed"
    },
    "tags": []
   },
   "outputs": [],
   "source": []
  }
 ],
 "metadata": {
  "kernelspec": {
   "display_name": "Python 3",
   "language": "python",
   "name": "python3"
  },
  "language_info": {
   "codemirror_mode": {
    "name": "ipython",
    "version": 3
   },
   "file_extension": ".py",
   "mimetype": "text/x-python",
   "name": "python",
   "nbconvert_exporter": "python",
   "pygments_lexer": "ipython3",
   "version": "3.7.12"
  },
  "papermill": {
   "default_parameters": {},
   "duration": 925.627388,
   "end_time": "2022-02-15T14:05:55.285847",
   "environment_variables": {},
   "exception": null,
   "input_path": "__notebook__.ipynb",
   "output_path": "__notebook__.ipynb",
   "parameters": {},
   "start_time": "2022-02-15T13:50:29.658459",
   "version": "2.3.3"
  }
 },
 "nbformat": 4,
 "nbformat_minor": 5
}
