{
  "nbformat": 4,
  "nbformat_minor": 0,
  "metadata": {
    "colab": {
      "name": "Body part classification.ipynb",
      "provenance": []
    },
    "kernelspec": {
      "name": "python3",
      "display_name": "Python 3"
    },
    "language_info": {
      "name": "python"
    }
  },
  "cells": [
    {
      "cell_type": "code",
      "source": [
        "import os\n",
        "import random\n",
        "import cv2\n",
        "from google.colab.patches import cv2_imshow\n",
        "import numpy as np\n",
        "import matplotlib.pyplot as plt\n",
        "import tensorflow as tf\n",
        "from tensorflow import keras\n",
        "from keras.layers import *\n",
        "from keras.models import *\n",
        "from keras.preprocessing import image\n",
        "from keras.preprocessing.image import ImageDataGenerator\n",
        "import os, shutil\n",
        "import warnings\n"
      ],
      "metadata": {
        "id": "GLcF1988KGvr"
      },
      "execution_count": 53,
      "outputs": []
    },
    {
      "cell_type": "code",
      "source": [
        "belly_names=[]\n",
        "for filename in os.listdir('/content/drive/MyDrive/JWOC/Body_parts/Belly'):\n",
        "  belly_names.append(filename)\n",
        "random.shuffle(belly_names)\n",
        "len(belly_names)  "
      ],
      "metadata": {
        "colab": {
          "base_uri": "https://localhost:8080/"
        },
        "id": "RlLwbLmtJMGH",
        "outputId": "92083332-a80c-49d0-bd57-2e187415c3a2"
      },
      "execution_count": 18,
      "outputs": [
        {
          "output_type": "execute_result",
          "data": {
            "text/plain": [
              "208"
            ]
          },
          "metadata": {},
          "execution_count": 18
        }
      ]
    },
    {
      "cell_type": "code",
      "source": [
        "train=belly_names[0:166]\n",
        "test=belly_names[166:209]"
      ],
      "metadata": {
        "id": "guoVQlUKOzfq"
      },
      "execution_count": 62,
      "outputs": []
    },
    {
      "cell_type": "code",
      "source": [
        "for i in train:\n",
        "  filename=os.path.join('/content/drive/MyDrive/JWOC/Body_parts/Belly',i)\n",
        "  img=cv2.imread(filename)\n",
        "  cv2.imwrite(os.path.join('/content/drive/MyDrive/JWOC/Body_parts/dataset/train/Belly',i),img)"
      ],
      "metadata": {
        "id": "VfLCGyIRO9_S"
      },
      "execution_count": 63,
      "outputs": []
    },
    {
      "cell_type": "code",
      "source": [
        "for i in test:\n",
        "  filename=os.path.join('/content/drive/MyDrive/JWOC/Body_parts/Belly',i)\n",
        "  img=cv2.imread(filename)\n",
        "  cv2.imwrite(os.path.join('/content/drive/MyDrive/JWOC/Body_parts/dataset/test/Belly',i),img)"
      ],
      "metadata": {
        "id": "sUN-6Hw7PVlW"
      },
      "execution_count": 64,
      "outputs": []
    },
    {
      "cell_type": "code",
      "source": [
        "names=[]\n",
        "for filename in os.listdir('/content/drive/MyDrive/JWOC/Body_parts/Elbow'):\n",
        "  names.append(filename)\n",
        "random.shuffle(names)\n",
        "len(names)  "
      ],
      "metadata": {
        "colab": {
          "base_uri": "https://localhost:8080/"
        },
        "id": "8NAJI5-0LpEq",
        "outputId": "0d78f4a9-b67a-428a-a03a-e4430e488c9b"
      },
      "execution_count": 25,
      "outputs": [
        {
          "output_type": "execute_result",
          "data": {
            "text/plain": [
              "206"
            ]
          },
          "metadata": {},
          "execution_count": 25
        }
      ]
    },
    {
      "cell_type": "code",
      "source": [
        "train=names[0:165]\n",
        "test=names[165:207]"
      ],
      "metadata": {
        "id": "y7fFx7nQPqY7"
      },
      "execution_count": 27,
      "outputs": []
    },
    {
      "cell_type": "code",
      "source": [
        "for i in train:\n",
        "  filename=os.path.join('/content/drive/MyDrive/JWOC/Body_parts/Elbow',i)\n",
        "  img=cv2.imread(filename)\n",
        "  cv2.imwrite(os.path.join('/content/drive/MyDrive/JWOC/Body_parts/dataset/train/Elbow',i),img)\n",
        "\n",
        "for i in test:\n",
        "  filename=os.path.join('/content/drive/MyDrive/JWOC/Body_parts/Elbow',i)\n",
        "  img=cv2.imread(filename)\n",
        "  cv2.imwrite(os.path.join('/content/drive/MyDrive/JWOC/Body_parts/dataset/test/Elbow',i),img)  "
      ],
      "metadata": {
        "id": "u7nTh0wBP2bx"
      },
      "execution_count": 28,
      "outputs": []
    },
    {
      "cell_type": "code",
      "source": [
        "names=[]\n",
        "for filename in os.listdir('/content/drive/MyDrive/JWOC/Body_parts/Ear'):\n",
        "  names.append(filename)\n",
        "random.shuffle(names)\n",
        "len(names)  "
      ],
      "metadata": {
        "colab": {
          "base_uri": "https://localhost:8080/"
        },
        "id": "zmj1WvdJQLHO",
        "outputId": "5ea0a9a5-446a-4c4c-8d2e-de5c3942f45a"
      },
      "execution_count": 29,
      "outputs": [
        {
          "output_type": "execute_result",
          "data": {
            "text/plain": [
              "206"
            ]
          },
          "metadata": {},
          "execution_count": 29
        }
      ]
    },
    {
      "cell_type": "code",
      "source": [
        "train=names[0:165]\n",
        "test=names[165:207]"
      ],
      "metadata": {
        "id": "Lv4d5JGaQSsU"
      },
      "execution_count": 30,
      "outputs": []
    },
    {
      "cell_type": "code",
      "source": [
        "for i in train:\n",
        "  filename=os.path.join('/content/drive/MyDrive/JWOC/Body_parts/Ear',i)\n",
        "  img=cv2.imread(filename)\n",
        "  cv2.imwrite(os.path.join('/content/drive/MyDrive/JWOC/Body_parts/dataset/train/Ear',i),img)\n",
        "\n",
        "for i in test:\n",
        "  filename=os.path.join('/content/drive/MyDrive/JWOC/Body_parts/Ear',i)\n",
        "  img=cv2.imread(filename)\n",
        "  cv2.imwrite(os.path.join('/content/drive/MyDrive/JWOC/Body_parts/dataset/test/Ear',i),img)  "
      ],
      "metadata": {
        "id": "GCTyRvz_QUzs"
      },
      "execution_count": 31,
      "outputs": []
    },
    {
      "cell_type": "code",
      "source": [
        "names=[]\n",
        "for filename in os.listdir('/content/drive/MyDrive/JWOC/Body_parts/Eye'):\n",
        "  names.append(filename)\n",
        "random.shuffle(names)\n",
        "len(names)  "
      ],
      "metadata": {
        "colab": {
          "base_uri": "https://localhost:8080/"
        },
        "id": "Sh2t5b9jQqKu",
        "outputId": "194224af-7df5-427c-ec31-1644d3452b10"
      },
      "execution_count": 32,
      "outputs": [
        {
          "output_type": "execute_result",
          "data": {
            "text/plain": [
              "215"
            ]
          },
          "metadata": {},
          "execution_count": 32
        }
      ]
    },
    {
      "cell_type": "code",
      "source": [
        "train=names[0:168]\n",
        "test=names[168:216]"
      ],
      "metadata": {
        "id": "CnK9LCl2RDJZ"
      },
      "execution_count": 33,
      "outputs": []
    },
    {
      "cell_type": "code",
      "source": [
        "for i in train:\n",
        "  filename=os.path.join('/content/drive/MyDrive/JWOC/Body_parts/Eye',i)\n",
        "  img=cv2.imread(filename)\n",
        "  cv2.imwrite(os.path.join('/content/drive/MyDrive/JWOC/Body_parts/dataset/train/Eye',i),img)\n",
        "\n",
        "for i in test:\n",
        "  filename=os.path.join('/content/drive/MyDrive/JWOC/Body_parts/Eye',i)\n",
        "  img=cv2.imread(filename)\n",
        "  cv2.imwrite(os.path.join('/content/drive/MyDrive/JWOC/Body_parts/dataset/test/Eye',i),img)  "
      ],
      "metadata": {
        "id": "cheuXwizRH3e"
      },
      "execution_count": 34,
      "outputs": []
    },
    {
      "cell_type": "code",
      "source": [
        "names=[]\n",
        "for filename in os.listdir('/content/drive/MyDrive/JWOC/Body_parts/Foot'):\n",
        "  names.append(filename)\n",
        "random.shuffle(names)\n",
        "len(names)  "
      ],
      "metadata": {
        "colab": {
          "base_uri": "https://localhost:8080/"
        },
        "id": "gwD9op7YRZ7T",
        "outputId": "800cb181-ad23-4b05-ffd4-a3611d3fbb64"
      },
      "execution_count": 35,
      "outputs": [
        {
          "output_type": "execute_result",
          "data": {
            "text/plain": [
              "210"
            ]
          },
          "metadata": {},
          "execution_count": 35
        }
      ]
    },
    {
      "cell_type": "code",
      "source": [
        "train=names[0:167]\n",
        "test=names[167:211]"
      ],
      "metadata": {
        "id": "2ptrv_0CRhYX"
      },
      "execution_count": 36,
      "outputs": []
    },
    {
      "cell_type": "code",
      "source": [
        "for i in train:\n",
        "  filename=os.path.join('/content/drive/MyDrive/JWOC/Body_parts/Foot',i)\n",
        "  img=cv2.imread(filename)\n",
        "  cv2.imwrite(os.path.join('/content/drive/MyDrive/JWOC/Body_parts/dataset/train/Foot',i),img)\n",
        "\n",
        "for i in test:\n",
        "  filename=os.path.join('/content/drive/MyDrive/JWOC/Body_parts/Foot',i)\n",
        "  img=cv2.imread(filename)\n",
        "  cv2.imwrite(os.path.join('/content/drive/MyDrive/JWOC/Body_parts/dataset/test/Foot',i),img)  "
      ],
      "metadata": {
        "id": "u78_KwriRlZY"
      },
      "execution_count": 37,
      "outputs": []
    },
    {
      "cell_type": "code",
      "source": [
        "names=[]\n",
        "for filename in os.listdir('/content/drive/MyDrive/JWOC/Body_parts/Hand'):\n",
        "  names.append(filename)\n",
        "random.shuffle(names)\n",
        "len(names)  "
      ],
      "metadata": {
        "colab": {
          "base_uri": "https://localhost:8080/"
        },
        "id": "cTgGpUToR1Wh",
        "outputId": "4e966898-5b05-46e2-b9a8-f9495c096b08"
      },
      "execution_count": 38,
      "outputs": [
        {
          "output_type": "execute_result",
          "data": {
            "text/plain": [
              "217"
            ]
          },
          "metadata": {},
          "execution_count": 38
        }
      ]
    },
    {
      "cell_type": "code",
      "source": [
        "train=names[0:168]\n",
        "test=names[168:218]"
      ],
      "metadata": {
        "id": "J7ESUzRQR-1Y"
      },
      "execution_count": 39,
      "outputs": []
    },
    {
      "cell_type": "code",
      "source": [
        "for i in train:\n",
        "  filename=os.path.join('/content/drive/MyDrive/JWOC/Body_parts/Hand',i)\n",
        "  img=cv2.imread(filename)\n",
        "  cv2.imwrite(os.path.join('/content/drive/MyDrive/JWOC/Body_parts/dataset/train/Hand',i),img)\n",
        "\n",
        "for i in test:\n",
        "  filename=os.path.join('/content/drive/MyDrive/JWOC/Body_parts/Hand',i)\n",
        "  img=cv2.imread(filename)\n",
        "  cv2.imwrite(os.path.join('/content/drive/MyDrive/JWOC/Body_parts/dataset/test/Hand',i),img)  "
      ],
      "metadata": {
        "id": "8FUYXQoaSCrN"
      },
      "execution_count": 40,
      "outputs": []
    },
    {
      "cell_type": "code",
      "source": [
        "names=[]\n",
        "for filename in os.listdir('/content/drive/MyDrive/JWOC/Body_parts/Knee'):\n",
        "  names.append(filename)\n",
        "random.shuffle(names)\n",
        "len(names)  "
      ],
      "metadata": {
        "colab": {
          "base_uri": "https://localhost:8080/"
        },
        "id": "vEiQT-DASPxX",
        "outputId": "cb04ca44-0a9a-4b0b-e909-4077cb665b68"
      },
      "execution_count": 41,
      "outputs": [
        {
          "output_type": "execute_result",
          "data": {
            "text/plain": [
              "206"
            ]
          },
          "metadata": {},
          "execution_count": 41
        }
      ]
    },
    {
      "cell_type": "code",
      "source": [
        "train=names[0:165]\n",
        "test=names[165:207]"
      ],
      "metadata": {
        "id": "vAqdz1z-SURs"
      },
      "execution_count": 42,
      "outputs": []
    },
    {
      "cell_type": "code",
      "source": [
        "for i in train:\n",
        "  filename=os.path.join('/content/drive/MyDrive/JWOC/Body_parts/Knee',i)\n",
        "  img=cv2.imread(filename)\n",
        "  cv2.imwrite(os.path.join('/content/drive/MyDrive/JWOC/Body_parts/dataset/train/knee',i),img)\n",
        "\n",
        "for i in test:\n",
        "  filename=os.path.join('/content/drive/MyDrive/JWOC/Body_parts/Knee',i)\n",
        "  img=cv2.imread(filename)\n",
        "  cv2.imwrite(os.path.join('/content/drive/MyDrive/JWOC/Body_parts/dataset/test/knee',i),img)  "
      ],
      "metadata": {
        "id": "RqfmFYosSYyF"
      },
      "execution_count": 43,
      "outputs": []
    },
    {
      "cell_type": "code",
      "source": [
        "names=[]\n",
        "for filename in os.listdir('/content/drive/MyDrive/JWOC/Body_parts/Neck'):\n",
        "  names.append(filename)\n",
        "random.shuffle(names)\n",
        "len(names)  "
      ],
      "metadata": {
        "colab": {
          "base_uri": "https://localhost:8080/"
        },
        "id": "8msq03uWSsj5",
        "outputId": "f9b5fc36-b15d-4238-a7a8-444f0c264cb5"
      },
      "execution_count": 44,
      "outputs": [
        {
          "output_type": "execute_result",
          "data": {
            "text/plain": [
              "206"
            ]
          },
          "metadata": {},
          "execution_count": 44
        }
      ]
    },
    {
      "cell_type": "code",
      "source": [
        "train=names[0:165]\n",
        "test=names[165:207]"
      ],
      "metadata": {
        "id": "0r1ybBBqSz7O"
      },
      "execution_count": 45,
      "outputs": []
    },
    {
      "cell_type": "code",
      "source": [
        "for i in train:\n",
        "  filename=os.path.join('/content/drive/MyDrive/JWOC/Body_parts/Neck',i)\n",
        "  img=cv2.imread(filename)\n",
        "  cv2.imwrite(os.path.join('/content/drive/MyDrive/JWOC/Body_parts/dataset/train/Neck',i),img)\n",
        "\n",
        "for i in test:\n",
        "  filename=os.path.join('/content/drive/MyDrive/JWOC/Body_parts/Neck',i)\n",
        "  img=cv2.imread(filename)\n",
        "  cv2.imwrite(os.path.join('/content/drive/MyDrive/JWOC/Body_parts/dataset/test/Neck',i),img)  "
      ],
      "metadata": {
        "id": "-FNzRXj7S1lV"
      },
      "execution_count": 46,
      "outputs": []
    },
    {
      "cell_type": "code",
      "source": [
        "names=[]\n",
        "for filename in os.listdir('/content/drive/MyDrive/JWOC/Body_parts/Nose'):\n",
        "  names.append(filename)\n",
        "random.shuffle(names)\n",
        "len(names)"
      ],
      "metadata": {
        "colab": {
          "base_uri": "https://localhost:8080/"
        },
        "id": "msCIrC4cTH9p",
        "outputId": "bb48940c-aef1-4a38-ae01-49ba068946b8"
      },
      "execution_count": 47,
      "outputs": [
        {
          "output_type": "execute_result",
          "data": {
            "text/plain": [
              "208"
            ]
          },
          "metadata": {},
          "execution_count": 47
        }
      ]
    },
    {
      "cell_type": "code",
      "source": [
        "train=names[0:166]\n",
        "test=names[166:209]"
      ],
      "metadata": {
        "id": "F5FP2r47U4DO"
      },
      "execution_count": 48,
      "outputs": []
    },
    {
      "cell_type": "code",
      "source": [
        "for i in train:\n",
        "  filename=os.path.join('/content/drive/MyDrive/JWOC/Body_parts/Nose',i)\n",
        "  img=cv2.imread(filename)\n",
        "  cv2.imwrite(os.path.join('/content/drive/MyDrive/JWOC/Body_parts/dataset/train/Nose',i),img)\n",
        "\n",
        "for i in test:\n",
        "  filename=os.path.join('/content/drive/MyDrive/JWOC/Body_parts/Nose',i)\n",
        "  img=cv2.imread(filename)\n",
        "  cv2.imwrite(os.path.join('/content/drive/MyDrive/JWOC/Body_parts/dataset/test/Nose',i),img) "
      ],
      "metadata": {
        "id": "ejI1jbaNU_la"
      },
      "execution_count": 49,
      "outputs": []
    },
    {
      "cell_type": "code",
      "source": [
        "names=[]\n",
        "for filename in os.listdir('/content/drive/MyDrive/JWOC/Body_parts/Shoulders'):\n",
        "  names.append(filename)\n",
        "random.shuffle(names)\n",
        "len(names)"
      ],
      "metadata": {
        "colab": {
          "base_uri": "https://localhost:8080/"
        },
        "id": "K5Wn1UgmVSxj",
        "outputId": "d24930dd-b057-41bf-9b33-8b42b694b40b"
      },
      "execution_count": 50,
      "outputs": [
        {
          "output_type": "execute_result",
          "data": {
            "text/plain": [
              "210"
            ]
          },
          "metadata": {},
          "execution_count": 50
        }
      ]
    },
    {
      "cell_type": "code",
      "source": [
        "train=names[0:167]\n",
        "test=names[167:211]"
      ],
      "metadata": {
        "id": "grrcenf3VXyj"
      },
      "execution_count": 51,
      "outputs": []
    },
    {
      "cell_type": "code",
      "source": [
        "for i in train:\n",
        "  filename=os.path.join('/content/drive/MyDrive/JWOC/Body_parts/Shoulders',i)\n",
        "  img=cv2.imread(filename)\n",
        "  cv2.imwrite(os.path.join('/content/drive/MyDrive/JWOC/Body_parts/dataset/train/Shoulders',i),img)\n",
        "\n",
        "for i in test:\n",
        "  filename=os.path.join('/content/drive/MyDrive/JWOC/Body_parts/Shoulders',i)\n",
        "  img=cv2.imread(filename)\n",
        "  cv2.imwrite(os.path.join('/content/drive/MyDrive/JWOC/Body_parts/dataset/test/Shoulders',i),img) "
      ],
      "metadata": {
        "id": "KKoUTSlRVokE"
      },
      "execution_count": 52,
      "outputs": []
    },
    {
      "cell_type": "code",
      "source": [
        "train_path = \"/content/drive/MyDrive/JWOC/Body_parts/dataset/train\"\n",
        "test_path = \"/content/drive/MyDrive/JWOC/Body_parts/dataset/test\""
      ],
      "metadata": {
        "id": "G8qliCLyWbhf"
      },
      "execution_count": 54,
      "outputs": []
    },
    {
      "cell_type": "code",
      "source": [
        "train_gen = ImageDataGenerator(rescale = 1.0/255.0) # Normalise the data\n",
        "train_image_generator = train_gen.flow_from_directory(\n",
        "                                            train_path,\n",
        "                                            target_size=(150, 150),\n",
        "                                            batch_size=32,\n",
        "                                            class_mode='categorical')\n",
        "\n",
        "\n",
        "test_gen = ImageDataGenerator(rescale = 1.0/255.0) # Normalise the data\n",
        "test_image_generator = train_gen.flow_from_directory(\n",
        "                                            test_path,\n",
        "                                            target_size=(150, 150),\n",
        "                                            batch_size=32,\n",
        "                                            class_mode='categorical')"
      ],
      "metadata": {
        "colab": {
          "base_uri": "https://localhost:8080/"
        },
        "id": "BGJ23NICXCrn",
        "outputId": "bed141c5-d760-45ad-d5cd-d90a4d8888bf"
      },
      "execution_count": 67,
      "outputs": [
        {
          "output_type": "stream",
          "name": "stdout",
          "text": [
            "Found 1497 images belonging to 10 classes.\n",
            "Found 430 images belonging to 10 classes.\n"
          ]
        }
      ]
    },
    {
      "cell_type": "code",
      "source": [
        "class_map = dict([(v, k) for k, v in train_image_generator.class_indices.items()])\n",
        "print(class_map)"
      ],
      "metadata": {
        "colab": {
          "base_uri": "https://localhost:8080/"
        },
        "id": "_-PxQlxpXLJu",
        "outputId": "51e5b317-76c5-4849-d31f-7e88dc7165c5"
      },
      "execution_count": 68,
      "outputs": [
        {
          "output_type": "stream",
          "name": "stdout",
          "text": [
            "{0: 'Belly', 1: 'Ear', 2: 'Elbow', 3: 'Eye', 4: 'Foot', 5: 'Hand', 6: 'Knee', 7: 'Neck', 8: 'Nose', 9: 'Shoulders'}\n"
          ]
        }
      ]
    },
    {
      "cell_type": "code",
      "source": [
        "model = Sequential()\n",
        "model.add(Conv2D(filters=32, kernel_size=3, strides=1, padding='same', activation='relu', input_shape=[150, 150, 3]))\n",
        "model.add(MaxPooling2D(2, ))\n",
        "model.add(Conv2D(filters=64, kernel_size=3, strides=1, padding='same', activation='relu'))\n",
        "model.add(MaxPooling2D(2))\n",
        "\n",
        "# Flatten the feature map\n",
        "model.add(Flatten())\n",
        "\n",
        "# Add the fully connected layers\n",
        "model.add(Dense(128, activation='relu'))\n",
        "model.add(Dropout(0.25))\n",
        "model.add(Dense(128, activation='relu'))\n",
        "model.add(Dense(10, activation='softmax'))\n",
        "\n",
        "# print the model summary\n",
        "model.summary()"
      ],
      "metadata": {
        "colab": {
          "base_uri": "https://localhost:8080/"
        },
        "id": "y3FvI5hDXQV_",
        "outputId": "8e3dff15-486e-4bbc-a4e2-f81ed4e60f18"
      },
      "execution_count": 71,
      "outputs": [
        {
          "output_type": "stream",
          "name": "stdout",
          "text": [
            "Model: \"sequential_2\"\n",
            "_________________________________________________________________\n",
            " Layer (type)                Output Shape              Param #   \n",
            "=================================================================\n",
            " conv2d_4 (Conv2D)           (None, 150, 150, 32)      896       \n",
            "                                                                 \n",
            " max_pooling2d_4 (MaxPooling  (None, 75, 75, 32)       0         \n",
            " 2D)                                                             \n",
            "                                                                 \n",
            " conv2d_5 (Conv2D)           (None, 75, 75, 64)        18496     \n",
            "                                                                 \n",
            " max_pooling2d_5 (MaxPooling  (None, 37, 37, 64)       0         \n",
            " 2D)                                                             \n",
            "                                                                 \n",
            " flatten_2 (Flatten)         (None, 87616)             0         \n",
            "                                                                 \n",
            " dense_6 (Dense)             (None, 128)               11214976  \n",
            "                                                                 \n",
            " dropout_2 (Dropout)         (None, 128)               0         \n",
            "                                                                 \n",
            " dense_7 (Dense)             (None, 128)               16512     \n",
            "                                                                 \n",
            " dense_8 (Dense)             (None, 10)                1290      \n",
            "                                                                 \n",
            "=================================================================\n",
            "Total params: 11,252,170\n",
            "Trainable params: 11,252,170\n",
            "Non-trainable params: 0\n",
            "_________________________________________________________________\n"
          ]
        }
      ]
    },
    {
      "cell_type": "code",
      "source": [
        "model.compile(optimizer='Adam', loss='categorical_crossentropy', metrics='accuracy')\n",
        "hist = model.fit(train_image_generator, \n",
        "                 epochs=15, \n",
        "                 verbose=1, \n",
        "                 validation_data=test_image_generator, \n",
        "        )"
      ],
      "metadata": {
        "colab": {
          "base_uri": "https://localhost:8080/"
        },
        "id": "mVQooqfAXYv8",
        "outputId": "0ddc9522-c96f-4f2e-c64f-897f6f2eeb38"
      },
      "execution_count": 72,
      "outputs": [
        {
          "output_type": "stream",
          "name": "stdout",
          "text": [
            "Epoch 1/15\n",
            "47/47 [==============================] - 49s 1s/step - loss: 2.3280 - accuracy: 0.1182 - val_loss: 2.4396 - val_accuracy: 0.1814\n",
            "Epoch 2/15\n",
            "47/47 [==============================] - 48s 1s/step - loss: 2.1350 - accuracy: 0.2011 - val_loss: 2.3482 - val_accuracy: 0.1860\n",
            "Epoch 3/15\n",
            "47/47 [==============================] - 48s 1s/step - loss: 1.9723 - accuracy: 0.2953 - val_loss: 2.6860 - val_accuracy: 0.2442\n",
            "Epoch 4/15\n",
            "47/47 [==============================] - 48s 1s/step - loss: 1.7091 - accuracy: 0.3995 - val_loss: 2.9054 - val_accuracy: 0.2698\n",
            "Epoch 5/15\n",
            "47/47 [==============================] - 49s 1s/step - loss: 1.3708 - accuracy: 0.5271 - val_loss: 2.8794 - val_accuracy: 0.2953\n",
            "Epoch 6/15\n",
            "47/47 [==============================] - 49s 1s/step - loss: 0.9343 - accuracy: 0.6894 - val_loss: 3.7859 - val_accuracy: 0.2605\n",
            "Epoch 7/15\n",
            "47/47 [==============================] - 49s 1s/step - loss: 0.6439 - accuracy: 0.7862 - val_loss: 4.1024 - val_accuracy: 0.2767\n",
            "Epoch 8/15\n",
            "47/47 [==============================] - 49s 1s/step - loss: 0.4737 - accuracy: 0.8490 - val_loss: 4.2746 - val_accuracy: 0.3023\n",
            "Epoch 9/15\n",
            "47/47 [==============================] - 49s 1s/step - loss: 0.2952 - accuracy: 0.9051 - val_loss: 5.3180 - val_accuracy: 0.2907\n",
            "Epoch 10/15\n",
            "47/47 [==============================] - 49s 1s/step - loss: 0.2061 - accuracy: 0.9372 - val_loss: 5.7620 - val_accuracy: 0.2860\n",
            "Epoch 11/15\n",
            "47/47 [==============================] - 49s 1s/step - loss: 0.1878 - accuracy: 0.9506 - val_loss: 5.9528 - val_accuracy: 0.2977\n",
            "Epoch 12/15\n",
            "47/47 [==============================] - 49s 1s/step - loss: 0.1708 - accuracy: 0.9559 - val_loss: 5.6341 - val_accuracy: 0.2628\n",
            "Epoch 13/15\n",
            "47/47 [==============================] - 49s 1s/step - loss: 0.1600 - accuracy: 0.9559 - val_loss: 6.2041 - val_accuracy: 0.2884\n",
            "Epoch 14/15\n",
            "47/47 [==============================] - 49s 1s/step - loss: 0.1382 - accuracy: 0.9619 - val_loss: 6.0356 - val_accuracy: 0.2674\n",
            "Epoch 15/15\n",
            "47/47 [==============================] - 49s 1s/step - loss: 0.1326 - accuracy: 0.9613 - val_loss: 6.2678 - val_accuracy: 0.2721\n"
          ]
        }
      ]
    },
    {
      "cell_type": "code",
      "source": [
        "model.evaluate(train_image_generator)"
      ],
      "metadata": {
        "colab": {
          "base_uri": "https://localhost:8080/"
        },
        "id": "PRIQ7zeYXn7d",
        "outputId": "323b50ff-8c07-4143-80f6-32b38acdcdb9"
      },
      "execution_count": 73,
      "outputs": [
        {
          "output_type": "stream",
          "name": "stdout",
          "text": [
            "47/47 [==============================] - 14s 287ms/step - loss: 0.0454 - accuracy: 0.9920\n"
          ]
        },
        {
          "output_type": "execute_result",
          "data": {
            "text/plain": [
              "[0.04544766619801521, 0.991983950138092]"
            ]
          },
          "metadata": {},
          "execution_count": 73
        }
      ]
    },
    {
      "cell_type": "code",
      "source": [
        ""
      ],
      "metadata": {
        "id": "CmiM8GYxezsJ"
      },
      "execution_count": null,
      "outputs": []
    }
  ]
}