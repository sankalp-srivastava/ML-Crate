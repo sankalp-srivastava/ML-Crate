{
 "cells": [
  {
   "cell_type": "code",
   "execution_count": 1,
   "id": "a05e8753",
   "metadata": {
    "_cell_guid": "b1076dfc-b9ad-4769-8c92-a6c4dae69d19",
    "_uuid": "8f2839f25d086af736a60e9eeb907d3b93b6e0e5",
    "execution": {
     "iopub.execute_input": "2022-02-01T14:39:50.687896Z",
     "iopub.status.busy": "2022-02-01T14:39:50.686136Z",
     "iopub.status.idle": "2022-02-01T14:39:51.700559Z",
     "shell.execute_reply": "2022-02-01T14:39:51.701147Z",
     "shell.execute_reply.started": "2022-02-01T14:31:24.267156Z"
    },
    "papermill": {
     "duration": 1.041576,
     "end_time": "2022-02-01T14:39:51.701500",
     "exception": false,
     "start_time": "2022-02-01T14:39:50.659924",
     "status": "completed"
    },
    "tags": []
   },
   "outputs": [],
   "source": [
    "import numpy as np\n",
    "import pandas as pd\n",
    "from sklearn import preprocessing\n",
    "from sklearn.metrics import mean_squared_error as mse\n",
    "import matplotlib.pyplot as plt"
   ]
  },
  {
   "cell_type": "markdown",
   "id": "031b6824",
   "metadata": {
    "papermill": {
     "duration": 0.020794,
     "end_time": "2022-02-01T14:39:51.743924",
     "exception": false,
     "start_time": "2022-02-01T14:39:51.723130",
     "status": "completed"
    },
    "tags": []
   },
   "source": [
    "## Importing Dataset"
   ]
  },
  {
   "cell_type": "code",
   "execution_count": 2,
   "id": "226703b1",
   "metadata": {
    "execution": {
     "iopub.execute_input": "2022-02-01T14:39:51.791440Z",
     "iopub.status.busy": "2022-02-01T14:39:51.790697Z",
     "iopub.status.idle": "2022-02-01T14:39:51.842581Z",
     "shell.execute_reply": "2022-02-01T14:39:51.843106Z",
     "shell.execute_reply.started": "2022-02-01T14:31:33.761558Z"
    },
    "papermill": {
     "duration": 0.078388,
     "end_time": "2022-02-01T14:39:51.843278",
     "exception": false,
     "start_time": "2022-02-01T14:39:51.764890",
     "status": "completed"
    },
    "tags": []
   },
   "outputs": [
    {
     "data": {
      "text/html": [
       "<div>\n",
       "<style scoped>\n",
       "    .dataframe tbody tr th:only-of-type {\n",
       "        vertical-align: middle;\n",
       "    }\n",
       "\n",
       "    .dataframe tbody tr th {\n",
       "        vertical-align: top;\n",
       "    }\n",
       "\n",
       "    .dataframe thead th {\n",
       "        text-align: right;\n",
       "    }\n",
       "</style>\n",
       "<table border=\"1\" class=\"dataframe\">\n",
       "  <thead>\n",
       "    <tr style=\"text-align: right;\">\n",
       "      <th></th>\n",
       "      <th>Unnamed: 0</th>\n",
       "      <th>Cement</th>\n",
       "      <th>Blast Furnace Slag</th>\n",
       "      <th>Fly Ash</th>\n",
       "      <th>Water</th>\n",
       "      <th>Superplasticizer</th>\n",
       "      <th>Coarse Aggregate</th>\n",
       "      <th>Fine Aggregate</th>\n",
       "      <th>Age</th>\n",
       "      <th>Strength</th>\n",
       "    </tr>\n",
       "  </thead>\n",
       "  <tbody>\n",
       "    <tr>\n",
       "      <th>0</th>\n",
       "      <td>1</td>\n",
       "      <td>540.0</td>\n",
       "      <td>0.0</td>\n",
       "      <td>0.0</td>\n",
       "      <td>162.0</td>\n",
       "      <td>2.5</td>\n",
       "      <td>1055.0</td>\n",
       "      <td>676.0</td>\n",
       "      <td>28</td>\n",
       "      <td>61.89</td>\n",
       "    </tr>\n",
       "    <tr>\n",
       "      <th>1</th>\n",
       "      <td>5</td>\n",
       "      <td>266.0</td>\n",
       "      <td>114.0</td>\n",
       "      <td>0.0</td>\n",
       "      <td>228.0</td>\n",
       "      <td>0.0</td>\n",
       "      <td>932.0</td>\n",
       "      <td>670.0</td>\n",
       "      <td>90</td>\n",
       "      <td>47.03</td>\n",
       "    </tr>\n",
       "    <tr>\n",
       "      <th>2</th>\n",
       "      <td>7</td>\n",
       "      <td>380.0</td>\n",
       "      <td>95.0</td>\n",
       "      <td>0.0</td>\n",
       "      <td>228.0</td>\n",
       "      <td>0.0</td>\n",
       "      <td>932.0</td>\n",
       "      <td>594.0</td>\n",
       "      <td>28</td>\n",
       "      <td>36.45</td>\n",
       "    </tr>\n",
       "    <tr>\n",
       "      <th>3</th>\n",
       "      <td>8</td>\n",
       "      <td>266.0</td>\n",
       "      <td>114.0</td>\n",
       "      <td>0.0</td>\n",
       "      <td>228.0</td>\n",
       "      <td>0.0</td>\n",
       "      <td>932.0</td>\n",
       "      <td>670.0</td>\n",
       "      <td>28</td>\n",
       "      <td>45.85</td>\n",
       "    </tr>\n",
       "    <tr>\n",
       "      <th>4</th>\n",
       "      <td>9</td>\n",
       "      <td>475.0</td>\n",
       "      <td>0.0</td>\n",
       "      <td>0.0</td>\n",
       "      <td>228.0</td>\n",
       "      <td>0.0</td>\n",
       "      <td>932.0</td>\n",
       "      <td>594.0</td>\n",
       "      <td>28</td>\n",
       "      <td>39.29</td>\n",
       "    </tr>\n",
       "    <tr>\n",
       "      <th>...</th>\n",
       "      <td>...</td>\n",
       "      <td>...</td>\n",
       "      <td>...</td>\n",
       "      <td>...</td>\n",
       "      <td>...</td>\n",
       "      <td>...</td>\n",
       "      <td>...</td>\n",
       "      <td>...</td>\n",
       "      <td>...</td>\n",
       "      <td>...</td>\n",
       "    </tr>\n",
       "    <tr>\n",
       "      <th>906</th>\n",
       "      <td>1025</td>\n",
       "      <td>276.4</td>\n",
       "      <td>116.0</td>\n",
       "      <td>90.3</td>\n",
       "      <td>179.6</td>\n",
       "      <td>8.9</td>\n",
       "      <td>870.1</td>\n",
       "      <td>768.3</td>\n",
       "      <td>28</td>\n",
       "      <td>44.28</td>\n",
       "    </tr>\n",
       "    <tr>\n",
       "      <th>907</th>\n",
       "      <td>1026</td>\n",
       "      <td>322.2</td>\n",
       "      <td>0.0</td>\n",
       "      <td>115.6</td>\n",
       "      <td>196.0</td>\n",
       "      <td>10.4</td>\n",
       "      <td>817.9</td>\n",
       "      <td>813.4</td>\n",
       "      <td>28</td>\n",
       "      <td>31.18</td>\n",
       "    </tr>\n",
       "    <tr>\n",
       "      <th>908</th>\n",
       "      <td>1027</td>\n",
       "      <td>148.5</td>\n",
       "      <td>139.4</td>\n",
       "      <td>108.6</td>\n",
       "      <td>192.7</td>\n",
       "      <td>6.1</td>\n",
       "      <td>892.4</td>\n",
       "      <td>780.0</td>\n",
       "      <td>28</td>\n",
       "      <td>23.70</td>\n",
       "    </tr>\n",
       "    <tr>\n",
       "      <th>909</th>\n",
       "      <td>1028</td>\n",
       "      <td>159.1</td>\n",
       "      <td>186.7</td>\n",
       "      <td>0.0</td>\n",
       "      <td>175.6</td>\n",
       "      <td>11.3</td>\n",
       "      <td>989.6</td>\n",
       "      <td>788.9</td>\n",
       "      <td>28</td>\n",
       "      <td>32.77</td>\n",
       "    </tr>\n",
       "    <tr>\n",
       "      <th>910</th>\n",
       "      <td>1029</td>\n",
       "      <td>260.9</td>\n",
       "      <td>100.5</td>\n",
       "      <td>78.3</td>\n",
       "      <td>200.6</td>\n",
       "      <td>8.6</td>\n",
       "      <td>864.5</td>\n",
       "      <td>761.5</td>\n",
       "      <td>28</td>\n",
       "      <td>32.40</td>\n",
       "    </tr>\n",
       "  </tbody>\n",
       "</table>\n",
       "<p>911 rows × 10 columns</p>\n",
       "</div>"
      ],
      "text/plain": [
       "     Unnamed: 0  Cement  Blast Furnace Slag  Fly Ash  Water  Superplasticizer  \\\n",
       "0             1   540.0                 0.0      0.0  162.0               2.5   \n",
       "1             5   266.0               114.0      0.0  228.0               0.0   \n",
       "2             7   380.0                95.0      0.0  228.0               0.0   \n",
       "3             8   266.0               114.0      0.0  228.0               0.0   \n",
       "4             9   475.0                 0.0      0.0  228.0               0.0   \n",
       "..          ...     ...                 ...      ...    ...               ...   \n",
       "906        1025   276.4               116.0     90.3  179.6               8.9   \n",
       "907        1026   322.2                 0.0    115.6  196.0              10.4   \n",
       "908        1027   148.5               139.4    108.6  192.7               6.1   \n",
       "909        1028   159.1               186.7      0.0  175.6              11.3   \n",
       "910        1029   260.9               100.5     78.3  200.6               8.6   \n",
       "\n",
       "     Coarse Aggregate  Fine Aggregate  Age  Strength  \n",
       "0              1055.0           676.0   28     61.89  \n",
       "1               932.0           670.0   90     47.03  \n",
       "2               932.0           594.0   28     36.45  \n",
       "3               932.0           670.0   28     45.85  \n",
       "4               932.0           594.0   28     39.29  \n",
       "..                ...             ...  ...       ...  \n",
       "906             870.1           768.3   28     44.28  \n",
       "907             817.9           813.4   28     31.18  \n",
       "908             892.4           780.0   28     23.70  \n",
       "909             989.6           788.9   28     32.77  \n",
       "910             864.5           761.5   28     32.40  \n",
       "\n",
       "[911 rows x 10 columns]"
      ]
     },
     "execution_count": 2,
     "metadata": {},
     "output_type": "execute_result"
    }
   ],
   "source": [
    "train = pd.read_csv(\"../input/eda-concrete-strength/Filtered_dataset.csv\")\n",
    "train"
   ]
  },
  {
   "cell_type": "code",
   "execution_count": 3,
   "id": "a4386bec",
   "metadata": {
    "execution": {
     "iopub.execute_input": "2022-02-01T14:39:51.917240Z",
     "iopub.status.busy": "2022-02-01T14:39:51.916427Z",
     "iopub.status.idle": "2022-02-01T14:39:51.919804Z",
     "shell.execute_reply": "2022-02-01T14:39:51.920292Z",
     "shell.execute_reply.started": "2022-02-01T14:31:36.491733Z"
    },
    "papermill": {
     "duration": 0.054761,
     "end_time": "2022-02-01T14:39:51.920467",
     "exception": false,
     "start_time": "2022-02-01T14:39:51.865706",
     "status": "completed"
    },
    "tags": []
   },
   "outputs": [
    {
     "data": {
      "text/html": [
       "<div>\n",
       "<style scoped>\n",
       "    .dataframe tbody tr th:only-of-type {\n",
       "        vertical-align: middle;\n",
       "    }\n",
       "\n",
       "    .dataframe tbody tr th {\n",
       "        vertical-align: top;\n",
       "    }\n",
       "\n",
       "    .dataframe thead th {\n",
       "        text-align: right;\n",
       "    }\n",
       "</style>\n",
       "<table border=\"1\" class=\"dataframe\">\n",
       "  <thead>\n",
       "    <tr style=\"text-align: right;\">\n",
       "      <th></th>\n",
       "      <th>Cement</th>\n",
       "      <th>Blast Furnace Slag</th>\n",
       "      <th>Fly Ash</th>\n",
       "      <th>Water</th>\n",
       "      <th>Superplasticizer</th>\n",
       "      <th>Coarse Aggregate</th>\n",
       "      <th>Fine Aggregate</th>\n",
       "      <th>Age</th>\n",
       "      <th>Strength</th>\n",
       "    </tr>\n",
       "  </thead>\n",
       "  <tbody>\n",
       "    <tr>\n",
       "      <th>0</th>\n",
       "      <td>540.0</td>\n",
       "      <td>0.0</td>\n",
       "      <td>0.0</td>\n",
       "      <td>162.0</td>\n",
       "      <td>2.5</td>\n",
       "      <td>1055.0</td>\n",
       "      <td>676.0</td>\n",
       "      <td>28</td>\n",
       "      <td>61.89</td>\n",
       "    </tr>\n",
       "    <tr>\n",
       "      <th>1</th>\n",
       "      <td>266.0</td>\n",
       "      <td>114.0</td>\n",
       "      <td>0.0</td>\n",
       "      <td>228.0</td>\n",
       "      <td>0.0</td>\n",
       "      <td>932.0</td>\n",
       "      <td>670.0</td>\n",
       "      <td>90</td>\n",
       "      <td>47.03</td>\n",
       "    </tr>\n",
       "    <tr>\n",
       "      <th>2</th>\n",
       "      <td>380.0</td>\n",
       "      <td>95.0</td>\n",
       "      <td>0.0</td>\n",
       "      <td>228.0</td>\n",
       "      <td>0.0</td>\n",
       "      <td>932.0</td>\n",
       "      <td>594.0</td>\n",
       "      <td>28</td>\n",
       "      <td>36.45</td>\n",
       "    </tr>\n",
       "    <tr>\n",
       "      <th>3</th>\n",
       "      <td>266.0</td>\n",
       "      <td>114.0</td>\n",
       "      <td>0.0</td>\n",
       "      <td>228.0</td>\n",
       "      <td>0.0</td>\n",
       "      <td>932.0</td>\n",
       "      <td>670.0</td>\n",
       "      <td>28</td>\n",
       "      <td>45.85</td>\n",
       "    </tr>\n",
       "    <tr>\n",
       "      <th>4</th>\n",
       "      <td>475.0</td>\n",
       "      <td>0.0</td>\n",
       "      <td>0.0</td>\n",
       "      <td>228.0</td>\n",
       "      <td>0.0</td>\n",
       "      <td>932.0</td>\n",
       "      <td>594.0</td>\n",
       "      <td>28</td>\n",
       "      <td>39.29</td>\n",
       "    </tr>\n",
       "    <tr>\n",
       "      <th>...</th>\n",
       "      <td>...</td>\n",
       "      <td>...</td>\n",
       "      <td>...</td>\n",
       "      <td>...</td>\n",
       "      <td>...</td>\n",
       "      <td>...</td>\n",
       "      <td>...</td>\n",
       "      <td>...</td>\n",
       "      <td>...</td>\n",
       "    </tr>\n",
       "    <tr>\n",
       "      <th>906</th>\n",
       "      <td>276.4</td>\n",
       "      <td>116.0</td>\n",
       "      <td>90.3</td>\n",
       "      <td>179.6</td>\n",
       "      <td>8.9</td>\n",
       "      <td>870.1</td>\n",
       "      <td>768.3</td>\n",
       "      <td>28</td>\n",
       "      <td>44.28</td>\n",
       "    </tr>\n",
       "    <tr>\n",
       "      <th>907</th>\n",
       "      <td>322.2</td>\n",
       "      <td>0.0</td>\n",
       "      <td>115.6</td>\n",
       "      <td>196.0</td>\n",
       "      <td>10.4</td>\n",
       "      <td>817.9</td>\n",
       "      <td>813.4</td>\n",
       "      <td>28</td>\n",
       "      <td>31.18</td>\n",
       "    </tr>\n",
       "    <tr>\n",
       "      <th>908</th>\n",
       "      <td>148.5</td>\n",
       "      <td>139.4</td>\n",
       "      <td>108.6</td>\n",
       "      <td>192.7</td>\n",
       "      <td>6.1</td>\n",
       "      <td>892.4</td>\n",
       "      <td>780.0</td>\n",
       "      <td>28</td>\n",
       "      <td>23.70</td>\n",
       "    </tr>\n",
       "    <tr>\n",
       "      <th>909</th>\n",
       "      <td>159.1</td>\n",
       "      <td>186.7</td>\n",
       "      <td>0.0</td>\n",
       "      <td>175.6</td>\n",
       "      <td>11.3</td>\n",
       "      <td>989.6</td>\n",
       "      <td>788.9</td>\n",
       "      <td>28</td>\n",
       "      <td>32.77</td>\n",
       "    </tr>\n",
       "    <tr>\n",
       "      <th>910</th>\n",
       "      <td>260.9</td>\n",
       "      <td>100.5</td>\n",
       "      <td>78.3</td>\n",
       "      <td>200.6</td>\n",
       "      <td>8.6</td>\n",
       "      <td>864.5</td>\n",
       "      <td>761.5</td>\n",
       "      <td>28</td>\n",
       "      <td>32.40</td>\n",
       "    </tr>\n",
       "  </tbody>\n",
       "</table>\n",
       "<p>911 rows × 9 columns</p>\n",
       "</div>"
      ],
      "text/plain": [
       "     Cement  Blast Furnace Slag  Fly Ash  Water  Superplasticizer  \\\n",
       "0     540.0                 0.0      0.0  162.0               2.5   \n",
       "1     266.0               114.0      0.0  228.0               0.0   \n",
       "2     380.0                95.0      0.0  228.0               0.0   \n",
       "3     266.0               114.0      0.0  228.0               0.0   \n",
       "4     475.0                 0.0      0.0  228.0               0.0   \n",
       "..      ...                 ...      ...    ...               ...   \n",
       "906   276.4               116.0     90.3  179.6               8.9   \n",
       "907   322.2                 0.0    115.6  196.0              10.4   \n",
       "908   148.5               139.4    108.6  192.7               6.1   \n",
       "909   159.1               186.7      0.0  175.6              11.3   \n",
       "910   260.9               100.5     78.3  200.6               8.6   \n",
       "\n",
       "     Coarse Aggregate  Fine Aggregate  Age  Strength  \n",
       "0              1055.0           676.0   28     61.89  \n",
       "1               932.0           670.0   90     47.03  \n",
       "2               932.0           594.0   28     36.45  \n",
       "3               932.0           670.0   28     45.85  \n",
       "4               932.0           594.0   28     39.29  \n",
       "..                ...             ...  ...       ...  \n",
       "906             870.1           768.3   28     44.28  \n",
       "907             817.9           813.4   28     31.18  \n",
       "908             892.4           780.0   28     23.70  \n",
       "909             989.6           788.9   28     32.77  \n",
       "910             864.5           761.5   28     32.40  \n",
       "\n",
       "[911 rows x 9 columns]"
      ]
     },
     "execution_count": 3,
     "metadata": {},
     "output_type": "execute_result"
    }
   ],
   "source": [
    "train.drop(['Unnamed: 0'],axis=1,inplace=True)\n",
    "train"
   ]
  },
  {
   "cell_type": "code",
   "execution_count": 4,
   "id": "0b9ab03b",
   "metadata": {
    "execution": {
     "iopub.execute_input": "2022-02-01T14:39:51.973248Z",
     "iopub.status.busy": "2022-02-01T14:39:51.972217Z",
     "iopub.status.idle": "2022-02-01T14:39:51.974354Z",
     "shell.execute_reply": "2022-02-01T14:39:51.974848Z",
     "shell.execute_reply.started": "2022-02-01T14:31:56.396434Z"
    },
    "papermill": {
     "duration": 0.032226,
     "end_time": "2022-02-01T14:39:51.975013",
     "exception": false,
     "start_time": "2022-02-01T14:39:51.942787",
     "status": "completed"
    },
    "tags": []
   },
   "outputs": [],
   "source": [
    "x = train.drop(['Strength'],axis=1)\n",
    "y = train['Strength']"
   ]
  },
  {
   "cell_type": "code",
   "execution_count": 5,
   "id": "164c833c",
   "metadata": {
    "execution": {
     "iopub.execute_input": "2022-02-01T14:39:52.022937Z",
     "iopub.status.busy": "2022-02-01T14:39:52.021898Z",
     "iopub.status.idle": "2022-02-01T14:39:52.030015Z",
     "shell.execute_reply": "2022-02-01T14:39:52.030566Z",
     "shell.execute_reply.started": "2022-02-01T14:32:03.440800Z"
    },
    "papermill": {
     "duration": 0.033767,
     "end_time": "2022-02-01T14:39:52.030736",
     "exception": false,
     "start_time": "2022-02-01T14:39:51.996969",
     "status": "completed"
    },
    "tags": []
   },
   "outputs": [],
   "source": [
    "from sklearn.preprocessing import StandardScaler\n",
    "scaler = StandardScaler()\n",
    "x = scaler.fit_transform(x)"
   ]
  },
  {
   "cell_type": "code",
   "execution_count": 6,
   "id": "e6ac9635",
   "metadata": {
    "execution": {
     "iopub.execute_input": "2022-02-01T14:39:52.078631Z",
     "iopub.status.busy": "2022-02-01T14:39:52.077670Z",
     "iopub.status.idle": "2022-02-01T14:39:52.096965Z",
     "shell.execute_reply": "2022-02-01T14:39:52.097551Z",
     "shell.execute_reply.started": "2022-02-01T14:32:07.356108Z"
    },
    "papermill": {
     "duration": 0.044975,
     "end_time": "2022-02-01T14:39:52.097728",
     "exception": false,
     "start_time": "2022-02-01T14:39:52.052753",
     "status": "completed"
    },
    "tags": []
   },
   "outputs": [],
   "source": [
    "# splitting the dataset into train and test dataset with 4:1 ratio (80%-20%)\n",
    "from sklearn.model_selection import train_test_split\n",
    "x_train, x_test, y_train, y_test = train_test_split(x, y, test_size = .2, random_state = 26)"
   ]
  },
  {
   "cell_type": "markdown",
   "id": "a0eddb0b",
   "metadata": {
    "papermill": {
     "duration": 0.021963,
     "end_time": "2022-02-01T14:39:52.141933",
     "exception": false,
     "start_time": "2022-02-01T14:39:52.119970",
     "status": "completed"
    },
    "tags": []
   },
   "source": [
    "## Training on different algorithms"
   ]
  },
  {
   "cell_type": "markdown",
   "id": "2730c482",
   "metadata": {
    "papermill": {
     "duration": 0.021732,
     "end_time": "2022-02-01T14:39:52.186002",
     "exception": false,
     "start_time": "2022-02-01T14:39:52.164270",
     "status": "completed"
    },
    "tags": []
   },
   "source": [
    "### Linear Regression"
   ]
  },
  {
   "cell_type": "code",
   "execution_count": 7,
   "id": "751efc24",
   "metadata": {
    "execution": {
     "iopub.execute_input": "2022-02-01T14:39:52.233776Z",
     "iopub.status.busy": "2022-02-01T14:39:52.232849Z",
     "iopub.status.idle": "2022-02-01T14:39:52.321273Z",
     "shell.execute_reply": "2022-02-01T14:39:52.320625Z",
     "shell.execute_reply.started": "2022-02-01T14:32:11.638801Z"
    },
    "papermill": {
     "duration": 0.113316,
     "end_time": "2022-02-01T14:39:52.321422",
     "exception": false,
     "start_time": "2022-02-01T14:39:52.208106",
     "status": "completed"
    },
    "tags": []
   },
   "outputs": [
    {
     "data": {
      "text/plain": [
       "LinearRegression()"
      ]
     },
     "execution_count": 7,
     "metadata": {},
     "output_type": "execute_result"
    }
   ],
   "source": [
    "from sklearn.linear_model import LinearRegression\n",
    "\n",
    "# Create instance of model\n",
    "lreg = LinearRegression()\n",
    "# Pass training data into model\n",
    "lreg.fit(x_train, y_train)"
   ]
  },
  {
   "cell_type": "code",
   "execution_count": 8,
   "id": "185b8818",
   "metadata": {
    "execution": {
     "iopub.execute_input": "2022-02-01T14:39:52.371124Z",
     "iopub.status.busy": "2022-02-01T14:39:52.370173Z",
     "iopub.status.idle": "2022-02-01T14:39:52.374207Z",
     "shell.execute_reply": "2022-02-01T14:39:52.374781Z",
     "shell.execute_reply.started": "2022-02-01T14:32:12.330933Z"
    },
    "papermill": {
     "duration": 0.031354,
     "end_time": "2022-02-01T14:39:52.374981",
     "exception": false,
     "start_time": "2022-02-01T14:39:52.343627",
     "status": "completed"
    },
    "tags": []
   },
   "outputs": [],
   "source": [
    "# Getting prediciton on x_test\n",
    "y_pred_lreg = lreg.predict(x_test)"
   ]
  },
  {
   "cell_type": "code",
   "execution_count": 9,
   "id": "28c9ed4c",
   "metadata": {
    "execution": {
     "iopub.execute_input": "2022-02-01T14:39:52.423512Z",
     "iopub.status.busy": "2022-02-01T14:39:52.422547Z",
     "iopub.status.idle": "2022-02-01T14:39:52.426407Z",
     "shell.execute_reply": "2022-02-01T14:39:52.426995Z",
     "shell.execute_reply.started": "2022-02-01T14:32:13.864825Z"
    },
    "papermill": {
     "duration": 0.029899,
     "end_time": "2022-02-01T14:39:52.427154",
     "exception": false,
     "start_time": "2022-02-01T14:39:52.397255",
     "status": "completed"
    },
    "tags": []
   },
   "outputs": [],
   "source": [
    "def rmse(y,y_pred):\n",
    "    return (np.sqrt(mse(y,y_pred)))"
   ]
  },
  {
   "cell_type": "code",
   "execution_count": 10,
   "id": "a38f601d",
   "metadata": {
    "execution": {
     "iopub.execute_input": "2022-02-01T14:39:52.475545Z",
     "iopub.status.busy": "2022-02-01T14:39:52.474584Z",
     "iopub.status.idle": "2022-02-01T14:39:52.481981Z",
     "shell.execute_reply": "2022-02-01T14:39:52.482490Z",
     "shell.execute_reply.started": "2022-02-01T14:32:15.787640Z"
    },
    "papermill": {
     "duration": 0.033339,
     "end_time": "2022-02-01T14:39:52.482693",
     "exception": false,
     "start_time": "2022-02-01T14:39:52.449354",
     "status": "completed"
    },
    "tags": []
   },
   "outputs": [
    {
     "name": "stdout",
     "output_type": "stream",
     "text": [
      "Linear Regression\n",
      "----------------------------------------------------------------------------------------------------\n",
      "RMSE =  8.453318904436872\n"
     ]
    }
   ],
   "source": [
    "# Scoring our model\n",
    "print('Linear Regression')\n",
    "# Root mean square error of our model\n",
    "print('--'*50)\n",
    "linreg_error = rmse(y_test, y_pred_lreg)\n",
    "print('RMSE = ', linreg_error)\n"
   ]
  },
  {
   "cell_type": "markdown",
   "id": "7ea6ea05",
   "metadata": {
    "papermill": {
     "duration": 0.022722,
     "end_time": "2022-02-01T14:39:52.529186",
     "exception": false,
     "start_time": "2022-02-01T14:39:52.506464",
     "status": "completed"
    },
    "tags": []
   },
   "source": [
    "### RBF SUPPORT VECTOR REGRESSOR"
   ]
  },
  {
   "cell_type": "code",
   "execution_count": 11,
   "id": "21c46b45",
   "metadata": {
    "execution": {
     "iopub.execute_input": "2022-02-01T14:39:52.581217Z",
     "iopub.status.busy": "2022-02-01T14:39:52.580538Z",
     "iopub.status.idle": "2022-02-01T14:39:52.621979Z",
     "shell.execute_reply": "2022-02-01T14:39:52.622492Z",
     "shell.execute_reply.started": "2022-02-01T14:32:20.494696Z"
    },
    "papermill": {
     "duration": 0.070513,
     "end_time": "2022-02-01T14:39:52.622697",
     "exception": false,
     "start_time": "2022-02-01T14:39:52.552184",
     "status": "completed"
    },
    "tags": []
   },
   "outputs": [
    {
     "name": "stdout",
     "output_type": "stream",
     "text": [
      "CPU times: user 36.2 ms, sys: 1 ms, total: 37.2 ms\n",
      "Wall time: 36.5 ms\n"
     ]
    },
    {
     "data": {
      "text/plain": [
       "SVR()"
      ]
     },
     "execution_count": 11,
     "metadata": {},
     "output_type": "execute_result"
    }
   ],
   "source": [
    "%%time\n",
    "from sklearn.svm import SVR\n",
    "\n",
    "svr = SVR(kernel = 'rbf')\n",
    "\n",
    "# Fit the model on training data\n",
    "svr.fit(x_train, y_train)"
   ]
  },
  {
   "cell_type": "code",
   "execution_count": 12,
   "id": "5482b4d6",
   "metadata": {
    "execution": {
     "iopub.execute_input": "2022-02-01T14:39:52.673537Z",
     "iopub.status.busy": "2022-02-01T14:39:52.672865Z",
     "iopub.status.idle": "2022-02-01T14:39:52.678981Z",
     "shell.execute_reply": "2022-02-01T14:39:52.679532Z",
     "shell.execute_reply.started": "2022-02-01T14:32:21.866999Z"
    },
    "papermill": {
     "duration": 0.033199,
     "end_time": "2022-02-01T14:39:52.679731",
     "exception": false,
     "start_time": "2022-02-01T14:39:52.646532",
     "status": "completed"
    },
    "tags": []
   },
   "outputs": [],
   "source": [
    "# Getting the predictions for x_test\n",
    "y_pred_svr = svr.predict(x_test)"
   ]
  },
  {
   "cell_type": "code",
   "execution_count": 13,
   "id": "f6d70203",
   "metadata": {
    "execution": {
     "iopub.execute_input": "2022-02-01T14:39:52.731369Z",
     "iopub.status.busy": "2022-02-01T14:39:52.730671Z",
     "iopub.status.idle": "2022-02-01T14:39:52.736945Z",
     "shell.execute_reply": "2022-02-01T14:39:52.737457Z",
     "shell.execute_reply.started": "2022-02-01T14:32:22.941789Z"
    },
    "papermill": {
     "duration": 0.033784,
     "end_time": "2022-02-01T14:39:52.737648",
     "exception": false,
     "start_time": "2022-02-01T14:39:52.703864",
     "status": "completed"
    },
    "tags": []
   },
   "outputs": [
    {
     "name": "stdout",
     "output_type": "stream",
     "text": [
      "Support Vector Classifier\n",
      "----------------------------------------------------------------------------------------------------\n",
      "RMSE =  8.749276052031043\n"
     ]
    }
   ],
   "source": [
    "print('Support Vector Classifier')\n",
    "# Root mean square error of our model\n",
    "print('--'*50)\n",
    "svr_error = rmse(y_test, y_pred_svr)\n",
    "print('RMSE = ', svr_error)"
   ]
  },
  {
   "cell_type": "markdown",
   "id": "c9c43de4",
   "metadata": {
    "papermill": {
     "duration": 0.023485,
     "end_time": "2022-02-01T14:39:52.784899",
     "exception": false,
     "start_time": "2022-02-01T14:39:52.761414",
     "status": "completed"
    },
    "tags": []
   },
   "source": [
    "### Decision Tree - Regression"
   ]
  },
  {
   "cell_type": "code",
   "execution_count": 14,
   "id": "549e96cf",
   "metadata": {
    "execution": {
     "iopub.execute_input": "2022-02-01T14:39:52.836385Z",
     "iopub.status.busy": "2022-02-01T14:39:52.835414Z",
     "iopub.status.idle": "2022-02-01T14:39:52.930478Z",
     "shell.execute_reply": "2022-02-01T14:39:52.929613Z",
     "shell.execute_reply.started": "2022-02-01T14:32:25.878848Z"
    },
    "papermill": {
     "duration": 0.122248,
     "end_time": "2022-02-01T14:39:52.930666",
     "exception": false,
     "start_time": "2022-02-01T14:39:52.808418",
     "status": "completed"
    },
    "tags": []
   },
   "outputs": [
    {
     "name": "stdout",
     "output_type": "stream",
     "text": [
      "CPU times: user 24.1 ms, sys: 10.6 ms, total: 34.7 ms\n",
      "Wall time: 84.9 ms\n"
     ]
    },
    {
     "data": {
      "text/plain": [
       "DecisionTreeRegressor()"
      ]
     },
     "execution_count": 14,
     "metadata": {},
     "output_type": "execute_result"
    }
   ],
   "source": [
    "%%time\n",
    "from sklearn.tree import DecisionTreeRegressor\n",
    "\n",
    "dtr = DecisionTreeRegressor()\n",
    "# Fit new DT on training data\n",
    "dtr.fit(x_train, y_train)"
   ]
  },
  {
   "cell_type": "code",
   "execution_count": 15,
   "id": "661c420b",
   "metadata": {
    "execution": {
     "iopub.execute_input": "2022-02-01T14:39:52.983525Z",
     "iopub.status.busy": "2022-02-01T14:39:52.982587Z",
     "iopub.status.idle": "2022-02-01T14:39:52.986476Z",
     "shell.execute_reply": "2022-02-01T14:39:52.987089Z",
     "shell.execute_reply.started": "2022-02-01T14:32:27.450671Z"
    },
    "papermill": {
     "duration": 0.031965,
     "end_time": "2022-02-01T14:39:52.987256",
     "exception": false,
     "start_time": "2022-02-01T14:39:52.955291",
     "status": "completed"
    },
    "tags": []
   },
   "outputs": [],
   "source": [
    "# Predict DTR\n",
    "y_pred_dtr = dtr.predict(x_test)"
   ]
  },
  {
   "cell_type": "code",
   "execution_count": 16,
   "id": "d9b1b737",
   "metadata": {
    "execution": {
     "iopub.execute_input": "2022-02-01T14:39:53.040408Z",
     "iopub.status.busy": "2022-02-01T14:39:53.039447Z",
     "iopub.status.idle": "2022-02-01T14:39:53.046641Z",
     "shell.execute_reply": "2022-02-01T14:39:53.047213Z",
     "shell.execute_reply.started": "2022-02-01T14:32:28.239532Z"
    },
    "papermill": {
     "duration": 0.035737,
     "end_time": "2022-02-01T14:39:53.047382",
     "exception": false,
     "start_time": "2022-02-01T14:39:53.011645",
     "status": "completed"
    },
    "tags": []
   },
   "outputs": [
    {
     "name": "stdout",
     "output_type": "stream",
     "text": [
      "Decision Tree\n",
      "----------------------------------------------------------------------------------------------------\n",
      "RMSE =  7.02070229077816\n"
     ]
    }
   ],
   "source": [
    "print('Decision Tree')\n",
    "# Root mean square error of our model\n",
    "print('--'*50)\n",
    "dtr_error = rmse(y_test, y_pred_dtr)\n",
    "print('RMSE = ', dtr_error)"
   ]
  },
  {
   "cell_type": "markdown",
   "id": "813019e5",
   "metadata": {
    "papermill": {
     "duration": 0.024828,
     "end_time": "2022-02-01T14:39:53.096868",
     "exception": false,
     "start_time": "2022-02-01T14:39:53.072040",
     "status": "completed"
    },
    "tags": []
   },
   "source": [
    "### RANDOM FOREST"
   ]
  },
  {
   "cell_type": "code",
   "execution_count": 17,
   "id": "d1a248a5",
   "metadata": {
    "execution": {
     "iopub.execute_input": "2022-02-01T14:39:53.153441Z",
     "iopub.status.busy": "2022-02-01T14:39:53.152655Z",
     "iopub.status.idle": "2022-02-01T14:39:54.119038Z",
     "shell.execute_reply": "2022-02-01T14:39:54.119542Z",
     "shell.execute_reply.started": "2022-02-01T14:32:31.089307Z"
    },
    "papermill": {
     "duration": 0.998062,
     "end_time": "2022-02-01T14:39:54.119722",
     "exception": false,
     "start_time": "2022-02-01T14:39:53.121660",
     "status": "completed"
    },
    "tags": []
   },
   "outputs": [],
   "source": [
    "from sklearn.ensemble import RandomForestRegressor\n",
    "\n",
    "# Create model object\n",
    "rfr = RandomForestRegressor(n_estimators = 250,n_jobs=-1)\n",
    "# Fit model to training data\n",
    "rfr.fit(x_train,y_train)\n",
    "y_pred_rfr = rfr.predict(x_test)"
   ]
  },
  {
   "cell_type": "code",
   "execution_count": 18,
   "id": "02890135",
   "metadata": {
    "execution": {
     "iopub.execute_input": "2022-02-01T14:39:54.174229Z",
     "iopub.status.busy": "2022-02-01T14:39:54.173574Z",
     "iopub.status.idle": "2022-02-01T14:39:54.181163Z",
     "shell.execute_reply": "2022-02-01T14:39:54.180544Z",
     "shell.execute_reply.started": "2022-02-01T14:32:32.311876Z"
    },
    "papermill": {
     "duration": 0.036685,
     "end_time": "2022-02-01T14:39:54.181297",
     "exception": false,
     "start_time": "2022-02-01T14:39:54.144612",
     "status": "completed"
    },
    "tags": []
   },
   "outputs": [
    {
     "name": "stdout",
     "output_type": "stream",
     "text": [
      "Random Forest\n",
      "----------------------------------------------------------------------------------------------------\n",
      "RMSE =  5.659124247827314\n"
     ]
    }
   ],
   "source": [
    "print('Random Forest')\n",
    "# Root mean square error of our model\n",
    "print('--'*50)\n",
    "rfr_error = rmse(y_test, y_pred_rfr)\n",
    "print('RMSE = ', rfr_error)"
   ]
  },
  {
   "cell_type": "markdown",
   "id": "def581ad",
   "metadata": {
    "papermill": {
     "duration": 0.024741,
     "end_time": "2022-02-01T14:39:54.231045",
     "exception": false,
     "start_time": "2022-02-01T14:39:54.206304",
     "status": "completed"
    },
    "tags": []
   },
   "source": [
    "### XGBoost Regressor"
   ]
  },
  {
   "cell_type": "code",
   "execution_count": 19,
   "id": "fee5df25",
   "metadata": {
    "execution": {
     "iopub.execute_input": "2022-02-01T14:39:54.290437Z",
     "iopub.status.busy": "2022-02-01T14:39:54.289692Z",
     "iopub.status.idle": "2022-02-01T14:39:54.864065Z",
     "shell.execute_reply": "2022-02-01T14:39:54.864670Z",
     "shell.execute_reply.started": "2022-02-01T14:32:33.708693Z"
    },
    "papermill": {
     "duration": 0.608915,
     "end_time": "2022-02-01T14:39:54.864925",
     "exception": false,
     "start_time": "2022-02-01T14:39:54.256010",
     "status": "completed"
    },
    "tags": []
   },
   "outputs": [],
   "source": [
    "from xgboost import XGBRegressor\n",
    "\n",
    "# Create model object\n",
    "xgb = XGBRegressor(n_jobs=-1)\n",
    "\n",
    "# Fit model to training data\n",
    "xgb.fit(x_train, y_train)\n",
    "y_pred_xgb = xgb.predict(x_test)"
   ]
  },
  {
   "cell_type": "code",
   "execution_count": 20,
   "id": "ea64cb78",
   "metadata": {
    "execution": {
     "iopub.execute_input": "2022-02-01T14:39:54.926685Z",
     "iopub.status.busy": "2022-02-01T14:39:54.925897Z",
     "iopub.status.idle": "2022-02-01T14:39:54.930105Z",
     "shell.execute_reply": "2022-02-01T14:39:54.930715Z",
     "shell.execute_reply.started": "2022-02-01T14:32:34.275859Z"
    },
    "papermill": {
     "duration": 0.036042,
     "end_time": "2022-02-01T14:39:54.930921",
     "exception": false,
     "start_time": "2022-02-01T14:39:54.894879",
     "status": "completed"
    },
    "tags": []
   },
   "outputs": [
    {
     "name": "stdout",
     "output_type": "stream",
     "text": [
      "XGBoost Classifer\n",
      "----------------------------------------------------------------------------------------------------\n",
      "RMSE =  5.294385434689728\n"
     ]
    }
   ],
   "source": [
    "print('XGBoost Classifer')\n",
    "print('--'*50)\n",
    "xgb_error = rmse(y_test, y_pred_xgb)\n",
    "print('RMSE = ', xgb_error)"
   ]
  },
  {
   "cell_type": "code",
   "execution_count": 21,
   "id": "0599e1f9",
   "metadata": {
    "execution": {
     "iopub.execute_input": "2022-02-01T14:39:54.990369Z",
     "iopub.status.busy": "2022-02-01T14:39:54.989676Z",
     "iopub.status.idle": "2022-02-01T14:39:54.999346Z",
     "shell.execute_reply": "2022-02-01T14:39:54.998787Z",
     "shell.execute_reply.started": "2022-02-01T14:32:35.582601Z"
    },
    "papermill": {
     "duration": 0.042134,
     "end_time": "2022-02-01T14:39:54.999491",
     "exception": false,
     "start_time": "2022-02-01T14:39:54.957357",
     "status": "completed"
    },
    "tags": []
   },
   "outputs": [
    {
     "data": {
      "text/html": [
       "<div>\n",
       "<style scoped>\n",
       "    .dataframe tbody tr th:only-of-type {\n",
       "        vertical-align: middle;\n",
       "    }\n",
       "\n",
       "    .dataframe tbody tr th {\n",
       "        vertical-align: top;\n",
       "    }\n",
       "\n",
       "    .dataframe thead th {\n",
       "        text-align: right;\n",
       "    }\n",
       "</style>\n",
       "<table border=\"1\" class=\"dataframe\">\n",
       "  <thead>\n",
       "    <tr style=\"text-align: right;\">\n",
       "      <th></th>\n",
       "      <th>Model</th>\n",
       "      <th>Score</th>\n",
       "    </tr>\n",
       "  </thead>\n",
       "  <tbody>\n",
       "    <tr>\n",
       "      <th>4</th>\n",
       "      <td>XGBoost Regressor</td>\n",
       "      <td>5.294385</td>\n",
       "    </tr>\n",
       "    <tr>\n",
       "      <th>3</th>\n",
       "      <td>Random Forest</td>\n",
       "      <td>5.659124</td>\n",
       "    </tr>\n",
       "    <tr>\n",
       "      <th>2</th>\n",
       "      <td>Decision Tree</td>\n",
       "      <td>7.020702</td>\n",
       "    </tr>\n",
       "    <tr>\n",
       "      <th>0</th>\n",
       "      <td>Linear Regression</td>\n",
       "      <td>8.453319</td>\n",
       "    </tr>\n",
       "    <tr>\n",
       "      <th>1</th>\n",
       "      <td>RBF SVC</td>\n",
       "      <td>8.749276</td>\n",
       "    </tr>\n",
       "  </tbody>\n",
       "</table>\n",
       "</div>"
      ],
      "text/plain": [
       "               Model     Score\n",
       "4  XGBoost Regressor  5.294385\n",
       "3      Random Forest  5.659124\n",
       "2      Decision Tree  7.020702\n",
       "0  Linear Regression  8.453319\n",
       "1            RBF SVC  8.749276"
      ]
     },
     "execution_count": 21,
     "metadata": {},
     "output_type": "execute_result"
    }
   ],
   "source": [
    "models = pd.DataFrame({\n",
    "     'Model': ['Linear Regression', 'RBF SVC', \n",
    "               'Decision Tree', 'Random Forest','XGBoost Regressor'],\n",
    "    'Score': [linreg_error, svr_error, \n",
    "               dtr_error, rfr_error,xgb_error]})\n",
    "models.sort_values(by='Score', ascending=True)"
   ]
  }
 ],
 "metadata": {
  "kernelspec": {
   "display_name": "Python 3",
   "language": "python",
   "name": "python3"
  },
  "language_info": {
   "codemirror_mode": {
    "name": "ipython",
    "version": 3
   },
   "file_extension": ".py",
   "mimetype": "text/x-python",
   "name": "python",
   "nbconvert_exporter": "python",
   "pygments_lexer": "ipython3",
   "version": "3.7.12"
  },
  "papermill": {
   "default_parameters": {},
   "duration": 15.079163,
   "end_time": "2022-02-01T14:39:55.738301",
   "environment_variables": {},
   "exception": null,
   "input_path": "__notebook__.ipynb",
   "output_path": "__notebook__.ipynb",
   "parameters": {},
   "start_time": "2022-02-01T14:39:40.659138",
   "version": "2.3.3"
  }
 },
 "nbformat": 4,
 "nbformat_minor": 5
}
