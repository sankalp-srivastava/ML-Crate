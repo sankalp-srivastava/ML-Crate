{
 "cells": [
  {
   "cell_type": "markdown",
   "id": "6c68ef47",
   "metadata": {
    "papermill": {
     "duration": 0.013294,
     "end_time": "2022-02-02T15:39:40.072961",
     "exception": false,
     "start_time": "2022-02-02T15:39:40.059667",
     "status": "completed"
    },
    "tags": []
   },
   "source": [
    "## Importing libraries"
   ]
  },
  {
   "cell_type": "code",
   "execution_count": 1,
   "id": "8987dac4",
   "metadata": {
    "execution": {
     "iopub.execute_input": "2022-02-02T15:39:40.112528Z",
     "iopub.status.busy": "2022-02-02T15:39:40.111754Z",
     "iopub.status.idle": "2022-02-02T15:39:41.075552Z",
     "shell.execute_reply": "2022-02-02T15:39:41.074896Z",
     "shell.execute_reply.started": "2022-02-02T15:33:51.138947Z"
    },
    "papermill": {
     "duration": 0.988184,
     "end_time": "2022-02-02T15:39:41.075714",
     "exception": false,
     "start_time": "2022-02-02T15:39:40.087530",
     "status": "completed"
    },
    "tags": []
   },
   "outputs": [],
   "source": [
    "import numpy as np \n",
    "import pandas as pd \n",
    "from xgboost import XGBRegressor\n",
    "from sklearn.model_selection import train_test_split\n",
    "from warnings import filterwarnings\n",
    "import xgboost as xgb\n",
    "from sklearn.preprocessing import StandardScaler\n",
    "from sklearn.model_selection import GridSearchCV\n",
    "from sklearn.metrics import mean_squared_error\n",
    "from sklearn.metrics import mean_absolute_error\n",
    "from sklearn.metrics import r2_score \n",
    "filterwarnings(\"ignore\", category=DeprecationWarning) \n",
    "filterwarnings(\"ignore\", category=FutureWarning) \n",
    "filterwarnings(\"ignore\", category=UserWarning)"
   ]
  },
  {
   "cell_type": "markdown",
   "id": "929ae0b4",
   "metadata": {
    "papermill": {
     "duration": 0.012037,
     "end_time": "2022-02-02T15:39:41.100356",
     "exception": false,
     "start_time": "2022-02-02T15:39:41.088319",
     "status": "completed"
    },
    "tags": []
   },
   "source": [
    "## Loading the dataset"
   ]
  },
  {
   "cell_type": "code",
   "execution_count": 2,
   "id": "bcd070e5",
   "metadata": {
    "execution": {
     "iopub.execute_input": "2022-02-02T15:39:41.130637Z",
     "iopub.status.busy": "2022-02-02T15:39:41.129965Z",
     "iopub.status.idle": "2022-02-02T15:39:41.177050Z",
     "shell.execute_reply": "2022-02-02T15:39:41.177479Z",
     "shell.execute_reply.started": "2022-02-02T15:33:52.560620Z"
    },
    "papermill": {
     "duration": 0.065156,
     "end_time": "2022-02-02T15:39:41.177641",
     "exception": false,
     "start_time": "2022-02-02T15:39:41.112485",
     "status": "completed"
    },
    "tags": []
   },
   "outputs": [
    {
     "data": {
      "text/html": [
       "<div>\n",
       "<style scoped>\n",
       "    .dataframe tbody tr th:only-of-type {\n",
       "        vertical-align: middle;\n",
       "    }\n",
       "\n",
       "    .dataframe tbody tr th {\n",
       "        vertical-align: top;\n",
       "    }\n",
       "\n",
       "    .dataframe thead th {\n",
       "        text-align: right;\n",
       "    }\n",
       "</style>\n",
       "<table border=\"1\" class=\"dataframe\">\n",
       "  <thead>\n",
       "    <tr style=\"text-align: right;\">\n",
       "      <th></th>\n",
       "      <th>Cement</th>\n",
       "      <th>Blast Furnace Slag</th>\n",
       "      <th>Fly Ash</th>\n",
       "      <th>Water</th>\n",
       "      <th>Superplasticizer</th>\n",
       "      <th>Coarse Aggregate</th>\n",
       "      <th>Fine Aggregate</th>\n",
       "      <th>Age</th>\n",
       "      <th>Strength</th>\n",
       "    </tr>\n",
       "  </thead>\n",
       "  <tbody>\n",
       "    <tr>\n",
       "      <th>0</th>\n",
       "      <td>540.0</td>\n",
       "      <td>0.0</td>\n",
       "      <td>0.0</td>\n",
       "      <td>162.0</td>\n",
       "      <td>2.5</td>\n",
       "      <td>1055.0</td>\n",
       "      <td>676.0</td>\n",
       "      <td>28</td>\n",
       "      <td>61.89</td>\n",
       "    </tr>\n",
       "    <tr>\n",
       "      <th>1</th>\n",
       "      <td>266.0</td>\n",
       "      <td>114.0</td>\n",
       "      <td>0.0</td>\n",
       "      <td>228.0</td>\n",
       "      <td>0.0</td>\n",
       "      <td>932.0</td>\n",
       "      <td>670.0</td>\n",
       "      <td>90</td>\n",
       "      <td>47.03</td>\n",
       "    </tr>\n",
       "    <tr>\n",
       "      <th>2</th>\n",
       "      <td>380.0</td>\n",
       "      <td>95.0</td>\n",
       "      <td>0.0</td>\n",
       "      <td>228.0</td>\n",
       "      <td>0.0</td>\n",
       "      <td>932.0</td>\n",
       "      <td>594.0</td>\n",
       "      <td>28</td>\n",
       "      <td>36.45</td>\n",
       "    </tr>\n",
       "    <tr>\n",
       "      <th>3</th>\n",
       "      <td>266.0</td>\n",
       "      <td>114.0</td>\n",
       "      <td>0.0</td>\n",
       "      <td>228.0</td>\n",
       "      <td>0.0</td>\n",
       "      <td>932.0</td>\n",
       "      <td>670.0</td>\n",
       "      <td>28</td>\n",
       "      <td>45.85</td>\n",
       "    </tr>\n",
       "    <tr>\n",
       "      <th>4</th>\n",
       "      <td>475.0</td>\n",
       "      <td>0.0</td>\n",
       "      <td>0.0</td>\n",
       "      <td>228.0</td>\n",
       "      <td>0.0</td>\n",
       "      <td>932.0</td>\n",
       "      <td>594.0</td>\n",
       "      <td>28</td>\n",
       "      <td>39.29</td>\n",
       "    </tr>\n",
       "    <tr>\n",
       "      <th>...</th>\n",
       "      <td>...</td>\n",
       "      <td>...</td>\n",
       "      <td>...</td>\n",
       "      <td>...</td>\n",
       "      <td>...</td>\n",
       "      <td>...</td>\n",
       "      <td>...</td>\n",
       "      <td>...</td>\n",
       "      <td>...</td>\n",
       "    </tr>\n",
       "    <tr>\n",
       "      <th>906</th>\n",
       "      <td>276.4</td>\n",
       "      <td>116.0</td>\n",
       "      <td>90.3</td>\n",
       "      <td>179.6</td>\n",
       "      <td>8.9</td>\n",
       "      <td>870.1</td>\n",
       "      <td>768.3</td>\n",
       "      <td>28</td>\n",
       "      <td>44.28</td>\n",
       "    </tr>\n",
       "    <tr>\n",
       "      <th>907</th>\n",
       "      <td>322.2</td>\n",
       "      <td>0.0</td>\n",
       "      <td>115.6</td>\n",
       "      <td>196.0</td>\n",
       "      <td>10.4</td>\n",
       "      <td>817.9</td>\n",
       "      <td>813.4</td>\n",
       "      <td>28</td>\n",
       "      <td>31.18</td>\n",
       "    </tr>\n",
       "    <tr>\n",
       "      <th>908</th>\n",
       "      <td>148.5</td>\n",
       "      <td>139.4</td>\n",
       "      <td>108.6</td>\n",
       "      <td>192.7</td>\n",
       "      <td>6.1</td>\n",
       "      <td>892.4</td>\n",
       "      <td>780.0</td>\n",
       "      <td>28</td>\n",
       "      <td>23.70</td>\n",
       "    </tr>\n",
       "    <tr>\n",
       "      <th>909</th>\n",
       "      <td>159.1</td>\n",
       "      <td>186.7</td>\n",
       "      <td>0.0</td>\n",
       "      <td>175.6</td>\n",
       "      <td>11.3</td>\n",
       "      <td>989.6</td>\n",
       "      <td>788.9</td>\n",
       "      <td>28</td>\n",
       "      <td>32.77</td>\n",
       "    </tr>\n",
       "    <tr>\n",
       "      <th>910</th>\n",
       "      <td>260.9</td>\n",
       "      <td>100.5</td>\n",
       "      <td>78.3</td>\n",
       "      <td>200.6</td>\n",
       "      <td>8.6</td>\n",
       "      <td>864.5</td>\n",
       "      <td>761.5</td>\n",
       "      <td>28</td>\n",
       "      <td>32.40</td>\n",
       "    </tr>\n",
       "  </tbody>\n",
       "</table>\n",
       "<p>911 rows × 9 columns</p>\n",
       "</div>"
      ],
      "text/plain": [
       "     Cement  Blast Furnace Slag  Fly Ash  Water  Superplasticizer  \\\n",
       "0     540.0                 0.0      0.0  162.0               2.5   \n",
       "1     266.0               114.0      0.0  228.0               0.0   \n",
       "2     380.0                95.0      0.0  228.0               0.0   \n",
       "3     266.0               114.0      0.0  228.0               0.0   \n",
       "4     475.0                 0.0      0.0  228.0               0.0   \n",
       "..      ...                 ...      ...    ...               ...   \n",
       "906   276.4               116.0     90.3  179.6               8.9   \n",
       "907   322.2                 0.0    115.6  196.0              10.4   \n",
       "908   148.5               139.4    108.6  192.7               6.1   \n",
       "909   159.1               186.7      0.0  175.6              11.3   \n",
       "910   260.9               100.5     78.3  200.6               8.6   \n",
       "\n",
       "     Coarse Aggregate  Fine Aggregate  Age  Strength  \n",
       "0              1055.0           676.0   28     61.89  \n",
       "1               932.0           670.0   90     47.03  \n",
       "2               932.0           594.0   28     36.45  \n",
       "3               932.0           670.0   28     45.85  \n",
       "4               932.0           594.0   28     39.29  \n",
       "..                ...             ...  ...       ...  \n",
       "906             870.1           768.3   28     44.28  \n",
       "907             817.9           813.4   28     31.18  \n",
       "908             892.4           780.0   28     23.70  \n",
       "909             989.6           788.9   28     32.77  \n",
       "910             864.5           761.5   28     32.40  \n",
       "\n",
       "[911 rows x 9 columns]"
      ]
     },
     "execution_count": 2,
     "metadata": {},
     "output_type": "execute_result"
    }
   ],
   "source": [
    "train = pd.read_csv(\"../input/eda-concrete-strength/Filtered_dataset.csv\")\n",
    "train.drop([\"Unnamed: 0\"],axis=1,inplace=True)\n",
    "train"
   ]
  },
  {
   "cell_type": "code",
   "execution_count": 3,
   "id": "d01694b9",
   "metadata": {
    "execution": {
     "iopub.execute_input": "2022-02-02T15:39:41.206288Z",
     "iopub.status.busy": "2022-02-02T15:39:41.205499Z",
     "iopub.status.idle": "2022-02-02T15:39:41.221459Z",
     "shell.execute_reply": "2022-02-02T15:39:41.220963Z",
     "shell.execute_reply.started": "2022-02-02T15:33:53.716046Z"
    },
    "papermill": {
     "duration": 0.030919,
     "end_time": "2022-02-02T15:39:41.221575",
     "exception": false,
     "start_time": "2022-02-02T15:39:41.190656",
     "status": "completed"
    },
    "tags": []
   },
   "outputs": [
    {
     "name": "stdout",
     "output_type": "stream",
     "text": [
      "<class 'pandas.core.frame.DataFrame'>\n",
      "RangeIndex: 911 entries, 0 to 910\n",
      "Data columns (total 9 columns):\n",
      " #   Column              Non-Null Count  Dtype  \n",
      "---  ------              --------------  -----  \n",
      " 0   Cement              911 non-null    float64\n",
      " 1   Blast Furnace Slag  911 non-null    float64\n",
      " 2   Fly Ash             911 non-null    float64\n",
      " 3   Water               911 non-null    float64\n",
      " 4   Superplasticizer    911 non-null    float64\n",
      " 5   Coarse Aggregate    911 non-null    float64\n",
      " 6   Fine Aggregate      911 non-null    float64\n",
      " 7   Age                 911 non-null    int64  \n",
      " 8   Strength            911 non-null    float64\n",
      "dtypes: float64(8), int64(1)\n",
      "memory usage: 64.2 KB\n"
     ]
    }
   ],
   "source": [
    "train.info()"
   ]
  },
  {
   "cell_type": "code",
   "execution_count": 4,
   "id": "81e80f05",
   "metadata": {
    "execution": {
     "iopub.execute_input": "2022-02-02T15:39:41.252156Z",
     "iopub.status.busy": "2022-02-02T15:39:41.251465Z",
     "iopub.status.idle": "2022-02-02T15:39:41.253508Z",
     "shell.execute_reply": "2022-02-02T15:39:41.253918Z",
     "shell.execute_reply.started": "2022-02-02T15:33:54.964764Z"
    },
    "papermill": {
     "duration": 0.019459,
     "end_time": "2022-02-02T15:39:41.254037",
     "exception": false,
     "start_time": "2022-02-02T15:39:41.234578",
     "status": "completed"
    },
    "tags": []
   },
   "outputs": [],
   "source": [
    "x_train = train.drop(['Strength'],axis=1)\n",
    "y_train = train['Strength']"
   ]
  },
  {
   "cell_type": "code",
   "execution_count": 5,
   "id": "2f3a6a6b",
   "metadata": {
    "execution": {
     "iopub.execute_input": "2022-02-02T15:39:41.282708Z",
     "iopub.status.busy": "2022-02-02T15:39:41.281895Z",
     "iopub.status.idle": "2022-02-02T15:39:41.289021Z",
     "shell.execute_reply": "2022-02-02T15:39:41.288601Z"
    },
    "papermill": {
     "duration": 0.022341,
     "end_time": "2022-02-02T15:39:41.289119",
     "exception": false,
     "start_time": "2022-02-02T15:39:41.266778",
     "status": "completed"
    },
    "tags": []
   },
   "outputs": [],
   "source": [
    "scaler = StandardScaler()\n",
    "x_train = scaler.fit_transform(x_train)"
   ]
  },
  {
   "cell_type": "code",
   "execution_count": 6,
   "id": "237f96fc",
   "metadata": {
    "execution": {
     "iopub.execute_input": "2022-02-02T15:39:41.319403Z",
     "iopub.status.busy": "2022-02-02T15:39:41.318623Z",
     "iopub.status.idle": "2022-02-02T15:39:41.324123Z",
     "shell.execute_reply": "2022-02-02T15:39:41.325486Z",
     "shell.execute_reply.started": "2022-02-02T15:34:59.430436Z"
    },
    "papermill": {
     "duration": 0.023716,
     "end_time": "2022-02-02T15:39:41.325782",
     "exception": false,
     "start_time": "2022-02-02T15:39:41.302066",
     "status": "completed"
    },
    "tags": []
   },
   "outputs": [],
   "source": [
    "def check_rmse(model,x_val,y_val):\n",
    "    pred = model.predict(x_val)\n",
    "    return np.sqrt(mean_squared_error(y_val,pred))"
   ]
  },
  {
   "cell_type": "code",
   "execution_count": 7,
   "id": "c3721560",
   "metadata": {
    "execution": {
     "iopub.execute_input": "2022-02-02T15:39:41.378832Z",
     "iopub.status.busy": "2022-02-02T15:39:41.375680Z",
     "iopub.status.idle": "2022-02-02T15:39:41.380359Z",
     "shell.execute_reply": "2022-02-02T15:39:41.381058Z"
    },
    "papermill": {
     "duration": 0.031469,
     "end_time": "2022-02-02T15:39:41.381280",
     "exception": false,
     "start_time": "2022-02-02T15:39:41.349811",
     "status": "completed"
    },
    "tags": []
   },
   "outputs": [],
   "source": [
    "def check_r2(model,x_val,y_val):\n",
    "    pred = model.predict(x_val)\n",
    "    return (r2_score(y_val,pred))"
   ]
  },
  {
   "cell_type": "code",
   "execution_count": 8,
   "id": "eb53b8e3",
   "metadata": {
    "execution": {
     "iopub.execute_input": "2022-02-02T15:39:41.432855Z",
     "iopub.status.busy": "2022-02-02T15:39:41.427479Z",
     "iopub.status.idle": "2022-02-02T15:39:41.434055Z",
     "shell.execute_reply": "2022-02-02T15:39:41.434487Z",
     "shell.execute_reply.started": "2022-02-02T15:34:09.029572Z"
    },
    "papermill": {
     "duration": 0.034168,
     "end_time": "2022-02-02T15:39:41.434632",
     "exception": false,
     "start_time": "2022-02-02T15:39:41.400464",
     "status": "completed"
    },
    "tags": []
   },
   "outputs": [],
   "source": [
    "X_train,X_val,Y_train,Y_val = train_test_split(x_train,y_train,random_state=26)"
   ]
  },
  {
   "cell_type": "markdown",
   "id": "122fe345",
   "metadata": {
    "papermill": {
     "duration": 0.013232,
     "end_time": "2022-02-02T15:39:41.461330",
     "exception": false,
     "start_time": "2022-02-02T15:39:41.448098",
     "status": "completed"
    },
    "tags": []
   },
   "source": [
    "## Parameter tuning"
   ]
  },
  {
   "cell_type": "code",
   "execution_count": 9,
   "id": "07341232",
   "metadata": {
    "execution": {
     "iopub.execute_input": "2022-02-02T15:39:41.495258Z",
     "iopub.status.busy": "2022-02-02T15:39:41.494364Z",
     "iopub.status.idle": "2022-02-02T15:39:41.496207Z",
     "shell.execute_reply": "2022-02-02T15:39:41.496628Z",
     "shell.execute_reply.started": "2022-02-01T14:50:04.404228Z"
    },
    "papermill": {
     "duration": 0.021993,
     "end_time": "2022-02-02T15:39:41.496758",
     "exception": false,
     "start_time": "2022-02-02T15:39:41.474765",
     "status": "completed"
    },
    "tags": []
   },
   "outputs": [],
   "source": [
    "def hyperParameterTuning(X_train, Y_train):\n",
    "    param_tuning = {\n",
    "        'objective': ['reg:squarederror'],\n",
    "        'colsample_bytree': [0.5, 0.7],\n",
    "        'subsample': [0.5, 0.99],\n",
    "        'learning_rate': [0.01, 0.05, 0.1],\n",
    "        'max_depth': [2, 5,7],\n",
    "        'min_child_weight': [0, 1, 2],\n",
    "        'n_estimators' : [700, 1000]\n",
    "    }\n",
    "\n",
    "    xgb_model = XGBRegressor(tree_method='gpu_hist')\n",
    "\n",
    "    gsearch = GridSearchCV(estimator = xgb_model,\n",
    "                           param_grid = param_tuning,                        \n",
    "                           scoring = 'neg_mean_absolute_error', #MAE\n",
    "                           #scoring = 'neg_mean_squared_error',  #MSE\n",
    "                           cv = 4,\n",
    "                           n_jobs = -1,\n",
    "                           verbose = 0)\n",
    "\n",
    "    gsearch.fit(X_train,Y_train)\n",
    "\n",
    "    return gsearch.best_params_\n"
   ]
  },
  {
   "cell_type": "code",
   "execution_count": 10,
   "id": "ab8d76a8",
   "metadata": {
    "_kg_hide-output": true,
    "execution": {
     "iopub.execute_input": "2022-02-02T15:39:41.528663Z",
     "iopub.status.busy": "2022-02-02T15:39:41.528078Z",
     "iopub.status.idle": "2022-02-02T16:17:07.090620Z",
     "shell.execute_reply": "2022-02-02T16:17:07.089766Z",
     "shell.execute_reply.started": "2022-02-01T14:50:36.379613Z"
    },
    "papermill": {
     "duration": 2245.581057,
     "end_time": "2022-02-02T16:17:07.090807",
     "exception": false,
     "start_time": "2022-02-02T15:39:41.509750",
     "status": "completed"
    },
    "scrolled": true,
    "tags": []
   },
   "outputs": [
    {
     "name": "stdout",
     "output_type": "stream",
     "text": [
      "CPU times: user 4.91 s, sys: 533 ms, total: 5.44 s\n",
      "Wall time: 37min 25s\n"
     ]
    },
    {
     "data": {
      "text/plain": [
       "{'colsample_bytree': 0.5,\n",
       " 'learning_rate': 0.1,\n",
       " 'max_depth': 2,\n",
       " 'min_child_weight': 2,\n",
       " 'n_estimators': 700,\n",
       " 'objective': 'reg:squarederror',\n",
       " 'subsample': 0.5}"
      ]
     },
     "execution_count": 10,
     "metadata": {},
     "output_type": "execute_result"
    }
   ],
   "source": [
    "%%time\n",
    "params = hyperParameterTuning(x_train, y_train)\n",
    "params"
   ]
  },
  {
   "cell_type": "code",
   "execution_count": 11,
   "id": "9bd8d09a",
   "metadata": {
    "execution": {
     "iopub.execute_input": "2022-02-02T16:17:07.147479Z",
     "iopub.status.busy": "2022-02-02T16:17:07.146839Z",
     "iopub.status.idle": "2022-02-02T16:17:07.148875Z",
     "shell.execute_reply": "2022-02-02T16:17:07.149366Z",
     "shell.execute_reply.started": "2022-02-02T15:34:24.605398Z"
    },
    "papermill": {
     "duration": 0.033755,
     "end_time": "2022-02-02T16:17:07.149561",
     "exception": false,
     "start_time": "2022-02-02T16:17:07.115806",
     "status": "completed"
    },
    "tags": []
   },
   "outputs": [],
   "source": [
    "# You can modify add or delete the paramameters and their range in the function for getting best values for the dataset\n",
    "# I have also added a model with parameter tuning done before hand as the more parameter you add, the more time it takes\n",
    "model1 =  XGBRegressor(**params,tree_method='gpu_hist')\n",
    "\n",
    "model2 =  XGBRegressor(learning_rate=0.01,\n",
    "                           n_estimators=3000,\n",
    "                           max_depth=5, \n",
    "                           min_child_weight=0,\n",
    "                           gamma=0, \n",
    "                           subsample=0.7,                                \n",
    "                           colsample_bytree=0.7,                                     \n",
    "                           objective='reg:squarederror',                                \n",
    "                           scale_pos_weight=1, \n",
    "                           seed=27,                                     \n",
    "                           reg_alpha=0.00006,\n",
    "                           tree_method='gpu_hist')"
   ]
  },
  {
   "cell_type": "code",
   "execution_count": 12,
   "id": "a5dcf2d9",
   "metadata": {
    "execution": {
     "iopub.execute_input": "2022-02-02T16:17:07.214925Z",
     "iopub.status.busy": "2022-02-02T16:17:07.212619Z",
     "iopub.status.idle": "2022-02-02T16:17:07.911287Z",
     "shell.execute_reply": "2022-02-02T16:17:07.911851Z",
     "shell.execute_reply.started": "2022-02-02T15:21:04.490081Z"
    },
    "papermill": {
     "duration": 0.739481,
     "end_time": "2022-02-02T16:17:07.912003",
     "exception": false,
     "start_time": "2022-02-02T16:17:07.172522",
     "status": "completed"
    },
    "tags": []
   },
   "outputs": [
    {
     "data": {
      "text/plain": [
       "XGBRegressor(base_score=0.5, booster='gbtree', colsample_bylevel=1,\n",
       "             colsample_bynode=1, colsample_bytree=0.5, enable_categorical=False,\n",
       "             gamma=0, gpu_id=0, importance_type=None,\n",
       "             interaction_constraints='', learning_rate=0.1, max_delta_step=0,\n",
       "             max_depth=2, min_child_weight=2, missing=nan,\n",
       "             monotone_constraints='()', n_estimators=700, n_jobs=2,\n",
       "             num_parallel_tree=1, predictor='auto', random_state=0, reg_alpha=0,\n",
       "             reg_lambda=1, scale_pos_weight=1, subsample=0.5,\n",
       "             tree_method='gpu_hist', validate_parameters=1, verbosity=None)"
      ]
     },
     "execution_count": 12,
     "metadata": {},
     "output_type": "execute_result"
    }
   ],
   "source": [
    "model1.fit(X_train, Y_train, early_stopping_rounds=50, eval_set=[(X_val, Y_val)], verbose=False)"
   ]
  },
  {
   "cell_type": "code",
   "execution_count": 13,
   "id": "a3847c18",
   "metadata": {
    "execution": {
     "iopub.execute_input": "2022-02-02T16:17:07.951060Z",
     "iopub.status.busy": "2022-02-02T16:17:07.950446Z",
     "iopub.status.idle": "2022-02-02T16:17:11.097553Z",
     "shell.execute_reply": "2022-02-02T16:17:11.097093Z",
     "shell.execute_reply.started": "2022-02-02T15:34:27.570609Z"
    },
    "papermill": {
     "duration": 3.171442,
     "end_time": "2022-02-02T16:17:11.097687",
     "exception": false,
     "start_time": "2022-02-02T16:17:07.926245",
     "status": "completed"
    },
    "tags": []
   },
   "outputs": [
    {
     "data": {
      "text/plain": [
       "XGBRegressor(base_score=0.5, booster='gbtree', colsample_bylevel=1,\n",
       "             colsample_bynode=1, colsample_bytree=0.7, enable_categorical=False,\n",
       "             gamma=0, gpu_id=0, importance_type=None,\n",
       "             interaction_constraints='', learning_rate=0.01, max_delta_step=0,\n",
       "             max_depth=5, min_child_weight=0, missing=nan,\n",
       "             monotone_constraints='()', n_estimators=3000, n_jobs=2,\n",
       "             num_parallel_tree=1, predictor='auto', random_state=27,\n",
       "             reg_alpha=6e-05, reg_lambda=1, scale_pos_weight=1, seed=27,\n",
       "             subsample=0.7, tree_method='gpu_hist', validate_parameters=1,\n",
       "             verbosity=None)"
      ]
     },
     "execution_count": 13,
     "metadata": {},
     "output_type": "execute_result"
    }
   ],
   "source": [
    "model2.fit(X_train, Y_train, early_stopping_rounds=50, eval_set=[(X_val, Y_val)], verbose=False)"
   ]
  },
  {
   "cell_type": "code",
   "execution_count": 14,
   "id": "b2ea4639",
   "metadata": {
    "execution": {
     "iopub.execute_input": "2022-02-02T16:17:11.139570Z",
     "iopub.status.busy": "2022-02-02T16:17:11.138920Z",
     "iopub.status.idle": "2022-02-02T16:17:11.143896Z",
     "shell.execute_reply": "2022-02-02T16:17:11.144305Z",
     "shell.execute_reply.started": "2022-02-02T15:25:09.034417Z"
    },
    "papermill": {
     "duration": 0.032265,
     "end_time": "2022-02-02T16:17:11.144468",
     "exception": false,
     "start_time": "2022-02-02T16:17:11.112203",
     "status": "completed"
    },
    "tags": []
   },
   "outputs": [
    {
     "name": "stdout",
     "output_type": "stream",
     "text": [
      "Rmse for model 1 : 4.755855160235109\n",
      "Rmse for model 2 : 4.551235108831921\n"
     ]
    }
   ],
   "source": [
    "print(f\"Rmse for model 1 : {check_rmse(model1,X_val,Y_val)}\")\n",
    "print(f\"Rmse for model 2 : {check_rmse(model2,X_val,Y_val)}\")"
   ]
  },
  {
   "cell_type": "code",
   "execution_count": 15,
   "id": "6ef8a955",
   "metadata": {
    "execution": {
     "iopub.execute_input": "2022-02-02T16:17:11.179911Z",
     "iopub.status.busy": "2022-02-02T16:17:11.179229Z",
     "iopub.status.idle": "2022-02-02T16:17:11.191085Z",
     "shell.execute_reply": "2022-02-02T16:17:11.191794Z",
     "shell.execute_reply.started": "2022-02-02T15:35:08.026418Z"
    },
    "papermill": {
     "duration": 0.031688,
     "end_time": "2022-02-02T16:17:11.191945",
     "exception": false,
     "start_time": "2022-02-02T16:17:11.160257",
     "status": "completed"
    },
    "tags": []
   },
   "outputs": [
    {
     "name": "stdout",
     "output_type": "stream",
     "text": [
      "R2 Score for model 1 : 0.9120688566767767\n",
      "R2 Score for model 2 : 0.9194725359397369\n"
     ]
    }
   ],
   "source": [
    "print(f\"R2 Score for model 1 : {check_r2(model1,X_val,Y_val)}\")\n",
    "print(f\"R2 Score for model 2 : {check_r2(model2,X_val,Y_val)}\")"
   ]
  },
  {
   "cell_type": "code",
   "execution_count": null,
   "id": "fbe897c0",
   "metadata": {
    "papermill": {
     "duration": 0.014775,
     "end_time": "2022-02-02T16:17:11.223438",
     "exception": false,
     "start_time": "2022-02-02T16:17:11.208663",
     "status": "completed"
    },
    "tags": []
   },
   "outputs": [],
   "source": []
  }
 ],
 "metadata": {
  "kernelspec": {
   "display_name": "Python 3",
   "language": "python",
   "name": "python3"
  },
  "language_info": {
   "codemirror_mode": {
    "name": "ipython",
    "version": 3
   },
   "file_extension": ".py",
   "mimetype": "text/x-python",
   "name": "python",
   "nbconvert_exporter": "python",
   "pygments_lexer": "ipython3",
   "version": "3.7.12"
  },
  "papermill": {
   "default_parameters": {},
   "duration": 2261.263417,
   "end_time": "2022-02-02T16:17:12.954025",
   "environment_variables": {},
   "exception": null,
   "input_path": "__notebook__.ipynb",
   "output_path": "__notebook__.ipynb",
   "parameters": {},
   "start_time": "2022-02-02T15:39:31.690608",
   "version": "2.3.3"
  }
 },
 "nbformat": 4,
 "nbformat_minor": 5
}
