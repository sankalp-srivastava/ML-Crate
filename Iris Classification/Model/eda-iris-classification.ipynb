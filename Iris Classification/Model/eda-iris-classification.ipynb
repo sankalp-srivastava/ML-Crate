{
 "cells": [
  {
   "cell_type": "markdown",
   "id": "eaefc2a3",
   "metadata": {
    "papermill": {
     "duration": 0.017319,
     "end_time": "2021-12-17T14:59:07.662794",
     "exception": false,
     "start_time": "2021-12-17T14:59:07.645475",
     "status": "completed"
    },
    "tags": []
   },
   "source": [
    "## Importing Libraries"
   ]
  },
  {
   "cell_type": "code",
   "execution_count": 1,
   "id": "d4e07aa4",
   "metadata": {
    "execution": {
     "iopub.execute_input": "2021-12-17T14:59:07.702139Z",
     "iopub.status.busy": "2021-12-17T14:59:07.700329Z",
     "iopub.status.idle": "2021-12-17T14:59:08.770787Z",
     "shell.execute_reply": "2021-12-17T14:59:08.769596Z",
     "shell.execute_reply.started": "2021-12-17T14:14:47.003888Z"
    },
    "papermill": {
     "duration": 1.091156,
     "end_time": "2021-12-17T14:59:08.770983",
     "exception": false,
     "start_time": "2021-12-17T14:59:07.679827",
     "status": "completed"
    },
    "tags": []
   },
   "outputs": [],
   "source": [
    "from urllib.request import urlretrieve\n",
    "import pandas as pd\n",
    "import matplotlib.pyplot as plt\n",
    "import seaborn as sns\n",
    "import numpy as np"
   ]
  },
  {
   "cell_type": "markdown",
   "id": "b017f99f",
   "metadata": {
    "papermill": {
     "duration": 0.015678,
     "end_time": "2021-12-17T14:59:08.803263",
     "exception": false,
     "start_time": "2021-12-17T14:59:08.787585",
     "status": "completed"
    },
    "tags": []
   },
   "source": [
    "## Downloading Dataset"
   ]
  },
  {
   "cell_type": "code",
   "execution_count": 2,
   "id": "5175f969",
   "metadata": {
    "execution": {
     "iopub.execute_input": "2021-12-17T14:59:08.840339Z",
     "iopub.status.busy": "2021-12-17T14:59:08.839301Z",
     "iopub.status.idle": "2021-12-17T14:59:09.146970Z",
     "shell.execute_reply": "2021-12-17T14:59:09.147479Z",
     "shell.execute_reply.started": "2021-12-17T14:13:45.797685Z"
    },
    "papermill": {
     "duration": 0.32851,
     "end_time": "2021-12-17T14:59:09.147702",
     "exception": false,
     "start_time": "2021-12-17T14:59:08.819192",
     "status": "completed"
    },
    "tags": []
   },
   "outputs": [
    {
     "data": {
      "text/plain": [
       "('/tmp/tmpj6m02iqc', <http.client.HTTPMessage at 0x7f371215a090>)"
      ]
     },
     "execution_count": 2,
     "metadata": {},
     "output_type": "execute_result"
    }
   ],
   "source": [
    "iris = 'http://archive.ics.uci.edu/ml/machine-learning-databases/iris/iris.data'\n",
    "urlretrieve(iris)"
   ]
  },
  {
   "cell_type": "markdown",
   "id": "96c1b8ae",
   "metadata": {
    "papermill": {
     "duration": 0.017268,
     "end_time": "2021-12-17T14:59:09.182793",
     "exception": false,
     "start_time": "2021-12-17T14:59:09.165525",
     "status": "completed"
    },
    "tags": []
   },
   "source": [
    "## EDA"
   ]
  },
  {
   "cell_type": "code",
   "execution_count": 3,
   "id": "c50da17c",
   "metadata": {
    "execution": {
     "iopub.execute_input": "2021-12-17T14:59:09.222363Z",
     "iopub.status.busy": "2021-12-17T14:59:09.221668Z",
     "iopub.status.idle": "2021-12-17T14:59:09.893517Z",
     "shell.execute_reply": "2021-12-17T14:59:09.894184Z",
     "shell.execute_reply.started": "2021-12-17T14:14:26.855643Z"
    },
    "papermill": {
     "duration": 0.694945,
     "end_time": "2021-12-17T14:59:09.894360",
     "exception": false,
     "start_time": "2021-12-17T14:59:09.199415",
     "status": "completed"
    },
    "tags": []
   },
   "outputs": [],
   "source": [
    "df = pd.read_csv(iris, sep=',')"
   ]
  },
  {
   "cell_type": "code",
   "execution_count": 4,
   "id": "a3a8eeb2",
   "metadata": {
    "execution": {
     "iopub.execute_input": "2021-12-17T14:59:09.931799Z",
     "iopub.status.busy": "2021-12-17T14:59:09.931046Z",
     "iopub.status.idle": "2021-12-17T14:59:09.935271Z",
     "shell.execute_reply": "2021-12-17T14:59:09.935941Z",
     "shell.execute_reply.started": "2021-12-17T14:14:49.717277Z"
    },
    "papermill": {
     "duration": 0.024976,
     "end_time": "2021-12-17T14:59:09.936144",
     "exception": false,
     "start_time": "2021-12-17T14:59:09.911168",
     "status": "completed"
    },
    "tags": []
   },
   "outputs": [],
   "source": [
    "attributes = [\"sepal_length\", \"sepal_width\", \"petal_length\", \"petal_width\", \"class\"]\n",
    "df.columns = attributes"
   ]
  },
  {
   "cell_type": "code",
   "execution_count": 5,
   "id": "7574fa6b",
   "metadata": {
    "execution": {
     "iopub.execute_input": "2021-12-17T14:59:09.973074Z",
     "iopub.status.busy": "2021-12-17T14:59:09.972362Z",
     "iopub.status.idle": "2021-12-17T14:59:09.994592Z",
     "shell.execute_reply": "2021-12-17T14:59:09.993991Z",
     "shell.execute_reply.started": "2021-12-17T14:14:56.488288Z"
    },
    "papermill": {
     "duration": 0.041559,
     "end_time": "2021-12-17T14:59:09.994754",
     "exception": false,
     "start_time": "2021-12-17T14:59:09.953195",
     "status": "completed"
    },
    "tags": []
   },
   "outputs": [
    {
     "data": {
      "text/html": [
       "<div>\n",
       "<style scoped>\n",
       "    .dataframe tbody tr th:only-of-type {\n",
       "        vertical-align: middle;\n",
       "    }\n",
       "\n",
       "    .dataframe tbody tr th {\n",
       "        vertical-align: top;\n",
       "    }\n",
       "\n",
       "    .dataframe thead th {\n",
       "        text-align: right;\n",
       "    }\n",
       "</style>\n",
       "<table border=\"1\" class=\"dataframe\">\n",
       "  <thead>\n",
       "    <tr style=\"text-align: right;\">\n",
       "      <th></th>\n",
       "      <th>sepal_length</th>\n",
       "      <th>sepal_width</th>\n",
       "      <th>petal_length</th>\n",
       "      <th>petal_width</th>\n",
       "      <th>class</th>\n",
       "    </tr>\n",
       "  </thead>\n",
       "  <tbody>\n",
       "    <tr>\n",
       "      <th>0</th>\n",
       "      <td>4.9</td>\n",
       "      <td>3.0</td>\n",
       "      <td>1.4</td>\n",
       "      <td>0.2</td>\n",
       "      <td>Iris-setosa</td>\n",
       "    </tr>\n",
       "    <tr>\n",
       "      <th>1</th>\n",
       "      <td>4.7</td>\n",
       "      <td>3.2</td>\n",
       "      <td>1.3</td>\n",
       "      <td>0.2</td>\n",
       "      <td>Iris-setosa</td>\n",
       "    </tr>\n",
       "    <tr>\n",
       "      <th>2</th>\n",
       "      <td>4.6</td>\n",
       "      <td>3.1</td>\n",
       "      <td>1.5</td>\n",
       "      <td>0.2</td>\n",
       "      <td>Iris-setosa</td>\n",
       "    </tr>\n",
       "    <tr>\n",
       "      <th>3</th>\n",
       "      <td>5.0</td>\n",
       "      <td>3.6</td>\n",
       "      <td>1.4</td>\n",
       "      <td>0.2</td>\n",
       "      <td>Iris-setosa</td>\n",
       "    </tr>\n",
       "    <tr>\n",
       "      <th>4</th>\n",
       "      <td>5.4</td>\n",
       "      <td>3.9</td>\n",
       "      <td>1.7</td>\n",
       "      <td>0.4</td>\n",
       "      <td>Iris-setosa</td>\n",
       "    </tr>\n",
       "  </tbody>\n",
       "</table>\n",
       "</div>"
      ],
      "text/plain": [
       "   sepal_length  sepal_width  petal_length  petal_width        class\n",
       "0           4.9          3.0           1.4          0.2  Iris-setosa\n",
       "1           4.7          3.2           1.3          0.2  Iris-setosa\n",
       "2           4.6          3.1           1.5          0.2  Iris-setosa\n",
       "3           5.0          3.6           1.4          0.2  Iris-setosa\n",
       "4           5.4          3.9           1.7          0.4  Iris-setosa"
      ]
     },
     "execution_count": 5,
     "metadata": {},
     "output_type": "execute_result"
    }
   ],
   "source": [
    "df.head()"
   ]
  },
  {
   "cell_type": "code",
   "execution_count": 6,
   "id": "7dcf8100",
   "metadata": {
    "execution": {
     "iopub.execute_input": "2021-12-17T14:59:10.031839Z",
     "iopub.status.busy": "2021-12-17T14:59:10.031179Z",
     "iopub.status.idle": "2021-12-17T14:59:10.054221Z",
     "shell.execute_reply": "2021-12-17T14:59:10.054809Z",
     "shell.execute_reply.started": "2021-12-17T14:15:08.663599Z"
    },
    "papermill": {
     "duration": 0.043245,
     "end_time": "2021-12-17T14:59:10.055029",
     "exception": false,
     "start_time": "2021-12-17T14:59:10.011784",
     "status": "completed"
    },
    "tags": []
   },
   "outputs": [
    {
     "name": "stdout",
     "output_type": "stream",
     "text": [
      "<class 'pandas.core.frame.DataFrame'>\n",
      "RangeIndex: 149 entries, 0 to 148\n",
      "Data columns (total 5 columns):\n",
      " #   Column        Non-Null Count  Dtype  \n",
      "---  ------        --------------  -----  \n",
      " 0   sepal_length  149 non-null    float64\n",
      " 1   sepal_width   149 non-null    float64\n",
      " 2   petal_length  149 non-null    float64\n",
      " 3   petal_width   149 non-null    float64\n",
      " 4   class         149 non-null    object \n",
      "dtypes: float64(4), object(1)\n",
      "memory usage: 5.9+ KB\n"
     ]
    }
   ],
   "source": [
    "df.info()"
   ]
  },
  {
   "cell_type": "code",
   "execution_count": 7,
   "id": "4b40e407",
   "metadata": {
    "execution": {
     "iopub.execute_input": "2021-12-17T14:59:10.093463Z",
     "iopub.status.busy": "2021-12-17T14:59:10.092805Z",
     "iopub.status.idle": "2021-12-17T14:59:10.115687Z",
     "shell.execute_reply": "2021-12-17T14:59:10.116193Z",
     "shell.execute_reply.started": "2021-12-17T14:15:23.032587Z"
    },
    "papermill": {
     "duration": 0.043617,
     "end_time": "2021-12-17T14:59:10.116377",
     "exception": false,
     "start_time": "2021-12-17T14:59:10.072760",
     "status": "completed"
    },
    "tags": []
   },
   "outputs": [
    {
     "data": {
      "text/html": [
       "<div>\n",
       "<style scoped>\n",
       "    .dataframe tbody tr th:only-of-type {\n",
       "        vertical-align: middle;\n",
       "    }\n",
       "\n",
       "    .dataframe tbody tr th {\n",
       "        vertical-align: top;\n",
       "    }\n",
       "\n",
       "    .dataframe thead th {\n",
       "        text-align: right;\n",
       "    }\n",
       "</style>\n",
       "<table border=\"1\" class=\"dataframe\">\n",
       "  <thead>\n",
       "    <tr style=\"text-align: right;\">\n",
       "      <th></th>\n",
       "      <th>sepal_length</th>\n",
       "      <th>sepal_width</th>\n",
       "      <th>petal_length</th>\n",
       "      <th>petal_width</th>\n",
       "    </tr>\n",
       "  </thead>\n",
       "  <tbody>\n",
       "    <tr>\n",
       "      <th>count</th>\n",
       "      <td>149.000000</td>\n",
       "      <td>149.000000</td>\n",
       "      <td>149.000000</td>\n",
       "      <td>149.000000</td>\n",
       "    </tr>\n",
       "    <tr>\n",
       "      <th>mean</th>\n",
       "      <td>5.848322</td>\n",
       "      <td>3.051007</td>\n",
       "      <td>3.774497</td>\n",
       "      <td>1.205369</td>\n",
       "    </tr>\n",
       "    <tr>\n",
       "      <th>std</th>\n",
       "      <td>0.828594</td>\n",
       "      <td>0.433499</td>\n",
       "      <td>1.759651</td>\n",
       "      <td>0.761292</td>\n",
       "    </tr>\n",
       "    <tr>\n",
       "      <th>min</th>\n",
       "      <td>4.300000</td>\n",
       "      <td>2.000000</td>\n",
       "      <td>1.000000</td>\n",
       "      <td>0.100000</td>\n",
       "    </tr>\n",
       "    <tr>\n",
       "      <th>25%</th>\n",
       "      <td>5.100000</td>\n",
       "      <td>2.800000</td>\n",
       "      <td>1.600000</td>\n",
       "      <td>0.300000</td>\n",
       "    </tr>\n",
       "    <tr>\n",
       "      <th>50%</th>\n",
       "      <td>5.800000</td>\n",
       "      <td>3.000000</td>\n",
       "      <td>4.400000</td>\n",
       "      <td>1.300000</td>\n",
       "    </tr>\n",
       "    <tr>\n",
       "      <th>75%</th>\n",
       "      <td>6.400000</td>\n",
       "      <td>3.300000</td>\n",
       "      <td>5.100000</td>\n",
       "      <td>1.800000</td>\n",
       "    </tr>\n",
       "    <tr>\n",
       "      <th>max</th>\n",
       "      <td>7.900000</td>\n",
       "      <td>4.400000</td>\n",
       "      <td>6.900000</td>\n",
       "      <td>2.500000</td>\n",
       "    </tr>\n",
       "  </tbody>\n",
       "</table>\n",
       "</div>"
      ],
      "text/plain": [
       "       sepal_length  sepal_width  petal_length  petal_width\n",
       "count    149.000000   149.000000    149.000000   149.000000\n",
       "mean       5.848322     3.051007      3.774497     1.205369\n",
       "std        0.828594     0.433499      1.759651     0.761292\n",
       "min        4.300000     2.000000      1.000000     0.100000\n",
       "25%        5.100000     2.800000      1.600000     0.300000\n",
       "50%        5.800000     3.000000      4.400000     1.300000\n",
       "75%        6.400000     3.300000      5.100000     1.800000\n",
       "max        7.900000     4.400000      6.900000     2.500000"
      ]
     },
     "execution_count": 7,
     "metadata": {},
     "output_type": "execute_result"
    }
   ],
   "source": [
    "df.describe()"
   ]
  },
  {
   "cell_type": "code",
   "execution_count": 8,
   "id": "da0a3ee8",
   "metadata": {
    "execution": {
     "iopub.execute_input": "2021-12-17T14:59:10.155878Z",
     "iopub.status.busy": "2021-12-17T14:59:10.155184Z",
     "iopub.status.idle": "2021-12-17T14:59:10.162085Z",
     "shell.execute_reply": "2021-12-17T14:59:10.162602Z",
     "shell.execute_reply.started": "2021-12-17T14:15:31.318367Z"
    },
    "papermill": {
     "duration": 0.028323,
     "end_time": "2021-12-17T14:59:10.162824",
     "exception": false,
     "start_time": "2021-12-17T14:59:10.134501",
     "status": "completed"
    },
    "tags": []
   },
   "outputs": [
    {
     "data": {
      "text/plain": [
       "sepal_length    0\n",
       "sepal_width     0\n",
       "petal_length    0\n",
       "petal_width     0\n",
       "class           0\n",
       "dtype: int64"
      ]
     },
     "execution_count": 8,
     "metadata": {},
     "output_type": "execute_result"
    }
   ],
   "source": [
    "# checking for null values\n",
    "df.isnull().sum()"
   ]
  },
  {
   "cell_type": "code",
   "execution_count": 9,
   "id": "2756eb3b",
   "metadata": {
    "execution": {
     "iopub.execute_input": "2021-12-17T14:59:10.203241Z",
     "iopub.status.busy": "2021-12-17T14:59:10.202354Z",
     "iopub.status.idle": "2021-12-17T14:59:10.209309Z",
     "shell.execute_reply": "2021-12-17T14:59:10.209865Z",
     "shell.execute_reply.started": "2021-12-17T14:16:11.795588Z"
    },
    "papermill": {
     "duration": 0.028728,
     "end_time": "2021-12-17T14:59:10.210047",
     "exception": false,
     "start_time": "2021-12-17T14:59:10.181319",
     "status": "completed"
    },
    "tags": []
   },
   "outputs": [
    {
     "data": {
      "text/plain": [
       "Iris-versicolor    50\n",
       "Iris-virginica     50\n",
       "Iris-setosa        49\n",
       "Name: class, dtype: int64"
      ]
     },
     "execution_count": 9,
     "metadata": {},
     "output_type": "execute_result"
    }
   ],
   "source": [
    "# number of classes present in the dataset\n",
    "df[\"class\"].value_counts()"
   ]
  },
  {
   "cell_type": "code",
   "execution_count": 10,
   "id": "4c887e13",
   "metadata": {
    "execution": {
     "iopub.execute_input": "2021-12-17T14:59:10.251037Z",
     "iopub.status.busy": "2021-12-17T14:59:10.250250Z",
     "iopub.status.idle": "2021-12-17T14:59:11.193771Z",
     "shell.execute_reply": "2021-12-17T14:59:11.194311Z",
     "shell.execute_reply.started": "2021-12-17T14:17:21.903963Z"
    },
    "papermill": {
     "duration": 0.965963,
     "end_time": "2021-12-17T14:59:11.194499",
     "exception": false,
     "start_time": "2021-12-17T14:59:10.228536",
     "status": "completed"
    },
    "tags": []
   },
   "outputs": [
    {
     "data": {
      "image/png": "[encoded data removed]",
      "text/plain": [
       "<Figure size 1080x576 with 4 Axes>"
      ]
     },
     "metadata": {
      "needs_background": "light"
     },
     "output_type": "display_data"
    }
   ],
   "source": [
    "# hist plot\n",
    "feature_col = df.drop(['class'],axis=1).columns\n",
    "f, ax = plt.subplots(ncols = 2, nrows = 2, figsize=(15,2*len(feature_col)))\n",
    "\n",
    "for i, c in zip(ax.flatten(), feature_col):\n",
    "    sns.histplot(df[c], ax = i)\n",
    "f.tight_layout()"
   ]
  },
  {
   "cell_type": "code",
   "execution_count": 11,
   "id": "5798070b",
   "metadata": {
    "execution": {
     "iopub.execute_input": "2021-12-17T14:59:11.237824Z",
     "iopub.status.busy": "2021-12-17T14:59:11.236798Z",
     "iopub.status.idle": "2021-12-17T14:59:11.592538Z",
     "shell.execute_reply": "2021-12-17T14:59:11.593252Z",
     "shell.execute_reply.started": "2021-12-17T14:17:37.317772Z"
    },
    "papermill": {
     "duration": 0.37938,
     "end_time": "2021-12-17T14:59:11.593452",
     "exception": false,
     "start_time": "2021-12-17T14:59:11.214072",
     "status": "completed"
    },
    "tags": []
   },
   "outputs": [
    {
     "data": {
      "image/png": "[encoded data removed]",
      "text/plain": [
       "<Figure size 1080x1080 with 2 Axes>"
      ]
     },
     "metadata": {},
     "output_type": "display_data"
    }
   ],
   "source": [
    "#  heatmap of correlation of columns with one another\n",
    "corr = df.corr()\n",
    "mask = np.zeros_like(corr)\n",
    "mask[np.triu_indices_from(mask)] = True\n",
    "with sns.axes_style(\"white\"):\n",
    "    f, ax = plt.subplots(figsize=(15, 15))\n",
    "    ax = sns.heatmap(corr, mask=mask, vmax=1,vmin=-1, square=True,cmap=\"YlGnBu\",center=0)"
   ]
  },
  {
   "cell_type": "code",
   "execution_count": 12,
   "id": "f51de4be",
   "metadata": {
    "execution": {
     "iopub.execute_input": "2021-12-17T14:59:11.638972Z",
     "iopub.status.busy": "2021-12-17T14:59:11.637963Z",
     "iopub.status.idle": "2021-12-17T14:59:11.649015Z",
     "shell.execute_reply": "2021-12-17T14:59:11.649604Z",
     "shell.execute_reply.started": "2021-12-17T14:26:50.299796Z"
    },
    "papermill": {
     "duration": 0.035365,
     "end_time": "2021-12-17T14:59:11.649822",
     "exception": false,
     "start_time": "2021-12-17T14:59:11.614457",
     "status": "completed"
    },
    "tags": []
   },
   "outputs": [
    {
     "data": {
      "text/html": [
       "<div>\n",
       "<style scoped>\n",
       "    .dataframe tbody tr th:only-of-type {\n",
       "        vertical-align: middle;\n",
       "    }\n",
       "\n",
       "    .dataframe tbody tr th {\n",
       "        vertical-align: top;\n",
       "    }\n",
       "\n",
       "    .dataframe thead th {\n",
       "        text-align: right;\n",
       "    }\n",
       "</style>\n",
       "<table border=\"1\" class=\"dataframe\">\n",
       "  <thead>\n",
       "    <tr style=\"text-align: right;\">\n",
       "      <th></th>\n",
       "      <th>sepal_length</th>\n",
       "      <th>sepal_width</th>\n",
       "      <th>petal_length</th>\n",
       "      <th>petal_width</th>\n",
       "    </tr>\n",
       "  </thead>\n",
       "  <tbody>\n",
       "    <tr>\n",
       "      <th>sepal_length</th>\n",
       "      <td>1.000000</td>\n",
       "      <td>-0.103784</td>\n",
       "      <td>0.871283</td>\n",
       "      <td>0.816971</td>\n",
       "    </tr>\n",
       "    <tr>\n",
       "      <th>sepal_width</th>\n",
       "      <td>-0.103784</td>\n",
       "      <td>1.000000</td>\n",
       "      <td>-0.415218</td>\n",
       "      <td>-0.350733</td>\n",
       "    </tr>\n",
       "    <tr>\n",
       "      <th>petal_length</th>\n",
       "      <td>0.871283</td>\n",
       "      <td>-0.415218</td>\n",
       "      <td>1.000000</td>\n",
       "      <td>0.962314</td>\n",
       "    </tr>\n",
       "    <tr>\n",
       "      <th>petal_width</th>\n",
       "      <td>0.816971</td>\n",
       "      <td>-0.350733</td>\n",
       "      <td>0.962314</td>\n",
       "      <td>1.000000</td>\n",
       "    </tr>\n",
       "  </tbody>\n",
       "</table>\n",
       "</div>"
      ],
      "text/plain": [
       "              sepal_length  sepal_width  petal_length  petal_width\n",
       "sepal_length      1.000000    -0.103784      0.871283     0.816971\n",
       "sepal_width      -0.103784     1.000000     -0.415218    -0.350733\n",
       "petal_length      0.871283    -0.415218      1.000000     0.962314\n",
       "petal_width       0.816971    -0.350733      0.962314     1.000000"
      ]
     },
     "execution_count": 12,
     "metadata": {},
     "output_type": "execute_result"
    }
   ],
   "source": [
    "corr"
   ]
  },
  {
   "cell_type": "code",
   "execution_count": 13,
   "id": "0183e485",
   "metadata": {
    "execution": {
     "iopub.execute_input": "2021-12-17T14:59:11.695685Z",
     "iopub.status.busy": "2021-12-17T14:59:11.694713Z",
     "iopub.status.idle": "2021-12-17T14:59:11.701383Z",
     "shell.execute_reply": "2021-12-17T14:59:11.701925Z",
     "shell.execute_reply.started": "2021-12-17T14:24:14.602820Z"
    },
    "papermill": {
     "duration": 0.031181,
     "end_time": "2021-12-17T14:59:11.702099",
     "exception": false,
     "start_time": "2021-12-17T14:59:11.670918",
     "status": "completed"
    },
    "tags": []
   },
   "outputs": [],
   "source": [
    "# grouping database having same class\n",
    "df_setosa = df.loc[df['class'] == \"Iris-setosa\"]\n",
    "df_versicolor = df.loc[df['class'] == \"Iris-versicolor\"]\n",
    "df_virginica = df.loc[df['class'] == \"Iris-virginica\"]"
   ]
  },
  {
   "cell_type": "code",
   "execution_count": 14,
   "id": "8af8e8ae",
   "metadata": {
    "execution": {
     "iopub.execute_input": "2021-12-17T14:59:11.750106Z",
     "iopub.status.busy": "2021-12-17T14:59:11.749404Z",
     "iopub.status.idle": "2021-12-17T14:59:11.752536Z",
     "shell.execute_reply": "2021-12-17T14:59:11.752014Z",
     "shell.execute_reply.started": "2021-12-17T14:36:47.688297Z"
    },
    "papermill": {
     "duration": 0.02893,
     "end_time": "2021-12-17T14:59:11.752702",
     "exception": false,
     "start_time": "2021-12-17T14:59:11.723772",
     "status": "completed"
    },
    "tags": []
   },
   "outputs": [],
   "source": [
    "feature_col = [\"sepal_length\",\"sepal_width\"\t,\"petal_length\",\"petal_width\"]"
   ]
  },
  {
   "cell_type": "code",
   "execution_count": 15,
   "id": "fc6d50ce",
   "metadata": {
    "execution": {
     "iopub.execute_input": "2021-12-17T14:59:11.804386Z",
     "iopub.status.busy": "2021-12-17T14:59:11.803595Z",
     "iopub.status.idle": "2021-12-17T14:59:13.464682Z",
     "shell.execute_reply": "2021-12-17T14:59:13.465202Z",
     "shell.execute_reply.started": "2021-12-17T14:53:02.015643Z"
    },
    "papermill": {
     "duration": 1.691342,
     "end_time": "2021-12-17T14:59:13.465385",
     "exception": false,
     "start_time": "2021-12-17T14:59:11.774043",
     "status": "completed"
    },
    "tags": []
   },
   "outputs": [
    {
     "data": {
      "image/png": "[encoded data removed]",
      "text/plain": [
       "<Figure size 1080x1080 with 6 Axes>"
      ]
     },
     "metadata": {
      "needs_background": "light"
     },
     "output_type": "display_data"
    }
   ],
   "source": [
    "# scatter plot between each coloumn\n",
    "i = 0\n",
    "j = 0\n",
    "f, ax = plt.subplots(ncols = 2, nrows = 3, figsize=(15,15))\n",
    "for x in range(3):\n",
    "    for y in range(i+1,4):\n",
    "        ax[i][j].scatter(df_setosa[feature_col[x]],df_setosa[feature_col[y]])\n",
    "        ax[i][j].scatter(df_versicolor[feature_col[x]],df_versicolor[feature_col[y]])\n",
    "        ax[i][j].scatter(df_virginica[feature_col[x]],df_virginica[feature_col[y]])\n",
    "        ax[i][j].set_xlabel(f'{feature_col[x]}')\n",
    "        ax[i][j].set_ylabel(f'{feature_col[y]}')\n",
    "        ax[i][j].legend([\"Iris-versicolor\",\"Iris-virginica\",\"Iris-setosa\"])\n",
    "        if j==0:\n",
    "            j=1\n",
    "        else:\n",
    "            j=0\n",
    "            i+=1\n",
    "\n",
    "f.tight_layout()\n",
    "plt.show()"
   ]
  },
  {
   "cell_type": "markdown",
   "id": "4891ede3",
   "metadata": {
    "papermill": {
     "duration": 0.023823,
     "end_time": "2021-12-17T14:59:13.512701",
     "exception": false,
     "start_time": "2021-12-17T14:59:13.488878",
     "status": "completed"
    },
    "tags": []
   },
   "source": [
    "## Conclusion"
   ]
  },
  {
   "cell_type": "markdown",
   "id": "804de239",
   "metadata": {
    "papermill": {
     "duration": 0.023125,
     "end_time": "2021-12-17T14:59:13.560392",
     "exception": false,
     "start_time": "2021-12-17T14:59:13.537267",
     "status": "completed"
    },
    "tags": []
   },
   "source": [
    "* We see that Iris-versicolor is easily linearly separable\n",
    "* Correlation between pedal width and pedal_length is maximum meaning they are highly related."
   ]
  },
  {
   "cell_type": "code",
   "execution_count": null,
   "id": "13ea7b9d",
   "metadata": {
    "papermill": {
     "duration": 0.023038,
     "end_time": "2021-12-17T14:59:13.607062",
     "exception": false,
     "start_time": "2021-12-17T14:59:13.584024",
     "status": "completed"
    },
    "tags": []
   },
   "outputs": [],
   "source": []
  }
 ],
 "metadata": {
  "kernelspec": {
   "display_name": "Python 3",
   "language": "python",
   "name": "python3"
  },
  "language_info": {
   "codemirror_mode": {
    "name": "ipython",
    "version": 3
   },
   "file_extension": ".py",
   "mimetype": "text/x-python",
   "name": "python",
   "nbconvert_exporter": "python",
   "pygments_lexer": "ipython3",
   "version": "3.7.12"
  },
  "papermill": {
   "default_parameters": {},
   "duration": 17.127862,
   "end_time": "2021-12-17T14:59:14.342348",
   "environment_variables": {},
   "exception": null,
   "input_path": "__notebook__.ipynb",
   "output_path": "__notebook__.ipynb",
   "parameters": {},
   "start_time": "2021-12-17T14:58:57.214486",
   "version": "2.3.3"
  }
 },
 "nbformat": 4,
 "nbformat_minor": 5
}
