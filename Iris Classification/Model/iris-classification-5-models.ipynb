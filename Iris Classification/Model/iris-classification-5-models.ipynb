{
 "cells": [
  {
   "cell_type": "code",
   "execution_count": 1,
   "id": "c531d4a0",
   "metadata": {
    "_cell_guid": "b1076dfc-b9ad-4769-8c92-a6c4dae69d19",
    "_uuid": "8f2839f25d086af736a60e9eeb907d3b93b6e0e5",
    "execution": {
     "iopub.execute_input": "2021-12-17T15:39:23.265052Z",
     "iopub.status.busy": "2021-12-17T15:39:23.263792Z",
     "iopub.status.idle": "2021-12-17T15:39:23.273008Z",
     "shell.execute_reply": "2021-12-17T15:39:23.273475Z",
     "shell.execute_reply.started": "2021-12-17T15:36:28.703145Z"
    },
    "papermill": {
     "duration": 0.040503,
     "end_time": "2021-12-17T15:39:23.273816",
     "exception": false,
     "start_time": "2021-12-17T15:39:23.233313",
     "status": "completed"
    },
    "tags": []
   },
   "outputs": [],
   "source": [
    "import numpy as np\n",
    "import pandas as pd\n",
    "import matplotlib.pyplot as plt\n",
    "from urllib.request import urlretrieve"
   ]
  },
  {
   "cell_type": "code",
   "execution_count": 2,
   "id": "e30ddfb2",
   "metadata": {
    "execution": {
     "iopub.execute_input": "2021-12-17T15:39:23.326844Z",
     "iopub.status.busy": "2021-12-17T15:39:23.326121Z",
     "iopub.status.idle": "2021-12-17T15:39:23.467011Z",
     "shell.execute_reply": "2021-12-17T15:39:23.466412Z",
     "shell.execute_reply.started": "2021-12-17T15:36:31.444390Z"
    },
    "papermill": {
     "duration": 0.167852,
     "end_time": "2021-12-17T15:39:23.467168",
     "exception": false,
     "start_time": "2021-12-17T15:39:23.299316",
     "status": "completed"
    },
    "tags": []
   },
   "outputs": [
    {
     "data": {
      "text/plain": [
       "('/tmp/tmpijxke8hj', <http.client.HTTPMessage at 0x7f6d0fd67d90>)"
      ]
     },
     "execution_count": 2,
     "metadata": {},
     "output_type": "execute_result"
    }
   ],
   "source": [
    "iris = 'http://archive.ics.uci.edu/ml/machine-learning-databases/iris/iris.data'\n",
    "urlretrieve(iris)"
   ]
  },
  {
   "cell_type": "code",
   "execution_count": 3,
   "id": "3a5f1567",
   "metadata": {
    "execution": {
     "iopub.execute_input": "2021-12-17T15:39:23.519699Z",
     "iopub.status.busy": "2021-12-17T15:39:23.518967Z",
     "iopub.status.idle": "2021-12-17T15:39:23.653341Z",
     "shell.execute_reply": "2021-12-17T15:39:23.652753Z",
     "shell.execute_reply.started": "2021-12-17T15:36:32.652275Z"
    },
    "papermill": {
     "duration": 0.161453,
     "end_time": "2021-12-17T15:39:23.653487",
     "exception": false,
     "start_time": "2021-12-17T15:39:23.492034",
     "status": "completed"
    },
    "tags": []
   },
   "outputs": [],
   "source": [
    "train = pd.read_csv(iris, sep=',')\n",
    "attributes = [\"sepal_length\", \"sepal_width\", \"petal_length\", \"petal_width\", \"Class\"]\n",
    "train.columns = attributes"
   ]
  },
  {
   "cell_type": "code",
   "execution_count": 4,
   "id": "58a9b465",
   "metadata": {
    "execution": {
     "iopub.execute_input": "2021-12-17T15:39:23.714101Z",
     "iopub.status.busy": "2021-12-17T15:39:23.713055Z",
     "iopub.status.idle": "2021-12-17T15:39:23.731210Z",
     "shell.execute_reply": "2021-12-17T15:39:23.731840Z",
     "shell.execute_reply.started": "2021-12-17T15:36:33.554833Z"
    },
    "papermill": {
     "duration": 0.053536,
     "end_time": "2021-12-17T15:39:23.732008",
     "exception": false,
     "start_time": "2021-12-17T15:39:23.678472",
     "status": "completed"
    },
    "tags": []
   },
   "outputs": [
    {
     "data": {
      "text/html": [
       "<div>\n",
       "<style scoped>\n",
       "    .dataframe tbody tr th:only-of-type {\n",
       "        vertical-align: middle;\n",
       "    }\n",
       "\n",
       "    .dataframe tbody tr th {\n",
       "        vertical-align: top;\n",
       "    }\n",
       "\n",
       "    .dataframe thead th {\n",
       "        text-align: right;\n",
       "    }\n",
       "</style>\n",
       "<table border=\"1\" class=\"dataframe\">\n",
       "  <thead>\n",
       "    <tr style=\"text-align: right;\">\n",
       "      <th></th>\n",
       "      <th>sepal_length</th>\n",
       "      <th>sepal_width</th>\n",
       "      <th>petal_length</th>\n",
       "      <th>petal_width</th>\n",
       "      <th>Class</th>\n",
       "    </tr>\n",
       "  </thead>\n",
       "  <tbody>\n",
       "    <tr>\n",
       "      <th>0</th>\n",
       "      <td>4.9</td>\n",
       "      <td>3.0</td>\n",
       "      <td>1.4</td>\n",
       "      <td>0.2</td>\n",
       "      <td>Iris-setosa</td>\n",
       "    </tr>\n",
       "    <tr>\n",
       "      <th>1</th>\n",
       "      <td>4.7</td>\n",
       "      <td>3.2</td>\n",
       "      <td>1.3</td>\n",
       "      <td>0.2</td>\n",
       "      <td>Iris-setosa</td>\n",
       "    </tr>\n",
       "    <tr>\n",
       "      <th>2</th>\n",
       "      <td>4.6</td>\n",
       "      <td>3.1</td>\n",
       "      <td>1.5</td>\n",
       "      <td>0.2</td>\n",
       "      <td>Iris-setosa</td>\n",
       "    </tr>\n",
       "    <tr>\n",
       "      <th>3</th>\n",
       "      <td>5.0</td>\n",
       "      <td>3.6</td>\n",
       "      <td>1.4</td>\n",
       "      <td>0.2</td>\n",
       "      <td>Iris-setosa</td>\n",
       "    </tr>\n",
       "    <tr>\n",
       "      <th>4</th>\n",
       "      <td>5.4</td>\n",
       "      <td>3.9</td>\n",
       "      <td>1.7</td>\n",
       "      <td>0.4</td>\n",
       "      <td>Iris-setosa</td>\n",
       "    </tr>\n",
       "    <tr>\n",
       "      <th>...</th>\n",
       "      <td>...</td>\n",
       "      <td>...</td>\n",
       "      <td>...</td>\n",
       "      <td>...</td>\n",
       "      <td>...</td>\n",
       "    </tr>\n",
       "    <tr>\n",
       "      <th>144</th>\n",
       "      <td>6.7</td>\n",
       "      <td>3.0</td>\n",
       "      <td>5.2</td>\n",
       "      <td>2.3</td>\n",
       "      <td>Iris-virginica</td>\n",
       "    </tr>\n",
       "    <tr>\n",
       "      <th>145</th>\n",
       "      <td>6.3</td>\n",
       "      <td>2.5</td>\n",
       "      <td>5.0</td>\n",
       "      <td>1.9</td>\n",
       "      <td>Iris-virginica</td>\n",
       "    </tr>\n",
       "    <tr>\n",
       "      <th>146</th>\n",
       "      <td>6.5</td>\n",
       "      <td>3.0</td>\n",
       "      <td>5.2</td>\n",
       "      <td>2.0</td>\n",
       "      <td>Iris-virginica</td>\n",
       "    </tr>\n",
       "    <tr>\n",
       "      <th>147</th>\n",
       "      <td>6.2</td>\n",
       "      <td>3.4</td>\n",
       "      <td>5.4</td>\n",
       "      <td>2.3</td>\n",
       "      <td>Iris-virginica</td>\n",
       "    </tr>\n",
       "    <tr>\n",
       "      <th>148</th>\n",
       "      <td>5.9</td>\n",
       "      <td>3.0</td>\n",
       "      <td>5.1</td>\n",
       "      <td>1.8</td>\n",
       "      <td>Iris-virginica</td>\n",
       "    </tr>\n",
       "  </tbody>\n",
       "</table>\n",
       "<p>149 rows × 5 columns</p>\n",
       "</div>"
      ],
      "text/plain": [
       "     sepal_length  sepal_width  petal_length  petal_width           Class\n",
       "0             4.9          3.0           1.4          0.2     Iris-setosa\n",
       "1             4.7          3.2           1.3          0.2     Iris-setosa\n",
       "2             4.6          3.1           1.5          0.2     Iris-setosa\n",
       "3             5.0          3.6           1.4          0.2     Iris-setosa\n",
       "4             5.4          3.9           1.7          0.4     Iris-setosa\n",
       "..            ...          ...           ...          ...             ...\n",
       "144           6.7          3.0           5.2          2.3  Iris-virginica\n",
       "145           6.3          2.5           5.0          1.9  Iris-virginica\n",
       "146           6.5          3.0           5.2          2.0  Iris-virginica\n",
       "147           6.2          3.4           5.4          2.3  Iris-virginica\n",
       "148           5.9          3.0           5.1          1.8  Iris-virginica\n",
       "\n",
       "[149 rows x 5 columns]"
      ]
     },
     "execution_count": 4,
     "metadata": {},
     "output_type": "execute_result"
    }
   ],
   "source": [
    "train"
   ]
  },
  {
   "cell_type": "code",
   "execution_count": 5,
   "id": "f473b07c",
   "metadata": {
    "execution": {
     "iopub.execute_input": "2021-12-17T15:39:23.786092Z",
     "iopub.status.busy": "2021-12-17T15:39:23.785417Z",
     "iopub.status.idle": "2021-12-17T15:39:23.799310Z",
     "shell.execute_reply": "2021-12-17T15:39:23.798651Z",
     "shell.execute_reply.started": "2021-12-17T15:36:57.864673Z"
    },
    "papermill": {
     "duration": 0.04228,
     "end_time": "2021-12-17T15:39:23.799454",
     "exception": false,
     "start_time": "2021-12-17T15:39:23.757174",
     "status": "completed"
    },
    "tags": []
   },
   "outputs": [],
   "source": [
    "x = train.drop(\"Class\",axis=1)\n",
    "y = train['Class']"
   ]
  },
  {
   "cell_type": "code",
   "execution_count": 6,
   "id": "74c5747e",
   "metadata": {
    "execution": {
     "iopub.execute_input": "2021-12-17T15:39:23.859380Z",
     "iopub.status.busy": "2021-12-17T15:39:23.858701Z",
     "iopub.status.idle": "2021-12-17T15:39:23.861346Z",
     "shell.execute_reply": "2021-12-17T15:39:23.861854Z",
     "shell.execute_reply.started": "2021-12-17T15:37:00.302022Z"
    },
    "papermill": {
     "duration": 0.037474,
     "end_time": "2021-12-17T15:39:23.862025",
     "exception": false,
     "start_time": "2021-12-17T15:39:23.824551",
     "status": "completed"
    },
    "tags": []
   },
   "outputs": [
    {
     "data": {
      "text/plain": [
       "Iris-versicolor    50\n",
       "Iris-virginica     50\n",
       "Iris-setosa        49\n",
       "Name: Class, dtype: int64"
      ]
     },
     "execution_count": 6,
     "metadata": {},
     "output_type": "execute_result"
    }
   ],
   "source": [
    "y.value_counts()"
   ]
  },
  {
   "cell_type": "code",
   "execution_count": 7,
   "id": "e324acf8",
   "metadata": {
    "execution": {
     "iopub.execute_input": "2021-12-17T15:39:23.917794Z",
     "iopub.status.busy": "2021-12-17T15:39:23.916999Z",
     "iopub.status.idle": "2021-12-17T15:39:25.009069Z",
     "shell.execute_reply": "2021-12-17T15:39:25.009629Z",
     "shell.execute_reply.started": "2021-12-17T15:37:01.696040Z"
    },
    "papermill": {
     "duration": 1.122612,
     "end_time": "2021-12-17T15:39:25.009825",
     "exception": false,
     "start_time": "2021-12-17T15:39:23.887213",
     "status": "completed"
    },
    "tags": []
   },
   "outputs": [],
   "source": [
    "from sklearn.preprocessing import StandardScaler\n",
    "scaler = StandardScaler()\n",
    "x = scaler.fit_transform(x)"
   ]
  },
  {
   "cell_type": "code",
   "execution_count": 8,
   "id": "aa421e12",
   "metadata": {
    "execution": {
     "iopub.execute_input": "2021-12-17T15:39:25.064852Z",
     "iopub.status.busy": "2021-12-17T15:39:25.064156Z",
     "iopub.status.idle": "2021-12-17T15:39:25.134043Z",
     "shell.execute_reply": "2021-12-17T15:39:25.133312Z",
     "shell.execute_reply.started": "2021-12-17T15:37:11.729488Z"
    },
    "papermill": {
     "duration": 0.098481,
     "end_time": "2021-12-17T15:39:25.134191",
     "exception": false,
     "start_time": "2021-12-17T15:39:25.035710",
     "status": "completed"
    },
    "tags": []
   },
   "outputs": [],
   "source": [
    "# splitting the dataset into train and test dataset with 4:1 ratio (80%-20%)\n",
    "from sklearn.model_selection import train_test_split\n",
    "x_train, x_test, y_train, y_test = train_test_split(x, y, test_size = .1, random_state = 26,stratify=y)"
   ]
  },
  {
   "cell_type": "markdown",
   "id": "ebc8cdf9",
   "metadata": {
    "papermill": {
     "duration": 0.024788,
     "end_time": "2021-12-17T15:39:25.185598",
     "exception": false,
     "start_time": "2021-12-17T15:39:25.160810",
     "status": "completed"
    },
    "tags": []
   },
   "source": [
    "## Training on different algorithms"
   ]
  },
  {
   "cell_type": "markdown",
   "id": "4385a6eb",
   "metadata": {
    "papermill": {
     "duration": 0.024611,
     "end_time": "2021-12-17T15:39:25.235175",
     "exception": false,
     "start_time": "2021-12-17T15:39:25.210564",
     "status": "completed"
    },
    "tags": []
   },
   "source": [
    "### Logistic Regression"
   ]
  },
  {
   "cell_type": "code",
   "execution_count": 9,
   "id": "5a9f27f3",
   "metadata": {
    "execution": {
     "iopub.execute_input": "2021-12-17T15:39:25.290290Z",
     "iopub.status.busy": "2021-12-17T15:39:25.289656Z",
     "iopub.status.idle": "2021-12-17T15:39:25.394544Z",
     "shell.execute_reply": "2021-12-17T15:39:25.393978Z",
     "shell.execute_reply.started": "2021-12-17T15:37:16.402112Z"
    },
    "papermill": {
     "duration": 0.134303,
     "end_time": "2021-12-17T15:39:25.394761",
     "exception": false,
     "start_time": "2021-12-17T15:39:25.260458",
     "status": "completed"
    },
    "tags": []
   },
   "outputs": [
    {
     "data": {
      "text/plain": [
       "LogisticRegression()"
      ]
     },
     "execution_count": 9,
     "metadata": {},
     "output_type": "execute_result"
    }
   ],
   "source": [
    "from sklearn.linear_model import LogisticRegression\n",
    "\n",
    "# Create instance of model\n",
    "lreg = LogisticRegression()\n",
    "# Pass training data into model\n",
    "lreg.fit(x_train, y_train)"
   ]
  },
  {
   "cell_type": "code",
   "execution_count": 10,
   "id": "2ad53d1e",
   "metadata": {
    "execution": {
     "iopub.execute_input": "2021-12-17T15:39:25.451294Z",
     "iopub.status.busy": "2021-12-17T15:39:25.450362Z",
     "iopub.status.idle": "2021-12-17T15:39:25.453521Z",
     "shell.execute_reply": "2021-12-17T15:39:25.452904Z",
     "shell.execute_reply.started": "2021-12-17T15:37:17.077652Z"
    },
    "papermill": {
     "duration": 0.033003,
     "end_time": "2021-12-17T15:39:25.453677",
     "exception": false,
     "start_time": "2021-12-17T15:39:25.420674",
     "status": "completed"
    },
    "tags": []
   },
   "outputs": [],
   "source": [
    "# Getting prediciton on x_test\n",
    "y_pred_lreg = lreg.predict(x_test)"
   ]
  },
  {
   "cell_type": "code",
   "execution_count": 11,
   "id": "ff425017",
   "metadata": {
    "execution": {
     "iopub.execute_input": "2021-12-17T15:39:25.518394Z",
     "iopub.status.busy": "2021-12-17T15:39:25.517377Z",
     "iopub.status.idle": "2021-12-17T15:39:25.527104Z",
     "shell.execute_reply": "2021-12-17T15:39:25.527780Z",
     "shell.execute_reply.started": "2021-12-17T15:37:19.162472Z"
    },
    "papermill": {
     "duration": 0.048752,
     "end_time": "2021-12-17T15:39:25.528023",
     "exception": false,
     "start_time": "2021-12-17T15:39:25.479271",
     "status": "completed"
    },
    "tags": []
   },
   "outputs": [
    {
     "name": "stdout",
     "output_type": "stream",
     "text": [
      "Logistic Regression\n",
      "\n",
      "\n",
      "Confusion Matrix\n",
      "[[5 0 0]\n",
      " [0 5 0]\n",
      " [0 0 5]]\n",
      "----------------------------------------------------------------------------------------------------\n",
      "Classification Report\n",
      "                 precision    recall  f1-score   support\n",
      "\n",
      "    Iris-setosa       1.00      1.00      1.00         5\n",
      "Iris-versicolor       1.00      1.00      1.00         5\n",
      " Iris-virginica       1.00      1.00      1.00         5\n",
      "\n",
      "       accuracy                           1.00        15\n",
      "      macro avg       1.00      1.00      1.00        15\n",
      "   weighted avg       1.00      1.00      1.00        15\n",
      "\n",
      "----------------------------------------------------------------------------------------------------\n",
      "Accuracy =  100.0 %\n"
     ]
    }
   ],
   "source": [
    "# Scoring our model\n",
    "from sklearn.metrics import classification_report, confusion_matrix, accuracy_score,f1_score, precision_score, recall_score\n",
    "\n",
    "# Confusion Matrix\n",
    "print('Logistic Regression')\n",
    "print('\\n')\n",
    "print('Confusion Matrix')\n",
    "print(confusion_matrix(y_test, y_pred_lreg))\n",
    "print('--'*50)\n",
    "\n",
    "# Classification Report\n",
    "print('Classification Report')\n",
    "print(classification_report(y_test,y_pred_lreg))\n",
    "\n",
    "\n",
    "# Accuracy of our model\n",
    "print('--'*50)\n",
    "logreg_accuracy = round(accuracy_score(y_test, y_pred_lreg) * 100,8)\n",
    "print('Accuracy = ', logreg_accuracy,'%')\n"
   ]
  },
  {
   "cell_type": "markdown",
   "id": "855ae7e8",
   "metadata": {
    "papermill": {
     "duration": 0.025738,
     "end_time": "2021-12-17T15:39:25.580432",
     "exception": false,
     "start_time": "2021-12-17T15:39:25.554694",
     "status": "completed"
    },
    "tags": []
   },
   "source": [
    "**We have a accuracy of 99.90%**"
   ]
  },
  {
   "cell_type": "markdown",
   "id": "95e093b0",
   "metadata": {
    "papermill": {
     "duration": 0.025707,
     "end_time": "2021-12-17T15:39:25.632667",
     "exception": false,
     "start_time": "2021-12-17T15:39:25.606960",
     "status": "completed"
    },
    "tags": []
   },
   "source": [
    "### LINEAR SUPPORT VECTOR CLASSIFIER"
   ]
  },
  {
   "cell_type": "code",
   "execution_count": 12,
   "id": "944e6f77",
   "metadata": {
    "execution": {
     "iopub.execute_input": "2021-12-17T15:39:25.691690Z",
     "iopub.status.busy": "2021-12-17T15:39:25.690672Z",
     "iopub.status.idle": "2021-12-17T15:39:25.699767Z",
     "shell.execute_reply": "2021-12-17T15:39:25.699108Z",
     "shell.execute_reply.started": "2021-12-17T15:37:20.175984Z"
    },
    "papermill": {
     "duration": 0.041312,
     "end_time": "2021-12-17T15:39:25.699924",
     "exception": false,
     "start_time": "2021-12-17T15:39:25.658612",
     "status": "completed"
    },
    "tags": []
   },
   "outputs": [
    {
     "name": "stdout",
     "output_type": "stream",
     "text": [
      "CPU times: user 3.18 ms, sys: 24 µs, total: 3.2 ms\n",
      "Wall time: 2.86 ms\n"
     ]
    },
    {
     "data": {
      "text/plain": [
       "SVC()"
      ]
     },
     "execution_count": 12,
     "metadata": {},
     "output_type": "execute_result"
    }
   ],
   "source": [
    "%%time\n",
    "from sklearn.svm import SVC\n",
    "# Instantiate the model\n",
    "svc = SVC()\n",
    "# Fit the model on training data\n",
    "svc.fit(x_train, y_train)"
   ]
  },
  {
   "cell_type": "code",
   "execution_count": 13,
   "id": "2c47d1e8",
   "metadata": {
    "execution": {
     "iopub.execute_input": "2021-12-17T15:39:25.759944Z",
     "iopub.status.busy": "2021-12-17T15:39:25.759247Z",
     "iopub.status.idle": "2021-12-17T15:39:25.761784Z",
     "shell.execute_reply": "2021-12-17T15:39:25.762261Z",
     "shell.execute_reply.started": "2021-12-17T15:37:20.259133Z"
    },
    "papermill": {
     "duration": 0.036017,
     "end_time": "2021-12-17T15:39:25.762447",
     "exception": false,
     "start_time": "2021-12-17T15:39:25.726430",
     "status": "completed"
    },
    "tags": []
   },
   "outputs": [],
   "source": [
    "# Getting the predictions for x_test\n",
    "y_pred_svc = svc.predict(x_test)"
   ]
  },
  {
   "cell_type": "code",
   "execution_count": 14,
   "id": "21f6fb9a",
   "metadata": {
    "execution": {
     "iopub.execute_input": "2021-12-17T15:39:25.828966Z",
     "iopub.status.busy": "2021-12-17T15:39:25.828124Z",
     "iopub.status.idle": "2021-12-17T15:39:25.833578Z",
     "shell.execute_reply": "2021-12-17T15:39:25.834083Z",
     "shell.execute_reply.started": "2021-12-17T15:37:20.452263Z"
    },
    "papermill": {
     "duration": 0.044839,
     "end_time": "2021-12-17T15:39:25.834254",
     "exception": false,
     "start_time": "2021-12-17T15:39:25.789415",
     "status": "completed"
    },
    "tags": []
   },
   "outputs": [
    {
     "name": "stdout",
     "output_type": "stream",
     "text": [
      "Support Vector Classifier\n",
      "\n",
      "\n",
      "Confusion Matrix\n",
      "[[5 0 0]\n",
      " [0 5 0]\n",
      " [0 0 5]]\n",
      "----------------------------------------------------------------------------------------------------\n",
      "Classification Report\n",
      "                 precision    recall  f1-score   support\n",
      "\n",
      "    Iris-setosa       1.00      1.00      1.00         5\n",
      "Iris-versicolor       1.00      1.00      1.00         5\n",
      " Iris-virginica       1.00      1.00      1.00         5\n",
      "\n",
      "       accuracy                           1.00        15\n",
      "      macro avg       1.00      1.00      1.00        15\n",
      "   weighted avg       1.00      1.00      1.00        15\n",
      "\n",
      "----------------------------------------------------------------------------------------------------\n",
      "Accuracy =  100.0 %\n"
     ]
    }
   ],
   "source": [
    "print('Support Vector Classifier')\n",
    "print('\\n')\n",
    "# Confusion matrix\n",
    "print('Confusion Matrix')\n",
    "print(confusion_matrix(y_test, y_pred_svc))\n",
    "print('--'*50)\n",
    "\n",
    "# Classification report\n",
    "print('Classification Report')\n",
    "print(classification_report(y_test, y_pred_svc))\n",
    "\n",
    "# Accuracy\n",
    "print('--'*50)\n",
    "svc_accuracy = round(accuracy_score(y_test, y_pred_svc)*100,8)\n",
    "print('Accuracy = ', svc_accuracy,'%')"
   ]
  },
  {
   "cell_type": "markdown",
   "id": "3cc4706b",
   "metadata": {
    "papermill": {
     "duration": 0.026395,
     "end_time": "2021-12-17T15:39:25.887546",
     "exception": false,
     "start_time": "2021-12-17T15:39:25.861151",
     "status": "completed"
    },
    "tags": []
   },
   "source": [
    "### K-NEAREST NEIGHBORS"
   ]
  },
  {
   "cell_type": "code",
   "execution_count": 15,
   "id": "831e3a2a",
   "metadata": {
    "execution": {
     "iopub.execute_input": "2021-12-17T15:39:25.948167Z",
     "iopub.status.busy": "2021-12-17T15:39:25.947341Z",
     "iopub.status.idle": "2021-12-17T15:39:26.243968Z",
     "shell.execute_reply": "2021-12-17T15:39:26.243386Z",
     "shell.execute_reply.started": "2021-12-17T15:37:20.833911Z"
    },
    "papermill": {
     "duration": 0.329727,
     "end_time": "2021-12-17T15:39:26.244118",
     "exception": false,
     "start_time": "2021-12-17T15:39:25.914391",
     "status": "completed"
    },
    "tags": []
   },
   "outputs": [
    {
     "data": {
      "image/png": "[encoded data removed]",
      "text/plain": [
       "<Figure size 720x432 with 1 Axes>"
      ]
     },
     "metadata": {
      "needs_background": "light"
     },
     "output_type": "display_data"
    },
    {
     "name": "stdout",
     "output_type": "stream",
     "text": [
      "CPU times: user 293 ms, sys: 183 ms, total: 475 ms\n",
      "Wall time: 291 ms\n"
     ]
    }
   ],
   "source": [
    "%%time\n",
    "from sklearn.neighbors import KNeighborsClassifier\n",
    "\n",
    "# in knn we need to select a value of nearest neighbour, for now lets use a for loop. If accuarcy\n",
    "# is better than other models then we would search for optimal parameter\n",
    "\n",
    "error_rate = []\n",
    "\n",
    "for i in range (2,15):\n",
    "    knn = KNeighborsClassifier(n_neighbors = i)\n",
    "    knn.fit(x_train, y_train)\n",
    "    pred_i = knn.predict(x_test)\n",
    "    error_rate.append(np.mean(pred_i != y_test))\n",
    "\n",
    "# Plot error rate\n",
    "plt.figure(figsize = (10,6))\n",
    "plt.plot(range(2,15), error_rate, color = 'blue', linestyle = '--', marker = 'o', \n",
    "        markerfacecolor = 'green', markersize = 10)\n",
    "\n",
    "plt.title('Error Rate vs K Value')\n",
    "plt.xlabel('K')\n",
    "plt.ylabel('Error Rate')\n",
    "plt.show()"
   ]
  },
  {
   "cell_type": "code",
   "execution_count": 16,
   "id": "a3116c73",
   "metadata": {
    "execution": {
     "iopub.execute_input": "2021-12-17T15:39:26.305207Z",
     "iopub.status.busy": "2021-12-17T15:39:26.304204Z",
     "iopub.status.idle": "2021-12-17T15:39:26.313176Z",
     "shell.execute_reply": "2021-12-17T15:39:26.313738Z",
     "shell.execute_reply.started": "2021-12-17T15:37:21.116207Z"
    },
    "papermill": {
     "duration": 0.041306,
     "end_time": "2021-12-17T15:39:26.313932",
     "exception": false,
     "start_time": "2021-12-17T15:39:26.272626",
     "status": "completed"
    },
    "tags": []
   },
   "outputs": [
    {
     "data": {
      "text/plain": [
       "KNeighborsClassifier(n_neighbors=2)"
      ]
     },
     "execution_count": 16,
     "metadata": {},
     "output_type": "execute_result"
    }
   ],
   "source": [
    "# now using above data to train with n_neighbors having least error rate\n",
    "\n",
    "n_value = 0\n",
    "min_error = float('inf')\n",
    "for idx,error in enumerate(error_rate):\n",
    "    if min_error>error:\n",
    "        min_error=error\n",
    "        n_value=idx+2\n",
    "\n",
    "knn = KNeighborsClassifier(n_neighbors = n_value)\n",
    "# Fit new KNN on training data\n",
    "knn.fit(x_train, y_train)"
   ]
  },
  {
   "cell_type": "code",
   "execution_count": 17,
   "id": "b1ee077a",
   "metadata": {
    "execution": {
     "iopub.execute_input": "2021-12-17T15:39:26.379264Z",
     "iopub.status.busy": "2021-12-17T15:39:26.375021Z",
     "iopub.status.idle": "2021-12-17T15:39:26.381539Z",
     "shell.execute_reply": "2021-12-17T15:39:26.382020Z",
     "shell.execute_reply.started": "2021-12-17T15:37:21.214987Z"
    },
    "papermill": {
     "duration": 0.039334,
     "end_time": "2021-12-17T15:39:26.382218",
     "exception": false,
     "start_time": "2021-12-17T15:39:26.342884",
     "status": "completed"
    },
    "tags": []
   },
   "outputs": [],
   "source": [
    "# Predict KNN\n",
    "y_pred_knn_op = knn.predict(x_test)"
   ]
  },
  {
   "cell_type": "code",
   "execution_count": 18,
   "id": "180282ec",
   "metadata": {
    "execution": {
     "iopub.execute_input": "2021-12-17T15:39:26.444445Z",
     "iopub.status.busy": "2021-12-17T15:39:26.443435Z",
     "iopub.status.idle": "2021-12-17T15:39:26.458417Z",
     "shell.execute_reply": "2021-12-17T15:39:26.457637Z",
     "shell.execute_reply.started": "2021-12-17T15:37:21.469950Z"
    },
    "papermill": {
     "duration": 0.047385,
     "end_time": "2021-12-17T15:39:26.458642",
     "exception": false,
     "start_time": "2021-12-17T15:39:26.411257",
     "status": "completed"
    },
    "tags": []
   },
   "outputs": [
    {
     "name": "stdout",
     "output_type": "stream",
     "text": [
      "K-Nearest Neighbors(KNN)\n",
      "k = 2\n",
      "\n",
      "\n",
      "[[5 0 0]\n",
      " [0 5 0]\n",
      " [0 0 5]]\n",
      "----------------------------------------------------------------------------------------------------\n",
      "Classfication Report                  precision    recall  f1-score   support\n",
      "\n",
      "    Iris-setosa       1.00      1.00      1.00         5\n",
      "Iris-versicolor       1.00      1.00      1.00         5\n",
      " Iris-virginica       1.00      1.00      1.00         5\n",
      "\n",
      "       accuracy                           1.00        15\n",
      "      macro avg       1.00      1.00      1.00        15\n",
      "   weighted avg       1.00      1.00      1.00        15\n",
      "\n",
      "----------------------------------------------------------------------------------------------------\n",
      "Accuracy =  100.0 %\n"
     ]
    }
   ],
   "source": [
    "print('K-Nearest Neighbors(KNN)')\n",
    "print('k =',n_value)\n",
    "\n",
    "# Confusion Matrix\n",
    "print('\\n')\n",
    "print(confusion_matrix(y_test, y_pred_knn_op))\n",
    "\n",
    "# Classification Report\n",
    "print('--'*50)\n",
    "print('Classfication Report',classification_report(y_test, y_pred_knn_op))\n",
    "\n",
    "# Accuracy\n",
    "print('--'*50)\n",
    "knn_op_accuracy =round(accuracy_score(y_test, y_pred_knn_op)*100,8)\n",
    "print('Accuracy = ',knn_op_accuracy,'%')"
   ]
  },
  {
   "cell_type": "markdown",
   "id": "f63b5b90",
   "metadata": {
    "papermill": {
     "duration": 0.029893,
     "end_time": "2021-12-17T15:39:26.519600",
     "exception": false,
     "start_time": "2021-12-17T15:39:26.489707",
     "status": "completed"
    },
    "tags": []
   },
   "source": [
    "### RANDOM FOREST"
   ]
  },
  {
   "cell_type": "code",
   "execution_count": 19,
   "id": "6ed2940d",
   "metadata": {
    "execution": {
     "iopub.execute_input": "2021-12-17T15:39:26.584425Z",
     "iopub.status.busy": "2021-12-17T15:39:26.583609Z",
     "iopub.status.idle": "2021-12-17T15:39:27.386114Z",
     "shell.execute_reply": "2021-12-17T15:39:27.385433Z",
     "shell.execute_reply.started": "2021-12-17T15:37:22.008164Z"
    },
    "papermill": {
     "duration": 0.837399,
     "end_time": "2021-12-17T15:39:27.386274",
     "exception": false,
     "start_time": "2021-12-17T15:39:26.548875",
     "status": "completed"
    },
    "tags": []
   },
   "outputs": [],
   "source": [
    "from sklearn.ensemble import RandomForestClassifier\n",
    "\n",
    "# Create model object\n",
    "rfc = RandomForestClassifier(n_estimators = 250,n_jobs=-1)\n",
    "# Fit model to training data\n",
    "rfc.fit(x_train,y_train)\n",
    "y_pred_rfc = rfc.predict(x_test)"
   ]
  },
  {
   "cell_type": "code",
   "execution_count": 20,
   "id": "0cd95642",
   "metadata": {
    "execution": {
     "iopub.execute_input": "2021-12-17T15:39:27.454170Z",
     "iopub.status.busy": "2021-12-17T15:39:27.453376Z",
     "iopub.status.idle": "2021-12-17T15:39:27.463058Z",
     "shell.execute_reply": "2021-12-17T15:39:27.463703Z",
     "shell.execute_reply.started": "2021-12-17T15:37:22.670581Z"
    },
    "papermill": {
     "duration": 0.048247,
     "end_time": "2021-12-17T15:39:27.463983",
     "exception": false,
     "start_time": "2021-12-17T15:39:27.415736",
     "status": "completed"
    },
    "tags": []
   },
   "outputs": [
    {
     "name": "stdout",
     "output_type": "stream",
     "text": [
      "Random Forest\n",
      "\n",
      "\n",
      "Confusion Matrix\n",
      "[[5 0 0]\n",
      " [0 5 0]\n",
      " [0 0 5]]\n",
      "----------------------------------------------------------------------------------------------------\n",
      "Classification Report\n",
      "                 precision    recall  f1-score   support\n",
      "\n",
      "    Iris-setosa       1.00      1.00      1.00         5\n",
      "Iris-versicolor       1.00      1.00      1.00         5\n",
      " Iris-virginica       1.00      1.00      1.00         5\n",
      "\n",
      "       accuracy                           1.00        15\n",
      "      macro avg       1.00      1.00      1.00        15\n",
      "   weighted avg       1.00      1.00      1.00        15\n",
      "\n",
      "----------------------------------------------------------------------------------------------------\n",
      "Accuracy =  100.0 %\n"
     ]
    }
   ],
   "source": [
    "print('Random Forest')\n",
    "# Confusion matrix\n",
    "print('\\n')\n",
    "print('Confusion Matrix')\n",
    "print(confusion_matrix(y_test, y_pred_rfc))\n",
    "\n",
    "# Classification report\n",
    "print('--'*50)\n",
    "print('Classification Report')\n",
    "print(classification_report(y_test, y_pred_rfc))\n",
    "\n",
    "# Accuracy\n",
    "print('--'*50)\n",
    "rf_accuracy = round(accuracy_score(y_test, y_pred_rfc)*100,8)\n",
    "print('Accuracy = ', rf_accuracy,'%')"
   ]
  },
  {
   "cell_type": "markdown",
   "id": "e3f66860",
   "metadata": {
    "papermill": {
     "duration": 0.029047,
     "end_time": "2021-12-17T15:39:27.523122",
     "exception": false,
     "start_time": "2021-12-17T15:39:27.494075",
     "status": "completed"
    },
    "tags": []
   },
   "source": [
    "### XGBoost Classifier"
   ]
  },
  {
   "cell_type": "code",
   "execution_count": 21,
   "id": "f1c5af94",
   "metadata": {
    "execution": {
     "iopub.execute_input": "2021-12-17T15:39:27.589264Z",
     "iopub.status.busy": "2021-12-17T15:39:27.588338Z",
     "iopub.status.idle": "2021-12-17T15:39:28.098644Z",
     "shell.execute_reply": "2021-12-17T15:39:28.099276Z",
     "shell.execute_reply.started": "2021-12-17T15:37:22.684590Z"
    },
    "papermill": {
     "duration": 0.546592,
     "end_time": "2021-12-17T15:39:28.099540",
     "exception": false,
     "start_time": "2021-12-17T15:39:27.552948",
     "status": "completed"
    },
    "tags": []
   },
   "outputs": [
    {
     "name": "stderr",
     "output_type": "stream",
     "text": [
      "/opt/conda/lib/python3.7/site-packages/xgboost/sklearn.py:1224: UserWarning: The use of label encoder in XGBClassifier is deprecated and will be removed in a future release. To remove this warning, do the following: 1) Pass option use_label_encoder=False when constructing XGBClassifier object; and 2) Encode your labels (y) as integers starting with 0, i.e. 0, 1, 2, ..., [num_class - 1].\n",
      "  warnings.warn(label_encoder_deprecation_msg, UserWarning)\n"
     ]
    },
    {
     "name": "stdout",
     "output_type": "stream",
     "text": [
      "[15:39:27] WARNING: ../src/learner.cc:1115: Starting in XGBoost 1.3.0, the default evaluation metric used with the objective 'multi:softprob' was changed from 'merror' to 'mlogloss'. Explicitly set eval_metric if you'd like to restore the old behavior.\n"
     ]
    }
   ],
   "source": [
    "from xgboost import XGBClassifier\n",
    "\n",
    "# Create model object\n",
    "xgb = XGBClassifier(n_jobs=-1)\n",
    "\n",
    "# Fit model to training data\n",
    "xgb.fit(x_train, y_train)\n",
    "y_pred_xgb = xgb.predict(x_test)"
   ]
  },
  {
   "cell_type": "code",
   "execution_count": 22,
   "id": "7060de00",
   "metadata": {
    "execution": {
     "iopub.execute_input": "2021-12-17T15:39:28.170316Z",
     "iopub.status.busy": "2021-12-17T15:39:28.169560Z",
     "iopub.status.idle": "2021-12-17T15:39:28.181804Z",
     "shell.execute_reply": "2021-12-17T15:39:28.181217Z",
     "shell.execute_reply.started": "2021-12-17T15:37:23.181005Z"
    },
    "papermill": {
     "duration": 0.050141,
     "end_time": "2021-12-17T15:39:28.181976",
     "exception": false,
     "start_time": "2021-12-17T15:39:28.131835",
     "status": "completed"
    },
    "tags": []
   },
   "outputs": [
    {
     "name": "stdout",
     "output_type": "stream",
     "text": [
      "XGBoost Classifer\n",
      "\n",
      "\n",
      "Confusion Matrix\n",
      "[[5 0 0]\n",
      " [0 5 0]\n",
      " [0 0 5]]\n",
      "----------------------------------------------------------------------------------------------------\n",
      "Classification Report\n",
      "                 precision    recall  f1-score   support\n",
      "\n",
      "    Iris-setosa       1.00      1.00      1.00         5\n",
      "Iris-versicolor       1.00      1.00      1.00         5\n",
      " Iris-virginica       1.00      1.00      1.00         5\n",
      "\n",
      "       accuracy                           1.00        15\n",
      "      macro avg       1.00      1.00      1.00        15\n",
      "   weighted avg       1.00      1.00      1.00        15\n",
      "\n",
      "----------------------------------------------------------------------------------------------------\n",
      "Accuracy =  100.0 %\n"
     ]
    }
   ],
   "source": [
    "print('XGBoost Classifer')\n",
    "# Confusion matrix\n",
    "print('\\n')\n",
    "print('Confusion Matrix')\n",
    "print(confusion_matrix(y_test, y_pred_xgb))\n",
    "\n",
    "# Classification report\n",
    "print('--'*50)\n",
    "print('Classification Report')\n",
    "print(classification_report(y_test, y_pred_xgb))\n",
    "\n",
    "# Accuracy\n",
    "print('--'*50)\n",
    "xgb_accuracy = round(accuracy_score(y_test, y_pred_xgb)*100,8)\n",
    "print('Accuracy = ', xgb_accuracy,'%')"
   ]
  },
  {
   "cell_type": "code",
   "execution_count": 23,
   "id": "25853398",
   "metadata": {
    "execution": {
     "iopub.execute_input": "2021-12-17T15:39:28.247752Z",
     "iopub.status.busy": "2021-12-17T15:39:28.247027Z",
     "iopub.status.idle": "2021-12-17T15:39:28.258103Z",
     "shell.execute_reply": "2021-12-17T15:39:28.258622Z",
     "shell.execute_reply.started": "2021-12-17T15:37:23.193910Z"
    },
    "papermill": {
     "duration": 0.046175,
     "end_time": "2021-12-17T15:39:28.258832",
     "exception": false,
     "start_time": "2021-12-17T15:39:28.212657",
     "status": "completed"
    },
    "tags": []
   },
   "outputs": [
    {
     "data": {
      "text/html": [
       "<div>\n",
       "<style scoped>\n",
       "    .dataframe tbody tr th:only-of-type {\n",
       "        vertical-align: middle;\n",
       "    }\n",
       "\n",
       "    .dataframe tbody tr th {\n",
       "        vertical-align: top;\n",
       "    }\n",
       "\n",
       "    .dataframe thead th {\n",
       "        text-align: right;\n",
       "    }\n",
       "</style>\n",
       "<table border=\"1\" class=\"dataframe\">\n",
       "  <thead>\n",
       "    <tr style=\"text-align: right;\">\n",
       "      <th></th>\n",
       "      <th>Model</th>\n",
       "      <th>Score</th>\n",
       "    </tr>\n",
       "  </thead>\n",
       "  <tbody>\n",
       "    <tr>\n",
       "      <th>0</th>\n",
       "      <td>Logistic Regression</td>\n",
       "      <td>100.0</td>\n",
       "    </tr>\n",
       "    <tr>\n",
       "      <th>1</th>\n",
       "      <td>Linear SVC</td>\n",
       "      <td>100.0</td>\n",
       "    </tr>\n",
       "    <tr>\n",
       "      <th>2</th>\n",
       "      <td>K-Nearest Neighbors</td>\n",
       "      <td>100.0</td>\n",
       "    </tr>\n",
       "    <tr>\n",
       "      <th>3</th>\n",
       "      <td>Random Forest</td>\n",
       "      <td>100.0</td>\n",
       "    </tr>\n",
       "    <tr>\n",
       "      <th>4</th>\n",
       "      <td>XGBoost Classifier</td>\n",
       "      <td>100.0</td>\n",
       "    </tr>\n",
       "  </tbody>\n",
       "</table>\n",
       "</div>"
      ],
      "text/plain": [
       "                 Model  Score\n",
       "0  Logistic Regression  100.0\n",
       "1           Linear SVC  100.0\n",
       "2  K-Nearest Neighbors  100.0\n",
       "3        Random Forest  100.0\n",
       "4   XGBoost Classifier  100.0"
      ]
     },
     "execution_count": 23,
     "metadata": {},
     "output_type": "execute_result"
    }
   ],
   "source": [
    "models = pd.DataFrame({\n",
    "     'Model': ['Logistic Regression', 'Linear SVC', \n",
    "               'K-Nearest Neighbors', 'Random Forest','XGBoost Classifier'],\n",
    "    'Score': [logreg_accuracy, svc_accuracy, \n",
    "               knn_op_accuracy, rf_accuracy,xgb_accuracy]})\n",
    "models.sort_values(by='Score', ascending=False)"
   ]
  },
  {
   "cell_type": "code",
   "execution_count": null,
   "id": "60907f70",
   "metadata": {
    "papermill": {
     "duration": 0.032314,
     "end_time": "2021-12-17T15:39:28.322522",
     "exception": false,
     "start_time": "2021-12-17T15:39:28.290208",
     "status": "completed"
    },
    "tags": []
   },
   "outputs": [],
   "source": []
  },
  {
   "cell_type": "code",
   "execution_count": null,
   "id": "4ab5f344",
   "metadata": {
    "papermill": {
     "duration": 0.03076,
     "end_time": "2021-12-17T15:39:28.384771",
     "exception": false,
     "start_time": "2021-12-17T15:39:28.354011",
     "status": "completed"
    },
    "tags": []
   },
   "outputs": [],
   "source": []
  }
 ],
 "metadata": {
  "kernelspec": {
   "display_name": "Python 3",
   "language": "python",
   "name": "python3"
  },
  "language_info": {
   "codemirror_mode": {
    "name": "ipython",
    "version": 3
   },
   "file_extension": ".py",
   "mimetype": "text/x-python",
   "name": "python",
   "nbconvert_exporter": "python",
   "pygments_lexer": "ipython3",
   "version": "3.7.12"
  },
  "papermill": {
   "default_parameters": {},
   "duration": 16.467645,
   "end_time": "2021-12-17T15:39:29.327030",
   "environment_variables": {},
   "exception": null,
   "input_path": "__notebook__.ipynb",
   "output_path": "__notebook__.ipynb",
   "parameters": {},
   "start_time": "2021-12-17T15:39:12.859385",
   "version": "2.3.3"
  }
 },
 "nbformat": 4,
 "nbformat_minor": 5
}
