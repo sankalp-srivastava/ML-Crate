{
 "cells": [
  {
   "cell_type": "code",
   "execution_count": 1,
   "id": "55c32e5a",
   "metadata": {
    "_cell_guid": "b1076dfc-b9ad-4769-8c92-a6c4dae69d19",
    "_uuid": "8f2839f25d086af736a60e9eeb907d3b93b6e0e5",
    "execution": {
     "iopub.execute_input": "2022-02-07T12:12:20.355998Z",
     "iopub.status.busy": "2022-02-07T12:12:20.354677Z",
     "iopub.status.idle": "2022-02-07T12:12:20.362900Z",
     "shell.execute_reply": "2022-02-07T12:12:20.363507Z",
     "shell.execute_reply.started": "2022-02-07T12:08:03.562918Z"
    },
    "papermill": {
     "duration": 0.038223,
     "end_time": "2022-02-07T12:12:20.363810",
     "exception": false,
     "start_time": "2022-02-07T12:12:20.325587",
     "status": "completed"
    },
    "tags": []
   },
   "outputs": [],
   "source": [
    "import numpy as np\n",
    "import pandas as pd\n",
    "import matplotlib.pyplot as plt"
   ]
  },
  {
   "cell_type": "code",
   "execution_count": 2,
   "id": "b8027650",
   "metadata": {
    "execution": {
     "iopub.execute_input": "2022-02-07T12:12:20.415337Z",
     "iopub.status.busy": "2022-02-07T12:12:20.414660Z",
     "iopub.status.idle": "2022-02-07T12:12:20.419023Z",
     "shell.execute_reply": "2022-02-07T12:12:20.419601Z",
     "shell.execute_reply.started": "2022-02-07T12:08:33.195247Z"
    },
    "papermill": {
     "duration": 0.031725,
     "end_time": "2022-02-07T12:12:20.419779",
     "exception": false,
     "start_time": "2022-02-07T12:12:20.388054",
     "status": "completed"
    },
    "tags": []
   },
   "outputs": [],
   "source": [
    "# Since there is no column name so lets add that\n",
    "# column 0 to 59 so they will be named as Feature 0,..,Feature 59\n",
    "# and lets name target column as Class\n",
    "\n",
    "# First lets make a lost of column name\n",
    "new_column_names = []\n",
    "for i in range(60):\n",
    "    new_column_names.append(f\"Feature {i}\")\n",
    "\n",
    "new_column_names.append(\"Class\")"
   ]
  },
  {
   "cell_type": "code",
   "execution_count": 3,
   "id": "04426a78",
   "metadata": {
    "execution": {
     "iopub.execute_input": "2022-02-07T12:12:20.471111Z",
     "iopub.status.busy": "2022-02-07T12:12:20.470434Z",
     "iopub.status.idle": "2022-02-07T12:12:20.536880Z",
     "shell.execute_reply": "2022-02-07T12:12:20.537433Z",
     "shell.execute_reply.started": "2022-02-07T12:09:55.061786Z"
    },
    "papermill": {
     "duration": 0.093839,
     "end_time": "2022-02-07T12:12:20.537617",
     "exception": false,
     "start_time": "2022-02-07T12:12:20.443778",
     "status": "completed"
    },
    "tags": []
   },
   "outputs": [
    {
     "data": {
      "text/html": [
       "<div>\n",
       "<style scoped>\n",
       "    .dataframe tbody tr th:only-of-type {\n",
       "        vertical-align: middle;\n",
       "    }\n",
       "\n",
       "    .dataframe tbody tr th {\n",
       "        vertical-align: top;\n",
       "    }\n",
       "\n",
       "    .dataframe thead th {\n",
       "        text-align: right;\n",
       "    }\n",
       "</style>\n",
       "<table border=\"1\" class=\"dataframe\">\n",
       "  <thead>\n",
       "    <tr style=\"text-align: right;\">\n",
       "      <th></th>\n",
       "      <th>Feature 0</th>\n",
       "      <th>Feature 1</th>\n",
       "      <th>Feature 2</th>\n",
       "      <th>Feature 3</th>\n",
       "      <th>Feature 4</th>\n",
       "      <th>Feature 5</th>\n",
       "      <th>Feature 6</th>\n",
       "      <th>Feature 7</th>\n",
       "      <th>Feature 8</th>\n",
       "      <th>Feature 9</th>\n",
       "      <th>...</th>\n",
       "      <th>Feature 51</th>\n",
       "      <th>Feature 52</th>\n",
       "      <th>Feature 53</th>\n",
       "      <th>Feature 54</th>\n",
       "      <th>Feature 55</th>\n",
       "      <th>Feature 56</th>\n",
       "      <th>Feature 57</th>\n",
       "      <th>Feature 58</th>\n",
       "      <th>Feature 59</th>\n",
       "      <th>Class</th>\n",
       "    </tr>\n",
       "  </thead>\n",
       "  <tbody>\n",
       "    <tr>\n",
       "      <th>0</th>\n",
       "      <td>0.0200</td>\n",
       "      <td>0.0371</td>\n",
       "      <td>0.0428</td>\n",
       "      <td>0.0207</td>\n",
       "      <td>0.0954</td>\n",
       "      <td>0.0986</td>\n",
       "      <td>0.1539</td>\n",
       "      <td>0.1601</td>\n",
       "      <td>0.3109</td>\n",
       "      <td>0.2111</td>\n",
       "      <td>...</td>\n",
       "      <td>0.0027</td>\n",
       "      <td>0.0065</td>\n",
       "      <td>0.0159</td>\n",
       "      <td>0.0072</td>\n",
       "      <td>0.0167</td>\n",
       "      <td>0.0180</td>\n",
       "      <td>0.0084</td>\n",
       "      <td>0.0090</td>\n",
       "      <td>0.0032</td>\n",
       "      <td>R</td>\n",
       "    </tr>\n",
       "    <tr>\n",
       "      <th>1</th>\n",
       "      <td>0.0453</td>\n",
       "      <td>0.0523</td>\n",
       "      <td>0.0843</td>\n",
       "      <td>0.0689</td>\n",
       "      <td>0.1183</td>\n",
       "      <td>0.2583</td>\n",
       "      <td>0.2156</td>\n",
       "      <td>0.3481</td>\n",
       "      <td>0.3337</td>\n",
       "      <td>0.2872</td>\n",
       "      <td>...</td>\n",
       "      <td>0.0084</td>\n",
       "      <td>0.0089</td>\n",
       "      <td>0.0048</td>\n",
       "      <td>0.0094</td>\n",
       "      <td>0.0191</td>\n",
       "      <td>0.0140</td>\n",
       "      <td>0.0049</td>\n",
       "      <td>0.0052</td>\n",
       "      <td>0.0044</td>\n",
       "      <td>R</td>\n",
       "    </tr>\n",
       "    <tr>\n",
       "      <th>2</th>\n",
       "      <td>0.0262</td>\n",
       "      <td>0.0582</td>\n",
       "      <td>0.1099</td>\n",
       "      <td>0.1083</td>\n",
       "      <td>0.0974</td>\n",
       "      <td>0.2280</td>\n",
       "      <td>0.2431</td>\n",
       "      <td>0.3771</td>\n",
       "      <td>0.5598</td>\n",
       "      <td>0.6194</td>\n",
       "      <td>...</td>\n",
       "      <td>0.0232</td>\n",
       "      <td>0.0166</td>\n",
       "      <td>0.0095</td>\n",
       "      <td>0.0180</td>\n",
       "      <td>0.0244</td>\n",
       "      <td>0.0316</td>\n",
       "      <td>0.0164</td>\n",
       "      <td>0.0095</td>\n",
       "      <td>0.0078</td>\n",
       "      <td>R</td>\n",
       "    </tr>\n",
       "    <tr>\n",
       "      <th>3</th>\n",
       "      <td>0.0100</td>\n",
       "      <td>0.0171</td>\n",
       "      <td>0.0623</td>\n",
       "      <td>0.0205</td>\n",
       "      <td>0.0205</td>\n",
       "      <td>0.0368</td>\n",
       "      <td>0.1098</td>\n",
       "      <td>0.1276</td>\n",
       "      <td>0.0598</td>\n",
       "      <td>0.1264</td>\n",
       "      <td>...</td>\n",
       "      <td>0.0121</td>\n",
       "      <td>0.0036</td>\n",
       "      <td>0.0150</td>\n",
       "      <td>0.0085</td>\n",
       "      <td>0.0073</td>\n",
       "      <td>0.0050</td>\n",
       "      <td>0.0044</td>\n",
       "      <td>0.0040</td>\n",
       "      <td>0.0117</td>\n",
       "      <td>R</td>\n",
       "    </tr>\n",
       "    <tr>\n",
       "      <th>4</th>\n",
       "      <td>0.0762</td>\n",
       "      <td>0.0666</td>\n",
       "      <td>0.0481</td>\n",
       "      <td>0.0394</td>\n",
       "      <td>0.0590</td>\n",
       "      <td>0.0649</td>\n",
       "      <td>0.1209</td>\n",
       "      <td>0.2467</td>\n",
       "      <td>0.3564</td>\n",
       "      <td>0.4459</td>\n",
       "      <td>...</td>\n",
       "      <td>0.0031</td>\n",
       "      <td>0.0054</td>\n",
       "      <td>0.0105</td>\n",
       "      <td>0.0110</td>\n",
       "      <td>0.0015</td>\n",
       "      <td>0.0072</td>\n",
       "      <td>0.0048</td>\n",
       "      <td>0.0107</td>\n",
       "      <td>0.0094</td>\n",
       "      <td>R</td>\n",
       "    </tr>\n",
       "  </tbody>\n",
       "</table>\n",
       "<p>5 rows × 61 columns</p>\n",
       "</div>"
      ],
      "text/plain": [
       "   Feature 0  Feature 1  Feature 2  Feature 3  Feature 4  Feature 5  \\\n",
       "0     0.0200     0.0371     0.0428     0.0207     0.0954     0.0986   \n",
       "1     0.0453     0.0523     0.0843     0.0689     0.1183     0.2583   \n",
       "2     0.0262     0.0582     0.1099     0.1083     0.0974     0.2280   \n",
       "3     0.0100     0.0171     0.0623     0.0205     0.0205     0.0368   \n",
       "4     0.0762     0.0666     0.0481     0.0394     0.0590     0.0649   \n",
       "\n",
       "   Feature 6  Feature 7  Feature 8  Feature 9  ...  Feature 51  Feature 52  \\\n",
       "0     0.1539     0.1601     0.3109     0.2111  ...      0.0027      0.0065   \n",
       "1     0.2156     0.3481     0.3337     0.2872  ...      0.0084      0.0089   \n",
       "2     0.2431     0.3771     0.5598     0.6194  ...      0.0232      0.0166   \n",
       "3     0.1098     0.1276     0.0598     0.1264  ...      0.0121      0.0036   \n",
       "4     0.1209     0.2467     0.3564     0.4459  ...      0.0031      0.0054   \n",
       "\n",
       "   Feature 53  Feature 54  Feature 55  Feature 56  Feature 57  Feature 58  \\\n",
       "0      0.0159      0.0072      0.0167      0.0180      0.0084      0.0090   \n",
       "1      0.0048      0.0094      0.0191      0.0140      0.0049      0.0052   \n",
       "2      0.0095      0.0180      0.0244      0.0316      0.0164      0.0095   \n",
       "3      0.0150      0.0085      0.0073      0.0050      0.0044      0.0040   \n",
       "4      0.0105      0.0110      0.0015      0.0072      0.0048      0.0107   \n",
       "\n",
       "   Feature 59  Class  \n",
       "0      0.0032      R  \n",
       "1      0.0044      R  \n",
       "2      0.0078      R  \n",
       "3      0.0117      R  \n",
       "4      0.0094      R  \n",
       "\n",
       "[5 rows x 61 columns]"
      ]
     },
     "execution_count": 3,
     "metadata": {},
     "output_type": "execute_result"
    }
   ],
   "source": [
    "train = pd.read_csv('../input/sonaralldata/sonar.all-data.csv',header=None, names= new_column_names)\n",
    "train.head()"
   ]
  },
  {
   "cell_type": "code",
   "execution_count": 4,
   "id": "a55ffdc7",
   "metadata": {
    "execution": {
     "iopub.execute_input": "2022-02-07T12:12:20.592089Z",
     "iopub.status.busy": "2022-02-07T12:12:20.591042Z",
     "iopub.status.idle": "2022-02-07T12:12:20.597534Z",
     "shell.execute_reply": "2022-02-07T12:12:20.598160Z",
     "shell.execute_reply.started": "2022-02-07T12:10:33.740039Z"
    },
    "papermill": {
     "duration": 0.035267,
     "end_time": "2022-02-07T12:12:20.598367",
     "exception": false,
     "start_time": "2022-02-07T12:12:20.563100",
     "status": "completed"
    },
    "tags": []
   },
   "outputs": [],
   "source": [
    "# Replacing M with 0 and R with 1\n",
    "train = train.replace({'Class': {'M': 0, \n",
    "                                'R': 1}})"
   ]
  },
  {
   "cell_type": "code",
   "execution_count": 5,
   "id": "e9dccdad",
   "metadata": {
    "execution": {
     "iopub.execute_input": "2022-02-07T12:12:20.652034Z",
     "iopub.status.busy": "2022-02-07T12:12:20.651000Z",
     "iopub.status.idle": "2022-02-07T12:12:20.661451Z",
     "shell.execute_reply": "2022-02-07T12:12:20.662027Z",
     "shell.execute_reply.started": "2022-02-07T12:10:46.003411Z"
    },
    "papermill": {
     "duration": 0.039387,
     "end_time": "2022-02-07T12:12:20.662218",
     "exception": false,
     "start_time": "2022-02-07T12:12:20.622831",
     "status": "completed"
    },
    "tags": []
   },
   "outputs": [],
   "source": [
    "x = train.drop(\"Class\",axis=1)\n",
    "y = train['Class']"
   ]
  },
  {
   "cell_type": "code",
   "execution_count": 6,
   "id": "db9786f7",
   "metadata": {
    "execution": {
     "iopub.execute_input": "2022-02-07T12:12:20.715141Z",
     "iopub.status.busy": "2022-02-07T12:12:20.714141Z",
     "iopub.status.idle": "2022-02-07T12:12:20.723275Z",
     "shell.execute_reply": "2022-02-07T12:12:20.723846Z",
     "shell.execute_reply.started": "2022-02-07T12:10:49.519474Z"
    },
    "papermill": {
     "duration": 0.037287,
     "end_time": "2022-02-07T12:12:20.724038",
     "exception": false,
     "start_time": "2022-02-07T12:12:20.686751",
     "status": "completed"
    },
    "tags": []
   },
   "outputs": [
    {
     "data": {
      "text/plain": [
       "0    111\n",
       "1     97\n",
       "Name: Class, dtype: int64"
      ]
     },
     "execution_count": 6,
     "metadata": {},
     "output_type": "execute_result"
    }
   ],
   "source": [
    "y.value_counts()"
   ]
  },
  {
   "cell_type": "code",
   "execution_count": 7,
   "id": "f337829e",
   "metadata": {
    "execution": {
     "iopub.execute_input": "2022-02-07T12:12:20.778861Z",
     "iopub.status.busy": "2022-02-07T12:12:20.777852Z",
     "iopub.status.idle": "2022-02-07T12:12:21.863430Z",
     "shell.execute_reply": "2022-02-07T12:12:21.862126Z",
     "shell.execute_reply.started": "2022-02-07T12:10:53.074449Z"
    },
    "papermill": {
     "duration": 1.11421,
     "end_time": "2022-02-07T12:12:21.863604",
     "exception": false,
     "start_time": "2022-02-07T12:12:20.749394",
     "status": "completed"
    },
    "tags": []
   },
   "outputs": [],
   "source": [
    "from sklearn.preprocessing import StandardScaler\n",
    "scaler = StandardScaler()\n",
    "x = scaler.fit_transform(x)"
   ]
  },
  {
   "cell_type": "code",
   "execution_count": 8,
   "id": "eaff0195",
   "metadata": {
    "execution": {
     "iopub.execute_input": "2022-02-07T12:12:21.921641Z",
     "iopub.status.busy": "2022-02-07T12:12:21.920756Z",
     "iopub.status.idle": "2022-02-07T12:12:21.982311Z",
     "shell.execute_reply": "2022-02-07T12:12:21.981706Z",
     "shell.execute_reply.started": "2022-02-07T12:10:56.402624Z"
    },
    "papermill": {
     "duration": 0.09233,
     "end_time": "2022-02-07T12:12:21.982483",
     "exception": false,
     "start_time": "2022-02-07T12:12:21.890153",
     "status": "completed"
    },
    "tags": []
   },
   "outputs": [],
   "source": [
    "# splitting the dataset into train and test dataset with 4:1 ratio (80%-20%)\n",
    "from sklearn.model_selection import train_test_split\n",
    "x_train, x_test, y_train, y_test = train_test_split(x, y, test_size = .2, random_state = 26,stratify=y)"
   ]
  },
  {
   "cell_type": "markdown",
   "id": "180862f7",
   "metadata": {
    "papermill": {
     "duration": 0.024708,
     "end_time": "2022-02-07T12:12:22.032523",
     "exception": false,
     "start_time": "2022-02-07T12:12:22.007815",
     "status": "completed"
    },
    "tags": []
   },
   "source": [
    "## Training on different algorithms"
   ]
  },
  {
   "cell_type": "markdown",
   "id": "1a66953c",
   "metadata": {
    "papermill": {
     "duration": 0.025482,
     "end_time": "2022-02-07T12:12:22.083065",
     "exception": false,
     "start_time": "2022-02-07T12:12:22.057583",
     "status": "completed"
    },
    "tags": []
   },
   "source": [
    "### Logistic Regression"
   ]
  },
  {
   "cell_type": "code",
   "execution_count": 9,
   "id": "25e83505",
   "metadata": {
    "execution": {
     "iopub.execute_input": "2022-02-07T12:12:22.138968Z",
     "iopub.status.busy": "2022-02-07T12:12:22.138155Z",
     "iopub.status.idle": "2022-02-07T12:12:22.260214Z",
     "shell.execute_reply": "2022-02-07T12:12:22.261423Z",
     "shell.execute_reply.started": "2022-02-07T12:11:00.735648Z"
    },
    "papermill": {
     "duration": 0.153553,
     "end_time": "2022-02-07T12:12:22.261726",
     "exception": false,
     "start_time": "2022-02-07T12:12:22.108173",
     "status": "completed"
    },
    "tags": []
   },
   "outputs": [
    {
     "data": {
      "text/plain": [
       "LogisticRegression()"
      ]
     },
     "execution_count": 9,
     "metadata": {},
     "output_type": "execute_result"
    }
   ],
   "source": [
    "from sklearn.linear_model import LogisticRegression\n",
    "\n",
    "# Create instance of model\n",
    "lreg = LogisticRegression()\n",
    "# Pass training data into model\n",
    "lreg.fit(x_train, y_train)"
   ]
  },
  {
   "cell_type": "code",
   "execution_count": 10,
   "id": "2427091e",
   "metadata": {
    "execution": {
     "iopub.execute_input": "2022-02-07T12:12:22.365070Z",
     "iopub.status.busy": "2022-02-07T12:12:22.363909Z",
     "iopub.status.idle": "2022-02-07T12:12:22.370202Z",
     "shell.execute_reply": "2022-02-07T12:12:22.371082Z",
     "shell.execute_reply.started": "2022-02-07T12:11:03.097704Z"
    },
    "papermill": {
     "duration": 0.062565,
     "end_time": "2022-02-07T12:12:22.371409",
     "exception": false,
     "start_time": "2022-02-07T12:12:22.308844",
     "status": "completed"
    },
    "tags": []
   },
   "outputs": [],
   "source": [
    "# Getting prediciton on x_test\n",
    "y_pred_lreg = lreg.predict(x_test)"
   ]
  },
  {
   "cell_type": "code",
   "execution_count": 11,
   "id": "ec6f611e",
   "metadata": {
    "execution": {
     "iopub.execute_input": "2022-02-07T12:12:22.430816Z",
     "iopub.status.busy": "2022-02-07T12:12:22.429768Z",
     "iopub.status.idle": "2022-02-07T12:12:22.442857Z",
     "shell.execute_reply": "2022-02-07T12:12:22.443400Z",
     "shell.execute_reply.started": "2022-02-07T12:11:03.374663Z"
    },
    "papermill": {
     "duration": 0.046259,
     "end_time": "2022-02-07T12:12:22.443601",
     "exception": false,
     "start_time": "2022-02-07T12:12:22.397342",
     "status": "completed"
    },
    "tags": []
   },
   "outputs": [
    {
     "name": "stdout",
     "output_type": "stream",
     "text": [
      "Logistic Regression\n",
      "\n",
      "\n",
      "Confusion Matrix\n",
      "[[16  6]\n",
      " [ 5 15]]\n",
      "----------------------------------------------------------------------------------------------------\n",
      "Classification Report\n",
      "              precision    recall  f1-score   support\n",
      "\n",
      "           0       0.76      0.73      0.74        22\n",
      "           1       0.71      0.75      0.73        20\n",
      "\n",
      "    accuracy                           0.74        42\n",
      "   macro avg       0.74      0.74      0.74        42\n",
      "weighted avg       0.74      0.74      0.74        42\n",
      "\n",
      "----------------------------------------------------------------------------------------------------\n",
      "Accuracy =  73.80952381 %\n"
     ]
    }
   ],
   "source": [
    "# Scoring our model\n",
    "from sklearn.metrics import classification_report, confusion_matrix, accuracy_score,f1_score, precision_score, recall_score\n",
    "\n",
    "# Confusion Matrix\n",
    "print('Logistic Regression')\n",
    "print('\\n')\n",
    "print('Confusion Matrix')\n",
    "print(confusion_matrix(y_test, y_pred_lreg))\n",
    "print('--'*50)\n",
    "\n",
    "# Classification Report\n",
    "print('Classification Report')\n",
    "print(classification_report(y_test,y_pred_lreg))\n",
    "\n",
    "\n",
    "# Accuracy of our model\n",
    "print('--'*50)\n",
    "logreg_accuracy = round(accuracy_score(y_test, y_pred_lreg) * 100,8)\n",
    "print('Accuracy = ', logreg_accuracy,'%')\n"
   ]
  },
  {
   "cell_type": "markdown",
   "id": "13ea8bf5",
   "metadata": {
    "papermill": {
     "duration": 0.025367,
     "end_time": "2022-02-07T12:12:22.496905",
     "exception": false,
     "start_time": "2022-02-07T12:12:22.471538",
     "status": "completed"
    },
    "tags": []
   },
   "source": [
    "**We have a accuracy of 99.90%**"
   ]
  },
  {
   "cell_type": "markdown",
   "id": "8c8432d9",
   "metadata": {
    "papermill": {
     "duration": 0.025321,
     "end_time": "2022-02-07T12:12:22.548036",
     "exception": false,
     "start_time": "2022-02-07T12:12:22.522715",
     "status": "completed"
    },
    "tags": []
   },
   "source": [
    "### LINEAR SUPPORT VECTOR CLASSIFIER"
   ]
  },
  {
   "cell_type": "code",
   "execution_count": 12,
   "id": "ffcf5e96",
   "metadata": {
    "execution": {
     "iopub.execute_input": "2022-02-07T12:12:22.603748Z",
     "iopub.status.busy": "2022-02-07T12:12:22.602717Z",
     "iopub.status.idle": "2022-02-07T12:12:22.614544Z",
     "shell.execute_reply": "2022-02-07T12:12:22.615099Z",
     "shell.execute_reply.started": "2022-02-07T12:11:04.961140Z"
    },
    "papermill": {
     "duration": 0.041557,
     "end_time": "2022-02-07T12:12:22.615271",
     "exception": false,
     "start_time": "2022-02-07T12:12:22.573714",
     "status": "completed"
    },
    "tags": []
   },
   "outputs": [
    {
     "name": "stdout",
     "output_type": "stream",
     "text": [
      "CPU times: user 2.31 ms, sys: 1.06 ms, total: 3.38 ms\n",
      "Wall time: 3.39 ms\n"
     ]
    },
    {
     "data": {
      "text/plain": [
       "SVC()"
      ]
     },
     "execution_count": 12,
     "metadata": {},
     "output_type": "execute_result"
    }
   ],
   "source": [
    "%%time\n",
    "from sklearn.svm import SVC\n",
    "# Instantiate the model\n",
    "svc = SVC()\n",
    "# Fit the model on training data\n",
    "svc.fit(x_train, y_train)"
   ]
  },
  {
   "cell_type": "code",
   "execution_count": 13,
   "id": "d1626992",
   "metadata": {
    "execution": {
     "iopub.execute_input": "2022-02-07T12:12:22.672126Z",
     "iopub.status.busy": "2022-02-07T12:12:22.671104Z",
     "iopub.status.idle": "2022-02-07T12:12:22.676094Z",
     "shell.execute_reply": "2022-02-07T12:12:22.676677Z",
     "shell.execute_reply.started": "2022-02-07T12:11:05.160745Z"
    },
    "papermill": {
     "duration": 0.035006,
     "end_time": "2022-02-07T12:12:22.676854",
     "exception": false,
     "start_time": "2022-02-07T12:12:22.641848",
     "status": "completed"
    },
    "tags": []
   },
   "outputs": [],
   "source": [
    "# Getting the predictions for x_test\n",
    "y_pred_svc = svc.predict(x_test)"
   ]
  },
  {
   "cell_type": "code",
   "execution_count": 14,
   "id": "a35268e3",
   "metadata": {
    "execution": {
     "iopub.execute_input": "2022-02-07T12:12:22.733235Z",
     "iopub.status.busy": "2022-02-07T12:12:22.732240Z",
     "iopub.status.idle": "2022-02-07T12:12:22.745785Z",
     "shell.execute_reply": "2022-02-07T12:12:22.746319Z",
     "shell.execute_reply.started": "2022-02-07T12:11:05.365261Z"
    },
    "papermill": {
     "duration": 0.0434,
     "end_time": "2022-02-07T12:12:22.746493",
     "exception": false,
     "start_time": "2022-02-07T12:12:22.703093",
     "status": "completed"
    },
    "tags": []
   },
   "outputs": [
    {
     "name": "stdout",
     "output_type": "stream",
     "text": [
      "Support Vector Classifier\n",
      "\n",
      "\n",
      "Confusion Matrix\n",
      "[[19  3]\n",
      " [ 5 15]]\n",
      "----------------------------------------------------------------------------------------------------\n",
      "Classification Report\n",
      "              precision    recall  f1-score   support\n",
      "\n",
      "           0       0.79      0.86      0.83        22\n",
      "           1       0.83      0.75      0.79        20\n",
      "\n",
      "    accuracy                           0.81        42\n",
      "   macro avg       0.81      0.81      0.81        42\n",
      "weighted avg       0.81      0.81      0.81        42\n",
      "\n",
      "----------------------------------------------------------------------------------------------------\n",
      "Accuracy =  80.95238095 %\n"
     ]
    }
   ],
   "source": [
    "print('Support Vector Classifier')\n",
    "print('\\n')\n",
    "# Confusion matrix\n",
    "print('Confusion Matrix')\n",
    "print(confusion_matrix(y_test, y_pred_svc))\n",
    "print('--'*50)\n",
    "\n",
    "# Classification report\n",
    "print('Classification Report')\n",
    "print(classification_report(y_test, y_pred_svc))\n",
    "\n",
    "# Accuracy\n",
    "print('--'*50)\n",
    "svc_accuracy = round(accuracy_score(y_test, y_pred_svc)*100,8)\n",
    "print('Accuracy = ', svc_accuracy,'%')"
   ]
  },
  {
   "cell_type": "markdown",
   "id": "54430e10",
   "metadata": {
    "papermill": {
     "duration": 0.026713,
     "end_time": "2022-02-07T12:12:22.801332",
     "exception": false,
     "start_time": "2022-02-07T12:12:22.774619",
     "status": "completed"
    },
    "tags": []
   },
   "source": [
    "### K-NEAREST NEIGHBORS"
   ]
  },
  {
   "cell_type": "code",
   "execution_count": 15,
   "id": "144287eb",
   "metadata": {
    "execution": {
     "iopub.execute_input": "2022-02-07T12:12:22.859124Z",
     "iopub.status.busy": "2022-02-07T12:12:22.858065Z",
     "iopub.status.idle": "2022-02-07T12:12:23.196262Z",
     "shell.execute_reply": "2022-02-07T12:12:23.196771Z",
     "shell.execute_reply.started": "2022-02-07T12:11:05.697909Z"
    },
    "papermill": {
     "duration": 0.368597,
     "end_time": "2022-02-07T12:12:23.196949",
     "exception": false,
     "start_time": "2022-02-07T12:12:22.828352",
     "status": "completed"
    },
    "tags": []
   },
   "outputs": [
    {
     "data": {
      "image/png": "[encoded data removed]",
      "text/plain": [
       "<Figure size 720x432 with 1 Axes>"
      ]
     },
     "metadata": {
      "needs_background": "light"
     },
     "output_type": "display_data"
    },
    {
     "name": "stdout",
     "output_type": "stream",
     "text": [
      "CPU times: user 352 ms, sys: 162 ms, total: 514 ms\n",
      "Wall time: 329 ms\n"
     ]
    }
   ],
   "source": [
    "%%time\n",
    "from sklearn.neighbors import KNeighborsClassifier\n",
    "\n",
    "# in knn we need to select a value of nearest neighbour, for now lets use a for loop. If accuarcy\n",
    "# is better than other models then we would search for optimal parameter\n",
    "\n",
    "error_rate = []\n",
    "\n",
    "for i in range (2,15):\n",
    "    knn = KNeighborsClassifier(n_neighbors = i)\n",
    "    knn.fit(x_train, y_train)\n",
    "    pred_i = knn.predict(x_test)\n",
    "    error_rate.append(np.mean(pred_i != y_test))\n",
    "\n",
    "# Plot error rate\n",
    "plt.figure(figsize = (10,6))\n",
    "plt.plot(range(2,15), error_rate, color = 'blue', linestyle = '--', marker = 'o', \n",
    "        markerfacecolor = 'green', markersize = 10)\n",
    "\n",
    "plt.title('Error Rate vs K Value')\n",
    "plt.xlabel('K')\n",
    "plt.ylabel('Error Rate')\n",
    "plt.show()"
   ]
  },
  {
   "cell_type": "code",
   "execution_count": 16,
   "id": "311b348a",
   "metadata": {
    "execution": {
     "iopub.execute_input": "2022-02-07T12:12:23.256933Z",
     "iopub.status.busy": "2022-02-07T12:12:23.256258Z",
     "iopub.status.idle": "2022-02-07T12:12:23.264941Z",
     "shell.execute_reply": "2022-02-07T12:12:23.265463Z",
     "shell.execute_reply.started": "2022-02-07T12:11:06.035493Z"
    },
    "papermill": {
     "duration": 0.0406,
     "end_time": "2022-02-07T12:12:23.265650",
     "exception": false,
     "start_time": "2022-02-07T12:12:23.225050",
     "status": "completed"
    },
    "tags": []
   },
   "outputs": [
    {
     "data": {
      "text/plain": [
       "KNeighborsClassifier(n_neighbors=2)"
      ]
     },
     "execution_count": 16,
     "metadata": {},
     "output_type": "execute_result"
    }
   ],
   "source": [
    "# now using above data to train with n_neighbors having least error rate\n",
    "\n",
    "n_value = 0\n",
    "min_error = float('inf')\n",
    "for idx,error in enumerate(error_rate):\n",
    "    if min_error>error:\n",
    "        min_error=error\n",
    "        n_value=idx+2\n",
    "\n",
    "knn = KNeighborsClassifier(n_neighbors = n_value)\n",
    "# Fit new KNN on training data\n",
    "knn.fit(x_train, y_train)"
   ]
  },
  {
   "cell_type": "code",
   "execution_count": 17,
   "id": "e0fb87d5",
   "metadata": {
    "execution": {
     "iopub.execute_input": "2022-02-07T12:12:23.327838Z",
     "iopub.status.busy": "2022-02-07T12:12:23.327131Z",
     "iopub.status.idle": "2022-02-07T12:12:23.334768Z",
     "shell.execute_reply": "2022-02-07T12:12:23.335267Z",
     "shell.execute_reply.started": "2022-02-07T12:11:06.046039Z"
    },
    "papermill": {
     "duration": 0.040724,
     "end_time": "2022-02-07T12:12:23.335475",
     "exception": false,
     "start_time": "2022-02-07T12:12:23.294751",
     "status": "completed"
    },
    "tags": []
   },
   "outputs": [],
   "source": [
    "# Predict KNN\n",
    "y_pred_knn_op = knn.predict(x_test)"
   ]
  },
  {
   "cell_type": "code",
   "execution_count": 18,
   "id": "c1bf6415",
   "metadata": {
    "execution": {
     "iopub.execute_input": "2022-02-07T12:12:23.400096Z",
     "iopub.status.busy": "2022-02-07T12:12:23.399379Z",
     "iopub.status.idle": "2022-02-07T12:12:23.410881Z",
     "shell.execute_reply": "2022-02-07T12:12:23.411414Z",
     "shell.execute_reply.started": "2022-02-07T12:11:06.366741Z"
    },
    "papermill": {
     "duration": 0.047469,
     "end_time": "2022-02-07T12:12:23.411592",
     "exception": false,
     "start_time": "2022-02-07T12:12:23.364123",
     "status": "completed"
    },
    "tags": []
   },
   "outputs": [
    {
     "name": "stdout",
     "output_type": "stream",
     "text": [
      "K-Nearest Neighbors(KNN)\n",
      "k = 2\n",
      "\n",
      "\n",
      "[[22  0]\n",
      " [ 4 16]]\n",
      "----------------------------------------------------------------------------------------------------\n",
      "Classfication Report               precision    recall  f1-score   support\n",
      "\n",
      "           0       0.85      1.00      0.92        22\n",
      "           1       1.00      0.80      0.89        20\n",
      "\n",
      "    accuracy                           0.90        42\n",
      "   macro avg       0.92      0.90      0.90        42\n",
      "weighted avg       0.92      0.90      0.90        42\n",
      "\n",
      "----------------------------------------------------------------------------------------------------\n",
      "Accuracy =  90.47619048 %\n"
     ]
    }
   ],
   "source": [
    "print('K-Nearest Neighbors(KNN)')\n",
    "print('k =',n_value)\n",
    "\n",
    "# Confusion Matrix\n",
    "print('\\n')\n",
    "print(confusion_matrix(y_test, y_pred_knn_op))\n",
    "\n",
    "# Classification Report\n",
    "print('--'*50)\n",
    "print('Classfication Report',classification_report(y_test, y_pred_knn_op))\n",
    "\n",
    "# Accuracy\n",
    "print('--'*50)\n",
    "knn_op_accuracy =round(accuracy_score(y_test, y_pred_knn_op)*100,8)\n",
    "print('Accuracy = ',knn_op_accuracy,'%')"
   ]
  },
  {
   "cell_type": "markdown",
   "id": "870f3c9f",
   "metadata": {
    "papermill": {
     "duration": 0.028286,
     "end_time": "2022-02-07T12:12:23.468896",
     "exception": false,
     "start_time": "2022-02-07T12:12:23.440610",
     "status": "completed"
    },
    "tags": []
   },
   "source": [
    "### RANDOM FOREST"
   ]
  },
  {
   "cell_type": "code",
   "execution_count": 19,
   "id": "67ca8f72",
   "metadata": {
    "execution": {
     "iopub.execute_input": "2022-02-07T12:12:23.530652Z",
     "iopub.status.busy": "2022-02-07T12:12:23.529955Z",
     "iopub.status.idle": "2022-02-07T12:12:24.434002Z",
     "shell.execute_reply": "2022-02-07T12:12:24.432579Z",
     "shell.execute_reply.started": "2022-02-07T12:11:06.779642Z"
    },
    "papermill": {
     "duration": 0.936017,
     "end_time": "2022-02-07T12:12:24.434162",
     "exception": false,
     "start_time": "2022-02-07T12:12:23.498145",
     "status": "completed"
    },
    "tags": []
   },
   "outputs": [],
   "source": [
    "from sklearn.ensemble import RandomForestClassifier\n",
    "\n",
    "# Create model object\n",
    "rfc = RandomForestClassifier(n_estimators = 250,n_jobs=-1)\n",
    "# Fit model to training data\n",
    "rfc.fit(x_train,y_train)\n",
    "y_pred_rfc = rfc.predict(x_test)"
   ]
  },
  {
   "cell_type": "code",
   "execution_count": 20,
   "id": "d6bc08a5",
   "metadata": {
    "execution": {
     "iopub.execute_input": "2022-02-07T12:12:24.501491Z",
     "iopub.status.busy": "2022-02-07T12:12:24.499754Z",
     "iopub.status.idle": "2022-02-07T12:12:24.511819Z",
     "shell.execute_reply": "2022-02-07T12:12:24.512363Z",
     "shell.execute_reply.started": "2022-02-07T12:11:07.439075Z"
    },
    "papermill": {
     "duration": 0.049548,
     "end_time": "2022-02-07T12:12:24.512570",
     "exception": false,
     "start_time": "2022-02-07T12:12:24.463022",
     "status": "completed"
    },
    "tags": []
   },
   "outputs": [
    {
     "name": "stdout",
     "output_type": "stream",
     "text": [
      "Random Forest\n",
      "\n",
      "\n",
      "Confusion Matrix\n",
      "[[20  2]\n",
      " [ 5 15]]\n",
      "----------------------------------------------------------------------------------------------------\n",
      "Classification Report\n",
      "              precision    recall  f1-score   support\n",
      "\n",
      "           0       0.80      0.91      0.85        22\n",
      "           1       0.88      0.75      0.81        20\n",
      "\n",
      "    accuracy                           0.83        42\n",
      "   macro avg       0.84      0.83      0.83        42\n",
      "weighted avg       0.84      0.83      0.83        42\n",
      "\n",
      "----------------------------------------------------------------------------------------------------\n",
      "Accuracy =  83.33333333 %\n"
     ]
    }
   ],
   "source": [
    "print('Random Forest')\n",
    "# Confusion matrix\n",
    "print('\\n')\n",
    "print('Confusion Matrix')\n",
    "print(confusion_matrix(y_test, y_pred_rfc))\n",
    "\n",
    "# Classification report\n",
    "print('--'*50)\n",
    "print('Classification Report')\n",
    "print(classification_report(y_test, y_pred_rfc))\n",
    "\n",
    "# Accuracy\n",
    "print('--'*50)\n",
    "rf_accuracy = round(accuracy_score(y_test, y_pred_rfc)*100,8)\n",
    "print('Accuracy = ', rf_accuracy,'%')"
   ]
  },
  {
   "cell_type": "markdown",
   "id": "94505a95",
   "metadata": {
    "papermill": {
     "duration": 0.029078,
     "end_time": "2022-02-07T12:12:24.571267",
     "exception": false,
     "start_time": "2022-02-07T12:12:24.542189",
     "status": "completed"
    },
    "tags": []
   },
   "source": [
    "### XGBoost Classifier"
   ]
  },
  {
   "cell_type": "code",
   "execution_count": 21,
   "id": "33d68f2c",
   "metadata": {
    "execution": {
     "iopub.execute_input": "2022-02-07T12:12:24.636011Z",
     "iopub.status.busy": "2022-02-07T12:12:24.633281Z",
     "iopub.status.idle": "2022-02-07T12:12:25.161744Z",
     "shell.execute_reply": "2022-02-07T12:12:25.162428Z",
     "shell.execute_reply.started": "2022-02-07T12:11:07.457257Z"
    },
    "papermill": {
     "duration": 0.561797,
     "end_time": "2022-02-07T12:12:25.162633",
     "exception": false,
     "start_time": "2022-02-07T12:12:24.600836",
     "status": "completed"
    },
    "tags": []
   },
   "outputs": [
    {
     "name": "stderr",
     "output_type": "stream",
     "text": [
      "/opt/conda/lib/python3.7/site-packages/xgboost/sklearn.py:1224: UserWarning: The use of label encoder in XGBClassifier is deprecated and will be removed in a future release. To remove this warning, do the following: 1) Pass option use_label_encoder=False when constructing XGBClassifier object; and 2) Encode your labels (y) as integers starting with 0, i.e. 0, 1, 2, ..., [num_class - 1].\n",
      "  warnings.warn(label_encoder_deprecation_msg, UserWarning)\n"
     ]
    },
    {
     "name": "stdout",
     "output_type": "stream",
     "text": [
      "[12:12:24] WARNING: ../src/learner.cc:1115: Starting in XGBoost 1.3.0, the default evaluation metric used with the objective 'binary:logistic' was changed from 'error' to 'logloss'. Explicitly set eval_metric if you'd like to restore the old behavior.\n"
     ]
    }
   ],
   "source": [
    "from xgboost import XGBClassifier\n",
    "\n",
    "# Create model object\n",
    "xgb = XGBClassifier(n_jobs=-1)\n",
    "\n",
    "# Fit model to training data\n",
    "xgb.fit(x_train, y_train)\n",
    "y_pred_xgb = xgb.predict(x_test)"
   ]
  },
  {
   "cell_type": "code",
   "execution_count": 22,
   "id": "c71394d2",
   "metadata": {
    "execution": {
     "iopub.execute_input": "2022-02-07T12:12:25.232406Z",
     "iopub.status.busy": "2022-02-07T12:12:25.231358Z",
     "iopub.status.idle": "2022-02-07T12:12:25.244610Z",
     "shell.execute_reply": "2022-02-07T12:12:25.243973Z",
     "shell.execute_reply.started": "2022-02-07T12:11:07.953498Z"
    },
    "papermill": {
     "duration": 0.050286,
     "end_time": "2022-02-07T12:12:25.244760",
     "exception": false,
     "start_time": "2022-02-07T12:12:25.194474",
     "status": "completed"
    },
    "tags": []
   },
   "outputs": [
    {
     "name": "stdout",
     "output_type": "stream",
     "text": [
      "XGBoost Classifer\n",
      "\n",
      "\n",
      "Confusion Matrix\n",
      "[[19  3]\n",
      " [ 2 18]]\n",
      "----------------------------------------------------------------------------------------------------\n",
      "Classification Report\n",
      "              precision    recall  f1-score   support\n",
      "\n",
      "           0       0.90      0.86      0.88        22\n",
      "           1       0.86      0.90      0.88        20\n",
      "\n",
      "    accuracy                           0.88        42\n",
      "   macro avg       0.88      0.88      0.88        42\n",
      "weighted avg       0.88      0.88      0.88        42\n",
      "\n",
      "----------------------------------------------------------------------------------------------------\n",
      "Accuracy =  88.0952381 %\n"
     ]
    }
   ],
   "source": [
    "print('XGBoost Classifer')\n",
    "# Confusion matrix\n",
    "print('\\n')\n",
    "print('Confusion Matrix')\n",
    "print(confusion_matrix(y_test, y_pred_xgb))\n",
    "\n",
    "# Classification report\n",
    "print('--'*50)\n",
    "print('Classification Report')\n",
    "print(classification_report(y_test, y_pred_xgb))\n",
    "\n",
    "# Accuracy\n",
    "print('--'*50)\n",
    "xgb_accuracy = round(accuracy_score(y_test, y_pred_xgb)*100,8)\n",
    "print('Accuracy = ', xgb_accuracy,'%')"
   ]
  },
  {
   "cell_type": "code",
   "execution_count": 23,
   "id": "15be7aa9",
   "metadata": {
    "execution": {
     "iopub.execute_input": "2022-02-07T12:12:25.310034Z",
     "iopub.status.busy": "2022-02-07T12:12:25.308946Z",
     "iopub.status.idle": "2022-02-07T12:12:25.321681Z",
     "shell.execute_reply": "2022-02-07T12:12:25.322270Z",
     "shell.execute_reply.started": "2022-02-07T12:11:08.029442Z"
    },
    "papermill": {
     "duration": 0.047467,
     "end_time": "2022-02-07T12:12:25.322474",
     "exception": false,
     "start_time": "2022-02-07T12:12:25.275007",
     "status": "completed"
    },
    "tags": []
   },
   "outputs": [
    {
     "data": {
      "text/html": [
       "<div>\n",
       "<style scoped>\n",
       "    .dataframe tbody tr th:only-of-type {\n",
       "        vertical-align: middle;\n",
       "    }\n",
       "\n",
       "    .dataframe tbody tr th {\n",
       "        vertical-align: top;\n",
       "    }\n",
       "\n",
       "    .dataframe thead th {\n",
       "        text-align: right;\n",
       "    }\n",
       "</style>\n",
       "<table border=\"1\" class=\"dataframe\">\n",
       "  <thead>\n",
       "    <tr style=\"text-align: right;\">\n",
       "      <th></th>\n",
       "      <th>Model</th>\n",
       "      <th>Score</th>\n",
       "    </tr>\n",
       "  </thead>\n",
       "  <tbody>\n",
       "    <tr>\n",
       "      <th>2</th>\n",
       "      <td>K-Nearest Neighbors</td>\n",
       "      <td>90.476190</td>\n",
       "    </tr>\n",
       "    <tr>\n",
       "      <th>4</th>\n",
       "      <td>XGBoost Classifier</td>\n",
       "      <td>88.095238</td>\n",
       "    </tr>\n",
       "    <tr>\n",
       "      <th>3</th>\n",
       "      <td>Random Forest</td>\n",
       "      <td>83.333333</td>\n",
       "    </tr>\n",
       "    <tr>\n",
       "      <th>1</th>\n",
       "      <td>Linear SVC</td>\n",
       "      <td>80.952381</td>\n",
       "    </tr>\n",
       "    <tr>\n",
       "      <th>0</th>\n",
       "      <td>Logistic Regression</td>\n",
       "      <td>73.809524</td>\n",
       "    </tr>\n",
       "  </tbody>\n",
       "</table>\n",
       "</div>"
      ],
      "text/plain": [
       "                 Model      Score\n",
       "2  K-Nearest Neighbors  90.476190\n",
       "4   XGBoost Classifier  88.095238\n",
       "3        Random Forest  83.333333\n",
       "1           Linear SVC  80.952381\n",
       "0  Logistic Regression  73.809524"
      ]
     },
     "execution_count": 23,
     "metadata": {},
     "output_type": "execute_result"
    }
   ],
   "source": [
    "models = pd.DataFrame({\n",
    "     'Model': ['Logistic Regression', 'Linear SVC', \n",
    "               'K-Nearest Neighbors', 'Random Forest','XGBoost Classifier'],\n",
    "    'Score': [logreg_accuracy, svc_accuracy, \n",
    "               knn_op_accuracy, rf_accuracy,xgb_accuracy]})\n",
    "models.sort_values(by='Score', ascending=False)"
   ]
  },
  {
   "cell_type": "code",
   "execution_count": null,
   "id": "e6a03975",
   "metadata": {
    "papermill": {
     "duration": 0.03059,
     "end_time": "2022-02-07T12:12:25.383721",
     "exception": false,
     "start_time": "2022-02-07T12:12:25.353131",
     "status": "completed"
    },
    "tags": []
   },
   "outputs": [],
   "source": []
  },
  {
   "cell_type": "code",
   "execution_count": null,
   "id": "343c87a2",
   "metadata": {
    "papermill": {
     "duration": 0.030656,
     "end_time": "2022-02-07T12:12:25.445129",
     "exception": false,
     "start_time": "2022-02-07T12:12:25.414473",
     "status": "completed"
    },
    "tags": []
   },
   "outputs": [],
   "source": []
  }
 ],
 "metadata": {
  "kernelspec": {
   "display_name": "Python 3",
   "language": "python",
   "name": "python3"
  },
  "language_info": {
   "codemirror_mode": {
    "name": "ipython",
    "version": 3
   },
   "file_extension": ".py",
   "mimetype": "text/x-python",
   "name": "python",
   "nbconvert_exporter": "python",
   "pygments_lexer": "ipython3",
   "version": "3.7.12"
  },
  "papermill": {
   "default_parameters": {},
   "duration": 16.331185,
   "end_time": "2022-02-07T12:12:26.290108",
   "environment_variables": {},
   "exception": null,
   "input_path": "__notebook__.ipynb",
   "output_path": "__notebook__.ipynb",
   "parameters": {},
   "start_time": "2022-02-07T12:12:09.958923",
   "version": "2.3.3"
  }
 },
 "nbformat": 4,
 "nbformat_minor": 5
}
