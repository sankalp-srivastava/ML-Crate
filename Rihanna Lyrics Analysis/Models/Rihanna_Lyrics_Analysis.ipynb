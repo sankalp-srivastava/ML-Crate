{
  "nbformat": 4,
  "nbformat_minor": 0,
  "metadata": {
    "colab": {
      "name": "Rihanna Lyrics Analysis.ipynb",
      "provenance": []
    },
    "kernelspec": {
      "name": "python3",
      "display_name": "Python 3"
    },
    "language_info": {
      "name": "python"
    }
  },
  "cells": [
    {
      "cell_type": "code",
      "execution_count": 1,
      "metadata": {
        "colab": {
          "base_uri": "https://localhost:8080/"
        },
        "id": "8k_x9m_t7JWn",
        "outputId": "6b187d1f-eab2-4a60-825f-a1e92835c0d1"
      },
      "outputs": [
        {
          "output_type": "stream",
          "name": "stdout",
          "text": [
            "Mounted at /content/drive\n"
          ]
        }
      ],
      "source": [
        "from google.colab import drive\n",
        "drive.mount('/content/drive')"
      ]
    },
    {
      "cell_type": "code",
      "source": [
        "import pandas as pd\n",
        "import pandas as pd\n",
        "import operator\n",
        "import matplotlib.pyplot as plt"
      ],
      "metadata": {
        "id": "rFI-4ejYDagG"
      },
      "execution_count": 15,
      "outputs": []
    },
    {
      "cell_type": "code",
      "source": [
        "df=pd.read_csv('/content/drive/MyDrive/JWOC/Rihanna Lyrics.csv',sep=\";\",encoding='cp1252')\n",
        "df.head()"
      ],
      "metadata": {
        "colab": {
          "base_uri": "https://localhost:8080/",
          "height": 206
        },
        "id": "2kRZ2y8P7KUt",
        "outputId": "dd4f39ee-bd89-4a1d-cb24-7ac8c6eb2bcf"
      },
      "execution_count": 8,
      "outputs": [
        {
          "output_type": "execute_result",
          "data": {
            "text/html": [
              "\n",
              "  <div id=\"df-20d42ce5-2a3b-4aae-8651-f98da5ebf03d\">\n",
              "    <div class=\"colab-df-container\">\n",
              "      <div>\n",
              "<style scoped>\n",
              "    .dataframe tbody tr th:only-of-type {\n",
              "        vertical-align: middle;\n",
              "    }\n",
              "\n",
              "    .dataframe tbody tr th {\n",
              "        vertical-align: top;\n",
              "    }\n",
              "\n",
              "    .dataframe thead th {\n",
              "        text-align: right;\n",
              "    }\n",
              "</style>\n",
              "<table border=\"1\" class=\"dataframe\">\n",
              "  <thead>\n",
              "    <tr style=\"text-align: right;\">\n",
              "      <th></th>\n",
              "      <th>album</th>\n",
              "      <th>song</th>\n",
              "      <th>lyrics</th>\n",
              "      <th>year</th>\n",
              "      <th>views</th>\n",
              "    </tr>\n",
              "  </thead>\n",
              "  <tbody>\n",
              "    <tr>\n",
              "      <th>0</th>\n",
              "      <td>Music of the Sun</td>\n",
              "      <td>Pon de Replay</td>\n",
              "      <td>[Chorus]\\nCome, Mr. DJ, song pon de replay\\nCo...</td>\n",
              "      <td>2005</td>\n",
              "      <td>127800</td>\n",
              "    </tr>\n",
              "    <tr>\n",
              "      <th>1</th>\n",
              "      <td>Music of the Sun</td>\n",
              "      <td>Here I Go Again</td>\n",
              "      <td>[Intro: Rihanna]\\nNa-na-na-na-na\\nNa-na-na-na-...</td>\n",
              "      <td>2005</td>\n",
              "      <td>6000</td>\n",
              "    </tr>\n",
              "    <tr>\n",
              "      <th>2</th>\n",
              "      <td>Music of the Sun</td>\n",
              "      <td>If It’s Lovin’ That You Want</td>\n",
              "      <td>[Intro]\\nI wanna let you know\\nThat you don't ...</td>\n",
              "      <td>2005</td>\n",
              "      <td>27100</td>\n",
              "    </tr>\n",
              "    <tr>\n",
              "      <th>3</th>\n",
              "      <td>Music of the Sun</td>\n",
              "      <td>You Don’t Love Me (No, No, No)</td>\n",
              "      <td>[Intro: Vybz Kartel]\\nVybz Kartel\\nRihanna\\nYo...</td>\n",
              "      <td>2005</td>\n",
              "      <td>7300</td>\n",
              "    </tr>\n",
              "    <tr>\n",
              "      <th>4</th>\n",
              "      <td>Music of the Sun</td>\n",
              "      <td>That La, La, La</td>\n",
              "      <td>[Intro]\\nHere we go\\n(Oh) la, la, la, la, la, ...</td>\n",
              "      <td>2005</td>\n",
              "      <td>0</td>\n",
              "    </tr>\n",
              "  </tbody>\n",
              "</table>\n",
              "</div>\n",
              "      <button class=\"colab-df-convert\" onclick=\"convertToInteractive('df-20d42ce5-2a3b-4aae-8651-f98da5ebf03d')\"\n",
              "              title=\"Convert this dataframe to an interactive table.\"\n",
              "              style=\"display:none;\">\n",
              "        \n",
              "  <svg xmlns=\"http://www.w3.org/2000/svg\" height=\"24px\"viewBox=\"0 0 24 24\"\n",
              "       width=\"24px\">\n",
              "    <path d=\"M0 0h24v24H0V0z\" fill=\"none\"/>\n",
              "    <path d=\"M18.56 5.44l.94 2.06.94-2.06 2.06-.94-2.06-.94-.94-2.06-.94 2.06-2.06.94zm-11 1L8.5 8.5l.94-2.06 2.06-.94-2.06-.94L8.5 2.5l-.94 2.06-2.06.94zm10 10l.94 2.06.94-2.06 2.06-.94-2.06-.94-.94-2.06-.94 2.06-2.06.94z\"/><path d=\"M17.41 7.96l-1.37-1.37c-.4-.4-.92-.59-1.43-.59-.52 0-1.04.2-1.43.59L10.3 9.45l-7.72 7.72c-.78.78-.78 2.05 0 2.83L4 21.41c.39.39.9.59 1.41.59.51 0 1.02-.2 1.41-.59l7.78-7.78 2.81-2.81c.8-.78.8-2.07 0-2.86zM5.41 20L4 18.59l7.72-7.72 1.47 1.35L5.41 20z\"/>\n",
              "  </svg>\n",
              "      </button>\n",
              "      \n",
              "  <style>\n",
              "    .colab-df-container {\n",
              "      display:flex;\n",
              "      flex-wrap:wrap;\n",
              "      gap: 12px;\n",
              "    }\n",
              "\n",
              "    .colab-df-convert {\n",
              "      background-color: #E8F0FE;\n",
              "      border: none;\n",
              "      border-radius: 50%;\n",
              "      cursor: pointer;\n",
              "      display: none;\n",
              "      fill: #1967D2;\n",
              "      height: 32px;\n",
              "      padding: 0 0 0 0;\n",
              "      width: 32px;\n",
              "    }\n",
              "\n",
              "    .colab-df-convert:hover {\n",
              "      background-color: #E2EBFA;\n",
              "      box-shadow: 0px 1px 2px rgba(60, 64, 67, 0.3), 0px 1px 3px 1px rgba(60, 64, 67, 0.15);\n",
              "      fill: #174EA6;\n",
              "    }\n",
              "\n",
              "    [theme=dark] .colab-df-convert {\n",
              "      background-color: #3B4455;\n",
              "      fill: #D2E3FC;\n",
              "    }\n",
              "\n",
              "    [theme=dark] .colab-df-convert:hover {\n",
              "      background-color: #434B5C;\n",
              "      box-shadow: 0px 1px 3px 1px rgba(0, 0, 0, 0.15);\n",
              "      filter: drop-shadow(0px 1px 2px rgba(0, 0, 0, 0.3));\n",
              "      fill: #FFFFFF;\n",
              "    }\n",
              "  </style>\n",
              "\n",
              "      <script>\n",
              "        const buttonEl =\n",
              "          document.querySelector('#df-20d42ce5-2a3b-4aae-8651-f98da5ebf03d button.colab-df-convert');\n",
              "        buttonEl.style.display =\n",
              "          google.colab.kernel.accessAllowed ? 'block' : 'none';\n",
              "\n",
              "        async function convertToInteractive(key) {\n",
              "          const element = document.querySelector('#df-20d42ce5-2a3b-4aae-8651-f98da5ebf03d');\n",
              "          const dataTable =\n",
              "            await google.colab.kernel.invokeFunction('convertToInteractive',\n",
              "                                                     [key], {});\n",
              "          if (!dataTable) return;\n",
              "\n",
              "          const docLinkHtml = 'Like what you see? Visit the ' +\n",
              "            '<a target=\"_blank\" href=https://colab.research.google.com/notebooks/data_table.ipynb>data table notebook</a>'\n",
              "            + ' to learn more about interactive tables.';\n",
              "          element.innerHTML = '';\n",
              "          dataTable['output_type'] = 'display_data';\n",
              "          await google.colab.output.renderOutput(dataTable, element);\n",
              "          const docLink = document.createElement('div');\n",
              "          docLink.innerHTML = docLinkHtml;\n",
              "          element.appendChild(docLink);\n",
              "        }\n",
              "      </script>\n",
              "    </div>\n",
              "  </div>\n",
              "  "
            ],
            "text/plain": [
              "              album                            song  ...  year   views\n",
              "0  Music of the Sun                   Pon de Replay  ...  2005  127800\n",
              "1  Music of the Sun                 Here I Go Again  ...  2005    6000\n",
              "2  Music of the Sun    If It’s Lovin’ That You Want  ...  2005   27100\n",
              "3  Music of the Sun  You Don’t Love Me (No, No, No)  ...  2005    7300\n",
              "4  Music of the Sun                 That La, La, La  ...  2005       0\n",
              "\n",
              "[5 rows x 5 columns]"
            ]
          },
          "metadata": {},
          "execution_count": 8
        }
      ]
    },
    {
      "cell_type": "code",
      "source": [
        "unique_album_names=df['album'].unique()"
      ],
      "metadata": {
        "id": "SjCaOUWcDY1l"
      },
      "execution_count": 9,
      "outputs": []
    },
    {
      "cell_type": "code",
      "source": [
        "unique_album_names"
      ],
      "metadata": {
        "colab": {
          "base_uri": "https://localhost:8080/"
        },
        "id": "9qdB5ThuZObO",
        "outputId": "5dafd5c0-3caa-43b6-f293-d950364fb2f1"
      },
      "execution_count": 10,
      "outputs": [
        {
          "output_type": "execute_result",
          "data": {
            "text/plain": [
              "array(['Music of the Sun', 'A Girl Like Me', 'Good Girl Gone Bad',\n",
              "       'Rated R', 'Loud', 'Talk That Talk', 'Unapologetic', 'ANTI'],\n",
              "      dtype=object)"
            ]
          },
          "metadata": {},
          "execution_count": 10
        }
      ]
    },
    {
      "cell_type": "code",
      "source": [
        "unique_year_names=df['year'].unique()\n",
        "unique_year_names"
      ],
      "metadata": {
        "colab": {
          "base_uri": "https://localhost:8080/"
        },
        "id": "8whWfWPWZQb8",
        "outputId": "cdd2c3a6-e91d-4877-892e-d52ab39cd25a"
      },
      "execution_count": 11,
      "outputs": [
        {
          "output_type": "execute_result",
          "data": {
            "text/plain": [
              "array([2005, 2006, 2007, 2009, 2010, 2011, 2012, 2016])"
            ]
          },
          "metadata": {},
          "execution_count": 11
        }
      ]
    },
    {
      "cell_type": "markdown",
      "source": [
        "Album_views"
      ],
      "metadata": {
        "id": "klI54DRZZd0H"
      }
    },
    {
      "cell_type": "code",
      "source": [
        "album_views=dict()\n",
        "for i in df.index:\n",
        "    val=int(df['views'][i])\n",
        "    if df['album'][i] not in album_views:\n",
        "     album_views[df['album'][i]]=int(df['views'][i])\n",
        "    else:\n",
        "     album_views[df['album'][i]]+=int(df['views'][i])"
      ],
      "metadata": {
        "id": "5PGO57I8ZZ78"
      },
      "execution_count": 13,
      "outputs": []
    },
    {
      "cell_type": "code",
      "source": [
        "album_views"
      ],
      "metadata": {
        "colab": {
          "base_uri": "https://localhost:8080/"
        },
        "id": "RYHv_r1naB9v",
        "outputId": "502b6b30-0bb3-419c-be5f-eb70f2cbad4d"
      },
      "execution_count": 14,
      "outputs": [
        {
          "output_type": "execute_result",
          "data": {
            "text/plain": [
              "{'A Girl Like Me': 406800,\n",
              " 'ANTI': 20319100,\n",
              " 'Good Girl Gone Bad': 1724000,\n",
              " 'Loud': 3112300,\n",
              " 'Music of the Sun': 185500,\n",
              " 'Rated R': 895600,\n",
              " 'Talk That Talk': 1105500,\n",
              " 'Unapologetic': 5249100}"
            ]
          },
          "metadata": {},
          "execution_count": 14
        }
      ]
    },
    {
      "cell_type": "code",
      "source": [
        "album_views = dict( sorted(album_views.items(), key=operator.itemgetter(1),reverse=True))\n",
        "print('Dictionary in descending order by value : ',album_views)    \n",
        "\n",
        "top_5_album_views=dict()\n",
        "j=0\n",
        "for i in album_views:\n",
        "  top_5_album_views[i]=album_views[i]\n",
        "  j+=1\n",
        "  if(j==5):\n",
        "    break\n",
        "\n",
        "names=list(top_5_album_views.keys())\n",
        "values=list(top_5_album_views.values())\n",
        "\n",
        "f = plt.figure()\n",
        "f.set_figwidth(10)\n",
        "f.set_figheight(10)\n",
        "\n",
        "c = ['red', 'yellow', 'black', 'blue', 'orange']\n",
        "  \n",
        "plt.bar(range(len(top_5_album_views)), values, tick_label=names,color=c)\n",
        "plt.show() "
      ],
      "metadata": {
        "colab": {
          "base_uri": "https://localhost:8080/",
          "height": 639
        },
        "id": "olDp8INeaJHQ",
        "outputId": "3e80c993-c534-4322-ef1d-958dadcbad35"
      },
      "execution_count": 16,
      "outputs": [
        {
          "output_type": "stream",
          "name": "stdout",
          "text": [
            "Dictionary in descending order by value :  {'ANTI': 20319100, 'Unapologetic': 5249100, 'Loud': 3112300, 'Good Girl Gone Bad': 1724000, 'Talk That Talk': 1105500, 'Rated R': 895600, 'A Girl Like Me': 406800, 'Music of the Sun': 185500}\n"
          ]
        },
        {
          "output_type": "display_data",
          "data": {
            "image/png": "[encoded data removed]",
            "text/plain": [
              "<Figure size 720x720 with 1 Axes>"
            ]
          },
          "metadata": {
            "needs_background": "light"
          }
        }
      ]
    },
    {
      "cell_type": "markdown",
      "source": [
        "Most_views_year_wise"
      ],
      "metadata": {
        "id": "5XcT_-RnbRWT"
      }
    },
    {
      "cell_type": "code",
      "source": [
        "year_wise_views=dict()\n",
        "for i in df.index:\n",
        "    val=int(df['views'][i])\n",
        "    if df['year'][i] not in year_wise_views:\n",
        "     year_wise_views[df['year'][i]]=int(df['views'][i])\n",
        "    else:\n",
        "     year_wise_views[df['year'][i]]+=int(df['views'][i])"
      ],
      "metadata": {
        "id": "geRitnKEas_T"
      },
      "execution_count": 17,
      "outputs": []
    },
    {
      "cell_type": "code",
      "source": [
        "year_wise_views = dict( sorted(year_wise_views.items(), key=operator.itemgetter(1),reverse=True))\n",
        "print('Dictionary in descending order by value : ',year_wise_views)    \n",
        "\n",
        "top_5_year_wise_views=dict()\n",
        "j=0\n",
        "for i in year_wise_views:\n",
        "  top_5_year_wise_views[i]=year_wise_views[i]\n",
        "  j+=1\n",
        "  if(j==5):\n",
        "    break\n",
        "\n",
        "names=list(top_5_year_wise_views.keys())\n",
        "values=list(top_5_year_wise_views.values())\n",
        "\n",
        "f = plt.figure()\n",
        "f.set_figwidth(10)\n",
        "f.set_figheight(10)\n",
        "\n",
        "c = ['red', 'yellow', 'black', 'blue', 'orange']\n",
        "  \n",
        "plt.bar(range(len(top_5_year_wise_views)), values, tick_label=names,color=c)\n",
        "plt.show() "
      ],
      "metadata": {
        "colab": {
          "base_uri": "https://localhost:8080/",
          "height": 639
        },
        "id": "FleuX7fubqeu",
        "outputId": "4e37fe55-fabe-4e60-c794-6c056ddb1f72"
      },
      "execution_count": 18,
      "outputs": [
        {
          "output_type": "stream",
          "name": "stdout",
          "text": [
            "Dictionary in descending order by value :  {2016: 20319100, 2012: 5249100, 2010: 3112300, 2007: 1724000, 2011: 1105500, 2009: 895600, 2006: 406800, 2005: 185500}\n"
          ]
        },
        {
          "output_type": "display_data",
          "data": {
            "image/png": "[encoded data removed]",
            "text/plain": [
              "<Figure size 720x720 with 1 Axes>"
            ]
          },
          "metadata": {
            "needs_background": "light"
          }
        }
      ]
    },
    {
      "cell_type": "markdown",
      "source": [
        "Most views song wise"
      ],
      "metadata": {
        "id": "vZV5PmGtcZAI"
      }
    },
    {
      "cell_type": "code",
      "source": [
        "song_wise_views=dict()\n",
        "for i in df.index:\n",
        "    val=int(df['views'][i])\n",
        "    if df['song'][i] not in song_wise_views:\n",
        "     song_wise_views[df['song'][i]]=int(df['views'][i])\n",
        "    else:\n",
        "     song_wise_views[df['song'][i]]+=int(df['views'][i])"
      ],
      "metadata": {
        "id": "_Ew-U1M8cS8L"
      },
      "execution_count": 19,
      "outputs": []
    },
    {
      "cell_type": "code",
      "source": [
        "song_wise_views = dict( sorted(song_wise_views.items(), key=operator.itemgetter(1),reverse=True))\n",
        "print('Dictionary in descending order by value : ',song_wise_views)    \n",
        "\n",
        "top_5_song_wise_views=dict()\n",
        "j=0\n",
        "for i in song_wise_views:\n",
        "  top_5_song_wise_views[i]=song_wise_views[i]\n",
        "  j+=1\n",
        "  if(j==5):\n",
        "    break\n",
        "\n",
        "names=list(top_5_song_wise_views.keys())\n",
        "values=list(top_5_song_wise_views.values())\n",
        "\n",
        "f = plt.figure()\n",
        "f.set_figwidth(10)\n",
        "f.set_figheight(10)\n",
        "\n",
        "c = ['red', 'yellow', 'black', 'blue', 'orange']\n",
        "  \n",
        "plt.bar(range(len(top_5_song_wise_views)), values, tick_label=names,color=c)\n",
        "plt.show() "
      ],
      "metadata": {
        "colab": {
          "base_uri": "https://localhost:8080/",
          "height": 639
        },
        "id": "sGMmwDXCc6dS",
        "outputId": "4177ce0d-a464-418c-e5cf-6f3d5d76efb2"
      },
      "execution_count": 20,
      "outputs": [
        {
          "output_type": "stream",
          "name": "stdout",
          "text": [
            "Dictionary in descending order by value :  {'Work (Ft.\\xa0Drake)': 7900000, 'Needed Me': 2200000, 'Love on the Brain': 2200000, 'Stay (Ft.\\xa0Mikky\\xa0Ekko)': 1700000, 'Kiss It Better': 1400000, 'Sex with Me': 1100000, 'Diamonds': 971800, 'Consideration (Ft.\\xa0SZA)': 938100, 'Umbrella (Ft.\\xa0JAY-Z)\\xa0': 856900, 'Desperado': 852000, \"What's My Name? (Ft.\\xa0Drake)\": 737100, \"Same Ol' Mistakes\": 702000, 'Loveeeeeee Song (Ft.\\xa0Future)': 691500, 'Love the Way You Lie, Pt. II (Ft.\\xa0Eminem)': 612600, 'Higher': 568600, 'Man Down': 526500, 'Yeah, I Said It': 507800, 'Close to You': 504400, 'Woo': 499100, 'Pour It Up': 431800, 'S&M': 409100, 'Never Ending': 306400, \"Don't Stop the Music\": 300200, 'Only Girl (In the World)': 294900, 'What Now': 288700, 'We Found Love (Ft.\\xa0Calvin\\xa0Harris)': 286000, 'James Joint': 254700, 'Unfaithful': 245800, 'Pose': 245100, 'Rude Boy\\xa0': 230000, 'Rehab (Ft.\\xa0Justin\\xa0Timberlake)': 219400, 'Love Without Tragedy / Mother Mary': 199100, 'Numb (Ft.\\xa0Eminem)': 198500, 'Te Amo\\xa0': 165300, 'Jump (Ft.\\xa0Kevin\\xa0Cossom)': 163900, 'Russian Roulette\\xa0': 158000, 'Skin': 153800, 'Talk That Talk (Ft.\\xa0JAY-Z)': 153200, 'Birthday Cake': 145700, 'Goodnight Gotham': 140900, 'California King Bed': 138700, 'Pon de Replay': 127800, 'Cockiness (Love It)': 127400, \"Nobody's Business (Ft.\\xa0Chris\\xa0Brown)\": 124100, 'You Da One': 122000, 'Get It Over With': 122000, 'No Love Allowed': 109500, 'Cheers (Drink to That)': 101700, 'Hard (Ft.\\xa0Jeezy)\\xa0': 98400, 'Phresh Out the Runway': 95800, 'Where Have You Been': 91900, 'Shut Up and Drive': 88200, 'Hate That I Love You (Ft.\\xa0Ne-Yo)': 87400, \"Watch n' Learn\": 74200, 'SOS': 69500, 'Stupid In Love\\xa0': 56900, 'Raining Men (Ft.\\xa0Nicki\\xa0Minaj)': 54500, 'Right Now (Ft.\\xa0David\\xa0Guetta)': 54300, 'Half of Me': 53300, 'Good Girl Gone Bad': 45000, 'Lost in Paradise': 44800, 'Cry': 44200, 'Complicated': 40600, 'Drunk on Love': 37400, 'ROCKSTAR 101 (Ft.\\xa0Slash)\\xa0': 33300, 'We Ride': 32800, 'Cold Case Love\\xa0': 32600, 'Wait Your Turn\\xa0': 28000, 'If It’s Lovin’ That You Want': 27100, 'Farewell': 26900, 'G4L\\xa0': 25800, 'Fire Bomb\\xa0': 25700, 'Fading': 25600, 'We All Want Love': 22000, \"Breakin' Dishes\": 21500, 'Photographs (Ft.\\xa0?will.i.am)\\xa0': 20400, 'Roc Me Out': 18800, 'Love the Way You Lie (Piano Version)': 17200, 'Question Existing': 16100, 'P.S. (I’m Still Not Over You)': 15600, 'The Last Song\\xa0': 12200, 'Push Up on Me': 12000, 'Sell Me Candy': 12000, 'Lemme Get That': 11400, 'Pon de Replay (Remix)': 11300, 'Break It Off': 10800, 'A Girl Like Me': 10700, 'Say It': 9700, 'Mad House\\xa0': 9000, 'You Don’t Love Me (No, No, No)': 7300, 'Here I Go Again': 6000, 'There’s a Thug In My Life': 6000, 'Final Goodbye': 5900, 'A Million Miles Away': 5400, 'Crazy Little Thing Called Love': 5200, 'Dem Haters': 5100, 'That La, La, La': 0, 'The Last Time': 0, 'Willing to Wait': 0, 'Music of the Sun': 0, 'Let Me': 0, 'Rush': 0, 'Now I Know': 0, 'Kisses Don’t Lie': 0, 'Selfish Girl': 0, 'If It’s Lovin’ That You Want, Pt. 2': 0, 'Who Ya Gonna Run To?': 0, 'Pon de Replay (Full Phatt Remix)': 0, 'Coulda Been the One': 0, 'Haunted': 0, 'Russian Roulette (Donni Hotwheel Remix)\\xa0': 0, 'Hole in My Head (Ft.\\xa0Justin\\xa0Timberlake)\\xa0': 0, 'We Found Love (Calvin Harris Extended Mix) (Ft.\\xa0Calvin\\xa0Harris)': 0}\n"
          ]
        },
        {
          "output_type": "display_data",
          "data": {
            "image/png": "[encoded data removed]",
            "text/plain": [
              "<Figure size 720x720 with 1 Axes>"
            ]
          },
          "metadata": {
            "needs_background": "light"
          }
        }
      ]
    },
    {
      "cell_type": "markdown",
      "source": [
        "year-wise most viewed albums and song"
      ],
      "metadata": {
        "id": "6xbLC3enjfCG"
      }
    },
    {
      "cell_type": "markdown",
      "source": [
        "2005"
      ],
      "metadata": {
        "id": "Hit4e2J8jipN"
      }
    },
    {
      "cell_type": "code",
      "source": [
        "df_2005=df[df['year']==2005]\n",
        "df_2005.head()"
      ],
      "metadata": {
        "colab": {
          "base_uri": "https://localhost:8080/",
          "height": 206
        },
        "id": "QDFky-WRdSpQ",
        "outputId": "fb3897b0-a766-47da-a819-4a6390980331"
      },
      "execution_count": 24,
      "outputs": [
        {
          "output_type": "execute_result",
          "data": {
            "text/html": [
              "\n",
              "  <div id=\"df-19360cd8-84d5-4218-8318-87062c1c1216\">\n",
              "    <div class=\"colab-df-container\">\n",
              "      <div>\n",
              "<style scoped>\n",
              "    .dataframe tbody tr th:only-of-type {\n",
              "        vertical-align: middle;\n",
              "    }\n",
              "\n",
              "    .dataframe tbody tr th {\n",
              "        vertical-align: top;\n",
              "    }\n",
              "\n",
              "    .dataframe thead th {\n",
              "        text-align: right;\n",
              "    }\n",
              "</style>\n",
              "<table border=\"1\" class=\"dataframe\">\n",
              "  <thead>\n",
              "    <tr style=\"text-align: right;\">\n",
              "      <th></th>\n",
              "      <th>album</th>\n",
              "      <th>song</th>\n",
              "      <th>lyrics</th>\n",
              "      <th>year</th>\n",
              "      <th>views</th>\n",
              "    </tr>\n",
              "  </thead>\n",
              "  <tbody>\n",
              "    <tr>\n",
              "      <th>0</th>\n",
              "      <td>Music of the Sun</td>\n",
              "      <td>Pon de Replay</td>\n",
              "      <td>[Chorus]\\nCome, Mr. DJ, song pon de replay\\nCo...</td>\n",
              "      <td>2005</td>\n",
              "      <td>127800</td>\n",
              "    </tr>\n",
              "    <tr>\n",
              "      <th>1</th>\n",
              "      <td>Music of the Sun</td>\n",
              "      <td>Here I Go Again</td>\n",
              "      <td>[Intro: Rihanna]\\nNa-na-na-na-na\\nNa-na-na-na-...</td>\n",
              "      <td>2005</td>\n",
              "      <td>6000</td>\n",
              "    </tr>\n",
              "    <tr>\n",
              "      <th>2</th>\n",
              "      <td>Music of the Sun</td>\n",
              "      <td>If It’s Lovin’ That You Want</td>\n",
              "      <td>[Intro]\\nI wanna let you know\\nThat you don't ...</td>\n",
              "      <td>2005</td>\n",
              "      <td>27100</td>\n",
              "    </tr>\n",
              "    <tr>\n",
              "      <th>3</th>\n",
              "      <td>Music of the Sun</td>\n",
              "      <td>You Don’t Love Me (No, No, No)</td>\n",
              "      <td>[Intro: Vybz Kartel]\\nVybz Kartel\\nRihanna\\nYo...</td>\n",
              "      <td>2005</td>\n",
              "      <td>7300</td>\n",
              "    </tr>\n",
              "    <tr>\n",
              "      <th>4</th>\n",
              "      <td>Music of the Sun</td>\n",
              "      <td>That La, La, La</td>\n",
              "      <td>[Intro]\\nHere we go\\n(Oh) la, la, la, la, la, ...</td>\n",
              "      <td>2005</td>\n",
              "      <td>0</td>\n",
              "    </tr>\n",
              "  </tbody>\n",
              "</table>\n",
              "</div>\n",
              "      <button class=\"colab-df-convert\" onclick=\"convertToInteractive('df-19360cd8-84d5-4218-8318-87062c1c1216')\"\n",
              "              title=\"Convert this dataframe to an interactive table.\"\n",
              "              style=\"display:none;\">\n",
              "        \n",
              "  <svg xmlns=\"http://www.w3.org/2000/svg\" height=\"24px\"viewBox=\"0 0 24 24\"\n",
              "       width=\"24px\">\n",
              "    <path d=\"M0 0h24v24H0V0z\" fill=\"none\"/>\n",
              "    <path d=\"M18.56 5.44l.94 2.06.94-2.06 2.06-.94-2.06-.94-.94-2.06-.94 2.06-2.06.94zm-11 1L8.5 8.5l.94-2.06 2.06-.94-2.06-.94L8.5 2.5l-.94 2.06-2.06.94zm10 10l.94 2.06.94-2.06 2.06-.94-2.06-.94-.94-2.06-.94 2.06-2.06.94z\"/><path d=\"M17.41 7.96l-1.37-1.37c-.4-.4-.92-.59-1.43-.59-.52 0-1.04.2-1.43.59L10.3 9.45l-7.72 7.72c-.78.78-.78 2.05 0 2.83L4 21.41c.39.39.9.59 1.41.59.51 0 1.02-.2 1.41-.59l7.78-7.78 2.81-2.81c.8-.78.8-2.07 0-2.86zM5.41 20L4 18.59l7.72-7.72 1.47 1.35L5.41 20z\"/>\n",
              "  </svg>\n",
              "      </button>\n",
              "      \n",
              "  <style>\n",
              "    .colab-df-container {\n",
              "      display:flex;\n",
              "      flex-wrap:wrap;\n",
              "      gap: 12px;\n",
              "    }\n",
              "\n",
              "    .colab-df-convert {\n",
              "      background-color: #E8F0FE;\n",
              "      border: none;\n",
              "      border-radius: 50%;\n",
              "      cursor: pointer;\n",
              "      display: none;\n",
              "      fill: #1967D2;\n",
              "      height: 32px;\n",
              "      padding: 0 0 0 0;\n",
              "      width: 32px;\n",
              "    }\n",
              "\n",
              "    .colab-df-convert:hover {\n",
              "      background-color: #E2EBFA;\n",
              "      box-shadow: 0px 1px 2px rgba(60, 64, 67, 0.3), 0px 1px 3px 1px rgba(60, 64, 67, 0.15);\n",
              "      fill: #174EA6;\n",
              "    }\n",
              "\n",
              "    [theme=dark] .colab-df-convert {\n",
              "      background-color: #3B4455;\n",
              "      fill: #D2E3FC;\n",
              "    }\n",
              "\n",
              "    [theme=dark] .colab-df-convert:hover {\n",
              "      background-color: #434B5C;\n",
              "      box-shadow: 0px 1px 3px 1px rgba(0, 0, 0, 0.15);\n",
              "      filter: drop-shadow(0px 1px 2px rgba(0, 0, 0, 0.3));\n",
              "      fill: #FFFFFF;\n",
              "    }\n",
              "  </style>\n",
              "\n",
              "      <script>\n",
              "        const buttonEl =\n",
              "          document.querySelector('#df-19360cd8-84d5-4218-8318-87062c1c1216 button.colab-df-convert');\n",
              "        buttonEl.style.display =\n",
              "          google.colab.kernel.accessAllowed ? 'block' : 'none';\n",
              "\n",
              "        async function convertToInteractive(key) {\n",
              "          const element = document.querySelector('#df-19360cd8-84d5-4218-8318-87062c1c1216');\n",
              "          const dataTable =\n",
              "            await google.colab.kernel.invokeFunction('convertToInteractive',\n",
              "                                                     [key], {});\n",
              "          if (!dataTable) return;\n",
              "\n",
              "          const docLinkHtml = 'Like what you see? Visit the ' +\n",
              "            '<a target=\"_blank\" href=https://colab.research.google.com/notebooks/data_table.ipynb>data table notebook</a>'\n",
              "            + ' to learn more about interactive tables.';\n",
              "          element.innerHTML = '';\n",
              "          dataTable['output_type'] = 'display_data';\n",
              "          await google.colab.output.renderOutput(dataTable, element);\n",
              "          const docLink = document.createElement('div');\n",
              "          docLink.innerHTML = docLinkHtml;\n",
              "          element.appendChild(docLink);\n",
              "        }\n",
              "      </script>\n",
              "    </div>\n",
              "  </div>\n",
              "  "
            ],
            "text/plain": [
              "              album                            song  ...  year   views\n",
              "0  Music of the Sun                   Pon de Replay  ...  2005  127800\n",
              "1  Music of the Sun                 Here I Go Again  ...  2005    6000\n",
              "2  Music of the Sun    If It’s Lovin’ That You Want  ...  2005   27100\n",
              "3  Music of the Sun  You Don’t Love Me (No, No, No)  ...  2005    7300\n",
              "4  Music of the Sun                 That La, La, La  ...  2005       0\n",
              "\n",
              "[5 rows x 5 columns]"
            ]
          },
          "metadata": {},
          "execution_count": 24
        }
      ]
    },
    {
      "cell_type": "code",
      "source": [
        "album_views=dict()\n",
        "for i in df_2005.index:\n",
        "    val=int(df_2005['views'][i])\n",
        "    if df_2005['album'][i] not in album_views:\n",
        "     album_views[df_2005['album'][i]]=int(df_2005['views'][i])\n",
        "    else:\n",
        "     album_views[df_2005['album'][i]]+=int(df_2005['views'][i])"
      ],
      "metadata": {
        "id": "w_cNnvCCjs_B"
      },
      "execution_count": 25,
      "outputs": []
    },
    {
      "cell_type": "code",
      "source": [
        "album_views = dict( sorted(album_views.items(), key=operator.itemgetter(1),reverse=True))\n",
        "print('Dictionary in descending order by value : ',album_views)    \n",
        "\n",
        "top_5_album_views=dict()\n",
        "j=0\n",
        "for i in album_views:\n",
        "  top_5_album_views[i]=album_views[i]\n",
        "  j+=1\n",
        "  if(j==5):\n",
        "    break\n",
        "\n",
        "names=list(top_5_album_views.keys())\n",
        "values=list(top_5_album_views.values())\n",
        "\n",
        "f = plt.figure()\n",
        "f.set_figwidth(10)\n",
        "f.set_figheight(10)\n",
        "\n",
        "c = ['red', 'yellow', 'black', 'blue', 'orange']\n",
        "  \n",
        "plt.bar(range(len(top_5_album_views)), values, tick_label=names,color=c)\n",
        "plt.show() "
      ],
      "metadata": {
        "colab": {
          "base_uri": "https://localhost:8080/",
          "height": 610
        },
        "id": "rZC9U4jekcjn",
        "outputId": "4826dd59-5931-4e23-f592-4ea131443d3c"
      },
      "execution_count": 26,
      "outputs": [
        {
          "output_type": "stream",
          "name": "stdout",
          "text": [
            "Dictionary in descending order by value :  {'Music of the Sun': 185500}\n"
          ]
        },
        {
          "output_type": "display_data",
          "data": {
            "image/png": "[encoded data removed]",
            "text/plain": [
              "<Figure size 720x720 with 1 Axes>"
            ]
          },
          "metadata": {
            "needs_background": "light"
          }
        }
      ]
    },
    {
      "cell_type": "code",
      "source": [
        "song_wise_views=dict()\n",
        "for i in df_2005.index:\n",
        "    val=int(df_2005['views'][i])\n",
        "    if df['song'][i] not in song_wise_views:\n",
        "     song_wise_views[df['song'][i]]=int(df_2005['views'][i])\n",
        "    else:\n",
        "     song_wise_views[df['song'][i]]+=int(df_2005['views'][i])\n"
      ],
      "metadata": {
        "id": "KFdSgJJTlKv_"
      },
      "execution_count": 27,
      "outputs": []
    },
    {
      "cell_type": "code",
      "source": [
        "song_wise_views = dict( sorted(song_wise_views.items(), key=operator.itemgetter(1),reverse=True))\n",
        "print('Dictionary in descending order by value : ',song_wise_views)    \n",
        "\n",
        "top_5_song_wise_views=dict()\n",
        "j=0\n",
        "for i in song_wise_views:\n",
        "  top_5_song_wise_views[i]=song_wise_views[i]\n",
        "  j+=1\n",
        "  if(j==5):\n",
        "    break\n",
        "\n",
        "names=list(top_5_song_wise_views.keys())\n",
        "values=list(top_5_song_wise_views.values())\n",
        "\n",
        "f = plt.figure()\n",
        "f.set_figwidth(15)\n",
        "f.set_figheight(10)\n",
        "\n",
        "c = ['red', 'yellow', 'black', 'blue', 'orange']\n",
        "  \n",
        "plt.bar(range(len(top_5_song_wise_views)), values, tick_label=names,color=c)\n",
        "plt.show() "
      ],
      "metadata": {
        "colab": {
          "base_uri": "https://localhost:8080/",
          "height": 630
        },
        "id": "LGqhhmQCsQl-",
        "outputId": "e81bd7db-056c-493c-ab67-a51dd3efc110"
      },
      "execution_count": 29,
      "outputs": [
        {
          "output_type": "stream",
          "name": "stdout",
          "text": [
            "Dictionary in descending order by value :  {'Pon de Replay': 127800, 'If It’s Lovin’ That You Want': 27100, 'Pon de Replay (Remix)': 11300, 'You Don’t Love Me (No, No, No)': 7300, 'Here I Go Again': 6000, 'There’s a Thug In My Life': 6000, 'That La, La, La': 0, 'The Last Time': 0, 'Willing to Wait': 0, 'Music of the Sun': 0, 'Let Me': 0, 'Rush': 0, 'Now I Know': 0}\n"
          ]
        },
        {
          "output_type": "display_data",
          "data": {
            "image/png": "[encoded data removed]",
            "text/plain": [
              "<Figure size 1080x720 with 1 Axes>"
            ]
          },
          "metadata": {
            "needs_background": "light"
          }
        }
      ]
    },
    {
      "cell_type": "markdown",
      "source": [
        ""
      ],
      "metadata": {
        "id": "tU1A1GaZsIuL"
      }
    },
    {
      "cell_type": "code",
      "source": [
        "df_2006=df[df['year']==2006]"
      ],
      "metadata": {
        "id": "jTAFNn01s7iR"
      },
      "execution_count": 32,
      "outputs": []
    },
    {
      "cell_type": "code",
      "source": [
        "album_views=dict()\n",
        "for i in df_2006.index:\n",
        "    val=int(df_2006['views'][i])\n",
        "    if df_2006['album'][i] not in album_views:\n",
        "     album_views[df_2006['album'][i]]=int(df_2006['views'][i])\n",
        "    else:\n",
        "     album_views[df_2006['album'][i]]+=int(df_2006['views'][i])"
      ],
      "metadata": {
        "id": "fHHCIlOjkd_5"
      },
      "execution_count": 33,
      "outputs": []
    },
    {
      "cell_type": "code",
      "source": [
        "album_views = dict( sorted(album_views.items(), key=operator.itemgetter(1),reverse=True))\n",
        "print('Dictionary in descending order by value : ',album_views)    \n",
        "\n",
        "top_5_album_views=dict()\n",
        "j=0\n",
        "for i in album_views:\n",
        "  top_5_album_views[i]=album_views[i]\n",
        "  j+=1\n",
        "  if(j==5):\n",
        "    break\n",
        "\n",
        "names=list(top_5_album_views.keys())\n",
        "values=list(top_5_album_views.values())\n",
        "\n",
        "f = plt.figure()\n",
        "f.set_figwidth(10)\n",
        "f.set_figheight(10)\n",
        "\n",
        "c = ['red', 'yellow', 'black', 'blue', 'orange']\n",
        "  \n",
        "plt.bar(range(len(top_5_album_views)), values, tick_label=names,color=c)\n",
        "plt.show() "
      ],
      "metadata": {
        "colab": {
          "base_uri": "https://localhost:8080/",
          "height": 610
        },
        "id": "UN1oGn2Dk3gT",
        "outputId": "4698ad29-0abc-42bd-e490-22bb9e23d991"
      },
      "execution_count": 34,
      "outputs": [
        {
          "output_type": "stream",
          "name": "stdout",
          "text": [
            "Dictionary in descending order by value :  {'A Girl Like Me': 406800}\n"
          ]
        },
        {
          "output_type": "display_data",
          "data": {
            "image/png": "[encoded data removed]",
            "text/plain": [
              "<Figure size 720x720 with 1 Axes>"
            ]
          },
          "metadata": {
            "needs_background": "light"
          }
        }
      ]
    },
    {
      "cell_type": "code",
      "source": [
        "song_wise_views=dict()\n",
        "for i in df_2006.index:\n",
        "    val=int(df_2006['views'][i])\n",
        "    if df_2006['song'][i] not in song_wise_views:\n",
        "     song_wise_views[df_2006['song'][i]]=int(df_2006['views'][i])\n",
        "    else:\n",
        "     song_wise_views[df_2006['song'][i]]+=int(df_2006['views'][i])"
      ],
      "metadata": {
        "id": "Qs-dKgJpkSze"
      },
      "execution_count": 35,
      "outputs": []
    },
    {
      "cell_type": "code",
      "source": [
        "song_wise_views = dict( sorted(song_wise_views.items(), key=operator.itemgetter(1),reverse=True))\n",
        "print('Dictionary in descending order by value : ',song_wise_views)    \n",
        "\n",
        "top_5_song_wise_views=dict()\n",
        "j=0\n",
        "for i in song_wise_views:\n",
        "  top_5_song_wise_views[i]=song_wise_views[i]\n",
        "  j+=1\n",
        "  if(j==5):\n",
        "    break\n",
        "\n",
        "names=list(top_5_song_wise_views.keys())\n",
        "values=list(top_5_song_wise_views.values())\n",
        "\n",
        "f = plt.figure()\n",
        "f.set_figwidth(10)\n",
        "f.set_figheight(10)\n",
        "\n",
        "c = ['red', 'yellow', 'black', 'blue', 'orange']\n",
        "  \n",
        "plt.bar(range(len(top_5_song_wise_views)), values, tick_label=names,color=c)\n",
        "plt.show() "
      ],
      "metadata": {
        "colab": {
          "base_uri": "https://localhost:8080/",
          "height": 630
        },
        "id": "G2hScaHqlHCV",
        "outputId": "c3f2ce10-e19a-479a-850d-480176314795"
      },
      "execution_count": 36,
      "outputs": [
        {
          "output_type": "stream",
          "name": "stdout",
          "text": [
            "Dictionary in descending order by value :  {'Unfaithful': 245800, 'SOS': 69500, 'We Ride': 32800, 'P.S. (I’m Still Not Over You)': 15600, 'Break It Off': 10800, 'A Girl Like Me': 10700, 'Final Goodbye': 5900, 'A Million Miles Away': 5400, 'Crazy Little Thing Called Love': 5200, 'Dem Haters': 5100, 'Kisses Don’t Lie': 0, 'Selfish Girl': 0, 'If It’s Lovin’ That You Want, Pt. 2': 0, 'Who Ya Gonna Run To?': 0, 'Pon de Replay (Full Phatt Remix)': 0, 'Coulda Been the One': 0}\n"
          ]
        },
        {
          "output_type": "display_data",
          "data": {
            "image/png": "[encoded data removed]",
            "text/plain": [
              "<Figure size 720x720 with 1 Axes>"
            ]
          },
          "metadata": {
            "needs_background": "light"
          }
        }
      ]
    },
    {
      "cell_type": "markdown",
      "source": [
        ""
      ],
      "metadata": {
        "id": "a51AFb1esT_2"
      }
    },
    {
      "cell_type": "code",
      "source": [
        "df_2007=df[df['year']==2007]\n",
        "df_2007.head()"
      ],
      "metadata": {
        "colab": {
          "base_uri": "https://localhost:8080/",
          "height": 206
        },
        "id": "Zq6E8S0LtYpY",
        "outputId": "a202a1a9-da5f-4659-ba80-fd29190ef702"
      },
      "execution_count": 39,
      "outputs": [
        {
          "output_type": "execute_result",
          "data": {
            "text/html": [
              "\n",
              "  <div id=\"df-c4f76b7a-ad16-443b-b057-b333d6c9ddb5\">\n",
              "    <div class=\"colab-df-container\">\n",
              "      <div>\n",
              "<style scoped>\n",
              "    .dataframe tbody tr th:only-of-type {\n",
              "        vertical-align: middle;\n",
              "    }\n",
              "\n",
              "    .dataframe tbody tr th {\n",
              "        vertical-align: top;\n",
              "    }\n",
              "\n",
              "    .dataframe thead th {\n",
              "        text-align: right;\n",
              "    }\n",
              "</style>\n",
              "<table border=\"1\" class=\"dataframe\">\n",
              "  <thead>\n",
              "    <tr style=\"text-align: right;\">\n",
              "      <th></th>\n",
              "      <th>album</th>\n",
              "      <th>song</th>\n",
              "      <th>lyrics</th>\n",
              "      <th>year</th>\n",
              "      <th>views</th>\n",
              "    </tr>\n",
              "  </thead>\n",
              "  <tbody>\n",
              "    <tr>\n",
              "      <th>29</th>\n",
              "      <td>Good Girl Gone Bad</td>\n",
              "      <td>Umbrella (Ft. JAY-Z)</td>\n",
              "      <td>[Intro: JAY-Z]\\nUh-huh, uh-huh (Yeah, Rihanna)...</td>\n",
              "      <td>2007</td>\n",
              "      <td>856900</td>\n",
              "    </tr>\n",
              "    <tr>\n",
              "      <th>30</th>\n",
              "      <td>Good Girl Gone Bad</td>\n",
              "      <td>Push Up on Me</td>\n",
              "      <td>[Intro]\\nWe break, break\\nWe break, break\\nWe ...</td>\n",
              "      <td>2007</td>\n",
              "      <td>12000</td>\n",
              "    </tr>\n",
              "    <tr>\n",
              "      <th>31</th>\n",
              "      <td>Good Girl Gone Bad</td>\n",
              "      <td>Don't Stop the Music</td>\n",
              "      <td>[Intro: Rihanna]\\nPlease don't stop the music ...</td>\n",
              "      <td>2007</td>\n",
              "      <td>300200</td>\n",
              "    </tr>\n",
              "    <tr>\n",
              "      <th>32</th>\n",
              "      <td>Good Girl Gone Bad</td>\n",
              "      <td>Breakin' Dishes</td>\n",
              "      <td>[Intro]\\nI don't know who you think I am\\nI do...</td>\n",
              "      <td>2007</td>\n",
              "      <td>21500</td>\n",
              "    </tr>\n",
              "    <tr>\n",
              "      <th>33</th>\n",
              "      <td>Good Girl Gone Bad</td>\n",
              "      <td>Shut Up and Drive</td>\n",
              "      <td>[Verse 1]\\nI've been lookin' for a driver who ...</td>\n",
              "      <td>2007</td>\n",
              "      <td>88200</td>\n",
              "    </tr>\n",
              "  </tbody>\n",
              "</table>\n",
              "</div>\n",
              "      <button class=\"colab-df-convert\" onclick=\"convertToInteractive('df-c4f76b7a-ad16-443b-b057-b333d6c9ddb5')\"\n",
              "              title=\"Convert this dataframe to an interactive table.\"\n",
              "              style=\"display:none;\">\n",
              "        \n",
              "  <svg xmlns=\"http://www.w3.org/2000/svg\" height=\"24px\"viewBox=\"0 0 24 24\"\n",
              "       width=\"24px\">\n",
              "    <path d=\"M0 0h24v24H0V0z\" fill=\"none\"/>\n",
              "    <path d=\"M18.56 5.44l.94 2.06.94-2.06 2.06-.94-2.06-.94-.94-2.06-.94 2.06-2.06.94zm-11 1L8.5 8.5l.94-2.06 2.06-.94-2.06-.94L8.5 2.5l-.94 2.06-2.06.94zm10 10l.94 2.06.94-2.06 2.06-.94-2.06-.94-.94-2.06-.94 2.06-2.06.94z\"/><path d=\"M17.41 7.96l-1.37-1.37c-.4-.4-.92-.59-1.43-.59-.52 0-1.04.2-1.43.59L10.3 9.45l-7.72 7.72c-.78.78-.78 2.05 0 2.83L4 21.41c.39.39.9.59 1.41.59.51 0 1.02-.2 1.41-.59l7.78-7.78 2.81-2.81c.8-.78.8-2.07 0-2.86zM5.41 20L4 18.59l7.72-7.72 1.47 1.35L5.41 20z\"/>\n",
              "  </svg>\n",
              "      </button>\n",
              "      \n",
              "  <style>\n",
              "    .colab-df-container {\n",
              "      display:flex;\n",
              "      flex-wrap:wrap;\n",
              "      gap: 12px;\n",
              "    }\n",
              "\n",
              "    .colab-df-convert {\n",
              "      background-color: #E8F0FE;\n",
              "      border: none;\n",
              "      border-radius: 50%;\n",
              "      cursor: pointer;\n",
              "      display: none;\n",
              "      fill: #1967D2;\n",
              "      height: 32px;\n",
              "      padding: 0 0 0 0;\n",
              "      width: 32px;\n",
              "    }\n",
              "\n",
              "    .colab-df-convert:hover {\n",
              "      background-color: #E2EBFA;\n",
              "      box-shadow: 0px 1px 2px rgba(60, 64, 67, 0.3), 0px 1px 3px 1px rgba(60, 64, 67, 0.15);\n",
              "      fill: #174EA6;\n",
              "    }\n",
              "\n",
              "    [theme=dark] .colab-df-convert {\n",
              "      background-color: #3B4455;\n",
              "      fill: #D2E3FC;\n",
              "    }\n",
              "\n",
              "    [theme=dark] .colab-df-convert:hover {\n",
              "      background-color: #434B5C;\n",
              "      box-shadow: 0px 1px 3px 1px rgba(0, 0, 0, 0.15);\n",
              "      filter: drop-shadow(0px 1px 2px rgba(0, 0, 0, 0.3));\n",
              "      fill: #FFFFFF;\n",
              "    }\n",
              "  </style>\n",
              "\n",
              "      <script>\n",
              "        const buttonEl =\n",
              "          document.querySelector('#df-c4f76b7a-ad16-443b-b057-b333d6c9ddb5 button.colab-df-convert');\n",
              "        buttonEl.style.display =\n",
              "          google.colab.kernel.accessAllowed ? 'block' : 'none';\n",
              "\n",
              "        async function convertToInteractive(key) {\n",
              "          const element = document.querySelector('#df-c4f76b7a-ad16-443b-b057-b333d6c9ddb5');\n",
              "          const dataTable =\n",
              "            await google.colab.kernel.invokeFunction('convertToInteractive',\n",
              "                                                     [key], {});\n",
              "          if (!dataTable) return;\n",
              "\n",
              "          const docLinkHtml = 'Like what you see? Visit the ' +\n",
              "            '<a target=\"_blank\" href=https://colab.research.google.com/notebooks/data_table.ipynb>data table notebook</a>'\n",
              "            + ' to learn more about interactive tables.';\n",
              "          element.innerHTML = '';\n",
              "          dataTable['output_type'] = 'display_data';\n",
              "          await google.colab.output.renderOutput(dataTable, element);\n",
              "          const docLink = document.createElement('div');\n",
              "          docLink.innerHTML = docLinkHtml;\n",
              "          element.appendChild(docLink);\n",
              "        }\n",
              "      </script>\n",
              "    </div>\n",
              "  </div>\n",
              "  "
            ],
            "text/plain": [
              "                 album                   song  ...  year   views\n",
              "29  Good Girl Gone Bad  Umbrella (Ft. JAY-Z)   ...  2007  856900\n",
              "30  Good Girl Gone Bad          Push Up on Me  ...  2007   12000\n",
              "31  Good Girl Gone Bad   Don't Stop the Music  ...  2007  300200\n",
              "32  Good Girl Gone Bad        Breakin' Dishes  ...  2007   21500\n",
              "33  Good Girl Gone Bad      Shut Up and Drive  ...  2007   88200\n",
              "\n",
              "[5 rows x 5 columns]"
            ]
          },
          "metadata": {},
          "execution_count": 39
        }
      ]
    },
    {
      "cell_type": "code",
      "source": [
        "album_views=dict()\n",
        "for i in df_2007.index:\n",
        "    val=int(df_2007['views'][i])\n",
        "    if df_2007['album'][i] not in album_views:\n",
        "     album_views[df_2007['album'][i]]=int(df_2007['views'][i])\n",
        "    else:\n",
        "     album_views[df_2007['album'][i]]+=int(df_2007['views'][i])"
      ],
      "metadata": {
        "id": "nN5A_g2FkflK"
      },
      "execution_count": 40,
      "outputs": []
    },
    {
      "cell_type": "code",
      "source": [
        "album_views = dict( sorted(album_views.items(), key=operator.itemgetter(1),reverse=True))\n",
        "print('Dictionary in descending order by value : ',album_views)    \n",
        "\n",
        "top_5_album_views=dict()\n",
        "j=0\n",
        "for i in album_views:\n",
        "  top_5_album_views[i]=album_views[i]\n",
        "  j+=1\n",
        "  if(j==5):\n",
        "    break\n",
        "\n",
        "names=list(top_5_album_views.keys())\n",
        "values=list(top_5_album_views.values())\n",
        "\n",
        "f = plt.figure()\n",
        "f.set_figwidth(10)\n",
        "f.set_figheight(10)\n",
        "\n",
        "c = ['red', 'yellow', 'black', 'blue', 'orange']\n",
        "  \n",
        "plt.bar(range(len(top_5_album_views)), values, tick_label=names,color=c)\n",
        "plt.show() "
      ],
      "metadata": {
        "colab": {
          "base_uri": "https://localhost:8080/",
          "height": 619
        },
        "id": "dDfP9RQbk5Yl",
        "outputId": "ae5a5d75-de70-46f6-f8e5-82d42df32c23"
      },
      "execution_count": 41,
      "outputs": [
        {
          "output_type": "stream",
          "name": "stdout",
          "text": [
            "Dictionary in descending order by value :  {'Good Girl Gone Bad': 1724000}\n"
          ]
        },
        {
          "output_type": "display_data",
          "data": {
            "image/png": "[encoded data removed]",
            "text/plain": [
              "<Figure size 720x720 with 1 Axes>"
            ]
          },
          "metadata": {
            "needs_background": "light"
          }
        }
      ]
    },
    {
      "cell_type": "code",
      "source": [
        "song_wise_views=dict()\n",
        "for i in df_2007.index:\n",
        "    val=int(df_2007['views'][i])\n",
        "    if df_2007['song'][i] not in song_wise_views:\n",
        "     song_wise_views[df_2007['song'][i]]=int(df_2007['views'][i])\n",
        "    else:\n",
        "     song_wise_views[df_2007['song'][i]]+=int(df_2007['views'][i])"
      ],
      "metadata": {
        "id": "gdK5htH-kWhV"
      },
      "execution_count": 42,
      "outputs": []
    },
    {
      "cell_type": "code",
      "source": [
        "song_wise_views = dict( sorted(song_wise_views.items(), key=operator.itemgetter(1),reverse=True))\n",
        "print('Dictionary in descending order by value : ',song_wise_views)    \n",
        "\n",
        "top_5_song_wise_views=dict()\n",
        "j=0\n",
        "for i in song_wise_views:\n",
        "  top_5_song_wise_views[i]=song_wise_views[i]\n",
        "  j+=1\n",
        "  if(j==5):\n",
        "    break\n",
        "\n",
        "names=list(top_5_song_wise_views.keys())\n",
        "values=list(top_5_song_wise_views.values())\n",
        "\n",
        "f = plt.figure()\n",
        "f.set_figwidth(15)\n",
        "f.set_figheight(10)\n",
        "\n",
        "c = ['red', 'yellow', 'black', 'blue', 'orange']\n",
        "  \n",
        "plt.bar(range(len(top_5_song_wise_views)), values, tick_label=names,color=c)\n",
        "plt.show() "
      ],
      "metadata": {
        "colab": {
          "base_uri": "https://localhost:8080/",
          "height": 630
        },
        "id": "EIm7_f7TsVrs",
        "outputId": "e658168e-f201-4a43-a5db-baa9bee3373a"
      },
      "execution_count": 44,
      "outputs": [
        {
          "output_type": "stream",
          "name": "stdout",
          "text": [
            "Dictionary in descending order by value :  {'Umbrella (Ft.\\xa0JAY-Z)\\xa0': 856900, \"Don't Stop the Music\": 300200, 'Rehab (Ft.\\xa0Justin\\xa0Timberlake)': 219400, 'Shut Up and Drive': 88200, 'Hate That I Love You (Ft.\\xa0Ne-Yo)': 87400, 'Good Girl Gone Bad': 45000, 'Cry': 44200, \"Breakin' Dishes\": 21500, 'Question Existing': 16100, 'Push Up on Me': 12000, 'Sell Me Candy': 12000, 'Lemme Get That': 11400, 'Say It': 9700, 'Haunted': 0}\n"
          ]
        },
        {
          "output_type": "display_data",
          "data": {
            "image/png": "[encoded data removed]",
            "text/plain": [
              "<Figure size 1080x720 with 1 Axes>"
            ]
          },
          "metadata": {
            "needs_background": "light"
          }
        }
      ]
    },
    {
      "cell_type": "markdown",
      "source": [
        "2009"
      ],
      "metadata": {
        "id": "Z-Wz2oZbsW6T"
      }
    },
    {
      "cell_type": "code",
      "source": [
        "df_2009=df[df['year']==2009]\n",
        "df_2009.head()"
      ],
      "metadata": {
        "colab": {
          "base_uri": "https://localhost:8080/",
          "height": 206
        },
        "id": "HxEOC-23uDCL",
        "outputId": "e8f49831-467e-4b00-e913-7ec6f913a5b3"
      },
      "execution_count": 45,
      "outputs": [
        {
          "output_type": "execute_result",
          "data": {
            "text/html": [
              "\n",
              "  <div id=\"df-62fe0c24-0719-4f3e-8abb-9e6a9345a3ee\">\n",
              "    <div class=\"colab-df-container\">\n",
              "      <div>\n",
              "<style scoped>\n",
              "    .dataframe tbody tr th:only-of-type {\n",
              "        vertical-align: middle;\n",
              "    }\n",
              "\n",
              "    .dataframe tbody tr th {\n",
              "        vertical-align: top;\n",
              "    }\n",
              "\n",
              "    .dataframe thead th {\n",
              "        text-align: right;\n",
              "    }\n",
              "</style>\n",
              "<table border=\"1\" class=\"dataframe\">\n",
              "  <thead>\n",
              "    <tr style=\"text-align: right;\">\n",
              "      <th></th>\n",
              "      <th>album</th>\n",
              "      <th>song</th>\n",
              "      <th>lyrics</th>\n",
              "      <th>year</th>\n",
              "      <th>views</th>\n",
              "    </tr>\n",
              "  </thead>\n",
              "  <tbody>\n",
              "    <tr>\n",
              "      <th>43</th>\n",
              "      <td>Rated R</td>\n",
              "      <td>Mad House</td>\n",
              "      <td>[Intro: Announcer]\\nLadies and Gentleman\\nTo t...</td>\n",
              "      <td>2009</td>\n",
              "      <td>9000</td>\n",
              "    </tr>\n",
              "    <tr>\n",
              "      <th>44</th>\n",
              "      <td>Rated R</td>\n",
              "      <td>Wait Your Turn</td>\n",
              "      <td>[Intro]\\nIt's just the way the game is played\\...</td>\n",
              "      <td>2009</td>\n",
              "      <td>28000</td>\n",
              "    </tr>\n",
              "    <tr>\n",
              "      <th>45</th>\n",
              "      <td>Rated R</td>\n",
              "      <td>Hard (Ft. Jeezy)</td>\n",
              "      <td>[Intro: Rihanna &amp; Jeezy]\\nYeah, yeah, yeah (Ye...</td>\n",
              "      <td>2009</td>\n",
              "      <td>98400</td>\n",
              "    </tr>\n",
              "    <tr>\n",
              "      <th>46</th>\n",
              "      <td>Rated R</td>\n",
              "      <td>Stupid In Love</td>\n",
              "      <td>[Intro]\\nStupid in love\\nOh\\nStupid in love\\n\\...</td>\n",
              "      <td>2009</td>\n",
              "      <td>56900</td>\n",
              "    </tr>\n",
              "    <tr>\n",
              "      <th>47</th>\n",
              "      <td>Rated R</td>\n",
              "      <td>ROCKSTAR 101 (Ft. Slash)</td>\n",
              "      <td>[Intro]\\nI told ya, I told ya\\nI told ya baby,...</td>\n",
              "      <td>2009</td>\n",
              "      <td>33300</td>\n",
              "    </tr>\n",
              "  </tbody>\n",
              "</table>\n",
              "</div>\n",
              "      <button class=\"colab-df-convert\" onclick=\"convertToInteractive('df-62fe0c24-0719-4f3e-8abb-9e6a9345a3ee')\"\n",
              "              title=\"Convert this dataframe to an interactive table.\"\n",
              "              style=\"display:none;\">\n",
              "        \n",
              "  <svg xmlns=\"http://www.w3.org/2000/svg\" height=\"24px\"viewBox=\"0 0 24 24\"\n",
              "       width=\"24px\">\n",
              "    <path d=\"M0 0h24v24H0V0z\" fill=\"none\"/>\n",
              "    <path d=\"M18.56 5.44l.94 2.06.94-2.06 2.06-.94-2.06-.94-.94-2.06-.94 2.06-2.06.94zm-11 1L8.5 8.5l.94-2.06 2.06-.94-2.06-.94L8.5 2.5l-.94 2.06-2.06.94zm10 10l.94 2.06.94-2.06 2.06-.94-2.06-.94-.94-2.06-.94 2.06-2.06.94z\"/><path d=\"M17.41 7.96l-1.37-1.37c-.4-.4-.92-.59-1.43-.59-.52 0-1.04.2-1.43.59L10.3 9.45l-7.72 7.72c-.78.78-.78 2.05 0 2.83L4 21.41c.39.39.9.59 1.41.59.51 0 1.02-.2 1.41-.59l7.78-7.78 2.81-2.81c.8-.78.8-2.07 0-2.86zM5.41 20L4 18.59l7.72-7.72 1.47 1.35L5.41 20z\"/>\n",
              "  </svg>\n",
              "      </button>\n",
              "      \n",
              "  <style>\n",
              "    .colab-df-container {\n",
              "      display:flex;\n",
              "      flex-wrap:wrap;\n",
              "      gap: 12px;\n",
              "    }\n",
              "\n",
              "    .colab-df-convert {\n",
              "      background-color: #E8F0FE;\n",
              "      border: none;\n",
              "      border-radius: 50%;\n",
              "      cursor: pointer;\n",
              "      display: none;\n",
              "      fill: #1967D2;\n",
              "      height: 32px;\n",
              "      padding: 0 0 0 0;\n",
              "      width: 32px;\n",
              "    }\n",
              "\n",
              "    .colab-df-convert:hover {\n",
              "      background-color: #E2EBFA;\n",
              "      box-shadow: 0px 1px 2px rgba(60, 64, 67, 0.3), 0px 1px 3px 1px rgba(60, 64, 67, 0.15);\n",
              "      fill: #174EA6;\n",
              "    }\n",
              "\n",
              "    [theme=dark] .colab-df-convert {\n",
              "      background-color: #3B4455;\n",
              "      fill: #D2E3FC;\n",
              "    }\n",
              "\n",
              "    [theme=dark] .colab-df-convert:hover {\n",
              "      background-color: #434B5C;\n",
              "      box-shadow: 0px 1px 3px 1px rgba(0, 0, 0, 0.15);\n",
              "      filter: drop-shadow(0px 1px 2px rgba(0, 0, 0, 0.3));\n",
              "      fill: #FFFFFF;\n",
              "    }\n",
              "  </style>\n",
              "\n",
              "      <script>\n",
              "        const buttonEl =\n",
              "          document.querySelector('#df-62fe0c24-0719-4f3e-8abb-9e6a9345a3ee button.colab-df-convert');\n",
              "        buttonEl.style.display =\n",
              "          google.colab.kernel.accessAllowed ? 'block' : 'none';\n",
              "\n",
              "        async function convertToInteractive(key) {\n",
              "          const element = document.querySelector('#df-62fe0c24-0719-4f3e-8abb-9e6a9345a3ee');\n",
              "          const dataTable =\n",
              "            await google.colab.kernel.invokeFunction('convertToInteractive',\n",
              "                                                     [key], {});\n",
              "          if (!dataTable) return;\n",
              "\n",
              "          const docLinkHtml = 'Like what you see? Visit the ' +\n",
              "            '<a target=\"_blank\" href=https://colab.research.google.com/notebooks/data_table.ipynb>data table notebook</a>'\n",
              "            + ' to learn more about interactive tables.';\n",
              "          element.innerHTML = '';\n",
              "          dataTable['output_type'] = 'display_data';\n",
              "          await google.colab.output.renderOutput(dataTable, element);\n",
              "          const docLink = document.createElement('div');\n",
              "          docLink.innerHTML = docLinkHtml;\n",
              "          element.appendChild(docLink);\n",
              "        }\n",
              "      </script>\n",
              "    </div>\n",
              "  </div>\n",
              "  "
            ],
            "text/plain": [
              "      album                       song  ...  year  views\n",
              "43  Rated R                 Mad House   ...  2009   9000\n",
              "44  Rated R            Wait Your Turn   ...  2009  28000\n",
              "45  Rated R          Hard (Ft. Jeezy)   ...  2009  98400\n",
              "46  Rated R            Stupid In Love   ...  2009  56900\n",
              "47  Rated R  ROCKSTAR 101 (Ft. Slash)   ...  2009  33300\n",
              "\n",
              "[5 rows x 5 columns]"
            ]
          },
          "metadata": {},
          "execution_count": 45
        }
      ]
    },
    {
      "cell_type": "code",
      "source": [
        "album_views=dict()\n",
        "for i in df_2009.index:\n",
        "    val=int(df_2009['views'][i])\n",
        "    if df_2009['album'][i] not in album_views:\n",
        "     album_views[df_2009['album'][i]]=int(df_2009['views'][i])\n",
        "    else:\n",
        "     album_views[df_2009['album'][i]]+=int(df_2009['views'][i])"
      ],
      "metadata": {
        "id": "clgvM6iWkg86"
      },
      "execution_count": 46,
      "outputs": []
    },
    {
      "cell_type": "code",
      "source": [
        "album_views = dict( sorted(album_views.items(), key=operator.itemgetter(1),reverse=True))\n",
        "print('Dictionary in descending order by value : ',album_views)    \n",
        "\n",
        "top_5_album_views=dict()\n",
        "j=0\n",
        "for i in album_views:\n",
        "  top_5_album_views[i]=album_views[i]\n",
        "  j+=1\n",
        "  if(j==5):\n",
        "    break\n",
        "\n",
        "names=list(top_5_album_views.keys())\n",
        "values=list(top_5_album_views.values())\n",
        "\n",
        "f = plt.figure()\n",
        "f.set_figwidth(10)\n",
        "f.set_figheight(10)\n",
        "\n",
        "c = ['red', 'yellow', 'black', 'blue', 'orange']\n",
        "  \n",
        "plt.bar(range(len(top_5_album_views)), values, tick_label=names,color=c)\n",
        "plt.show() "
      ],
      "metadata": {
        "colab": {
          "base_uri": "https://localhost:8080/",
          "height": 610
        },
        "id": "AgYAm6Pok7Bf",
        "outputId": "c5f27025-a55b-48a8-b7b5-9bacb704f049"
      },
      "execution_count": 47,
      "outputs": [
        {
          "output_type": "stream",
          "name": "stdout",
          "text": [
            "Dictionary in descending order by value :  {'Rated R': 895600}\n"
          ]
        },
        {
          "output_type": "display_data",
          "data": {
            "image/png": "[encoded data removed]",
            "text/plain": [
              "<Figure size 720x720 with 1 Axes>"
            ]
          },
          "metadata": {
            "needs_background": "light"
          }
        }
      ]
    },
    {
      "cell_type": "code",
      "source": [
        "song_wise_views=dict()\n",
        "for i in df_2009.index:\n",
        "    val=int(df_2009['views'][i])\n",
        "    if df_2009['song'][i] not in song_wise_views:\n",
        "     song_wise_views[df_2009['song'][i]]=int(df_2009['views'][i])\n",
        "    else:\n",
        "     song_wise_views[df_2009['song'][i]]+=int(df_2009['views'][i])"
      ],
      "metadata": {
        "id": "ZHqun6MakXoB"
      },
      "execution_count": 48,
      "outputs": []
    },
    {
      "cell_type": "code",
      "source": [
        "song_wise_views = dict( sorted(song_wise_views.items(), key=operator.itemgetter(1),reverse=True))\n",
        "print('Dictionary in descending order by value : ',song_wise_views)    \n",
        "\n",
        "top_5_song_wise_views=dict()\n",
        "j=0\n",
        "for i in song_wise_views:\n",
        "  top_5_song_wise_views[i]=song_wise_views[i]\n",
        "  j+=1\n",
        "  if(j==5):\n",
        "    break\n",
        "\n",
        "names=list(top_5_song_wise_views.keys())\n",
        "values=list(top_5_song_wise_views.values())\n",
        "\n",
        "f = plt.figure()\n",
        "f.set_figwidth(10)\n",
        "f.set_figheight(10)\n",
        "\n",
        "c = ['red', 'yellow', 'black', 'blue', 'orange']\n",
        "  \n",
        "plt.bar(range(len(top_5_song_wise_views)), values, tick_label=names,color=c)\n",
        "plt.show() "
      ],
      "metadata": {
        "colab": {
          "base_uri": "https://localhost:8080/",
          "height": 630
        },
        "id": "Rkit1irfsYXi",
        "outputId": "9fe65ede-56e4-4dbc-efac-a5fe23ac014f"
      },
      "execution_count": 49,
      "outputs": [
        {
          "output_type": "stream",
          "name": "stdout",
          "text": [
            "Dictionary in descending order by value :  {'Rude Boy\\xa0': 230000, 'Te Amo\\xa0': 165300, 'Russian Roulette\\xa0': 158000, 'Hard (Ft.\\xa0Jeezy)\\xa0': 98400, 'Stupid In Love\\xa0': 56900, 'ROCKSTAR 101 (Ft.\\xa0Slash)\\xa0': 33300, 'Cold Case Love\\xa0': 32600, 'Wait Your Turn\\xa0': 28000, 'G4L\\xa0': 25800, 'Fire Bomb\\xa0': 25700, 'Photographs (Ft.\\xa0?will.i.am)\\xa0': 20400, 'The Last Song\\xa0': 12200, 'Mad House\\xa0': 9000, 'Russian Roulette (Donni Hotwheel Remix)\\xa0': 0, 'Hole in My Head (Ft.\\xa0Justin\\xa0Timberlake)\\xa0': 0}\n"
          ]
        },
        {
          "output_type": "display_data",
          "data": {
            "image/png": "[encoded data removed]",
            "text/plain": [
              "<Figure size 720x720 with 1 Axes>"
            ]
          },
          "metadata": {
            "needs_background": "light"
          }
        }
      ]
    },
    {
      "cell_type": "markdown",
      "source": [
        "2010"
      ],
      "metadata": {
        "id": "kiqHyohhsZ5X"
      }
    },
    {
      "cell_type": "code",
      "source": [
        "df_2010=df[df['year']==2010]\n",
        "df_2010.head()"
      ],
      "metadata": {
        "colab": {
          "base_uri": "https://localhost:8080/",
          "height": 206
        },
        "id": "P1jTsoLBubza",
        "outputId": "6226c68d-465b-4aee-c31c-d9ff18d67bbb"
      },
      "execution_count": 51,
      "outputs": [
        {
          "output_type": "execute_result",
          "data": {
            "text/html": [
              "\n",
              "  <div id=\"df-861cecac-6b3b-4a75-be25-976226a2d70a\">\n",
              "    <div class=\"colab-df-container\">\n",
              "      <div>\n",
              "<style scoped>\n",
              "    .dataframe tbody tr th:only-of-type {\n",
              "        vertical-align: middle;\n",
              "    }\n",
              "\n",
              "    .dataframe tbody tr th {\n",
              "        vertical-align: top;\n",
              "    }\n",
              "\n",
              "    .dataframe thead th {\n",
              "        text-align: right;\n",
              "    }\n",
              "</style>\n",
              "<table border=\"1\" class=\"dataframe\">\n",
              "  <thead>\n",
              "    <tr style=\"text-align: right;\">\n",
              "      <th></th>\n",
              "      <th>album</th>\n",
              "      <th>song</th>\n",
              "      <th>lyrics</th>\n",
              "      <th>year</th>\n",
              "      <th>views</th>\n",
              "    </tr>\n",
              "  </thead>\n",
              "  <tbody>\n",
              "    <tr>\n",
              "      <th>58</th>\n",
              "      <td>Loud</td>\n",
              "      <td>S&amp;M</td>\n",
              "      <td>[Intro: Ester Dean]\\nNa-na-na, come on\\nNa-na-...</td>\n",
              "      <td>2010</td>\n",
              "      <td>409100</td>\n",
              "    </tr>\n",
              "    <tr>\n",
              "      <th>59</th>\n",
              "      <td>Loud</td>\n",
              "      <td>What's My Name? (Ft. Drake)</td>\n",
              "      <td>[Refrain: Rihanna &amp; Drake]\\nOh na-na, what's m...</td>\n",
              "      <td>2010</td>\n",
              "      <td>737100</td>\n",
              "    </tr>\n",
              "    <tr>\n",
              "      <th>60</th>\n",
              "      <td>Loud</td>\n",
              "      <td>Cheers (Drink to That)</td>\n",
              "      <td>[Intro: Robert Campbell]\\n(One, two) We takin'...</td>\n",
              "      <td>2010</td>\n",
              "      <td>101700</td>\n",
              "    </tr>\n",
              "    <tr>\n",
              "      <th>61</th>\n",
              "      <td>Loud</td>\n",
              "      <td>Fading</td>\n",
              "      <td>[Verse 1]\\nYou say you love me\\nBut they feel ...</td>\n",
              "      <td>2010</td>\n",
              "      <td>25600</td>\n",
              "    </tr>\n",
              "    <tr>\n",
              "      <th>62</th>\n",
              "      <td>Loud</td>\n",
              "      <td>Only Girl (In the World)</td>\n",
              "      <td>[Intro]\\nLa-la-la-la\\nLa-la-la-la\\nLa-la-la-la...</td>\n",
              "      <td>2010</td>\n",
              "      <td>294900</td>\n",
              "    </tr>\n",
              "  </tbody>\n",
              "</table>\n",
              "</div>\n",
              "      <button class=\"colab-df-convert\" onclick=\"convertToInteractive('df-861cecac-6b3b-4a75-be25-976226a2d70a')\"\n",
              "              title=\"Convert this dataframe to an interactive table.\"\n",
              "              style=\"display:none;\">\n",
              "        \n",
              "  <svg xmlns=\"http://www.w3.org/2000/svg\" height=\"24px\"viewBox=\"0 0 24 24\"\n",
              "       width=\"24px\">\n",
              "    <path d=\"M0 0h24v24H0V0z\" fill=\"none\"/>\n",
              "    <path d=\"M18.56 5.44l.94 2.06.94-2.06 2.06-.94-2.06-.94-.94-2.06-.94 2.06-2.06.94zm-11 1L8.5 8.5l.94-2.06 2.06-.94-2.06-.94L8.5 2.5l-.94 2.06-2.06.94zm10 10l.94 2.06.94-2.06 2.06-.94-2.06-.94-.94-2.06-.94 2.06-2.06.94z\"/><path d=\"M17.41 7.96l-1.37-1.37c-.4-.4-.92-.59-1.43-.59-.52 0-1.04.2-1.43.59L10.3 9.45l-7.72 7.72c-.78.78-.78 2.05 0 2.83L4 21.41c.39.39.9.59 1.41.59.51 0 1.02-.2 1.41-.59l7.78-7.78 2.81-2.81c.8-.78.8-2.07 0-2.86zM5.41 20L4 18.59l7.72-7.72 1.47 1.35L5.41 20z\"/>\n",
              "  </svg>\n",
              "      </button>\n",
              "      \n",
              "  <style>\n",
              "    .colab-df-container {\n",
              "      display:flex;\n",
              "      flex-wrap:wrap;\n",
              "      gap: 12px;\n",
              "    }\n",
              "\n",
              "    .colab-df-convert {\n",
              "      background-color: #E8F0FE;\n",
              "      border: none;\n",
              "      border-radius: 50%;\n",
              "      cursor: pointer;\n",
              "      display: none;\n",
              "      fill: #1967D2;\n",
              "      height: 32px;\n",
              "      padding: 0 0 0 0;\n",
              "      width: 32px;\n",
              "    }\n",
              "\n",
              "    .colab-df-convert:hover {\n",
              "      background-color: #E2EBFA;\n",
              "      box-shadow: 0px 1px 2px rgba(60, 64, 67, 0.3), 0px 1px 3px 1px rgba(60, 64, 67, 0.15);\n",
              "      fill: #174EA6;\n",
              "    }\n",
              "\n",
              "    [theme=dark] .colab-df-convert {\n",
              "      background-color: #3B4455;\n",
              "      fill: #D2E3FC;\n",
              "    }\n",
              "\n",
              "    [theme=dark] .colab-df-convert:hover {\n",
              "      background-color: #434B5C;\n",
              "      box-shadow: 0px 1px 3px 1px rgba(0, 0, 0, 0.15);\n",
              "      filter: drop-shadow(0px 1px 2px rgba(0, 0, 0, 0.3));\n",
              "      fill: #FFFFFF;\n",
              "    }\n",
              "  </style>\n",
              "\n",
              "      <script>\n",
              "        const buttonEl =\n",
              "          document.querySelector('#df-861cecac-6b3b-4a75-be25-976226a2d70a button.colab-df-convert');\n",
              "        buttonEl.style.display =\n",
              "          google.colab.kernel.accessAllowed ? 'block' : 'none';\n",
              "\n",
              "        async function convertToInteractive(key) {\n",
              "          const element = document.querySelector('#df-861cecac-6b3b-4a75-be25-976226a2d70a');\n",
              "          const dataTable =\n",
              "            await google.colab.kernel.invokeFunction('convertToInteractive',\n",
              "                                                     [key], {});\n",
              "          if (!dataTable) return;\n",
              "\n",
              "          const docLinkHtml = 'Like what you see? Visit the ' +\n",
              "            '<a target=\"_blank\" href=https://colab.research.google.com/notebooks/data_table.ipynb>data table notebook</a>'\n",
              "            + ' to learn more about interactive tables.';\n",
              "          element.innerHTML = '';\n",
              "          dataTable['output_type'] = 'display_data';\n",
              "          await google.colab.output.renderOutput(dataTable, element);\n",
              "          const docLink = document.createElement('div');\n",
              "          docLink.innerHTML = docLinkHtml;\n",
              "          element.appendChild(docLink);\n",
              "        }\n",
              "      </script>\n",
              "    </div>\n",
              "  </div>\n",
              "  "
            ],
            "text/plain": [
              "   album                         song  ...  year   views\n",
              "58  Loud                          S&M  ...  2010  409100\n",
              "59  Loud  What's My Name? (Ft. Drake)  ...  2010  737100\n",
              "60  Loud       Cheers (Drink to That)  ...  2010  101700\n",
              "61  Loud                       Fading  ...  2010   25600\n",
              "62  Loud     Only Girl (In the World)  ...  2010  294900\n",
              "\n",
              "[5 rows x 5 columns]"
            ]
          },
          "metadata": {},
          "execution_count": 51
        }
      ]
    },
    {
      "cell_type": "code",
      "source": [
        "album_views=dict()\n",
        "for i in df_2010.index:\n",
        "    val=int(df_2010['views'][i])\n",
        "    if df_2010['album'][i] not in album_views:\n",
        "     album_views[df_2010['album'][i]]=int(df_2010['views'][i])\n",
        "    else:\n",
        "     album_views[df_2010['album'][i]]+=int(df_2010['views'][i])"
      ],
      "metadata": {
        "id": "_dieswiZkhrN"
      },
      "execution_count": 52,
      "outputs": []
    },
    {
      "cell_type": "code",
      "source": [
        "album_views = dict( sorted(album_views.items(), key=operator.itemgetter(1),reverse=True))\n",
        "print('Dictionary in descending order by value : ',album_views)    \n",
        "\n",
        "top_5_album_views=dict()\n",
        "j=0\n",
        "for i in album_views:\n",
        "  top_5_album_views[i]=album_views[i]\n",
        "  j+=1\n",
        "  if(j==5):\n",
        "    break\n",
        "\n",
        "names=list(top_5_album_views.keys())\n",
        "values=list(top_5_album_views.values())\n",
        "\n",
        "f = plt.figure()\n",
        "f.set_figwidth(10)\n",
        "f.set_figheight(10)\n",
        "\n",
        "c = ['red', 'yellow', 'black', 'blue', 'orange']\n",
        "  \n",
        "plt.bar(range(len(top_5_album_views)), values, tick_label=names,color=c)\n",
        "plt.show() "
      ],
      "metadata": {
        "colab": {
          "base_uri": "https://localhost:8080/",
          "height": 619
        },
        "id": "fAr3Pjqlk8hG",
        "outputId": "4b52e565-ca3e-488d-c22e-4176c384ece9"
      },
      "execution_count": 53,
      "outputs": [
        {
          "output_type": "stream",
          "name": "stdout",
          "text": [
            "Dictionary in descending order by value :  {'Loud': 3112300}\n"
          ]
        },
        {
          "output_type": "display_data",
          "data": {
            "image/png": "[encoded data removed]",
            "text/plain": [
              "<Figure size 720x720 with 1 Axes>"
            ]
          },
          "metadata": {
            "needs_background": "light"
          }
        }
      ]
    },
    {
      "cell_type": "code",
      "source": [
        "song_wise_views=dict()\n",
        "for i in df_2010.index:\n",
        "    val=int(df_2010['views'][i])\n",
        "    if df_2010['song'][i] not in song_wise_views:\n",
        "     song_wise_views[df_2010['song'][i]]=int(df_2010['views'][i])\n",
        "    else:\n",
        "     song_wise_views[df_2010['song'][i]]+=int(df_2010['views'][i])"
      ],
      "metadata": {
        "id": "0O30Qw5MkYSc"
      },
      "execution_count": 54,
      "outputs": []
    },
    {
      "cell_type": "code",
      "source": [
        "song_wise_views = dict( sorted(song_wise_views.items(), key=operator.itemgetter(1),reverse=True))\n",
        "print('Dictionary in descending order by value : ',song_wise_views)    \n",
        "\n",
        "top_5_song_wise_views=dict()\n",
        "j=0\n",
        "for i in song_wise_views:\n",
        "  top_5_song_wise_views[i]=song_wise_views[i]\n",
        "  j+=1\n",
        "  if(j==5):\n",
        "    break\n",
        "\n",
        "names=list(top_5_song_wise_views.keys())\n",
        "values=list(top_5_song_wise_views.values())\n",
        "\n",
        "f = plt.figure()\n",
        "f.set_figwidth(10)\n",
        "f.set_figheight(15)\n",
        "\n",
        "c = ['red', 'yellow', 'black', 'blue', 'orange']\n",
        "  \n",
        "plt.bar(range(len(top_5_song_wise_views)), values, tick_label=names,color=c)\n",
        "plt.show() "
      ],
      "metadata": {
        "colab": {
          "base_uri": "https://localhost:8080/",
          "height": 900
        },
        "id": "KioxH_mnsbvC",
        "outputId": "4398fbb4-c973-4f47-8cf5-6db026cc8d2b"
      },
      "execution_count": 56,
      "outputs": [
        {
          "output_type": "stream",
          "name": "stdout",
          "text": [
            "Dictionary in descending order by value :  {\"What's My Name? (Ft.\\xa0Drake)\": 737100, 'Love the Way You Lie, Pt. II (Ft.\\xa0Eminem)': 612600, 'Man Down': 526500, 'S&M': 409100, 'Only Girl (In the World)': 294900, 'Skin': 153800, 'California King Bed': 138700, 'Cheers (Drink to That)': 101700, 'Raining Men (Ft.\\xa0Nicki\\xa0Minaj)': 54500, 'Complicated': 40600, 'Fading': 25600, 'Love the Way You Lie (Piano Version)': 17200}\n"
          ]
        },
        {
          "output_type": "display_data",
          "data": {
            "image/png": "[encoded data removed]",
            "text/plain": [
              "<Figure size 720x1080 with 1 Axes>"
            ]
          },
          "metadata": {
            "needs_background": "light"
          }
        }
      ]
    },
    {
      "cell_type": "markdown",
      "source": [
        "2011"
      ],
      "metadata": {
        "id": "8D2tWxUHsdFe"
      }
    },
    {
      "cell_type": "code",
      "source": [
        "df_2011=df[df['year']==2011]\n",
        "df_2011.head()"
      ],
      "metadata": {
        "colab": {
          "base_uri": "https://localhost:8080/",
          "height": 206
        },
        "id": "tzaCOVfHuzr_",
        "outputId": "1c4eb8d1-87fa-4413-a145-d8e82ba92b22"
      },
      "execution_count": 57,
      "outputs": [
        {
          "output_type": "execute_result",
          "data": {
            "text/html": [
              "\n",
              "  <div id=\"df-60339d55-b079-4e50-9348-2983b2372d34\">\n",
              "    <div class=\"colab-df-container\">\n",
              "      <div>\n",
              "<style scoped>\n",
              "    .dataframe tbody tr th:only-of-type {\n",
              "        vertical-align: middle;\n",
              "    }\n",
              "\n",
              "    .dataframe tbody tr th {\n",
              "        vertical-align: top;\n",
              "    }\n",
              "\n",
              "    .dataframe thead th {\n",
              "        text-align: right;\n",
              "    }\n",
              "</style>\n",
              "<table border=\"1\" class=\"dataframe\">\n",
              "  <thead>\n",
              "    <tr style=\"text-align: right;\">\n",
              "      <th></th>\n",
              "      <th>album</th>\n",
              "      <th>song</th>\n",
              "      <th>lyrics</th>\n",
              "      <th>year</th>\n",
              "      <th>views</th>\n",
              "    </tr>\n",
              "  </thead>\n",
              "  <tbody>\n",
              "    <tr>\n",
              "      <th>70</th>\n",
              "      <td>Talk That Talk</td>\n",
              "      <td>You Da One</td>\n",
              "      <td>[Intro]\\nYou da one that I dream about all day...</td>\n",
              "      <td>2011</td>\n",
              "      <td>122000</td>\n",
              "    </tr>\n",
              "    <tr>\n",
              "      <th>71</th>\n",
              "      <td>Talk That Talk</td>\n",
              "      <td>Where Have You Been</td>\n",
              "      <td>[Verse 1]\\nI've been everywhere, man, looking ...</td>\n",
              "      <td>2011</td>\n",
              "      <td>91900</td>\n",
              "    </tr>\n",
              "    <tr>\n",
              "      <th>72</th>\n",
              "      <td>Talk That Talk</td>\n",
              "      <td>We Found Love (Ft. Calvin Harris)</td>\n",
              "      <td>[Video Intro: Agyness Deyn]\\nIt's like you're ...</td>\n",
              "      <td>2011</td>\n",
              "      <td>286000</td>\n",
              "    </tr>\n",
              "    <tr>\n",
              "      <th>73</th>\n",
              "      <td>Talk That Talk</td>\n",
              "      <td>Talk That Talk (Ft. JAY-Z)</td>\n",
              "      <td>[Intro: Rihanna]\\nTalk that talk to me, yeah\\n...</td>\n",
              "      <td>2011</td>\n",
              "      <td>153200</td>\n",
              "    </tr>\n",
              "    <tr>\n",
              "      <th>74</th>\n",
              "      <td>Talk That Talk</td>\n",
              "      <td>Cockiness (Love It)</td>\n",
              "      <td>[Chorus]\\nSuck my cockiness, lick my persuasio...</td>\n",
              "      <td>2011</td>\n",
              "      <td>127400</td>\n",
              "    </tr>\n",
              "  </tbody>\n",
              "</table>\n",
              "</div>\n",
              "      <button class=\"colab-df-convert\" onclick=\"convertToInteractive('df-60339d55-b079-4e50-9348-2983b2372d34')\"\n",
              "              title=\"Convert this dataframe to an interactive table.\"\n",
              "              style=\"display:none;\">\n",
              "        \n",
              "  <svg xmlns=\"http://www.w3.org/2000/svg\" height=\"24px\"viewBox=\"0 0 24 24\"\n",
              "       width=\"24px\">\n",
              "    <path d=\"M0 0h24v24H0V0z\" fill=\"none\"/>\n",
              "    <path d=\"M18.56 5.44l.94 2.06.94-2.06 2.06-.94-2.06-.94-.94-2.06-.94 2.06-2.06.94zm-11 1L8.5 8.5l.94-2.06 2.06-.94-2.06-.94L8.5 2.5l-.94 2.06-2.06.94zm10 10l.94 2.06.94-2.06 2.06-.94-2.06-.94-.94-2.06-.94 2.06-2.06.94z\"/><path d=\"M17.41 7.96l-1.37-1.37c-.4-.4-.92-.59-1.43-.59-.52 0-1.04.2-1.43.59L10.3 9.45l-7.72 7.72c-.78.78-.78 2.05 0 2.83L4 21.41c.39.39.9.59 1.41.59.51 0 1.02-.2 1.41-.59l7.78-7.78 2.81-2.81c.8-.78.8-2.07 0-2.86zM5.41 20L4 18.59l7.72-7.72 1.47 1.35L5.41 20z\"/>\n",
              "  </svg>\n",
              "      </button>\n",
              "      \n",
              "  <style>\n",
              "    .colab-df-container {\n",
              "      display:flex;\n",
              "      flex-wrap:wrap;\n",
              "      gap: 12px;\n",
              "    }\n",
              "\n",
              "    .colab-df-convert {\n",
              "      background-color: #E8F0FE;\n",
              "      border: none;\n",
              "      border-radius: 50%;\n",
              "      cursor: pointer;\n",
              "      display: none;\n",
              "      fill: #1967D2;\n",
              "      height: 32px;\n",
              "      padding: 0 0 0 0;\n",
              "      width: 32px;\n",
              "    }\n",
              "\n",
              "    .colab-df-convert:hover {\n",
              "      background-color: #E2EBFA;\n",
              "      box-shadow: 0px 1px 2px rgba(60, 64, 67, 0.3), 0px 1px 3px 1px rgba(60, 64, 67, 0.15);\n",
              "      fill: #174EA6;\n",
              "    }\n",
              "\n",
              "    [theme=dark] .colab-df-convert {\n",
              "      background-color: #3B4455;\n",
              "      fill: #D2E3FC;\n",
              "    }\n",
              "\n",
              "    [theme=dark] .colab-df-convert:hover {\n",
              "      background-color: #434B5C;\n",
              "      box-shadow: 0px 1px 3px 1px rgba(0, 0, 0, 0.15);\n",
              "      filter: drop-shadow(0px 1px 2px rgba(0, 0, 0, 0.3));\n",
              "      fill: #FFFFFF;\n",
              "    }\n",
              "  </style>\n",
              "\n",
              "      <script>\n",
              "        const buttonEl =\n",
              "          document.querySelector('#df-60339d55-b079-4e50-9348-2983b2372d34 button.colab-df-convert');\n",
              "        buttonEl.style.display =\n",
              "          google.colab.kernel.accessAllowed ? 'block' : 'none';\n",
              "\n",
              "        async function convertToInteractive(key) {\n",
              "          const element = document.querySelector('#df-60339d55-b079-4e50-9348-2983b2372d34');\n",
              "          const dataTable =\n",
              "            await google.colab.kernel.invokeFunction('convertToInteractive',\n",
              "                                                     [key], {});\n",
              "          if (!dataTable) return;\n",
              "\n",
              "          const docLinkHtml = 'Like what you see? Visit the ' +\n",
              "            '<a target=\"_blank\" href=https://colab.research.google.com/notebooks/data_table.ipynb>data table notebook</a>'\n",
              "            + ' to learn more about interactive tables.';\n",
              "          element.innerHTML = '';\n",
              "          dataTable['output_type'] = 'display_data';\n",
              "          await google.colab.output.renderOutput(dataTable, element);\n",
              "          const docLink = document.createElement('div');\n",
              "          docLink.innerHTML = docLinkHtml;\n",
              "          element.appendChild(docLink);\n",
              "        }\n",
              "      </script>\n",
              "    </div>\n",
              "  </div>\n",
              "  "
            ],
            "text/plain": [
              "             album                               song  ...  year   views\n",
              "70  Talk That Talk                         You Da One  ...  2011  122000\n",
              "71  Talk That Talk                Where Have You Been  ...  2011   91900\n",
              "72  Talk That Talk  We Found Love (Ft. Calvin Harris)  ...  2011  286000\n",
              "73  Talk That Talk         Talk That Talk (Ft. JAY-Z)  ...  2011  153200\n",
              "74  Talk That Talk                Cockiness (Love It)  ...  2011  127400\n",
              "\n",
              "[5 rows x 5 columns]"
            ]
          },
          "metadata": {},
          "execution_count": 57
        }
      ]
    },
    {
      "cell_type": "code",
      "source": [
        "album_views=dict()\n",
        "for i in df_2011.index:\n",
        "    val=int(df_2011['views'][i])\n",
        "    if df_2011['album'][i] not in album_views:\n",
        "     album_views[df_2011['album'][i]]=int(df_2011['views'][i])\n",
        "    else:\n",
        "     album_views[df_2011['album'][i]]+=int(df_2011['views'][i])"
      ],
      "metadata": {
        "id": "e4HZ3g0iki_y"
      },
      "execution_count": 58,
      "outputs": []
    },
    {
      "cell_type": "code",
      "source": [
        "album_views = dict( sorted(album_views.items(), key=operator.itemgetter(1),reverse=True))\n",
        "print('Dictionary in descending order by value : ',album_views)    \n",
        "\n",
        "top_5_album_views=dict()\n",
        "j=0\n",
        "for i in album_views:\n",
        "  top_5_album_views[i]=album_views[i]\n",
        "  j+=1\n",
        "  if(j==5):\n",
        "    break\n",
        "\n",
        "names=list(top_5_album_views.keys())\n",
        "values=list(top_5_album_views.values())\n",
        "\n",
        "f = plt.figure()\n",
        "f.set_figwidth(15)\n",
        "f.set_figheight(10)\n",
        "\n",
        "c = ['red', 'yellow', 'black', 'blue', 'orange']\n",
        "  \n",
        "plt.bar(range(len(top_5_album_views)), values, tick_label=names,color=c)\n",
        "plt.show() "
      ],
      "metadata": {
        "colab": {
          "base_uri": "https://localhost:8080/",
          "height": 619
        },
        "id": "yBnbegxGk-yd",
        "outputId": "e7975815-680e-418d-d25a-7f72ae436770"
      },
      "execution_count": 59,
      "outputs": [
        {
          "output_type": "stream",
          "name": "stdout",
          "text": [
            "Dictionary in descending order by value :  {'Talk That Talk': 1105500}\n"
          ]
        },
        {
          "output_type": "display_data",
          "data": {
            "image/png": "[encoded data removed]",
            "text/plain": [
              "<Figure size 1080x720 with 1 Axes>"
            ]
          },
          "metadata": {
            "needs_background": "light"
          }
        }
      ]
    },
    {
      "cell_type": "code",
      "source": [
        "song_wise_views=dict()\n",
        "for i in df_2011.index:\n",
        "    val=int(df_2011['views'][i])\n",
        "    if df['song'][i] not in song_wise_views:\n",
        "     song_wise_views[df_2011['song'][i]]=int(df_2011['views'][i])\n",
        "    else:\n",
        "     song_wise_views[df_2011['song'][i]]+=int(df_2011['views'][i])"
      ],
      "metadata": {
        "id": "YciFZy5-kZsg"
      },
      "execution_count": 60,
      "outputs": []
    },
    {
      "cell_type": "code",
      "source": [
        "song_wise_views = dict( sorted(song_wise_views.items(), key=operator.itemgetter(1),reverse=True))\n",
        "print('Dictionary in descending order by value : ',song_wise_views)    \n",
        "\n",
        "top_5_song_wise_views=dict()\n",
        "j=0\n",
        "for i in song_wise_views:\n",
        "  top_5_song_wise_views[i]=song_wise_views[i]\n",
        "  j+=1\n",
        "  if(j==5):\n",
        "    break\n",
        "\n",
        "names=list(top_5_song_wise_views.keys())\n",
        "values=list(top_5_song_wise_views.values())\n",
        "\n",
        "f = plt.figure()\n",
        "f.set_figwidth(10)\n",
        "f.set_figheight(15)\n",
        "\n",
        "c = ['red', 'yellow', 'black', 'blue', 'orange']\n",
        "  \n",
        "plt.bar(range(len(top_5_song_wise_views)), values, tick_label=names,color=c)\n",
        "plt.show() "
      ],
      "metadata": {
        "colab": {
          "base_uri": "https://localhost:8080/",
          "height": 903
        },
        "id": "XLlHunJPsejR",
        "outputId": "f7536f63-177a-42e3-9759-71d30910f53d"
      },
      "execution_count": 62,
      "outputs": [
        {
          "output_type": "stream",
          "name": "stdout",
          "text": [
            "Dictionary in descending order by value :  {'We Found Love (Ft.\\xa0Calvin\\xa0Harris)': 286000, 'Talk That Talk (Ft.\\xa0JAY-Z)': 153200, 'Birthday Cake': 145700, 'Cockiness (Love It)': 127400, 'You Da One': 122000, 'Where Have You Been': 91900, \"Watch n' Learn\": 74200, 'Drunk on Love': 37400, 'Farewell': 26900, 'We All Want Love': 22000, 'Roc Me Out': 18800, 'We Found Love (Calvin Harris Extended Mix) (Ft.\\xa0Calvin\\xa0Harris)': 0}\n"
          ]
        },
        {
          "output_type": "display_data",
          "data": {
            "image/png": "[encoded data removed]",
            "text/plain": [
              "<Figure size 720x1080 with 1 Axes>"
            ]
          },
          "metadata": {
            "needs_background": "light"
          }
        }
      ]
    },
    {
      "cell_type": "markdown",
      "source": [
        "2012"
      ],
      "metadata": {
        "id": "4QNHo76Xsg5z"
      }
    },
    {
      "cell_type": "code",
      "source": [
        "df_2012=df[df['year']==2012]\n",
        "df_2012.head()"
      ],
      "metadata": {
        "colab": {
          "base_uri": "https://localhost:8080/",
          "height": 206
        },
        "id": "EgCqDtOgvS0W",
        "outputId": "e87aced8-00cf-4d2f-f85e-8ba5de531783"
      },
      "execution_count": 63,
      "outputs": [
        {
          "output_type": "execute_result",
          "data": {
            "text/html": [
              "\n",
              "  <div id=\"df-8b205953-0172-4a31-b84d-fd2f070f47c1\">\n",
              "    <div class=\"colab-df-container\">\n",
              "      <div>\n",
              "<style scoped>\n",
              "    .dataframe tbody tr th:only-of-type {\n",
              "        vertical-align: middle;\n",
              "    }\n",
              "\n",
              "    .dataframe tbody tr th {\n",
              "        vertical-align: top;\n",
              "    }\n",
              "\n",
              "    .dataframe thead th {\n",
              "        text-align: right;\n",
              "    }\n",
              "</style>\n",
              "<table border=\"1\" class=\"dataframe\">\n",
              "  <thead>\n",
              "    <tr style=\"text-align: right;\">\n",
              "      <th></th>\n",
              "      <th>album</th>\n",
              "      <th>song</th>\n",
              "      <th>lyrics</th>\n",
              "      <th>year</th>\n",
              "      <th>views</th>\n",
              "    </tr>\n",
              "  </thead>\n",
              "  <tbody>\n",
              "    <tr>\n",
              "      <th>82</th>\n",
              "      <td>Unapologetic</td>\n",
              "      <td>Phresh Out the Runway</td>\n",
              "      <td>[Intro: Rihanna]\\nI see you walk\\nI hear you, ...</td>\n",
              "      <td>2012</td>\n",
              "      <td>95800</td>\n",
              "    </tr>\n",
              "    <tr>\n",
              "      <th>83</th>\n",
              "      <td>Unapologetic</td>\n",
              "      <td>Diamonds</td>\n",
              "      <td>[Intro]\\nShine bright like a diamond\\nShine br...</td>\n",
              "      <td>2012</td>\n",
              "      <td>971800</td>\n",
              "    </tr>\n",
              "    <tr>\n",
              "      <th>84</th>\n",
              "      <td>Unapologetic</td>\n",
              "      <td>Numb (Ft. Eminem)</td>\n",
              "      <td>[Verse 1: Rihanna]\\nEcstasy in the air\\nI don'...</td>\n",
              "      <td>2012</td>\n",
              "      <td>198500</td>\n",
              "    </tr>\n",
              "    <tr>\n",
              "      <th>85</th>\n",
              "      <td>Unapologetic</td>\n",
              "      <td>Pour It Up</td>\n",
              "      <td>[Chorus]\\nThrow it up, throw it up\\nWatch it a...</td>\n",
              "      <td>2012</td>\n",
              "      <td>431800</td>\n",
              "    </tr>\n",
              "    <tr>\n",
              "      <th>86</th>\n",
              "      <td>Unapologetic</td>\n",
              "      <td>Loveeeeeee Song (Ft. Future)</td>\n",
              "      <td>[Intro: Future]\\nAin't nothin' wrong with it.....</td>\n",
              "      <td>2012</td>\n",
              "      <td>691500</td>\n",
              "    </tr>\n",
              "  </tbody>\n",
              "</table>\n",
              "</div>\n",
              "      <button class=\"colab-df-convert\" onclick=\"convertToInteractive('df-8b205953-0172-4a31-b84d-fd2f070f47c1')\"\n",
              "              title=\"Convert this dataframe to an interactive table.\"\n",
              "              style=\"display:none;\">\n",
              "        \n",
              "  <svg xmlns=\"http://www.w3.org/2000/svg\" height=\"24px\"viewBox=\"0 0 24 24\"\n",
              "       width=\"24px\">\n",
              "    <path d=\"M0 0h24v24H0V0z\" fill=\"none\"/>\n",
              "    <path d=\"M18.56 5.44l.94 2.06.94-2.06 2.06-.94-2.06-.94-.94-2.06-.94 2.06-2.06.94zm-11 1L8.5 8.5l.94-2.06 2.06-.94-2.06-.94L8.5 2.5l-.94 2.06-2.06.94zm10 10l.94 2.06.94-2.06 2.06-.94-2.06-.94-.94-2.06-.94 2.06-2.06.94z\"/><path d=\"M17.41 7.96l-1.37-1.37c-.4-.4-.92-.59-1.43-.59-.52 0-1.04.2-1.43.59L10.3 9.45l-7.72 7.72c-.78.78-.78 2.05 0 2.83L4 21.41c.39.39.9.59 1.41.59.51 0 1.02-.2 1.41-.59l7.78-7.78 2.81-2.81c.8-.78.8-2.07 0-2.86zM5.41 20L4 18.59l7.72-7.72 1.47 1.35L5.41 20z\"/>\n",
              "  </svg>\n",
              "      </button>\n",
              "      \n",
              "  <style>\n",
              "    .colab-df-container {\n",
              "      display:flex;\n",
              "      flex-wrap:wrap;\n",
              "      gap: 12px;\n",
              "    }\n",
              "\n",
              "    .colab-df-convert {\n",
              "      background-color: #E8F0FE;\n",
              "      border: none;\n",
              "      border-radius: 50%;\n",
              "      cursor: pointer;\n",
              "      display: none;\n",
              "      fill: #1967D2;\n",
              "      height: 32px;\n",
              "      padding: 0 0 0 0;\n",
              "      width: 32px;\n",
              "    }\n",
              "\n",
              "    .colab-df-convert:hover {\n",
              "      background-color: #E2EBFA;\n",
              "      box-shadow: 0px 1px 2px rgba(60, 64, 67, 0.3), 0px 1px 3px 1px rgba(60, 64, 67, 0.15);\n",
              "      fill: #174EA6;\n",
              "    }\n",
              "\n",
              "    [theme=dark] .colab-df-convert {\n",
              "      background-color: #3B4455;\n",
              "      fill: #D2E3FC;\n",
              "    }\n",
              "\n",
              "    [theme=dark] .colab-df-convert:hover {\n",
              "      background-color: #434B5C;\n",
              "      box-shadow: 0px 1px 3px 1px rgba(0, 0, 0, 0.15);\n",
              "      filter: drop-shadow(0px 1px 2px rgba(0, 0, 0, 0.3));\n",
              "      fill: #FFFFFF;\n",
              "    }\n",
              "  </style>\n",
              "\n",
              "      <script>\n",
              "        const buttonEl =\n",
              "          document.querySelector('#df-8b205953-0172-4a31-b84d-fd2f070f47c1 button.colab-df-convert');\n",
              "        buttonEl.style.display =\n",
              "          google.colab.kernel.accessAllowed ? 'block' : 'none';\n",
              "\n",
              "        async function convertToInteractive(key) {\n",
              "          const element = document.querySelector('#df-8b205953-0172-4a31-b84d-fd2f070f47c1');\n",
              "          const dataTable =\n",
              "            await google.colab.kernel.invokeFunction('convertToInteractive',\n",
              "                                                     [key], {});\n",
              "          if (!dataTable) return;\n",
              "\n",
              "          const docLinkHtml = 'Like what you see? Visit the ' +\n",
              "            '<a target=\"_blank\" href=https://colab.research.google.com/notebooks/data_table.ipynb>data table notebook</a>'\n",
              "            + ' to learn more about interactive tables.';\n",
              "          element.innerHTML = '';\n",
              "          dataTable['output_type'] = 'display_data';\n",
              "          await google.colab.output.renderOutput(dataTable, element);\n",
              "          const docLink = document.createElement('div');\n",
              "          docLink.innerHTML = docLinkHtml;\n",
              "          element.appendChild(docLink);\n",
              "        }\n",
              "      </script>\n",
              "    </div>\n",
              "  </div>\n",
              "  "
            ],
            "text/plain": [
              "           album                          song  ...  year   views\n",
              "82  Unapologetic         Phresh Out the Runway  ...  2012   95800\n",
              "83  Unapologetic                      Diamonds  ...  2012  971800\n",
              "84  Unapologetic             Numb (Ft. Eminem)  ...  2012  198500\n",
              "85  Unapologetic                    Pour It Up  ...  2012  431800\n",
              "86  Unapologetic  Loveeeeeee Song (Ft. Future)  ...  2012  691500\n",
              "\n",
              "[5 rows x 5 columns]"
            ]
          },
          "metadata": {},
          "execution_count": 63
        }
      ]
    },
    {
      "cell_type": "code",
      "source": [
        "album_views=dict()\n",
        "for i in df_2012.index:\n",
        "    val=int(df_2012['views'][i])\n",
        "    if df_2012['album'][i] not in album_views:\n",
        "     album_views[df_2012['album'][i]]=int(df_2012['views'][i])\n",
        "    else:\n",
        "     album_views[df_2012['album'][i]]+=int(df_2012['views'][i])"
      ],
      "metadata": {
        "id": "XMtBXj9ckkdV"
      },
      "execution_count": 64,
      "outputs": []
    },
    {
      "cell_type": "code",
      "source": [
        "album_views = dict( sorted(album_views.items(), key=operator.itemgetter(1),reverse=True))\n",
        "print('Dictionary in descending order by value : ',album_views)    \n",
        "\n",
        "top_5_album_views=dict()\n",
        "j=0\n",
        "for i in album_views:\n",
        "  top_5_album_views[i]=album_views[i]\n",
        "  j+=1\n",
        "  if(j==5):\n",
        "    break\n",
        "\n",
        "names=list(top_5_album_views.keys())\n",
        "values=list(top_5_album_views.values())\n",
        "\n",
        "f = plt.figure()\n",
        "f.set_figwidth(15)\n",
        "f.set_figheight(10)\n",
        "\n",
        "c = ['red', 'yellow', 'black', 'blue', 'orange']\n",
        "  \n",
        "plt.bar(range(len(top_5_album_views)), values, tick_label=names,color=c)\n",
        "plt.show() "
      ],
      "metadata": {
        "colab": {
          "base_uri": "https://localhost:8080/",
          "height": 619
        },
        "id": "0AYekJLClAHu",
        "outputId": "e329c965-ab6f-4107-8c50-e5932499d6c9"
      },
      "execution_count": 65,
      "outputs": [
        {
          "output_type": "stream",
          "name": "stdout",
          "text": [
            "Dictionary in descending order by value :  {'Unapologetic': 5249100}\n"
          ]
        },
        {
          "output_type": "display_data",
          "data": {
            "image/png": "[encoded data removed]",
            "text/plain": [
              "<Figure size 1080x720 with 1 Axes>"
            ]
          },
          "metadata": {
            "needs_background": "light"
          }
        }
      ]
    },
    {
      "cell_type": "code",
      "source": [
        "song_wise_views=dict()\n",
        "for i in df_2012.index:\n",
        "    val=int(df_2012['views'][i])\n",
        "    if df['song'][i] not in song_wise_views:\n",
        "     song_wise_views[df_2012['song'][i]]=int(df_2012['views'][i])\n",
        "    else:\n",
        "     song_wise_views[df_2012['song'][i]]+=int(df_2012['views'][i])"
      ],
      "metadata": {
        "id": "xQ21Hr2ckaa1"
      },
      "execution_count": 66,
      "outputs": []
    },
    {
      "cell_type": "code",
      "source": [
        "song_wise_views = dict( sorted(song_wise_views.items(), key=operator.itemgetter(1),reverse=True))\n",
        "print('Dictionary in descending order by value : ',song_wise_views)    \n",
        "\n",
        "top_5_song_wise_views=dict()\n",
        "j=0\n",
        "for i in song_wise_views:\n",
        "  top_5_song_wise_views[i]=song_wise_views[i]\n",
        "  j+=1\n",
        "  if(j==5):\n",
        "    break\n",
        "\n",
        "names=list(top_5_song_wise_views.keys())\n",
        "values=list(top_5_song_wise_views.values())\n",
        "\n",
        "f = plt.figure()\n",
        "f.set_figwidth(10)\n",
        "f.set_figheight(10)\n",
        "\n",
        "c = ['red', 'yellow', 'black', 'blue', 'orange']\n",
        "  \n",
        "plt.bar(range(len(top_5_song_wise_views)), values, tick_label=names,color=c)\n",
        "plt.show() "
      ],
      "metadata": {
        "colab": {
          "base_uri": "https://localhost:8080/",
          "height": 639
        },
        "id": "LNtlSEM8siVH",
        "outputId": "82bb4567-996d-4781-8fad-90181f5e0f79"
      },
      "execution_count": 67,
      "outputs": [
        {
          "output_type": "stream",
          "name": "stdout",
          "text": [
            "Dictionary in descending order by value :  {'Stay (Ft.\\xa0Mikky\\xa0Ekko)': 1700000, 'Diamonds': 971800, 'Loveeeeeee Song (Ft.\\xa0Future)': 691500, 'Pour It Up': 431800, 'What Now': 288700, 'Love Without Tragedy / Mother Mary': 199100, 'Numb (Ft.\\xa0Eminem)': 198500, 'Jump (Ft.\\xa0Kevin\\xa0Cossom)': 163900, \"Nobody's Business (Ft.\\xa0Chris\\xa0Brown)\": 124100, 'Get It Over With': 122000, 'No Love Allowed': 109500, 'Phresh Out the Runway': 95800, 'Right Now (Ft.\\xa0David\\xa0Guetta)': 54300, 'Half of Me': 53300, 'Lost in Paradise': 44800}\n"
          ]
        },
        {
          "output_type": "display_data",
          "data": {
            "image/png": "[encoded data removed]",
            "text/plain": [
              "<Figure size 720x720 with 1 Axes>"
            ]
          },
          "metadata": {
            "needs_background": "light"
          }
        }
      ]
    },
    {
      "cell_type": "markdown",
      "source": [
        "2016"
      ],
      "metadata": {
        "id": "VcJtb80Vyk5o"
      }
    },
    {
      "cell_type": "code",
      "source": [
        "df_2016=df[df['year']==2016]\n",
        "df_2016.head()"
      ],
      "metadata": {
        "colab": {
          "base_uri": "https://localhost:8080/",
          "height": 206
        },
        "id": "nxjyj8IIvoeB",
        "outputId": "6c323845-eb27-40d1-a454-2ce555422cdd"
      },
      "execution_count": 68,
      "outputs": [
        {
          "output_type": "execute_result",
          "data": {
            "text/html": [
              "\n",
              "  <div id=\"df-eae07a7d-b5f8-478c-966d-5484e822c35f\">\n",
              "    <div class=\"colab-df-container\">\n",
              "      <div>\n",
              "<style scoped>\n",
              "    .dataframe tbody tr th:only-of-type {\n",
              "        vertical-align: middle;\n",
              "    }\n",
              "\n",
              "    .dataframe tbody tr th {\n",
              "        vertical-align: top;\n",
              "    }\n",
              "\n",
              "    .dataframe thead th {\n",
              "        text-align: right;\n",
              "    }\n",
              "</style>\n",
              "<table border=\"1\" class=\"dataframe\">\n",
              "  <thead>\n",
              "    <tr style=\"text-align: right;\">\n",
              "      <th></th>\n",
              "      <th>album</th>\n",
              "      <th>song</th>\n",
              "      <th>lyrics</th>\n",
              "      <th>year</th>\n",
              "      <th>views</th>\n",
              "    </tr>\n",
              "  </thead>\n",
              "  <tbody>\n",
              "    <tr>\n",
              "      <th>97</th>\n",
              "      <td>ANTI</td>\n",
              "      <td>Consideration (Ft. SZA)</td>\n",
              "      <td>[Verse 1: Rihanna]\\nI came fluttering in from ...</td>\n",
              "      <td>2016</td>\n",
              "      <td>938100</td>\n",
              "    </tr>\n",
              "    <tr>\n",
              "      <th>98</th>\n",
              "      <td>ANTI</td>\n",
              "      <td>James Joint</td>\n",
              "      <td>[Verse 1]\\nI'd rather be smoking weed whenever...</td>\n",
              "      <td>2016</td>\n",
              "      <td>254700</td>\n",
              "    </tr>\n",
              "    <tr>\n",
              "      <th>99</th>\n",
              "      <td>ANTI</td>\n",
              "      <td>Kiss It Better</td>\n",
              "      <td>[Intro]\\nKiss it, kiss it better, baby\\nKiss i...</td>\n",
              "      <td>2016</td>\n",
              "      <td>1400000</td>\n",
              "    </tr>\n",
              "    <tr>\n",
              "      <th>100</th>\n",
              "      <td>ANTI</td>\n",
              "      <td>Work (Ft. Drake)</td>\n",
              "      <td>[Chorus: Rihanna]\\nWork, work, work, work, wor...</td>\n",
              "      <td>2016</td>\n",
              "      <td>7900000</td>\n",
              "    </tr>\n",
              "    <tr>\n",
              "      <th>101</th>\n",
              "      <td>ANTI</td>\n",
              "      <td>Desperado</td>\n",
              "      <td>[Verse 1]\\nDesperado\\nSittin' in an old Monte ...</td>\n",
              "      <td>2016</td>\n",
              "      <td>852000</td>\n",
              "    </tr>\n",
              "  </tbody>\n",
              "</table>\n",
              "</div>\n",
              "      <button class=\"colab-df-convert\" onclick=\"convertToInteractive('df-eae07a7d-b5f8-478c-966d-5484e822c35f')\"\n",
              "              title=\"Convert this dataframe to an interactive table.\"\n",
              "              style=\"display:none;\">\n",
              "        \n",
              "  <svg xmlns=\"http://www.w3.org/2000/svg\" height=\"24px\"viewBox=\"0 0 24 24\"\n",
              "       width=\"24px\">\n",
              "    <path d=\"M0 0h24v24H0V0z\" fill=\"none\"/>\n",
              "    <path d=\"M18.56 5.44l.94 2.06.94-2.06 2.06-.94-2.06-.94-.94-2.06-.94 2.06-2.06.94zm-11 1L8.5 8.5l.94-2.06 2.06-.94-2.06-.94L8.5 2.5l-.94 2.06-2.06.94zm10 10l.94 2.06.94-2.06 2.06-.94-2.06-.94-.94-2.06-.94 2.06-2.06.94z\"/><path d=\"M17.41 7.96l-1.37-1.37c-.4-.4-.92-.59-1.43-.59-.52 0-1.04.2-1.43.59L10.3 9.45l-7.72 7.72c-.78.78-.78 2.05 0 2.83L4 21.41c.39.39.9.59 1.41.59.51 0 1.02-.2 1.41-.59l7.78-7.78 2.81-2.81c.8-.78.8-2.07 0-2.86zM5.41 20L4 18.59l7.72-7.72 1.47 1.35L5.41 20z\"/>\n",
              "  </svg>\n",
              "      </button>\n",
              "      \n",
              "  <style>\n",
              "    .colab-df-container {\n",
              "      display:flex;\n",
              "      flex-wrap:wrap;\n",
              "      gap: 12px;\n",
              "    }\n",
              "\n",
              "    .colab-df-convert {\n",
              "      background-color: #E8F0FE;\n",
              "      border: none;\n",
              "      border-radius: 50%;\n",
              "      cursor: pointer;\n",
              "      display: none;\n",
              "      fill: #1967D2;\n",
              "      height: 32px;\n",
              "      padding: 0 0 0 0;\n",
              "      width: 32px;\n",
              "    }\n",
              "\n",
              "    .colab-df-convert:hover {\n",
              "      background-color: #E2EBFA;\n",
              "      box-shadow: 0px 1px 2px rgba(60, 64, 67, 0.3), 0px 1px 3px 1px rgba(60, 64, 67, 0.15);\n",
              "      fill: #174EA6;\n",
              "    }\n",
              "\n",
              "    [theme=dark] .colab-df-convert {\n",
              "      background-color: #3B4455;\n",
              "      fill: #D2E3FC;\n",
              "    }\n",
              "\n",
              "    [theme=dark] .colab-df-convert:hover {\n",
              "      background-color: #434B5C;\n",
              "      box-shadow: 0px 1px 3px 1px rgba(0, 0, 0, 0.15);\n",
              "      filter: drop-shadow(0px 1px 2px rgba(0, 0, 0, 0.3));\n",
              "      fill: #FFFFFF;\n",
              "    }\n",
              "  </style>\n",
              "\n",
              "      <script>\n",
              "        const buttonEl =\n",
              "          document.querySelector('#df-eae07a7d-b5f8-478c-966d-5484e822c35f button.colab-df-convert');\n",
              "        buttonEl.style.display =\n",
              "          google.colab.kernel.accessAllowed ? 'block' : 'none';\n",
              "\n",
              "        async function convertToInteractive(key) {\n",
              "          const element = document.querySelector('#df-eae07a7d-b5f8-478c-966d-5484e822c35f');\n",
              "          const dataTable =\n",
              "            await google.colab.kernel.invokeFunction('convertToInteractive',\n",
              "                                                     [key], {});\n",
              "          if (!dataTable) return;\n",
              "\n",
              "          const docLinkHtml = 'Like what you see? Visit the ' +\n",
              "            '<a target=\"_blank\" href=https://colab.research.google.com/notebooks/data_table.ipynb>data table notebook</a>'\n",
              "            + ' to learn more about interactive tables.';\n",
              "          element.innerHTML = '';\n",
              "          dataTable['output_type'] = 'display_data';\n",
              "          await google.colab.output.renderOutput(dataTable, element);\n",
              "          const docLink = document.createElement('div');\n",
              "          docLink.innerHTML = docLinkHtml;\n",
              "          element.appendChild(docLink);\n",
              "        }\n",
              "      </script>\n",
              "    </div>\n",
              "  </div>\n",
              "  "
            ],
            "text/plain": [
              "    album                     song  ...  year    views\n",
              "97   ANTI  Consideration (Ft. SZA)  ...  2016   938100\n",
              "98   ANTI              James Joint  ...  2016   254700\n",
              "99   ANTI           Kiss It Better  ...  2016  1400000\n",
              "100  ANTI         Work (Ft. Drake)  ...  2016  7900000\n",
              "101  ANTI                Desperado  ...  2016   852000\n",
              "\n",
              "[5 rows x 5 columns]"
            ]
          },
          "metadata": {},
          "execution_count": 68
        }
      ]
    },
    {
      "cell_type": "code",
      "source": [
        "album_views=dict()\n",
        "for i in df_2016.index:\n",
        "    val=int(df_2016['views'][i])\n",
        "    if df_2016['album'][i] not in album_views:\n",
        "     album_views[df_2016['album'][i]]=int(df_2016['views'][i])\n",
        "    else:\n",
        "     album_views[df_2016['album'][i]]+=int(df_2016['views'][i])"
      ],
      "metadata": {
        "id": "FdJsnQj9yomH"
      },
      "execution_count": 69,
      "outputs": []
    },
    {
      "cell_type": "code",
      "source": [
        "album_views = dict( sorted(album_views.items(), key=operator.itemgetter(1),reverse=True))\n",
        "print('Dictionary in descending order by value : ',album_views)    \n",
        "\n",
        "top_5_album_views=dict()\n",
        "j=0\n",
        "for i in album_views:\n",
        "  top_5_album_views[i]=album_views[i]\n",
        "  j+=1\n",
        "  if(j==5):\n",
        "    break\n",
        "\n",
        "names=list(top_5_album_views.keys())\n",
        "values=list(top_5_album_views.values())\n",
        "\n",
        "f = plt.figure()\n",
        "f.set_figwidth(15)\n",
        "f.set_figheight(10)\n",
        "\n",
        "c = ['red', 'yellow', 'black', 'blue', 'orange']\n",
        "  \n",
        "plt.bar(range(len(top_5_album_views)), values, tick_label=names,color=c)\n",
        "plt.show() "
      ],
      "metadata": {
        "colab": {
          "base_uri": "https://localhost:8080/",
          "height": 619
        },
        "id": "-i7glBIWyvMm",
        "outputId": "6a1bd257-320c-4cc7-857a-995c091ac33d"
      },
      "execution_count": 70,
      "outputs": [
        {
          "output_type": "stream",
          "name": "stdout",
          "text": [
            "Dictionary in descending order by value :  {'ANTI': 20319100}\n"
          ]
        },
        {
          "output_type": "display_data",
          "data": {
            "image/png": "[encoded data removed]",
            "text/plain": [
              "<Figure size 1080x720 with 1 Axes>"
            ]
          },
          "metadata": {
            "needs_background": "light"
          }
        }
      ]
    },
    {
      "cell_type": "code",
      "source": [
        "song_wise_views=dict()\n",
        "for i in df_2016.index:\n",
        "    val=int(df_2016['views'][i])\n",
        "    if df['song'][i] not in song_wise_views:\n",
        "     song_wise_views[df_2016['song'][i]]=int(df_2016['views'][i])\n",
        "    else:\n",
        "     song_wise_views[df_2016['song'][i]]+=int(df_2016['views'][i])"
      ],
      "metadata": {
        "id": "0LXe3xRly0RX"
      },
      "execution_count": 71,
      "outputs": []
    },
    {
      "cell_type": "code",
      "source": [
        "song_wise_views = dict( sorted(song_wise_views.items(), key=operator.itemgetter(1),reverse=True))\n",
        "print('Dictionary in descending order by value : ',song_wise_views)    \n",
        "\n",
        "top_5_song_wise_views=dict()\n",
        "j=0\n",
        "for i in song_wise_views:\n",
        "  top_5_song_wise_views[i]=song_wise_views[i]\n",
        "  j+=1\n",
        "  if(j==5):\n",
        "    break\n",
        "\n",
        "names=list(top_5_song_wise_views.keys())\n",
        "values=list(top_5_song_wise_views.values())\n",
        "\n",
        "f = plt.figure()\n",
        "f.set_figwidth(10)\n",
        "f.set_figheight(10)\n",
        "\n",
        "c = ['red', 'yellow', 'black', 'blue', 'orange']\n",
        "  \n",
        "plt.bar(range(len(top_5_song_wise_views)), values, tick_label=names,color=c)\n",
        "plt.show() "
      ],
      "metadata": {
        "colab": {
          "base_uri": "https://localhost:8080/",
          "height": 639
        },
        "id": "KhIhtqSDzBAW",
        "outputId": "0a1364a6-fced-4412-fd71-fbe102973ab9"
      },
      "execution_count": 72,
      "outputs": [
        {
          "output_type": "stream",
          "name": "stdout",
          "text": [
            "Dictionary in descending order by value :  {'Work (Ft.\\xa0Drake)': 7900000, 'Needed Me': 2200000, 'Love on the Brain': 2200000, 'Kiss It Better': 1400000, 'Sex with Me': 1100000, 'Consideration (Ft.\\xa0SZA)': 938100, 'Desperado': 852000, \"Same Ol' Mistakes\": 702000, 'Higher': 568600, 'Yeah, I Said It': 507800, 'Close to You': 504400, 'Woo': 499100, 'Never Ending': 306400, 'James Joint': 254700, 'Pose': 245100, 'Goodnight Gotham': 140900}\n"
          ]
        },
        {
          "output_type": "display_data",
          "data": {
            "image/png": "[encoded data removed]",
            "text/plain": [
              "<Figure size 720x720 with 1 Axes>"
            ]
          },
          "metadata": {
            "needs_background": "light"
          }
        }
      ]
    },
    {
      "cell_type": "code",
      "source": [
        ""
      ],
      "metadata": {
        "id": "-8pIOlzrzGZz"
      },
      "execution_count": null,
      "outputs": []
    }
  ]
}