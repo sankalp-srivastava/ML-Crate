{
  "nbformat": 4,
  "nbformat_minor": 0,
  "metadata": {
    "colab": {
      "name": "Vegetable_image_classification.ipynb",
      "provenance": [],
      "collapsed_sections": []
    },
    "kernelspec": {
      "name": "python3",
      "display_name": "Python 3"
    },
    "language_info": {
      "name": "python"
    }
  },
  "cells": [
    {
      "cell_type": "code",
      "source": [
        "import numpy as np\n",
        "import matplotlib.pyplot as plt\n",
        "import tensorflow as tf\n",
        "from tensorflow import keras\n",
        "from keras.layers import *\n",
        "from keras.models import *\n",
        "from keras.preprocessing import image\n",
        "from keras.preprocessing.image import ImageDataGenerator\n",
        "import os, shutil\n",
        "import warnings\n",
        "warnings.filterwarnings('ignore')"
      ],
      "metadata": {
        "id": "0yPWakCkkAGm"
      },
      "execution_count": null,
      "outputs": []
    },
    {
      "cell_type": "code",
      "source": [
        "train_path = \"/content/drive/MyDrive/JWOC/vegetable_image_classification/dataset/Vegetable Images/train\"\n",
        "validation_path = \"/content/drive/MyDrive/JWOC/vegetable_image_classification/dataset/Vegetable Images/validation\"\n",
        "test_path = \"/content/drive/MyDrive/JWOC/vegetable_image_classification/dataset/Vegetable Images/test\""
      ],
      "metadata": {
        "id": "A-wEyDpJmCR3"
      },
      "execution_count": null,
      "outputs": []
    },
    {
      "cell_type": "code",
      "source": [
        "train_gen = ImageDataGenerator(rescale = 1.0/255.0) # Normalise the data\n",
        "train_image_generator = train_gen.flow_from_directory(\n",
        "                                            train_path,\n",
        "                                            target_size=(150, 150),\n",
        "                                            batch_size=32,\n",
        "                                            class_mode='categorical')\n",
        "\n",
        "# 2. Validation Set\n",
        "val_gen = ImageDataGenerator(rescale = 1.0/255.0) # Normalise the data\n",
        "val_image_generator = train_gen.flow_from_directory(\n",
        "                                            validation_path,\n",
        "                                            target_size=(150, 150),\n",
        "                                            batch_size=32,\n",
        "                                            class_mode='categorical')\n",
        "\n",
        "# 3. Test Set\n",
        "test_gen = ImageDataGenerator(rescale = 1.0/255.0) # Normalise the data\n",
        "test_image_generator = train_gen.flow_from_directory(\n",
        "                                            test_path,\n",
        "                                            target_size=(150, 150),\n",
        "                                            batch_size=32,\n",
        "                                            class_mode='categorical')"
      ],
      "metadata": {
        "colab": {
          "base_uri": "https://localhost:8080/"
        },
        "id": "nZ6gTX4WmV7v",
        "outputId": "b81b1803-5233-43c0-d71c-827fe11b3d37"
      },
      "execution_count": null,
      "outputs": [
        {
          "output_type": "stream",
          "name": "stdout",
          "text": [
            "Found 15000 images belonging to 15 classes.\n",
            "Found 3000 images belonging to 15 classes.\n",
            "Found 3000 images belonging to 15 classes.\n"
          ]
        }
      ]
    },
    {
      "cell_type": "code",
      "source": [
        "class_map = dict([(v, k) for k, v in train_image_generator.class_indices.items()])\n",
        "print(class_map)"
      ],
      "metadata": {
        "colab": {
          "base_uri": "https://localhost:8080/"
        },
        "id": "08dOGU_Omdsz",
        "outputId": "4427bb94-f69f-4d1e-9ef0-f0245350d70b"
      },
      "execution_count": null,
      "outputs": [
        {
          "output_type": "stream",
          "name": "stdout",
          "text": [
            "{0: 'Bean', 1: 'Bitter_Gourd', 2: 'Bottle_Gourd', 3: 'Brinjal', 4: 'Broccoli', 5: 'Cabbage', 6: 'Capsicum', 7: 'Carrot', 8: 'Cauliflower', 9: 'Cucumber', 10: 'Papaya', 11: 'Potato', 12: 'Pumpkin', 13: 'Radish', 14: 'Tomato'}\n"
          ]
        }
      ]
    },
    {
      "cell_type": "code",
      "source": [
        "model = Sequential()\n",
        "model.add(Conv2D(filters=32, kernel_size=3, strides=1, padding='same', activation='relu', input_shape=[150, 150, 3]))\n",
        "model.add(MaxPooling2D(2, ))\n",
        "model.add(Conv2D(filters=64, kernel_size=3, strides=1, padding='same', activation='relu'))\n",
        "model.add(MaxPooling2D(2))\n",
        "\n",
        "# Flatten the feature map\n",
        "model.add(Flatten())\n",
        "\n",
        "# Add the fully connected layers\n",
        "model.add(Dense(128, activation='relu'))\n",
        "model.add(Dropout(0.25))\n",
        "model.add(Dense(128, activation='relu'))\n",
        "model.add(Dense(15, activation='softmax'))\n",
        "\n",
        "# print the model summary\n",
        "model.summary()"
      ],
      "metadata": {
        "colab": {
          "base_uri": "https://localhost:8080/"
        },
        "id": "h7F47LZnmmGu",
        "outputId": "84dce432-1d9a-43af-84ac-64ea8b121254"
      },
      "execution_count": null,
      "outputs": [
        {
          "output_type": "stream",
          "name": "stdout",
          "text": [
            "Model: \"sequential\"\n",
            "_________________________________________________________________\n",
            " Layer (type)                Output Shape              Param #   \n",
            "=================================================================\n",
            " conv2d (Conv2D)             (None, 150, 150, 32)      896       \n",
            "                                                                 \n",
            " max_pooling2d (MaxPooling2D  (None, 75, 75, 32)       0         \n",
            " )                                                               \n",
            "                                                                 \n",
            " conv2d_1 (Conv2D)           (None, 75, 75, 64)        18496     \n",
            "                                                                 \n",
            " max_pooling2d_1 (MaxPooling  (None, 37, 37, 64)       0         \n",
            " 2D)                                                             \n",
            "                                                                 \n",
            " flatten (Flatten)           (None, 87616)             0         \n",
            "                                                                 \n",
            " dense (Dense)               (None, 128)               11214976  \n",
            "                                                                 \n",
            " dropout (Dropout)           (None, 128)               0         \n",
            "                                                                 \n",
            " dense_1 (Dense)             (None, 128)               16512     \n",
            "                                                                 \n",
            " dense_2 (Dense)             (None, 15)                1935      \n",
            "                                                                 \n",
            "=================================================================\n",
            "Total params: 11,252,815\n",
            "Trainable params: 11,252,815\n",
            "Non-trainable params: 0\n",
            "_________________________________________________________________\n"
          ]
        }
      ]
    },
    {
      "cell_type": "code",
      "source": [
        "model.compile(optimizer='Adam', loss='categorical_crossentropy', metrics='accuracy')\n",
        "hist = model.fit(train_image_generator, \n",
        "                 epochs=15, \n",
        "                 verbose=1, \n",
        "                 validation_data=val_image_generator, \n",
        "                 steps_per_epoch = 15000//32, \n",
        "                 validation_steps = 3000//32, \n",
        "                )"
      ],
      "metadata": {
        "colab": {
          "base_uri": "https://localhost:8080/"
        },
        "id": "es5VPabWmqyu",
        "outputId": "d08f6b46-6c5d-4636-e23a-21cbecb973a1"
      },
      "execution_count": null,
      "outputs": [
        {
          "output_type": "stream",
          "name": "stdout",
          "text": [
            "Epoch 1/15\n",
            "468/468 [==============================] - 572s 1s/step - loss: 1.3332 - accuracy: 0.5572 - val_loss: 0.6287 - val_accuracy: 0.8122\n",
            "Epoch 2/15\n",
            "468/468 [==============================] - 561s 1s/step - loss: 0.5445 - accuracy: 0.8253 - val_loss: 0.3852 - val_accuracy: 0.8810\n",
            "Epoch 3/15\n",
            "468/468 [==============================] - 550s 1s/step - loss: 0.2818 - accuracy: 0.9113 - val_loss: 0.2769 - val_accuracy: 0.9214\n",
            "Epoch 4/15\n",
            "468/468 [==============================] - 545s 1s/step - loss: 0.1881 - accuracy: 0.9401 - val_loss: 0.2566 - val_accuracy: 0.9331\n",
            "Epoch 5/15\n",
            "468/468 [==============================] - 554s 1s/step - loss: 0.1445 - accuracy: 0.9532 - val_loss: 0.2214 - val_accuracy: 0.9385\n",
            "Epoch 6/15\n",
            "468/468 [==============================] - 554s 1s/step - loss: 0.1268 - accuracy: 0.9610 - val_loss: 0.2514 - val_accuracy: 0.9362\n",
            "Epoch 7/15\n",
            "468/468 [==============================] - 554s 1s/step - loss: 0.0964 - accuracy: 0.9705 - val_loss: 0.2831 - val_accuracy: 0.9311\n",
            "Epoch 8/15\n",
            "468/468 [==============================] - 558s 1s/step - loss: 0.0814 - accuracy: 0.9743 - val_loss: 0.2773 - val_accuracy: 0.9368\n",
            "Epoch 9/15\n",
            "468/468 [==============================] - 555s 1s/step - loss: 0.0881 - accuracy: 0.9709 - val_loss: 0.2989 - val_accuracy: 0.9321\n",
            "Epoch 10/15\n",
            "468/468 [==============================] - 556s 1s/step - loss: 0.0786 - accuracy: 0.9751 - val_loss: 0.2323 - val_accuracy: 0.9442\n",
            "Epoch 11/15\n",
            "468/468 [==============================] - 560s 1s/step - loss: 0.0578 - accuracy: 0.9824 - val_loss: 0.3088 - val_accuracy: 0.9274\n",
            "Epoch 12/15\n",
            "468/468 [==============================] - 556s 1s/step - loss: 0.0629 - accuracy: 0.9802 - val_loss: 0.3317 - val_accuracy: 0.9294\n",
            "Epoch 13/15\n",
            "468/468 [==============================] - 552s 1s/step - loss: 0.0659 - accuracy: 0.9776 - val_loss: 0.3308 - val_accuracy: 0.9288\n",
            "Epoch 14/15\n",
            "468/468 [==============================] - 552s 1s/step - loss: 0.0676 - accuracy: 0.9798 - val_loss: 0.2825 - val_accuracy: 0.9351\n",
            "Epoch 15/15\n",
            "468/468 [==============================] - 554s 1s/step - loss: 0.0648 - accuracy: 0.9800 - val_loss: 0.2820 - val_accuracy: 0.9378\n"
          ]
        }
      ]
    },
    {
      "cell_type": "code",
      "source": [
        "model.evaluate(test_image_generator)"
      ],
      "metadata": {
        "colab": {
          "base_uri": "https://localhost:8080/"
        },
        "id": "RDiIOhJBmz6E",
        "outputId": "fc83ed6f-f4dc-4688-8aaa-ad27910c6a65"
      },
      "execution_count": null,
      "outputs": [
        {
          "output_type": "stream",
          "name": "stdout",
          "text": [
            "94/94 [==============================] - 36s 373ms/step - loss: 0.2847 - accuracy: 0.9417\n"
          ]
        },
        {
          "output_type": "execute_result",
          "data": {
            "text/plain": [
              "[0.2846732437610626, 0.9416666626930237]"
            ]
          },
          "metadata": {},
          "execution_count": 16
        }
      ]
    },
    {
      "cell_type": "code",
      "source": [
        ""
      ],
      "metadata": {
        "id": "OGewsrxIHXF-"
      },
      "execution_count": null,
      "outputs": []
    }
  ]
}