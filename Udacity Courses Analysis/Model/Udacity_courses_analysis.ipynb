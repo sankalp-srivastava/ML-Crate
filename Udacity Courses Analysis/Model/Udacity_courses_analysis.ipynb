{
  "nbformat": 4,
  "nbformat_minor": 0,
  "metadata": {
    "colab": {
      "name": "Udacity courses analysis.ipynb",
      "provenance": [],
      "collapsed_sections": []
    },
    "kernelspec": {
      "name": "python3",
      "display_name": "Python 3"
    },
    "language_info": {
      "name": "python"
    }
  },
  "cells": [
    {
      "cell_type": "code",
      "execution_count": 1,
      "metadata": {
        "colab": {
          "base_uri": "https://localhost:8080/"
        },
        "id": "kaOPahcn1-Ue",
        "outputId": "52575ef0-aa1d-48ec-b5c5-628a019de1f8"
      },
      "outputs": [
        {
          "output_type": "stream",
          "name": "stdout",
          "text": [
            "Mounted at /content/drive\n"
          ]
        }
      ],
      "source": [
        "from google.colab import drive\n",
        "drive.mount('/content/drive')"
      ]
    },
    {
      "cell_type": "code",
      "source": [
        "import pandas as pd\n",
        "import operator\n",
        "import matplotlib.pyplot as plt"
      ],
      "metadata": {
        "id": "SiRGo80C2YU6"
      },
      "execution_count": 9,
      "outputs": []
    },
    {
      "cell_type": "code",
      "source": [
        "df=pd.read_csv('/content/drive/MyDrive/JWOC/Udacity/Udacity.csv')\n",
        "df.head()"
      ],
      "metadata": {
        "colab": {
          "base_uri": "https://localhost:8080/",
          "height": 206
        },
        "id": "9M2ZlMMO2g3S",
        "outputId": "ab3132a7-edc5-4f33-93bd-02bfbb6b060a"
      },
      "execution_count": 3,
      "outputs": [
        {
          "output_type": "execute_result",
          "data": {
            "text/html": [
              "\n",
              "  <div id=\"df-f4646332-c721-4abc-8414-666ff67a076b\">\n",
              "    <div class=\"colab-df-container\">\n",
              "      <div>\n",
              "<style scoped>\n",
              "    .dataframe tbody tr th:only-of-type {\n",
              "        vertical-align: middle;\n",
              "    }\n",
              "\n",
              "    .dataframe tbody tr th {\n",
              "        vertical-align: top;\n",
              "    }\n",
              "\n",
              "    .dataframe thead th {\n",
              "        text-align: right;\n",
              "    }\n",
              "</style>\n",
              "<table border=\"1\" class=\"dataframe\">\n",
              "  <thead>\n",
              "    <tr style=\"text-align: right;\">\n",
              "      <th></th>\n",
              "      <th>Name</th>\n",
              "      <th>School</th>\n",
              "      <th>Difficulty Level</th>\n",
              "      <th>Rating</th>\n",
              "      <th>Link</th>\n",
              "      <th>About</th>\n",
              "    </tr>\n",
              "  </thead>\n",
              "  <tbody>\n",
              "    <tr>\n",
              "      <th>0</th>\n",
              "      <td>Data Engineer</td>\n",
              "      <td>School of Data Science</td>\n",
              "      <td>Intermediate</td>\n",
              "      <td>4.6</td>\n",
              "      <td>https://www.udacity.com//course/data-engineer-...</td>\n",
              "      <td>Data Engineering is the foundation for the new...</td>\n",
              "    </tr>\n",
              "    <tr>\n",
              "      <th>1</th>\n",
              "      <td>Data Scientist</td>\n",
              "      <td>School of Data Science</td>\n",
              "      <td>Advanced</td>\n",
              "      <td>4.7</td>\n",
              "      <td>https://www.udacity.com//course/data-scientist...</td>\n",
              "      <td>Build effective machine learning models, run d...</td>\n",
              "    </tr>\n",
              "    <tr>\n",
              "      <th>2</th>\n",
              "      <td>Data Analyst</td>\n",
              "      <td>School of Data Science</td>\n",
              "      <td>Intermediate</td>\n",
              "      <td>4.6</td>\n",
              "      <td>https://www.udacity.com//course/data-analyst-n...</td>\n",
              "      <td>Use Python, SQL, and statistics to uncover ins...</td>\n",
              "    </tr>\n",
              "    <tr>\n",
              "      <th>3</th>\n",
              "      <td>C++</td>\n",
              "      <td>School of Autonomous Systems</td>\n",
              "      <td>Intermediate</td>\n",
              "      <td>4.6</td>\n",
              "      <td>https://www.udacity.com//course/c-plus-plus-na...</td>\n",
              "      <td>Get hands-on experience by building five real-...</td>\n",
              "    </tr>\n",
              "    <tr>\n",
              "      <th>4</th>\n",
              "      <td>Product Manager</td>\n",
              "      <td>School of Product Management</td>\n",
              "      <td>Beginner</td>\n",
              "      <td>4.7</td>\n",
              "      <td>https://www.udacity.com//course/product-manage...</td>\n",
              "      <td>Envision and execute the development of indust...</td>\n",
              "    </tr>\n",
              "  </tbody>\n",
              "</table>\n",
              "</div>\n",
              "      <button class=\"colab-df-convert\" onclick=\"convertToInteractive('df-f4646332-c721-4abc-8414-666ff67a076b')\"\n",
              "              title=\"Convert this dataframe to an interactive table.\"\n",
              "              style=\"display:none;\">\n",
              "        \n",
              "  <svg xmlns=\"http://www.w3.org/2000/svg\" height=\"24px\"viewBox=\"0 0 24 24\"\n",
              "       width=\"24px\">\n",
              "    <path d=\"M0 0h24v24H0V0z\" fill=\"none\"/>\n",
              "    <path d=\"M18.56 5.44l.94 2.06.94-2.06 2.06-.94-2.06-.94-.94-2.06-.94 2.06-2.06.94zm-11 1L8.5 8.5l.94-2.06 2.06-.94-2.06-.94L8.5 2.5l-.94 2.06-2.06.94zm10 10l.94 2.06.94-2.06 2.06-.94-2.06-.94-.94-2.06-.94 2.06-2.06.94z\"/><path d=\"M17.41 7.96l-1.37-1.37c-.4-.4-.92-.59-1.43-.59-.52 0-1.04.2-1.43.59L10.3 9.45l-7.72 7.72c-.78.78-.78 2.05 0 2.83L4 21.41c.39.39.9.59 1.41.59.51 0 1.02-.2 1.41-.59l7.78-7.78 2.81-2.81c.8-.78.8-2.07 0-2.86zM5.41 20L4 18.59l7.72-7.72 1.47 1.35L5.41 20z\"/>\n",
              "  </svg>\n",
              "      </button>\n",
              "      \n",
              "  <style>\n",
              "    .colab-df-container {\n",
              "      display:flex;\n",
              "      flex-wrap:wrap;\n",
              "      gap: 12px;\n",
              "    }\n",
              "\n",
              "    .colab-df-convert {\n",
              "      background-color: #E8F0FE;\n",
              "      border: none;\n",
              "      border-radius: 50%;\n",
              "      cursor: pointer;\n",
              "      display: none;\n",
              "      fill: #1967D2;\n",
              "      height: 32px;\n",
              "      padding: 0 0 0 0;\n",
              "      width: 32px;\n",
              "    }\n",
              "\n",
              "    .colab-df-convert:hover {\n",
              "      background-color: #E2EBFA;\n",
              "      box-shadow: 0px 1px 2px rgba(60, 64, 67, 0.3), 0px 1px 3px 1px rgba(60, 64, 67, 0.15);\n",
              "      fill: #174EA6;\n",
              "    }\n",
              "\n",
              "    [theme=dark] .colab-df-convert {\n",
              "      background-color: #3B4455;\n",
              "      fill: #D2E3FC;\n",
              "    }\n",
              "\n",
              "    [theme=dark] .colab-df-convert:hover {\n",
              "      background-color: #434B5C;\n",
              "      box-shadow: 0px 1px 3px 1px rgba(0, 0, 0, 0.15);\n",
              "      filter: drop-shadow(0px 1px 2px rgba(0, 0, 0, 0.3));\n",
              "      fill: #FFFFFF;\n",
              "    }\n",
              "  </style>\n",
              "\n",
              "      <script>\n",
              "        const buttonEl =\n",
              "          document.querySelector('#df-f4646332-c721-4abc-8414-666ff67a076b button.colab-df-convert');\n",
              "        buttonEl.style.display =\n",
              "          google.colab.kernel.accessAllowed ? 'block' : 'none';\n",
              "\n",
              "        async function convertToInteractive(key) {\n",
              "          const element = document.querySelector('#df-f4646332-c721-4abc-8414-666ff67a076b');\n",
              "          const dataTable =\n",
              "            await google.colab.kernel.invokeFunction('convertToInteractive',\n",
              "                                                     [key], {});\n",
              "          if (!dataTable) return;\n",
              "\n",
              "          const docLinkHtml = 'Like what you see? Visit the ' +\n",
              "            '<a target=\"_blank\" href=https://colab.research.google.com/notebooks/data_table.ipynb>data table notebook</a>'\n",
              "            + ' to learn more about interactive tables.';\n",
              "          element.innerHTML = '';\n",
              "          dataTable['output_type'] = 'display_data';\n",
              "          await google.colab.output.renderOutput(dataTable, element);\n",
              "          const docLink = document.createElement('div');\n",
              "          docLink.innerHTML = docLinkHtml;\n",
              "          element.appendChild(docLink);\n",
              "        }\n",
              "      </script>\n",
              "    </div>\n",
              "  </div>\n",
              "  "
            ],
            "text/plain": [
              "              Name  ...                                              About\n",
              "0    Data Engineer  ...  Data Engineering is the foundation for the new...\n",
              "1   Data Scientist  ...  Build effective machine learning models, run d...\n",
              "2     Data Analyst  ...  Use Python, SQL, and statistics to uncover ins...\n",
              "3              C++  ...  Get hands-on experience by building five real-...\n",
              "4  Product Manager  ...  Envision and execute the development of indust...\n",
              "\n",
              "[5 rows x 6 columns]"
            ]
          },
          "metadata": {},
          "execution_count": 3
        }
      ]
    },
    {
      "cell_type": "code",
      "source": [
        "df.shape"
      ],
      "metadata": {
        "colab": {
          "base_uri": "https://localhost:8080/"
        },
        "id": "wwaie5FQtVgD",
        "outputId": "c5698b5a-4b3c-40ad-fb16-980215aa7a80"
      },
      "execution_count": 4,
      "outputs": [
        {
          "output_type": "execute_result",
          "data": {
            "text/plain": [
              "(263, 6)"
            ]
          },
          "metadata": {},
          "execution_count": 4
        }
      ]
    },
    {
      "cell_type": "code",
      "source": [
        "len(df['Name'].unique())"
      ],
      "metadata": {
        "colab": {
          "base_uri": "https://localhost:8080/"
        },
        "id": "AVYRoN9htHIV",
        "outputId": "7f3bb21a-8252-47d0-aa83-b95b9b399cbd"
      },
      "execution_count": 5,
      "outputs": [
        {
          "output_type": "execute_result",
          "data": {
            "text/plain": [
              "262"
            ]
          },
          "metadata": {},
          "execution_count": 5
        }
      ]
    },
    {
      "cell_type": "code",
      "source": [
        "df['School'].unique()"
      ],
      "metadata": {
        "colab": {
          "base_uri": "https://localhost:8080/"
        },
        "id": "k53XTTiWtMXz",
        "outputId": "8d5bd757-3eed-488e-e2f0-1c6ce8b8495c"
      },
      "execution_count": 6,
      "outputs": [
        {
          "output_type": "execute_result",
          "data": {
            "text/plain": [
              "array(['School of Data Science', 'School of Autonomous Systems',\n",
              "       'School of Product Management', 'School of Business',\n",
              "       'School of Programming & Development',\n",
              "       'School of Artificial Intelligence', 'School of Cloud Computing',\n",
              "       'School of Cybersecurity', 'Career Advancement'], dtype=object)"
            ]
          },
          "metadata": {},
          "execution_count": 6
        }
      ]
    },
    {
      "cell_type": "markdown",
      "source": [
        "beginner"
      ],
      "metadata": {
        "id": "kZfGT4w4aVXV"
      }
    },
    {
      "cell_type": "code",
      "source": [
        "beginner_courses=dict()\n",
        "for i in df.index:\n",
        "    val=(df['Difficulty Level'][i])\n",
        "    if val=='Beginner':\n",
        "      if df['School'][i] not in beginner_courses:\n",
        "         beginner_courses[df['School'][i]]=1\n",
        "      else:\n",
        "         beginner_courses[df['School'][i]]+=1"
      ],
      "metadata": {
        "id": "CB2qfeGUtQRI"
      },
      "execution_count": 8,
      "outputs": []
    },
    {
      "cell_type": "code",
      "source": [
        "beginner_courses = dict( sorted(beginner_courses.items(), key=operator.itemgetter(1),reverse=True))\n",
        "print('Dictionary in descending order by value : ',beginner_courses)    \n",
        "\n",
        "top_5_album_views=dict()\n",
        "j=0\n",
        "for i in beginner_courses:\n",
        "  top_5_album_views[i]=beginner_courses[i]\n",
        "  j+=1\n",
        "  if(j==5):\n",
        "    break\n",
        "\n",
        "names=list(top_5_album_views.keys())\n",
        "values=list(top_5_album_views.values())\n",
        "\n",
        "f = plt.figure()\n",
        "f.set_figwidth(20)\n",
        "f.set_figheight(10)\n",
        "\n",
        "c = ['red', 'yellow', 'black', 'blue', 'orange']\n",
        "  \n",
        "plt.bar(range(len(top_5_album_views)), values, tick_label=names,color=c)\n",
        "plt.show() "
      ],
      "metadata": {
        "colab": {
          "base_uri": "https://localhost:8080/",
          "height": 630
        },
        "id": "x26u-EjSbEYc",
        "outputId": "f20e475e-9e94-4fbb-ebce-c7c687d87041"
      },
      "execution_count": 11,
      "outputs": [
        {
          "output_type": "stream",
          "name": "stdout",
          "text": [
            "Dictionary in descending order by value :  {'School of Programming & Development': 36, 'School of Business': 7, 'School of Data Science': 7, 'School of Product Management': 5, 'School of Artificial Intelligence': 4, 'Career Advancement': 3, 'School of Cybersecurity': 1, 'School of Autonomous Systems': 1, 'School of Cloud Computing': 1}\n"
          ]
        },
        {
          "output_type": "display_data",
          "data": {
            "image/png": "[encoded data removed]",
            "text/plain": [
              "<Figure size 1440x720 with 1 Axes>"
            ]
          },
          "metadata": {
            "needs_background": "light"
          }
        }
      ]
    },
    {
      "cell_type": "markdown",
      "source": [
        "intermediate_course"
      ],
      "metadata": {
        "id": "qW1vo8xKbwgg"
      }
    },
    {
      "cell_type": "code",
      "source": [
        "beginner_courses=dict()\n",
        "for i in df.index:\n",
        "    val=(df['Difficulty Level'][i])\n",
        "    if val=='Intermediate':\n",
        "      if df['School'][i] not in beginner_courses:\n",
        "         beginner_courses[df['School'][i]]=1\n",
        "      else:\n",
        "         beginner_courses[df['School'][i]]+=1"
      ],
      "metadata": {
        "id": "QsG5HhrKbrzO"
      },
      "execution_count": 12,
      "outputs": []
    },
    {
      "cell_type": "code",
      "source": [
        "beginner_courses = dict( sorted(beginner_courses.items(), key=operator.itemgetter(1),reverse=True))\n",
        "print('Dictionary in descending order by value : ',beginner_courses)    \n",
        "\n",
        "top_5_album_views=dict()\n",
        "j=0\n",
        "for i in beginner_courses:\n",
        "  top_5_album_views[i]=beginner_courses[i]\n",
        "  j+=1\n",
        "  if(j==5):\n",
        "    break\n",
        "\n",
        "names=list(top_5_album_views.keys())\n",
        "values=list(top_5_album_views.values())\n",
        "\n",
        "f = plt.figure()\n",
        "f.set_figwidth(20)\n",
        "f.set_figheight(10)\n",
        "\n",
        "c = ['red', 'yellow', 'black', 'blue', 'orange']\n",
        "  \n",
        "plt.bar(range(len(top_5_album_views)), values, tick_label=names,color=c)\n",
        "plt.show() "
      ],
      "metadata": {
        "colab": {
          "base_uri": "https://localhost:8080/",
          "height": 630
        },
        "id": "TvHNhHoNb5LG",
        "outputId": "0f5dadb7-a39e-40e8-af18-5ce492417a61"
      },
      "execution_count": 13,
      "outputs": [
        {
          "output_type": "stream",
          "name": "stdout",
          "text": [
            "Dictionary in descending order by value :  {'School of Programming & Development': 81, 'School of Artificial Intelligence': 26, 'School of Business': 9, 'School of Product Management': 8, 'Career Advancement': 8, 'School of Cloud Computing': 7, 'School of Data Science': 5, 'School of Autonomous Systems': 4, 'School of Cybersecurity': 2}\n"
          ]
        },
        {
          "output_type": "display_data",
          "data": {
            "image/png": "[encoded data removed]",
            "text/plain": [
              "<Figure size 1440x720 with 1 Axes>"
            ]
          },
          "metadata": {
            "needs_background": "light"
          }
        }
      ]
    },
    {
      "cell_type": "markdown",
      "source": [
        "Advanced-courses"
      ],
      "metadata": {
        "id": "SQVDAGSUb-13"
      }
    },
    {
      "cell_type": "code",
      "source": [
        "beginner_courses=dict()\n",
        "for i in df.index:\n",
        "    val=(df['Difficulty Level'][i])\n",
        "    if val=='Advanced':\n",
        "      if df['School'][i] not in beginner_courses:\n",
        "         beginner_courses[df['School'][i]]=1\n",
        "      else:\n",
        "         beginner_courses[df['School'][i]]+=1"
      ],
      "metadata": {
        "id": "BftawTAqb8T4"
      },
      "execution_count": 14,
      "outputs": []
    },
    {
      "cell_type": "code",
      "source": [
        "beginner_courses = dict( sorted(beginner_courses.items(), key=operator.itemgetter(1),reverse=True))\n",
        "print('Dictionary in descending order by value : ',beginner_courses)    \n",
        "\n",
        "top_5_album_views=dict()\n",
        "j=0\n",
        "for i in beginner_courses:\n",
        "  top_5_album_views[i]=beginner_courses[i]\n",
        "  j+=1\n",
        "  if(j==5):\n",
        "    break\n",
        "\n",
        "names=list(top_5_album_views.keys())\n",
        "values=list(top_5_album_views.values())\n",
        "\n",
        "f = plt.figure()\n",
        "f.set_figwidth(20)\n",
        "f.set_figheight(10)\n",
        "\n",
        "c = ['red', 'yellow', 'black', 'blue', 'orange']\n",
        "  \n",
        "plt.bar(range(len(top_5_album_views)), values, tick_label=names,color=c)\n",
        "plt.show() "
      ],
      "metadata": {
        "colab": {
          "base_uri": "https://localhost:8080/",
          "height": 630
        },
        "id": "BMR9kEc3cHkK",
        "outputId": "30845872-16e2-4915-d6d0-43550ad56894"
      },
      "execution_count": 15,
      "outputs": [
        {
          "output_type": "stream",
          "name": "stdout",
          "text": [
            "Dictionary in descending order by value :  {'School of Programming & Development': 23, 'School of Artificial Intelligence': 11, 'School of Autonomous Systems': 5, 'School of Data Science': 3, 'School of Cybersecurity': 1, 'School of Cloud Computing': 1}\n"
          ]
        },
        {
          "output_type": "display_data",
          "data": {
            "image/png": "[encoded data removed]",
            "text/plain": [
              "<Figure size 1440x720 with 1 Axes>"
            ]
          },
          "metadata": {
            "needs_background": "light"
          }
        }
      ]
    }
  ]
}