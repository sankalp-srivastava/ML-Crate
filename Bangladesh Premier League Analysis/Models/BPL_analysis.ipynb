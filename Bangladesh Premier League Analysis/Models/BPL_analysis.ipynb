{
  "nbformat": 4,
  "nbformat_minor": 0,
  "metadata": {
    "colab": {
      "name": "BPL analysis.ipynb",
      "provenance": [],
      "collapsed_sections": []
    },
    "kernelspec": {
      "name": "python3",
      "display_name": "Python 3"
    },
    "language_info": {
      "name": "python"
    }
  },
  "cells": [
    {
      "cell_type": "code",
      "execution_count": 1,
      "metadata": {
        "colab": {
          "base_uri": "https://localhost:8080/"
        },
        "id": "Ifg1l2FHTkoK",
        "outputId": "f0d17df0-8aa5-48e0-fc9e-29b06f5e91e8"
      },
      "outputs": [
        {
          "output_type": "stream",
          "name": "stdout",
          "text": [
            "Mounted at /content/drive\n"
          ]
        }
      ],
      "source": [
        "from google.colab import drive\n",
        "drive.mount('/content/drive')"
      ]
    },
    {
      "cell_type": "code",
      "source": [
        "import pandas as pd\n",
        "import operator\n",
        "import matplotlib.pyplot as plt"
      ],
      "metadata": {
        "id": "gXlZ78p7TtFA"
      },
      "execution_count": 2,
      "outputs": []
    },
    {
      "cell_type": "code",
      "source": [
        "df=pd.read_csv('/content/drive/MyDrive/JWOC_BPL analysis/bpl.csv')\n",
        "df.head()"
      ],
      "metadata": {
        "colab": {
          "base_uri": "https://localhost:8080/",
          "height": 617
        },
        "id": "rNuBTsl-T7zS",
        "outputId": "7d3a1630-005f-414f-b164-99639be4b526"
      },
      "execution_count": 61,
      "outputs": [
        {
          "output_type": "execute_result",
          "data": {
            "text/html": [
              "\n",
              "  <div id=\"df-55a68745-7aad-44cd-a2d0-cfeae2becf9f\">\n",
              "    <div class=\"colab-df-container\">\n",
              "      <div>\n",
              "<style scoped>\n",
              "    .dataframe tbody tr th:only-of-type {\n",
              "        vertical-align: middle;\n",
              "    }\n",
              "\n",
              "    .dataframe tbody tr th {\n",
              "        vertical-align: top;\n",
              "    }\n",
              "\n",
              "    .dataframe thead th {\n",
              "        text-align: right;\n",
              "    }\n",
              "</style>\n",
              "<table border=\"1\" class=\"dataframe\">\n",
              "  <thead>\n",
              "    <tr style=\"text-align: right;\">\n",
              "      <th></th>\n",
              "      <th>id</th>\n",
              "      <th>season</th>\n",
              "      <th>match_no</th>\n",
              "      <th>date</th>\n",
              "      <th>team_1</th>\n",
              "      <th>team_1_score</th>\n",
              "      <th>team_2</th>\n",
              "      <th>team_2_score</th>\n",
              "      <th>player_of_match</th>\n",
              "      <th>toss_winner</th>\n",
              "      <th>toss_decision</th>\n",
              "      <th>winner</th>\n",
              "      <th>venue</th>\n",
              "      <th>city</th>\n",
              "      <th>win_by_wickets</th>\n",
              "      <th>win_by_runs</th>\n",
              "      <th>result</th>\n",
              "      <th>umpire_1</th>\n",
              "      <th>umpire_2</th>\n",
              "    </tr>\n",
              "  </thead>\n",
              "  <tbody>\n",
              "    <tr>\n",
              "      <th>0</th>\n",
              "      <td>0</td>\n",
              "      <td>2011/12</td>\n",
              "      <td>Final</td>\n",
              "      <td>Feb 29 2012</td>\n",
              "      <td>Barisal Burners</td>\n",
              "      <td>140/7</td>\n",
              "      <td>Dhaka Gladiators</td>\n",
              "      <td>144/2</td>\n",
              "      <td>Imran Nazir</td>\n",
              "      <td>Dhaka Gladiators</td>\n",
              "      <td>field first</td>\n",
              "      <td>Dhaka</td>\n",
              "      <td>Shere Bangla National Stadium, Mirpur</td>\n",
              "      <td>Mirpur</td>\n",
              "      <td>8</td>\n",
              "      <td>0</td>\n",
              "      <td>8 wickets</td>\n",
              "      <td>David Orchard</td>\n",
              "      <td>Enamul Haque</td>\n",
              "    </tr>\n",
              "    <tr>\n",
              "      <th>1</th>\n",
              "      <td>30</td>\n",
              "      <td>2011/12</td>\n",
              "      <td>3rd</td>\n",
              "      <td>Feb 11 2012</td>\n",
              "      <td>Khulna Royal Bengals</td>\n",
              "      <td>175/5</td>\n",
              "      <td>Dhaka Gladiators</td>\n",
              "      <td>156/7</td>\n",
              "      <td>Andre Russell</td>\n",
              "      <td>Khulna Royal Bengals</td>\n",
              "      <td>bat first</td>\n",
              "      <td>Khulna</td>\n",
              "      <td>Shere Bangla National Stadium, Mirpur</td>\n",
              "      <td>Mirpur</td>\n",
              "      <td>0</td>\n",
              "      <td>19</td>\n",
              "      <td>19 runs</td>\n",
              "      <td>Jeremy Lloyds</td>\n",
              "      <td>Sharfuddoula</td>\n",
              "    </tr>\n",
              "    <tr>\n",
              "      <th>2</th>\n",
              "      <td>26</td>\n",
              "      <td>2011/12</td>\n",
              "      <td>7th</td>\n",
              "      <td>Feb 13 2012</td>\n",
              "      <td>Barisal Burners</td>\n",
              "      <td>125</td>\n",
              "      <td>Khulna Royal Bengals</td>\n",
              "      <td>131/3</td>\n",
              "      <td>Dwayne Smith</td>\n",
              "      <td>Khulna Royal Bengals</td>\n",
              "      <td>field first</td>\n",
              "      <td>Khulna</td>\n",
              "      <td>Shere Bangla National Stadium, Mirpur</td>\n",
              "      <td>Mirpur</td>\n",
              "      <td>7</td>\n",
              "      <td>0</td>\n",
              "      <td>7 wickets</td>\n",
              "      <td>Enamul Haque</td>\n",
              "      <td>Jeremy Lloyds</td>\n",
              "    </tr>\n",
              "    <tr>\n",
              "      <th>3</th>\n",
              "      <td>29</td>\n",
              "      <td>2011/12</td>\n",
              "      <td>4th</td>\n",
              "      <td>Feb 11 2012</td>\n",
              "      <td>Barisal Burners</td>\n",
              "      <td>180/2</td>\n",
              "      <td>Duronto Rajshahi</td>\n",
              "      <td>158/9</td>\n",
              "      <td>Ahmed Shehzad</td>\n",
              "      <td>Barisal Burners</td>\n",
              "      <td>bat first</td>\n",
              "      <td>Barisal</td>\n",
              "      <td>Shere Bangla National Stadium, Mirpur</td>\n",
              "      <td>Mirpur</td>\n",
              "      <td>0</td>\n",
              "      <td>22</td>\n",
              "      <td>22 runs</td>\n",
              "      <td>David Orchard</td>\n",
              "      <td>Gazi Sohel</td>\n",
              "    </tr>\n",
              "    <tr>\n",
              "      <th>4</th>\n",
              "      <td>28</td>\n",
              "      <td>2011/12</td>\n",
              "      <td>5th</td>\n",
              "      <td>Feb 12 2012</td>\n",
              "      <td>Khulna Royal Bengals</td>\n",
              "      <td>171/3</td>\n",
              "      <td>Chittagong Kings</td>\n",
              "      <td>174/4</td>\n",
              "      <td>Nasir Jamshed</td>\n",
              "      <td>Khulna Royal Bengals</td>\n",
              "      <td>bat first</td>\n",
              "      <td>Chittagong</td>\n",
              "      <td>Shere Bangla National Stadium, Mirpur</td>\n",
              "      <td>Mirpur</td>\n",
              "      <td>6</td>\n",
              "      <td>0</td>\n",
              "      <td>6 wickets</td>\n",
              "      <td>David Orchard</td>\n",
              "      <td>Enamul Haque</td>\n",
              "    </tr>\n",
              "  </tbody>\n",
              "</table>\n",
              "</div>\n",
              "      <button class=\"colab-df-convert\" onclick=\"convertToInteractive('df-55a68745-7aad-44cd-a2d0-cfeae2becf9f')\"\n",
              "              title=\"Convert this dataframe to an interactive table.\"\n",
              "              style=\"display:none;\">\n",
              "        \n",
              "  <svg xmlns=\"http://www.w3.org/2000/svg\" height=\"24px\"viewBox=\"0 0 24 24\"\n",
              "       width=\"24px\">\n",
              "    <path d=\"M0 0h24v24H0V0z\" fill=\"none\"/>\n",
              "    <path d=\"M18.56 5.44l.94 2.06.94-2.06 2.06-.94-2.06-.94-.94-2.06-.94 2.06-2.06.94zm-11 1L8.5 8.5l.94-2.06 2.06-.94-2.06-.94L8.5 2.5l-.94 2.06-2.06.94zm10 10l.94 2.06.94-2.06 2.06-.94-2.06-.94-.94-2.06-.94 2.06-2.06.94z\"/><path d=\"M17.41 7.96l-1.37-1.37c-.4-.4-.92-.59-1.43-.59-.52 0-1.04.2-1.43.59L10.3 9.45l-7.72 7.72c-.78.78-.78 2.05 0 2.83L4 21.41c.39.39.9.59 1.41.59.51 0 1.02-.2 1.41-.59l7.78-7.78 2.81-2.81c.8-.78.8-2.07 0-2.86zM5.41 20L4 18.59l7.72-7.72 1.47 1.35L5.41 20z\"/>\n",
              "  </svg>\n",
              "      </button>\n",
              "      \n",
              "  <style>\n",
              "    .colab-df-container {\n",
              "      display:flex;\n",
              "      flex-wrap:wrap;\n",
              "      gap: 12px;\n",
              "    }\n",
              "\n",
              "    .colab-df-convert {\n",
              "      background-color: #E8F0FE;\n",
              "      border: none;\n",
              "      border-radius: 50%;\n",
              "      cursor: pointer;\n",
              "      display: none;\n",
              "      fill: #1967D2;\n",
              "      height: 32px;\n",
              "      padding: 0 0 0 0;\n",
              "      width: 32px;\n",
              "    }\n",
              "\n",
              "    .colab-df-convert:hover {\n",
              "      background-color: #E2EBFA;\n",
              "      box-shadow: 0px 1px 2px rgba(60, 64, 67, 0.3), 0px 1px 3px 1px rgba(60, 64, 67, 0.15);\n",
              "      fill: #174EA6;\n",
              "    }\n",
              "\n",
              "    [theme=dark] .colab-df-convert {\n",
              "      background-color: #3B4455;\n",
              "      fill: #D2E3FC;\n",
              "    }\n",
              "\n",
              "    [theme=dark] .colab-df-convert:hover {\n",
              "      background-color: #434B5C;\n",
              "      box-shadow: 0px 1px 3px 1px rgba(0, 0, 0, 0.15);\n",
              "      filter: drop-shadow(0px 1px 2px rgba(0, 0, 0, 0.3));\n",
              "      fill: #FFFFFF;\n",
              "    }\n",
              "  </style>\n",
              "\n",
              "      <script>\n",
              "        const buttonEl =\n",
              "          document.querySelector('#df-55a68745-7aad-44cd-a2d0-cfeae2becf9f button.colab-df-convert');\n",
              "        buttonEl.style.display =\n",
              "          google.colab.kernel.accessAllowed ? 'block' : 'none';\n",
              "\n",
              "        async function convertToInteractive(key) {\n",
              "          const element = document.querySelector('#df-55a68745-7aad-44cd-a2d0-cfeae2becf9f');\n",
              "          const dataTable =\n",
              "            await google.colab.kernel.invokeFunction('convertToInteractive',\n",
              "                                                     [key], {});\n",
              "          if (!dataTable) return;\n",
              "\n",
              "          const docLinkHtml = 'Like what you see? Visit the ' +\n",
              "            '<a target=\"_blank\" href=https://colab.research.google.com/notebooks/data_table.ipynb>data table notebook</a>'\n",
              "            + ' to learn more about interactive tables.';\n",
              "          element.innerHTML = '';\n",
              "          dataTable['output_type'] = 'display_data';\n",
              "          await google.colab.output.renderOutput(dataTable, element);\n",
              "          const docLink = document.createElement('div');\n",
              "          docLink.innerHTML = docLinkHtml;\n",
              "          element.appendChild(docLink);\n",
              "        }\n",
              "      </script>\n",
              "    </div>\n",
              "  </div>\n",
              "  "
            ],
            "text/plain": [
              "   id   season match_no  ...     result       umpire_1       umpire_2\n",
              "0   0  2011/12    Final  ...  8 wickets  David Orchard   Enamul Haque\n",
              "1  30  2011/12      3rd  ...    19 runs  Jeremy Lloyds   Sharfuddoula\n",
              "2  26  2011/12      7th  ...  7 wickets   Enamul Haque  Jeremy Lloyds\n",
              "3  29  2011/12      4th  ...    22 runs  David Orchard     Gazi Sohel\n",
              "4  28  2011/12      5th  ...  6 wickets  David Orchard   Enamul Haque\n",
              "\n",
              "[5 rows x 19 columns]"
            ]
          },
          "metadata": {},
          "execution_count": 61
        }
      ]
    },
    {
      "cell_type": "code",
      "source": [
        "unique_team_names=df['team_1'].unique()"
      ],
      "metadata": {
        "id": "7kCms3xEWBQi"
      },
      "execution_count": 62,
      "outputs": []
    },
    {
      "cell_type": "code",
      "source": [
        "names=df['team_2'].unique()"
      ],
      "metadata": {
        "id": "KJLCyOJXWK7q"
      },
      "execution_count": 63,
      "outputs": []
    },
    {
      "cell_type": "code",
      "source": [
        "for i in names:\n",
        "  if i not in unique_team_names:\n",
        "    unique_team_names.append(i)"
      ],
      "metadata": {
        "id": "YrWWLR9xWPj5"
      },
      "execution_count": 64,
      "outputs": []
    },
    {
      "cell_type": "code",
      "source": [
        "len(unique_team_names)"
      ],
      "metadata": {
        "colab": {
          "base_uri": "https://localhost:8080/"
        },
        "id": "H4ihh1oBWW8e",
        "outputId": "726b9b9f-ec76-40eb-8199-cf796082abbb"
      },
      "execution_count": 65,
      "outputs": [
        {
          "output_type": "execute_result",
          "data": {
            "text/plain": [
              "25"
            ]
          },
          "metadata": {},
          "execution_count": 65
        }
      ]
    },
    {
      "cell_type": "code",
      "source": [
        "Man_of_the_match=dict()\n",
        "for i in df['player_of_match']:\n",
        "  if i not in Man_of_the_match:\n",
        "     Man_of_the_match[i]=1\n",
        "  else:\n",
        "    Man_of_the_match[i]+=1   "
      ],
      "metadata": {
        "id": "sCrc6h2LUBXE"
      },
      "execution_count": 66,
      "outputs": []
    },
    {
      "cell_type": "code",
      "source": [
        "Man_of_the_match = dict( sorted(Man_of_the_match.items(), key=operator.itemgetter(1),reverse=True))\n",
        "print('Dictionary in descending order by value : ',Man_of_the_match)"
      ],
      "metadata": {
        "colab": {
          "base_uri": "https://localhost:8080/"
        },
        "id": "PUrI6fN3Uayu",
        "outputId": "a03aaa9a-3dc0-4a99-fb3f-4de87e1e34d9"
      },
      "execution_count": 67,
      "outputs": [
        {
          "output_type": "stream",
          "name": "stdout",
          "text": [
            "Dictionary in descending order by value :  {'Shakib Al Hasan': 11, 'Mahmudullah': 9, 'Chris Gayle': 7, 'Mushfiqur Rahim': 7, 'Shahid Afridi': 7, 'Ravi Bopara': 7, 'Andre Russell': 6, 'Tamim Iqbal': 6, 'Evin Lewis': 6, 'Azhar Mahmood': 5, 'Dawid Malan': 5, 'Daren Sammy': 5, 'Mahedi Hasan': 5, 'Jahurul Islam': 5, 'Ahmed Shehzad': 4, 'Dwayne Bravo': 4, 'Marlon Samuels': 4, 'Mohammad Nabi': 4, 'Shoaib Malik': 4, 'Robbie Frylinck': 4, 'Rilee Rossouw': 4, 'Imrul Kayes': 4, 'Mehedi Hasan Rana': 4, 'Brad Hodge': 4, 'Anamul Haque': 3, 'Mohammad Shahzad': 3, 'Thisara Perera': 3, 'Samit Patel': 3, 'Mosharraf Hossain': 3, 'Shafiul Islam': 3, 'Sohail Tanvir': 3, 'Mohammad Saifuddin': 3, 'Mehidy Hasan Miraz': 3, 'Mashrafe Mortaza': 3, 'Litton Das': 3, 'Mustafizur Rahman': 3, 'Upul Tharanga': 3, 'Al-Amin Hossain': 3, 'Andre Fletcher': 3, 'Lewis Gregory': 3, 'Nasir Hossain': 3, 'Paul Stirling': 3, 'Imran Nazir': 2, 'Nasir Jamshed': 2, 'Mehedi Maruf': 2, 'Sabbir Rahman': 2, 'Mohammad Mithun': 2, 'Rayad Emrit': 2, 'Afif Hossain': 2, 'Rashid Khan': 2, 'Hazratullah Zazai': 2, 'Nicholas Pooran': 2, 'Rony Talukdar': 2, 'Zakir Hasan': 2, 'Arafat Sunny': 2, 'Laurie Evans': 2, 'Farhad Reza': 2, 'Cameron Delport': 2, 'Sunil Narine': 2, 'Kevon Cooper': 2, 'Kumar Sangakkara': 2, 'Ashar Zaidi': 2, 'Junaid Siddique': 2, 'Alok Kapali': 2, 'Taskin Ahmed': 2, 'Mominul Haque': 2, 'Ariful Haque': 2, 'Nazmul Islam': 2, 'Nahidul Islam': 2, 'Sean Ervine': 2, 'Mohammad Ashraful': 2, 'Shamsur Rahman': 2, 'Shahriar Nafees': 2, 'Brendan Taylor': 2, 'Ryan ten Doeschate': 2, 'Dwayne Smith': 1, 'Kieron Pollard': 1, 'Mosaddek Hossain': 1, 'Mohammad Shahid': 1, 'Nabil Samad': 1, 'Shuvagata Hom': 1, 'Isuru Udana': 1, 'Al Islam': 1, 'Taijul Islam': 1, 'David Wiese': 1, 'Alex Hales': 1, 'Mohammad Nawaz': 1, 'AB de Villiers': 1, 'Ebadot Hossain': 1, 'Rubel Hossain': 1, 'Abul Hasan': 1, 'Misbah-ul-Haq': 1, 'Nuwan Kulasekara': 1, 'Shadman Islam': 1, 'Soumya Sarkar': 1, 'Tillakaratne Dilshan': 1, 'Dasun Shanaka': 1, 'Mohammad Naim': 1, 'Chadwick Walton': 1, 'Shohidul Islam': 1, 'Wahab Riaz': 1, 'Mujeeb Ur Rahman': 1, 'Hasan Mahmud': 1, 'Shane Watson': 1, 'Shadab Khan': 1, 'Najmul Hossain Shanto': 1, 'Mohammad Amir': 1, 'Danushka Gunathilaka': 1, 'Abu Jayed': 1, 'Hasan Ali': 1, 'Sikandar Raza': 1, 'Luis Reece': 1, 'Johnson Charles': 1, 'Benny Howell': 1, 'Nasum Ahmed': 1, 'Mrittunjoy Chowdhury': 1, 'Faf du Plessis': 1, 'Owais Shah': 1, 'Elton Chigumbura': 1, 'Hamilton Masakadza': 1, 'Daniel Harris': 1, 'Darren Stevens': 1, 'Charles Coventry': 1, 'Fidel Edwards': 1, 'Nazmul Hossain Milon': 1, 'Alfonso Thomas': 1, 'Naeem Islam': 1, 'Danza Hyatt': 1, 'Hamid Hassan': 1, \"Kevin O'Brien\": 1, 'Jason Roy': 1, 'Saqlain Sajib': 1, 'Shivnarine Chanderpaul': 1, 'Peter Trego': 1, 'Mohammad Sami': 1}\n"
          ]
        }
      ]
    },
    {
      "cell_type": "code",
      "source": [
        "top_5_MOM=dict()\n",
        "j=0\n",
        "for i in Man_of_the_match:\n",
        "  top_5_MOM[i]=Man_of_the_match[i]\n",
        "  j+=1\n",
        "  if(j==5):\n",
        "    break\n"
      ],
      "metadata": {
        "id": "sNjwlBF4Vie1"
      },
      "execution_count": 68,
      "outputs": []
    },
    {
      "cell_type": "code",
      "source": [
        "names=list(top_5_MOM.keys())\n",
        "values=list(top_5_MOM.values())"
      ],
      "metadata": {
        "id": "uhyPfsKIU3uj"
      },
      "execution_count": 69,
      "outputs": []
    },
    {
      "cell_type": "code",
      "source": [
        "f = plt.figure()\n",
        "f.set_figwidth(15)\n",
        "f.set_figheight(10)\n",
        "c = ['red', 'yellow', 'black', 'blue', 'orange']\n",
        "plt.bar(range(len(top_5_MOM)), values, tick_label=names,color=c)\n",
        "plt.show()"
      ],
      "metadata": {
        "colab": {
          "base_uri": "https://localhost:8080/",
          "height": 592
        },
        "id": "As63lVIYVWRV",
        "outputId": "b0632267-f498-401f-caea-6d3e19e6df57"
      },
      "execution_count": 70,
      "outputs": [
        {
          "output_type": "display_data",
          "data": {
            "image/png": "[encoded data removed]",
            "text/plain": [
              "<Figure size 1080x720 with 1 Axes>"
            ]
          },
          "metadata": {
            "needs_background": "light"
          }
        }
      ]
    },
    {
      "cell_type": "code",
      "source": [
        "umpire1=dict()\n",
        "for i in df['umpire_1']:\n",
        "  if i not in umpire1:\n",
        "    umpire1[i]=1\n",
        "  else:\n",
        "    umpire1[i]+=1  "
      ],
      "metadata": {
        "id": "gu0xDWRzVbWS"
      },
      "execution_count": 71,
      "outputs": []
    },
    {
      "cell_type": "code",
      "source": [
        "umpire1 = dict( sorted(umpire1.items(), key=operator.itemgetter(1),reverse=True))\n",
        "print('Dictionary in descending order by value : ',umpire1)"
      ],
      "metadata": {
        "colab": {
          "base_uri": "https://localhost:8080/"
        },
        "id": "1YrsZzfcWvxO",
        "outputId": "d298eaeb-c809-4504-a815-439d95a87e14"
      },
      "execution_count": 72,
      "outputs": [
        {
          "output_type": "stream",
          "name": "stdout",
          "text": [
            "Dictionary in descending order by value :  {'Mahfuzur Rahman': 41, 'Masudur Rahman': 31, 'Enamul Haque': 29, 'Anisur Rahman': 26, 'Gazi Sohel': 22, 'Nadir Shah': 21, 'Alex Wharf': 19, 'David Millns': 18, 'Khalid Mahmood': 16, 'David Orchard': 15, 'Jeremy Lloyds': 14, 'Morshed Ali Khan': 10, 'Ranmore Martinesz': 9, 'Prageeth Rambukwella': 8, 'Ahsan Raza': 7, 'Sharfuddoula': 6, 'Riazuddin': 3, 'Khalid Mahmud': 2, 'D Milns': 2, 'Akteruzzaman': 2, 'Nahidul Islam': 1, 'Abdul Mazid': 1, 'Habibur Rahman': 1, 'Shozab Raza': 1, 'Minhajul Abedin Afridi': 1, 'Dawid Malan': 1, 'Moniruzzaman': 1, 'Nayeem Hasan': 1, 'Bishawnath Halder': 1, 'Amit Kumar': 1}\n"
          ]
        }
      ]
    },
    {
      "cell_type": "code",
      "source": [
        "top_5_umpire1=dict()\n",
        "j=0\n",
        "for i in umpire1:\n",
        "  top_5_umpire1[i]=umpire1[i]\n",
        "  j+=1\n",
        "  if(j==5):\n",
        "    break"
      ],
      "metadata": {
        "id": "7odj-Vx0W7hd"
      },
      "execution_count": 73,
      "outputs": []
    },
    {
      "cell_type": "code",
      "source": [
        "names=list(top_5_umpire1.keys())\n",
        "values=list(top_5_umpire1.values())"
      ],
      "metadata": {
        "id": "_T1fIc9rXMY4"
      },
      "execution_count": 74,
      "outputs": []
    },
    {
      "cell_type": "code",
      "source": [
        "f = plt.figure()\n",
        "f.set_figwidth(10)\n",
        "f.set_figheight(10)\n",
        "c = ['red', 'yellow', 'black', 'blue', 'orange']  \n",
        "plt.bar(range(len(top_5_umpire1)), values, tick_label=names,color=c)\n",
        "plt.show()"
      ],
      "metadata": {
        "colab": {
          "base_uri": "https://localhost:8080/",
          "height": 592
        },
        "id": "byNkYYvrXRoX",
        "outputId": "57fe1ee7-9130-4332-fe5c-b0217d83cfa4"
      },
      "execution_count": 75,
      "outputs": [
        {
          "output_type": "display_data",
          "data": {
            "image/png": "[encoded data removed]",
            "text/plain": [
              "<Figure size 720x720 with 1 Axes>"
            ]
          },
          "metadata": {
            "needs_background": "light"
          }
        }
      ]
    },
    {
      "cell_type": "code",
      "source": [
        "umpire2=dict()\n",
        "for i in df['umpire_2']:\n",
        "  if i not in umpire2:\n",
        "    umpire2[i]=1\n",
        "  else:\n",
        "    umpire2[i]+=1  "
      ],
      "metadata": {
        "id": "rdS4zCGyXVVu"
      },
      "execution_count": 76,
      "outputs": []
    },
    {
      "cell_type": "code",
      "source": [
        "umpire2 = dict( sorted(umpire2.items(), key=operator.itemgetter(1),reverse=True))\n",
        "print('Dictionary in descending order by value : ',umpire2)"
      ],
      "metadata": {
        "colab": {
          "base_uri": "https://localhost:8080/"
        },
        "id": "2pPMPDjTXt61",
        "outputId": "237b0226-de06-4721-c8fc-acb067aa4e86"
      },
      "execution_count": 77,
      "outputs": [
        {
          "output_type": "stream",
          "name": "stdout",
          "text": [
            "Dictionary in descending order by value :  {'Ranmore Martinesz': 50, 'Sharfuddoula': 39, 'Tanvir Ahmed': 36, 'Masudur Rahman': 32, 'Jeremy Lloyds': 19, 'Prageeth Rambukwella': 18, 'Riazuddin': 18, 'Nadir Shah': 16, 'Mahfuzur Rahman': 16, 'Richard Illingworth': 14, 'Gazi Sohel': 12, 'Morshed Ali Khan': 12, 'Enamul Haque': 6, 'Shozab Raza': 6, 'Rashid Riaz': 3, 'Khalid Mahmood': 2, 'David Orchard': 1, 'Najmul Hossain Shanto': 1, 'Mehidy Hasan Miraz': 1, 'Shohidul Islam': 1, 'Sanjit Saha': 1, 'Afif Hossain': 1, 'Shafiuddin Ahmed': 1, 'Qazi Onik': 1, 'Moniruzzaman': 1, 'Raveendra Wimalasiri': 1, 'Jubair Ahmed': 1, 'Mehedi Maruf': 1}\n"
          ]
        }
      ]
    },
    {
      "cell_type": "code",
      "source": [
        "top_5_umpire2=dict()\n",
        "j=0\n",
        "for i in umpire2:\n",
        "  top_5_umpire2[i]=umpire2[i]\n",
        "  j+=1\n",
        "  if(j==5):\n",
        "    break"
      ],
      "metadata": {
        "id": "tgMBGf7OXyiW"
      },
      "execution_count": 78,
      "outputs": []
    },
    {
      "cell_type": "code",
      "source": [
        "names=list(top_5_umpire2.keys())\n",
        "values=list(top_5_umpire2.values())\n",
        "\n",
        "f = plt.figure()\n",
        "f.set_figwidth(10)\n",
        "f.set_figheight(10)\n",
        "c = ['red', 'yellow', 'black', 'blue', 'orange']  \n",
        "plt.bar(range(len(top_5_umpire1)), values, tick_label=names,color=c)\n",
        "plt.show()"
      ],
      "metadata": {
        "colab": {
          "base_uri": "https://localhost:8080/",
          "height": 592
        },
        "id": "eKzoSbn7X3fI",
        "outputId": "3e67ab91-18f2-4e99-8b22-d19198f990c0"
      },
      "execution_count": 79,
      "outputs": [
        {
          "output_type": "display_data",
          "data": {
            "image/png": "[encoded data removed]",
            "text/plain": [
              "<Figure size 720x720 with 1 Axes>"
            ]
          },
          "metadata": {
            "needs_background": "light"
          }
        }
      ]
    },
    {
      "cell_type": "code",
      "source": [
        "toss_winner=dict()\n",
        "for i in df['toss_winner']:\n",
        "  if i not in toss_winner:\n",
        "    toss_winner[i]=1\n",
        "  else:\n",
        "    toss_winner[i]+=1  \n",
        "\n",
        "toss_winner = dict( sorted(toss_winner.items(), key=operator.itemgetter(1),reverse=True))\n",
        "print('Dictionary in descending order by value : ',toss_winner)    \n",
        "\n",
        "top_5_toss_winner=dict()\n",
        "j=0\n",
        "for i in toss_winner:\n",
        "  top_5_toss_winner[i]=toss_winner[i]\n",
        "  j+=1\n",
        "  if(j==5):\n",
        "    break\n",
        "\n",
        "names=list(top_5_toss_winner.keys())\n",
        "values=list(top_5_toss_winner.values())\n",
        "\n",
        "f = plt.figure()\n",
        "f.set_figwidth(10)\n",
        "f.set_figheight(10)\n",
        "c = ['red', 'yellow', 'black', 'blue', 'orange']  \n",
        "plt.bar(range(len(top_5_toss_winner)), values, tick_label=names,color=c)\n",
        "plt.show()    "
      ],
      "metadata": {
        "colab": {
          "base_uri": "https://localhost:8080/",
          "height": 630
        },
        "id": "2Uxiu8IUX9IN",
        "outputId": "ef133495-5514-411a-8afa-58600e41d475"
      },
      "execution_count": 81,
      "outputs": [
        {
          "output_type": "stream",
          "name": "stdout",
          "text": [
            "Dictionary in descending order by value :  {'Rangpur Riders': 34, 'Comilla Victorians': 27, 'Dhaka Dynamites': 25, 'Rajshahi Kings': 22, 'Khulna Titans': 21, 'Chittagong Vikings': 21, 'Dhaka Gladiators': 15, 'Barisal Burners': 13, 'Khulna Tigers': 13, 'Khulna Royal Bengals': 12, 'Sylhet Royals': 12, 'Duronto Rajshahi': 11, 'Barisal Bulls': 11, 'Sylhet Sixers': 11, 'Chittagong Kings': 10, 'Rajshahi Royals': 9, 'Chattogram Challengers': 8, 'Cumilla Warriors': 8, 'Rangpur Rangers': 6, 'Sylhet Super Stars': 5, 'Sylhet Thunder': 5, 'Fortune Barishal': 4, 'Dhaka Platoon': 3, 'Minister Group Dhaka': 3, 'Sylhet Sunrisers': 2}\n"
          ]
        },
        {
          "output_type": "display_data",
          "data": {
            "image/png": "[encoded data removed]",
            "text/plain": [
              "<Figure size 720x720 with 1 Axes>"
            ]
          },
          "metadata": {
            "needs_background": "light"
          }
        }
      ]
    },
    {
      "cell_type": "code",
      "source": [
        "toss_decision=dict()\n",
        "for i in df['toss_decision']:\n",
        "  if i not in toss_decision:\n",
        "    toss_decision[i]=1\n",
        "  else:\n",
        "    toss_decision[i]+=1  \n",
        "\n",
        "\n",
        "\n",
        "names=list(toss_decision.keys())\n",
        "values=list(toss_decision.values())\n",
        "\n",
        "f = plt.figure()\n",
        "f.set_figwidth(5)\n",
        "f.set_figheight(10)\n",
        "c = ['red', 'yellow', 'black', 'blue', 'orange']  \n",
        "plt.bar(range(len(toss_decision)), values, tick_label=names,color=c)\n",
        "plt.show()"
      ],
      "metadata": {
        "colab": {
          "base_uri": "https://localhost:8080/",
          "height": 592
        },
        "id": "uPA0ibZdYSkl",
        "outputId": "201bbf0f-c26e-4c45-8ce5-2eb1c288b707"
      },
      "execution_count": 83,
      "outputs": [
        {
          "output_type": "display_data",
          "data": {
            "image/png": "[encoded data removed]",
            "text/plain": [
              "<Figure size 360x720 with 1 Axes>"
            ]
          },
          "metadata": {
            "needs_background": "light"
          }
        }
      ]
    },
    {
      "cell_type": "markdown",
      "source": [
        "batting"
      ],
      "metadata": {
        "id": "wgIEsazW90_D"
      }
    },
    {
      "cell_type": "code",
      "source": [
        "df=pd.read_csv('/content/drive/MyDrive/JWOC_BPL analysis/batsman.csv')\n",
        "df.head()"
      ],
      "metadata": {
        "id": "X_sjgpTtZe-B",
        "colab": {
          "base_uri": "https://localhost:8080/",
          "height": 206
        },
        "outputId": "25e684f2-5b77-49eb-a7b7-4f0375ac1b2c"
      },
      "execution_count": 84,
      "outputs": [
        {
          "output_type": "execute_result",
          "data": {
            "text/html": [
              "\n",
              "  <div id=\"df-07c7fcf8-f0de-4441-bea3-49c293f3835c\">\n",
              "    <div class=\"colab-df-container\">\n",
              "      <div>\n",
              "<style scoped>\n",
              "    .dataframe tbody tr th:only-of-type {\n",
              "        vertical-align: middle;\n",
              "    }\n",
              "\n",
              "    .dataframe tbody tr th {\n",
              "        vertical-align: top;\n",
              "    }\n",
              "\n",
              "    .dataframe thead th {\n",
              "        text-align: right;\n",
              "    }\n",
              "</style>\n",
              "<table border=\"1\" class=\"dataframe\">\n",
              "  <thead>\n",
              "    <tr style=\"text-align: right;\">\n",
              "      <th></th>\n",
              "      <th>id</th>\n",
              "      <th>season</th>\n",
              "      <th>match_no</th>\n",
              "      <th>date</th>\n",
              "      <th>player_name</th>\n",
              "      <th>comment</th>\n",
              "      <th>R</th>\n",
              "      <th>B</th>\n",
              "      <th>M</th>\n",
              "      <th>fours</th>\n",
              "      <th>sixs</th>\n",
              "      <th>SR</th>\n",
              "    </tr>\n",
              "  </thead>\n",
              "  <tbody>\n",
              "    <tr>\n",
              "      <th>0</th>\n",
              "      <td>31</td>\n",
              "      <td>2011/12</td>\n",
              "      <td>2nd</td>\n",
              "      <td>Feb 10 2012</td>\n",
              "      <td>Tamim Iqbal</td>\n",
              "      <td>c Samuels b Mohammad Sami</td>\n",
              "      <td>3</td>\n",
              "      <td>7</td>\n",
              "      <td>10</td>\n",
              "      <td>0</td>\n",
              "      <td>0</td>\n",
              "      <td>42.85</td>\n",
              "    </tr>\n",
              "    <tr>\n",
              "      <th>1</th>\n",
              "      <td>31</td>\n",
              "      <td>2011/12</td>\n",
              "      <td>2nd</td>\n",
              "      <td>Feb 10 2012</td>\n",
              "      <td>Jahurul Islam</td>\n",
              "      <td>c †Mushfiqur Rahim b Ervine</td>\n",
              "      <td>11</td>\n",
              "      <td>13</td>\n",
              "      <td>21</td>\n",
              "      <td>0</td>\n",
              "      <td>1</td>\n",
              "      <td>84.61</td>\n",
              "    </tr>\n",
              "    <tr>\n",
              "      <th>2</th>\n",
              "      <td>0</td>\n",
              "      <td>2011/12</td>\n",
              "      <td>Final</td>\n",
              "      <td>Feb 29 2012</td>\n",
              "      <td>Ahmed Shehzad</td>\n",
              "      <td>NaN</td>\n",
              "      <td>28</td>\n",
              "      <td>20</td>\n",
              "      <td>21</td>\n",
              "      <td>3</td>\n",
              "      <td>1</td>\n",
              "      <td>140.00</td>\n",
              "    </tr>\n",
              "    <tr>\n",
              "      <th>3</th>\n",
              "      <td>30</td>\n",
              "      <td>2011/12</td>\n",
              "      <td>3rd</td>\n",
              "      <td>Feb 11 2012</td>\n",
              "      <td>Shivnarine Chanderpaul</td>\n",
              "      <td>b Azhar Mahmood</td>\n",
              "      <td>19</td>\n",
              "      <td>15</td>\n",
              "      <td>24</td>\n",
              "      <td>2</td>\n",
              "      <td>1</td>\n",
              "      <td>126.66</td>\n",
              "    </tr>\n",
              "    <tr>\n",
              "      <th>4</th>\n",
              "      <td>29</td>\n",
              "      <td>2011/12</td>\n",
              "      <td>4th</td>\n",
              "      <td>Feb 11 2012</td>\n",
              "      <td>Ahmed Shehzad</td>\n",
              "      <td>c Syed Rasel b Abdul Razzaq</td>\n",
              "      <td>67</td>\n",
              "      <td>40</td>\n",
              "      <td>62</td>\n",
              "      <td>4</td>\n",
              "      <td>6</td>\n",
              "      <td>167.50</td>\n",
              "    </tr>\n",
              "  </tbody>\n",
              "</table>\n",
              "</div>\n",
              "      <button class=\"colab-df-convert\" onclick=\"convertToInteractive('df-07c7fcf8-f0de-4441-bea3-49c293f3835c')\"\n",
              "              title=\"Convert this dataframe to an interactive table.\"\n",
              "              style=\"display:none;\">\n",
              "        \n",
              "  <svg xmlns=\"http://www.w3.org/2000/svg\" height=\"24px\"viewBox=\"0 0 24 24\"\n",
              "       width=\"24px\">\n",
              "    <path d=\"M0 0h24v24H0V0z\" fill=\"none\"/>\n",
              "    <path d=\"M18.56 5.44l.94 2.06.94-2.06 2.06-.94-2.06-.94-.94-2.06-.94 2.06-2.06.94zm-11 1L8.5 8.5l.94-2.06 2.06-.94-2.06-.94L8.5 2.5l-.94 2.06-2.06.94zm10 10l.94 2.06.94-2.06 2.06-.94-2.06-.94-.94-2.06-.94 2.06-2.06.94z\"/><path d=\"M17.41 7.96l-1.37-1.37c-.4-.4-.92-.59-1.43-.59-.52 0-1.04.2-1.43.59L10.3 9.45l-7.72 7.72c-.78.78-.78 2.05 0 2.83L4 21.41c.39.39.9.59 1.41.59.51 0 1.02-.2 1.41-.59l7.78-7.78 2.81-2.81c.8-.78.8-2.07 0-2.86zM5.41 20L4 18.59l7.72-7.72 1.47 1.35L5.41 20z\"/>\n",
              "  </svg>\n",
              "      </button>\n",
              "      \n",
              "  <style>\n",
              "    .colab-df-container {\n",
              "      display:flex;\n",
              "      flex-wrap:wrap;\n",
              "      gap: 12px;\n",
              "    }\n",
              "\n",
              "    .colab-df-convert {\n",
              "      background-color: #E8F0FE;\n",
              "      border: none;\n",
              "      border-radius: 50%;\n",
              "      cursor: pointer;\n",
              "      display: none;\n",
              "      fill: #1967D2;\n",
              "      height: 32px;\n",
              "      padding: 0 0 0 0;\n",
              "      width: 32px;\n",
              "    }\n",
              "\n",
              "    .colab-df-convert:hover {\n",
              "      background-color: #E2EBFA;\n",
              "      box-shadow: 0px 1px 2px rgba(60, 64, 67, 0.3), 0px 1px 3px 1px rgba(60, 64, 67, 0.15);\n",
              "      fill: #174EA6;\n",
              "    }\n",
              "\n",
              "    [theme=dark] .colab-df-convert {\n",
              "      background-color: #3B4455;\n",
              "      fill: #D2E3FC;\n",
              "    }\n",
              "\n",
              "    [theme=dark] .colab-df-convert:hover {\n",
              "      background-color: #434B5C;\n",
              "      box-shadow: 0px 1px 3px 1px rgba(0, 0, 0, 0.15);\n",
              "      filter: drop-shadow(0px 1px 2px rgba(0, 0, 0, 0.3));\n",
              "      fill: #FFFFFF;\n",
              "    }\n",
              "  </style>\n",
              "\n",
              "      <script>\n",
              "        const buttonEl =\n",
              "          document.querySelector('#df-07c7fcf8-f0de-4441-bea3-49c293f3835c button.colab-df-convert');\n",
              "        buttonEl.style.display =\n",
              "          google.colab.kernel.accessAllowed ? 'block' : 'none';\n",
              "\n",
              "        async function convertToInteractive(key) {\n",
              "          const element = document.querySelector('#df-07c7fcf8-f0de-4441-bea3-49c293f3835c');\n",
              "          const dataTable =\n",
              "            await google.colab.kernel.invokeFunction('convertToInteractive',\n",
              "                                                     [key], {});\n",
              "          if (!dataTable) return;\n",
              "\n",
              "          const docLinkHtml = 'Like what you see? Visit the ' +\n",
              "            '<a target=\"_blank\" href=https://colab.research.google.com/notebooks/data_table.ipynb>data table notebook</a>'\n",
              "            + ' to learn more about interactive tables.';\n",
              "          element.innerHTML = '';\n",
              "          dataTable['output_type'] = 'display_data';\n",
              "          await google.colab.output.renderOutput(dataTable, element);\n",
              "          const docLink = document.createElement('div');\n",
              "          docLink.innerHTML = docLinkHtml;\n",
              "          element.appendChild(docLink);\n",
              "        }\n",
              "      </script>\n",
              "    </div>\n",
              "  </div>\n",
              "  "
            ],
            "text/plain": [
              "   id   season match_no         date  ...   M fours sixs      SR\n",
              "0  31  2011/12      2nd  Feb 10 2012  ...  10     0    0   42.85\n",
              "1  31  2011/12      2nd  Feb 10 2012  ...  21     0    1   84.61\n",
              "2   0  2011/12    Final  Feb 29 2012  ...  21     3    1  140.00\n",
              "3  30  2011/12      3rd  Feb 11 2012  ...  24     2    1  126.66\n",
              "4  29  2011/12      4th  Feb 11 2012  ...  62     4    6  167.50\n",
              "\n",
              "[5 rows x 12 columns]"
            ]
          },
          "metadata": {},
          "execution_count": 84
        }
      ]
    },
    {
      "cell_type": "code",
      "source": [
        "\n",
        "scores_players=dict()\n",
        "for i in df.index:\n",
        " if(len(df['R'][i])>0):\n",
        "   if(df['R'][i]!='-'):\n",
        "    val=int(df['R'][i])\n",
        "    if df['player_name'][i] not in scores_players:\n",
        "     scores_players[df['player_name'][i]]=int(df['R'][i])\n",
        "    else:\n",
        "     scores_players[df['player_name'][i]]+=int(df['R'][i])"
      ],
      "metadata": {
        "id": "MmtTvqvZ99qk"
      },
      "execution_count": 86,
      "outputs": []
    },
    {
      "cell_type": "code",
      "source": [
        "scores_players"
      ],
      "metadata": {
        "colab": {
          "base_uri": "https://localhost:8080/"
        },
        "id": "N-LakDfXrEqV",
        "outputId": "8bb3e7f3-8259-4ad1-9cd3-ad2074017654"
      },
      "execution_count": 47,
      "outputs": [
        {
          "output_type": "execute_result",
          "data": {
            "text/plain": [
              "{'AB de Villiers': 247,\n",
              " 'Aamer Yamin': 0,\n",
              " 'Abdul Mazid': 166,\n",
              " 'Abdul Razzaq': 167,\n",
              " 'Abdullah Al Mamun': 20,\n",
              " 'Abdur Razzak': 70,\n",
              " 'Abu Hider': 130,\n",
              " 'Abu Jayed': 34,\n",
              " 'Abul Hasan': 159,\n",
              " 'Adam Lyth': 7,\n",
              " 'Adil Rashid': 3,\n",
              " 'Afif Hossain': 928,\n",
              " 'Aftab Ahmed': 17,\n",
              " 'Ahmed Shehzad': 937,\n",
              " 'Ajantha Mendis': 4,\n",
              " 'Akbar Ali': 12,\n",
              " 'Akila Dananjaya': 7,\n",
              " 'Al Islam': 1,\n",
              " 'Al-Amin': 252,\n",
              " 'Al-Amin Hossain': 18,\n",
              " 'Alauddin Babu': 59,\n",
              " 'Alex Hales': 304,\n",
              " 'Alexei Kervezee': 18,\n",
              " 'Alfonso Thomas': 36,\n",
              " 'Alok Kapali': 564,\n",
              " 'Alzarri Joseph': 4,\n",
              " 'Aminul Islam': 4,\n",
              " 'Amit Kumar': 2,\n",
              " 'Anamul Haque': 1676,\n",
              " 'Andre Adams': 4,\n",
              " 'Andre Fletcher': 940,\n",
              " 'Andre Russell': 812,\n",
              " 'Andrew Birch': 7,\n",
              " 'Anwar Ali': 33,\n",
              " 'Arafat Sunny': 130,\n",
              " 'Ariful Haque': 760,\n",
              " 'Asela Gunaratne': 31,\n",
              " 'Ashar Zaidi': 244,\n",
              " 'Asif Ahmed': 95,\n",
              " 'Asif Ali': 124,\n",
              " 'Asif Hasan': 10,\n",
              " 'Avishka Fernando': 221,\n",
              " 'Awais Zia': 5,\n",
              " 'Azhar Mahmood': 574,\n",
              " 'Babar Azam': 117,\n",
              " 'Ben Edmondson': 0,\n",
              " 'Benny Howell': 324,\n",
              " 'Bhanuka Rajapaksa': 188,\n",
              " 'Bilawal Bhatti': 22,\n",
              " 'Bishawnath Halder': 4,\n",
              " 'Brad Hodge': 756,\n",
              " 'Brad Hogg': 30,\n",
              " 'Brendan Taylor': 615,\n",
              " 'Brendon McCullum': 281,\n",
              " 'Cameron Borgas': 200,\n",
              " 'Cameron Delport': 636,\n",
              " 'Carlos Brathwaite': 310,\n",
              " 'Chadwick Walton': 382,\n",
              " 'Chamara Kapugedera': 61,\n",
              " 'Charles Coventry': 213,\n",
              " 'Chaturanga de Silva': 19,\n",
              " 'Chris Gayle': 1599,\n",
              " 'Chris Jordan': 17,\n",
              " 'Chris Liddle': 0,\n",
              " 'Christiaan Jonker': 123,\n",
              " 'Colin Ingram': 93,\n",
              " 'Daniel Bell-Drummond': 0,\n",
              " 'Daniel Harris': 136,\n",
              " 'Danushka Gunathilaka': 141,\n",
              " 'Danza Hyatt': 129,\n",
              " 'Daren Sammy': 528,\n",
              " 'Darren Bravo': 12,\n",
              " 'Darren Stevens': 394,\n",
              " 'Darwish Rasooli': 38,\n",
              " 'Dasun Shanaka': 193,\n",
              " 'David Miller': 41,\n",
              " 'David Warner': 223,\n",
              " 'David Wiese': 244,\n",
              " 'Dawid Malan': 815,\n",
              " 'Delwar Hossain': 26,\n",
              " 'Dhiman Ghosh': 63,\n",
              " 'Dilhara Lokuhettige': 2,\n",
              " 'Dilshan Munaweera': 437,\n",
              " 'Dimitri Mascarenhas': 25,\n",
              " 'Dolar Mahmud': 24,\n",
              " 'Dwayne Bravo': 348,\n",
              " 'Dwayne Smith': 698,\n",
              " 'Ebadot Hossain': 5,\n",
              " 'Elias Sunny': 81,\n",
              " 'Elton Chigumbura': 272,\n",
              " 'Enamul Haque jnr': 19,\n",
              " 'Evin Lewis': 945,\n",
              " 'Faf du Plessis': 99,\n",
              " 'Faheem Ashraf': 8,\n",
              " 'Faisal Hossain': 19,\n",
              " 'Fakhar Zaman': 2,\n",
              " 'Fardeen Hasan': 23,\n",
              " 'Farhad Hossain': 50,\n",
              " 'Farhad Reza': 390,\n",
              " 'Farveez Maharoof': 49,\n",
              " 'Fawad Alam': 14,\n",
              " 'Fazle Mahmud': 280,\n",
              " 'Fidel Edwards': 32,\n",
              " 'Gary Keedy': 2,\n",
              " 'Gihan Rupasinghe': 8,\n",
              " 'Graeme Cremer': 1,\n",
              " 'Grant Elliott': 16,\n",
              " 'Habibur Rahman': 1,\n",
              " 'Hamid Hassan': 4,\n",
              " 'Hamilton Masakadza': 90,\n",
              " 'Hammad Azam': 14,\n",
              " 'Hardus Viljoen': 16,\n",
              " 'Hasan Ali': 57,\n",
              " 'Hasan Mahmud': 0,\n",
              " 'Hasan Murad': 0,\n",
              " 'Hasanuzzaman': 144,\n",
              " 'Hashim Amla': 8,\n",
              " 'Hazratullah Zazai': 221,\n",
              " 'Heino Kuhn': 18,\n",
              " 'Herschelle Gibbs': 161,\n",
              " 'Hossain Ali': 1,\n",
              " 'Ifran Hossain': 1,\n",
              " 'Imad Wasim': 5,\n",
              " 'Imran Khan': 9,\n",
              " 'Imran Nazir': 390,\n",
              " 'Imran Uzzaman': 15,\n",
              " 'Imrul Kayes': 1909,\n",
              " 'Imtiaz Hossain': 13,\n",
              " 'Irfan Sukkur': 190,\n",
              " 'Isuru Udana': 97,\n",
              " 'Jacob Oram': 59,\n",
              " 'Jahurul Islam': 1065,\n",
              " 'Jake Lintott': 19,\n",
              " 'Jaker Ali': 147,\n",
              " 'James Franklin': 343,\n",
              " 'Jashimuddin': 12,\n",
              " 'Jason Roy': 474,\n",
              " 'Jeevan Mendis': 236,\n",
              " 'Jehan Mubarak': 104,\n",
              " 'Joe Denly': 310,\n",
              " 'Jofra Archer': 87,\n",
              " 'Johnson Charles': 548,\n",
              " 'Jos Buttler': 225,\n",
              " 'Josh Cobb': 233,\n",
              " 'Jubair Ahmed': 0,\n",
              " 'Junaid Khan': 10,\n",
              " 'Junaid Siddique': 955,\n",
              " 'Kabir Ali': 145,\n",
              " 'Kamran Akmal': 368,\n",
              " 'Kamrul Islam': 65,\n",
              " 'Karim Janat': 64,\n",
              " 'Kaushal Lokuarachchi': 7,\n",
              " 'Kennar Lewis': 46,\n",
              " 'Kesrick Williams': 33,\n",
              " \"Kevin O'Brien\": 131,\n",
              " 'Kevon Cooper': 201,\n",
              " 'Khaled Ahmed': 14,\n",
              " 'Khalid Latif': 221,\n",
              " 'Kieron Pollard': 707,\n",
              " 'Krishmar Santokie': 58,\n",
              " 'Kumar Sangakkara': 827,\n",
              " 'Kusal Perera': 0,\n",
              " 'Kyle Abbott': 16,\n",
              " 'Lahiru Thirimanne': 18,\n",
              " 'Lasith Malinga': 20,\n",
              " 'Laurie Evans': 413,\n",
              " 'Lendl Simmons': 755,\n",
              " 'Lewis Gregory': 262,\n",
              " 'Liam Dawson': 173,\n",
              " 'Liam Plunkett': 34,\n",
              " 'Litton Das': 1196,\n",
              " 'Lou Vincent': 140,\n",
              " 'Luis Reece': 150,\n",
              " 'Luke Ronchi': 321,\n",
              " 'Luke Wright': 213,\n",
              " 'Mahbubul Alam': 19,\n",
              " 'Mahedi Hasan': 370,\n",
              " 'Mahela Jayawardene': 42,\n",
              " 'Mahidul Islam Ankon': 107,\n",
              " 'Mahmudul Hasan': 129,\n",
              " 'Mahmudul Hasan Joy': 95,\n",
              " 'Mahmudullah': 2014,\n",
              " 'Malcolm Waller': 96,\n",
              " 'Marlon Samuels': 1039,\n",
              " 'Marshall Ayub': 96,\n",
              " 'Mashrafe Mortaza': 511,\n",
              " 'Matt Coles': 23,\n",
              " 'Mehedi Hasan Rana': 7,\n",
              " 'Mehedi Maruf': 597,\n",
              " 'Mehidy Hasan Miraz': 708,\n",
              " 'Mehrab Hossain jnr': 58,\n",
              " 'Michael Klinger': 154,\n",
              " 'Milinda Siriwardana': 4,\n",
              " 'Misbah-ul-Haq': 191,\n",
              " 'Mizanur Rahman': 155,\n",
              " 'Moeen Ali': 46,\n",
              " 'Mohammad Amir': 56,\n",
              " 'Mohammad Asghar': 8,\n",
              " 'Mohammad Ashraful': 641,\n",
              " 'Mohammad Enamul': 92,\n",
              " 'Mohammad Hafeez': 136,\n",
              " 'Mohammad Irfan': 2,\n",
              " 'Mohammad Mithun': 1627,\n",
              " 'Mohammad Nabi': 560,\n",
              " 'Mohammad Naim': 463,\n",
              " 'Mohammad Nawaz': 225,\n",
              " 'Mohammad Rizwan': 42,\n",
              " 'Mohammad Saifuddin': 89,\n",
              " 'Mohammad Sami': 129,\n",
              " 'Mohammad Shahid': 20,\n",
              " 'Mohammad Shahzad': 834,\n",
              " 'Mohammad Sharif': 51,\n",
              " 'Mohor Sheikh': 0,\n",
              " 'Mominul Haque': 1327,\n",
              " 'Monir Hossain': 41,\n",
              " 'Mosaddek Hossain': 957,\n",
              " 'Mosharraf Hossain': 58,\n",
              " 'Mrittunjoy Chowdhury': 23,\n",
              " 'Mujeeb Ur Rahman': 35,\n",
              " 'Mukhtar Ahmed': 1,\n",
              " 'Mukidul Islam': 4,\n",
              " 'Muktar Ali': 268,\n",
              " 'Munim Shahriar': 1,\n",
              " 'Murad Khan': 0,\n",
              " 'Mushfiqur Rahim': 2408,\n",
              " 'Mustafizur Rahman': 59,\n",
              " 'Muthiah Muralidaran': 7,\n",
              " 'Nabil Samad': 10,\n",
              " 'Nadif Chowdhury': 219,\n",
              " 'Naeem Islam': 607,\n",
              " 'Naeem Islam jnr': 25,\n",
              " 'Nahidul Islam': 223,\n",
              " 'Najibullah Zadran': 256,\n",
              " 'Najmul Hossain Shanto': 967,\n",
              " 'Nasir Hossain': 1085,\n",
              " 'Nasir Jamshed': 444,\n",
              " 'Nasum Ahmed': 17,\n",
              " 'Naved-ul-Hasan': 15,\n",
              " 'Naveen-ul-Haq': 18,\n",
              " 'Nayeem Hasan': 80,\n",
              " 'Nazimuddin': 128,\n",
              " 'Nazmul Hossain': 0,\n",
              " 'Nazmul Hossain Milon': 447,\n",
              " 'Nazmul Islam': 54,\n",
              " \"Niall O'Brien\": 145,\n",
              " 'Nicholas Pooran': 660,\n",
              " 'Nihaduzzaman': 2,\n",
              " 'Nikhil Dutta': 9,\n",
              " 'Noor Hossain': 17,\n",
              " 'Nurul Hasan': 791,\n",
              " 'Nuwan Kulasekara': 0,\n",
              " 'Owais Shah': 205,\n",
              " 'Paul Stirling': 419,\n",
              " 'Peter Trego': 311,\n",
              " 'Phil Mustard': 364,\n",
              " 'Pinak Ghosh': 0,\n",
              " 'Qais Ahmad': 31,\n",
              " 'Qaiser Abbas': 9,\n",
              " 'Qazi Onik': 11,\n",
              " 'Rahmanullah Gurbaz': 98,\n",
              " 'Rameez Raja': 65,\n",
              " 'Raqibul Hasan': 27,\n",
              " 'Rashid Khan': 32,\n",
              " 'Ravi Bopara': 1055,\n",
              " 'Rayad Emrit': 111,\n",
              " 'Raza Ali Dar': 8,\n",
              " 'Rejaur Rahman Raja': 13,\n",
              " 'Riki Wessels': 445,\n",
              " 'Rilee Rossouw': 1240,\n",
              " 'Rishad Hossain': 1,\n",
              " 'Rizwan Cheema': 2,\n",
              " 'Robbie Frylinck': 247,\n",
              " 'Robiul Haque': 10,\n",
              " 'Robiul Islam Robi': 34,\n",
              " 'Rony Talukdar': 733,\n",
              " 'Ross Whiteley': 91,\n",
              " 'Rubel Hossain': 54,\n",
              " 'Rubel Mia': 39,\n",
              " 'Rumman Raees': 38,\n",
              " 'Ryan Burl': 19,\n",
              " 'Ryan ten Doeschate': 780,\n",
              " 'Sabbir Rahman': 1710,\n",
              " 'Sachithra Senanayake': 23,\n",
              " 'Saddam Hossain': 10,\n",
              " 'Saeed Ajmal': 4,\n",
              " 'Saghir Hossain': 6,\n",
              " 'Saif Hassan': 20,\n",
              " 'Sajedul Islam': 1,\n",
              " 'Saju Datta': 0,\n",
              " 'Salauddin Sakil': 0,\n",
              " 'Salman Hossain': 0,\n",
              " 'Samit Patel': 388,\n",
              " 'Samiullah Shinwari': 5,\n",
              " 'Samuel Badree': 3,\n",
              " 'Sanath Jayasuriya': 54,\n",
              " 'Sandeep Lamichhane': 2,\n",
              " 'Sanjit Saha': 7,\n",
              " 'Saqlain Sajib': 31,\n",
              " 'Scott Styris': 107,\n",
              " 'Sean Ervine': 319,\n",
              " 'Seekkuge Prasanna': 297,\n",
              " 'Shadab Khan': 111,\n",
              " 'Shadman Islam': 151,\n",
              " 'Shafiqul Islam': 0,\n",
              " 'Shafiqullah': 18,\n",
              " 'Shafiul Islam': 124,\n",
              " 'Shahadat Hossain': 8,\n",
              " 'Shahid Afridi': 539,\n",
              " 'Shahriar Nafees': 976,\n",
              " 'Shahzaib Hasan': 240,\n",
              " 'Shakib Al Hasan': 1620,\n",
              " 'Shamim Hossain': 81,\n",
              " 'Shamsur Rahman': 910,\n",
              " 'Shane Watson': 93,\n",
              " 'Shapoor Zadran': 1,\n",
              " 'Sharifullah': 10,\n",
              " 'Shaun Tait': 1,\n",
              " 'Shehan Jayasuriya': 6,\n",
              " 'Sherfane Rutherford': 180,\n",
              " 'Shivnarine Chanderpaul': 424,\n",
              " 'Shoaib Malik': 1045,\n",
              " 'Shohidul Islam': 21,\n",
              " 'Shoriful Islam': 38,\n",
              " 'Shuvagata Hom': 476,\n",
              " 'Shykat Ali': 134,\n",
              " 'Sikandar Raza': 388,\n",
              " 'Simon Katich': 157,\n",
              " 'Sohag Gazi': 221,\n",
              " 'Sohail Khan': 8,\n",
              " 'Sohail Tanvir': 284,\n",
              " 'Sohrawordi Shuvo': 82,\n",
              " 'Solomon Mire': 0,\n",
              " 'Soumya Sarkar': 993,\n",
              " 'Steven Smith': 16,\n",
              " 'Stiaan van Zyl': 246,\n",
              " 'Subashis Roy': 1,\n",
              " 'Sulieman Benn': 19,\n",
              " 'Sumon Khan': 17,\n",
              " 'Sunil Narine': 479,\n",
              " 'Sunzamul Islam': 81,\n",
              " 'Syed Rasel': 7,\n",
              " 'Taibur Rahman': 87,\n",
              " 'Taijul Islam': 186,\n",
              " 'Talha Jubair': 1,\n",
              " 'Tamim Iqbal': 2483,\n",
              " 'Tanbir Hayder': 37,\n",
              " 'Tanvir Islam': 16,\n",
              " 'Tanzid Hasan': 11,\n",
              " 'Taposh Ghosh': 2,\n",
              " 'Taskin Ahmed': 56,\n",
              " 'Thisara Perera': 812,\n",
              " 'Tillakaratne Dilshan': 414,\n",
              " 'Tim Bresnan': 61,\n",
              " 'Tom Abell': 88,\n",
              " 'Tom Maynard': 50,\n",
              " 'Towhid Hridoy': 93,\n",
              " 'Travis Birt': 171,\n",
              " 'Tymal Mills': 9,\n",
              " 'Umar Akmal': 195,\n",
              " 'Upul Tharanga': 433,\n",
              " 'Usama Mir': 12,\n",
              " 'Wahab Riaz': 88,\n",
              " 'Wanindu Hasaranga de Silva': 8,\n",
              " 'Waqar Salamkheil': 6,\n",
              " 'Wayne Parnell': 2,\n",
              " 'Will Jacks': 280,\n",
              " 'Yasir Ali': 658,\n",
              " 'Yasir Arafat': 28,\n",
              " 'Yasir Shah': 51,\n",
              " 'Zahir Khan': 0,\n",
              " 'Zakir Hasan': 327,\n",
              " 'Ziaur Rahman': 720}"
            ]
          },
          "metadata": {},
          "execution_count": 47
        }
      ]
    },
    {
      "cell_type": "code",
      "source": [
        "scores_players = dict( sorted(scores_players.items(), key=operator.itemgetter(1),reverse=True))\n",
        "print('Dictionary in descending order by value : ',scores_players)    \n",
        "\n",
        "top_5_scores=dict()\n",
        "j=0\n",
        "for i in scores_players:\n",
        "  top_5_scores[i]=scores_players[i]\n",
        "  j+=1\n",
        "  if(j==5):\n",
        "    break\n",
        "\n",
        "names=list(top_5_scores.keys())\n",
        "values=list(top_5_scores.values())\n",
        "\n",
        "f = plt.figure()\n",
        "f.set_figwidth(10)\n",
        "f.set_figheight(10)\n",
        "\n",
        "c = ['red', 'yellow', 'black', 'blue', 'orange']\n",
        "  \n",
        "plt.bar(range(len(top_5_scores)), values, tick_label=names,color=c)\n",
        "plt.show() "
      ],
      "metadata": {
        "colab": {
          "base_uri": "https://localhost:8080/",
          "height": 630
        },
        "id": "fSVHxXToqcoa",
        "outputId": "25025905-8559-406f-a39b-89b3344e518c"
      },
      "execution_count": 87,
      "outputs": [
        {
          "output_type": "stream",
          "name": "stdout",
          "text": [
            "Dictionary in descending order by value :  {'Tamim Iqbal': 2483, 'Mushfiqur Rahim': 2408, 'Mahmudullah': 2014, 'Imrul Kayes': 1909, 'Sabbir Rahman': 1710, 'Anamul Haque': 1676, 'Mohammad Mithun': 1627, 'Shakib Al Hasan': 1620, 'Chris Gayle': 1599, 'Mominul Haque': 1327, 'Rilee Rossouw': 1240, 'Litton Das': 1196, 'Nasir Hossain': 1085, 'Jahurul Islam': 1065, 'Ravi Bopara': 1055, 'Shoaib Malik': 1045, 'Marlon Samuels': 1039, 'Soumya Sarkar': 993, 'Shahriar Nafees': 976, 'Najmul Hossain Shanto': 967, 'Mosaddek Hossain': 957, 'Junaid Siddique': 955, 'Evin Lewis': 945, 'Andre Fletcher': 940, 'Ahmed Shehzad': 937, 'Afif Hossain': 928, 'Shamsur Rahman': 910, 'Mohammad Shahzad': 834, 'Kumar Sangakkara': 827, 'Dawid Malan': 815, 'Andre Russell': 812, 'Thisara Perera': 812, 'Nurul Hasan': 791, 'Ryan ten Doeschate': 780, 'Ariful Haque': 760, 'Brad Hodge': 756, 'Lendl Simmons': 755, 'Rony Talukdar': 733, 'Ziaur Rahman': 720, 'Mehidy Hasan Miraz': 708, 'Kieron Pollard': 707, 'Dwayne Smith': 698, 'Nicholas Pooran': 660, 'Yasir Ali': 658, 'Mohammad Ashraful': 641, 'Cameron Delport': 636, 'Brendan Taylor': 615, 'Naeem Islam': 607, 'Mehedi Maruf': 597, 'Azhar Mahmood': 574, 'Alok Kapali': 564, 'Mohammad Nabi': 560, 'Johnson Charles': 548, 'Shahid Afridi': 539, 'Daren Sammy': 528, 'Mashrafe Mortaza': 511, 'Sunil Narine': 479, 'Shuvagata Hom': 476, 'Jason Roy': 474, 'Mohammad Naim': 463, 'Nazmul Hossain Milon': 447, 'Riki Wessels': 445, 'Nasir Jamshed': 444, 'Dilshan Munaweera': 437, 'Upul Tharanga': 433, 'Shivnarine Chanderpaul': 424, 'Paul Stirling': 419, 'Tillakaratne Dilshan': 414, 'Laurie Evans': 413, 'Darren Stevens': 394, 'Imran Nazir': 390, 'Farhad Reza': 390, 'Sikandar Raza': 388, 'Samit Patel': 388, 'Chadwick Walton': 382, 'Mahedi Hasan': 370, 'Kamran Akmal': 368, 'Phil Mustard': 364, 'Dwayne Bravo': 348, 'James Franklin': 343, 'Zakir Hasan': 327, 'Benny Howell': 324, 'Luke Ronchi': 321, 'Sean Ervine': 319, 'Peter Trego': 311, 'Carlos Brathwaite': 310, 'Joe Denly': 310, 'Alex Hales': 304, 'Seekkuge Prasanna': 297, 'Sohail Tanvir': 284, 'Brendon McCullum': 281, 'Fazle Mahmud': 280, 'Will Jacks': 280, 'Elton Chigumbura': 272, 'Muktar Ali': 268, 'Lewis Gregory': 262, 'Najibullah Zadran': 256, 'Al-Amin': 252, 'Robbie Frylinck': 247, 'AB de Villiers': 247, 'Stiaan van Zyl': 246, 'David Wiese': 244, 'Ashar Zaidi': 244, 'Shahzaib Hasan': 240, 'Jeevan Mendis': 236, 'Josh Cobb': 233, 'Mohammad Nawaz': 225, 'Jos Buttler': 225, 'Nahidul Islam': 223, 'David Warner': 223, 'Khalid Latif': 221, 'Avishka Fernando': 221, 'Hazratullah Zazai': 221, 'Sohag Gazi': 221, 'Nadif Chowdhury': 219, 'Luke Wright': 213, 'Charles Coventry': 213, 'Owais Shah': 205, 'Kevon Cooper': 201, 'Cameron Borgas': 200, 'Umar Akmal': 195, 'Dasun Shanaka': 193, 'Misbah-ul-Haq': 191, 'Irfan Sukkur': 190, 'Bhanuka Rajapaksa': 188, 'Taijul Islam': 186, 'Sherfane Rutherford': 180, 'Liam Dawson': 173, 'Travis Birt': 171, 'Abdul Razzaq': 167, 'Abdul Mazid': 166, 'Herschelle Gibbs': 161, 'Abul Hasan': 159, 'Simon Katich': 157, 'Mizanur Rahman': 155, 'Michael Klinger': 154, 'Shadman Islam': 151, 'Luis Reece': 150, 'Jaker Ali': 147, 'Kabir Ali': 145, \"Niall O'Brien\": 145, 'Hasanuzzaman': 144, 'Danushka Gunathilaka': 141, 'Lou Vincent': 140, 'Mohammad Hafeez': 136, 'Daniel Harris': 136, 'Shykat Ali': 134, \"Kevin O'Brien\": 131, 'Abu Hider': 130, 'Arafat Sunny': 130, 'Mohammad Sami': 129, 'Mahmudul Hasan': 129, 'Danza Hyatt': 129, 'Nazimuddin': 128, 'Asif Ali': 124, 'Shafiul Islam': 124, 'Christiaan Jonker': 123, 'Babar Azam': 117, 'Rayad Emrit': 111, 'Shadab Khan': 111, 'Scott Styris': 107, 'Mahidul Islam Ankon': 107, 'Jehan Mubarak': 104, 'Faf du Plessis': 99, 'Rahmanullah Gurbaz': 98, 'Isuru Udana': 97, 'Malcolm Waller': 96, 'Marshall Ayub': 96, 'Asif Ahmed': 95, 'Mahmudul Hasan Joy': 95, 'Shane Watson': 93, 'Colin Ingram': 93, 'Towhid Hridoy': 93, 'Mohammad Enamul': 92, 'Ross Whiteley': 91, 'Hamilton Masakadza': 90, 'Mohammad Saifuddin': 89, 'Tom Abell': 88, 'Wahab Riaz': 88, 'Jofra Archer': 87, 'Taibur Rahman': 87, 'Sohrawordi Shuvo': 82, 'Sunzamul Islam': 81, 'Elias Sunny': 81, 'Shamim Hossain': 81, 'Nayeem Hasan': 80, 'Abdur Razzak': 70, 'Kamrul Islam': 65, 'Rameez Raja': 65, 'Karim Janat': 64, 'Dhiman Ghosh': 63, 'Chamara Kapugedera': 61, 'Tim Bresnan': 61, 'Alauddin Babu': 59, 'Mustafizur Rahman': 59, 'Jacob Oram': 59, 'Krishmar Santokie': 58, 'Mosharraf Hossain': 58, 'Mehrab Hossain jnr': 58, 'Hasan Ali': 57, 'Taskin Ahmed': 56, 'Mohammad Amir': 56, 'Sanath Jayasuriya': 54, 'Nazmul Islam': 54, 'Rubel Hossain': 54, 'Yasir Shah': 51, 'Mohammad Sharif': 51, 'Farhad Hossain': 50, 'Tom Maynard': 50, 'Farveez Maharoof': 49, 'Kennar Lewis': 46, 'Moeen Ali': 46, 'Mohammad Rizwan': 42, 'Mahela Jayawardene': 42, 'Monir Hossain': 41, 'David Miller': 41, 'Rubel Mia': 39, 'Shoriful Islam': 38, 'Darwish Rasooli': 38, 'Rumman Raees': 38, 'Tanbir Hayder': 37, 'Alfonso Thomas': 36, 'Mujeeb Ur Rahman': 35, 'Robiul Islam Robi': 34, 'Liam Plunkett': 34, 'Abu Jayed': 34, 'Kesrick Williams': 33, 'Anwar Ali': 33, 'Fidel Edwards': 32, 'Rashid Khan': 32, 'Saqlain Sajib': 31, 'Asela Gunaratne': 31, 'Qais Ahmad': 31, 'Brad Hogg': 30, 'Yasir Arafat': 28, 'Raqibul Hasan': 27, 'Delwar Hossain': 26, 'Naeem Islam jnr': 25, 'Dimitri Mascarenhas': 25, 'Dolar Mahmud': 24, 'Fardeen Hasan': 23, 'Mrittunjoy Chowdhury': 23, 'Sachithra Senanayake': 23, 'Matt Coles': 23, 'Bilawal Bhatti': 22, 'Shohidul Islam': 21, 'Saif Hassan': 20, 'Mohammad Shahid': 20, 'Abdullah Al Mamun': 20, 'Lasith Malinga': 20, 'Faisal Hossain': 19, 'Ryan Burl': 19, 'Jake Lintott': 19, 'Enamul Haque jnr': 19, 'Sulieman Benn': 19, 'Mahbubul Alam': 19, 'Chaturanga de Silva': 19, 'Al-Amin Hossain': 18, 'Naveen-ul-Haq': 18, 'Shafiqullah': 18, 'Alexei Kervezee': 18, 'Lahiru Thirimanne': 18, 'Heino Kuhn': 18, 'Aftab Ahmed': 17, 'Sumon Khan': 17, 'Nasum Ahmed': 17, 'Chris Jordan': 17, 'Noor Hossain': 17, 'Tanvir Islam': 16, 'Kyle Abbott': 16, 'Steven Smith': 16, 'Hardus Viljoen': 16, 'Grant Elliott': 16, 'Naved-ul-Hasan': 15, 'Imran Uzzaman': 15, 'Fawad Alam': 14, 'Hammad Azam': 14, 'Khaled Ahmed': 14, 'Rejaur Rahman Raja': 13, 'Imtiaz Hossain': 13, 'Akbar Ali': 12, 'Usama Mir': 12, 'Darren Bravo': 12, 'Jashimuddin': 12, 'Tanzid Hasan': 11, 'Qazi Onik': 11, 'Nabil Samad': 10, 'Junaid Khan': 10, 'Robiul Haque': 10, 'Sharifullah': 10, 'Asif Hasan': 10, 'Saddam Hossain': 10, 'Qaiser Abbas': 9, 'Nikhil Dutta': 9, 'Tymal Mills': 9, 'Imran Khan': 9, 'Hashim Amla': 8, 'Faheem Ashraf': 8, 'Sohail Khan': 8, 'Wanindu Hasaranga de Silva': 8, 'Shahadat Hossain': 8, 'Mohammad Asghar': 8, 'Gihan Rupasinghe': 8, 'Raza Ali Dar': 8, 'Syed Rasel': 7, 'Sanjit Saha': 7, 'Mehedi Hasan Rana': 7, 'Adam Lyth': 7, 'Akila Dananjaya': 7, 'Kaushal Lokuarachchi': 7, 'Andrew Birch': 7, 'Muthiah Muralidaran': 7, 'Shehan Jayasuriya': 6, 'Waqar Salamkheil': 6, 'Saghir Hossain': 6, 'Ebadot Hossain': 5, 'Samiullah Shinwari': 5, 'Imad Wasim': 5, 'Awais Zia': 5, 'Aminul Islam': 4, 'Mukidul Islam': 4, 'Alzarri Joseph': 4, 'Saeed Ajmal': 4, 'Ajantha Mendis': 4, 'Hamid Hassan': 4, 'Bishawnath Halder': 4, 'Milinda Siriwardana': 4, 'Andre Adams': 4, 'Adil Rashid': 3, 'Samuel Badree': 3, 'Gary Keedy': 2, 'Mohammad Irfan': 2, 'Nihaduzzaman': 2, 'Fakhar Zaman': 2, 'Amit Kumar': 2, 'Taposh Ghosh': 2, 'Sandeep Lamichhane': 2, 'Wayne Parnell': 2, 'Dilhara Lokuhettige': 2, 'Rizwan Cheema': 2, 'Rishad Hossain': 1, 'Talha Jubair': 1, 'Al Islam': 1, 'Ifran Hossain': 1, 'Munim Shahriar': 1, 'Mukhtar Ahmed': 1, 'Subashis Roy': 1, 'Sajedul Islam': 1, 'Habibur Rahman': 1, 'Graeme Cremer': 1, 'Hossain Ali': 1, 'Shapoor Zadran': 1, 'Shaun Tait': 1, 'Hasan Mahmud': 0, 'Pinak Ghosh': 0, 'Salauddin Sakil': 0, 'Aamer Yamin': 0, 'Salman Hossain': 0, 'Hasan Murad': 0, 'Shafiqul Islam': 0, 'Daniel Bell-Drummond': 0, 'Kusal Perera': 0, 'Solomon Mire': 0, 'Jubair Ahmed': 0, 'Ben Edmondson': 0, 'Chris Liddle': 0, 'Murad Khan': 0, 'Nazmul Hossain': 0, 'Saju Datta': 0, 'Zahir Khan': 0, 'Mohor Sheikh': 0, 'Nuwan Kulasekara': 0}\n"
          ]
        },
        {
          "output_type": "display_data",
          "data": {
            "image/png": "[encoded data removed]",
            "text/plain": [
              "<Figure size 720x720 with 1 Axes>"
            ]
          },
          "metadata": {
            "needs_background": "light"
          }
        }
      ]
    },
    {
      "cell_type": "markdown",
      "source": [
        "fours"
      ],
      "metadata": {
        "id": "SkXpDH4as2nH"
      }
    },
    {
      "cell_type": "code",
      "source": [
        "fours_players=dict()\n",
        "for i in df.index:\n",
        " if(len(df['fours'][i])>0):\n",
        "   if(df['fours'][i]!='-'):\n",
        "    val=int(df['fours'][i])\n",
        "    if df['player_name'][i] not in fours_players:\n",
        "     fours_players[df['player_name'][i]]=int(df['fours'][i])\n",
        "    else:\n",
        "     fours_players[df['player_name'][i]]+=int(df['fours'][i])"
      ],
      "metadata": {
        "id": "R7IeSTmsqxX0"
      },
      "execution_count": 88,
      "outputs": []
    },
    {
      "cell_type": "code",
      "source": [
        "fours_players = dict( sorted(fours_players.items(), key=operator.itemgetter(1),reverse=True))\n",
        "print('Dictionary in descending order by value : ',fours_players)    \n",
        "\n",
        "top_5_fours=dict()\n",
        "j=0\n",
        "for i in fours_players:\n",
        "  top_5_fours[i]=fours_players[i]\n",
        "  j+=1\n",
        "  if(j==5):\n",
        "    break\n",
        "\n",
        "names=list(top_5_fours.keys())\n",
        "values=list(top_5_fours.values())\n",
        "\n",
        "f = plt.figure()\n",
        "f.set_figwidth(10)\n",
        "f.set_figheight(10)\n",
        "c = ['red', 'yellow', 'black', 'blue', 'orange']  \n",
        "plt.bar(range(len(top_5_fours)), values, tick_label=names,color=c)\n",
        "plt.show() "
      ],
      "metadata": {
        "colab": {
          "base_uri": "https://localhost:8080/",
          "height": 630
        },
        "id": "rQbg2rr2sc8b",
        "outputId": "40acd59d-f589-4269-e91d-c6e5cbda4a0e"
      },
      "execution_count": 89,
      "outputs": [
        {
          "output_type": "stream",
          "name": "stdout",
          "text": [
            "Dictionary in descending order by value :  {'Tamim Iqbal': 258, 'Mushfiqur Rahim': 201, 'Imrul Kayes': 168, 'Shakib Al Hasan': 154, 'Mahmudullah': 153, 'Anamul Haque': 147, 'Sabbir Rahman': 136, 'Mominul Haque': 128, 'Litton Das': 124, 'Chris Gayle': 108, 'Rilee Rossouw': 108, 'Shahriar Nafees': 106, 'Soumya Sarkar': 105, 'Mohammad Mithun': 102, 'Junaid Siddique': 101, 'Andre Fletcher': 99, 'Mohammad Shahzad': 94, 'Afif Hossain': 92, 'Marlon Samuels': 91, 'Ahmed Shehzad': 90, 'Kumar Sangakkara': 89, 'Jahurul Islam': 88, 'Najmul Hossain Shanto': 87, 'Evin Lewis': 85, 'Nasir Hossain': 84, 'Shoaib Malik': 83, 'Brad Hodge': 79, 'Lendl Simmons': 79, 'Ravi Bopara': 79, 'Mosaddek Hossain': 78, 'Shamsur Rahman': 77, 'Rony Talukdar': 75, 'Mehidy Hasan Miraz': 71, 'Dawid Malan': 69, 'Dwayne Smith': 68, 'Nurul Hasan': 66, 'Mohammad Ashraful': 65, 'Thisara Perera': 64, 'Brendan Taylor': 63, 'Azhar Mahmood': 58, 'Dilshan Munaweera': 58, 'Mehedi Maruf': 56, 'Paul Stirling': 55, 'Johnson Charles': 53, 'Naeem Islam': 53, 'Ziaur Rahman': 53, 'Cameron Delport': 53, 'Andre Russell': 50, 'Ariful Haque': 50, 'Upul Tharanga': 50, 'Sunil Narine': 50, 'Shivnarine Chanderpaul': 49, 'Nicholas Pooran': 48, 'Nasir Jamshed': 47, 'Jason Roy': 47, 'Tillakaratne Dilshan': 47, 'Kieron Pollard': 46, 'Yasir Ali': 45, 'Laurie Evans': 45, 'Kamran Akmal': 44, 'Mohammad Nabi': 44, 'Riki Wessels': 44, 'Phil Mustard': 43, 'Shuvagata Hom': 43, 'Mohammad Naim': 43, 'Ryan ten Doeschate': 43, 'Alok Kapali': 42, 'Imran Nazir': 38, 'Shahid Afridi': 38, 'Daren Sammy': 37, 'Darren Stevens': 34, 'Luke Ronchi': 33, 'Samit Patel': 33, 'Mashrafe Mortaza': 32, 'Shahzaib Hasan': 31, 'Alex Hales': 31, 'Will Jacks': 30, 'Sikandar Raza': 30, 'Farhad Reza': 29, 'Joe Denly': 29, 'Peter Trego': 28, 'Sean Ervine': 28, 'Chadwick Walton': 28, 'Mahedi Hasan': 28, 'Zakir Hasan': 28, 'Charles Coventry': 27, 'Nazmul Hossain Milon': 26, 'Carlos Brathwaite': 26, 'Herschelle Gibbs': 24, 'Fazle Mahmud': 24, 'Al-Amin': 24, 'Luke Wright': 24, 'Dwayne Bravo': 22, 'Najibullah Zadran': 22, 'Nahidul Islam': 22, 'Benny Howell': 22, 'Simon Katich': 22, 'Sohail Tanvir': 21, 'Avishka Fernando': 21, 'Lewis Gregory': 21, 'Khalid Latif': 20, 'Irfan Sukkur': 20, 'Ashar Zaidi': 20, 'Brendon McCullum': 19, 'David Warner': 19, 'Mohammad Hafeez': 18, 'James Franklin': 18, 'AB de Villiers': 18, 'Mizanur Rahman': 17, 'Jeevan Mendis': 17, 'Sohag Gazi': 17, 'Josh Cobb': 17, 'Cameron Borgas': 17, 'Bhanuka Rajapaksa': 16, 'Muktar Ali': 16, 'Mohammad Nawaz': 16, 'David Wiese': 16, 'Shadman Islam': 16, 'Hasanuzzaman': 16, 'Hazratullah Zazai': 15, 'Sherfane Rutherford': 15, 'Stiaan van Zyl': 15, 'Robbie Frylinck': 15, 'Umar Akmal': 15, 'Jos Buttler': 15, 'Nazimuddin': 14, 'Kevon Cooper': 14, 'Taijul Islam': 14, 'Mahmudul Hasan Joy': 14, 'Elton Chigumbura': 14, 'Shafiul Islam': 13, 'Seekkuge Prasanna': 13, 'Abul Hasan': 13, 'Michael Klinger': 13, 'Lou Vincent': 13, 'Danza Hyatt': 13, 'Asif Ahmed': 12, 'Mahmudul Hasan': 12, 'Malcolm Waller': 12, 'Danushka Gunathilaka': 12, 'Abdul Razzaq': 11, 'Kabir Ali': 11, 'Abdul Mazid': 11, 'Misbah-ul-Haq': 11, 'Owais Shah': 11, 'Travis Birt': 11, 'Liam Dawson': 11, 'Jaker Ali': 10, 'Dasun Shanaka': 10, 'Isuru Udana': 10, 'Shykat Ali': 10, 'Faf du Plessis': 10, 'Hamilton Masakadza': 10, 'Nadif Chowdhury': 9, 'Tom Abell': 9, 'Mohammad Sami': 9, 'Abu Hider': 9, 'Arafat Sunny': 9, 'Elias Sunny': 9, 'Luis Reece': 9, 'Colin Ingram': 9, 'Jofra Archer': 9, \"Kevin O'Brien\": 9, 'Jehan Mubarak': 9, 'Sohrawordi Shuvo': 8, 'Rayad Emrit': 8, 'Shane Watson': 8, 'Shamim Hossain': 8, 'Marshall Ayub': 8, 'Christiaan Jonker': 8, 'Rahmanullah Gurbaz': 7, 'Shadab Khan': 7, 'Asif Ali': 7, 'Mohammad Saifuddin': 7, 'Mohammad Rizwan': 7, \"Niall O'Brien\": 7, 'Taibur Rahman': 7, 'Scott Styris': 6, 'Yasir Shah': 6, 'Tim Bresnan': 6, 'Babar Azam': 6, 'Daniel Harris': 6, 'Jacob Oram': 6, 'Mahela Jayawardene': 6, 'Rameez Raja': 6, 'Abdur Razzak': 5, 'Nayeem Hasan': 5, 'Sunzamul Islam': 5, 'Shoriful Islam': 5, 'Towhid Hridoy': 5, 'Ross Whiteley': 5, 'Tom Maynard': 5, 'Wahab Riaz': 4, 'Monir Hossain': 4, 'Rubel Hossain': 4, 'Krishmar Santokie': 4, 'Delwar Hossain': 4, 'Robiul Islam Robi': 4, 'Kamrul Islam': 4, 'Kennar Lewis': 4, 'Abu Jayed': 4, 'Rashid Khan': 4, 'Alfonso Thomas': 4, 'Mohammad Enamul': 4, 'Rumman Raees': 4, 'Yasir Arafat': 3, 'Nazmul Islam': 3, 'Mahidul Islam Ankon': 3, 'Naveen-ul-Haq': 3, 'Mustafizur Rahman': 3, 'Liam Plunkett': 3, 'Karim Janat': 3, 'Chamara Kapugedera': 3, 'Fidel Edwards': 3, 'Dolar Mahmud': 3, 'Mohammad Sharif': 3, 'Tanbir Hayder': 3, 'Raqibul Hasan': 3, 'David Miller': 3, 'Imtiaz Hossain': 3, 'Heino Kuhn': 3, 'Anwar Ali': 3, 'Sanath Jayasuriya': 2, 'Farhad Hossain': 2, 'Saqlain Sajib': 2, 'Ryan Burl': 2, 'Taskin Ahmed': 2, 'Alexei Kervezee': 2, 'Mujeeb Ur Rahman': 2, 'Rubel Mia': 2, 'Saif Hassan': 2, 'Mohammad Amir': 2, 'Kesrick Williams': 2, 'Hashim Amla': 2, 'Nasum Ahmed': 2, 'Jake Lintott': 2, 'Imran Uzzaman': 2, 'Lahiru Thirimanne': 2, 'Sachithra Senanayake': 2, 'Mosharraf Hossain': 2, 'Dhiman Ghosh': 2, 'Chris Jordan': 2, 'Lasith Malinga': 2, 'Saddam Hossain': 2, 'Darren Bravo': 2, 'Moeen Ali': 2, 'Mehrab Hossain jnr': 2, 'Sulieman Benn': 2, 'Noor Hossain': 2, 'Mohammad Asghar': 2, 'Tymal Mills': 2, 'Alauddin Babu': 1, 'Qaiser Abbas': 1, 'Aftab Ahmed': 1, 'Fawad Alam': 1, 'Nabil Samad': 1, 'Al-Amin Hossain': 1, 'Syed Rasel': 1, 'Shohidul Islam': 1, 'Sumon Khan': 1, 'Robiul Haque': 1, 'Mukidul Islam': 1, 'Asela Gunaratne': 1, 'Mehedi Hasan Rana': 1, 'Mrittunjoy Chowdhury': 1, 'Sharifullah': 1, 'Saeed Ajmal': 1, 'Mohammad Shahid': 1, 'Hammad Azam': 1, 'Asif Hasan': 1, 'Bilawal Bhatti': 1, 'Sohail Khan': 1, 'Nikhil Dutta': 1, 'Abdullah Al Mamun': 1, 'Adam Lyth': 1, 'Wanindu Hasaranga de Silva': 1, 'Hasan Ali': 1, 'Naeem Islam jnr': 1, 'Usama Mir': 1, 'Kyle Abbott': 1, 'Kaushal Lokuarachchi': 1, 'Dimitri Mascarenhas': 1, 'Shahadat Hossain': 1, 'Mahbubul Alam': 1, 'Farveez Maharoof': 1, 'Jashimuddin': 1, 'Steven Smith': 1, 'Qais Ahmad': 1, 'Darwish Rasooli': 1, 'Khaled Ahmed': 1, 'Imad Wasim': 1, 'Hardus Viljoen': 1, 'Waqar Salamkheil': 1, 'Chaturanga de Silva': 1, 'Grant Elliott': 1, 'Matt Coles': 1, 'Imran Khan': 1, 'Awais Zia': 1, 'Andre Adams': 1, 'Saghir Hossain': 1, 'Faisal Hossain': 0, 'Brad Hogg': 0, 'Gary Keedy': 0, 'Rishad Hossain': 0, 'Naved-ul-Hasan': 0, 'Shafiqullah': 0, 'Hasan Mahmud': 0, 'Ebadot Hossain': 0, 'Sanjit Saha': 0, 'Talha Jubair': 0, 'Junaid Khan': 0, 'Pinak Ghosh': 0, 'Aminul Islam': 0, 'Tanvir Islam': 0, 'Salauddin Sakil': 0, 'Mohammad Irfan': 0, 'Aamer Yamin': 0, 'Fardeen Hasan': 0, 'Faheem Ashraf': 0, 'Al Islam': 0, 'Tanzid Hasan': 0, 'Ifran Hossain': 0, 'Salman Hossain': 0, 'Munim Shahriar': 0, 'Rejaur Rahman Raja': 0, 'Alzarri Joseph': 0, 'Hasan Murad': 0, 'Akbar Ali': 0, 'Shafiqul Islam': 0, 'Mukhtar Ahmed': 0, 'Enamul Haque jnr': 0, 'Ajantha Mendis': 0, 'Shehan Jayasuriya': 0, 'Subashis Roy': 0, 'Sajedul Islam': 0, 'Adil Rashid': 0, 'Samiullah Shinwari': 0, 'Nihaduzzaman': 0, 'Akila Dananjaya': 0, 'Daniel Bell-Drummond': 0, 'Kusal Perera': 0, 'Fakhar Zaman': 0, 'Solomon Mire': 0, 'Habibur Rahman': 0, 'Graeme Cremer': 0, 'Hossain Ali': 0, 'Qazi Onik': 0, 'Shapoor Zadran': 0, 'Jubair Ahmed': 0, 'Samuel Badree': 0, 'Shaun Tait': 0, 'Ben Edmondson': 0, 'Amit Kumar': 0, 'Taposh Ghosh': 0, 'Hamid Hassan': 0, 'Bishawnath Halder': 0, 'Chris Liddle': 0, 'Sandeep Lamichhane': 0, 'Murad Khan': 0, 'Nazmul Hossain': 0, 'Saju Datta': 0, 'Zahir Khan': 0, 'Mohor Sheikh': 0, 'Andrew Birch': 0, 'Wayne Parnell': 0, 'Milinda Siriwardana': 0, 'Gihan Rupasinghe': 0, 'Nuwan Kulasekara': 0, 'Raza Ali Dar': 0, 'Muthiah Muralidaran': 0, 'Dilhara Lokuhettige': 0, 'Rizwan Cheema': 0}\n"
          ]
        },
        {
          "output_type": "display_data",
          "data": {
            "image/png": "[encoded data removed]",
            "text/plain": [
              "<Figure size 720x720 with 1 Axes>"
            ]
          },
          "metadata": {
            "needs_background": "light"
          }
        }
      ]
    },
    {
      "cell_type": "markdown",
      "source": [
        "sixes:"
      ],
      "metadata": {
        "id": "dZeykxmks4Nb"
      }
    },
    {
      "cell_type": "code",
      "source": [
        "sixs_players=dict()\n",
        "for i in df.index:\n",
        " if(len(df['sixs'][i])>0):\n",
        "   if(df['sixs'][i]!='-'):\n",
        "    val=int(df['sixs'][i])\n",
        "    if df['player_name'][i] not in sixs_players:\n",
        "     sixs_players[df['player_name'][i]]=int(df['sixs'][i])\n",
        "    else:\n",
        "     sixs_players[df['player_name'][i]]+=int(df['sixs'][i])\n",
        "sixs_players = dict( sorted(sixs_players.items(), key=operator.itemgetter(1),reverse=True))\n",
        "print('Dictionary in descending order by value : ',sixs_players)    \n",
        "\n",
        "top_5_sixs=dict()\n",
        "j=0\n",
        "for i in sixs_players:\n",
        "  top_5_sixs[i]=sixs_players[i]\n",
        "  j+=1\n",
        "  if(j==5):\n",
        "    break\n",
        "\n",
        "names=list(top_5_sixs.keys())\n",
        "values=list(top_5_sixs.values())\n",
        "\n",
        "f = plt.figure()\n",
        "f.set_figwidth(10)\n",
        "f.set_figheight(10)\n",
        "c = ['red', 'yellow', 'black', 'blue', 'orange']  \n",
        "plt.bar(range(len(top_5_sixs)), values, tick_label=names,color=c)\n",
        "plt.show() \n"
      ],
      "metadata": {
        "colab": {
          "base_uri": "https://localhost:8080/",
          "height": 630
        },
        "id": "ce5YvNKcs5Rs",
        "outputId": "349fce0d-a911-47a5-f116-bb4c38b91b7e"
      },
      "execution_count": 90,
      "outputs": [
        {
          "output_type": "stream",
          "name": "stdout",
          "text": [
            "Dictionary in descending order by value :  {'Chris Gayle': 139, 'Tamim Iqbal': 80, 'Imrul Kayes': 80, 'Mushfiqur Rahim': 75, 'Mahmudullah': 74, 'Sabbir Rahman': 70, 'Andre Russell': 67, 'Mohammad Mithun': 61, 'Anamul Haque': 58, 'Evin Lewis': 57, 'Rilee Rossouw': 55, 'Kieron Pollard': 48, 'Ziaur Rahman': 46, 'Shakib Al Hasan': 45, 'Thisara Perera': 45, 'Nicholas Pooran': 41, 'Andre Fletcher': 39, 'Afif Hossain': 39, 'Marlon Samuels': 38, 'Shahid Afridi': 38, 'Litton Das': 38, 'Shoaib Malik': 38, 'Cameron Delport': 37, 'Daren Sammy': 34, 'Ryan ten Doeschate': 34, 'Ahmed Shehzad': 33, 'Junaid Siddique': 33, 'Mohammad Shahzad': 33, 'Nasir Hossain': 33, 'Dawid Malan': 33, 'Mashrafe Mortaza': 33, 'Brad Hodge': 32, 'Dwayne Smith': 32, 'Johnson Charles': 31, 'Lendl Simmons': 31, 'Soumya Sarkar': 31, 'Yasir Ali': 29, 'Mosaddek Hossain': 29, 'Shamsur Rahman': 29, 'Mominul Haque': 28, 'Sunil Narine': 28, 'Jahurul Islam': 27, 'Najmul Hossain Shanto': 27, 'Ravi Bopara': 27, 'Mehedi Maruf': 27, 'Nurul Hasan': 25, 'Seekkuge Prasanna': 25, 'Rony Talukdar': 23, 'Azhar Mahmood': 22, 'Chadwick Walton': 22, 'Mohammad Nabi': 22, 'Carlos Brathwaite': 22, 'Mahedi Hasan': 21, 'Ariful Haque': 21, 'Mehidy Hasan Miraz': 21, 'Luke Ronchi': 21, 'Brendon McCullum': 21, 'Jason Roy': 20, 'Brendan Taylor': 19, 'Elton Chigumbura': 19, 'Imran Nazir': 18, 'Shahriar Nafees': 18, 'Dasun Shanaka': 18, 'Sikandar Raza': 18, 'Kamran Akmal': 17, 'Benny Howell': 17, 'Samit Patel': 17, 'AB de Villiers': 17, 'Alok Kapali': 16, 'Nazmul Hossain Milon': 16, 'Hazratullah Zazai': 16, 'Mohammad Nawaz': 16, 'Paul Stirling': 16, 'Naeem Islam': 15, 'Robbie Frylinck': 15, 'James Franklin': 15, 'Dwayne Bravo': 14, 'Mohammad Ashraful': 14, 'Shuvagata Hom': 14, 'Mohammad Naim': 14, 'Avishka Fernando': 14, 'Farhad Reza': 14, 'Will Jacks': 14, 'Tillakaratne Dilshan': 14, 'Alex Hales': 14, 'Jeevan Mendis': 13, 'Darren Stevens': 13, 'Lewis Gregory': 13, 'Najibullah Zadran': 13, 'David Wiese': 13, 'Nasir Jamshed': 12, 'Sean Ervine': 12, 'Muktar Ali': 12, 'Kumar Sangakkara': 12, 'Dilshan Munaweera': 12, 'Josh Cobb': 12, 'Bhanuka Rajapaksa': 11, 'Nadif Chowdhury': 11, 'Fazle Mahmud': 11, 'Shivnarine Chanderpaul': 10, 'Laurie Evans': 10, 'Kevon Cooper': 10, 'Upul Tharanga': 10, 'Sherfane Rutherford': 10, 'Asif Ali': 10, 'Ashar Zaidi': 10, 'Zakir Hasan': 10, 'Joe Denly': 10, 'Travis Birt': 10, 'Charles Coventry': 10, 'Sohail Tanvir': 9, 'Rahmanullah Gurbaz': 9, 'Stiaan van Zyl': 9, 'Lou Vincent': 9, 'Khalid Latif': 8, 'Al-Amin': 8, 'Owais Shah': 8, 'Jos Buttler': 8, 'Danushka Gunathilaka': 8, 'Riki Wessels': 8, 'Kabir Ali': 7, 'Jaker Ali': 7, 'Wahab Riaz': 7, 'Abu Hider': 7, 'Shane Watson': 7, 'Sohag Gazi': 7, \"Kevin O'Brien\": 7, 'Scott Styris': 6, 'Shadab Khan': 6, 'Umar Akmal': 6, 'Christiaan Jonker': 6, 'Mohammad Enamul': 6, 'Phil Mustard': 5, 'Shahzaib Hasan': 5, 'Peter Trego': 5, 'Abdul Razzaq': 5, 'Mohammad Sami': 5, 'Mahidul Islam Ankon': 5, 'Rayad Emrit': 5, 'Luis Reece': 5, 'Irfan Sukkur': 5, 'Shykat Ali': 5, 'Karim Janat': 5, 'Misbah-ul-Haq': 5, 'Luke Wright': 5, 'Ross Whiteley': 5, 'Hasan Ali': 5, 'Cameron Borgas': 5, 'David Warner': 5, 'Liam Dawson': 5, 'Mizanur Rahman': 4, 'Sanath Jayasuriya': 4, 'Nazimuddin': 4, 'Mustafizur Rahman': 4, 'Abdul Mazid': 4, 'Colin Ingram': 4, 'Abul Hasan': 4, 'Malcolm Waller': 4, 'Jehan Mubarak': 4, 'Hasanuzzaman': 4, 'Nahidul Islam': 3, 'Kamrul Islam': 3, 'Kennar Lewis': 3, 'Isuru Udana': 3, 'Faf du Plessis': 3, 'Towhid Hridoy': 3, 'Mohammad Saifuddin': 3, 'Tim Bresnan': 3, 'Jofra Archer': 3, 'Babar Azam': 3, 'Moeen Ali': 3, 'Danza Hyatt': 3, 'Qais Ahmad': 3, 'Darwish Rasooli': 3, 'Herschelle Gibbs': 2, 'Farhad Hossain': 2, 'Alauddin Babu': 2, 'Rubel Hossain': 2, 'Krishmar Santokie': 2, 'Arafat Sunny': 2, 'Taskin Ahmed': 2, 'Shafiqullah': 2, 'Elias Sunny': 2, 'Mohammad Amir': 2, 'Shafiul Islam': 2, 'Kesrick Williams': 2, 'Taijul Islam': 2, 'Asela Gunaratne': 2, 'Shoriful Islam': 2, 'Mahmudul Hasan': 2, 'Michael Klinger': 2, 'Hamilton Masakadza': 2, 'Daniel Harris': 2, \"Niall O'Brien\": 2, 'Dimitri Mascarenhas': 2, 'Marshall Ayub': 2, 'Mahbubul Alam': 2, 'Farveez Maharoof': 2, 'Matt Coles': 2, 'Nazmul Islam': 1, 'Abdur Razzak': 1, 'Nayeem Hasan': 1, 'Monir Hossain': 1, 'Mujeeb Ur Rahman': 1, 'Rubel Mia': 1, 'Liam Plunkett': 1, 'Sumon Khan': 1, 'Tanvir Islam': 1, 'Shadman Islam': 1, 'Shamim Hossain': 1, 'Fardeen Hasan': 1, 'Tanzid Hasan': 1, 'Abu Jayed': 1, 'Jake Lintott': 1, 'Mahmudul Hasan Joy': 1, 'Akbar Ali': 1, 'Mrittunjoy Chowdhury': 1, 'Chamara Kapugedera': 1, 'Hammad Azam': 1, 'Yasir Shah': 1, 'Dhiman Ghosh': 1, 'Abdullah Al Mamun': 1, 'Mohammad Sharif': 1, 'Lasith Malinga': 1, 'Usama Mir': 1, 'Rashid Khan': 1, 'Mehrab Hossain jnr': 1, 'Jacob Oram': 1, 'Simon Katich': 1, 'Sulieman Benn': 1, 'David Miller': 1, 'Noor Hossain': 1, 'Hardus Viljoen': 1, 'Chaturanga de Silva': 1, 'Taibur Rahman': 1, 'Rumman Raees': 1, 'Anwar Ali': 1, 'Gihan Rupasinghe': 1, 'Rameez Raja': 1, 'Muthiah Muralidaran': 1, 'Faisal Hossain': 0, 'Yasir Arafat': 0, 'Tom Abell': 0, 'Brad Hogg': 0, 'Qaiser Abbas': 0, 'Aftab Ahmed': 0, 'Sohrawordi Shuvo': 0, 'Fawad Alam': 0, 'Gary Keedy': 0, 'Nabil Samad': 0, 'Al-Amin Hossain': 0, 'Syed Rasel': 0, 'Asif Ahmed': 0, 'Sunzamul Islam': 0, 'Naveen-ul-Haq': 0, 'Rishad Hossain': 0, 'Saqlain Sajib': 0, 'Naved-ul-Hasan': 0, 'Ryan Burl': 0, 'Hasan Mahmud': 0, 'Ebadot Hossain': 0, 'Alexei Kervezee': 0, 'Delwar Hossain': 0, 'Sanjit Saha': 0, 'Talha Jubair': 0, 'Junaid Khan': 0, 'Robiul Islam Robi': 0, 'Saif Hassan': 0, 'Shohidul Islam': 0, 'Pinak Ghosh': 0, 'Aminul Islam': 0, 'Salauddin Sakil': 0, 'Robiul Haque': 0, 'Mukidul Islam': 0, 'Mohammad Irfan': 0, 'Hashim Amla': 0, 'Aamer Yamin': 0, 'Faheem Ashraf': 0, 'Al Islam': 0, 'Nasum Ahmed': 0, 'Mehedi Hasan Rana': 0, 'Ifran Hossain': 0, 'Salman Hossain': 0, 'Munim Shahriar': 0, 'Imran Uzzaman': 0, 'Rejaur Rahman Raja': 0, 'Alzarri Joseph': 0, 'Hasan Murad': 0, 'Shafiqul Islam': 0, 'Sharifullah': 0, 'Mukhtar Ahmed': 0, 'Lahiru Thirimanne': 0, 'Sachithra Senanayake': 0, 'Enamul Haque jnr': 0, 'Saeed Ajmal': 0, 'Mohammad Shahid': 0, 'Ajantha Mendis': 0, 'Shehan Jayasuriya': 0, 'Mosharraf Hossain': 0, 'Fidel Edwards': 0, 'Asif Hasan': 0, 'Subashis Roy': 0, 'Mohammad Hafeez': 0, 'Bilawal Bhatti': 0, 'Sohail Khan': 0, 'Dolar Mahmud': 0, 'Sajedul Islam': 0, 'Nikhil Dutta': 0, 'Adam Lyth': 0, 'Adil Rashid': 0, 'Chris Jordan': 0, 'Wanindu Hasaranga de Silva': 0, 'Samiullah Shinwari': 0, 'Nihaduzzaman': 0, 'Akila Dananjaya': 0, 'Tanbir Hayder': 0, 'Daniel Bell-Drummond': 0, 'Saddam Hossain': 0, 'Naeem Islam jnr': 0, 'Kusal Perera': 0, 'Fakhar Zaman': 0, 'Kyle Abbott': 0, 'Solomon Mire': 0, 'Darren Bravo': 0, 'Mohammad Rizwan': 0, 'Habibur Rahman': 0, 'Graeme Cremer': 0, 'Hossain Ali': 0, 'Raqibul Hasan': 0, 'Qazi Onik': 0, 'Kaushal Lokuarachchi': 0, 'Alfonso Thomas': 0, 'Shapoor Zadran': 0, 'Shahadat Hossain': 0, 'Jubair Ahmed': 0, 'Samuel Badree': 0, 'Shaun Tait': 0, 'Ben Edmondson': 0, 'Amit Kumar': 0, 'Taposh Ghosh': 0, 'Hamid Hassan': 0, 'Bishawnath Halder': 0, 'Chris Liddle': 0, 'Jashimuddin': 0, 'Sandeep Lamichhane': 0, 'Murad Khan': 0, 'Imtiaz Hossain': 0, 'Nazmul Hossain': 0, 'Steven Smith': 0, 'Saju Datta': 0, 'Zahir Khan': 0, 'Heino Kuhn': 0, 'Mohor Sheikh': 0, 'Khaled Ahmed': 0, 'Andrew Birch': 0, 'Mahela Jayawardene': 0, 'Wayne Parnell': 0, 'Imad Wasim': 0, 'Waqar Salamkheil': 0, 'Mohammad Asghar': 0, 'Tymal Mills': 0, 'Grant Elliott': 0, 'Milinda Siriwardana': 0, 'Imran Khan': 0, 'Nuwan Kulasekara': 0, 'Tom Maynard': 0, 'Raza Ali Dar': 0, 'Awais Zia': 0, 'Andre Adams': 0, 'Saghir Hossain': 0, 'Dilhara Lokuhettige': 0, 'Rizwan Cheema': 0}\n"
          ]
        },
        {
          "output_type": "display_data",
          "data": {
            "image/png": "[encoded data removed]",
            "text/plain": [
              "<Figure size 720x720 with 1 Axes>"
            ]
          },
          "metadata": {
            "needs_background": "light"
          }
        }
      ]
    },
    {
      "cell_type": "markdown",
      "source": [
        "bowling"
      ],
      "metadata": {
        "id": "7UDC21py4JgR"
      }
    },
    {
      "cell_type": "code",
      "source": [
        "df=pd.read_csv('/content/drive/MyDrive/JWOC_BPL analysis/bowler.csv')\n",
        "df.head()"
      ],
      "metadata": {
        "colab": {
          "base_uri": "https://localhost:8080/",
          "height": 206
        },
        "id": "RNlMaZBostyP",
        "outputId": "31176b83-9efd-42a2-be7c-4f7a821e0762"
      },
      "execution_count": 91,
      "outputs": [
        {
          "output_type": "execute_result",
          "data": {
            "text/html": [
              "\n",
              "  <div id=\"df-026e03a5-a95b-4b6e-b644-5fc7db129312\">\n",
              "    <div class=\"colab-df-container\">\n",
              "      <div>\n",
              "<style scoped>\n",
              "    .dataframe tbody tr th:only-of-type {\n",
              "        vertical-align: middle;\n",
              "    }\n",
              "\n",
              "    .dataframe tbody tr th {\n",
              "        vertical-align: top;\n",
              "    }\n",
              "\n",
              "    .dataframe thead th {\n",
              "        text-align: right;\n",
              "    }\n",
              "</style>\n",
              "<table border=\"1\" class=\"dataframe\">\n",
              "  <thead>\n",
              "    <tr style=\"text-align: right;\">\n",
              "      <th></th>\n",
              "      <th>id</th>\n",
              "      <th>season</th>\n",
              "      <th>match_no</th>\n",
              "      <th>date</th>\n",
              "      <th>player_name</th>\n",
              "      <th>O</th>\n",
              "      <th>M</th>\n",
              "      <th>R</th>\n",
              "      <th>W</th>\n",
              "      <th>ECON</th>\n",
              "      <th>WD</th>\n",
              "      <th>NB</th>\n",
              "    </tr>\n",
              "  </thead>\n",
              "  <tbody>\n",
              "    <tr>\n",
              "      <th>0</th>\n",
              "      <td>0</td>\n",
              "      <td>2011/12</td>\n",
              "      <td>Final</td>\n",
              "      <td>Feb 29 2012</td>\n",
              "      <td>Mashrafe Mortaza</td>\n",
              "      <td>2.0</td>\n",
              "      <td>0</td>\n",
              "      <td>17</td>\n",
              "      <td>0</td>\n",
              "      <td>8.50</td>\n",
              "      <td>0</td>\n",
              "      <td>0</td>\n",
              "    </tr>\n",
              "    <tr>\n",
              "      <th>1</th>\n",
              "      <td>0</td>\n",
              "      <td>2011/12</td>\n",
              "      <td>Final</td>\n",
              "      <td>Feb 29 2012</td>\n",
              "      <td>Azhar Mahmood</td>\n",
              "      <td>2.0</td>\n",
              "      <td>0</td>\n",
              "      <td>25</td>\n",
              "      <td>0</td>\n",
              "      <td>12.50</td>\n",
              "      <td>0</td>\n",
              "      <td>1</td>\n",
              "    </tr>\n",
              "    <tr>\n",
              "      <th>2</th>\n",
              "      <td>32</td>\n",
              "      <td>2011/12</td>\n",
              "      <td>1st</td>\n",
              "      <td>Feb 10 2012</td>\n",
              "      <td>Yasir Arafat</td>\n",
              "      <td>4.0</td>\n",
              "      <td>0</td>\n",
              "      <td>33</td>\n",
              "      <td>2</td>\n",
              "      <td>8.25</td>\n",
              "      <td>2</td>\n",
              "      <td>0</td>\n",
              "    </tr>\n",
              "    <tr>\n",
              "      <th>3</th>\n",
              "      <td>29</td>\n",
              "      <td>2011/12</td>\n",
              "      <td>4th</td>\n",
              "      <td>Feb 11 2012</td>\n",
              "      <td>Syed Rasel</td>\n",
              "      <td>3.0</td>\n",
              "      <td>0</td>\n",
              "      <td>33</td>\n",
              "      <td>0</td>\n",
              "      <td>11.00</td>\n",
              "      <td>2</td>\n",
              "      <td>0</td>\n",
              "    </tr>\n",
              "    <tr>\n",
              "      <th>4</th>\n",
              "      <td>28</td>\n",
              "      <td>2011/12</td>\n",
              "      <td>5th</td>\n",
              "      <td>Feb 12 2012</td>\n",
              "      <td>Dwayne Bravo</td>\n",
              "      <td>4.0</td>\n",
              "      <td>0</td>\n",
              "      <td>34</td>\n",
              "      <td>1</td>\n",
              "      <td>8.50</td>\n",
              "      <td>3</td>\n",
              "      <td>1</td>\n",
              "    </tr>\n",
              "  </tbody>\n",
              "</table>\n",
              "</div>\n",
              "      <button class=\"colab-df-convert\" onclick=\"convertToInteractive('df-026e03a5-a95b-4b6e-b644-5fc7db129312')\"\n",
              "              title=\"Convert this dataframe to an interactive table.\"\n",
              "              style=\"display:none;\">\n",
              "        \n",
              "  <svg xmlns=\"http://www.w3.org/2000/svg\" height=\"24px\"viewBox=\"0 0 24 24\"\n",
              "       width=\"24px\">\n",
              "    <path d=\"M0 0h24v24H0V0z\" fill=\"none\"/>\n",
              "    <path d=\"M18.56 5.44l.94 2.06.94-2.06 2.06-.94-2.06-.94-.94-2.06-.94 2.06-2.06.94zm-11 1L8.5 8.5l.94-2.06 2.06-.94-2.06-.94L8.5 2.5l-.94 2.06-2.06.94zm10 10l.94 2.06.94-2.06 2.06-.94-2.06-.94-.94-2.06-.94 2.06-2.06.94z\"/><path d=\"M17.41 7.96l-1.37-1.37c-.4-.4-.92-.59-1.43-.59-.52 0-1.04.2-1.43.59L10.3 9.45l-7.72 7.72c-.78.78-.78 2.05 0 2.83L4 21.41c.39.39.9.59 1.41.59.51 0 1.02-.2 1.41-.59l7.78-7.78 2.81-2.81c.8-.78.8-2.07 0-2.86zM5.41 20L4 18.59l7.72-7.72 1.47 1.35L5.41 20z\"/>\n",
              "  </svg>\n",
              "      </button>\n",
              "      \n",
              "  <style>\n",
              "    .colab-df-container {\n",
              "      display:flex;\n",
              "      flex-wrap:wrap;\n",
              "      gap: 12px;\n",
              "    }\n",
              "\n",
              "    .colab-df-convert {\n",
              "      background-color: #E8F0FE;\n",
              "      border: none;\n",
              "      border-radius: 50%;\n",
              "      cursor: pointer;\n",
              "      display: none;\n",
              "      fill: #1967D2;\n",
              "      height: 32px;\n",
              "      padding: 0 0 0 0;\n",
              "      width: 32px;\n",
              "    }\n",
              "\n",
              "    .colab-df-convert:hover {\n",
              "      background-color: #E2EBFA;\n",
              "      box-shadow: 0px 1px 2px rgba(60, 64, 67, 0.3), 0px 1px 3px 1px rgba(60, 64, 67, 0.15);\n",
              "      fill: #174EA6;\n",
              "    }\n",
              "\n",
              "    [theme=dark] .colab-df-convert {\n",
              "      background-color: #3B4455;\n",
              "      fill: #D2E3FC;\n",
              "    }\n",
              "\n",
              "    [theme=dark] .colab-df-convert:hover {\n",
              "      background-color: #434B5C;\n",
              "      box-shadow: 0px 1px 3px 1px rgba(0, 0, 0, 0.15);\n",
              "      filter: drop-shadow(0px 1px 2px rgba(0, 0, 0, 0.3));\n",
              "      fill: #FFFFFF;\n",
              "    }\n",
              "  </style>\n",
              "\n",
              "      <script>\n",
              "        const buttonEl =\n",
              "          document.querySelector('#df-026e03a5-a95b-4b6e-b644-5fc7db129312 button.colab-df-convert');\n",
              "        buttonEl.style.display =\n",
              "          google.colab.kernel.accessAllowed ? 'block' : 'none';\n",
              "\n",
              "        async function convertToInteractive(key) {\n",
              "          const element = document.querySelector('#df-026e03a5-a95b-4b6e-b644-5fc7db129312');\n",
              "          const dataTable =\n",
              "            await google.colab.kernel.invokeFunction('convertToInteractive',\n",
              "                                                     [key], {});\n",
              "          if (!dataTable) return;\n",
              "\n",
              "          const docLinkHtml = 'Like what you see? Visit the ' +\n",
              "            '<a target=\"_blank\" href=https://colab.research.google.com/notebooks/data_table.ipynb>data table notebook</a>'\n",
              "            + ' to learn more about interactive tables.';\n",
              "          element.innerHTML = '';\n",
              "          dataTable['output_type'] = 'display_data';\n",
              "          await google.colab.output.renderOutput(dataTable, element);\n",
              "          const docLink = document.createElement('div');\n",
              "          docLink.innerHTML = docLinkHtml;\n",
              "          element.appendChild(docLink);\n",
              "        }\n",
              "      </script>\n",
              "    </div>\n",
              "  </div>\n",
              "  "
            ],
            "text/plain": [
              "   id   season match_no         date       player_name  ...   R  W   ECON  WD  NB\n",
              "0   0  2011/12    Final  Feb 29 2012  Mashrafe Mortaza  ...  17  0   8.50   0   0\n",
              "1   0  2011/12    Final  Feb 29 2012     Azhar Mahmood  ...  25  0  12.50   0   1\n",
              "2  32  2011/12      1st  Feb 10 2012      Yasir Arafat  ...  33  2   8.25   2   0\n",
              "3  29  2011/12      4th  Feb 11 2012        Syed Rasel  ...  33  0  11.00   2   0\n",
              "4  28  2011/12      5th  Feb 12 2012      Dwayne Bravo  ...  34  1   8.50   3   1\n",
              "\n",
              "[5 rows x 12 columns]"
            ]
          },
          "metadata": {},
          "execution_count": 91
        }
      ]
    },
    {
      "cell_type": "code",
      "source": [
        "wickets_players=dict()\n",
        "for i in df.index:\n",
        " \n",
        "   if(df['W'][i]!='-'):\n",
        "    val=int(df['W'][i])\n",
        "    if df['player_name'][i] not in wickets_players:\n",
        "     wickets_players[df['player_name'][i]]=int(df['W'][i])\n",
        "    else:\n",
        "     wickets_players[df['player_name'][i]]+=int(df['W'][i])\n",
        "wickets_players = dict( sorted(wickets_players.items(), key=operator.itemgetter(1),reverse=True))\n",
        "print('Dictionary in descending order by value : ',wickets_players)    \n",
        "\n",
        "top_5_wickets=dict()\n",
        "j=0\n",
        "for i in wickets_players:\n",
        "  top_5_wickets[i]=wickets_players[i]\n",
        "  j+=1\n",
        "  if(j==5):\n",
        "    break\n",
        "\n",
        "names=list(top_5_wickets.keys())\n",
        "values=list(top_5_wickets.values())\n",
        "c = ['red', 'yellow', 'black', 'blue', 'orange']\n",
        "f = plt.figure()\n",
        "f.set_figwidth(10)\n",
        "f.set_figheight(10)\n",
        "  \n",
        "plt.bar(range(len(top_5_wickets)), values, tick_label=names,color=c)\n",
        "plt.show() "
      ],
      "metadata": {
        "colab": {
          "base_uri": "https://localhost:8080/",
          "height": 630
        },
        "id": "mmRqWSug4TkZ",
        "outputId": "2eea0287-c5f8-424e-cec1-482947819501"
      },
      "execution_count": 92,
      "outputs": [
        {
          "output_type": "stream",
          "name": "stdout",
          "text": [
            "Dictionary in descending order by value :  {'Shakib Al Hasan': 116, 'Rubel Hossain': 95, 'Mashrafe Mortaza': 84, 'Taskin Ahmed': 79, 'Shafiul Islam': 78, 'Farhad Reza': 68, 'Arafat Sunny': 66, 'Kevon Cooper': 63, 'Mohammad Nabi': 61, 'Mustafizur Rahman': 61, 'Thisara Perera': 59, 'Shahid Afridi': 57, 'Abu Jayed': 57, 'Nazmul Islam': 55, 'Andre Russell': 55, 'Dwayne Bravo': 53, 'Al-Amin Hossain': 52, 'Sohag Gazi': 52, 'Taijul Islam': 49, 'Mosharraf Hossain': 48, 'Kamrul Islam': 46, 'Mahmudullah': 45, 'Mehidy Hasan Miraz': 45, 'Abu Hider': 45, 'Mohammad Saifuddin': 45, 'Mohammad Sami': 44, 'Ravi Bopara': 42, 'Abul Hasan': 41, 'Junaid Khan': 38, 'Mohammad Amir': 38, 'Nasir Hossain': 37, 'Mahedi Hasan': 37, 'Sunzamul Islam': 35, 'Abdur Razzak': 34, 'Sohail Tanvir': 34, 'Alok Kapali': 33, 'Sunil Narine': 33, 'Mohammad Shahid': 33, 'Robbie Frylinck': 32, 'Enamul Haque jnr': 31, 'Shohidul Islam': 31, 'Nabil Samad': 30, 'Saqlain Sajib': 30, 'Azhar Mahmood': 28, 'Elias Sunny': 27, 'Wahab Riaz': 27, 'Mehedi Hasan Rana': 26, 'Ebadot Hossain': 26, 'Khaled Ahmed': 24, 'Monir Hossain': 22, 'Kesrick Williams': 22, 'Mohammad Irfan': 22, 'Rayad Emrit': 21, 'Sohrawordi Shuvo': 20, 'Alfonso Thomas': 20, 'Afif Hossain': 20, 'Mujeeb Ur Rahman': 20, 'Rashid Khan': 19, 'Soumya Sarkar': 19, 'Shuvagata Hom': 18, 'Nayeem Hasan': 17, 'Ashar Zaidi': 17, 'Nasum Ahmed': 17, 'Muktar Ali': 16, 'Krishmar Santokie': 16, 'Mosaddek Hossain': 16, 'Hasan Ali': 16, 'Isuru Udana': 16, 'Benny Howell': 16, 'Shoaib Malik': 15, 'Nahidul Islam': 15, 'Elton Chigumbura': 15, 'Lewis Gregory': 15, 'Kabir Ali': 14, 'Samit Patel': 14, 'Subashis Roy': 14, 'Yasir Arafat': 13, 'Seekkuge Prasanna': 13, 'Dwayne Smith': 13, 'Shoriful Islam': 13, 'Liam Dawson': 13, \"Kevin O'Brien\": 12, 'Mohammad Nawaz': 12, 'Yasir Shah': 12, 'Naved-ul-Hasan': 11, 'Dilshan Munaweera': 11, 'James Franklin': 11, 'Naeem Islam jnr': 11, 'Fidel Edwards': 11, 'David Wiese': 11, 'Ziaur Rahman': 11, 'Imran Khan': 11, 'Shadab Khan': 11, 'Jofra Archer': 10, 'Liam Plunkett': 10, 'Carlos Brathwaite': 10, 'Qazi Onik': 10, 'Jacob Oram': 10, 'Shaun Tait': 10, 'Shapoor Zadran': 10, 'Daren Sammy': 10, 'Nuwan Kulasekara': 10, 'Tanvir Islam': 10, 'Hasan Mahmud': 10, 'Sean Ervine': 9, 'Lasith Malinga': 9, 'Qais Ahmad': 9, 'Marlon Samuels': 8, 'Cameron Delport': 8, 'Luis Reece': 8, 'Dirk Nannes': 8, 'Ryan ten Doeschate': 8, 'Mrittunjoy Chowdhury': 8, 'Nazmul Hossain': 7, 'Alauddin Babu': 7, 'Mohammad Sharif': 7, 'Hamid Hassan': 7, 'Al Islam': 7, 'Peter Trego': 6, 'Naeem Islam': 6, 'Sikandar Raza': 6, 'Kaushal Lokuarachchi': 6, 'Daniel Harris': 6, 'Mukidul Islam': 6, 'Sherfane Rutherford': 6, 'Abdul Razzaq': 5, 'Kieron Pollard': 5, 'Mohammad Ashraful': 5, 'Noor Hossain': 5, 'Tim Bresnan': 5, 'Chris Liddle': 5, 'Dimitri Mascarenhas': 5, 'Ben Edmondson': 5, 'Farhad Hossain': 5, 'Mominul Haque': 5, 'Saju Datta': 5, 'Dasun Shanaka': 5, 'Sanjit Saha': 5, 'Tymal Mills': 5, 'Naveen-ul-Haq': 5, 'Alzarri Joseph': 5, 'Karim Janat': 5, 'Saeed Ajmal': 4, 'Sanath Jayasuriya': 4, 'Shahadat Hossain': 4, 'Asif Ahmed': 4, 'Ahmed Shehzad': 4, 'Hossain Ali': 4, 'Tanbir Hayder': 4, 'Samuel Badree': 4, 'Dolar Mahmud': 4, 'Farveez Maharoof': 4, 'Tillakaratne Dilshan': 4, 'Sajedul Islam': 4, 'Paul Stirling': 4, 'Mohammad Hafeez': 4, 'Sandeep Lamichhane': 4, 'Hardus Viljoen': 4, 'Rumman Raees': 4, 'Jake Lintott': 4, 'Shafiqul Islam': 4, 'Aminul Islam': 4, 'Ryan Burl': 4, 'Delwar Hossain': 4, 'Marshall Ayub': 4, 'Shane Harwood': 3, 'Darren Stevens': 3, 'Brad Hogg': 3, 'Al-Amin': 3, 'Saddam Hossain': 3, 'Graeme Cremer': 3, 'Sharifullah': 3, 'Moeen Ali': 3, 'Bishawnath Halder': 3, 'Mohor Sheikh': 3, 'Andrew Birch': 3, 'Richard Gleeson': 3, 'Bilawal Bhatti': 3, 'Nikhil Dutta': 3, 'Sabbir Rahman': 3, 'Chris Gayle': 2, 'Muthiah Muralidaran': 2, 'Dilhara Lokuhettige': 2, 'Scott Styris': 2, 'Fawad Alam': 2, 'Brad Hodge': 2, 'Ross Whiteley': 2, 'Zahir Khan': 2, 'Stiaan van Zyl': 2, 'Taposh Ghosh': 2, 'Amit Kumar': 2, 'Sulieman Benn': 2, 'Murad Khan': 2, 'Danza Hyatt': 2, 'Jehan Mubarak': 2, 'Ali Khan': 2, 'Asif Hasan': 2, 'Robiul Haque': 2, 'Wayne Parnell': 2, 'Imad Wasim': 2, 'Najmul Hossain Shanto': 2, 'Anwar Ali': 2, 'Matt Coles': 2, 'Mohammad Enamul': 2, 'Ronsford Beaton': 2, 'Hasan Murad': 2, 'Andre Fletcher': 2, 'Rejaur Rahman Raja': 2, 'Tom Abell': 2, 'Faheem Ashraf': 2, 'Qaiser Abbas': 1, 'Akila Dananjaya': 1, 'Habibur Rahman': 1, 'Samiullah Shinwari': 1, 'Kyle Abbott': 1, 'Adil Rashid': 1, 'Usama Mir': 1, 'Solomon Mire': 1, 'Tapash Baisya': 1, 'Mahbubul Alam': 1, 'Dawid Malan': 1, 'Ariful Haque': 1, 'Minhajul Abedin Afridi': 1, 'Ajantha Mendis': 1, 'Mohammad Asghar': 1, 'Sachithra Senanayake': 1, 'Hammad Azam': 1, 'Grant Elliott': 1, 'Taibur Rahman': 1, 'Will Jacks': 1, 'Salauddin Sakil': 1, 'Robiul Islam Robi': 1, 'Ifran Hossain': 1, 'Nazmul Hossain Milon': 1, 'Johnson Charles': 1, 'Shamsur Rahman': 1, 'Syed Rasel': 0, 'Andre Adams': 0, 'Talha Jubair': 0, 'Faisal Hossain': 0, 'Gary Keedy': 0, 'Danushka Gunathilaka': 0, 'Nihaduzzaman': 0, 'Chris Jordan': 0, 'Ghulam Mudassar': 0, 'Simon Katich': 0, 'Mahmudul Hasan': 0, 'Josh Cobb': 0, 'Cameron Borgas': 0, 'Chamara Kapugedera': 0, 'Jeevan Mendis': 0, 'Shykat Ali': 0, 'Sohail Khan': 0, 'Milinda Siriwardana': 0, 'Fazle Mahmud': 0, 'Yasir Ali': 0, 'Shiraz Ahmed': 0, 'Sumon Khan': 0, 'Towhid Hridoy': 0, 'Rishad Hossain': 0, 'Aamer Yamin': 0, 'Mehrab Hossain jnr': 0, 'Raza Ali Dar': 0}\n"
          ]
        },
        {
          "output_type": "display_data",
          "data": {
            "image/png": "[encoded data removed]",
            "text/plain": [
              "<Figure size 720x720 with 1 Axes>"
            ]
          },
          "metadata": {
            "needs_background": "light"
          }
        }
      ]
    }
  ]
}